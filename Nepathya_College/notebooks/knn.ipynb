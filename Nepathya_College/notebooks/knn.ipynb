{
 "cells": [
  {
   "cell_type": "markdown",
   "id": "e1f9a4ab",
   "metadata": {},
   "source": [
    "# KNN Algorithm\n",
    "\n",
    "<li>The KNearest Neighbor(KNN) algorithm is a type of supervised Learning used for classification and regression</li>\n",
    "<li>This algorithm considers the K closest neighbors to predict the class or continuous value for a new datapoint.</li>\n",
    "<li>KNN is a non parametric and an instance-based learning algorithm.</li>\n",
    "<li>Instead of learning the weights from training data, it memorizes the entire training instances to predict the output for new data.</li>\n",
    "<li>KNN has additional applications such as imputing missing values and resampling datasets.</li>\n",
    "<li>KNN algorithm is considered lazy learning because the learning process is postponed until prediction is requested on the new instance.</li>"
   ]
  },
  {
   "cell_type": "markdown",
   "id": "f6a32b31",
   "metadata": {},
   "source": [
    "## How KNN works?\n",
    "\n",
    "<li>The working of KNN is explained in the following steps:</li>\n",
    "<ol>\n",
    "    <li>Compute <b>similarity metric</b> for a new test case from the group of items.</li>\n",
    "    <li>Rank each listing by the similarity metric and select the top <b>k</b> listings with respect to the test case.</li>\n",
    "    <li>Calculate the average of top <b>k</b> items or mode of top n items based on the problem statement and return it as a prediction.</li>\n",
    "</ol>"
   ]
  },
  {
   "cell_type": "markdown",
   "id": "ae5fb4f5",
   "metadata": {},
   "source": [
    "## Parameters Of KNN Algorithm\n",
    "\n",
    "<li>There are two things we need to choose prior to applying KNN algorithm. They are:</li>\n",
    "<ol>\n",
    "    <li>Choice of similarity metric</li>\n",
    "    <li>Choosing appropriate value of k</li>\n",
    "</ol>"
   ]
  },
  {
   "cell_type": "markdown",
   "id": "393e6f41",
   "metadata": {},
   "source": [
    "## Similarity Metric\n",
    "\n",
    "<li>The KNN algorithm offers a variety of similarity metrics (distance metrics) to choose from. Some of them are:</li>\n",
    "<ol>\n",
    "    <li>Minkowski distance</li>\n",
    "    <li>Manhattan distance</li>\n",
    "    <li>Euclidean distance</li>\n",
    "    <li>Cosine similarity</li>\n",
    "    <li>Jaccard similarity</li>\n",
    "<ol>\n",
    "        "
   ]
  },
  {
   "cell_type": "markdown",
   "id": "38794910",
   "metadata": {},
   "source": [
    "### Minkowski Distance\n",
    "<li>Minkowski distance is a distance/ similarity measurement between two points in the normed vector space (N dimensional real space)</li>\n",
    "<li>It is a generalization of the Euclidean distance and the Manhattan distance.</li>\n",
    "<li>It is given by the formula:</li>\n",
    "\n",
    "![](images/minoski_distance.png)\n",
    "\n"
   ]
  },
  {
   "cell_type": "markdown",
   "id": "84a5ec6a",
   "metadata": {},
   "source": [
    "### Manhattan Distance\n",
    "\n",
    "<li>Manhattan distance is a distance measure that is calculated by taking the sum of distances between the x and y coordinates.</li>\n",
    "<li>We can derive the formula to compute manhattan distance from minkowski distance formula.</li>\n",
    "<li>When we substitute the value for p=1, then we get the formula to compute manhattan distance.</li>\n",
    "<li>The formula to compute Manhattan distance is given by:</li>\n",
    "\n",
    "![](images/manhattan_dist.jpg)"
   ]
  },
  {
   "cell_type": "markdown",
   "id": "d37b6f70",
   "metadata": {},
   "source": [
    "### Euclidean Distance\n",
    "<li>Euclidean distance is a distance measure that is calculated by taking the square root of the sum of squared distances between the x and y coordinates.</li>\n",
    "<li>We can also derive the formula to compute euclidean distance from minkowski distance formula.</li>\n",
    "<li>When we substitute the value for p=2, then we get the formula to compute euclidean distance.</li>\n",
    "<li>The formula to compute Euclidean distance is given by:</li>\n",
    "\n",
    "![](images/euclidean_dist.jpg)"
   ]
  },
  {
   "cell_type": "markdown",
   "id": "6d1a82d7",
   "metadata": {},
   "source": [
    "### How To Choose Appropriate Value Of K\n",
    "\n",
    "<li>K is a crucial parameter in the KNN algorithm.Some suggestions for choosing K Value are:</li>\n",
    "<li>K value should be odd while considering binary(two-class) classification.</li>\n",
    "<li>There are no pre-defined statistical methods to find the appropriate value of K.</li>\n",
    "<li>Initialize a random K value and start computing.</li>\n",
    "<li>Choosing a small value of K leads to unstable decision boundaries.</li>\n",
    "<li>The optimal K value usually found is the square root of N, where N is the total number of samples.</li>\n",
    "<li>The substantial K value is better for classification as it leads to smoothening the decision boundaries.</li>\n",
    "<li>Domain knowledge can be very useful in choosing the K value.</li>\n",
    "<li>Derive a plot between error and K denoting values in a defined range. Then choose the K value as having a minimum error.</li>\n",
    "\n"
   ]
  },
  {
   "cell_type": "markdown",
   "id": "906e0696",
   "metadata": {},
   "source": [
    "### Data Preparation For Applying KNN\n",
    "\n",
    "<b>1. Feature Scaling:</b>\n",
    "<li>The first step in data preparation is to perform data scaling.</li>\n",
    "<li>This is done to ensure that all features are on the same scale, which is important for locating data points in a multidimensional feature space.</li>\n",
    "<li>Normalization or standardization techniques can be used to achieve this goal.</li>\n",
    "<li>By scaling the data, it becomes easier to compare and analyze the features and ensure that the KNN algorithm can accurately identify the nearest neighbors.</li>\n",
    "\n",
    "<b>2. Dimensionality Reduction:</b>\n",
    "<li>KNN may not work well if there are too many features.</li>\n",
    "<li>Hence dimensionality reduction techniques like feature selection, principal component analysis can be implemented.</li>\n",
    "\n",
    "<b>3. Missing value treatment:</b>\n",
    "<li>If out of M features one feature data is missing for a particular example in the training set then we cannot locate or calculate distance from that point.</li>\n",
    "<li>Therefore deleting that row or imputation is required.</li>"
   ]
  },
  {
   "cell_type": "markdown",
   "id": "287b4ab3",
   "metadata": {},
   "source": [
    "### KNN For Classification\n",
    "\n",
    "<li>Suppose, we have a binary classification problems with two class; <b>Class A(red star)</b> and <b>Class B(green triangle)</b>.</li>\n",
    "<li>Let us suppose, we wanted to classify a new data point which is represented as <b>'?'</b> in the figure.</li>\n",
    "\n",
    "\n",
    "![](images/knn_classifier1.png)"
   ]
  },
  {
   "cell_type": "markdown",
   "id": "47fc7e8c",
   "metadata": {},
   "source": [
    "![](images/knn_classifier2.png)\n",
    "\n",
    "<li>Then we will compute the distance from the new data point to all possible data points we have in our training set.</li>\n",
    "<li>We can compute any distance metrics; euclidean or manhattan distance and then rank the similarity based on their distance metrics.</li>"
   ]
  },
  {
   "cell_type": "markdown",
   "id": "43a8a9df",
   "metadata": {},
   "source": [
    "![](images/knn_classifier3.png)\n",
    "\n",
    "<li>Once they are ranked, we will choose any value of <b>'k'</b>.</li>\n",
    "<li>Here, <b>k</b> denotes the number of nearest neigbours we are going to look for inorder to predict the new test data.</li>\n",
    "<li>If <b>k=3</b> then, we will look into the 3 nearest neighbors with the smallest distance to the test data.</li>\n",
    "<li>Then we will assign the newly test data with a class which occurs most often among the nearest neighbors.</li>\n",
    "<li>In the figure, out of 3 nearest neighbors, two of them belong to 'Class B' so we assign the newly test data with 'Class B'.</li>"
   ]
  },
  {
   "cell_type": "markdown",
   "id": "99552d42",
   "metadata": {},
   "source": [
    "![](images/knn_classifier4.png)\n",
    "\n",
    "<li>But when k=7, we will look for 7 nearest neighbors inorder to classify the new test data.</li>\n",
    "<li>In the figure, out of 4 nearest neighbors, 4 of them belong to 'Class A' and 3 of them belong to 'Class B'.</li>\n",
    "<li>Based on majority vote counting, we assign the new test data with 'Class A'.</li>"
   ]
  },
  {
   "cell_type": "code",
   "execution_count": 1,
   "id": "2fa9b798",
   "metadata": {},
   "outputs": [],
   "source": [
    "import pandas as pd"
   ]
  },
  {
   "cell_type": "code",
   "execution_count": 5,
   "id": "bdbb2cb3",
   "metadata": {},
   "outputs": [
    {
     "name": "stdout",
     "output_type": "stream",
     "text": [
      "(150, 6)\n"
     ]
    }
   ],
   "source": [
    "df = pd.read_csv('csv_data/Iris.csv')\n",
    "print(df.shape)"
   ]
  },
  {
   "cell_type": "code",
   "execution_count": 6,
   "id": "30a04887",
   "metadata": {},
   "outputs": [
    {
     "data": {
      "text/html": [
       "<div>\n",
       "<style scoped>\n",
       "    .dataframe tbody tr th:only-of-type {\n",
       "        vertical-align: middle;\n",
       "    }\n",
       "\n",
       "    .dataframe tbody tr th {\n",
       "        vertical-align: top;\n",
       "    }\n",
       "\n",
       "    .dataframe thead th {\n",
       "        text-align: right;\n",
       "    }\n",
       "</style>\n",
       "<table border=\"1\" class=\"dataframe\">\n",
       "  <thead>\n",
       "    <tr style=\"text-align: right;\">\n",
       "      <th></th>\n",
       "      <th>Id</th>\n",
       "      <th>SepalLengthCm</th>\n",
       "      <th>SepalWidthCm</th>\n",
       "      <th>PetalLengthCm</th>\n",
       "      <th>PetalWidthCm</th>\n",
       "      <th>Species</th>\n",
       "    </tr>\n",
       "  </thead>\n",
       "  <tbody>\n",
       "    <tr>\n",
       "      <th>0</th>\n",
       "      <td>1</td>\n",
       "      <td>5.1</td>\n",
       "      <td>3.5</td>\n",
       "      <td>1.4</td>\n",
       "      <td>0.2</td>\n",
       "      <td>Iris-setosa</td>\n",
       "    </tr>\n",
       "    <tr>\n",
       "      <th>1</th>\n",
       "      <td>2</td>\n",
       "      <td>4.9</td>\n",
       "      <td>3.0</td>\n",
       "      <td>1.4</td>\n",
       "      <td>0.2</td>\n",
       "      <td>Iris-setosa</td>\n",
       "    </tr>\n",
       "    <tr>\n",
       "      <th>2</th>\n",
       "      <td>3</td>\n",
       "      <td>4.7</td>\n",
       "      <td>3.2</td>\n",
       "      <td>1.3</td>\n",
       "      <td>0.2</td>\n",
       "      <td>Iris-setosa</td>\n",
       "    </tr>\n",
       "    <tr>\n",
       "      <th>3</th>\n",
       "      <td>4</td>\n",
       "      <td>4.6</td>\n",
       "      <td>3.1</td>\n",
       "      <td>1.5</td>\n",
       "      <td>0.2</td>\n",
       "      <td>Iris-setosa</td>\n",
       "    </tr>\n",
       "    <tr>\n",
       "      <th>4</th>\n",
       "      <td>5</td>\n",
       "      <td>5.0</td>\n",
       "      <td>3.6</td>\n",
       "      <td>1.4</td>\n",
       "      <td>0.2</td>\n",
       "      <td>Iris-setosa</td>\n",
       "    </tr>\n",
       "  </tbody>\n",
       "</table>\n",
       "</div>"
      ],
      "text/plain": [
       "   Id  SepalLengthCm  SepalWidthCm  PetalLengthCm  PetalWidthCm      Species\n",
       "0   1            5.1           3.5            1.4           0.2  Iris-setosa\n",
       "1   2            4.9           3.0            1.4           0.2  Iris-setosa\n",
       "2   3            4.7           3.2            1.3           0.2  Iris-setosa\n",
       "3   4            4.6           3.1            1.5           0.2  Iris-setosa\n",
       "4   5            5.0           3.6            1.4           0.2  Iris-setosa"
      ]
     },
     "execution_count": 6,
     "metadata": {},
     "output_type": "execute_result"
    }
   ],
   "source": [
    "df.head()"
   ]
  },
  {
   "cell_type": "code",
   "execution_count": 8,
   "id": "954f47a2",
   "metadata": {},
   "outputs": [
    {
     "data": {
      "text/html": [
       "<div>\n",
       "<style scoped>\n",
       "    .dataframe tbody tr th:only-of-type {\n",
       "        vertical-align: middle;\n",
       "    }\n",
       "\n",
       "    .dataframe tbody tr th {\n",
       "        vertical-align: top;\n",
       "    }\n",
       "\n",
       "    .dataframe thead th {\n",
       "        text-align: right;\n",
       "    }\n",
       "</style>\n",
       "<table border=\"1\" class=\"dataframe\">\n",
       "  <thead>\n",
       "    <tr style=\"text-align: right;\">\n",
       "      <th></th>\n",
       "      <th>SepalLengthCm</th>\n",
       "      <th>SepalWidthCm</th>\n",
       "      <th>PetalLengthCm</th>\n",
       "      <th>PetalWidthCm</th>\n",
       "      <th>Species</th>\n",
       "    </tr>\n",
       "  </thead>\n",
       "  <tbody>\n",
       "    <tr>\n",
       "      <th>0</th>\n",
       "      <td>5.1</td>\n",
       "      <td>3.5</td>\n",
       "      <td>1.4</td>\n",
       "      <td>0.2</td>\n",
       "      <td>Iris-setosa</td>\n",
       "    </tr>\n",
       "    <tr>\n",
       "      <th>1</th>\n",
       "      <td>4.9</td>\n",
       "      <td>3.0</td>\n",
       "      <td>1.4</td>\n",
       "      <td>0.2</td>\n",
       "      <td>Iris-setosa</td>\n",
       "    </tr>\n",
       "    <tr>\n",
       "      <th>2</th>\n",
       "      <td>4.7</td>\n",
       "      <td>3.2</td>\n",
       "      <td>1.3</td>\n",
       "      <td>0.2</td>\n",
       "      <td>Iris-setosa</td>\n",
       "    </tr>\n",
       "    <tr>\n",
       "      <th>3</th>\n",
       "      <td>4.6</td>\n",
       "      <td>3.1</td>\n",
       "      <td>1.5</td>\n",
       "      <td>0.2</td>\n",
       "      <td>Iris-setosa</td>\n",
       "    </tr>\n",
       "    <tr>\n",
       "      <th>4</th>\n",
       "      <td>5.0</td>\n",
       "      <td>3.6</td>\n",
       "      <td>1.4</td>\n",
       "      <td>0.2</td>\n",
       "      <td>Iris-setosa</td>\n",
       "    </tr>\n",
       "  </tbody>\n",
       "</table>\n",
       "</div>"
      ],
      "text/plain": [
       "   SepalLengthCm  SepalWidthCm  PetalLengthCm  PetalWidthCm      Species\n",
       "0            5.1           3.5            1.4           0.2  Iris-setosa\n",
       "1            4.9           3.0            1.4           0.2  Iris-setosa\n",
       "2            4.7           3.2            1.3           0.2  Iris-setosa\n",
       "3            4.6           3.1            1.5           0.2  Iris-setosa\n",
       "4            5.0           3.6            1.4           0.2  Iris-setosa"
      ]
     },
     "execution_count": 8,
     "metadata": {},
     "output_type": "execute_result"
    }
   ],
   "source": [
    "df = df.drop('Id', axis = 1)\n",
    "df.head()"
   ]
  },
  {
   "cell_type": "code",
   "execution_count": 9,
   "id": "375fbe7b",
   "metadata": {},
   "outputs": [],
   "source": [
    "data = df.drop('Species', axis = 1)\n",
    "labels = df['Species']"
   ]
  },
  {
   "cell_type": "code",
   "execution_count": 10,
   "id": "23a84397",
   "metadata": {},
   "outputs": [
    {
     "name": "stdout",
     "output_type": "stream",
     "text": [
      "(150, 4)\n",
      "(150,)\n"
     ]
    }
   ],
   "source": [
    "print(data.shape)\n",
    "print(labels.shape)"
   ]
  },
  {
   "cell_type": "code",
   "execution_count": 11,
   "id": "b5ec2e15",
   "metadata": {},
   "outputs": [],
   "source": [
    "from sklearn.model_selection import train_test_split"
   ]
  },
  {
   "cell_type": "code",
   "execution_count": 12,
   "id": "57d9be67",
   "metadata": {},
   "outputs": [],
   "source": [
    "x_train, x_test, y_train, y_test = train_test_split(data, labels,\n",
    "                                                   test_size = 0.25,\n",
    "                                                    random_state = 42,\n",
    "                                                   stratify = labels)"
   ]
  },
  {
   "cell_type": "code",
   "execution_count": 13,
   "id": "f0f8a937",
   "metadata": {},
   "outputs": [
    {
     "name": "stdout",
     "output_type": "stream",
     "text": [
      "(112, 4)\n",
      "(112,)\n",
      "(38, 4)\n",
      "(38,)\n"
     ]
    }
   ],
   "source": [
    "print(x_train.shape)\n",
    "print(y_train.shape)\n",
    "\n",
    "print(x_test.shape)\n",
    "print(y_test.shape)"
   ]
  },
  {
   "cell_type": "markdown",
   "id": "49cfeb46",
   "metadata": {},
   "source": [
    "### Feature Scaling"
   ]
  },
  {
   "cell_type": "code",
   "execution_count": 17,
   "id": "f6a30f3c",
   "metadata": {},
   "outputs": [],
   "source": [
    "from sklearn.preprocessing import StandardScaler"
   ]
  },
  {
   "cell_type": "code",
   "execution_count": 18,
   "id": "c18ce3f3",
   "metadata": {},
   "outputs": [],
   "source": [
    "scaler = StandardScaler()"
   ]
  },
  {
   "cell_type": "code",
   "execution_count": 19,
   "id": "5c45a7a6",
   "metadata": {},
   "outputs": [
    {
     "data": {
      "text/html": [
       "<div>\n",
       "<style scoped>\n",
       "    .dataframe tbody tr th:only-of-type {\n",
       "        vertical-align: middle;\n",
       "    }\n",
       "\n",
       "    .dataframe tbody tr th {\n",
       "        vertical-align: top;\n",
       "    }\n",
       "\n",
       "    .dataframe thead th {\n",
       "        text-align: right;\n",
       "    }\n",
       "</style>\n",
       "<table border=\"1\" class=\"dataframe\">\n",
       "  <thead>\n",
       "    <tr style=\"text-align: right;\">\n",
       "      <th></th>\n",
       "      <th>SepalLengthCm</th>\n",
       "      <th>SepalWidthCm</th>\n",
       "      <th>PetalLengthCm</th>\n",
       "      <th>PetalWidthCm</th>\n",
       "    </tr>\n",
       "  </thead>\n",
       "  <tbody>\n",
       "    <tr>\n",
       "      <th>130</th>\n",
       "      <td>7.4</td>\n",
       "      <td>2.8</td>\n",
       "      <td>6.1</td>\n",
       "      <td>1.9</td>\n",
       "    </tr>\n",
       "    <tr>\n",
       "      <th>122</th>\n",
       "      <td>7.7</td>\n",
       "      <td>2.8</td>\n",
       "      <td>6.7</td>\n",
       "      <td>2.0</td>\n",
       "    </tr>\n",
       "    <tr>\n",
       "      <th>81</th>\n",
       "      <td>5.5</td>\n",
       "      <td>2.4</td>\n",
       "      <td>3.7</td>\n",
       "      <td>1.0</td>\n",
       "    </tr>\n",
       "    <tr>\n",
       "      <th>71</th>\n",
       "      <td>6.1</td>\n",
       "      <td>2.8</td>\n",
       "      <td>4.0</td>\n",
       "      <td>1.3</td>\n",
       "    </tr>\n",
       "    <tr>\n",
       "      <th>89</th>\n",
       "      <td>5.5</td>\n",
       "      <td>2.5</td>\n",
       "      <td>4.0</td>\n",
       "      <td>1.3</td>\n",
       "    </tr>\n",
       "    <tr>\n",
       "      <th>...</th>\n",
       "      <td>...</td>\n",
       "      <td>...</td>\n",
       "      <td>...</td>\n",
       "      <td>...</td>\n",
       "    </tr>\n",
       "    <tr>\n",
       "      <th>49</th>\n",
       "      <td>5.0</td>\n",
       "      <td>3.3</td>\n",
       "      <td>1.4</td>\n",
       "      <td>0.2</td>\n",
       "    </tr>\n",
       "    <tr>\n",
       "      <th>21</th>\n",
       "      <td>5.1</td>\n",
       "      <td>3.7</td>\n",
       "      <td>1.5</td>\n",
       "      <td>0.4</td>\n",
       "    </tr>\n",
       "    <tr>\n",
       "      <th>45</th>\n",
       "      <td>4.8</td>\n",
       "      <td>3.0</td>\n",
       "      <td>1.4</td>\n",
       "      <td>0.3</td>\n",
       "    </tr>\n",
       "    <tr>\n",
       "      <th>92</th>\n",
       "      <td>5.8</td>\n",
       "      <td>2.6</td>\n",
       "      <td>4.0</td>\n",
       "      <td>1.2</td>\n",
       "    </tr>\n",
       "    <tr>\n",
       "      <th>47</th>\n",
       "      <td>4.6</td>\n",
       "      <td>3.2</td>\n",
       "      <td>1.4</td>\n",
       "      <td>0.2</td>\n",
       "    </tr>\n",
       "  </tbody>\n",
       "</table>\n",
       "<p>112 rows × 4 columns</p>\n",
       "</div>"
      ],
      "text/plain": [
       "     SepalLengthCm  SepalWidthCm  PetalLengthCm  PetalWidthCm\n",
       "130            7.4           2.8            6.1           1.9\n",
       "122            7.7           2.8            6.7           2.0\n",
       "81             5.5           2.4            3.7           1.0\n",
       "71             6.1           2.8            4.0           1.3\n",
       "89             5.5           2.5            4.0           1.3\n",
       "..             ...           ...            ...           ...\n",
       "49             5.0           3.3            1.4           0.2\n",
       "21             5.1           3.7            1.5           0.4\n",
       "45             4.8           3.0            1.4           0.3\n",
       "92             5.8           2.6            4.0           1.2\n",
       "47             4.6           3.2            1.4           0.2\n",
       "\n",
       "[112 rows x 4 columns]"
      ]
     },
     "execution_count": 19,
     "metadata": {},
     "output_type": "execute_result"
    }
   ],
   "source": [
    "x_train"
   ]
  },
  {
   "cell_type": "code",
   "execution_count": 20,
   "id": "f87b8bcd",
   "metadata": {},
   "outputs": [],
   "source": [
    "scaled_x_train = scaler.fit_transform(x_train)"
   ]
  },
  {
   "cell_type": "code",
   "execution_count": 22,
   "id": "da5266b3",
   "metadata": {},
   "outputs": [],
   "source": [
    "scaled_x_test = scaler.transform(x_test)"
   ]
  },
  {
   "cell_type": "code",
   "execution_count": 14,
   "id": "8de01ce1",
   "metadata": {},
   "outputs": [],
   "source": [
    "from sklearn.neighbors import KNeighborsClassifier\n",
    "from sklearn.neighbors import KNeighborsRegressor"
   ]
  },
  {
   "cell_type": "code",
   "execution_count": 31,
   "id": "982b9bdc",
   "metadata": {},
   "outputs": [],
   "source": [
    "knn = KNeighborsClassifier(n_neighbors = 3)"
   ]
  },
  {
   "cell_type": "code",
   "execution_count": 32,
   "id": "217024e0",
   "metadata": {},
   "outputs": [
    {
     "data": {
      "text/html": [
       "<style>#sk-container-id-4 {color: black;background-color: white;}#sk-container-id-4 pre{padding: 0;}#sk-container-id-4 div.sk-toggleable {background-color: white;}#sk-container-id-4 label.sk-toggleable__label {cursor: pointer;display: block;width: 100%;margin-bottom: 0;padding: 0.3em;box-sizing: border-box;text-align: center;}#sk-container-id-4 label.sk-toggleable__label-arrow:before {content: \"▸\";float: left;margin-right: 0.25em;color: #696969;}#sk-container-id-4 label.sk-toggleable__label-arrow:hover:before {color: black;}#sk-container-id-4 div.sk-estimator:hover label.sk-toggleable__label-arrow:before {color: black;}#sk-container-id-4 div.sk-toggleable__content {max-height: 0;max-width: 0;overflow: hidden;text-align: left;background-color: #f0f8ff;}#sk-container-id-4 div.sk-toggleable__content pre {margin: 0.2em;color: black;border-radius: 0.25em;background-color: #f0f8ff;}#sk-container-id-4 input.sk-toggleable__control:checked~div.sk-toggleable__content {max-height: 200px;max-width: 100%;overflow: auto;}#sk-container-id-4 input.sk-toggleable__control:checked~label.sk-toggleable__label-arrow:before {content: \"▾\";}#sk-container-id-4 div.sk-estimator input.sk-toggleable__control:checked~label.sk-toggleable__label {background-color: #d4ebff;}#sk-container-id-4 div.sk-label input.sk-toggleable__control:checked~label.sk-toggleable__label {background-color: #d4ebff;}#sk-container-id-4 input.sk-hidden--visually {border: 0;clip: rect(1px 1px 1px 1px);clip: rect(1px, 1px, 1px, 1px);height: 1px;margin: -1px;overflow: hidden;padding: 0;position: absolute;width: 1px;}#sk-container-id-4 div.sk-estimator {font-family: monospace;background-color: #f0f8ff;border: 1px dotted black;border-radius: 0.25em;box-sizing: border-box;margin-bottom: 0.5em;}#sk-container-id-4 div.sk-estimator:hover {background-color: #d4ebff;}#sk-container-id-4 div.sk-parallel-item::after {content: \"\";width: 100%;border-bottom: 1px solid gray;flex-grow: 1;}#sk-container-id-4 div.sk-label:hover label.sk-toggleable__label {background-color: #d4ebff;}#sk-container-id-4 div.sk-serial::before {content: \"\";position: absolute;border-left: 1px solid gray;box-sizing: border-box;top: 0;bottom: 0;left: 50%;z-index: 0;}#sk-container-id-4 div.sk-serial {display: flex;flex-direction: column;align-items: center;background-color: white;padding-right: 0.2em;padding-left: 0.2em;position: relative;}#sk-container-id-4 div.sk-item {position: relative;z-index: 1;}#sk-container-id-4 div.sk-parallel {display: flex;align-items: stretch;justify-content: center;background-color: white;position: relative;}#sk-container-id-4 div.sk-item::before, #sk-container-id-4 div.sk-parallel-item::before {content: \"\";position: absolute;border-left: 1px solid gray;box-sizing: border-box;top: 0;bottom: 0;left: 50%;z-index: -1;}#sk-container-id-4 div.sk-parallel-item {display: flex;flex-direction: column;z-index: 1;position: relative;background-color: white;}#sk-container-id-4 div.sk-parallel-item:first-child::after {align-self: flex-end;width: 50%;}#sk-container-id-4 div.sk-parallel-item:last-child::after {align-self: flex-start;width: 50%;}#sk-container-id-4 div.sk-parallel-item:only-child::after {width: 0;}#sk-container-id-4 div.sk-dashed-wrapped {border: 1px dashed gray;margin: 0 0.4em 0.5em 0.4em;box-sizing: border-box;padding-bottom: 0.4em;background-color: white;}#sk-container-id-4 div.sk-label label {font-family: monospace;font-weight: bold;display: inline-block;line-height: 1.2em;}#sk-container-id-4 div.sk-label-container {text-align: center;}#sk-container-id-4 div.sk-container {/* jupyter's `normalize.less` sets `[hidden] { display: none; }` but bootstrap.min.css set `[hidden] { display: none !important; }` so we also need the `!important` here to be able to override the default hidden behavior on the sphinx rendered scikit-learn.org. See: https://github.com/scikit-learn/scikit-learn/issues/21755 */display: inline-block !important;position: relative;}#sk-container-id-4 div.sk-text-repr-fallback {display: none;}</style><div id=\"sk-container-id-4\" class=\"sk-top-container\"><div class=\"sk-text-repr-fallback\"><pre>KNeighborsClassifier(n_neighbors=3)</pre><b>In a Jupyter environment, please rerun this cell to show the HTML representation or trust the notebook. <br />On GitHub, the HTML representation is unable to render, please try loading this page with nbviewer.org.</b></div><div class=\"sk-container\" hidden><div class=\"sk-item\"><div class=\"sk-estimator sk-toggleable\"><input class=\"sk-toggleable__control sk-hidden--visually\" id=\"sk-estimator-id-4\" type=\"checkbox\" checked><label for=\"sk-estimator-id-4\" class=\"sk-toggleable__label sk-toggleable__label-arrow\">KNeighborsClassifier</label><div class=\"sk-toggleable__content\"><pre>KNeighborsClassifier(n_neighbors=3)</pre></div></div></div></div></div>"
      ],
      "text/plain": [
       "KNeighborsClassifier(n_neighbors=3)"
      ]
     },
     "execution_count": 32,
     "metadata": {},
     "output_type": "execute_result"
    }
   ],
   "source": [
    "knn.fit(scaled_x_train, y_train)"
   ]
  },
  {
   "cell_type": "code",
   "execution_count": 33,
   "id": "6349ede1",
   "metadata": {},
   "outputs": [],
   "source": [
    "y_pred = knn.predict(scaled_x_test)"
   ]
  },
  {
   "cell_type": "code",
   "execution_count": 36,
   "id": "1a664bcf",
   "metadata": {},
   "outputs": [],
   "source": [
    "from sklearn.metrics import accuracy_score, classification_report, confusion_matrix"
   ]
  },
  {
   "cell_type": "code",
   "execution_count": 37,
   "id": "7bae0606",
   "metadata": {},
   "outputs": [
    {
     "data": {
      "text/plain": [
       "0.9210526315789473"
      ]
     },
     "execution_count": 37,
     "metadata": {},
     "output_type": "execute_result"
    }
   ],
   "source": [
    "accuracy_score(y_test, y_pred)"
   ]
  },
  {
   "cell_type": "code",
   "execution_count": 38,
   "id": "6b2f0586",
   "metadata": {},
   "outputs": [
    {
     "data": {
      "text/plain": [
       "array([[12,  0,  0],\n",
       "       [ 0, 13,  0],\n",
       "       [ 0,  3, 10]], dtype=int64)"
      ]
     },
     "execution_count": 38,
     "metadata": {},
     "output_type": "execute_result"
    }
   ],
   "source": [
    "confusion_matrix(y_test, y_pred)"
   ]
  },
  {
   "cell_type": "code",
   "execution_count": 42,
   "id": "10be8045",
   "metadata": {},
   "outputs": [
    {
     "name": "stdout",
     "output_type": "stream",
     "text": [
      "                 precision    recall  f1-score   support\n",
      "\n",
      "    Iris-setosa       1.00      1.00      1.00        12\n",
      "Iris-versicolor       0.81      1.00      0.90        13\n",
      " Iris-virginica       1.00      0.77      0.87        13\n",
      "\n",
      "       accuracy                           0.92        38\n",
      "      macro avg       0.94      0.92      0.92        38\n",
      "   weighted avg       0.94      0.92      0.92        38\n",
      "\n"
     ]
    }
   ],
   "source": [
    "print(classification_report(y_test, y_pred))"
   ]
  },
  {
   "cell_type": "markdown",
   "id": "b58fc41d",
   "metadata": {},
   "source": [
    "### Optimum value of k"
   ]
  },
  {
   "cell_type": "code",
   "execution_count": 44,
   "id": "f2a8342e",
   "metadata": {},
   "outputs": [],
   "source": [
    "accuracy_scores = {}\n",
    "for i in range(3, 20, 2):\n",
    "    knn = KNeighborsClassifier(n_neighbors = i)\n",
    "    knn.fit(scaled_x_train, y_train)\n",
    "    y_pred = knn.predict(scaled_x_test)\n",
    "    acc = accuracy_score(y_test, y_pred)\n",
    "    accuracy_scores[i] = acc"
   ]
  },
  {
   "cell_type": "code",
   "execution_count": 45,
   "id": "906721fd",
   "metadata": {},
   "outputs": [
    {
     "name": "stdout",
     "output_type": "stream",
     "text": [
      "{3: 0.9210526315789473, 5: 0.9210526315789473, 7: 0.9473684210526315, 9: 0.9736842105263158, 11: 0.9736842105263158, 13: 0.9736842105263158, 15: 0.9736842105263158, 17: 0.9736842105263158, 19: 0.9473684210526315}\n"
     ]
    }
   ],
   "source": [
    "print(accuracy_scores)"
   ]
  },
  {
   "cell_type": "code",
   "execution_count": 46,
   "id": "a3135667",
   "metadata": {},
   "outputs": [
    {
     "data": {
      "image/png": "[encoded data removed]",
      "text/plain": [
       "<Figure size 800x600 with 1 Axes>"
      ]
     },
     "metadata": {},
     "output_type": "display_data"
    }
   ],
   "source": [
    "import matplotlib.pyplot as plt\n",
    "\n",
    "plt.figure(figsize = (8, 6))\n",
    "plt.plot(accuracy_scores.keys(), accuracy_scores.values(), marker = 'o')\n",
    "plt.title('Finding the optimal value of K')\n",
    "plt.xlabel('Value of K')\n",
    "plt.ylabel('Accuracy Score')\n",
    "plt.show()\n",
    "\n"
   ]
  },
  {
   "cell_type": "markdown",
   "id": "e1ba4810",
   "metadata": {},
   "source": [
    "### KNN For Regression\n",
    "\n",
    "<li>Incase of regression, the process is same untill the prediction step.</li>\n",
    "<li>Like classification, we will first compute distance similarity metric for the new test data against all training data.</li>\n",
    "<li>Then, we will rank all these distance metrics and based on the value of k we will choose first k values with the lowest distance.</li>\n",
    "<li>Since our target value is continuous incase of regression so instead of predicting the class we need to predict a value.</li>\n",
    "<li>So, for regression, we will predict the average of the top k values and return it as a prediction.</li>\n",
    "\n",
    "![](images/knn_regressor.png)\n",
    "\n",
    "<li>As shown in the above figure, we predict the new data point by computing the average of the top k nearest values(3) in case of example.</li>"
   ]
  },
  {
   "cell_type": "code",
   "execution_count": 48,
   "id": "926fab29",
   "metadata": {},
   "outputs": [
    {
     "name": "stdout",
     "output_type": "stream",
     "text": [
      "(500, 9)\n"
     ]
    }
   ],
   "source": [
    "admission_df = pd.read_csv('csv_data/Admission_data.csv')\n",
    "print(admission_df.shape)"
   ]
  },
  {
   "cell_type": "code",
   "execution_count": 49,
   "id": "e3774c65",
   "metadata": {
    "scrolled": true
   },
   "outputs": [
    {
     "data": {
      "text/html": [
       "<div>\n",
       "<style scoped>\n",
       "    .dataframe tbody tr th:only-of-type {\n",
       "        vertical-align: middle;\n",
       "    }\n",
       "\n",
       "    .dataframe tbody tr th {\n",
       "        vertical-align: top;\n",
       "    }\n",
       "\n",
       "    .dataframe thead th {\n",
       "        text-align: right;\n",
       "    }\n",
       "</style>\n",
       "<table border=\"1\" class=\"dataframe\">\n",
       "  <thead>\n",
       "    <tr style=\"text-align: right;\">\n",
       "      <th></th>\n",
       "      <th>Serial No.</th>\n",
       "      <th>GRE Score</th>\n",
       "      <th>TOEFL Score</th>\n",
       "      <th>University Rating</th>\n",
       "      <th>SOP</th>\n",
       "      <th>LOR</th>\n",
       "      <th>CGPA</th>\n",
       "      <th>Research</th>\n",
       "      <th>Chance of Admit</th>\n",
       "    </tr>\n",
       "  </thead>\n",
       "  <tbody>\n",
       "    <tr>\n",
       "      <th>0</th>\n",
       "      <td>1</td>\n",
       "      <td>337</td>\n",
       "      <td>118</td>\n",
       "      <td>4</td>\n",
       "      <td>4.5</td>\n",
       "      <td>4.5</td>\n",
       "      <td>9.65</td>\n",
       "      <td>1</td>\n",
       "      <td>0.92</td>\n",
       "    </tr>\n",
       "    <tr>\n",
       "      <th>1</th>\n",
       "      <td>2</td>\n",
       "      <td>324</td>\n",
       "      <td>107</td>\n",
       "      <td>4</td>\n",
       "      <td>4.0</td>\n",
       "      <td>4.5</td>\n",
       "      <td>8.87</td>\n",
       "      <td>1</td>\n",
       "      <td>0.76</td>\n",
       "    </tr>\n",
       "    <tr>\n",
       "      <th>2</th>\n",
       "      <td>3</td>\n",
       "      <td>316</td>\n",
       "      <td>104</td>\n",
       "      <td>3</td>\n",
       "      <td>3.0</td>\n",
       "      <td>3.5</td>\n",
       "      <td>8.00</td>\n",
       "      <td>1</td>\n",
       "      <td>0.72</td>\n",
       "    </tr>\n",
       "    <tr>\n",
       "      <th>3</th>\n",
       "      <td>4</td>\n",
       "      <td>322</td>\n",
       "      <td>110</td>\n",
       "      <td>3</td>\n",
       "      <td>3.5</td>\n",
       "      <td>2.5</td>\n",
       "      <td>8.67</td>\n",
       "      <td>1</td>\n",
       "      <td>0.80</td>\n",
       "    </tr>\n",
       "    <tr>\n",
       "      <th>4</th>\n",
       "      <td>5</td>\n",
       "      <td>314</td>\n",
       "      <td>103</td>\n",
       "      <td>2</td>\n",
       "      <td>2.0</td>\n",
       "      <td>3.0</td>\n",
       "      <td>8.21</td>\n",
       "      <td>0</td>\n",
       "      <td>0.65</td>\n",
       "    </tr>\n",
       "  </tbody>\n",
       "</table>\n",
       "</div>"
      ],
      "text/plain": [
       "   Serial No.  GRE Score  TOEFL Score  University Rating  SOP  LOR   CGPA  \\\n",
       "0           1        337          118                  4  4.5   4.5  9.65   \n",
       "1           2        324          107                  4  4.0   4.5  8.87   \n",
       "2           3        316          104                  3  3.0   3.5  8.00   \n",
       "3           4        322          110                  3  3.5   2.5  8.67   \n",
       "4           5        314          103                  2  2.0   3.0  8.21   \n",
       "\n",
       "   Research  Chance of Admit   \n",
       "0         1              0.92  \n",
       "1         1              0.76  \n",
       "2         1              0.72  \n",
       "3         1              0.80  \n",
       "4         0              0.65  "
      ]
     },
     "execution_count": 49,
     "metadata": {},
     "output_type": "execute_result"
    }
   ],
   "source": [
    "admission_df.head()"
   ]
  },
  {
   "cell_type": "code",
   "execution_count": 59,
   "id": "835fa963",
   "metadata": {},
   "outputs": [
    {
     "name": "stdout",
     "output_type": "stream",
     "text": [
      "(500, 8)\n"
     ]
    }
   ],
   "source": [
    "admission_df = admission_df.drop('Serial No.', axis = 1)\n",
    "print(admission_df.shape)"
   ]
  },
  {
   "cell_type": "code",
   "execution_count": 60,
   "id": "ed8dd02c",
   "metadata": {},
   "outputs": [
    {
     "data": {
      "text/plain": [
       "GRE Score            0\n",
       "TOEFL Score          0\n",
       "University Rating    0\n",
       "SOP                  0\n",
       "LOR                  0\n",
       "CGPA                 0\n",
       "Research             0\n",
       "Chance of Admit      0\n",
       "dtype: int64"
      ]
     },
     "execution_count": 60,
     "metadata": {},
     "output_type": "execute_result"
    }
   ],
   "source": [
    "admission_df.isnull().sum()"
   ]
  },
  {
   "cell_type": "code",
   "execution_count": 61,
   "id": "1a330d96",
   "metadata": {},
   "outputs": [],
   "source": [
    "data = admission_df.drop('Chance of Admit ', axis = 1)\n",
    "labels = admission_df['Chance of Admit ']"
   ]
  },
  {
   "cell_type": "code",
   "execution_count": 62,
   "id": "45c5c359",
   "metadata": {},
   "outputs": [],
   "source": [
    "from sklearn.model_selection import train_test_split"
   ]
  },
  {
   "cell_type": "code",
   "execution_count": 63,
   "id": "0697eda9",
   "metadata": {},
   "outputs": [],
   "source": [
    "x_train, x_test, y_train, y_test = train_test_split(data, labels,\n",
    "                                                    test_size = 0.2,\n",
    "                                                   random_state = 42)"
   ]
  },
  {
   "cell_type": "code",
   "execution_count": 64,
   "id": "16adba76",
   "metadata": {},
   "outputs": [
    {
     "name": "stdout",
     "output_type": "stream",
     "text": [
      "(400, 7)\n",
      "(100, 7)\n",
      "(400,)\n",
      "(100,)\n"
     ]
    }
   ],
   "source": [
    "print(x_train.shape)\n",
    "print(x_test.shape)\n",
    "print(y_train.shape)\n",
    "print(y_test.shape)"
   ]
  },
  {
   "cell_type": "markdown",
   "id": "6cd7534e",
   "metadata": {},
   "source": [
    "### Feature Scaling"
   ]
  },
  {
   "cell_type": "code",
   "execution_count": 68,
   "id": "9de3712c",
   "metadata": {},
   "outputs": [],
   "source": [
    "from sklearn.preprocessing import StandardScaler"
   ]
  },
  {
   "cell_type": "code",
   "execution_count": 69,
   "id": "dc832b22",
   "metadata": {},
   "outputs": [],
   "source": [
    "scaler = StandardScaler()"
   ]
  },
  {
   "cell_type": "code",
   "execution_count": 70,
   "id": "6969c2a6",
   "metadata": {},
   "outputs": [],
   "source": [
    "scaled_xtrain = scaler.fit_transform(x_train) \n",
    "scaled_xtest = scaler.transform(x_test)"
   ]
  },
  {
   "cell_type": "code",
   "execution_count": 72,
   "id": "4e519bb3",
   "metadata": {},
   "outputs": [],
   "source": [
    "from sklearn.neighbors import KNeighborsRegressor"
   ]
  },
  {
   "cell_type": "code",
   "execution_count": 73,
   "id": "d558deb5",
   "metadata": {},
   "outputs": [],
   "source": [
    "knn_regressor = KNeighborsRegressor(n_neighbors = 3)"
   ]
  },
  {
   "cell_type": "code",
   "execution_count": 74,
   "id": "078a2352",
   "metadata": {},
   "outputs": [
    {
     "data": {
      "text/html": [
       "<style>#sk-container-id-5 {color: black;background-color: white;}#sk-container-id-5 pre{padding: 0;}#sk-container-id-5 div.sk-toggleable {background-color: white;}#sk-container-id-5 label.sk-toggleable__label {cursor: pointer;display: block;width: 100%;margin-bottom: 0;padding: 0.3em;box-sizing: border-box;text-align: center;}#sk-container-id-5 label.sk-toggleable__label-arrow:before {content: \"▸\";float: left;margin-right: 0.25em;color: #696969;}#sk-container-id-5 label.sk-toggleable__label-arrow:hover:before {color: black;}#sk-container-id-5 div.sk-estimator:hover label.sk-toggleable__label-arrow:before {color: black;}#sk-container-id-5 div.sk-toggleable__content {max-height: 0;max-width: 0;overflow: hidden;text-align: left;background-color: #f0f8ff;}#sk-container-id-5 div.sk-toggleable__content pre {margin: 0.2em;color: black;border-radius: 0.25em;background-color: #f0f8ff;}#sk-container-id-5 input.sk-toggleable__control:checked~div.sk-toggleable__content {max-height: 200px;max-width: 100%;overflow: auto;}#sk-container-id-5 input.sk-toggleable__control:checked~label.sk-toggleable__label-arrow:before {content: \"▾\";}#sk-container-id-5 div.sk-estimator input.sk-toggleable__control:checked~label.sk-toggleable__label {background-color: #d4ebff;}#sk-container-id-5 div.sk-label input.sk-toggleable__control:checked~label.sk-toggleable__label {background-color: #d4ebff;}#sk-container-id-5 input.sk-hidden--visually {border: 0;clip: rect(1px 1px 1px 1px);clip: rect(1px, 1px, 1px, 1px);height: 1px;margin: -1px;overflow: hidden;padding: 0;position: absolute;width: 1px;}#sk-container-id-5 div.sk-estimator {font-family: monospace;background-color: #f0f8ff;border: 1px dotted black;border-radius: 0.25em;box-sizing: border-box;margin-bottom: 0.5em;}#sk-container-id-5 div.sk-estimator:hover {background-color: #d4ebff;}#sk-container-id-5 div.sk-parallel-item::after {content: \"\";width: 100%;border-bottom: 1px solid gray;flex-grow: 1;}#sk-container-id-5 div.sk-label:hover label.sk-toggleable__label {background-color: #d4ebff;}#sk-container-id-5 div.sk-serial::before {content: \"\";position: absolute;border-left: 1px solid gray;box-sizing: border-box;top: 0;bottom: 0;left: 50%;z-index: 0;}#sk-container-id-5 div.sk-serial {display: flex;flex-direction: column;align-items: center;background-color: white;padding-right: 0.2em;padding-left: 0.2em;position: relative;}#sk-container-id-5 div.sk-item {position: relative;z-index: 1;}#sk-container-id-5 div.sk-parallel {display: flex;align-items: stretch;justify-content: center;background-color: white;position: relative;}#sk-container-id-5 div.sk-item::before, #sk-container-id-5 div.sk-parallel-item::before {content: \"\";position: absolute;border-left: 1px solid gray;box-sizing: border-box;top: 0;bottom: 0;left: 50%;z-index: -1;}#sk-container-id-5 div.sk-parallel-item {display: flex;flex-direction: column;z-index: 1;position: relative;background-color: white;}#sk-container-id-5 div.sk-parallel-item:first-child::after {align-self: flex-end;width: 50%;}#sk-container-id-5 div.sk-parallel-item:last-child::after {align-self: flex-start;width: 50%;}#sk-container-id-5 div.sk-parallel-item:only-child::after {width: 0;}#sk-container-id-5 div.sk-dashed-wrapped {border: 1px dashed gray;margin: 0 0.4em 0.5em 0.4em;box-sizing: border-box;padding-bottom: 0.4em;background-color: white;}#sk-container-id-5 div.sk-label label {font-family: monospace;font-weight: bold;display: inline-block;line-height: 1.2em;}#sk-container-id-5 div.sk-label-container {text-align: center;}#sk-container-id-5 div.sk-container {/* jupyter's `normalize.less` sets `[hidden] { display: none; }` but bootstrap.min.css set `[hidden] { display: none !important; }` so we also need the `!important` here to be able to override the default hidden behavior on the sphinx rendered scikit-learn.org. See: https://github.com/scikit-learn/scikit-learn/issues/21755 */display: inline-block !important;position: relative;}#sk-container-id-5 div.sk-text-repr-fallback {display: none;}</style><div id=\"sk-container-id-5\" class=\"sk-top-container\"><div class=\"sk-text-repr-fallback\"><pre>KNeighborsRegressor(n_neighbors=3)</pre><b>In a Jupyter environment, please rerun this cell to show the HTML representation or trust the notebook. <br />On GitHub, the HTML representation is unable to render, please try loading this page with nbviewer.org.</b></div><div class=\"sk-container\" hidden><div class=\"sk-item\"><div class=\"sk-estimator sk-toggleable\"><input class=\"sk-toggleable__control sk-hidden--visually\" id=\"sk-estimator-id-5\" type=\"checkbox\" checked><label for=\"sk-estimator-id-5\" class=\"sk-toggleable__label sk-toggleable__label-arrow\">KNeighborsRegressor</label><div class=\"sk-toggleable__content\"><pre>KNeighborsRegressor(n_neighbors=3)</pre></div></div></div></div></div>"
      ],
      "text/plain": [
       "KNeighborsRegressor(n_neighbors=3)"
      ]
     },
     "execution_count": 74,
     "metadata": {},
     "output_type": "execute_result"
    }
   ],
   "source": [
    "knn_regressor.fit(scaled_xtrain, y_train)"
   ]
  },
  {
   "cell_type": "code",
   "execution_count": 75,
   "id": "f85453b1",
   "metadata": {},
   "outputs": [],
   "source": [
    "y_pred = knn_regressor.predict(scaled_xtest)"
   ]
  },
  {
   "cell_type": "code",
   "execution_count": 77,
   "id": "9b5f8d3a",
   "metadata": {},
   "outputs": [],
   "source": [
    "from sklearn.metrics import r2_score, mean_squared_error"
   ]
  },
  {
   "cell_type": "code",
   "execution_count": 78,
   "id": "1a0d0791",
   "metadata": {},
   "outputs": [
    {
     "data": {
      "text/plain": [
       "0.004860666666666667"
      ]
     },
     "execution_count": 78,
     "metadata": {},
     "output_type": "execute_result"
    }
   ],
   "source": [
    "mean_squared_error(y_test, y_pred)"
   ]
  },
  {
   "cell_type": "code",
   "execution_count": 79,
   "id": "670bf92f",
   "metadata": {},
   "outputs": [
    {
     "data": {
      "text/plain": [
       "0.7623145884270579"
      ]
     },
     "execution_count": 79,
     "metadata": {},
     "output_type": "execute_result"
    }
   ],
   "source": [
    "r2_score(y_test, y_pred)"
   ]
  },
  {
   "cell_type": "code",
   "execution_count": 84,
   "id": "6c4077c6",
   "metadata": {},
   "outputs": [],
   "source": [
    "rsquare_scores = {}\n",
    "for i in range(3, 50):\n",
    "    knn_regressor = KNeighborsRegressor(n_neighbors = i)\n",
    "    knn_regressor.fit(scaled_xtrain, y_train)\n",
    "    y_pred = knn_regressor.predict(scaled_xtest)\n",
    "    rsquare = r2_score(y_test, y_pred)\n",
    "    rsquare_scores[i] = rsquare\n"
   ]
  },
  {
   "cell_type": "code",
   "execution_count": 85,
   "id": "c1240140",
   "metadata": {},
   "outputs": [
    {
     "name": "stdout",
     "output_type": "stream",
     "text": [
      "{3: 0.7623145884270579, 4: 0.7879553789731052, 5: 0.7802092909535453, 6: 0.7841347459929369, 7: 0.7753904495783643, 8: 0.7865090158924206, 9: 0.7837097407105558, 10: 0.7817794621026896, 11: 0.7789710844834206, 12: 0.7803083401249661, 13: 0.7835202037007567, 14: 0.7816111970460556, 15: 0.7820242325455039, 16: 0.7774877750611247, 17: 0.7759269380123688, 18: 0.7789239035286305, 19: 0.7784417097305095, 20: 0.7829668704156478, 21: 0.7825792680560407, 22: 0.7825879488371152, 23: 0.7833653939480776, 24: 0.7802568935071992, 25: 0.7851700733496333, 26: 0.787237163814181, 27: 0.7892635857808366, 28: 0.7884489296941272, 29: 0.7903417459131493, 30: 0.7887110567780495, 31: 0.789829257929673, 32: 0.7909077017114916, 33: 0.7913953044559847, 34: 0.7906288017867871, 35: 0.7924547477670776, 36: 0.7926654894503306, 37: 0.7939231427290636, 38: 0.7941311827374382, 39: 0.7960547445783481, 40: 0.7971822432762837, 41: 0.796764034680719, 42: 0.7969650549706436, 43: 0.7963331530557058, 44: 0.7952740507991676, 45: 0.7962917564671437, 46: 0.7943884988514567, 47: 0.7930176506202125, 48: 0.7913242410350448, 49: 0.7909135455988693}\n"
     ]
    }
   ],
   "source": [
    "print(rsquare_scores)"
   ]
  },
  {
   "cell_type": "code",
   "execution_count": 86,
   "id": "540e3370",
   "metadata": {},
   "outputs": [
    {
     "data": {
      "image/png": "[encoded data removed]",
      "text/plain": [
       "<Figure size 800x600 with 1 Axes>"
      ]
     },
     "metadata": {},
     "output_type": "display_data"
    }
   ],
   "source": [
    "import matplotlib.pyplot as plt\n",
    "\n",
    "plt.figure(figsize = (8, 6))\n",
    "plt.plot(rsquare_scores.keys(), rsquare_scores.values(), marker = 'o')\n",
    "plt.title('Finding the optimal value of K')\n",
    "plt.xlabel('Value of K')\n",
    "plt.ylabel('Rsquared Score')\n",
    "plt.show()\n",
    "\n"
   ]
  },
  {
   "cell_type": "markdown",
   "id": "78701c2d",
   "metadata": {},
   "source": [
    "### Advantages Of KNN Algorithm\n",
    "\n",
    "\n",
    "<li>Simple to understand and easy to implement.</li>\n",
    "<li>Non-parametric model that does not make any assumptions about the underlying data distribution.</li>\n",
    "<li>Can be used for both classification and regression tasks.</li>\n",
    "<li>Works well with small datasets and noisy data.</li>\n",
    "<li>Does not require training time, as the algorithm only needs to store/memorize the training data.</li>\n"
   ]
  },
  {
   "cell_type": "markdown",
   "id": "a7c0a246",
   "metadata": {},
   "source": [
    "### Disadvantages of KNN algorithm:\n",
    "<li>Computationally expensive and slow, especially for large datasets.</li>\n",
    "<li>Requires a lot of memory to store the entire dataset.</li>\n",
    "<li>Sensitivity to the choice of the distance metric used to measure similarity between data points.</li>\n",
    "<li>KNN can be affected by the curse of dimensionality, where the performance decreases as the number of features increases.</li>\n",
    "<li>KNN is not effective for imbalanced datasets where the number of examples in each class is significantly different.</li>"
   ]
  },
  {
   "cell_type": "code",
   "execution_count": null,
   "id": "b2356a8c",
   "metadata": {},
   "outputs": [],
   "source": []
  },
  {
   "cell_type": "code",
   "execution_count": null,
   "id": "c63de6c9",
   "metadata": {},
   "outputs": [],
   "source": []
  },
  {
   "cell_type": "code",
   "execution_count": null,
   "id": "bc608222",
   "metadata": {},
   "outputs": [],
   "source": []
  },
  {
   "cell_type": "code",
   "execution_count": null,
   "id": "0119ddf5",
   "metadata": {},
   "outputs": [],
   "source": []
  },
  {
   "cell_type": "code",
   "execution_count": null,
   "id": "21f3e68f",
   "metadata": {},
   "outputs": [],
   "source": []
  }
 ],
 "metadata": {
  "kernelspec": {
   "display_name": "Python 3 (ipykernel)",
   "language": "python",
   "name": "python3"
  },
  "language_info": {
   "codemirror_mode": {
    "name": "ipython",
    "version": 3
   },
   "file_extension": ".py",
   "mimetype": "text/x-python",
   "name": "python",
   "nbconvert_exporter": "python",
   "pygments_lexer": "ipython3",
   "version": "3.8.0"
  }
 },
 "nbformat": 4,
 "nbformat_minor": 5
}
