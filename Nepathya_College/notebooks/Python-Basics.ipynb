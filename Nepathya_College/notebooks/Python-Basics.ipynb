{
 "cells": [
  {
   "cell_type": "markdown",
   "id": "994ac43c",
   "metadata": {},
   "source": [
    "### Writing my first python program"
   ]
  },
  {
   "cell_type": "code",
   "execution_count": 1,
   "id": "32b889de",
   "metadata": {},
   "outputs": [
    {
     "name": "stdout",
     "output_type": "stream",
     "text": [
      "Data Science\n"
     ]
    }
   ],
   "source": [
    "print(\"Data Science\")"
   ]
  },
  {
   "cell_type": "code",
   "execution_count": 2,
   "id": "d81e4e0a",
   "metadata": {},
   "outputs": [
    {
     "name": "stdout",
     "output_type": "stream",
     "text": [
      "Hello World\n"
     ]
    }
   ],
   "source": [
    "print(\"Hello World\")"
   ]
  },
  {
   "cell_type": "code",
   "execution_count": 3,
   "id": "b11178b0",
   "metadata": {},
   "outputs": [
    {
     "name": "stdout",
     "output_type": "stream",
     "text": [
      "1.5\n"
     ]
    }
   ],
   "source": [
    "print(1.5)"
   ]
  },
  {
   "cell_type": "markdown",
   "id": "6962c5ab",
   "metadata": {},
   "source": [
    "### Arithmetic Operations In Python"
   ]
  },
  {
   "cell_type": "markdown",
   "id": "ddb4772d",
   "metadata": {},
   "source": [
    "##### Ram has 5 rupees with him. He asked for 10 rupees with his mother for his lunch. How much rupees does he will have in total if his mother gives him what he ask for?\n"
   ]
  },
  {
   "cell_type": "code",
   "execution_count": 4,
   "id": "6dfb4959",
   "metadata": {},
   "outputs": [
    {
     "name": "stdout",
     "output_type": "stream",
     "text": [
      "15\n"
     ]
    }
   ],
   "source": [
    "print(5 + 10)"
   ]
  },
  {
   "cell_type": "markdown",
   "id": "0e089acd",
   "metadata": {},
   "source": [
    "### Write a program to print the difference of any two numbers"
   ]
  },
  {
   "cell_type": "code",
   "execution_count": 5,
   "id": "2f379c46",
   "metadata": {},
   "outputs": [
    {
     "name": "stdout",
     "output_type": "stream",
     "text": [
      "27\n"
     ]
    }
   ],
   "source": [
    "print(43 - 16)"
   ]
  },
  {
   "cell_type": "markdown",
   "id": "04a340ba",
   "metadata": {},
   "source": [
    "#####  If the cost of an apple is Rs 34, what will be the cost on buying 1 kg apples if 1 kg apples contain 6 apples?"
   ]
  },
  {
   "cell_type": "code",
   "execution_count": 6,
   "id": "c2634e28",
   "metadata": {},
   "outputs": [
    {
     "name": "stdout",
     "output_type": "stream",
     "text": [
      "204\n"
     ]
    }
   ],
   "source": [
    "print(34 * 6)"
   ]
  },
  {
   "cell_type": "markdown",
   "id": "f08a00de",
   "metadata": {},
   "source": [
    "### Write a program to print the square and cube of any number"
   ]
  },
  {
   "cell_type": "code",
   "execution_count": 7,
   "id": "accb8b4e",
   "metadata": {},
   "outputs": [
    {
     "name": "stdout",
     "output_type": "stream",
     "text": [
      "25\n"
     ]
    }
   ],
   "source": [
    "print(5**2)"
   ]
  },
  {
   "cell_type": "code",
   "execution_count": 8,
   "id": "325887c0",
   "metadata": {},
   "outputs": [
    {
     "name": "stdout",
     "output_type": "stream",
     "text": [
      "125\n"
     ]
    }
   ],
   "source": [
    "print(5**3)"
   ]
  },
  {
   "cell_type": "markdown",
   "id": "f1177af7",
   "metadata": {},
   "source": [
    "### How to use code comments in Python?"
   ]
  },
  {
   "cell_type": "code",
   "execution_count": 9,
   "id": "f70cc297",
   "metadata": {
    "scrolled": true
   },
   "outputs": [
    {
     "name": "stdout",
     "output_type": "stream",
     "text": [
      "12.0\n"
     ]
    }
   ],
   "source": [
    "# Division operation\n",
    "print(120/10)"
   ]
  },
  {
   "cell_type": "markdown",
   "id": "06bbb37c",
   "metadata": {},
   "source": [
    "### Simplification & Bodmas Rule Applied in Python"
   ]
  },
  {
   "cell_type": "code",
   "execution_count": 10,
   "id": "a435fb02",
   "metadata": {},
   "outputs": [
    {
     "data": {
      "text/plain": [
       "0"
      ]
     },
     "execution_count": 10,
     "metadata": {},
     "output_type": "execute_result"
    }
   ],
   "source": [
    "5+(5-6)*3-4+2"
   ]
  },
  {
   "cell_type": "markdown",
   "id": "8211f6b3",
   "metadata": {},
   "source": [
    "##### Write a program with three lines of code that performs the following arithmetical operations and displays the results (use the print() function to display the results):\n",
    "<li>16×10</li>\n",
    "<li>48÷5</li>\n",
    "<li>5^3</li>\n",
    " (don't type 5^3 because ^ is not the symbol for exponentiation)"
   ]
  },
  {
   "cell_type": "code",
   "execution_count": 11,
   "id": "6c4b1f00",
   "metadata": {},
   "outputs": [
    {
     "name": "stdout",
     "output_type": "stream",
     "text": [
      "160\n"
     ]
    }
   ],
   "source": [
    "print(16* 10)"
   ]
  },
  {
   "cell_type": "code",
   "execution_count": 12,
   "id": "164bda25",
   "metadata": {},
   "outputs": [
    {
     "name": "stdout",
     "output_type": "stream",
     "text": [
      "9.6\n"
     ]
    }
   ],
   "source": [
    "print(48/5)"
   ]
  },
  {
   "cell_type": "code",
   "execution_count": 13,
   "id": "e6020670",
   "metadata": {},
   "outputs": [
    {
     "name": "stdout",
     "output_type": "stream",
     "text": [
      "125\n"
     ]
    }
   ],
   "source": [
    "print(5**3)"
   ]
  },
  {
   "cell_type": "markdown",
   "id": "b49d5a9d",
   "metadata": {},
   "source": [
    "<h3> What is a variable? </h3>"
   ]
  },
  {
   "cell_type": "markdown",
   "id": "9a78da20",
   "metadata": {},
   "source": [
    "**<li>We can store values in the computer memory. We call each storage location in the computer'smemory a variable</li>**\n",
    "\n",
    "**<li>A variable is a symbolic name for (or reference to) information. The variable's name represents what information the variable contains.</li>**\n",
    "\n",
    "**<li>Variables are used to store information to be referenced and manipulated in a computer program.</li>**\n"
   ]
  },
  {
   "cell_type": "code",
   "execution_count": 14,
   "id": "33d75ce0",
   "metadata": {},
   "outputs": [],
   "source": [
    "result = 3.98"
   ]
  },
  {
   "cell_type": "markdown",
   "id": "b0282a4a",
   "metadata": {},
   "source": [
    "![](images/variables.png)"
   ]
  },
  {
   "cell_type": "code",
   "execution_count": 15,
   "id": "e2ce6179",
   "metadata": {},
   "outputs": [],
   "source": [
    "name = \"Prabhat\"\n",
    "age = 24\n",
    "degree = \"Bachelor\"\n",
    "course = \"B.Sc.Cs.IT\"\n",
    "percent = 79.1"
   ]
  },
  {
   "cell_type": "markdown",
   "id": "7640eb75",
   "metadata": {},
   "source": [
    "**<li>Here, name is the variable given to store my name.</li>**\n",
    "**<li>age is the name of variable given to store my age.</li>**\n",
    "**<li>degree is the name of a variable given to store information about my education background.</li>**\n",
    "**<li>course is the name of a variable given to store the information about what course I was enrolled in my bachelors.</li>**\n",
    "**<li>percent is the name of a variable given to store how much percentage did I achieve in my bachelor studies.</li>**"
   ]
  },
  {
   "cell_type": "markdown",
   "id": "5f840447",
   "metadata": {},
   "source": [
    "### Think of a scenario where variables can be referenced and manipulated in a computer program."
   ]
  },
  {
   "cell_type": "code",
   "execution_count": 16,
   "id": "da56578c",
   "metadata": {},
   "outputs": [
    {
     "name": "stdout",
     "output_type": "stream",
     "text": [
      "10.0\n"
     ]
    }
   ],
   "source": [
    "a = 5\n",
    "b = 4\n",
    "plus = a + b\n",
    "minus = a - b\n",
    "product = a * b\n",
    "average = (plus + minus + product)/3\n",
    "print(average)"
   ]
  },
  {
   "cell_type": "markdown",
   "id": "e3ce6c4f",
   "metadata": {},
   "source": [
    "### Rules for Python variables:\n",
    "\n",
    "**<li>A variable name must start with a letter or the underscore character.</li>**\n",
    "**<li>A variable name cannot start with a number.</li>**\n",
    "**<li>A variable name can only contain alpha-numeric characters and underscores (A-z, 0-9, and _ )</li>**\n",
    "**<li>Variable names are case-sensitive (age, Age and AGE are three different variables)</li>**\n"
   ]
  },
  {
   "cell_type": "markdown",
   "id": "6fff69ed",
   "metadata": {},
   "source": [
    "<li>Store the value 6.99 in a variable named minecraft_cost.</li>\n",
    "\n",
    "<li>Store the result of '1.99*1' to a variable named fruit_ninja_cost.</li>\n",
    "\n",
    "**<li>Using the print() function, display the following:</li>**\n",
    "\n",
    "<ul>\n",
    "    \n",
    "<li>The value stored in the minecraft_cost variable.</li>\n",
    "    \n",
    "<li>The result of adding 1.99 to the variable fruit_ninja_cost.</li>\n",
    "    \n",
    "<li>The result of adding fruit_ninja_cost to minecraft_cost.</li>\n",
    "    \n",
    "</ul>"
   ]
  },
  {
   "cell_type": "code",
   "execution_count": 17,
   "id": "c0114ced",
   "metadata": {},
   "outputs": [
    {
     "name": "stdout",
     "output_type": "stream",
     "text": [
      "6.99\n",
      "3.98\n",
      "8.98\n"
     ]
    }
   ],
   "source": [
    "minecraft_cost = 6.99\n",
    "fruit_ninja_cost = 1.99*1\n",
    "print(minecraft_cost)\n",
    "print(1.99 + fruit_ninja_cost)\n",
    "print(minecraft_cost + fruit_ninja_cost)"
   ]
  },
  {
   "cell_type": "markdown",
   "id": "de20da17",
   "metadata": {},
   "source": [
    "### Valid variable names"
   ]
  },
  {
   "cell_type": "code",
   "execution_count": 18,
   "id": "cb68f8e0",
   "metadata": {},
   "outputs": [],
   "source": [
    "age = 45\n",
    "aGe = 46\n",
    "AGE = 45\n",
    "my_age = 45\n",
    "my_Age = 45\n",
    "_my_Age = 45"
   ]
  },
  {
   "cell_type": "markdown",
   "id": "1058d1ab",
   "metadata": {},
   "source": [
    "### Invalid variable names"
   ]
  },
  {
   "cell_type": "code",
   "execution_count": 19,
   "id": "960af0fd",
   "metadata": {},
   "outputs": [
    {
     "ename": "SyntaxError",
     "evalue": "invalid syntax (4122238255.py, line 2)",
     "output_type": "error",
     "traceback": [
      "\u001b[1;36m  Cell \u001b[1;32mIn[19], line 2\u001b[1;36m\u001b[0m\n\u001b[1;33m    2tonight = \"Tonight\"\u001b[0m\n\u001b[1;37m     ^\u001b[0m\n\u001b[1;31mSyntaxError\u001b[0m\u001b[1;31m:\u001b[0m invalid syntax\n"
     ]
    }
   ],
   "source": [
    "app-name = 'Clash Of Clans'\n",
    "2tonight = \"Tonight\"\n",
    "my age = 45\n",
    "salary_in_$ = 20000"
   ]
  },
  {
   "cell_type": "markdown",
   "id": "adc1871c",
   "metadata": {},
   "source": [
    "### Correct the given code"
   ]
  },
  {
   "cell_type": "code",
   "execution_count": 20,
   "id": "ed19699b",
   "metadata": {},
   "outputs": [
    {
     "ename": "SyntaxError",
     "evalue": "invalid syntax (2609713014.py, line 2)",
     "output_type": "error",
     "traceback": [
      "\u001b[1;36m  Cell \u001b[1;32mIn[20], line 2\u001b[1;36m\u001b[0m\n\u001b[1;33m    cs score = 100\u001b[0m\n\u001b[1;37m       ^\u001b[0m\n\u001b[1;31mSyntaxError\u001b[0m\u001b[1;31m:\u001b[0m invalid syntax\n"
     ]
    }
   ],
   "source": [
    "maths-score = 90\n",
    "cs score = 100"
   ]
  },
  {
   "cell_type": "code",
   "execution_count": 21,
   "id": "c0dcf86a",
   "metadata": {},
   "outputs": [],
   "source": [
    "maths_score = 90\n",
    "cs_score = 100"
   ]
  },
  {
   "cell_type": "markdown",
   "id": "bd9d08a2",
   "metadata": {},
   "source": [
    "### Updating Variables"
   ]
  },
  {
   "cell_type": "markdown",
   "id": "606cf67c",
   "metadata": {},
   "source": [
    "**<li>The price of apple was 300 yesterday.Store the price value in 'apple_price' variable.</li>**"
   ]
  },
  {
   "cell_type": "code",
   "execution_count": 22,
   "id": "1495023b",
   "metadata": {},
   "outputs": [],
   "source": [
    "apple_price = 300"
   ]
  },
  {
   "cell_type": "markdown",
   "id": "82eededa",
   "metadata": {},
   "source": [
    "**<li>If the price of an apple increased by 20 rupees today, update the price of apple in a variable.</li>**"
   ]
  },
  {
   "cell_type": "code",
   "execution_count": 23,
   "id": "a71072a8",
   "metadata": {},
   "outputs": [
    {
     "name": "stdout",
     "output_type": "stream",
     "text": [
      "320\n"
     ]
    }
   ],
   "source": [
    "apple_price += 20\n",
    "print(apple_price)"
   ]
  },
  {
   "cell_type": "markdown",
   "id": "ce9e0b47",
   "metadata": {},
   "source": [
    "### Syntax Shortcuts"
   ]
  },
  {
   "cell_type": "code",
   "execution_count": 24,
   "id": "e4b0b11e",
   "metadata": {},
   "outputs": [
    {
     "name": "stdout",
     "output_type": "stream",
     "text": [
      "5\n"
     ]
    }
   ],
   "source": [
    "a = 3\n",
    "a+= 2\n",
    "print(a)"
   ]
  },
  {
   "cell_type": "code",
   "execution_count": 25,
   "id": "8099327a",
   "metadata": {},
   "outputs": [
    {
     "name": "stdout",
     "output_type": "stream",
     "text": [
      "4\n"
     ]
    }
   ],
   "source": [
    "b = 6\n",
    "b-= 2\n",
    "print(b)"
   ]
  },
  {
   "cell_type": "code",
   "execution_count": 26,
   "id": "c13a3913",
   "metadata": {},
   "outputs": [
    {
     "name": "stdout",
     "output_type": "stream",
     "text": [
      "12\n"
     ]
    }
   ],
   "source": [
    "c = 6\n",
    "c*=2\n",
    "print(c)"
   ]
  },
  {
   "cell_type": "code",
   "execution_count": 27,
   "id": "a9b31597",
   "metadata": {},
   "outputs": [
    {
     "name": "stdout",
     "output_type": "stream",
     "text": [
      "3.0\n"
     ]
    }
   ],
   "source": [
    "d = 12\n",
    "d/=4\n",
    "print(d)"
   ]
  },
  {
   "cell_type": "markdown",
   "id": "b343582d",
   "metadata": {},
   "source": [
    "### Data Types"
   ]
  },
  {
   "cell_type": "markdown",
   "id": "09f8e54c",
   "metadata": {},
   "source": [
    "<li>The data type is an attribute that tells what kind of data that value can have.</li>\n",
    "<li>We can also define data type as an attribute of a piece of data that tells a device how the end-user might interact with the data</li>\n",
    "<li>Some of the common datatypes that we use in python are <b>Strings</b>, <b>Integers</b>, <b>Floats</b>, <b>Lists</b>, <b>Dictionaries</b> and <b>Tuples.</b></li>"
   ]
  },
  {
   "cell_type": "markdown",
   "id": "8bbbcf2c",
   "metadata": {},
   "source": [
    "#### Integers & Floats"
   ]
  },
  {
   "cell_type": "code",
   "execution_count": 28,
   "id": "d3a96059",
   "metadata": {},
   "outputs": [],
   "source": [
    "a = 5"
   ]
  },
  {
   "cell_type": "code",
   "execution_count": 29,
   "id": "ad146931",
   "metadata": {},
   "outputs": [
    {
     "data": {
      "text/plain": [
       "int"
      ]
     },
     "execution_count": 29,
     "metadata": {},
     "output_type": "execute_result"
    }
   ],
   "source": [
    "type(a)"
   ]
  },
  {
   "cell_type": "code",
   "execution_count": 30,
   "id": "f9c6d886",
   "metadata": {},
   "outputs": [],
   "source": [
    "b = 5.0"
   ]
  },
  {
   "cell_type": "code",
   "execution_count": 31,
   "id": "b9bd2ddb",
   "metadata": {},
   "outputs": [
    {
     "data": {
      "text/plain": [
       "float"
      ]
     },
     "execution_count": 31,
     "metadata": {},
     "output_type": "execute_result"
    }
   ],
   "source": [
    "type(b)"
   ]
  },
  {
   "cell_type": "markdown",
   "id": "adef1fc7",
   "metadata": {},
   "source": [
    "#### Verify the datatype of a variable using type() method"
   ]
  },
  {
   "cell_type": "code",
   "execution_count": 32,
   "id": "fbafff3e",
   "metadata": {},
   "outputs": [
    {
     "name": "stdout",
     "output_type": "stream",
     "text": [
      "float\n"
     ]
    }
   ],
   "source": [
    "c = 15.6\n",
    "print(type(c).__name__)"
   ]
  },
  {
   "cell_type": "markdown",
   "id": "30cb4cd0",
   "metadata": {},
   "source": [
    "#### Question"
   ]
  },
  {
   "cell_type": "markdown",
   "id": "110459f7",
   "metadata": {},
   "source": [
    "<li>Initiate the variable <b>quantity</b> by assigning the integer value of 0.\n",
    "Update the value of <b>quantity</b> by adding the float 1.5 to its current value.\n",
    "You can use the += operator.</li>\n",
    "\n",
    "<li>Assign the float 6.99 to a variable named <b>cost.</b>\n",
    "Update the value of <b>cost</b> by multiplying its current value by the integer 3.\n",
    "You can use the *= operator.</li>\n",
    "\n",
    "<li>Display <b>quantity</b> and <b>cost</b> using print()</li>"
   ]
  },
  {
   "cell_type": "code",
   "execution_count": 33,
   "id": "0041a983",
   "metadata": {},
   "outputs": [],
   "source": [
    "quantity = 0\n",
    "quantity += 1.5"
   ]
  },
  {
   "cell_type": "code",
   "execution_count": 34,
   "id": "94b885f0",
   "metadata": {},
   "outputs": [],
   "source": [
    "cost = 6.99\n",
    "cost *= 3"
   ]
  },
  {
   "cell_type": "code",
   "execution_count": 35,
   "id": "5267aed2",
   "metadata": {},
   "outputs": [
    {
     "name": "stdout",
     "output_type": "stream",
     "text": [
      "1.5\n",
      "20.97\n"
     ]
    }
   ],
   "source": [
    "print(quantity)\n",
    "print(cost)"
   ]
  },
  {
   "cell_type": "markdown",
   "id": "7d24134b",
   "metadata": {},
   "source": [
    "#### Conversion Between Types (typecasting)\n",
    "\n",
    "<li>We can convert integers into floats and vice versa.</li>\n",
    "<li>We have to use two inbuilt functions like int() and float() to do the conversion.</li>\n",
    "<li>We use int() to convert float datatype into integer.</li>\n",
    "<li>Similarly, we use float() to convert int datatype into float.</li>"
   ]
  },
  {
   "cell_type": "code",
   "execution_count": 36,
   "id": "727981d8",
   "metadata": {},
   "outputs": [
    {
     "name": "stdout",
     "output_type": "stream",
     "text": [
      "<class 'float'>\n"
     ]
    }
   ],
   "source": [
    "a = 4.5\n",
    "print(type(a))"
   ]
  },
  {
   "cell_type": "code",
   "execution_count": 37,
   "id": "110703f4",
   "metadata": {},
   "outputs": [
    {
     "name": "stdout",
     "output_type": "stream",
     "text": [
      "4\n"
     ]
    }
   ],
   "source": [
    "b = int(a)\n",
    "print(b)"
   ]
  },
  {
   "cell_type": "code",
   "execution_count": 38,
   "id": "5b422e41",
   "metadata": {},
   "outputs": [
    {
     "name": "stdout",
     "output_type": "stream",
     "text": [
      "<class 'int'>\n"
     ]
    }
   ],
   "source": [
    "print(type(b))"
   ]
  },
  {
   "cell_type": "markdown",
   "id": "e19c2e1f",
   "metadata": {},
   "source": [
    "<li>We can also convert float datatype into int by another method.</li>\n",
    "\n",
    "**<li>Guess the method.</li>**"
   ]
  },
  {
   "cell_type": "code",
   "execution_count": 39,
   "id": "aa8263f8",
   "metadata": {},
   "outputs": [
    {
     "name": "stdout",
     "output_type": "stream",
     "text": [
      "5\n"
     ]
    }
   ],
   "source": [
    "c = 4.55\n",
    "d = round(c)\n",
    "print(d)"
   ]
  },
  {
   "cell_type": "code",
   "execution_count": 40,
   "id": "78da7069",
   "metadata": {},
   "outputs": [
    {
     "name": "stdout",
     "output_type": "stream",
     "text": [
      "4.5\n"
     ]
    }
   ],
   "source": [
    "e = round(c, 1)\n",
    "print(e)"
   ]
  },
  {
   "cell_type": "code",
   "execution_count": 41,
   "id": "26f98388",
   "metadata": {},
   "outputs": [
    {
     "name": "stdout",
     "output_type": "stream",
     "text": [
      "4.55\n"
     ]
    }
   ],
   "source": [
    "f = round(c, 2)\n",
    "print(f)"
   ]
  },
  {
   "cell_type": "markdown",
   "id": "bce8b7c6",
   "metadata": {},
   "source": [
    "#### Strings"
   ]
  },
  {
   "cell_type": "markdown",
   "id": "3b7148ea",
   "metadata": {},
   "source": [
    "<li>So far, we've only worked with int and float values. But in data science, numbers aren't the only type of data we work with.</li>\n",
    "\n",
    "<li>We have to work with textual data and do some text analytics in data science. This is possible because of <b>string</b> datatype.</li>\n",
    "\n",
    "<li>We can even assign numeric and float values to a string datatype.</li>\n",
    "\n",
    "<li>String is a collection of alphabets, words or other characters.</li>"
   ]
  },
  {
   "cell_type": "markdown",
   "id": "19b2a36b",
   "metadata": {},
   "source": [
    "#### Different Syntax To Represent String"
   ]
  },
  {
   "cell_type": "code",
   "execution_count": 1,
   "id": "4431b23c",
   "metadata": {},
   "outputs": [],
   "source": [
    "string1 = 'prabhat'"
   ]
  },
  {
   "cell_type": "code",
   "execution_count": 2,
   "id": "caf3533d",
   "metadata": {},
   "outputs": [
    {
     "data": {
      "text/plain": [
       "str"
      ]
     },
     "execution_count": 2,
     "metadata": {},
     "output_type": "execute_result"
    }
   ],
   "source": [
    "type(string1)"
   ]
  },
  {
   "cell_type": "code",
   "execution_count": 3,
   "id": "47d6a6ae",
   "metadata": {},
   "outputs": [],
   "source": [
    "a_string = \"1\""
   ]
  },
  {
   "cell_type": "code",
   "execution_count": 4,
   "id": "739fd438",
   "metadata": {},
   "outputs": [
    {
     "name": "stdout",
     "output_type": "stream",
     "text": [
      "<class 'str'>\n"
     ]
    }
   ],
   "source": [
    "print(type(a_string))"
   ]
  },
  {
   "cell_type": "code",
   "execution_count": 5,
   "id": "3a9c16ba",
   "metadata": {},
   "outputs": [],
   "source": [
    "float_string = \"4.5\""
   ]
  },
  {
   "cell_type": "code",
   "execution_count": 6,
   "id": "ada2f694",
   "metadata": {},
   "outputs": [
    {
     "data": {
      "text/plain": [
       "str"
      ]
     },
     "execution_count": 6,
     "metadata": {},
     "output_type": "execute_result"
    }
   ],
   "source": [
    "type(float_string)"
   ]
  },
  {
   "cell_type": "code",
   "execution_count": 7,
   "id": "82760c30",
   "metadata": {},
   "outputs": [],
   "source": [
    "triple_string = \"\"\"this is a string\"\"\""
   ]
  },
  {
   "cell_type": "code",
   "execution_count": 8,
   "id": "72788cc6",
   "metadata": {},
   "outputs": [
    {
     "name": "stdout",
     "output_type": "stream",
     "text": [
      "this is a string\n"
     ]
    }
   ],
   "source": [
    "print(triple_string)"
   ]
  },
  {
   "cell_type": "code",
   "execution_count": null,
   "id": "59e48550",
   "metadata": {},
   "outputs": [],
   "source": []
  },
  {
   "cell_type": "code",
   "execution_count": null,
   "id": "3c2ef486",
   "metadata": {},
   "outputs": [],
   "source": [
    "'"
   ]
  },
  {
   "cell_type": "code",
   "execution_count": null,
   "id": "c0af9318",
   "metadata": {},
   "outputs": [],
   "source": []
  },
  {
   "cell_type": "code",
   "execution_count": null,
   "id": "2d3931cd",
   "metadata": {},
   "outputs": [],
   "source": []
  },
  {
   "cell_type": "markdown",
   "id": "16b93e7d",
   "metadata": {},
   "source": [
    "#### Escaping Special Characters\n",
    "\n",
    "<li>Sometimes we'll need to create strings containing quotation marks, as in this example: Facebook's old motto was 'move fast and break things'.</li>\n",
    "<li>We can not use double quotation mark inside a single quotation mark, similarly triple quotation mark inside a doble quotation mark is not valid.</li>\n",
    "\n",
    "\n"
   ]
  },
  {
   "cell_type": "code",
   "execution_count": 10,
   "id": "c278adbe",
   "metadata": {},
   "outputs": [],
   "source": [
    "facebook = \"Facebook's old motto was 'move fast and break things.'\""
   ]
  },
  {
   "cell_type": "code",
   "execution_count": 11,
   "id": "03fe1037",
   "metadata": {},
   "outputs": [
    {
     "name": "stdout",
     "output_type": "stream",
     "text": [
      "Facebook's old motto was 'move fast and break things.'\n"
     ]
    }
   ],
   "source": [
    "print(facebook)"
   ]
  },
  {
   "cell_type": "markdown",
   "id": "3340f80a",
   "metadata": {},
   "source": [
    "#### Famous Sayings\n",
    "“The purpose of life is a life of purpose.” ― Robert Byrn"
   ]
  },
  {
   "cell_type": "code",
   "execution_count": 19,
   "id": "1991872c",
   "metadata": {},
   "outputs": [],
   "source": [
    "robert_string = 'Robert Bryn says \"The purpose of life is a life of purpose\"'"
   ]
  },
  {
   "cell_type": "code",
   "execution_count": 20,
   "id": "54da9c61",
   "metadata": {},
   "outputs": [
    {
     "name": "stdout",
     "output_type": "stream",
     "text": [
      "Robert Bryn says \"The purpose of life is a life of purpose\"\n"
     ]
    }
   ],
   "source": [
    "print(robert_string)"
   ]
  },
  {
   "cell_type": "markdown",
   "id": "f6683971",
   "metadata": {},
   "source": [
    "#### Question\n",
    "<li>Assign the string <b>Facebook's new motto is \"move fast with stable infra.\"</b> to a variable named motto.</li>\n",
    "<li>Display the variable motto using print()</li>"
   ]
  },
  {
   "cell_type": "code",
   "execution_count": 22,
   "id": "22589cba",
   "metadata": {},
   "outputs": [],
   "source": [
    "motto = '''Facebook's new motto is \"move fast with stable infra\"'''"
   ]
  },
  {
   "cell_type": "code",
   "execution_count": 23,
   "id": "62a62ba8",
   "metadata": {},
   "outputs": [
    {
     "name": "stdout",
     "output_type": "stream",
     "text": [
      "Facebook's new motto is \"move fast with stable infra\"\n"
     ]
    }
   ],
   "source": [
    "print(motto)"
   ]
  },
  {
   "cell_type": "markdown",
   "id": "ff5ed2ba",
   "metadata": {},
   "source": [
    "#### String Concatenation\n",
    "\n",
    "<li>We can concatenate two different string values to form a single string. This process is known as string concatenation.</li>\n",
    "\n",
    "<li>If we want to use or display the string multiple times, we can use arithmetic operation in strings to do string concatenation.</li>"
   ]
  },
  {
   "cell_type": "code",
   "execution_count": 26,
   "id": "e283255e",
   "metadata": {},
   "outputs": [],
   "source": [
    "string1 = \"My name is\"\n",
    "string2 = \"Prabhat\"\n",
    "final_string = string1 + \" \" +  string2"
   ]
  },
  {
   "cell_type": "code",
   "execution_count": 27,
   "id": "2a8b2772",
   "metadata": {},
   "outputs": [
    {
     "name": "stdout",
     "output_type": "stream",
     "text": [
      "My name is Prabhat\n"
     ]
    }
   ],
   "source": [
    "print(final_string)"
   ]
  },
  {
   "cell_type": "markdown",
   "id": "f72586a1",
   "metadata": {},
   "source": [
    "#### Question\n",
    "<li>Assign the string <b>Tiktok's rating is</b> to a variable named tiktok.</li>\n",
    "<li>Assign the string 4.5 to a variable named tiktok_rating_str.</li>\n",
    "<li>Concatenate the strings stored in tiktok and tiktok_rating_str to form the string <b>Tiktok's rating is 4.5</b>.\n",
    "<li>Assign the concatenated string to a variable named tiktok.</li>\n",
    "<li>You'll need to add a space character between Tiktok's rating is and 4.5 to avoid ending up with the string Tiktok's rating is4.5.</li>\n",
    "<li>Display the tiktok variable using print()</li>"
   ]
  },
  {
   "cell_type": "code",
   "execution_count": 28,
   "id": "077af121",
   "metadata": {},
   "outputs": [],
   "source": [
    "tiktok = \"Tiktok's rating is\"\n",
    "tiktok_rating_str = '4.5'\n",
    "tiktok = tiktok + ' ' + tiktok_rating_str"
   ]
  },
  {
   "cell_type": "code",
   "execution_count": 29,
   "id": "5026e321",
   "metadata": {},
   "outputs": [
    {
     "name": "stdout",
     "output_type": "stream",
     "text": [
      "Tiktok's rating is 4.5\n"
     ]
    }
   ],
   "source": [
    "print(tiktok)"
   ]
  },
  {
   "cell_type": "markdown",
   "id": "58e61096",
   "metadata": {},
   "source": [
    "#### Concatenating string using .format() method"
   ]
  },
  {
   "cell_type": "code",
   "execution_count": 30,
   "id": "153421bd",
   "metadata": {},
   "outputs": [],
   "source": [
    "a = \"My name is {}\".format('prabhat')"
   ]
  },
  {
   "cell_type": "code",
   "execution_count": 31,
   "id": "bbbaa80c",
   "metadata": {},
   "outputs": [
    {
     "name": "stdout",
     "output_type": "stream",
     "text": [
      "My name is prabhat\n"
     ]
    }
   ],
   "source": [
    "print(a)"
   ]
  },
  {
   "cell_type": "markdown",
   "id": "335736f0",
   "metadata": {},
   "source": [
    "#### String Conversion\n",
    "\n",
    "<li>Like we can convert float to int and vice-versa, we can also convert the string into float and int if that string is a numerical value.</li>"
   ]
  },
  {
   "cell_type": "code",
   "execution_count": 32,
   "id": "c52eca54",
   "metadata": {},
   "outputs": [],
   "source": [
    "a = 5"
   ]
  },
  {
   "cell_type": "code",
   "execution_count": 33,
   "id": "1c1f90b4",
   "metadata": {},
   "outputs": [
    {
     "data": {
      "text/plain": [
       "int"
      ]
     },
     "execution_count": 33,
     "metadata": {},
     "output_type": "execute_result"
    }
   ],
   "source": [
    "type(a)"
   ]
  },
  {
   "cell_type": "code",
   "execution_count": 34,
   "id": "c95ded5b",
   "metadata": {},
   "outputs": [],
   "source": [
    "b = str(a)"
   ]
  },
  {
   "cell_type": "code",
   "execution_count": 36,
   "id": "109eebcd",
   "metadata": {},
   "outputs": [
    {
     "name": "stdout",
     "output_type": "stream",
     "text": [
      "<class 'str'>\n"
     ]
    }
   ],
   "source": [
    "print(type(b))"
   ]
  },
  {
   "cell_type": "code",
   "execution_count": 37,
   "id": "ce667b6c",
   "metadata": {},
   "outputs": [],
   "source": [
    "f = 5.5"
   ]
  },
  {
   "cell_type": "code",
   "execution_count": 38,
   "id": "6931de2b",
   "metadata": {},
   "outputs": [
    {
     "data": {
      "text/plain": [
       "float"
      ]
     },
     "execution_count": 38,
     "metadata": {},
     "output_type": "execute_result"
    }
   ],
   "source": [
    "type(f)"
   ]
  },
  {
   "cell_type": "code",
   "execution_count": 39,
   "id": "50da1816",
   "metadata": {},
   "outputs": [],
   "source": [
    "g = str(f)"
   ]
  },
  {
   "cell_type": "code",
   "execution_count": 40,
   "id": "f198eb8c",
   "metadata": {},
   "outputs": [
    {
     "name": "stdout",
     "output_type": "stream",
     "text": [
      "5.5\n",
      "<class 'str'>\n"
     ]
    }
   ],
   "source": [
    "print(g)\n",
    "print(type(g))"
   ]
  },
  {
   "cell_type": "markdown",
   "id": "eab6af91",
   "metadata": {},
   "source": [
    "#### Multiline string with triple quotation marks"
   ]
  },
  {
   "cell_type": "code",
   "execution_count": 41,
   "id": "093adc8f",
   "metadata": {},
   "outputs": [],
   "source": [
    "paragraph = \"\"\"This is the starting of a paragraph.\n",
    "This is the second sentence in a paragraph.\n",
    "This is a new sentence lying in third line.\n",
    "This is the last sentence of a paragraph\n",
    "\"\"\""
   ]
  },
  {
   "cell_type": "code",
   "execution_count": 42,
   "id": "f13f37c1",
   "metadata": {},
   "outputs": [
    {
     "name": "stdout",
     "output_type": "stream",
     "text": [
      "This is the starting of a paragraph.\n",
      "This is the second sentence in a paragraph.\n",
      "This is a new sentence lying in third line.\n",
      "This is the last sentence of a paragraph\n",
      "\n"
     ]
    }
   ],
   "source": [
    "print(paragraph)"
   ]
  },
  {
   "cell_type": "markdown",
   "id": "f212c71f",
   "metadata": {},
   "source": [
    "#### Indexing In String"
   ]
  },
  {
   "cell_type": "code",
   "execution_count": 43,
   "id": "90ae36c7",
   "metadata": {},
   "outputs": [],
   "source": [
    "name = \"Srijana\""
   ]
  },
  {
   "cell_type": "code",
   "execution_count": 45,
   "id": "7a7aa2eb",
   "metadata": {},
   "outputs": [
    {
     "data": {
      "text/plain": [
       "7"
      ]
     },
     "execution_count": 45,
     "metadata": {},
     "output_type": "execute_result"
    }
   ],
   "source": [
    "len(name)"
   ]
  },
  {
   "cell_type": "code",
   "execution_count": 44,
   "id": "55f68048",
   "metadata": {},
   "outputs": [
    {
     "data": {
      "text/plain": [
       "'S'"
      ]
     },
     "execution_count": 44,
     "metadata": {},
     "output_type": "execute_result"
    }
   ],
   "source": [
    "name[0]"
   ]
  },
  {
   "cell_type": "code",
   "execution_count": 46,
   "id": "2ab82c50",
   "metadata": {},
   "outputs": [
    {
     "data": {
      "text/plain": [
       "'j'"
      ]
     },
     "execution_count": 46,
     "metadata": {},
     "output_type": "execute_result"
    }
   ],
   "source": [
    "name[3]"
   ]
  },
  {
   "cell_type": "markdown",
   "id": "7c7d1746",
   "metadata": {},
   "source": [
    "#### Splittting In Strings(Text Splitting)"
   ]
  },
  {
   "cell_type": "code",
   "execution_count": 48,
   "id": "05898850",
   "metadata": {},
   "outputs": [],
   "source": [
    "country = \"Brazil_Br\""
   ]
  },
  {
   "cell_type": "code",
   "execution_count": 49,
   "id": "197b688a",
   "metadata": {},
   "outputs": [
    {
     "data": {
      "text/plain": [
       "'Brazil'"
      ]
     },
     "execution_count": 49,
     "metadata": {},
     "output_type": "execute_result"
    }
   ],
   "source": [
    "country[:6]"
   ]
  },
  {
   "cell_type": "code",
   "execution_count": 52,
   "id": "52a570e2",
   "metadata": {},
   "outputs": [
    {
     "data": {
      "text/plain": [
       "'Brazil_Br'"
      ]
     },
     "execution_count": 52,
     "metadata": {},
     "output_type": "execute_result"
    }
   ],
   "source": [
    "country"
   ]
  },
  {
   "cell_type": "code",
   "execution_count": 54,
   "id": "612363ca",
   "metadata": {},
   "outputs": [
    {
     "data": {
      "text/plain": [
       "['Brazil', 'Br']"
      ]
     },
     "execution_count": 54,
     "metadata": {},
     "output_type": "execute_result"
    }
   ],
   "source": [
    "country.split('_')"
   ]
  },
  {
   "cell_type": "code",
   "execution_count": 50,
   "id": "fcdbc894",
   "metadata": {},
   "outputs": [],
   "source": [
    "country_name = country.split('_')[0]"
   ]
  },
  {
   "cell_type": "code",
   "execution_count": 55,
   "id": "bc1d46bb",
   "metadata": {},
   "outputs": [],
   "source": [
    "country_code = country.split('_')[1]"
   ]
  },
  {
   "cell_type": "code",
   "execution_count": 56,
   "id": "49fc49ce",
   "metadata": {},
   "outputs": [
    {
     "data": {
      "text/plain": [
       "'Br'"
      ]
     },
     "execution_count": 56,
     "metadata": {},
     "output_type": "execute_result"
    }
   ],
   "source": [
    "country_code"
   ]
  },
  {
   "cell_type": "code",
   "execution_count": 51,
   "id": "313da709",
   "metadata": {},
   "outputs": [
    {
     "data": {
      "text/plain": [
       "'Brazil'"
      ]
     },
     "execution_count": 51,
     "metadata": {},
     "output_type": "execute_result"
    }
   ],
   "source": [
    "country_name"
   ]
  },
  {
   "cell_type": "code",
   "execution_count": 57,
   "id": "f52ce337",
   "metadata": {},
   "outputs": [],
   "source": [
    "founder = \"Ali-baba_founder.jackma\""
   ]
  },
  {
   "cell_type": "code",
   "execution_count": 60,
   "id": "d0e4830c",
   "metadata": {},
   "outputs": [],
   "source": [
    "founder_name = founder.split('.')[1]"
   ]
  },
  {
   "cell_type": "code",
   "execution_count": 62,
   "id": "7c023c09",
   "metadata": {},
   "outputs": [
    {
     "name": "stdout",
     "output_type": "stream",
     "text": [
      "jackma\n"
     ]
    }
   ],
   "source": [
    "print(founder_name)"
   ]
  },
  {
   "cell_type": "code",
   "execution_count": 64,
   "id": "d69b4aaf",
   "metadata": {},
   "outputs": [],
   "source": [
    "s = \"Tesla_is_a_good_company\""
   ]
  },
  {
   "cell_type": "code",
   "execution_count": 66,
   "id": "16a79a9a",
   "metadata": {},
   "outputs": [
    {
     "data": {
      "text/plain": [
       "'good'"
      ]
     },
     "execution_count": 66,
     "metadata": {},
     "output_type": "execute_result"
    }
   ],
   "source": [
    "attribute = s.split('_')[3]\n",
    "print(attribute)"
   ]
  },
  {
   "cell_type": "code",
   "execution_count": 68,
   "id": "f946eb96",
   "metadata": {},
   "outputs": [],
   "source": [
    "s = \"Tesla_is_a_good_company.in_USA\""
   ]
  },
  {
   "cell_type": "code",
   "execution_count": 72,
   "id": "083031e8",
   "metadata": {},
   "outputs": [
    {
     "data": {
      "text/plain": [
       "'USA'"
      ]
     },
     "execution_count": 72,
     "metadata": {},
     "output_type": "execute_result"
    }
   ],
   "source": [
    "s.split('_')[-1]"
   ]
  },
  {
   "cell_type": "code",
   "execution_count": 78,
   "id": "8440c640",
   "metadata": {},
   "outputs": [
    {
     "data": {
      "text/plain": [
       "'in'"
      ]
     },
     "execution_count": 78,
     "metadata": {},
     "output_type": "execute_result"
    }
   ],
   "source": [
    "s.split('.')[1].split('_')[0]"
   ]
  },
  {
   "cell_type": "code",
   "execution_count": 79,
   "id": "1604e745",
   "metadata": {},
   "outputs": [],
   "source": [
    "h = \"I_am.working_in.Fusemachines_Nepal.office\""
   ]
  },
  {
   "cell_type": "code",
   "execution_count": 82,
   "id": "546535f8",
   "metadata": {},
   "outputs": [
    {
     "data": {
      "text/plain": [
       "'Fusemachines'"
      ]
     },
     "execution_count": 82,
     "metadata": {},
     "output_type": "execute_result"
    }
   ],
   "source": [
    "h.split('.')[2].split('_')[0]"
   ]
  },
  {
   "cell_type": "markdown",
   "id": "9cb0f9f7",
   "metadata": {},
   "source": [
    "#### Lists In Python"
   ]
  },
  {
   "cell_type": "markdown",
   "id": "7f54d7ea",
   "metadata": {},
   "source": [
    "<li>A collection of data points makes up a dataset.</li>\n",
    "<li>Creating a variable for each data point in our dataset would be a cumbersome process. Fortunately, we can store data more efficiently using lists.</li>"
   ]
  },
  {
   "cell_type": "markdown",
   "id": "b663e3f0",
   "metadata": {},
   "source": [
    "![](images/table.png)"
   ]
  },
  {
   "cell_type": "code",
   "execution_count": 83,
   "id": "769c309a",
   "metadata": {},
   "outputs": [],
   "source": [
    "col_name = ['track_name', 'price', 'currency', 'rating_count_tot', 'user_rating']\n",
    "fb_row = ['Facebook', 0.0, 'USD', 2974676, 3.5]"
   ]
  },
  {
   "cell_type": "markdown",
   "id": "d07067f5",
   "metadata": {},
   "source": [
    "### Length of List\n",
    "\n",
    "<li>We can find the length of a list by using builtin function <b>len()</li>"
   ]
  },
  {
   "cell_type": "code",
   "execution_count": 84,
   "id": "c16ac8c4",
   "metadata": {},
   "outputs": [
    {
     "data": {
      "text/plain": [
       "5"
      ]
     },
     "execution_count": 84,
     "metadata": {},
     "output_type": "execute_result"
    }
   ],
   "source": [
    "len(fb_row)"
   ]
  },
  {
   "cell_type": "markdown",
   "id": "4171b0b4",
   "metadata": {},
   "source": [
    "#### Indexing In List\n",
    "\n",
    "<li>Each element (data point) in a list has a specific number associated with it — this is an index number.</li>\n",
    "\n",
    "<li>The indexing always starts at 0, so the first element will have the index number 0, the second element will have the index number 1, and so on.</li>\n"
   ]
  },
  {
   "cell_type": "code",
   "execution_count": 85,
   "id": "cfd670c3",
   "metadata": {},
   "outputs": [],
   "source": [
    "a = [1,2,3,4,5]"
   ]
  },
  {
   "cell_type": "code",
   "execution_count": 86,
   "id": "82ac437f",
   "metadata": {},
   "outputs": [
    {
     "data": {
      "text/plain": [
       "4"
      ]
     },
     "execution_count": 86,
     "metadata": {},
     "output_type": "execute_result"
    }
   ],
   "source": [
    "a.index(5)"
   ]
  },
  {
   "cell_type": "markdown",
   "id": "7348e42c",
   "metadata": {},
   "source": [
    "#### Question\n",
    "row_1 = ['Prabhat', 24, 'Nepali', 'B.Sc.Cs.It', 79.1]\n",
    "\n",
    "row_2 = ['Sunil', 23, 'Nepali', 'B.It', 83.2]\n",
    "\n",
    "row_3 = ['Bhawana', 22, 'Canadian', 'B.E.Computer', 78.4]\n",
    "\n",
    "row_4 = ['Shiva', 23, 'Australian', 'B.It', 72.5]\n",
    "\n",
    "<br>\n",
    "\n",
    "<li>Determine the index number of degree element 'B.It' in row_2, and store the answer as a string in a variable named degree_index.</li>\n",
    "<li>Determine the index number of the age element 23 in row_4, and store the answer as an integer in a variable named age_index</li>"
   ]
  },
  {
   "cell_type": "code",
   "execution_count": 88,
   "id": "3deebc47",
   "metadata": {},
   "outputs": [],
   "source": [
    "row_1 = ['Prabhat', 24, 'Nepali', 'B.Sc.Cs.It', 79.1]\n",
    "\n",
    "row_2 = ['Sunil', 23, 'Nepali', 'B.It', 83.2]\n",
    "\n",
    "row_3 = ['Bhawana', 22, 'Canadian', 'B.E.Computer', 78.4]\n",
    "\n",
    "row_4 = ['Shiva', 23, 'Australian', 'B.It', 72.5]"
   ]
  },
  {
   "cell_type": "code",
   "execution_count": 92,
   "id": "c92e1579",
   "metadata": {},
   "outputs": [
    {
     "name": "stdout",
     "output_type": "stream",
     "text": [
      "B.Sc.Cs.It\n"
     ]
    }
   ],
   "source": [
    "row_1_degree = row_1[3]\n",
    "print(row_1_degree)"
   ]
  },
  {
   "cell_type": "code",
   "execution_count": 94,
   "id": "0544bf5f",
   "metadata": {},
   "outputs": [],
   "source": [
    "row_2_nationality = row_2[2]"
   ]
  },
  {
   "cell_type": "code",
   "execution_count": 95,
   "id": "8028513c",
   "metadata": {},
   "outputs": [
    {
     "name": "stdout",
     "output_type": "stream",
     "text": [
      "Nepali\n"
     ]
    }
   ],
   "source": [
    "print(row_2_nationality)"
   ]
  },
  {
   "cell_type": "code",
   "execution_count": 89,
   "id": "b5c5f64c",
   "metadata": {},
   "outputs": [
    {
     "name": "stdout",
     "output_type": "stream",
     "text": [
      "3\n"
     ]
    }
   ],
   "source": [
    "degree_index = row_2.index('B.It')\n",
    "print(degree_index)"
   ]
  },
  {
   "cell_type": "code",
   "execution_count": 90,
   "id": "10b7c277",
   "metadata": {},
   "outputs": [],
   "source": [
    "age_index = row_4.index(23)"
   ]
  },
  {
   "cell_type": "code",
   "execution_count": 91,
   "id": "a79db2a7",
   "metadata": {},
   "outputs": [
    {
     "name": "stdout",
     "output_type": "stream",
     "text": [
      "1\n"
     ]
    }
   ],
   "source": [
    "print(age_index)"
   ]
  },
  {
   "cell_type": "code",
   "execution_count": null,
   "id": "a174cd52",
   "metadata": {},
   "outputs": [],
   "source": [
    "row_1 = ['Prabhat', 24, 'Nepali', 'B.Sc.Cs.It', 79.1]\n",
    "\n",
    "row_2 = ['Sunil', 23, 'Nepali', 'B.It', 83.2]\n",
    "\n",
    "row_3 = ['Bhawana', 22, 'Canadian', 'B.E.Computer', 78.4]\n",
    "\n",
    "row_4 = ['Shiva', 23, 'Australian', 'B.It', 72.5]"
   ]
  },
  {
   "cell_type": "markdown",
   "id": "fe2cd048",
   "metadata": {},
   "source": [
    "#### Retriving values in a list(Question)\n",
    "\n",
    "<li>Assign the second element from the list row_1 to a variable named age_1. Don't forget that the indexing starts at 0.</li>\n",
    "<li>Assign the second element from the list row_2 to a variable named age_2.</li>\n",
    "<li>Assign the second element from the list row_3 to a variable named age_3.</li>\n",
    "<li>Assign the second element from the list row_4 to a variable named age_4.</li>\n",
    "<li>Add the four numbers retrieved together and save the sum to a variable named total.</li>\n",
    "<li>Divide the sum (now saved in the variable total) by 4 to get the average number of age for the first four rows. Assign the result to a variable named average.</li>\n"
   ]
  },
  {
   "cell_type": "code",
   "execution_count": 99,
   "id": "2459c028",
   "metadata": {},
   "outputs": [],
   "source": [
    "age_1 = row_1[1]\n",
    "age_2 = row_2[1]\n",
    "age_3 = row_3[1]\n",
    "age_4 = row_4[1]\n",
    "total = age_1 + age_2 + age_3 + age_4\n",
    "average = total//4\n"
   ]
  },
  {
   "cell_type": "code",
   "execution_count": 100,
   "id": "6cc5e572",
   "metadata": {},
   "outputs": [
    {
     "name": "stdout",
     "output_type": "stream",
     "text": [
      "23\n"
     ]
    }
   ],
   "source": [
    "print(average)"
   ]
  },
  {
   "cell_type": "markdown",
   "id": "709758eb",
   "metadata": {},
   "source": [
    "#### Negative Indexing In List"
   ]
  },
  {
   "cell_type": "code",
   "execution_count": 101,
   "id": "a7acd9b3",
   "metadata": {},
   "outputs": [],
   "source": [
    "y = [1,2,3,4,5,6,7]"
   ]
  },
  {
   "cell_type": "code",
   "execution_count": 103,
   "id": "ed6bc490",
   "metadata": {},
   "outputs": [
    {
     "data": {
      "text/plain": [
       "7"
      ]
     },
     "execution_count": 103,
     "metadata": {},
     "output_type": "execute_result"
    }
   ],
   "source": [
    "y[-1]"
   ]
  },
  {
   "cell_type": "code",
   "execution_count": 104,
   "id": "67a0da8c",
   "metadata": {},
   "outputs": [
    {
     "data": {
      "text/plain": [
       "6"
      ]
     },
     "execution_count": 104,
     "metadata": {},
     "output_type": "execute_result"
    }
   ],
   "source": [
    "y[-2]"
   ]
  },
  {
   "cell_type": "code",
   "execution_count": 105,
   "id": "70d5e6c4",
   "metadata": {},
   "outputs": [
    {
     "data": {
      "text/plain": [
       "5"
      ]
     },
     "execution_count": 105,
     "metadata": {},
     "output_type": "execute_result"
    }
   ],
   "source": [
    "y[-3]"
   ]
  },
  {
   "cell_type": "markdown",
   "id": "70a422d3",
   "metadata": {},
   "source": [
    "#### Question\n",
    "**Use the above list we used in retriving values(Question)**\n",
    "<li>Assign the last element from the list row_1 to a variable named score_1. Don't forget to use negative indexing here.</li>\n",
    "<li>Assign the last element from the list row_2 to a variable named score_2.</li>\n",
    "<li>Assign the last element from the list row_3 to a variable named score_3.</li>\n",
    "<li>Assign the last element from the list row_4 to a variable named score_4.</li>\n",
    "<li>Add the four numbers retrieved together and save the sum to a variable named total_score.</li>\n",
    "<li>Divide the sum (now saved in the variable total) by 4 to get the average score for the first four rows. Assign the result to a variable named average_score.</li>"
   ]
  },
  {
   "cell_type": "code",
   "execution_count": null,
   "id": "1bc95d0f",
   "metadata": {},
   "outputs": [],
   "source": [
    "row_1 = ['Prabhat', 24, 'Nepali', 'B.Sc.Cs.It', 79.1]\n",
    "\n",
    "row_2 = ['Sunil', 23, 'Nepali', 'B.It', 83.2]\n",
    "\n",
    "row_3 = ['Bhawana', 22, 'Canadian', 'B.E.Computer', 78.4]\n",
    "\n",
    "row_4 = ['Shiva', 23, 'Australian', 'B.It', 72.5]"
   ]
  },
  {
   "cell_type": "code",
   "execution_count": 106,
   "id": "0104fd4e",
   "metadata": {},
   "outputs": [],
   "source": [
    "score_1  = row_1[-1]\n",
    "score_2  = row_2[-1]\n",
    "score_3  = row_3[-1]\n",
    "score_4  = row_4[-1]\n",
    "total_score = score_1 + score_2 + score_3 + score_4\n",
    "average_score = total_score/4"
   ]
  },
  {
   "cell_type": "code",
   "execution_count": 108,
   "id": "a7090f42",
   "metadata": {},
   "outputs": [
    {
     "name": "stdout",
     "output_type": "stream",
     "text": [
      "Therefore the average score of these students is 78.30000000000001\n"
     ]
    }
   ],
   "source": [
    "print(\"Therefore the average score of these students is {}\".format(average_score))"
   ]
  },
  {
   "cell_type": "code",
   "execution_count": null,
   "id": "e725f9d1",
   "metadata": {},
   "outputs": [],
   "source": []
  },
  {
   "cell_type": "markdown",
   "id": "896ddd34",
   "metadata": {},
   "source": [
    "#### Retriving Multiple List Elements\n",
    "\n",
    "<li>Often we need to retrieve more than one element from a list. This is where retriving multiple elements from list is useful.</li>"
   ]
  },
  {
   "cell_type": "code",
   "execution_count": 118,
   "id": "c863614b",
   "metadata": {},
   "outputs": [],
   "source": [
    "student = [\"Himal Gaire\", 23, \"Butwal\", \"Bachelor\", \"B.C.A\", \"Seventh Semester\"]"
   ]
  },
  {
   "cell_type": "code",
   "execution_count": 119,
   "id": "729f59bd",
   "metadata": {},
   "outputs": [],
   "source": [
    "student_name = student[0]\n",
    "student_fac = student[-2]\n",
    "student_level = student[-1]\n",
    "student_edu = [student_name, student_fac, student_level]"
   ]
  },
  {
   "cell_type": "code",
   "execution_count": 121,
   "id": "2d04be30",
   "metadata": {},
   "outputs": [
    {
     "data": {
      "text/plain": [
       "['Himal Gaire', 'B.C.A', 'Seventh Semester']"
      ]
     },
     "execution_count": 121,
     "metadata": {},
     "output_type": "execute_result"
    }
   ],
   "source": [
    "student_edu"
   ]
  },
  {
   "cell_type": "code",
   "execution_count": 125,
   "id": "7de87db2",
   "metadata": {},
   "outputs": [
    {
     "name": "stdout",
     "output_type": "stream",
     "text": [
      "[23, 'Butwal', 'Bachelor']\n"
     ]
    }
   ],
   "source": [
    "print([student[1], student[2], student[3]])"
   ]
  },
  {
   "cell_type": "code",
   "execution_count": 123,
   "id": "1fb81b54",
   "metadata": {},
   "outputs": [
    {
     "name": "stdout",
     "output_type": "stream",
     "text": [
      "[1, 2, 3]\n"
     ]
    }
   ],
   "source": [
    "a = [1,2,3,4,5]\n",
    "b = [a[0], a[1], a[2]]\n",
    "print(b)"
   ]
  },
  {
   "cell_type": "markdown",
   "id": "8a7eb52a",
   "metadata": {},
   "source": [
    "![](images/movies_rating.png)\n"
   ]
  },
  {
   "cell_type": "markdown",
   "id": "341eba34",
   "metadata": {},
   "source": [
    "#### Question \n",
    "**For Titanic, Meet Joe Black, and The Tourist, use indexing to retrieve multiple list elements. Each list should contain the name of the movie, the reviews count (review_count_tot), and the movie rating (movie_rating). Don't forget that indexing starts at 0.**\n",
    "<ol>\n",
    "<li>For Titanic, assign the list to a variable named titanic_rating_data.</li>\n",
    "<li>For Meet Joe Black, assign the list to a variable named mjb_rating_data.</li>\n",
    "<li>For The Tourist movie, assign the list to a variable named tourist_rating_data.</li>\n",
    "<li>Calculate the average user rating for Titanic, Meet Joe Black, and The Tourist using the data you stored in titanic_rating_data, mjb_rating_data, and tourist_rating_data.</li>\n",
    "<li>Add the three movie ratings together and save the sum to a variable named total_ratings. Use indexing to specify the list element for movie rating.</li>\n",
    "<li>Divide the total by 3 to get the average rating. Assign the result to a variable named average_rating.</li>\n",
    "</ol>\n"
   ]
  },
  {
   "cell_type": "code",
   "execution_count": 126,
   "id": "21dd315c",
   "metadata": {},
   "outputs": [],
   "source": [
    "titanic_movie = ['Titanic', 'Leonardo Decaprio', '1997', 1169835, 7.9]\n",
    "jb_movie = ['Met Joe Black', 'Brad Pit', '1998', 243882, 7.3]\n",
    "eot_movie = ['Edge of Tomorrow', 'Tom Cruise', '2014', 678775, 7.9]\n",
    "ce_movie = ['Chennai Express', 'Sharukh Khan', '2013', 55643, 6.0]\n",
    "tourist_movie = ['The Tourist', 'Johnny Deep', '2010', 244817, 6.0]\n"
   ]
  },
  {
   "cell_type": "code",
   "execution_count": 127,
   "id": "69e548d9",
   "metadata": {},
   "outputs": [],
   "source": [
    "titanic_rating_data = [titanic_movie[0], titanic_movie[3], titanic_movie[4]]\n",
    "mjb_rating_data = [jb_movie[0], jb_movie[3], jb_movie[4]]\n",
    "tourist_rating_data = [tourist_movie[0], tourist_movie[3], tourist_movie[4]]"
   ]
  },
  {
   "cell_type": "code",
   "execution_count": 128,
   "id": "77a8297a",
   "metadata": {},
   "outputs": [
    {
     "name": "stdout",
     "output_type": "stream",
     "text": [
      "['Titanic', 1169835, 7.9]\n"
     ]
    }
   ],
   "source": [
    "print(titanic_rating_data)"
   ]
  },
  {
   "cell_type": "code",
   "execution_count": 129,
   "id": "24eeccd4",
   "metadata": {},
   "outputs": [
    {
     "name": "stdout",
     "output_type": "stream",
     "text": [
      "['Met Joe Black', 243882, 7.3]\n"
     ]
    }
   ],
   "source": [
    "print(mjb_rating_data)"
   ]
  },
  {
   "cell_type": "code",
   "execution_count": 130,
   "id": "b968b0f8",
   "metadata": {},
   "outputs": [
    {
     "name": "stdout",
     "output_type": "stream",
     "text": [
      "['The Tourist', 244817, 6.0]\n"
     ]
    }
   ],
   "source": [
    "print(tourist_rating_data)"
   ]
  },
  {
   "cell_type": "code",
   "execution_count": 131,
   "id": "952b8872",
   "metadata": {},
   "outputs": [],
   "source": [
    "total_ratings = titanic_rating_data[-1] + mjb_rating_data[-1] + tourist_rating_data[-1]"
   ]
  },
  {
   "cell_type": "code",
   "execution_count": 132,
   "id": "f80c7f79",
   "metadata": {},
   "outputs": [],
   "source": [
    "average_ratings = total_ratings/3"
   ]
  },
  {
   "cell_type": "code",
   "execution_count": 133,
   "id": "e82828c1",
   "metadata": {},
   "outputs": [
    {
     "name": "stdout",
     "output_type": "stream",
     "text": [
      "7.066666666666666\n"
     ]
    }
   ],
   "source": [
    "print(average_ratings)"
   ]
  },
  {
   "cell_type": "markdown",
   "id": "f7c94a55",
   "metadata": {},
   "source": [
    "#### List Slicing\n",
    "\n",
    "<li>We can also retrieve the first n list elements of a list by using syntax shortcuts instead of selecting element by element.</li>\n",
    "\n",
    "<li>When we selected the first three elements, we sliced a part of the list. For this reason, we call the process of selecting a part of a list <b>list slicing.</b></li>"
   ]
  },
  {
   "cell_type": "code",
   "execution_count": 134,
   "id": "b2dec290",
   "metadata": {},
   "outputs": [
    {
     "data": {
      "text/plain": [
       "[1, 2, 4]"
      ]
     },
     "execution_count": 134,
     "metadata": {},
     "output_type": "execute_result"
    }
   ],
   "source": [
    "a = [1,2,4,5,6]\n",
    "a[0:3]"
   ]
  },
  {
   "cell_type": "code",
   "execution_count": 135,
   "id": "53e772a4",
   "metadata": {},
   "outputs": [
    {
     "data": {
      "text/plain": [
       "[1, 2, 4]"
      ]
     },
     "execution_count": 135,
     "metadata": {},
     "output_type": "execute_result"
    }
   ],
   "source": [
    "[a[0], a[1], a[2]]"
   ]
  },
  {
   "cell_type": "markdown",
   "id": "d715c2a3",
   "metadata": {},
   "source": [
    "**To retrieve any list slice we want, we do the following:**\n",
    "\n",
    "<li>We identify the first and the last element of the slice.\n",
    "<li>We identify the index numbers of the first and the last element of the slice.\n",
    "<li>We retrieve the list slice we want by using the syntax a_list[m:n], where the following are true:</li>\n",
    "\n",
    "<ol>\n",
    "    \n",
    "<li>m represents the index number of the first element of the slice.</li>\n",
    "<li>n represents the index number of the last element of the slice plus one (if the last element has the index number 2, then n will be 3, if the last element has the index number 4, then n will be 5, and so on).</li>\n",
    "\n",
    "</ol>"
   ]
  },
  {
   "cell_type": "code",
   "execution_count": 136,
   "id": "95e31009",
   "metadata": {},
   "outputs": [],
   "source": [
    "slicing_list = [5.6,5,4,3,2,7]"
   ]
  },
  {
   "cell_type": "code",
   "execution_count": 138,
   "id": "b0ef6924",
   "metadata": {},
   "outputs": [
    {
     "data": {
      "text/plain": [
       "[5, 4, 3]"
      ]
     },
     "execution_count": 138,
     "metadata": {},
     "output_type": "execute_result"
    }
   ],
   "source": [
    "slicing_list[1:4]"
   ]
  },
  {
   "cell_type": "markdown",
   "id": "d7f10a92",
   "metadata": {},
   "source": [
    "#### Question\n",
    "\n",
    "<li>Select the last three elements from row_1 using a list slicing syntax shortcut. Assign the output to a variable named last_3_fb.</li>\n",
    "\n",
    "<li>From row_5, select the list slice ['USD', 522012] using a list slicing syntax shortcut. Assign the output to a variable named minecraft_3_4.</li>\n",
    "\n",
    "<li>Print last_3_fb and minecraft_3_4 to see the results.</li>"
   ]
  },
  {
   "cell_type": "code",
   "execution_count": null,
   "id": "f892e962",
   "metadata": {},
   "outputs": [],
   "source": [
    "titanic_movie = ['Titanic', 'Leonardo Decaprio', '1997', 1169835, 7.9]\n",
    "jb_movie = ['Met Joe Black', 'Brad Pit', '1998', 243882, 7.3]\n",
    "eot_movie = ['Edge of Tomorrow', 'Tom Cruise', '2014', 678775, 7.9]\n",
    "ce_movie = ['Chennai Express', 'Sharukh Khan', '2013', 55643, 6.0]\n",
    "tourist_movie = ['The Tourist', 'Johnny Deep', '2010', 244817, 6.0]\n"
   ]
  },
  {
   "cell_type": "code",
   "execution_count": 139,
   "id": "ec4c7e0a",
   "metadata": {},
   "outputs": [
    {
     "data": {
      "text/plain": [
       "['1997', 1169835, 7.9]"
      ]
     },
     "execution_count": 139,
     "metadata": {},
     "output_type": "execute_result"
    }
   ],
   "source": [
    "titanic_movie[-3:]"
   ]
  },
  {
   "cell_type": "code",
   "execution_count": 140,
   "id": "56641c32",
   "metadata": {},
   "outputs": [
    {
     "data": {
      "text/plain": [
       "['1998', 243882, 7.3]"
      ]
     },
     "execution_count": 140,
     "metadata": {},
     "output_type": "execute_result"
    }
   ],
   "source": [
    "jb_movie[-3:]"
   ]
  },
  {
   "cell_type": "markdown",
   "id": "b1671e03",
   "metadata": {},
   "source": [
    "#### Lists Of Lists\n",
    "\n",
    "<li>A list that contains other lists is called a list of lists.</li>\n",
    "<li>If we want to store the student profile in a dataset, we can store the values in a list of list.</li>"
   ]
  },
  {
   "cell_type": "code",
   "execution_count": 142,
   "id": "d67dda40",
   "metadata": {},
   "outputs": [],
   "source": [
    "student_1 = ['Ram', 'male',23, 'B.C.A', 'Seventh Semester']\n",
    "student_2 = ['Shyam','male',21,'B.C.A', 'Fifth Semester']\n",
    "student_3 = ['Abhishek','male',22, 'B.Sc.Cs.It', 'Seventh Semester']\n",
    "student_4 = ['Mahima','female',20, 'B.Sc.Cs.It', 'Fifth Semester']\n",
    "student_5 = ['Sanjana','female',22, 'B.Sc.Cs.It', 'Seventh Semester']"
   ]
  },
  {
   "cell_type": "code",
   "execution_count": 143,
   "id": "c3ff2414",
   "metadata": {},
   "outputs": [
    {
     "name": "stdout",
     "output_type": "stream",
     "text": [
      "[['Ram', 'male', 23, 'B.C.A', 'Seventh Semester'], ['Shyam', 'male', 21, 'B.C.A', 'Fifth Semester'], ['Abhishek', 'male', 22, 'B.Sc.Cs.It', 'Seventh Semester'], ['Mahima', 'female', 20, 'B.Sc.Cs.It', 'Fifth Semester'], ['Sanjana', 'female', 22, 'B.Sc.Cs.It', 'Seventh Semester']]\n"
     ]
    }
   ],
   "source": [
    "student_profile = [student_1,student_2,student_3,student_4,student_5]\n",
    "print(student_profile)"
   ]
  },
  {
   "cell_type": "markdown",
   "id": "592d0c72",
   "metadata": {},
   "source": [
    "#### Question\n",
    "\n",
    "<ol>\n",
    "    \n",
    "<li>Create a new list of lists that stores the lists (rows) for the students that are currently studying in the fifth semester of their bachelor studies.</li>\n",
    "\n",
    "<li>Create another new list of lists that stores the list(rows) for all female students.</li>\n",
    "    \n",
    "</ol>"
   ]
  },
  {
   "cell_type": "code",
   "execution_count": 144,
   "id": "837e9136",
   "metadata": {},
   "outputs": [
    {
     "name": "stdout",
     "output_type": "stream",
     "text": [
      "[['Shyam', 'male', 21, 'B.C.A', 'Fifth Semester'], ['Mahima', 'female', 20, 'B.Sc.Cs.It', 'Fifth Semester']]\n"
     ]
    }
   ],
   "source": [
    "fifth_sem_list = [student_2,student_4]\n",
    "print(fifth_sem_list)"
   ]
  },
  {
   "cell_type": "code",
   "execution_count": 145,
   "id": "1e7dc13f",
   "metadata": {},
   "outputs": [
    {
     "name": "stdout",
     "output_type": "stream",
     "text": [
      "[['Mahima', 'female', 20, 'B.Sc.Cs.It', 'Fifth Semester'], ['Sanjana', 'female', 22, 'B.Sc.Cs.It', 'Seventh Semester']]\n"
     ]
    }
   ],
   "source": [
    "female_list = [student_4, student_5]\n",
    "print(female_list)"
   ]
  },
  {
   "cell_type": "markdown",
   "id": "d4e79065",
   "metadata": {},
   "source": [
    "### Retriving Elements From List Of Lists\n",
    "\n",
    "<li>Lists of lists are still a list, which means we can retrieve individual list elements and perform list slicing using the syntax we learned.</li>"
   ]
  },
  {
   "cell_type": "code",
   "execution_count": 151,
   "id": "2b9ee775",
   "metadata": {},
   "outputs": [],
   "source": [
    "fruits_dataset = [[\"Banana\", \"1 dozen\", 85], [\"Pineapple\", \"1 Kg\", 140],\n",
    "                  [\"Apple\", \"1 Kg\", 220], ['Orange', \"1 Kg\", 120]]"
   ]
  },
  {
   "cell_type": "code",
   "execution_count": 155,
   "id": "75cf7ce4",
   "metadata": {},
   "outputs": [
    {
     "data": {
      "text/plain": [
       "120"
      ]
     },
     "execution_count": 155,
     "metadata": {},
     "output_type": "execute_result"
    }
   ],
   "source": [
    "fruits_dataset[-1][-1]"
   ]
  },
  {
   "cell_type": "code",
   "execution_count": 157,
   "id": "634dc753",
   "metadata": {},
   "outputs": [
    {
     "data": {
      "text/plain": [
       "140"
      ]
     },
     "execution_count": 157,
     "metadata": {},
     "output_type": "execute_result"
    }
   ],
   "source": [
    "fruits_dataset[1][2]"
   ]
  },
  {
   "cell_type": "markdown",
   "id": "23646790",
   "metadata": {},
   "source": [
    "#### Question\n",
    "\n",
    "student_1 = ['Ram', 'male',23, 'B.C.A', 'Seventh Semester']\n",
    "\n",
    "student_2 = ['Shyam','male',21,'B.C.A', 'Fifth Semester']\n",
    "\n",
    "student_3 = ['Abhishek','male',22, 'B.Sc.Cs.It', 'Seventh Semester']\n",
    "\n",
    "student_4 = ['Mahima','female',20, 'B.Sc.Cs.It', 'Fifth Semester']\n",
    "\n",
    "student_5 = ['Sanjana','female',22. 'B.Sc.Cs.It', 'Seventh Semester']\n",
    "\n",
    "<br>\n",
    "\n",
    "<li>Group the above five lists of students together in a list of lists. Assign the resulting list of lists to a variable named students_dataset.</li>\n",
    "<li>Calculate the average <b>age</b> of the students by retrieving the right data points from the app_data_set list of lists.</li>\n",
    "\n",
    "<li><b>'Age'</b> is the third element of each row. You'll need to add up the <b>age</b> and then divide by the number of rows.\n",
    "Assign the result to a variable named avg_age.</li>"
   ]
  },
  {
   "cell_type": "code",
   "execution_count": 158,
   "id": "4cfb296f",
   "metadata": {},
   "outputs": [],
   "source": [
    "student_1 = ['Ram', 'male',23, 'B.C.A', 'Seventh Semester']\n",
    "student_2 = ['Shyam','male',21,'B.C.A', 'Fifth Semester']\n",
    "student_3 = ['Abhishek','male',22, 'B.Sc.Cs.It', 'Seventh Semester']\n",
    "student_4 = ['Mahima','female',20, 'B.Sc.Cs.It', 'Fifth Semester']\n",
    "student_5 = ['Sanjana','female',22, 'B.Sc.Cs.It', 'Seventh Semester']"
   ]
  },
  {
   "cell_type": "code",
   "execution_count": 159,
   "id": "8f7dff78",
   "metadata": {},
   "outputs": [
    {
     "data": {
      "text/plain": [
       "[['Ram', 'male', 23, 'B.C.A', 'Seventh Semester'],\n",
       " ['Shyam', 'male', 21, 'B.C.A', 'Fifth Semester'],\n",
       " ['Abhishek', 'male', 22, 'B.Sc.Cs.It', 'Seventh Semester'],\n",
       " ['Mahima', 'female', 20, 'B.Sc.Cs.It', 'Fifth Semester'],\n",
       " ['Sanjana', 'female', 22, 'B.Sc.Cs.It', 'Seventh Semester']]"
      ]
     },
     "execution_count": 159,
     "metadata": {},
     "output_type": "execute_result"
    }
   ],
   "source": [
    "students = [student_1, student_2, student_3, student_4, student_5]\n",
    "students"
   ]
  },
  {
   "cell_type": "code",
   "execution_count": 161,
   "id": "2549f8dd",
   "metadata": {},
   "outputs": [],
   "source": [
    "total_age = students[0][2] +students[1][2] + students[2][2] + students[3][2] + students[4][2]"
   ]
  },
  {
   "cell_type": "code",
   "execution_count": 163,
   "id": "656ae6c3",
   "metadata": {},
   "outputs": [
    {
     "name": "stdout",
     "output_type": "stream",
     "text": [
      "21.6\n"
     ]
    }
   ],
   "source": [
    "average_age = total_age/5\n",
    "print(average_age)"
   ]
  },
  {
   "cell_type": "markdown",
   "id": "ac922bc0",
   "metadata": {},
   "source": [
    "#### List Concatenation Methods\n",
    "<ol>\n",
    "<li>We can use the '+' operator to concatenate multiple lists and create a new list.</li>\n",
    "<li>We can use '*' operator if we want to repeat the elements of a list for <b>n</b> number of times.</li>\n",
    "<li>insert(): It inserts the element before the given index.</li>\n",
    "<li>append(): It append the elements to the end of the list.</li>\n",
    "<li>extend(): It extends the list by appending elements from the iterable.</li>\n",
    "</ol>"
   ]
  },
  {
   "cell_type": "code",
   "execution_count": 164,
   "id": "75dbef0e",
   "metadata": {},
   "outputs": [],
   "source": [
    "list1 = [1,2,3]\n",
    "list2 = [4,5,6]"
   ]
  },
  {
   "cell_type": "code",
   "execution_count": 165,
   "id": "3fb86ba4",
   "metadata": {},
   "outputs": [],
   "source": [
    "list3 = list1 + list2"
   ]
  },
  {
   "cell_type": "code",
   "execution_count": 166,
   "id": "58fb8bfc",
   "metadata": {},
   "outputs": [
    {
     "name": "stdout",
     "output_type": "stream",
     "text": [
      "[1, 2, 3, 4, 5, 6]\n"
     ]
    }
   ],
   "source": [
    "print(list3)"
   ]
  },
  {
   "cell_type": "code",
   "execution_count": 167,
   "id": "6dd7577c",
   "metadata": {},
   "outputs": [],
   "source": [
    "list4  = [4,5,6]\n",
    "list5 = list4 * 3"
   ]
  },
  {
   "cell_type": "code",
   "execution_count": 168,
   "id": "478d0beb",
   "metadata": {},
   "outputs": [
    {
     "name": "stdout",
     "output_type": "stream",
     "text": [
      "[4, 5, 6, 4, 5, 6, 4, 5, 6]\n"
     ]
    }
   ],
   "source": [
    "print(list5)"
   ]
  },
  {
   "cell_type": "code",
   "execution_count": 173,
   "id": "6953386e",
   "metadata": {},
   "outputs": [],
   "source": [
    "list6 = [23,24,25,26]"
   ]
  },
  {
   "cell_type": "markdown",
   "id": "c02c24d4",
   "metadata": {},
   "source": [
    "**<li>While inserting into a list, you must specify index position as a first parameter and then value as another parameter.</li>**"
   ]
  },
  {
   "cell_type": "code",
   "execution_count": 174,
   "id": "2131e208",
   "metadata": {},
   "outputs": [],
   "source": [
    "list6.insert(0,27)"
   ]
  },
  {
   "cell_type": "code",
   "execution_count": 175,
   "id": "5174f8da",
   "metadata": {},
   "outputs": [
    {
     "data": {
      "text/plain": [
       "[27, 23, 24, 25, 26]"
      ]
     },
     "execution_count": 175,
     "metadata": {},
     "output_type": "execute_result"
    }
   ],
   "source": [
    "list6"
   ]
  },
  {
   "cell_type": "code",
   "execution_count": 176,
   "id": "c8bff593",
   "metadata": {},
   "outputs": [],
   "source": [
    "list7 = [45,36,45,23,23]"
   ]
  },
  {
   "cell_type": "code",
   "execution_count": 177,
   "id": "878542e8",
   "metadata": {},
   "outputs": [],
   "source": [
    "list7.append(41)"
   ]
  },
  {
   "cell_type": "code",
   "execution_count": 178,
   "id": "b954f648",
   "metadata": {},
   "outputs": [
    {
     "name": "stdout",
     "output_type": "stream",
     "text": [
      "[45, 36, 45, 23, 23, 41]\n"
     ]
    }
   ],
   "source": [
    "print(list7)"
   ]
  },
  {
   "cell_type": "code",
   "execution_count": 179,
   "id": "09c62aab",
   "metadata": {},
   "outputs": [],
   "source": [
    "list8 = [2,3,4,5,6]\n",
    "list9 = [7,8,9]"
   ]
  },
  {
   "cell_type": "code",
   "execution_count": 180,
   "id": "bae79a15",
   "metadata": {},
   "outputs": [],
   "source": [
    "list8.extend(list9)"
   ]
  },
  {
   "cell_type": "code",
   "execution_count": 181,
   "id": "facb8fe4",
   "metadata": {},
   "outputs": [
    {
     "data": {
      "text/plain": [
       "[2, 3, 4, 5, 6, 7, 8, 9]"
      ]
     },
     "execution_count": 181,
     "metadata": {},
     "output_type": "execute_result"
    }
   ],
   "source": [
    "list8"
   ]
  },
  {
   "cell_type": "code",
   "execution_count": null,
   "id": "4f938e12",
   "metadata": {},
   "outputs": [],
   "source": []
  },
  {
   "cell_type": "markdown",
   "id": "e57303b4",
   "metadata": {},
   "source": [
    "#### How To Delete Elements From A List\n",
    "<ol>\n",
    "    <li>remove(): It removes the elements based on the values of an element.</li>\n",
    "    <li>pop(): It removes the elements based on the index value of an element.</li>\n",
    "    <li>del[]: It also removes the elements based on the index value of an element.</li>\n",
    "    <li>clear(): delete all elements from a list and make them empty</li>\n",
    "</ol>"
   ]
  },
  {
   "cell_type": "code",
   "execution_count": 182,
   "id": "67451e61",
   "metadata": {},
   "outputs": [],
   "source": [
    "list9 = [9,8,7,6,5,4,3,2,1]"
   ]
  },
  {
   "cell_type": "code",
   "execution_count": 183,
   "id": "b2cbedc2",
   "metadata": {},
   "outputs": [],
   "source": [
    "list9.remove(9)"
   ]
  },
  {
   "cell_type": "code",
   "execution_count": 184,
   "id": "bfa8d636",
   "metadata": {},
   "outputs": [
    {
     "data": {
      "text/plain": [
       "[8, 7, 6, 5, 4, 3, 2, 1]"
      ]
     },
     "execution_count": 184,
     "metadata": {},
     "output_type": "execute_result"
    }
   ],
   "source": [
    "list9"
   ]
  },
  {
   "cell_type": "code",
   "execution_count": 185,
   "id": "394b71e5",
   "metadata": {},
   "outputs": [
    {
     "data": {
      "text/plain": [
       "1"
      ]
     },
     "execution_count": 185,
     "metadata": {},
     "output_type": "execute_result"
    }
   ],
   "source": [
    "list9.pop(-1)"
   ]
  },
  {
   "cell_type": "code",
   "execution_count": 186,
   "id": "0c75ad67",
   "metadata": {},
   "outputs": [
    {
     "data": {
      "text/plain": [
       "[8, 7, 6, 5, 4, 3, 2]"
      ]
     },
     "execution_count": 186,
     "metadata": {},
     "output_type": "execute_result"
    }
   ],
   "source": [
    "list9"
   ]
  },
  {
   "cell_type": "code",
   "execution_count": 187,
   "id": "8e6f60fb",
   "metadata": {},
   "outputs": [],
   "source": [
    "del list9[3]"
   ]
  },
  {
   "cell_type": "code",
   "execution_count": 188,
   "id": "eb4bf4ed",
   "metadata": {},
   "outputs": [
    {
     "data": {
      "text/plain": [
       "[8, 7, 6, 4, 3, 2]"
      ]
     },
     "execution_count": 188,
     "metadata": {},
     "output_type": "execute_result"
    }
   ],
   "source": [
    "list9"
   ]
  },
  {
   "cell_type": "code",
   "execution_count": 189,
   "id": "000507a7",
   "metadata": {},
   "outputs": [],
   "source": [
    "list9.clear()"
   ]
  },
  {
   "cell_type": "code",
   "execution_count": 190,
   "id": "3b4684de",
   "metadata": {},
   "outputs": [
    {
     "data": {
      "text/plain": [
       "[]"
      ]
     },
     "execution_count": 190,
     "metadata": {},
     "output_type": "execute_result"
    }
   ],
   "source": [
    "list9"
   ]
  },
  {
   "cell_type": "code",
   "execution_count": null,
   "id": "b00172fb",
   "metadata": {},
   "outputs": [],
   "source": []
  },
  {
   "cell_type": "markdown",
   "id": "87d2f4e9",
   "metadata": {},
   "source": [
    "#### Tuples\n",
    "\n",
    "<li>Tuples are used to store multiple items in a single variable.</li>\n",
    "\n",
    "<li>Tuples are written with round brackets.</li>\n",
    "\n",
    "\n",
    "<li>Tuple items are indexed, the first item has index [0], the second item has index [1] etc.</li>\n",
    "\n",
    "<li>Tuples are ordered, unchangeable, and allow duplicate values.</li>\n",
    "\n",
    "<li>When we say that tuples are ordered, it means that the items have a defined order, and that order will not change.</li>\n",
    "\n",
    "<li>Tuples are unchangeable, meaning that we cannot change, add or remove items after the tuple has been created.</li>\n",
    "\n",
    "<li>Since tuples are indexed, they can have items with the same value.</li>\n",
    "\n"
   ]
  },
  {
   "cell_type": "code",
   "execution_count": 191,
   "id": "72fea9fe",
   "metadata": {},
   "outputs": [],
   "source": [
    "tuple1 = (1, 2, 3)"
   ]
  },
  {
   "cell_type": "code",
   "execution_count": 192,
   "id": "ded2d56c",
   "metadata": {},
   "outputs": [
    {
     "data": {
      "text/plain": [
       "tuple"
      ]
     },
     "execution_count": 192,
     "metadata": {},
     "output_type": "execute_result"
    }
   ],
   "source": [
    "type(tuple1)"
   ]
  },
  {
   "cell_type": "code",
   "execution_count": 196,
   "id": "94ae93bb",
   "metadata": {},
   "outputs": [
    {
     "data": {
      "text/plain": [
       "3"
      ]
     },
     "execution_count": 196,
     "metadata": {},
     "output_type": "execute_result"
    }
   ],
   "source": [
    "tuple1[2]"
   ]
  },
  {
   "cell_type": "code",
   "execution_count": 204,
   "id": "e86393ad",
   "metadata": {},
   "outputs": [
    {
     "data": {
      "text/plain": [
       "[1, 2, 3]"
      ]
     },
     "execution_count": 204,
     "metadata": {},
     "output_type": "execute_result"
    }
   ],
   "source": [
    "tuple1_to_list = list(tuple1)\n",
    "tuple1_to_list"
   ]
  },
  {
   "cell_type": "code",
   "execution_count": 206,
   "id": "dddad1ef",
   "metadata": {},
   "outputs": [],
   "source": [
    "tuple1_to_list[-1] = 4\n"
   ]
  },
  {
   "cell_type": "code",
   "execution_count": 207,
   "id": "142a35e5",
   "metadata": {},
   "outputs": [
    {
     "data": {
      "text/plain": [
       "[1, 2, 4]"
      ]
     },
     "execution_count": 207,
     "metadata": {},
     "output_type": "execute_result"
    }
   ],
   "source": [
    "tuple1_to_list"
   ]
  },
  {
   "cell_type": "code",
   "execution_count": 209,
   "id": "7fb99755",
   "metadata": {},
   "outputs": [],
   "source": [
    "tuple_1  = tuple(tuple1_to_list)"
   ]
  },
  {
   "cell_type": "code",
   "execution_count": 210,
   "id": "8286dd96",
   "metadata": {},
   "outputs": [
    {
     "data": {
      "text/plain": [
       "(1, 2, 4)"
      ]
     },
     "execution_count": 210,
     "metadata": {},
     "output_type": "execute_result"
    }
   ],
   "source": [
    "tuple_1"
   ]
  },
  {
   "cell_type": "code",
   "execution_count": null,
   "id": "24b7b554",
   "metadata": {},
   "outputs": [],
   "source": []
  },
  {
   "cell_type": "code",
   "execution_count": 197,
   "id": "6b9dab75",
   "metadata": {},
   "outputs": [],
   "source": [
    "list1 = [1,2,3,4,5]"
   ]
  },
  {
   "cell_type": "code",
   "execution_count": 200,
   "id": "4ba7287d",
   "metadata": {},
   "outputs": [],
   "source": [
    "list1[-1] = 6"
   ]
  },
  {
   "cell_type": "code",
   "execution_count": 201,
   "id": "19ed80a0",
   "metadata": {},
   "outputs": [
    {
     "data": {
      "text/plain": [
       "[1, 2, 3, 4, 6]"
      ]
     },
     "execution_count": 201,
     "metadata": {},
     "output_type": "execute_result"
    }
   ],
   "source": [
    "list1"
   ]
  },
  {
   "cell_type": "code",
   "execution_count": null,
   "id": "d58af769",
   "metadata": {},
   "outputs": [],
   "source": []
  },
  {
   "cell_type": "code",
   "execution_count": null,
   "id": "b9d139d9",
   "metadata": {},
   "outputs": [],
   "source": []
  },
  {
   "cell_type": "code",
   "execution_count": null,
   "id": "5e15e636",
   "metadata": {},
   "outputs": [],
   "source": []
  },
  {
   "cell_type": "code",
   "execution_count": null,
   "id": "68968c12",
   "metadata": {},
   "outputs": [],
   "source": []
  },
  {
   "cell_type": "markdown",
   "id": "8b7abf5d",
   "metadata": {},
   "source": [
    "#### How To Add New Elements To A Tuple"
   ]
  },
  {
   "cell_type": "markdown",
   "id": "4647bedf",
   "metadata": {},
   "source": [
    "<li>Tuples are immutable data structures in Python, so we can not add or delete the items from the tuples created in Python like lists there is no append() or extend() function.</li> \n",
    "<li>We can add new elements to a tuple by using a '+' operator.</li>\n",
    "<li>For adding multiple elements in a tuple, we can convert a tuple to a list for adding more than one items.</li>\n"
   ]
  },
  {
   "cell_type": "code",
   "execution_count": 213,
   "id": "0f7939f5",
   "metadata": {},
   "outputs": [],
   "source": [
    "a = (1, 2,3)\n",
    "b = a + (4,)"
   ]
  },
  {
   "cell_type": "code",
   "execution_count": 214,
   "id": "911903fb",
   "metadata": {},
   "outputs": [
    {
     "data": {
      "text/plain": [
       "(1, 2, 3, 4)"
      ]
     },
     "execution_count": 214,
     "metadata": {},
     "output_type": "execute_result"
    }
   ],
   "source": [
    "b"
   ]
  },
  {
   "cell_type": "markdown",
   "id": "a073df44",
   "metadata": {},
   "source": [
    "#### How To Delete Element From A Tuple"
   ]
  },
  {
   "cell_type": "code",
   "execution_count": 216,
   "id": "477d0f14",
   "metadata": {},
   "outputs": [],
   "source": [
    "del b"
   ]
  },
  {
   "cell_type": "markdown",
   "id": "02113ce8",
   "metadata": {},
   "source": [
    "#### Set \n",
    "<li>A Set is an unordered collection data type that is iterable, mutable, and has no duplicate elements.</li>\n",
    "\n"
   ]
  },
  {
   "cell_type": "code",
   "execution_count": 218,
   "id": "dc4bf74e",
   "metadata": {},
   "outputs": [
    {
     "name": "stdout",
     "output_type": "stream",
     "text": [
      "{1, 2, 3}\n"
     ]
    }
   ],
   "source": [
    "a = {1,2,3}\n",
    "b = {4,3,2}\n",
    "print(a)"
   ]
  },
  {
   "cell_type": "code",
   "execution_count": 219,
   "id": "9a2dc723",
   "metadata": {},
   "outputs": [
    {
     "name": "stdout",
     "output_type": "stream",
     "text": [
      "<class 'set'>\n"
     ]
    }
   ],
   "source": [
    "print(type(a))"
   ]
  },
  {
   "cell_type": "code",
   "execution_count": 221,
   "id": "8883b4ee",
   "metadata": {},
   "outputs": [
    {
     "name": "stdout",
     "output_type": "stream",
     "text": [
      "{2, 3, 4}\n"
     ]
    }
   ],
   "source": [
    "b = [2,3,4]\n",
    "c = set(b)\n",
    "print(c)"
   ]
  },
  {
   "cell_type": "code",
   "execution_count": 222,
   "id": "3add1a47",
   "metadata": {},
   "outputs": [],
   "source": [
    "a = set([1,2,3])"
   ]
  },
  {
   "cell_type": "code",
   "execution_count": 223,
   "id": "275bea48",
   "metadata": {},
   "outputs": [
    {
     "name": "stdout",
     "output_type": "stream",
     "text": [
      "{1, 2, 3}\n",
      "<class 'set'>\n"
     ]
    }
   ],
   "source": [
    "print(a)\n",
    "print(type(a))"
   ]
  },
  {
   "cell_type": "markdown",
   "id": "119cd9c1",
   "metadata": {},
   "source": [
    "#### Set Operations\n",
    "\n",
    "<ol>\n",
    "<li><b>Insertion</b> : We can add new elements in a set by using <b>add()</b> method.Insertion in set is done through <b>set.add()</b> function.</li>\n",
    "    <li><b>Union</b> : Two sets can be merged using <b>union()</b> function or <b>|</b> operator. This operation combines the elements of two sets and removes the duplicate elements since duplication is not allowed in a set.</li>\n",
    "<li><b>Intersection</b>: This operation can be done through intersection() or & operator. Common Elements are selected.</li>\n",
    "<li><b>Set Difference</b>: To find difference in between sets, this can be done through difference() or – operator.</li>\n",
    "<li><b>Clear:</b>: Set <b>clear()</b> method empties the whole set inplace.</b>\n",
    "</ol>\n"
   ]
  },
  {
   "cell_type": "code",
   "execution_count": 224,
   "id": "46a51513",
   "metadata": {},
   "outputs": [],
   "source": [
    "set1 = {1,2,3}\n",
    "set1.add(4)"
   ]
  },
  {
   "cell_type": "code",
   "execution_count": 225,
   "id": "39fe37fb",
   "metadata": {},
   "outputs": [
    {
     "data": {
      "text/plain": [
       "{1, 2, 3, 4}"
      ]
     },
     "execution_count": 225,
     "metadata": {},
     "output_type": "execute_result"
    }
   ],
   "source": [
    "set1"
   ]
  },
  {
   "cell_type": "code",
   "execution_count": 226,
   "id": "6daecc46",
   "metadata": {},
   "outputs": [],
   "source": [
    "set2 = {4,5,6,7,8}\n",
    "set3 = {8,9,10}"
   ]
  },
  {
   "cell_type": "code",
   "execution_count": 227,
   "id": "fc4e0d7e",
   "metadata": {},
   "outputs": [],
   "source": [
    "set4 = set2 | set3"
   ]
  },
  {
   "cell_type": "code",
   "execution_count": 228,
   "id": "ddcbfd1a",
   "metadata": {},
   "outputs": [
    {
     "name": "stdout",
     "output_type": "stream",
     "text": [
      "{4, 5, 6, 7, 8, 9, 10}\n"
     ]
    }
   ],
   "source": [
    "print(set4)"
   ]
  },
  {
   "cell_type": "code",
   "execution_count": 229,
   "id": "393d783c",
   "metadata": {},
   "outputs": [],
   "source": [
    "set5 = set2 & set3"
   ]
  },
  {
   "cell_type": "code",
   "execution_count": 230,
   "id": "deccb734",
   "metadata": {},
   "outputs": [
    {
     "name": "stdout",
     "output_type": "stream",
     "text": [
      "{8}\n"
     ]
    }
   ],
   "source": [
    "print(set5)"
   ]
  },
  {
   "cell_type": "code",
   "execution_count": 231,
   "id": "ccbbb7fb",
   "metadata": {},
   "outputs": [
    {
     "name": "stdout",
     "output_type": "stream",
     "text": [
      "1\n"
     ]
    }
   ],
   "source": [
    "print(len(set5))"
   ]
  },
  {
   "cell_type": "code",
   "execution_count": 232,
   "id": "14ef1023",
   "metadata": {},
   "outputs": [],
   "source": [
    "set6 = set2 - set3"
   ]
  },
  {
   "cell_type": "code",
   "execution_count": 233,
   "id": "8b674490",
   "metadata": {},
   "outputs": [
    {
     "data": {
      "text/plain": [
       "{4, 5, 6, 7}"
      ]
     },
     "execution_count": 233,
     "metadata": {},
     "output_type": "execute_result"
    }
   ],
   "source": [
    "set6"
   ]
  },
  {
   "cell_type": "code",
   "execution_count": 234,
   "id": "53efa915",
   "metadata": {},
   "outputs": [],
   "source": [
    "set6.clear()"
   ]
  },
  {
   "cell_type": "code",
   "execution_count": 235,
   "id": "31241ba0",
   "metadata": {},
   "outputs": [
    {
     "data": {
      "text/plain": [
       "set()"
      ]
     },
     "execution_count": 235,
     "metadata": {},
     "output_type": "execute_result"
    }
   ],
   "source": [
    "set6"
   ]
  },
  {
   "cell_type": "markdown",
   "id": "34f9124b",
   "metadata": {},
   "source": [
    "#### Dictionary\n",
    "\n",
    "<li>A dictionary is a collection which is ordered, changeable and do not allow duplicates.</li>\n",
    "<li>A dictionary is a collection of keys values, used to store data values.</li>\n",
    "<li>In Python, a dictionary can be created by placing a sequence of elements within curly {} braces, separated by ‘comma’.</li>\n",
    "<li>Dictionary holds pairs of values, one being the Key and the other is value associated with a particular key.</li> \n",
    "<li>Values in a dictionary can be of any data type and can be duplicated, whereas keys can’t be repeated and must be immutable.</li>\n",
    "<li>Dictionary keys are case sensitive, the same name but different cases of Key will be treated differently.</li> "
   ]
  },
  {
   "cell_type": "code",
   "execution_count": 236,
   "id": "f17bfc4a",
   "metadata": {},
   "outputs": [],
   "source": [
    "dict1 = {\"name\": \"Prabhat\", \"age\": 24, \"location\": \"Manigram\"}\n"
   ]
  },
  {
   "cell_type": "code",
   "execution_count": 237,
   "id": "4da5ca6c",
   "metadata": {},
   "outputs": [
    {
     "data": {
      "text/plain": [
       "'Kushal'"
      ]
     },
     "execution_count": 237,
     "metadata": {},
     "output_type": "execute_result"
    }
   ],
   "source": [
    "{\"keys\": value}"
   ]
  },
  {
   "cell_type": "markdown",
   "id": "a7109244",
   "metadata": {},
   "source": [
    "#### Question\n",
    "\n",
    "<li>Map content ratings to their corresponding numbers by recreating the dictionary above: <b>{'4+': 4433, '9+': 987, '12+': 1155, '17+': 622}.</b></li>\n",
    "<li>Assign the dictionary to a variable named content_ratings.</li>\n",
    "<li>Print content_ratings, and examine the output carefully.</li>"
   ]
  },
  {
   "cell_type": "code",
   "execution_count": 238,
   "id": "97c7fc52",
   "metadata": {},
   "outputs": [
    {
     "name": "stdout",
     "output_type": "stream",
     "text": [
      "{'4+': 4433, '9+': 987, '12+': 1155, '17+': 622}\n"
     ]
    }
   ],
   "source": [
    "content_ratings = {'4+': 4433, '9+': 987, '12+': 1155, '17+': 622}\n",
    "print(content_ratings)"
   ]
  },
  {
   "cell_type": "code",
   "execution_count": 240,
   "id": "3afb4dac",
   "metadata": {},
   "outputs": [
    {
     "name": "stdout",
     "output_type": "stream",
     "text": [
      "dict\n"
     ]
    }
   ],
   "source": [
    "print(type(content_ratings).__name__)"
   ]
  },
  {
   "cell_type": "markdown",
   "id": "a18e42fa",
   "metadata": {},
   "source": [
    "#### Indexing & Accessing Elements In A Dictionary"
   ]
  },
  {
   "cell_type": "code",
   "execution_count": 242,
   "id": "a59ee4a2",
   "metadata": {},
   "outputs": [
    {
     "data": {
      "text/plain": [
       "622"
      ]
     },
     "execution_count": 242,
     "metadata": {},
     "output_type": "execute_result"
    }
   ],
   "source": [
    "content_ratings['17+']"
   ]
  },
  {
   "cell_type": "code",
   "execution_count": 245,
   "id": "31d8a4eb",
   "metadata": {},
   "outputs": [],
   "source": [
    "content_ratings['17+'] += 1"
   ]
  },
  {
   "cell_type": "code",
   "execution_count": 246,
   "id": "0b1138e5",
   "metadata": {},
   "outputs": [
    {
     "data": {
      "text/plain": [
       "{'4+': 4433, '9+': 987, '12+': 1155, '17+': 623}"
      ]
     },
     "execution_count": 246,
     "metadata": {},
     "output_type": "execute_result"
    }
   ],
   "source": [
    "content_ratings"
   ]
  },
  {
   "cell_type": "markdown",
   "id": "bccb9a33",
   "metadata": {},
   "source": [
    "#### Question\n",
    "<li>Retrieve values from the content_ratings dictionary.</li>\n",
    "<li>Assign the value at index '9+' to a variable named over_9.</li>\n",
    "<li>Assign the value at index '17+' to a variable named over_17.</li>\n",
    "<li>Print over_9 and over_17.</li>"
   ]
  },
  {
   "cell_type": "code",
   "execution_count": 247,
   "id": "3fa3e33a",
   "metadata": {},
   "outputs": [
    {
     "name": "stdout",
     "output_type": "stream",
     "text": [
      "987\n",
      "623\n"
     ]
    }
   ],
   "source": [
    "over_9 = content_ratings['9+']\n",
    "over_17 = content_ratings['17+']\n",
    "print(over_9)\n",
    "print(over_17)"
   ]
  },
  {
   "cell_type": "markdown",
   "id": "d1a4174d",
   "metadata": {},
   "source": [
    "#### Dictionaries Within A Dictionary\n",
    "\n",
    "<li> We can also create a dictionary within a dictionary.</li>"
   ]
  },
  {
   "cell_type": "code",
   "execution_count": 248,
   "id": "faca075a",
   "metadata": {},
   "outputs": [],
   "source": [
    "dict_within_dict1 = {\"Dict1\": {1,2,3},\n",
    "                    \"Dict2\": {4,5,6}}"
   ]
  },
  {
   "cell_type": "code",
   "execution_count": 249,
   "id": "c82ff482",
   "metadata": {},
   "outputs": [
    {
     "data": {
      "text/plain": [
       "{'Dict1': {1, 2, 3}, 'Dict2': {4, 5, 6}}"
      ]
     },
     "execution_count": 249,
     "metadata": {},
     "output_type": "execute_result"
    }
   ],
   "source": [
    "dict_within_dict1"
   ]
  },
  {
   "cell_type": "markdown",
   "id": "8802c750",
   "metadata": {},
   "source": [
    "#### Accessing a dictionary and its elements in Dictionary loops"
   ]
  },
  {
   "cell_type": "code",
   "execution_count": 255,
   "id": "231ffa6c",
   "metadata": {},
   "outputs": [
    {
     "data": {
      "text/plain": [
       "6"
      ]
     },
     "execution_count": 255,
     "metadata": {},
     "output_type": "execute_result"
    }
   ],
   "source": [
    "list(dict_within_dict1[\"Dict2\"])[-1]"
   ]
  },
  {
   "cell_type": "code",
   "execution_count": null,
   "id": "356fb768",
   "metadata": {},
   "outputs": [],
   "source": []
  },
  {
   "cell_type": "code",
   "execution_count": null,
   "id": "8895e406",
   "metadata": {},
   "outputs": [],
   "source": []
  },
  {
   "cell_type": "markdown",
   "id": "ab15c2cc",
   "metadata": {},
   "source": [
    "#### Alternative Methods For Creating A Dictionary\n",
    "\n",
    "\n",
    "**Alternatively, we can create a dictionary and populate it with values by following these steps:**\n",
    "<ol>\n",
    "    <li>Create an empty dictionary.</li>\n",
    "    <li>Add values one by one to that empty dictionary.</li>\n",
    "<li>Adding a value to a dictionary follows the pattern dictionary_name[index] = value. To add a value 24 with an index 'Prabhat' to a dictionary named age, we need to use the code age['Prabhat'] = 24.</li>"
   ]
  },
  {
   "cell_type": "code",
   "execution_count": 256,
   "id": "150e7e44",
   "metadata": {},
   "outputs": [],
   "source": [
    "empt_dict = {}\n",
    "empt_dict['name'] = \"Prabhat\""
   ]
  },
  {
   "cell_type": "code",
   "execution_count": 258,
   "id": "1ad98e83",
   "metadata": {},
   "outputs": [],
   "source": [
    "empt_dict['age'] = 5"
   ]
  },
  {
   "cell_type": "code",
   "execution_count": 259,
   "id": "aba21436",
   "metadata": {},
   "outputs": [
    {
     "data": {
      "text/plain": [
       "{'name': 'Prabhat', 'age': 5}"
      ]
     },
     "execution_count": 259,
     "metadata": {},
     "output_type": "execute_result"
    }
   ],
   "source": [
    "empt_dict"
   ]
  },
  {
   "cell_type": "markdown",
   "id": "862d49c5",
   "metadata": {},
   "source": [
    "#### Question\n",
    "**Similarly, like we did above; first instantiate an empty dictionary and then create a dictionary with name fvt_colors where you have to specify the favourite colors for five different persons(students).**"
   ]
  },
  {
   "cell_type": "code",
   "execution_count": 260,
   "id": "cd45ef28",
   "metadata": {},
   "outputs": [],
   "source": [
    "fvt_colors = {}\n",
    "fvt_colors['prashamsha'] = \"Blue\"\n",
    "fvt_colors['sher_bahadur'] = \"Red\"\n",
    "fvt_colors['jiwan'] = \"Gold\"\n",
    "fvt_colors['shanti'] = \"white\"\n",
    "fvt_colors['bimal'] = \"black\""
   ]
  },
  {
   "cell_type": "code",
   "execution_count": 261,
   "id": "457c5a92",
   "metadata": {},
   "outputs": [
    {
     "data": {
      "text/plain": [
       "{'prashamsha': 'Blue',\n",
       " 'sher_bahadur': 'Red',\n",
       " 'jiwan': 'Gold',\n",
       " 'shanti': 'white',\n",
       " 'bimal': 'black'}"
      ]
     },
     "execution_count": 261,
     "metadata": {},
     "output_type": "execute_result"
    }
   ],
   "source": [
    "fvt_colors"
   ]
  },
  {
   "cell_type": "markdown",
   "id": "6dea82d1",
   "metadata": {},
   "source": [
    "#### Rules Of A Dictionary\n",
    "<li>Dictionary values can be of any data type: strings, integers, floats, Booleans, lists, and even dictionaries.</li>\n",
    "<li>Dictionary keys can be almost any data type, except lists and dictionaries. If we use lists or dictionaries as dictionary keys, we'll get an error.</li>\n",
    "\n"
   ]
  },
  {
   "cell_type": "code",
   "execution_count": 262,
   "id": "e0a58dfd",
   "metadata": {},
   "outputs": [],
   "source": [
    "dict_all = {\"integer\": 2, \"float\": 4.5, \"strings\": \"hello\",\n",
    "           \"bool\": True, \"list\": [1,2,4], \"dict\": {\"dict\": \"a\"}}"
   ]
  },
  {
   "cell_type": "code",
   "execution_count": 263,
   "id": "976c1472",
   "metadata": {},
   "outputs": [
    {
     "data": {
      "text/plain": [
       "{'integer': 2,\n",
       " 'float': 4.5,\n",
       " 'strings': 'hello',\n",
       " 'bool': True,\n",
       " 'list': [1, 2, 4],\n",
       " 'dict': {'dict': 'a'}}"
      ]
     },
     "execution_count": 263,
     "metadata": {},
     "output_type": "execute_result"
    }
   ],
   "source": [
    "dict_all"
   ]
  },
  {
   "cell_type": "markdown",
   "id": "535fb5c0",
   "metadata": {},
   "source": [
    "#### Question\n",
    "**Check the following code and say whether it will give us an error or not. If it outputs to error then correct the code.**"
   ]
  },
  {
   "cell_type": "code",
   "execution_count": 264,
   "id": "5b2f4ff3",
   "metadata": {},
   "outputs": [
    {
     "ename": "TypeError",
     "evalue": "unhashable type: 'list'",
     "output_type": "error",
     "traceback": [
      "\u001b[1;31m---------------------------------------------------------------------------\u001b[0m",
      "\u001b[1;31mTypeError\u001b[0m                                 Traceback (most recent call last)",
      "Cell \u001b[1;32mIn[264], line 1\u001b[0m\n\u001b[1;32m----> 1\u001b[0m {\u001b[38;5;241m4\u001b[39m: \u001b[38;5;124m'\u001b[39m\u001b[38;5;124mfour\u001b[39m\u001b[38;5;124m'\u001b[39m,\n\u001b[0;32m      2\u001b[0m \u001b[38;5;241m1.5\u001b[39m: \u001b[38;5;124m'\u001b[39m\u001b[38;5;124mone point five\u001b[39m\u001b[38;5;124m'\u001b[39m,\n\u001b[0;32m      3\u001b[0m \u001b[38;5;124m'\u001b[39m\u001b[38;5;124mstring_key\u001b[39m\u001b[38;5;124m'\u001b[39m: \u001b[38;5;124m'\u001b[39m\u001b[38;5;124mstring_value\u001b[39m\u001b[38;5;124m'\u001b[39m,\n\u001b[0;32m      4\u001b[0m \u001b[38;5;28;01mTrue\u001b[39;00m: \u001b[38;5;124m'\u001b[39m\u001b[38;5;124mTrue\u001b[39m\u001b[38;5;124m'\u001b[39m,\n\u001b[0;32m      5\u001b[0m [\u001b[38;5;241m1\u001b[39m,\u001b[38;5;241m2\u001b[39m,\u001b[38;5;241m3\u001b[39m]: \u001b[38;5;124m'\u001b[39m\u001b[38;5;124ma list\u001b[39m\u001b[38;5;124m'\u001b[39m,\n\u001b[0;32m      6\u001b[0m {\u001b[38;5;241m10\u001b[39m: \u001b[38;5;124m'\u001b[39m\u001b[38;5;124mten\u001b[39m\u001b[38;5;124m'\u001b[39m}: \u001b[38;5;124m'\u001b[39m\u001b[38;5;124ma dictionary\u001b[39m\u001b[38;5;124m'\u001b[39m}\n",
      "\u001b[1;31mTypeError\u001b[0m: unhashable type: 'list'"
     ]
    }
   ],
   "source": [
    "{4: 'four',\n",
    "1.5: 'one point five',\n",
    "'string_key': 'string_value',\n",
    "True: 'True',\n",
    "[1,2,3]: 'a list',\n",
    "{10: 'ten'}: 'a dictionary'}"
   ]
  },
  {
   "cell_type": "code",
   "execution_count": 265,
   "id": "a654654e",
   "metadata": {},
   "outputs": [],
   "source": [
    "a = {4: 'four',\n",
    "1.5: 'one point five',\n",
    "'string_key': 'string_value',\n",
    "True: 'True',\n",
    "}"
   ]
  },
  {
   "cell_type": "code",
   "execution_count": 267,
   "id": "8fefe28c",
   "metadata": {},
   "outputs": [
    {
     "data": {
      "text/plain": [
       "4"
      ]
     },
     "execution_count": 267,
     "metadata": {},
     "output_type": "execute_result"
    }
   ],
   "source": [
    "len(a)"
   ]
  },
  {
   "cell_type": "markdown",
   "id": "11ebe7cd",
   "metadata": {},
   "source": [
    "#### Calculating the length of a dictionary.\n",
    "\n",
    "<li>This can be done by using a len() built in method. This will give you the number of key:value pairs that exists in a dictionary.</li>"
   ]
  },
  {
   "cell_type": "markdown",
   "id": "c9342bc4",
   "metadata": {},
   "source": [
    "#### Check the following code and say what output will it give. \n",
    "<li>What will be the length of the given dictionary?</li>\n",
    "<li>What will be the value of a dictionary?</li>"
   ]
  },
  {
   "cell_type": "code",
   "execution_count": 269,
   "id": "1bf98e2f",
   "metadata": {},
   "outputs": [],
   "source": [
    "d_1 = {'a_key': 1,\n",
    "       'another_key': 2,\n",
    "       'a_key': 3,\n",
    "       'yet_another_key': 4,\n",
    "       'a_key': 5}\n"
   ]
  },
  {
   "cell_type": "code",
   "execution_count": 270,
   "id": "61082f21",
   "metadata": {},
   "outputs": [
    {
     "data": {
      "text/plain": [
       "3"
      ]
     },
     "execution_count": 270,
     "metadata": {},
     "output_type": "execute_result"
    }
   ],
   "source": [
    "len(d_1)"
   ]
  },
  {
   "cell_type": "code",
   "execution_count": 272,
   "id": "5a8d54d4",
   "metadata": {},
   "outputs": [
    {
     "name": "stdout",
     "output_type": "stream",
     "text": [
      "{'a_key': 5, 'another_key': 2, 'yet_another_key': 4}\n"
     ]
    }
   ],
   "source": [
    "print(d_1)"
   ]
  },
  {
   "cell_type": "code",
   "execution_count": null,
   "id": "d528a0c1",
   "metadata": {},
   "outputs": [],
   "source": []
  },
  {
   "cell_type": "markdown",
   "id": "b8d096a4",
   "metadata": {},
   "source": [
    "#### Dictionary Methods\n",
    "<ol>\n",
    "    <li>clear() – Remove all the elements from the dictionary</li>\n",
    "    <li>copy() – Returns a copy of the dictionary</li>\n",
    "    <li>get() – Returns the value of specified key</li>\n",
    "    <li>items() – Returns a list containing a tuple for each key value pair</li>\n",
    "    <li>keys() – Returns a list containing dictionary’s keys</li>\n",
    "    <li>pop() – Remove the element with specified key</li>\n",
    "    <li>popitem() – Removes the last inserted key-value pair.</li>\n",
    "    <li>update() – Updates dictionary with specified key-value pairs</li>\n",
    "    <li>values() – Returns a list of all the values of dictionary.</li>\n",
    "</ol>"
   ]
  },
  {
   "cell_type": "code",
   "execution_count": 273,
   "id": "5ae1966c",
   "metadata": {},
   "outputs": [],
   "source": [
    "dict1 = {\"name\": \"prabhat\", \"age\": 23, \"location\": \"manigram\", \"level\": \"bachelor\",\n",
    "        \"faculty\": \"B.Sc.Cs.It\", \"weight\": 70, \"height\": \"5ft 5inch\"}"
   ]
  },
  {
   "cell_type": "code",
   "execution_count": 274,
   "id": "0d438aed",
   "metadata": {},
   "outputs": [],
   "source": [
    "dict2 = dict1.copy()"
   ]
  },
  {
   "cell_type": "code",
   "execution_count": 275,
   "id": "52d99f59",
   "metadata": {},
   "outputs": [
    {
     "data": {
      "text/plain": [
       "{'name': 'prabhat',\n",
       " 'age': 23,\n",
       " 'location': 'manigram',\n",
       " 'level': 'bachelor',\n",
       " 'faculty': 'B.Sc.Cs.It',\n",
       " 'weight': 70,\n",
       " 'height': '5ft 5inch'}"
      ]
     },
     "execution_count": 275,
     "metadata": {},
     "output_type": "execute_result"
    }
   ],
   "source": [
    "dict2"
   ]
  },
  {
   "cell_type": "code",
   "execution_count": 276,
   "id": "b39a0eb6",
   "metadata": {},
   "outputs": [],
   "source": [
    "dict2.clear()"
   ]
  },
  {
   "cell_type": "code",
   "execution_count": 277,
   "id": "3d1f1df4",
   "metadata": {},
   "outputs": [
    {
     "data": {
      "text/plain": [
       "{}"
      ]
     },
     "execution_count": 277,
     "metadata": {},
     "output_type": "execute_result"
    }
   ],
   "source": [
    "dict2"
   ]
  },
  {
   "cell_type": "code",
   "execution_count": 278,
   "id": "9dd3474c",
   "metadata": {},
   "outputs": [
    {
     "data": {
      "text/plain": [
       "{'name': 'prabhat',\n",
       " 'age': 23,\n",
       " 'location': 'manigram',\n",
       " 'level': 'bachelor',\n",
       " 'faculty': 'B.Sc.Cs.It',\n",
       " 'weight': 70,\n",
       " 'height': '5ft 5inch'}"
      ]
     },
     "execution_count": 278,
     "metadata": {},
     "output_type": "execute_result"
    }
   ],
   "source": [
    "dict1"
   ]
  },
  {
   "cell_type": "code",
   "execution_count": 279,
   "id": "6a061a4f",
   "metadata": {},
   "outputs": [
    {
     "data": {
      "text/plain": [
       "70"
      ]
     },
     "execution_count": 279,
     "metadata": {},
     "output_type": "execute_result"
    }
   ],
   "source": [
    "dict1.get('weight')"
   ]
  },
  {
   "cell_type": "code",
   "execution_count": 280,
   "id": "d9a73bcb",
   "metadata": {},
   "outputs": [
    {
     "data": {
      "text/plain": [
       "70"
      ]
     },
     "execution_count": 280,
     "metadata": {},
     "output_type": "execute_result"
    }
   ],
   "source": [
    "dict1['weight']"
   ]
  },
  {
   "cell_type": "code",
   "execution_count": 281,
   "id": "9274aaa9",
   "metadata": {},
   "outputs": [
    {
     "data": {
      "text/plain": [
       "dict_items([('name', 'prabhat'), ('age', 23), ('location', 'manigram'), ('level', 'bachelor'), ('faculty', 'B.Sc.Cs.It'), ('weight', 70), ('height', '5ft 5inch')])"
      ]
     },
     "execution_count": 281,
     "metadata": {},
     "output_type": "execute_result"
    }
   ],
   "source": [
    "dict1.items()"
   ]
  },
  {
   "cell_type": "code",
   "execution_count": 282,
   "id": "350d61ea",
   "metadata": {},
   "outputs": [
    {
     "name": "stdout",
     "output_type": "stream",
     "text": [
      "dict_keys(['name', 'age', 'location', 'level', 'faculty', 'weight', 'height'])\n"
     ]
    }
   ],
   "source": [
    "keys = dict1.keys()\n",
    "print(keys)"
   ]
  },
  {
   "cell_type": "code",
   "execution_count": 283,
   "id": "39c836ca",
   "metadata": {},
   "outputs": [
    {
     "data": {
      "text/plain": [
       "['name', 'age', 'location', 'level', 'faculty', 'weight', 'height']"
      ]
     },
     "execution_count": 283,
     "metadata": {},
     "output_type": "execute_result"
    }
   ],
   "source": [
    "list(keys)"
   ]
  },
  {
   "cell_type": "code",
   "execution_count": 284,
   "id": "1c3f4515",
   "metadata": {},
   "outputs": [
    {
     "data": {
      "text/plain": [
       "'5ft 5inch'"
      ]
     },
     "execution_count": 284,
     "metadata": {},
     "output_type": "execute_result"
    }
   ],
   "source": [
    "dict1.pop('height')"
   ]
  },
  {
   "cell_type": "code",
   "execution_count": 285,
   "id": "67765e22",
   "metadata": {},
   "outputs": [
    {
     "data": {
      "text/plain": [
       "{'name': 'prabhat',\n",
       " 'age': 23,\n",
       " 'location': 'manigram',\n",
       " 'level': 'bachelor',\n",
       " 'faculty': 'B.Sc.Cs.It',\n",
       " 'weight': 70}"
      ]
     },
     "execution_count": 285,
     "metadata": {},
     "output_type": "execute_result"
    }
   ],
   "source": [
    "dict1"
   ]
  },
  {
   "cell_type": "code",
   "execution_count": 286,
   "id": "e1585b9c",
   "metadata": {},
   "outputs": [
    {
     "data": {
      "text/plain": [
       "('weight', 70)"
      ]
     },
     "execution_count": 286,
     "metadata": {},
     "output_type": "execute_result"
    }
   ],
   "source": [
    "dict1.popitem()"
   ]
  },
  {
   "cell_type": "code",
   "execution_count": 287,
   "id": "f51c66eb",
   "metadata": {},
   "outputs": [
    {
     "data": {
      "text/plain": [
       "{'name': 'prabhat',\n",
       " 'age': 23,\n",
       " 'location': 'manigram',\n",
       " 'level': 'bachelor',\n",
       " 'faculty': 'B.Sc.Cs.It'}"
      ]
     },
     "execution_count": 287,
     "metadata": {},
     "output_type": "execute_result"
    }
   ],
   "source": [
    "dict1"
   ]
  },
  {
   "cell_type": "code",
   "execution_count": 288,
   "id": "8fdeea8a",
   "metadata": {},
   "outputs": [],
   "source": [
    "dict1['age'] = 24"
   ]
  },
  {
   "cell_type": "code",
   "execution_count": 289,
   "id": "3e12801e",
   "metadata": {},
   "outputs": [
    {
     "data": {
      "text/plain": [
       "{'name': 'prabhat',\n",
       " 'age': 24,\n",
       " 'location': 'manigram',\n",
       " 'level': 'bachelor',\n",
       " 'faculty': 'B.Sc.Cs.It'}"
      ]
     },
     "execution_count": 289,
     "metadata": {},
     "output_type": "execute_result"
    }
   ],
   "source": [
    "dict1"
   ]
  },
  {
   "cell_type": "code",
   "execution_count": 290,
   "id": "dc4cd09d",
   "metadata": {},
   "outputs": [],
   "source": [
    "dict1.update({\"age\": 25})"
   ]
  },
  {
   "cell_type": "code",
   "execution_count": 291,
   "id": "b7fc5cc3",
   "metadata": {},
   "outputs": [
    {
     "data": {
      "text/plain": [
       "{'name': 'prabhat',\n",
       " 'age': 25,\n",
       " 'location': 'manigram',\n",
       " 'level': 'bachelor',\n",
       " 'faculty': 'B.Sc.Cs.It'}"
      ]
     },
     "execution_count": 291,
     "metadata": {},
     "output_type": "execute_result"
    }
   ],
   "source": [
    "dict1"
   ]
  },
  {
   "cell_type": "code",
   "execution_count": 294,
   "id": "e1480350",
   "metadata": {},
   "outputs": [
    {
     "data": {
      "text/plain": [
       "dict_values(['prabhat', 25, 'manigram', 'bachelor', 'B.Sc.Cs.It'])"
      ]
     },
     "execution_count": 294,
     "metadata": {},
     "output_type": "execute_result"
    }
   ],
   "source": [
    "dict1.values()"
   ]
  },
  {
   "cell_type": "code",
   "execution_count": null,
   "id": "0a0f623e",
   "metadata": {},
   "outputs": [],
   "source": []
  },
  {
   "cell_type": "code",
   "execution_count": null,
   "id": "c94d1d69",
   "metadata": {},
   "outputs": [],
   "source": []
  }
 ],
 "metadata": {
  "kernelspec": {
   "display_name": "Python 3 (ipykernel)",
   "language": "python",
   "name": "python3"
  },
  "language_info": {
   "codemirror_mode": {
    "name": "ipython",
    "version": 3
   },
   "file_extension": ".py",
   "mimetype": "text/x-python",
   "name": "python",
   "nbconvert_exporter": "python",
   "pygments_lexer": "ipython3",
   "version": "3.8.0"
  }
 },
 "nbformat": 4,
 "nbformat_minor": 5
}
