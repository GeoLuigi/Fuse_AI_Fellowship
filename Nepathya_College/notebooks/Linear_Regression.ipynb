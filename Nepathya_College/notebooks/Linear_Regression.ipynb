{
 "cells": [
  {
   "cell_type": "markdown",
   "id": "c4ea5ac4",
   "metadata": {},
   "source": [
    "# Linear Regression\n",
    "<li>Linear regression is a statistical practice of calculating a straight line that specifies a mathematical relationship between two variables.</li>\n",
    "<li>Linear regression analysis is used to predict the value of a variable based on the value of another variable.</li>\n",
    "<li>The variable you want to predict is called the dependent variable.</li>\n",
    "<li>The variable you are using to predict the other variable's value is called the independent variable.</li>\n",
    "\n",
    "<ol>\n",
    "    <li>Simple Linear Regression</li>\n",
    "    <li>Multiple Linear Regression</li>\n",
    "</ol>"
   ]
  },
  {
   "cell_type": "markdown",
   "id": "6c4a51cc",
   "metadata": {},
   "source": [
    "## 1. Simple Linear Regression\n",
    "<li>Simple linear regression is a regression model that estimates the relationship between one independent and one dependent variable using a straight line.</li>\n",
    "<li>Both variables should be quantitative.</li>\n",
    "\n",
    "<li>The following equation is the general form of the simple linear regression model.</li>\n",
    "<code>\n",
    "    ^\n",
    "    y =B0 + B1x1 \n",
    "</code>\n",
    "Where    \n",
    "^\n",
    "y represents the predicted value, \n",
    "x1 represents the feature column we choose to use in our model.\n",
    "<li>These values are independent of the dataset.</li>\n",
    "<li>On the other hand, B0 and B1 represent the parameter values that are specific to the dataset.</li>\n",
    "<li>The goal of simple linear regression is to find the optimal B0 and B1 values that best describe the relationship between the feature and the target column.</li>\n"
   ]
  },
  {
   "cell_type": "markdown",
   "id": "0363f6dd",
   "metadata": {},
   "source": [
    "<li>The following diagram shows different simple linear regression models depending on the data:</li>\n",
    "\n",
    "![](images/regression_figure.png)\n",
    "\n",
    "<li>The first step is to select the feature x1, we want to use in our model.</li>\n",
    "<li>Once we select this feature, we can use scikit-learn to determine the optimal parameter values B0 and B1 based on the training data.</li>\n"
   ]
  },
  {
   "cell_type": "code",
   "execution_count": 1,
   "id": "80a58dde",
   "metadata": {},
   "outputs": [],
   "source": [
    "import numpy as np\n",
    "import pandas as pd\n",
    "import seaborn as sns\n",
    "import matplotlib.pyplot as plt\n",
    "from sklearn.metrics import mean_squared_error, mean_absolute_error, r2_score\n"
   ]
  },
  {
   "cell_type": "code",
   "execution_count": 2,
   "id": "eb5c3a91",
   "metadata": {},
   "outputs": [
    {
     "data": {
      "text/plain": [
       "(200, 4)"
      ]
     },
     "execution_count": 2,
     "metadata": {},
     "output_type": "execute_result"
    }
   ],
   "source": [
    "df = pd.read_csv('csv_data/advertising.csv')\n",
    "df.shape"
   ]
  },
  {
   "cell_type": "code",
   "execution_count": 3,
   "id": "b6a0c2ee",
   "metadata": {},
   "outputs": [
    {
     "data": {
      "text/html": [
       "<div>\n",
       "<style scoped>\n",
       "    .dataframe tbody tr th:only-of-type {\n",
       "        vertical-align: middle;\n",
       "    }\n",
       "\n",
       "    .dataframe tbody tr th {\n",
       "        vertical-align: top;\n",
       "    }\n",
       "\n",
       "    .dataframe thead th {\n",
       "        text-align: right;\n",
       "    }\n",
       "</style>\n",
       "<table border=\"1\" class=\"dataframe\">\n",
       "  <thead>\n",
       "    <tr style=\"text-align: right;\">\n",
       "      <th></th>\n",
       "      <th>TV</th>\n",
       "      <th>Radio</th>\n",
       "      <th>Newspaper</th>\n",
       "      <th>Sales</th>\n",
       "    </tr>\n",
       "  </thead>\n",
       "  <tbody>\n",
       "    <tr>\n",
       "      <th>0</th>\n",
       "      <td>230.1</td>\n",
       "      <td>37.8</td>\n",
       "      <td>69.2</td>\n",
       "      <td>22.1</td>\n",
       "    </tr>\n",
       "    <tr>\n",
       "      <th>1</th>\n",
       "      <td>44.5</td>\n",
       "      <td>39.3</td>\n",
       "      <td>45.1</td>\n",
       "      <td>10.4</td>\n",
       "    </tr>\n",
       "    <tr>\n",
       "      <th>2</th>\n",
       "      <td>17.2</td>\n",
       "      <td>45.9</td>\n",
       "      <td>69.3</td>\n",
       "      <td>12.0</td>\n",
       "    </tr>\n",
       "    <tr>\n",
       "      <th>3</th>\n",
       "      <td>151.5</td>\n",
       "      <td>41.3</td>\n",
       "      <td>58.5</td>\n",
       "      <td>16.5</td>\n",
       "    </tr>\n",
       "    <tr>\n",
       "      <th>4</th>\n",
       "      <td>180.8</td>\n",
       "      <td>10.8</td>\n",
       "      <td>58.4</td>\n",
       "      <td>17.9</td>\n",
       "    </tr>\n",
       "  </tbody>\n",
       "</table>\n",
       "</div>"
      ],
      "text/plain": [
       "      TV  Radio  Newspaper  Sales\n",
       "0  230.1   37.8       69.2   22.1\n",
       "1   44.5   39.3       45.1   10.4\n",
       "2   17.2   45.9       69.3   12.0\n",
       "3  151.5   41.3       58.5   16.5\n",
       "4  180.8   10.8       58.4   17.9"
      ]
     },
     "execution_count": 3,
     "metadata": {},
     "output_type": "execute_result"
    }
   ],
   "source": [
    "df.head()"
   ]
  },
  {
   "cell_type": "code",
   "execution_count": 4,
   "id": "4f679fdc",
   "metadata": {},
   "outputs": [
    {
     "data": {
      "text/plain": [
       "<AxesSubplot: xlabel='TV', ylabel='Density'>"
      ]
     },
     "execution_count": 4,
     "metadata": {},
     "output_type": "execute_result"
    },
    {
     "data": {
      "image/png": "[encoded data removed]",
      "text/plain": [
       "<Figure size 640x480 with 1 Axes>"
      ]
     },
     "metadata": {},
     "output_type": "display_data"
    }
   ],
   "source": [
    "sns.kdeplot(df['TV'])"
   ]
  },
  {
   "cell_type": "code",
   "execution_count": 5,
   "id": "a49357a5",
   "metadata": {},
   "outputs": [
    {
     "data": {
      "image/png": "[encoded data removed]",
      "text/plain": [
       "<Figure size 800x600 with 1 Axes>"
      ]
     },
     "metadata": {},
     "output_type": "display_data"
    }
   ],
   "source": [
    "plt.figure(figsize = (8, 6))\n",
    "plt.scatter(x = df['TV'], y = df['Sales'], color = 'red')\n",
    "plt.xlabel('TV Advertising')\n",
    "plt.ylabel('Sales')\n",
    "plt.title('Sales For TV Advertising')\n",
    "plt.show()"
   ]
  },
  {
   "cell_type": "code",
   "execution_count": 6,
   "id": "90095aeb",
   "metadata": {},
   "outputs": [],
   "source": [
    "X = df[['TV']]\n",
    "y = df['Sales']"
   ]
  },
  {
   "cell_type": "code",
   "execution_count": 7,
   "id": "deb484b5",
   "metadata": {},
   "outputs": [],
   "source": [
    "from sklearn.model_selection import train_test_split"
   ]
  },
  {
   "cell_type": "code",
   "execution_count": 8,
   "id": "915dc7f5",
   "metadata": {},
   "outputs": [],
   "source": [
    "X_train, X_test, y_train, y_test = train_test_split(X, y, test_size = 0.25, random_state = 42)"
   ]
  },
  {
   "cell_type": "code",
   "execution_count": 9,
   "id": "f8a642f6",
   "metadata": {},
   "outputs": [
    {
     "data": {
      "text/plain": [
       "(150, 1)"
      ]
     },
     "execution_count": 9,
     "metadata": {},
     "output_type": "execute_result"
    }
   ],
   "source": [
    "X_train.shape"
   ]
  },
  {
   "cell_type": "code",
   "execution_count": 10,
   "id": "a241581f",
   "metadata": {},
   "outputs": [
    {
     "data": {
      "text/plain": [
       "(150,)"
      ]
     },
     "execution_count": 10,
     "metadata": {},
     "output_type": "execute_result"
    }
   ],
   "source": [
    "y_train.shape"
   ]
  },
  {
   "cell_type": "code",
   "execution_count": 11,
   "id": "8266a485",
   "metadata": {},
   "outputs": [
    {
     "data": {
      "text/plain": [
       "(50, 1)"
      ]
     },
     "execution_count": 11,
     "metadata": {},
     "output_type": "execute_result"
    }
   ],
   "source": [
    "X_test.shape"
   ]
  },
  {
   "cell_type": "code",
   "execution_count": 12,
   "id": "533728a2",
   "metadata": {},
   "outputs": [
    {
     "data": {
      "text/plain": [
       "(50,)"
      ]
     },
     "execution_count": 12,
     "metadata": {},
     "output_type": "execute_result"
    }
   ],
   "source": [
    "y_test.shape"
   ]
  },
  {
   "cell_type": "code",
   "execution_count": 13,
   "id": "22bda66e",
   "metadata": {},
   "outputs": [],
   "source": [
    "from sklearn.linear_model import LinearRegression"
   ]
  },
  {
   "cell_type": "code",
   "execution_count": 14,
   "id": "be339890",
   "metadata": {},
   "outputs": [],
   "source": [
    "lr = LinearRegression()"
   ]
  },
  {
   "cell_type": "code",
   "execution_count": 15,
   "id": "eea8082b",
   "metadata": {},
   "outputs": [
    {
     "data": {
      "text/html": [
       "<style>#sk-container-id-1 {color: black;background-color: white;}#sk-container-id-1 pre{padding: 0;}#sk-container-id-1 div.sk-toggleable {background-color: white;}#sk-container-id-1 label.sk-toggleable__label {cursor: pointer;display: block;width: 100%;margin-bottom: 0;padding: 0.3em;box-sizing: border-box;text-align: center;}#sk-container-id-1 label.sk-toggleable__label-arrow:before {content: \"▸\";float: left;margin-right: 0.25em;color: #696969;}#sk-container-id-1 label.sk-toggleable__label-arrow:hover:before {color: black;}#sk-container-id-1 div.sk-estimator:hover label.sk-toggleable__label-arrow:before {color: black;}#sk-container-id-1 div.sk-toggleable__content {max-height: 0;max-width: 0;overflow: hidden;text-align: left;background-color: #f0f8ff;}#sk-container-id-1 div.sk-toggleable__content pre {margin: 0.2em;color: black;border-radius: 0.25em;background-color: #f0f8ff;}#sk-container-id-1 input.sk-toggleable__control:checked~div.sk-toggleable__content {max-height: 200px;max-width: 100%;overflow: auto;}#sk-container-id-1 input.sk-toggleable__control:checked~label.sk-toggleable__label-arrow:before {content: \"▾\";}#sk-container-id-1 div.sk-estimator input.sk-toggleable__control:checked~label.sk-toggleable__label {background-color: #d4ebff;}#sk-container-id-1 div.sk-label input.sk-toggleable__control:checked~label.sk-toggleable__label {background-color: #d4ebff;}#sk-container-id-1 input.sk-hidden--visually {border: 0;clip: rect(1px 1px 1px 1px);clip: rect(1px, 1px, 1px, 1px);height: 1px;margin: -1px;overflow: hidden;padding: 0;position: absolute;width: 1px;}#sk-container-id-1 div.sk-estimator {font-family: monospace;background-color: #f0f8ff;border: 1px dotted black;border-radius: 0.25em;box-sizing: border-box;margin-bottom: 0.5em;}#sk-container-id-1 div.sk-estimator:hover {background-color: #d4ebff;}#sk-container-id-1 div.sk-parallel-item::after {content: \"\";width: 100%;border-bottom: 1px solid gray;flex-grow: 1;}#sk-container-id-1 div.sk-label:hover label.sk-toggleable__label {background-color: #d4ebff;}#sk-container-id-1 div.sk-serial::before {content: \"\";position: absolute;border-left: 1px solid gray;box-sizing: border-box;top: 0;bottom: 0;left: 50%;z-index: 0;}#sk-container-id-1 div.sk-serial {display: flex;flex-direction: column;align-items: center;background-color: white;padding-right: 0.2em;padding-left: 0.2em;position: relative;}#sk-container-id-1 div.sk-item {position: relative;z-index: 1;}#sk-container-id-1 div.sk-parallel {display: flex;align-items: stretch;justify-content: center;background-color: white;position: relative;}#sk-container-id-1 div.sk-item::before, #sk-container-id-1 div.sk-parallel-item::before {content: \"\";position: absolute;border-left: 1px solid gray;box-sizing: border-box;top: 0;bottom: 0;left: 50%;z-index: -1;}#sk-container-id-1 div.sk-parallel-item {display: flex;flex-direction: column;z-index: 1;position: relative;background-color: white;}#sk-container-id-1 div.sk-parallel-item:first-child::after {align-self: flex-end;width: 50%;}#sk-container-id-1 div.sk-parallel-item:last-child::after {align-self: flex-start;width: 50%;}#sk-container-id-1 div.sk-parallel-item:only-child::after {width: 0;}#sk-container-id-1 div.sk-dashed-wrapped {border: 1px dashed gray;margin: 0 0.4em 0.5em 0.4em;box-sizing: border-box;padding-bottom: 0.4em;background-color: white;}#sk-container-id-1 div.sk-label label {font-family: monospace;font-weight: bold;display: inline-block;line-height: 1.2em;}#sk-container-id-1 div.sk-label-container {text-align: center;}#sk-container-id-1 div.sk-container {/* jupyter's `normalize.less` sets `[hidden] { display: none; }` but bootstrap.min.css set `[hidden] { display: none !important; }` so we also need the `!important` here to be able to override the default hidden behavior on the sphinx rendered scikit-learn.org. See: https://github.com/scikit-learn/scikit-learn/issues/21755 */display: inline-block !important;position: relative;}#sk-container-id-1 div.sk-text-repr-fallback {display: none;}</style><div id=\"sk-container-id-1\" class=\"sk-top-container\"><div class=\"sk-text-repr-fallback\"><pre>LinearRegression()</pre><b>In a Jupyter environment, please rerun this cell to show the HTML representation or trust the notebook. <br />On GitHub, the HTML representation is unable to render, please try loading this page with nbviewer.org.</b></div><div class=\"sk-container\" hidden><div class=\"sk-item\"><div class=\"sk-estimator sk-toggleable\"><input class=\"sk-toggleable__control sk-hidden--visually\" id=\"sk-estimator-id-1\" type=\"checkbox\" checked><label for=\"sk-estimator-id-1\" class=\"sk-toggleable__label sk-toggleable__label-arrow\">LinearRegression</label><div class=\"sk-toggleable__content\"><pre>LinearRegression()</pre></div></div></div></div></div>"
      ],
      "text/plain": [
       "LinearRegression()"
      ]
     },
     "execution_count": 15,
     "metadata": {},
     "output_type": "execute_result"
    }
   ],
   "source": [
    "lr.fit(X_train, y_train)"
   ]
  },
  {
   "cell_type": "code",
   "execution_count": 16,
   "id": "b4f9bc61",
   "metadata": {},
   "outputs": [
    {
     "data": {
      "text/plain": [
       "array([0.05538653])"
      ]
     },
     "execution_count": 16,
     "metadata": {},
     "output_type": "execute_result"
    }
   ],
   "source": [
    "lr.coef_"
   ]
  },
  {
   "cell_type": "code",
   "execution_count": 17,
   "id": "bd8dad57",
   "metadata": {},
   "outputs": [
    {
     "data": {
      "text/plain": [
       "7.098853680118275"
      ]
     },
     "execution_count": 17,
     "metadata": {},
     "output_type": "execute_result"
    }
   ],
   "source": [
    "lr.intercept_"
   ]
  },
  {
   "cell_type": "code",
   "execution_count": 18,
   "id": "c7fd5acc",
   "metadata": {},
   "outputs": [
    {
     "name": "stdout",
     "output_type": "stream",
     "text": [
      "[16.14347417 17.92138181 23.32156857  7.74687609 19.30050643 11.25838215\n",
      " 19.10665357  9.86818022 19.41681814 16.79703523  8.8435294  10.21157671\n",
      " 20.08699517  7.39794095 14.82527473 16.52564123  7.50317536 18.04323218\n",
      " 11.26945945 20.24761611 19.81006251 10.85406047  9.20354185 20.99533427\n",
      " 10.92052431 10.06203308 18.92387802 14.81419743 11.92855917  7.56410054\n",
      " 18.16508254 10.93160162 18.11523467  8.03488605 22.64585289 20.29192533\n",
      "  9.77402312 22.25814718 13.5901551   8.62198328 13.52369126 16.90226964\n",
      "  9.48601316 10.54943455 19.50543659  9.21461916 11.00914276 15.25728968\n",
      " 12.89228481 11.32484598]\n"
     ]
    }
   ],
   "source": [
    "y_pred = lr.predict(X_test)\n",
    "print(y_pred)"
   ]
  },
  {
   "cell_type": "code",
   "execution_count": 19,
   "id": "eb28a3f0",
   "metadata": {},
   "outputs": [
    {
     "data": {
      "text/html": [
       "<div>\n",
       "<style scoped>\n",
       "    .dataframe tbody tr th:only-of-type {\n",
       "        vertical-align: middle;\n",
       "    }\n",
       "\n",
       "    .dataframe tbody tr th {\n",
       "        vertical-align: top;\n",
       "    }\n",
       "\n",
       "    .dataframe thead th {\n",
       "        text-align: right;\n",
       "    }\n",
       "</style>\n",
       "<table border=\"1\" class=\"dataframe\">\n",
       "  <thead>\n",
       "    <tr style=\"text-align: right;\">\n",
       "      <th></th>\n",
       "      <th>Actual</th>\n",
       "      <th>Prediction</th>\n",
       "    </tr>\n",
       "  </thead>\n",
       "  <tbody>\n",
       "    <tr>\n",
       "      <th>0</th>\n",
       "      <td>16.9</td>\n",
       "      <td>16.143474</td>\n",
       "    </tr>\n",
       "    <tr>\n",
       "      <th>1</th>\n",
       "      <td>22.4</td>\n",
       "      <td>17.921382</td>\n",
       "    </tr>\n",
       "    <tr>\n",
       "      <th>2</th>\n",
       "      <td>21.4</td>\n",
       "      <td>23.321569</td>\n",
       "    </tr>\n",
       "    <tr>\n",
       "      <th>3</th>\n",
       "      <td>7.3</td>\n",
       "      <td>7.746876</td>\n",
       "    </tr>\n",
       "    <tr>\n",
       "      <th>4</th>\n",
       "      <td>24.7</td>\n",
       "      <td>19.300506</td>\n",
       "    </tr>\n",
       "  </tbody>\n",
       "</table>\n",
       "</div>"
      ],
      "text/plain": [
       "   Actual  Prediction\n",
       "0    16.9   16.143474\n",
       "1    22.4   17.921382\n",
       "2    21.4   23.321569\n",
       "3     7.3    7.746876\n",
       "4    24.7   19.300506"
      ]
     },
     "execution_count": 19,
     "metadata": {},
     "output_type": "execute_result"
    }
   ],
   "source": [
    "test_vs_pred_df = pd.DataFrame({'Actual': list(y_test), 'Prediction': y_pred})\n",
    "test_vs_pred_df.head()"
   ]
  },
  {
   "cell_type": "code",
   "execution_count": 20,
   "id": "c7db97bd",
   "metadata": {},
   "outputs": [
    {
     "data": {
      "image/png": "[encoded data removed]",
      "text/plain": [
       "<Figure size 1000x800 with 1 Axes>"
      ]
     },
     "metadata": {},
     "output_type": "display_data"
    }
   ],
   "source": [
    "plt.figure(figsize = (10, 8))\n",
    "plt.scatter(x = X_train, y = y_train, color = 'blue', label = 'training_data')\n",
    "plt.scatter(x = X_test, y = y_test, color = 'green', label = 'testing_data')\n",
    "plt.plot(X_test, y_pred, color = 'red')\n",
    "plt.title(\"y = {} + {}*X\".format(lr.intercept_, lr.coef_[0]))\n",
    "plt.xlabel('TV Advertising Cost')\n",
    "plt.ylabel(\"Increase In Sales Due to TV Advertisement\")\n",
    "plt.legend()\n",
    "plt.show()"
   ]
  },
  {
   "cell_type": "markdown",
   "id": "ba2da846",
   "metadata": {},
   "source": [
    "## Cost/Loss Function For Linear Regression\n",
    "\n",
    "<li>Cost function measures the performance of a machine learning model for a data set.</li>\n",
    "<li>Cost function quantifies the error between predicted and expected values and presents that error in the form of a single real number.</li>\n",
    "<li>Depending on the problem, cost function can be formed in many different ways.</li>\n",
    "<li>The purpose of cost function is to be either minimized or maximized.</li>\n",
    "<li>For algorithms relying on gradient descent to optimize model parameters, every function has to be differentiable.</li>\n",
    "\n",
    "![](images/cost_function.png)"
   ]
  },
  {
   "cell_type": "code",
   "execution_count": 21,
   "id": "4b1b27b7",
   "metadata": {},
   "outputs": [],
   "source": [
    "from sklearn.metrics import mean_squared_error, mean_absolute_error"
   ]
  },
  {
   "cell_type": "code",
   "execution_count": 22,
   "id": "9d83f0ca",
   "metadata": {},
   "outputs": [],
   "source": [
    "def mse(y_act, y_pred):\n",
    "    return np.mean((y_pred - y_act)**2)"
   ]
  },
  {
   "cell_type": "code",
   "execution_count": 23,
   "id": "620dc5ca",
   "metadata": {},
   "outputs": [],
   "source": [
    "def mae(y_act, y_pred):\n",
    "    return np.mean(abs(y_pred - y_act))"
   ]
  },
  {
   "cell_type": "code",
   "execution_count": 24,
   "id": "08b3fbc4",
   "metadata": {},
   "outputs": [],
   "source": [
    "def rmse(y_act, y_pred):\n",
    "    return np.sqrt(np.mean((y_pred - y_act) **2))"
   ]
  },
  {
   "cell_type": "code",
   "execution_count": 25,
   "id": "284de635",
   "metadata": {},
   "outputs": [
    {
     "data": {
      "text/plain": [
       "5.513351187165511"
      ]
     },
     "execution_count": 25,
     "metadata": {},
     "output_type": "execute_result"
    }
   ],
   "source": [
    "mse(y_act = y_test, y_pred = y_pred)"
   ]
  },
  {
   "cell_type": "code",
   "execution_count": 26,
   "id": "9de3af5c",
   "metadata": {},
   "outputs": [
    {
     "data": {
      "text/plain": [
       "5.513351187165511"
      ]
     },
     "execution_count": 26,
     "metadata": {},
     "output_type": "execute_result"
    }
   ],
   "source": [
    "mean_squared_error(y_pred, y_test)"
   ]
  },
  {
   "cell_type": "code",
   "execution_count": 27,
   "id": "f5bcd89f",
   "metadata": {},
   "outputs": [
    {
     "data": {
      "text/plain": [
       "1.8651146911099161"
      ]
     },
     "execution_count": 27,
     "metadata": {},
     "output_type": "execute_result"
    }
   ],
   "source": [
    "mae(y_act = y_test, y_pred = y_pred)"
   ]
  },
  {
   "cell_type": "code",
   "execution_count": 28,
   "id": "5b78c5d8",
   "metadata": {},
   "outputs": [
    {
     "data": {
      "text/plain": [
       "1.8651146911099161"
      ]
     },
     "execution_count": 28,
     "metadata": {},
     "output_type": "execute_result"
    }
   ],
   "source": [
    "mean_absolute_error(y_pred, y_test)"
   ]
  },
  {
   "cell_type": "code",
   "execution_count": 29,
   "id": "b05d8442",
   "metadata": {},
   "outputs": [
    {
     "data": {
      "text/plain": [
       "2.3480526372220685"
      ]
     },
     "execution_count": 29,
     "metadata": {},
     "output_type": "execute_result"
    }
   ],
   "source": [
    "rmse(y_act = y_test, y_pred = y_pred)"
   ]
  },
  {
   "cell_type": "code",
   "execution_count": 30,
   "id": "1ca6cfea",
   "metadata": {},
   "outputs": [
    {
     "data": {
      "text/plain": [
       "2.3480526372220685"
      ]
     },
     "execution_count": 30,
     "metadata": {},
     "output_type": "execute_result"
    }
   ],
   "source": [
    "mean_squared_error(y_pred, y_test, squared = False)"
   ]
  },
  {
   "cell_type": "code",
   "execution_count": 31,
   "id": "97c5391c",
   "metadata": {},
   "outputs": [
    {
     "data": {
      "text/plain": [
       "2.470035001123256"
      ]
     },
     "execution_count": 31,
     "metadata": {},
     "output_type": "execute_result"
    }
   ],
   "source": [
    "np.sqrt(6.101072906773963)"
   ]
  },
  {
   "cell_type": "code",
   "execution_count": 32,
   "id": "85521fac",
   "metadata": {},
   "outputs": [
    {
     "data": {
      "text/plain": [
       "0.7971876919875108"
      ]
     },
     "execution_count": 32,
     "metadata": {},
     "output_type": "execute_result"
    }
   ],
   "source": [
    "r2_score(y_test, y_pred)"
   ]
  },
  {
   "cell_type": "code",
   "execution_count": 33,
   "id": "39b73f62",
   "metadata": {},
   "outputs": [
    {
     "name": "stderr",
     "output_type": "stream",
     "text": [
      "C:\\Users\\srval\\AppData\\Local\\Temp\\ipykernel_9240\\915706047.py:2: DeprecationWarning: `np.int` is a deprecated alias for the builtin `int`. To silence this warning, use `int` by itself. Doing this will not modify any behavior and is safe. When replacing `np.int`, you may wish to use e.g. `np.int64` or `np.int32` to specify the precision. If you wish to review your current use, check the release note link for additional information.\n",
      "Deprecated in NumPy 1.20; for more details and guidance: https://numpy.org/devdocs/release/1.20.0-notes.html#deprecations\n",
      "  rowcount: np.int, featurecount: np.int):\n"
     ]
    }
   ],
   "source": [
    "def adjr2(actual: np.ndarray, predicted: np.ndarray,\n",
    "          rowcount: np.int, featurecount: np.int):\n",
    "    \"\"\" R2 Score \"\"\"\n",
    "    return 1-(1-r2_score(actual,predicted))* (rowcount-1)/(rowcount-featurecount - 1)"
   ]
  },
  {
   "cell_type": "code",
   "execution_count": 34,
   "id": "fab87ef1",
   "metadata": {},
   "outputs": [],
   "source": [
    "def adjr2(actual, predicted,n, d):\n",
    "    \"\"\" R2 Score \"\"\"\n",
    "    return 1-(1-r2_score(actual,predicted))* (n-1)/(n-d-1)"
   ]
  },
  {
   "cell_type": "code",
   "execution_count": 35,
   "id": "00bd0693",
   "metadata": {},
   "outputs": [
    {
     "data": {
      "text/plain": [
       "50"
      ]
     },
     "execution_count": 35,
     "metadata": {},
     "output_type": "execute_result"
    }
   ],
   "source": [
    "y_test.shape[0]"
   ]
  },
  {
   "cell_type": "code",
   "execution_count": 36,
   "id": "5f5c120e",
   "metadata": {},
   "outputs": [
    {
     "data": {
      "text/plain": [
       "0.792962435570584"
      ]
     },
     "execution_count": 36,
     "metadata": {},
     "output_type": "execute_result"
    }
   ],
   "source": [
    "adjr2(y_test, y_pred,y_test.shape[0],1)"
   ]
  },
  {
   "cell_type": "markdown",
   "id": "31f6080c",
   "metadata": {},
   "source": [
    "### Optimization (Using Gradient Descent)\n",
    "<li>Gradient descent is an iterative optimization algorithm to find the minimum of a function. Here that function is our Loss Function.</li>\n",
    "\n",
    "![](images/gradient_descent.jpg)\n",
    "\n",
    "\n",
    "#### Steps For Finding Gradient Descent\n",
    "\n",
    "![](images/gradient_descent_steps.png)"
   ]
  },
  {
   "cell_type": "code",
   "execution_count": null,
   "id": "a3944be8",
   "metadata": {},
   "outputs": [],
   "source": []
  },
  {
   "cell_type": "markdown",
   "id": "d4a420dd",
   "metadata": {},
   "source": [
    "## Multiple Linear Regression\n",
    "\n",
    "<li>A multiple linear regression model allows us to capture the relationship between multiple feature columns and the target column.</li>\n",
    "<li>Here's what the formula looks like:\n",
    "<code>\n",
    "^\n",
    "y = B0 + B1x1 + B2x2 + ... + Bnxn\n",
    "</code>\n",
    "      ^\n",
    "<li>Where y represents the predicted value</li>\n",
    "<li>B0, B1, B2,..., Bn represents n parameter values that are specific to the dataset.</li>\n",
    "<li>The goal here is to find out the optimal values of B0, B1, B2 such that these features best represents the relationship between the data.</li>\n",
    "\n",
    "![](images/multiple_linear_regression.png)\n",
    "\n",
    "<li>The parameters values can be estimated using the following eqns:</li>\n",
    "\n",
    "![](images/mle_eqn.png)"
   ]
  },
  {
   "cell_type": "code",
   "execution_count": 37,
   "id": "4257fd25",
   "metadata": {},
   "outputs": [],
   "source": [
    "data = df[['TV', 'Radio']]\n",
    "labels = df['Sales']"
   ]
  },
  {
   "cell_type": "code",
   "execution_count": 38,
   "id": "73047176",
   "metadata": {},
   "outputs": [
    {
     "data": {
      "text/plain": [
       "(200, 2)"
      ]
     },
     "execution_count": 38,
     "metadata": {},
     "output_type": "execute_result"
    }
   ],
   "source": [
    "data.shape"
   ]
  },
  {
   "cell_type": "code",
   "execution_count": 39,
   "id": "ac14cb72",
   "metadata": {},
   "outputs": [
    {
     "data": {
      "text/plain": [
       "(200,)"
      ]
     },
     "execution_count": 39,
     "metadata": {},
     "output_type": "execute_result"
    }
   ],
   "source": [
    "labels.shape"
   ]
  },
  {
   "cell_type": "code",
   "execution_count": 40,
   "id": "0c627fba",
   "metadata": {},
   "outputs": [],
   "source": [
    "from sklearn.model_selection import train_test_split"
   ]
  },
  {
   "cell_type": "code",
   "execution_count": 41,
   "id": "5bc43bce",
   "metadata": {},
   "outputs": [],
   "source": [
    "x_train, x_test, y_train, y_test = train_test_split(data, labels, test_size = 0.25, random_state = 42)"
   ]
  },
  {
   "cell_type": "code",
   "execution_count": 42,
   "id": "7000c092",
   "metadata": {},
   "outputs": [
    {
     "name": "stdout",
     "output_type": "stream",
     "text": [
      "(150, 2)\n",
      "(50, 2)\n",
      "(150,)\n",
      "(50,)\n"
     ]
    }
   ],
   "source": [
    "print(x_train.shape)\n",
    "print(x_test.shape)\n",
    "print(y_train.shape)\n",
    "print(y_test.shape)"
   ]
  },
  {
   "cell_type": "code",
   "execution_count": 43,
   "id": "e885f749",
   "metadata": {},
   "outputs": [],
   "source": [
    "from sklearn.linear_model import LinearRegression\n",
    "from sklearn.metrics import mean_squared_error, mean_absolute_error"
   ]
  },
  {
   "cell_type": "code",
   "execution_count": 44,
   "id": "86f10fc2",
   "metadata": {},
   "outputs": [],
   "source": [
    "lr = LinearRegression()"
   ]
  },
  {
   "cell_type": "code",
   "execution_count": 45,
   "id": "8a9db10d",
   "metadata": {},
   "outputs": [
    {
     "data": {
      "text/html": [
       "<style>#sk-container-id-2 {color: black;background-color: white;}#sk-container-id-2 pre{padding: 0;}#sk-container-id-2 div.sk-toggleable {background-color: white;}#sk-container-id-2 label.sk-toggleable__label {cursor: pointer;display: block;width: 100%;margin-bottom: 0;padding: 0.3em;box-sizing: border-box;text-align: center;}#sk-container-id-2 label.sk-toggleable__label-arrow:before {content: \"▸\";float: left;margin-right: 0.25em;color: #696969;}#sk-container-id-2 label.sk-toggleable__label-arrow:hover:before {color: black;}#sk-container-id-2 div.sk-estimator:hover label.sk-toggleable__label-arrow:before {color: black;}#sk-container-id-2 div.sk-toggleable__content {max-height: 0;max-width: 0;overflow: hidden;text-align: left;background-color: #f0f8ff;}#sk-container-id-2 div.sk-toggleable__content pre {margin: 0.2em;color: black;border-radius: 0.25em;background-color: #f0f8ff;}#sk-container-id-2 input.sk-toggleable__control:checked~div.sk-toggleable__content {max-height: 200px;max-width: 100%;overflow: auto;}#sk-container-id-2 input.sk-toggleable__control:checked~label.sk-toggleable__label-arrow:before {content: \"▾\";}#sk-container-id-2 div.sk-estimator input.sk-toggleable__control:checked~label.sk-toggleable__label {background-color: #d4ebff;}#sk-container-id-2 div.sk-label input.sk-toggleable__control:checked~label.sk-toggleable__label {background-color: #d4ebff;}#sk-container-id-2 input.sk-hidden--visually {border: 0;clip: rect(1px 1px 1px 1px);clip: rect(1px, 1px, 1px, 1px);height: 1px;margin: -1px;overflow: hidden;padding: 0;position: absolute;width: 1px;}#sk-container-id-2 div.sk-estimator {font-family: monospace;background-color: #f0f8ff;border: 1px dotted black;border-radius: 0.25em;box-sizing: border-box;margin-bottom: 0.5em;}#sk-container-id-2 div.sk-estimator:hover {background-color: #d4ebff;}#sk-container-id-2 div.sk-parallel-item::after {content: \"\";width: 100%;border-bottom: 1px solid gray;flex-grow: 1;}#sk-container-id-2 div.sk-label:hover label.sk-toggleable__label {background-color: #d4ebff;}#sk-container-id-2 div.sk-serial::before {content: \"\";position: absolute;border-left: 1px solid gray;box-sizing: border-box;top: 0;bottom: 0;left: 50%;z-index: 0;}#sk-container-id-2 div.sk-serial {display: flex;flex-direction: column;align-items: center;background-color: white;padding-right: 0.2em;padding-left: 0.2em;position: relative;}#sk-container-id-2 div.sk-item {position: relative;z-index: 1;}#sk-container-id-2 div.sk-parallel {display: flex;align-items: stretch;justify-content: center;background-color: white;position: relative;}#sk-container-id-2 div.sk-item::before, #sk-container-id-2 div.sk-parallel-item::before {content: \"\";position: absolute;border-left: 1px solid gray;box-sizing: border-box;top: 0;bottom: 0;left: 50%;z-index: -1;}#sk-container-id-2 div.sk-parallel-item {display: flex;flex-direction: column;z-index: 1;position: relative;background-color: white;}#sk-container-id-2 div.sk-parallel-item:first-child::after {align-self: flex-end;width: 50%;}#sk-container-id-2 div.sk-parallel-item:last-child::after {align-self: flex-start;width: 50%;}#sk-container-id-2 div.sk-parallel-item:only-child::after {width: 0;}#sk-container-id-2 div.sk-dashed-wrapped {border: 1px dashed gray;margin: 0 0.4em 0.5em 0.4em;box-sizing: border-box;padding-bottom: 0.4em;background-color: white;}#sk-container-id-2 div.sk-label label {font-family: monospace;font-weight: bold;display: inline-block;line-height: 1.2em;}#sk-container-id-2 div.sk-label-container {text-align: center;}#sk-container-id-2 div.sk-container {/* jupyter's `normalize.less` sets `[hidden] { display: none; }` but bootstrap.min.css set `[hidden] { display: none !important; }` so we also need the `!important` here to be able to override the default hidden behavior on the sphinx rendered scikit-learn.org. See: https://github.com/scikit-learn/scikit-learn/issues/21755 */display: inline-block !important;position: relative;}#sk-container-id-2 div.sk-text-repr-fallback {display: none;}</style><div id=\"sk-container-id-2\" class=\"sk-top-container\"><div class=\"sk-text-repr-fallback\"><pre>LinearRegression()</pre><b>In a Jupyter environment, please rerun this cell to show the HTML representation or trust the notebook. <br />On GitHub, the HTML representation is unable to render, please try loading this page with nbviewer.org.</b></div><div class=\"sk-container\" hidden><div class=\"sk-item\"><div class=\"sk-estimator sk-toggleable\"><input class=\"sk-toggleable__control sk-hidden--visually\" id=\"sk-estimator-id-2\" type=\"checkbox\" checked><label for=\"sk-estimator-id-2\" class=\"sk-toggleable__label sk-toggleable__label-arrow\">LinearRegression</label><div class=\"sk-toggleable__content\"><pre>LinearRegression()</pre></div></div></div></div></div>"
      ],
      "text/plain": [
       "LinearRegression()"
      ]
     },
     "execution_count": 45,
     "metadata": {},
     "output_type": "execute_result"
    }
   ],
   "source": [
    "lr.fit(x_train, y_train)"
   ]
  },
  {
   "cell_type": "code",
   "execution_count": 46,
   "id": "08a6344b",
   "metadata": {},
   "outputs": [
    {
     "data": {
      "text/plain": [
       "4.8193142960357385"
      ]
     },
     "execution_count": 46,
     "metadata": {},
     "output_type": "execute_result"
    }
   ],
   "source": [
    "lr.intercept_"
   ]
  },
  {
   "cell_type": "code",
   "execution_count": 47,
   "id": "e1f4098c",
   "metadata": {},
   "outputs": [
    {
     "data": {
      "text/plain": [
       "array([0.05461317, 0.10204696])"
      ]
     },
     "execution_count": 47,
     "metadata": {},
     "output_type": "execute_result"
    }
   ],
   "source": [
    "lr.coef_"
   ]
  },
  {
   "cell_type": "code",
   "execution_count": 48,
   "id": "644942ee",
   "metadata": {},
   "outputs": [
    {
     "data": {
      "text/plain": [
       "array([16.96232854, 20.35836726, 23.70344018,  9.2238211 , 21.85089619,\n",
       "       12.49240675, 21.13931062,  8.73371742, 17.31224257, 16.67813661,\n",
       "        9.04998426,  8.47024201, 17.97306191,  8.16542944, 12.65214988,\n",
       "       14.9104418 ,  8.08550994, 17.98857046, 11.00323911, 20.59077178,\n",
       "       20.64915314, 12.25700576, 11.00710709, 22.24647217,  9.53665961,\n",
       "        7.94521271, 20.8672449 , 13.90660952, 10.78573667,  8.05374216,\n",
       "       15.9963474 , 10.69050817, 20.72299317, 10.20172889, 21.56768334,\n",
       "       21.32838162, 12.25333734, 22.71609552, 12.72006789,  6.48445156,\n",
       "       11.94020339, 15.43488178,  9.89779562,  9.50750635, 17.29757668,\n",
       "        7.28311107, 10.3077553 , 15.30275627, 11.11351935, 11.79259037])"
      ]
     },
     "execution_count": 48,
     "metadata": {},
     "output_type": "execute_result"
    }
   ],
   "source": [
    "y_pred = lr.predict(x_test)\n",
    "y_pred"
   ]
  },
  {
   "cell_type": "code",
   "execution_count": 49,
   "id": "cdae4559",
   "metadata": {},
   "outputs": [
    {
     "data": {
      "text/plain": [
       "2.356396290987084"
      ]
     },
     "execution_count": 49,
     "metadata": {},
     "output_type": "execute_result"
    }
   ],
   "source": [
    "mean_squared_error(y_pred, y_test)"
   ]
  },
  {
   "cell_type": "code",
   "execution_count": 50,
   "id": "4ac569fb",
   "metadata": {},
   "outputs": [
    {
     "data": {
      "text/plain": [
       "1.535055794095799"
      ]
     },
     "execution_count": 50,
     "metadata": {},
     "output_type": "execute_result"
    }
   ],
   "source": [
    "np.sqrt(mean_squared_error(y_pred, y_test))"
   ]
  },
  {
   "cell_type": "code",
   "execution_count": 51,
   "id": "95dad948",
   "metadata": {},
   "outputs": [
    {
     "data": {
      "text/plain": [
       "1.1144571493849897"
      ]
     },
     "execution_count": 51,
     "metadata": {},
     "output_type": "execute_result"
    }
   ],
   "source": [
    "mean_absolute_error(y_pred, y_test)"
   ]
  },
  {
   "cell_type": "code",
   "execution_count": 52,
   "id": "18a0545b",
   "metadata": {},
   "outputs": [
    {
     "data": {
      "text/plain": [
       "0.9133183876478477"
      ]
     },
     "execution_count": 52,
     "metadata": {},
     "output_type": "execute_result"
    }
   ],
   "source": [
    "r2_score(y_test, y_pred)"
   ]
  },
  {
   "cell_type": "code",
   "execution_count": 53,
   "id": "84046483",
   "metadata": {},
   "outputs": [],
   "source": [
    "def adjr2(actual, predicted,n, d):\n",
    "    \"\"\" R2 Score \"\"\"\n",
    "    return 1-(1-r2_score(actual,predicted))* (n-1)/(n-d-1)"
   ]
  },
  {
   "cell_type": "code",
   "execution_count": 54,
   "id": "8382b874",
   "metadata": {},
   "outputs": [
    {
     "data": {
      "text/plain": [
       "0.9096298083988199"
      ]
     },
     "execution_count": 54,
     "metadata": {},
     "output_type": "execute_result"
    }
   ],
   "source": [
    "adjr2(y_test, y_pred, y_test.shape[0], 2)"
   ]
  },
  {
   "cell_type": "code",
   "execution_count": 55,
   "id": "83f6d77d",
   "metadata": {},
   "outputs": [
    {
     "data": {
      "text/html": [
       "<div>\n",
       "<style scoped>\n",
       "    .dataframe tbody tr th:only-of-type {\n",
       "        vertical-align: middle;\n",
       "    }\n",
       "\n",
       "    .dataframe tbody tr th {\n",
       "        vertical-align: top;\n",
       "    }\n",
       "\n",
       "    .dataframe thead th {\n",
       "        text-align: right;\n",
       "    }\n",
       "</style>\n",
       "<table border=\"1\" class=\"dataframe\">\n",
       "  <thead>\n",
       "    <tr style=\"text-align: right;\">\n",
       "      <th></th>\n",
       "      <th>TV</th>\n",
       "      <th>Radio</th>\n",
       "    </tr>\n",
       "  </thead>\n",
       "  <tbody>\n",
       "    <tr>\n",
       "      <th>114</th>\n",
       "      <td>78.2</td>\n",
       "      <td>46.8</td>\n",
       "    </tr>\n",
       "    <tr>\n",
       "      <th>173</th>\n",
       "      <td>168.4</td>\n",
       "      <td>7.1</td>\n",
       "    </tr>\n",
       "    <tr>\n",
       "      <th>5</th>\n",
       "      <td>8.7</td>\n",
       "      <td>48.9</td>\n",
       "    </tr>\n",
       "    <tr>\n",
       "      <th>126</th>\n",
       "      <td>7.8</td>\n",
       "      <td>38.9</td>\n",
       "    </tr>\n",
       "    <tr>\n",
       "      <th>117</th>\n",
       "      <td>76.4</td>\n",
       "      <td>0.8</td>\n",
       "    </tr>\n",
       "    <tr>\n",
       "      <th>...</th>\n",
       "      <td>...</td>\n",
       "      <td>...</td>\n",
       "    </tr>\n",
       "    <tr>\n",
       "      <th>106</th>\n",
       "      <td>25.0</td>\n",
       "      <td>11.0</td>\n",
       "    </tr>\n",
       "    <tr>\n",
       "      <th>14</th>\n",
       "      <td>204.1</td>\n",
       "      <td>32.9</td>\n",
       "    </tr>\n",
       "    <tr>\n",
       "      <th>92</th>\n",
       "      <td>217.7</td>\n",
       "      <td>33.5</td>\n",
       "    </tr>\n",
       "    <tr>\n",
       "      <th>179</th>\n",
       "      <td>165.6</td>\n",
       "      <td>10.0</td>\n",
       "    </tr>\n",
       "    <tr>\n",
       "      <th>102</th>\n",
       "      <td>280.2</td>\n",
       "      <td>10.1</td>\n",
       "    </tr>\n",
       "  </tbody>\n",
       "</table>\n",
       "<p>150 rows × 2 columns</p>\n",
       "</div>"
      ],
      "text/plain": [
       "        TV  Radio\n",
       "114   78.2   46.8\n",
       "173  168.4    7.1\n",
       "5      8.7   48.9\n",
       "126    7.8   38.9\n",
       "117   76.4    0.8\n",
       "..     ...    ...\n",
       "106   25.0   11.0\n",
       "14   204.1   32.9\n",
       "92   217.7   33.5\n",
       "179  165.6   10.0\n",
       "102  280.2   10.1\n",
       "\n",
       "[150 rows x 2 columns]"
      ]
     },
     "execution_count": 55,
     "metadata": {},
     "output_type": "execute_result"
    }
   ],
   "source": [
    "x_train"
   ]
  },
  {
   "cell_type": "code",
   "execution_count": 56,
   "id": "6c453e4d",
   "metadata": {},
   "outputs": [
    {
     "data": {
      "image/png": "[encoded data removed]",
      "text/plain": [
       "<Figure size 640x480 with 2 Axes>"
      ]
     },
     "metadata": {},
     "output_type": "display_data"
    }
   ],
   "source": [
    "\n",
    "\n",
    "plt.subplot(1, 2, 1)\n",
    "plt.scatter(x_test['TV'], y_test, color = 'green')\n",
    "plt.scatter(x_test['TV'], y_pred, color = 'red')\n",
    "plt.title(\"yhat = {} + {}X1 + {}X2\".format(round(lr.intercept_,2),\n",
    "                                           round(lr.coef_[0],2),\n",
    "                                           round(lr.coef_[1], 2)))\n",
    "plt.xlabel(\"TV Advertising Cost\")\n",
    "plt.ylabel(\"Increase In Sales\")\n",
    "\n",
    "#plot 2:\n",
    "plt.subplot(1, 2, 2)\n",
    "plt.scatter(x_test['Radio'], y_test, color = 'green')\n",
    "plt.scatter(x_test['Radio'], y_pred, color = 'red')\n",
    "plt.title(\"yhat = {} + {}X1 + {}X2\".format(round(lr.intercept_,2),\n",
    "                                           round(lr.coef_[0],2),\n",
    "                                           round(lr.coef_[1], 2)))\n",
    "plt.xlabel(\"Radio Advertising Cost\")\n",
    "plt.ylabel(\"Increase In Sales\")\n",
    "\n",
    "plt.show()"
   ]
  },
  {
   "cell_type": "code",
   "execution_count": 57,
   "id": "e3b1a438",
   "metadata": {},
   "outputs": [
    {
     "data": {
      "image/png": "[encoded data removed]",
      "text/plain": [
       "<Figure size 640x480 with 1 Axes>"
      ]
     },
     "metadata": {},
     "output_type": "display_data"
    }
   ],
   "source": [
    "plt.scatter(x_test['TV'], y_test, color = 'green')\n",
    "plt.scatter(x_test['TV'], y_pred, color = 'red')\n",
    "plt.title(\"yhat = {} + {}X1 + {}X2\".format(round(lr.intercept_,2),\n",
    "                                           round(lr.coef_[0],2),\n",
    "                                           round(lr.coef_[1], 2)))\n",
    "plt.xlabel(\"TV Advertising Cost\")\n",
    "plt.xlabel(\"Increase In Sales\")\n",
    "plt.show()"
   ]
  },
  {
   "cell_type": "code",
   "execution_count": 58,
   "id": "60b998ab",
   "metadata": {},
   "outputs": [
    {
     "data": {
      "image/png": "[encoded data removed]",
      "text/plain": [
       "<Figure size 640x480 with 1 Axes>"
      ]
     },
     "metadata": {},
     "output_type": "display_data"
    }
   ],
   "source": [
    "plt.scatter(x_test['Radio'], y_test, color = 'green')\n",
    "plt.scatter(x_test['Radio'], y_pred, color = 'red')\n",
    "plt.title(\"yhat = {} + {}X1 + {}X2\".format(round(lr.intercept_,2),\n",
    "                                           round(lr.coef_[0],2),\n",
    "                                           round(lr.coef_[1], 2)))\n",
    "plt.xlabel(\"Radio Advertising Cost\")\n",
    "plt.xlabel(\"Increase In Sales\")\n",
    "plt.show()"
   ]
  },
  {
   "cell_type": "code",
   "execution_count": 59,
   "id": "ee626463",
   "metadata": {},
   "outputs": [],
   "source": [
    "data = df.drop('Sales', axis = 1)\n",
    "labels = df['Sales']"
   ]
  },
  {
   "cell_type": "code",
   "execution_count": 60,
   "id": "8abe6138",
   "metadata": {},
   "outputs": [],
   "source": [
    "x_train, x_test, y_train, y_test = train_test_split(data, labels, test_size = 0.25, random_state = 42)"
   ]
  },
  {
   "cell_type": "code",
   "execution_count": 61,
   "id": "eb376786",
   "metadata": {},
   "outputs": [],
   "source": [
    "lr = LinearRegression()"
   ]
  },
  {
   "cell_type": "code",
   "execution_count": 62,
   "id": "955dd8b7",
   "metadata": {},
   "outputs": [
    {
     "data": {
      "text/html": [
       "<style>#sk-container-id-3 {color: black;background-color: white;}#sk-container-id-3 pre{padding: 0;}#sk-container-id-3 div.sk-toggleable {background-color: white;}#sk-container-id-3 label.sk-toggleable__label {cursor: pointer;display: block;width: 100%;margin-bottom: 0;padding: 0.3em;box-sizing: border-box;text-align: center;}#sk-container-id-3 label.sk-toggleable__label-arrow:before {content: \"▸\";float: left;margin-right: 0.25em;color: #696969;}#sk-container-id-3 label.sk-toggleable__label-arrow:hover:before {color: black;}#sk-container-id-3 div.sk-estimator:hover label.sk-toggleable__label-arrow:before {color: black;}#sk-container-id-3 div.sk-toggleable__content {max-height: 0;max-width: 0;overflow: hidden;text-align: left;background-color: #f0f8ff;}#sk-container-id-3 div.sk-toggleable__content pre {margin: 0.2em;color: black;border-radius: 0.25em;background-color: #f0f8ff;}#sk-container-id-3 input.sk-toggleable__control:checked~div.sk-toggleable__content {max-height: 200px;max-width: 100%;overflow: auto;}#sk-container-id-3 input.sk-toggleable__control:checked~label.sk-toggleable__label-arrow:before {content: \"▾\";}#sk-container-id-3 div.sk-estimator input.sk-toggleable__control:checked~label.sk-toggleable__label {background-color: #d4ebff;}#sk-container-id-3 div.sk-label input.sk-toggleable__control:checked~label.sk-toggleable__label {background-color: #d4ebff;}#sk-container-id-3 input.sk-hidden--visually {border: 0;clip: rect(1px 1px 1px 1px);clip: rect(1px, 1px, 1px, 1px);height: 1px;margin: -1px;overflow: hidden;padding: 0;position: absolute;width: 1px;}#sk-container-id-3 div.sk-estimator {font-family: monospace;background-color: #f0f8ff;border: 1px dotted black;border-radius: 0.25em;box-sizing: border-box;margin-bottom: 0.5em;}#sk-container-id-3 div.sk-estimator:hover {background-color: #d4ebff;}#sk-container-id-3 div.sk-parallel-item::after {content: \"\";width: 100%;border-bottom: 1px solid gray;flex-grow: 1;}#sk-container-id-3 div.sk-label:hover label.sk-toggleable__label {background-color: #d4ebff;}#sk-container-id-3 div.sk-serial::before {content: \"\";position: absolute;border-left: 1px solid gray;box-sizing: border-box;top: 0;bottom: 0;left: 50%;z-index: 0;}#sk-container-id-3 div.sk-serial {display: flex;flex-direction: column;align-items: center;background-color: white;padding-right: 0.2em;padding-left: 0.2em;position: relative;}#sk-container-id-3 div.sk-item {position: relative;z-index: 1;}#sk-container-id-3 div.sk-parallel {display: flex;align-items: stretch;justify-content: center;background-color: white;position: relative;}#sk-container-id-3 div.sk-item::before, #sk-container-id-3 div.sk-parallel-item::before {content: \"\";position: absolute;border-left: 1px solid gray;box-sizing: border-box;top: 0;bottom: 0;left: 50%;z-index: -1;}#sk-container-id-3 div.sk-parallel-item {display: flex;flex-direction: column;z-index: 1;position: relative;background-color: white;}#sk-container-id-3 div.sk-parallel-item:first-child::after {align-self: flex-end;width: 50%;}#sk-container-id-3 div.sk-parallel-item:last-child::after {align-self: flex-start;width: 50%;}#sk-container-id-3 div.sk-parallel-item:only-child::after {width: 0;}#sk-container-id-3 div.sk-dashed-wrapped {border: 1px dashed gray;margin: 0 0.4em 0.5em 0.4em;box-sizing: border-box;padding-bottom: 0.4em;background-color: white;}#sk-container-id-3 div.sk-label label {font-family: monospace;font-weight: bold;display: inline-block;line-height: 1.2em;}#sk-container-id-3 div.sk-label-container {text-align: center;}#sk-container-id-3 div.sk-container {/* jupyter's `normalize.less` sets `[hidden] { display: none; }` but bootstrap.min.css set `[hidden] { display: none !important; }` so we also need the `!important` here to be able to override the default hidden behavior on the sphinx rendered scikit-learn.org. See: https://github.com/scikit-learn/scikit-learn/issues/21755 */display: inline-block !important;position: relative;}#sk-container-id-3 div.sk-text-repr-fallback {display: none;}</style><div id=\"sk-container-id-3\" class=\"sk-top-container\"><div class=\"sk-text-repr-fallback\"><pre>LinearRegression()</pre><b>In a Jupyter environment, please rerun this cell to show the HTML representation or trust the notebook. <br />On GitHub, the HTML representation is unable to render, please try loading this page with nbviewer.org.</b></div><div class=\"sk-container\" hidden><div class=\"sk-item\"><div class=\"sk-estimator sk-toggleable\"><input class=\"sk-toggleable__control sk-hidden--visually\" id=\"sk-estimator-id-3\" type=\"checkbox\" checked><label for=\"sk-estimator-id-3\" class=\"sk-toggleable__label sk-toggleable__label-arrow\">LinearRegression</label><div class=\"sk-toggleable__content\"><pre>LinearRegression()</pre></div></div></div></div></div>"
      ],
      "text/plain": [
       "LinearRegression()"
      ]
     },
     "execution_count": 62,
     "metadata": {},
     "output_type": "execute_result"
    }
   ],
   "source": [
    "lr.fit(x_train, y_train)"
   ]
  },
  {
   "cell_type": "code",
   "execution_count": 63,
   "id": "afceef5b",
   "metadata": {},
   "outputs": [
    {
     "data": {
      "text/plain": [
       "4.741842244124564"
      ]
     },
     "execution_count": 63,
     "metadata": {},
     "output_type": "execute_result"
    }
   ],
   "source": [
    "lr.intercept_"
   ]
  },
  {
   "cell_type": "code",
   "execution_count": 64,
   "id": "e7e05cfb",
   "metadata": {},
   "outputs": [
    {
     "data": {
      "text/plain": [
       "array([0.05461383, 0.09975946, 0.00430495])"
      ]
     },
     "execution_count": 64,
     "metadata": {},
     "output_type": "execute_result"
    }
   ],
   "source": [
    "lr.coef_"
   ]
  },
  {
   "cell_type": "code",
   "execution_count": 65,
   "id": "ccee4c7e",
   "metadata": {},
   "outputs": [
    {
     "data": {
      "text/plain": [
       "array([17.04041233, 20.39964377, 23.74740099,  9.25653209, 21.67525948,\n",
       "       12.56179334, 21.07865662,  8.70895483, 17.28353601, 16.68491851,\n",
       "        8.92573172,  8.50762572, 18.2530284 ,  8.06003145, 12.68447869,\n",
       "       14.96677492,  8.12198913, 17.91906169, 11.01929198, 20.4979062 ,\n",
       "       20.81737524, 12.58662099, 10.88870324, 22.39692163,  9.44183427,\n",
       "        7.95532725, 20.83706013, 13.83997207, 10.79282849,  7.92309626,\n",
       "       16.00432589, 10.64496918, 20.79094843, 10.40916722, 21.61788525,\n",
       "       21.1954234 , 12.10497731, 22.82970275, 12.63229447,  6.49245031,\n",
       "       11.94463925, 15.3638056 ,  9.91037996,  9.48003396, 17.28192106,\n",
       "        7.25660905, 10.36937236, 15.25293577, 11.17116856, 11.72114226])"
      ]
     },
     "execution_count": 65,
     "metadata": {},
     "output_type": "execute_result"
    }
   ],
   "source": [
    "y_pred = lr.predict(x_test)\n",
    "y_pred"
   ]
  },
  {
   "cell_type": "code",
   "execution_count": 66,
   "id": "f5a5ea33",
   "metadata": {},
   "outputs": [
    {
     "data": {
      "text/plain": [
       "2.4040674447118864"
      ]
     },
     "execution_count": 66,
     "metadata": {},
     "output_type": "execute_result"
    }
   ],
   "source": [
    "mean_squared_error(y_pred, y_test)"
   ]
  },
  {
   "cell_type": "code",
   "execution_count": 67,
   "id": "aaae8d77",
   "metadata": {},
   "outputs": [
    {
     "data": {
      "text/plain": [
       "1.1199940713361767"
      ]
     },
     "execution_count": 67,
     "metadata": {},
     "output_type": "execute_result"
    }
   ],
   "source": [
    "mean_absolute_error(y_test, y_pred)"
   ]
  },
  {
   "cell_type": "code",
   "execution_count": 68,
   "id": "4be3e162",
   "metadata": {},
   "outputs": [
    {
     "data": {
      "text/plain": [
       "1.550505544882664"
      ]
     },
     "execution_count": 68,
     "metadata": {},
     "output_type": "execute_result"
    }
   ],
   "source": [
    "np.sqrt(mean_squared_error(y_test, y_pred))"
   ]
  },
  {
   "cell_type": "code",
   "execution_count": 69,
   "id": "7e254fc7",
   "metadata": {},
   "outputs": [
    {
     "data": {
      "text/plain": [
       "0.9115647723992758"
      ]
     },
     "execution_count": 69,
     "metadata": {},
     "output_type": "execute_result"
    }
   ],
   "source": [
    "r2_score(y_test,y_pred)"
   ]
  },
  {
   "cell_type": "code",
   "execution_count": 70,
   "id": "10ab891a",
   "metadata": {},
   "outputs": [],
   "source": [
    "def adjr2(actual, predicted,n, d):\n",
    "    \"\"\" R2 Score \"\"\"\n",
    "    return 1-(1-r2_score(actual,predicted))* (n-1)/(n-d-1)"
   ]
  },
  {
   "cell_type": "code",
   "execution_count": 71,
   "id": "f4cbfa58",
   "metadata": {},
   "outputs": [
    {
     "data": {
      "text/plain": [
       "0.9057972575557502"
      ]
     },
     "execution_count": 71,
     "metadata": {},
     "output_type": "execute_result"
    }
   ],
   "source": [
    "adjr2(y_test, y_pred, y_test.shape[0], 3)"
   ]
  },
  {
   "cell_type": "code",
   "execution_count": 72,
   "id": "09883088",
   "metadata": {},
   "outputs": [
    {
     "data": {
      "image/png": "[encoded data removed]",
      "text/plain": [
       "<Figure size 1500x1000 with 3 Axes>"
      ]
     },
     "metadata": {},
     "output_type": "display_data"
    }
   ],
   "source": [
    "plt.figure(figsize = (15, 10))\n",
    "plt.subplot(1, 3, 1)\n",
    "plt.scatter(x_test['TV'], y_test, color = 'green')\n",
    "plt.scatter(x_test['TV'], y_pred, color = 'red')\n",
    "plt.title(\"yhat = {} + {}X1 + {}X2+ {}X3\".format(round(lr.intercept_,2),\n",
    "                                           round(lr.coef_[0],2),\n",
    "                                           round(lr.coef_[1], 2),\n",
    "                                           round(lr.coef_[2], 2)))\n",
    "plt.xlabel(\"TV Advertising Cost\")\n",
    "plt.ylabel(\"Increase In Sales\")\n",
    "\n",
    "#plot 2:\n",
    "plt.subplot(1, 3, 2)\n",
    "plt.scatter(x_test['Radio'], y_test, color = 'green')\n",
    "plt.scatter(x_test['Radio'], y_pred, color = 'red')\n",
    "plt.title(\"yhat = {} + {}X1 + {}X2+ {}X3\".format(round(lr.intercept_,2),\n",
    "                                           round(lr.coef_[0],2),\n",
    "                                           round(lr.coef_[1], 2),\n",
    "                                           round(lr.coef_[2], 2)))\n",
    "plt.xlabel(\"Radio Advertising Cost\")\n",
    "plt.ylabel(\"Increase In Sales\")\n",
    "\n",
    "#plot 3:\n",
    "plt.subplot(1, 3, 3)\n",
    "plt.scatter(x_test['Newspaper'], y_test, color = 'green')\n",
    "plt.scatter(x_test['Newspaper'], y_pred, color = 'red')\n",
    "plt.title(\"yhat = {} + {}X1 + {}X2+ {}X3\".format(round(lr.intercept_,2),\n",
    "                                           round(lr.coef_[0],2),\n",
    "                                           round(lr.coef_[1], 2),\n",
    "                                           round(lr.coef_[2], 2)))\n",
    "plt.xlabel(\"Radio Advertising Cost\")\n",
    "plt.ylabel(\"Increase In Sales\")\n",
    "\n",
    "plt.show()"
   ]
  },
  {
   "cell_type": "code",
   "execution_count": 73,
   "id": "57e170cc",
   "metadata": {},
   "outputs": [],
   "source": [
    "df['random'] = np.random.randint(1, 200, 200)"
   ]
  },
  {
   "cell_type": "code",
   "execution_count": 74,
   "id": "84a46753",
   "metadata": {},
   "outputs": [],
   "source": [
    "data = df.drop('Sales', axis = 1)\n",
    "labels = df['Sales']"
   ]
  },
  {
   "cell_type": "code",
   "execution_count": 75,
   "id": "92abbe49",
   "metadata": {},
   "outputs": [],
   "source": [
    "x_train, x_test, y_train, y_test = train_test_split(data, labels, test_size = 0.25, random_state = 42)"
   ]
  },
  {
   "cell_type": "code",
   "execution_count": 76,
   "id": "20632585",
   "metadata": {},
   "outputs": [],
   "source": [
    "lr = LinearRegression()"
   ]
  },
  {
   "cell_type": "code",
   "execution_count": 77,
   "id": "4cf3a810",
   "metadata": {},
   "outputs": [
    {
     "data": {
      "text/html": [
       "<style>#sk-container-id-4 {color: black;background-color: white;}#sk-container-id-4 pre{padding: 0;}#sk-container-id-4 div.sk-toggleable {background-color: white;}#sk-container-id-4 label.sk-toggleable__label {cursor: pointer;display: block;width: 100%;margin-bottom: 0;padding: 0.3em;box-sizing: border-box;text-align: center;}#sk-container-id-4 label.sk-toggleable__label-arrow:before {content: \"▸\";float: left;margin-right: 0.25em;color: #696969;}#sk-container-id-4 label.sk-toggleable__label-arrow:hover:before {color: black;}#sk-container-id-4 div.sk-estimator:hover label.sk-toggleable__label-arrow:before {color: black;}#sk-container-id-4 div.sk-toggleable__content {max-height: 0;max-width: 0;overflow: hidden;text-align: left;background-color: #f0f8ff;}#sk-container-id-4 div.sk-toggleable__content pre {margin: 0.2em;color: black;border-radius: 0.25em;background-color: #f0f8ff;}#sk-container-id-4 input.sk-toggleable__control:checked~div.sk-toggleable__content {max-height: 200px;max-width: 100%;overflow: auto;}#sk-container-id-4 input.sk-toggleable__control:checked~label.sk-toggleable__label-arrow:before {content: \"▾\";}#sk-container-id-4 div.sk-estimator input.sk-toggleable__control:checked~label.sk-toggleable__label {background-color: #d4ebff;}#sk-container-id-4 div.sk-label input.sk-toggleable__control:checked~label.sk-toggleable__label {background-color: #d4ebff;}#sk-container-id-4 input.sk-hidden--visually {border: 0;clip: rect(1px 1px 1px 1px);clip: rect(1px, 1px, 1px, 1px);height: 1px;margin: -1px;overflow: hidden;padding: 0;position: absolute;width: 1px;}#sk-container-id-4 div.sk-estimator {font-family: monospace;background-color: #f0f8ff;border: 1px dotted black;border-radius: 0.25em;box-sizing: border-box;margin-bottom: 0.5em;}#sk-container-id-4 div.sk-estimator:hover {background-color: #d4ebff;}#sk-container-id-4 div.sk-parallel-item::after {content: \"\";width: 100%;border-bottom: 1px solid gray;flex-grow: 1;}#sk-container-id-4 div.sk-label:hover label.sk-toggleable__label {background-color: #d4ebff;}#sk-container-id-4 div.sk-serial::before {content: \"\";position: absolute;border-left: 1px solid gray;box-sizing: border-box;top: 0;bottom: 0;left: 50%;z-index: 0;}#sk-container-id-4 div.sk-serial {display: flex;flex-direction: column;align-items: center;background-color: white;padding-right: 0.2em;padding-left: 0.2em;position: relative;}#sk-container-id-4 div.sk-item {position: relative;z-index: 1;}#sk-container-id-4 div.sk-parallel {display: flex;align-items: stretch;justify-content: center;background-color: white;position: relative;}#sk-container-id-4 div.sk-item::before, #sk-container-id-4 div.sk-parallel-item::before {content: \"\";position: absolute;border-left: 1px solid gray;box-sizing: border-box;top: 0;bottom: 0;left: 50%;z-index: -1;}#sk-container-id-4 div.sk-parallel-item {display: flex;flex-direction: column;z-index: 1;position: relative;background-color: white;}#sk-container-id-4 div.sk-parallel-item:first-child::after {align-self: flex-end;width: 50%;}#sk-container-id-4 div.sk-parallel-item:last-child::after {align-self: flex-start;width: 50%;}#sk-container-id-4 div.sk-parallel-item:only-child::after {width: 0;}#sk-container-id-4 div.sk-dashed-wrapped {border: 1px dashed gray;margin: 0 0.4em 0.5em 0.4em;box-sizing: border-box;padding-bottom: 0.4em;background-color: white;}#sk-container-id-4 div.sk-label label {font-family: monospace;font-weight: bold;display: inline-block;line-height: 1.2em;}#sk-container-id-4 div.sk-label-container {text-align: center;}#sk-container-id-4 div.sk-container {/* jupyter's `normalize.less` sets `[hidden] { display: none; }` but bootstrap.min.css set `[hidden] { display: none !important; }` so we also need the `!important` here to be able to override the default hidden behavior on the sphinx rendered scikit-learn.org. See: https://github.com/scikit-learn/scikit-learn/issues/21755 */display: inline-block !important;position: relative;}#sk-container-id-4 div.sk-text-repr-fallback {display: none;}</style><div id=\"sk-container-id-4\" class=\"sk-top-container\"><div class=\"sk-text-repr-fallback\"><pre>LinearRegression()</pre><b>In a Jupyter environment, please rerun this cell to show the HTML representation or trust the notebook. <br />On GitHub, the HTML representation is unable to render, please try loading this page with nbviewer.org.</b></div><div class=\"sk-container\" hidden><div class=\"sk-item\"><div class=\"sk-estimator sk-toggleable\"><input class=\"sk-toggleable__control sk-hidden--visually\" id=\"sk-estimator-id-4\" type=\"checkbox\" checked><label for=\"sk-estimator-id-4\" class=\"sk-toggleable__label sk-toggleable__label-arrow\">LinearRegression</label><div class=\"sk-toggleable__content\"><pre>LinearRegression()</pre></div></div></div></div></div>"
      ],
      "text/plain": [
       "LinearRegression()"
      ]
     },
     "execution_count": 77,
     "metadata": {},
     "output_type": "execute_result"
    }
   ],
   "source": [
    "lr.fit(x_train, y_train)"
   ]
  },
  {
   "cell_type": "code",
   "execution_count": 78,
   "id": "127e6514",
   "metadata": {},
   "outputs": [
    {
     "data": {
      "text/plain": [
       "4.75090932534459"
      ]
     },
     "execution_count": 78,
     "metadata": {},
     "output_type": "execute_result"
    }
   ],
   "source": [
    "lr.intercept_"
   ]
  },
  {
   "cell_type": "code",
   "execution_count": 79,
   "id": "b2a00d6f",
   "metadata": {},
   "outputs": [
    {
     "data": {
      "text/plain": [
       "array([ 5.46098159e-02,  9.97256757e-02,  4.32958044e-03, -9.19785993e-05])"
      ]
     },
     "execution_count": 79,
     "metadata": {},
     "output_type": "execute_result"
    }
   ],
   "source": [
    "lr.coef_"
   ]
  },
  {
   "cell_type": "code",
   "execution_count": 80,
   "id": "7bf7bb93",
   "metadata": {},
   "outputs": [
    {
     "data": {
      "text/plain": [
       "array([17.04252794, 20.3894971 , 23.75484703,  9.2496903 , 21.66806774,\n",
       "       12.55384195, 21.08364772,  8.70564908, 17.28483483, 16.68106442,\n",
       "        8.91577544,  8.50449678, 18.25724024,  8.06590665, 12.67866887,\n",
       "       14.9637123 ,  8.12879763, 17.91539991, 11.01694965, 20.4941397 ,\n",
       "       20.81163167, 12.59413541, 10.89342179, 22.38805203,  9.44821652,\n",
       "        7.95774045, 20.84363713, 13.83067279, 10.78375657,  7.91544196,\n",
       "       16.01081692, 10.64128311, 20.79359818, 10.40104788, 21.61853981,\n",
       "       21.19772204, 12.10373366, 22.83328905, 12.63482424,  6.49229688,\n",
       "       11.94637465, 15.36676206,  9.91123407,  9.47369922, 17.28358475,\n",
       "        7.25102093, 10.36620291, 15.25454336, 11.1679609 , 11.71897406])"
      ]
     },
     "execution_count": 80,
     "metadata": {},
     "output_type": "execute_result"
    }
   ],
   "source": [
    "y_pred = lr.predict(x_test)\n",
    "y_pred"
   ]
  },
  {
   "cell_type": "code",
   "execution_count": 81,
   "id": "02761915",
   "metadata": {},
   "outputs": [
    {
     "data": {
      "text/plain": [
       "0.911510269498818"
      ]
     },
     "execution_count": 81,
     "metadata": {},
     "output_type": "execute_result"
    }
   ],
   "source": [
    "r2_score(y_test,y_pred)"
   ]
  },
  {
   "cell_type": "code",
   "execution_count": 82,
   "id": "104c55e6",
   "metadata": {},
   "outputs": [
    {
     "data": {
      "text/plain": [
       "0.9115647723992758"
      ]
     },
     "execution_count": 82,
     "metadata": {},
     "output_type": "execute_result"
    }
   ],
   "source": [
    "0.9115647723992758"
   ]
  },
  {
   "cell_type": "code",
   "execution_count": 83,
   "id": "2eb1e496",
   "metadata": {},
   "outputs": [
    {
     "data": {
      "text/plain": [
       "0.9036445156764907"
      ]
     },
     "execution_count": 83,
     "metadata": {},
     "output_type": "execute_result"
    }
   ],
   "source": [
    "adjr2(y_test, y_pred, y_test.shape[0], 4)"
   ]
  },
  {
   "cell_type": "code",
   "execution_count": 84,
   "id": "9a8739d7",
   "metadata": {},
   "outputs": [
    {
     "data": {
      "text/plain": [
       "0.9057972575557502"
      ]
     },
     "execution_count": 84,
     "metadata": {},
     "output_type": "execute_result"
    }
   ],
   "source": [
    "0.9057972575557502"
   ]
  },
  {
   "cell_type": "markdown",
   "id": "3b66e28b",
   "metadata": {},
   "source": [
    "### Performance Metrics In Linear Regression\n",
    "<li>To evaluate the performance or quality of the model, different metrics are used, and these metrics are known as performance metrics or evaluation metrics.</li>\n",
    "<li>Some of the performance metrics used in linear regression are:</li>\n",
    "<ol>\n",
    "    <b><li>Mean Absolute Error</li></b>\n",
    "    <b><li>Mean Squared Error</li></b>\n",
    "    <b><li>Root Mean Squared Error</li></b>\n",
    "    <b><li>R²</li></b>\n",
    "    <b><li>Adjuster R²</li></b>\n",
    "</ol>"
   ]
  },
  {
   "cell_type": "markdown",
   "id": "3a611986",
   "metadata": {},
   "source": [
    "### Mean Absolute Error\n",
    "<li>Absolute Error is the amount of error in your measurements. It is the difference between the measured value and “true” value.</li>\n",
    "<li>For example, if a scale states 90 pounds but you know your true weight is 89 pounds, then the scale has an absolute error of 90 lbs – 89 lbs = 1 lbs.</li>\n",
    "<li>In machine learning, mean absolute error is the average difference between the actual  values and the predicted values of the model.</li>\n",
    "<li>MAE measures the average magnitude of the errors in a set of predictions, without considering their direction.</li>\n",
    "<li>The formula to calculate MAE is given by:</li>\n",
    "\n",
    "![](images/mae.png)\n",
    "\n"
   ]
  },
  {
   "cell_type": "markdown",
   "id": "2060abc5",
   "metadata": {},
   "source": [
    "### Mean Squared Error\n",
    "<li>In statistics, the mean squared error (MSE) of an estimator measures the average of the squares of the errors.</li>\n",
    "<li>The mean squared error (MSE) tells you how close a regression line is to a set of points.</li>\n",
    "<li>It does this by taking the distances from the points to the regression line (these distances are the “errors”) and squaring them.</li>\n",
    "<li>The squaring is necessary to remove any negative signs. It also gives more weight to larger differences.</li>\n",
    "<li>It’s called the mean squared error as you’re finding the average of a set of errors.</li>\n",
    "<li>The lower the MSE, the better the forecast.</li>\n",
    "<li>In machine learning, mean squared error is the average difference between the squares of actual values and the predicted values.</li>\n",
    "<li>The formula to calculate mean squared error is given by:</li>\n",
    "\n",
    "![](images/mse.png)\n",
    "\n"
   ]
  },
  {
   "cell_type": "markdown",
   "id": "b2de8833",
   "metadata": {},
   "source": [
    "### Root Mean Squared Error\n",
    "<li>RMSE is a quadratic scoring rule that also measures the average magnitude of the error.</li>\n",
    "<li>It’s the square root of the average of squared differences between prediction and actual observation.</li>\n",
    "<li>The formula to calculate RMSE is given by:</li>\n",
    "\n",
    "![](images/rmse.png)\n",
    "\n"
   ]
  },
  {
   "cell_type": "markdown",
   "id": "72138671",
   "metadata": {},
   "source": [
    "### R²\n",
    "<li>R-Squared determines the proportion of variance in the dependent variable that can be explained by the independent variable.</li>\n",
    "<li>In other words, r-squared shows how well the data fit the regression model (the goodness of fit).</li>\n",
    "<li>R-squared measures the strength of the relationship between your model and the dependent variable on a scale of 0 – 1.</li>\n",
    "</li>Usually, the larger the R2, the better the regression model fits your observations.</li>\n",
    "<li>The formula to calculate R2 is given by:</li>\n",
    "\n",
    "![](images/r2_score.png)\n",
    "\n",
    "<li>But sometimes, small R-squared values are not always a problem, and high R-squared values are not necessarily good.</li>\n"
   ]
  },
  {
   "cell_type": "markdown",
   "id": "9af01efc",
   "metadata": {},
   "source": [
    "![](images/r2_range.png)"
   ]
  },
  {
   "cell_type": "markdown",
   "id": "251a03e6",
   "metadata": {},
   "source": [
    "![](images/r2_problems.png)"
   ]
  },
  {
   "cell_type": "markdown",
   "id": "f192dc8e",
   "metadata": {},
   "source": [
    "### Adjusted R2\n",
    "<li>Adjusted R2 is a corrected goodness-of-fit (model accuracy) measure for linear models.</li>\n",
    "<li>Adjusted R-squared is a modified version of R-squared that has been adjusted for the number of predictors in the model.</li>\n",
    "<li>The adjusted R-squared increases when the new term improves the model more than would be expected by chance.</li>\n",
    "<li>It decreases when a predictor improves the model by less than expected.</li>\n",
    "\n",
    "![](images/r2_adjusted.png)"
   ]
  },
  {
   "cell_type": "code",
   "execution_count": null,
   "id": "8f4eaa0c",
   "metadata": {},
   "outputs": [],
   "source": []
  },
  {
   "cell_type": "code",
   "execution_count": null,
   "id": "4f2214e3",
   "metadata": {},
   "outputs": [],
   "source": []
  },
  {
   "cell_type": "code",
   "execution_count": null,
   "id": "616c8355",
   "metadata": {},
   "outputs": [],
   "source": []
  },
  {
   "cell_type": "markdown",
   "id": "760e85e4",
   "metadata": {},
   "source": [
    "## Assumptions For Linear Regression\n",
    "<ol>\n",
    "<li><b>Linearity:</b> The relationship between the dependent variable and the independent variable(s) is linear.</li>\n",
    "<li><b>Normality:</b>The errors follow a normal distribution.</li>\n",
    "<li><b>No Multicollinearity:</b>The independent variables are not highly correlated with each other.</li>\n",
    "<li><b>Independence:</b>The observations are independent of each other.</li>\n",
    "<li><b>Homoesedasticity:</b> The variance of the errors is constant across all levels of the independent variable(s).</li>\n",
    "</ol>"
   ]
  },
  {
   "cell_type": "markdown",
   "id": "698289d6",
   "metadata": {},
   "source": [
    "### 1. Linearity\n",
    "<li>Linearity means that there should be a linear relationship between the independent variable(s) and the dependent variable.</li>\n",
    "<li>Tthe change in the dependent variable should be proportional to the change in the independent variable(s), with a constant slope and intercept.</li>\n",
    "\n",
    "**Example 1:**\n",
    "\n",
    "<li>For example, let's say you want to use linear regression to model the relationship between a person's height and their weight.</li>\n",
    "<li>If the relationship between height and weight is not linear, this would violate the assumption of linearity.</li>\n",
    "<li>In this case, the model may not be able to accurately capture the complex and nonlinear effects of height on weight.</li>\n",
    "<li>It may yield biased and inefficient estimates of the regression coefficients.</li>\n",
    "\n",
    "**Example 2:**\n",
    "\n",
    "<li>If you were studying the relationship between a company's sales revenue and its advertising budget.</li>\n",
    "<li>If the relationship between sales revenue and advertising budget is not linear, this would violate the assumption of linearity.</li>\n",
    "<li>In this case, the model may not be able to capture the diminishing or increasing returns to scale of the advertising budget on sales revenue.</li>\n",
    "<li>And it may yield unreliable and inaccurate predictions of the sales revenue for different levels of advertising budget.</li>\n",
    "\n",
    "**Conclusion**\n",
    "<li>Violation of the linearity assumption can lead to biased and inefficient estimates of the regression coefficients, and can affect the validity of the model.</li> \n",
    "<li>Therefore, it is important to check for linearity when using linear regression.</li>\n",
    "<li>For example, by plotting the dependent variable against each independent variable and examining the scatter plot or trend line.</li>\n"
   ]
  },
  {
   "cell_type": "code",
   "execution_count": 85,
   "id": "816b343a",
   "metadata": {},
   "outputs": [
    {
     "data": {
      "image/png": "[encoded data removed]",
      "text/plain": [
       "<Figure size 800x600 with 1 Axes>"
      ]
     },
     "metadata": {},
     "output_type": "display_data"
    }
   ],
   "source": [
    "plt.figure(figsize = (8, 6))\n",
    "plt.scatter(x = df['TV'], y = df['Sales'], color = 'red')\n",
    "plt.xlabel('TV Advertising')\n",
    "plt.ylabel('Sales')\n",
    "plt.title('Sales For TV Advertising')\n",
    "plt.show()"
   ]
  },
  {
   "cell_type": "code",
   "execution_count": 86,
   "id": "b333346c",
   "metadata": {},
   "outputs": [
    {
     "data": {
      "text/html": [
       "<div>\n",
       "<style scoped>\n",
       "    .dataframe tbody tr th:only-of-type {\n",
       "        vertical-align: middle;\n",
       "    }\n",
       "\n",
       "    .dataframe tbody tr th {\n",
       "        vertical-align: top;\n",
       "    }\n",
       "\n",
       "    .dataframe thead th {\n",
       "        text-align: right;\n",
       "    }\n",
       "</style>\n",
       "<table border=\"1\" class=\"dataframe\">\n",
       "  <thead>\n",
       "    <tr style=\"text-align: right;\">\n",
       "      <th></th>\n",
       "      <th>TV</th>\n",
       "      <th>Radio</th>\n",
       "      <th>Newspaper</th>\n",
       "      <th>Sales</th>\n",
       "      <th>random</th>\n",
       "    </tr>\n",
       "  </thead>\n",
       "  <tbody>\n",
       "    <tr>\n",
       "      <th>TV</th>\n",
       "      <td>1.000000</td>\n",
       "      <td>0.054809</td>\n",
       "      <td>0.056648</td>\n",
       "      <td>0.901208</td>\n",
       "      <td>-0.121863</td>\n",
       "    </tr>\n",
       "    <tr>\n",
       "      <th>Radio</th>\n",
       "      <td>0.054809</td>\n",
       "      <td>1.000000</td>\n",
       "      <td>0.354104</td>\n",
       "      <td>0.349631</td>\n",
       "      <td>-0.050992</td>\n",
       "    </tr>\n",
       "    <tr>\n",
       "      <th>Newspaper</th>\n",
       "      <td>0.056648</td>\n",
       "      <td>0.354104</td>\n",
       "      <td>1.000000</td>\n",
       "      <td>0.157960</td>\n",
       "      <td>0.053419</td>\n",
       "    </tr>\n",
       "    <tr>\n",
       "      <th>Sales</th>\n",
       "      <td>0.901208</td>\n",
       "      <td>0.349631</td>\n",
       "      <td>0.157960</td>\n",
       "      <td>1.000000</td>\n",
       "      <td>-0.116844</td>\n",
       "    </tr>\n",
       "    <tr>\n",
       "      <th>random</th>\n",
       "      <td>-0.121863</td>\n",
       "      <td>-0.050992</td>\n",
       "      <td>0.053419</td>\n",
       "      <td>-0.116844</td>\n",
       "      <td>1.000000</td>\n",
       "    </tr>\n",
       "  </tbody>\n",
       "</table>\n",
       "</div>"
      ],
      "text/plain": [
       "                 TV     Radio  Newspaper     Sales    random\n",
       "TV         1.000000  0.054809   0.056648  0.901208 -0.121863\n",
       "Radio      0.054809  1.000000   0.354104  0.349631 -0.050992\n",
       "Newspaper  0.056648  0.354104   1.000000  0.157960  0.053419\n",
       "Sales      0.901208  0.349631   0.157960  1.000000 -0.116844\n",
       "random    -0.121863 -0.050992   0.053419 -0.116844  1.000000"
      ]
     },
     "execution_count": 86,
     "metadata": {},
     "output_type": "execute_result"
    }
   ],
   "source": [
    "df.corr()"
   ]
  },
  {
   "cell_type": "code",
   "execution_count": null,
   "id": "c6e7b3a6",
   "metadata": {},
   "outputs": [],
   "source": []
  },
  {
   "cell_type": "markdown",
   "id": "56fb101c",
   "metadata": {},
   "source": [
    "### 2. Normality:\n",
    "<li>Normality is one of the assumptions of linear regression, which means that the errors (residuals) should follow a normal distribution.</li>\n",
    "<li>In other words, the distribution of the residuals should be symmetrical and bell-shaped around zero.</li>\n",
    "\n",
    "**Example 1:**\n",
    "<li>For example, let's say you want to use linear regression to model the relationship between a person's age and their cholesterol level.</li>\n",
    "<li>If the distribution of the residuals is skewed or has outliers, this would violate the assumption of normality.</li>\n",
    "<li>In this case, the model may be overestimating or underestimating the effect of age on cholesterol level.</li>\n",
    "\n",
    "**Example 2:**\n",
    "<li>Another example would be if you were studying the relationship between a company's advertising budget and its sales revenue.</li>\n",
    "<li>If the distribution of the residuals is not normal, this would violate the assumption of normality.</li>\n",
    "<li>In this case, the model may not accurately capture the nonlinearities and interactions between the variables.</li>\n",
    "<li>And as a result, the estimated confidence intervals and p-values may be inaccurate.</li>\n",
    "\n",
    "**Conclusion**\n",
    "\n",
    "<li>Violation of the normality assumption can lead to biased and inefficient estimates of the regression coefficients.</li> <li>It can also affect the validity of the statistical inferences and predictions based on the model.</li>\n",
    "<li>Therefore, it is important to check for normality when using linear regression.</li>\n",
    "<li>For example, by examining the histogram, Q-Q plot, or normal probability plot of the residuals, we can check normality.</li>"
   ]
  },
  {
   "cell_type": "code",
   "execution_count": 87,
   "id": "0859e042",
   "metadata": {},
   "outputs": [],
   "source": [
    "data = df[['TV']]\n",
    "labels = df['Sales']\n",
    "\n",
    "x_train, x_test, y_train, y_test = train_test_split(data, labels, \n",
    "                                                    test_size = 0.25)\n",
    "\n",
    "lr = LinearRegression()\n",
    "\n",
    "lr.fit(x_train, y_train)\n",
    "\n",
    "predictions = lr.predict(x_test)\n",
    "residuals = predictions - y_test"
   ]
  },
  {
   "cell_type": "code",
   "execution_count": 88,
   "id": "9c598576",
   "metadata": {},
   "outputs": [
    {
     "data": {
      "text/plain": [
       "<AxesSubplot: xlabel='Sales', ylabel='Density'>"
      ]
     },
     "execution_count": 88,
     "metadata": {},
     "output_type": "execute_result"
    },
    {
     "data": {
      "image/png": "[encoded data removed]",
      "text/plain": [
       "<Figure size 640x480 with 1 Axes>"
      ]
     },
     "metadata": {},
     "output_type": "display_data"
    }
   ],
   "source": [
    "import warnings \n",
    "warnings.filterwarnings('ignore')\n",
    "sns.kdeplot(residuals)"
   ]
  },
  {
   "cell_type": "code",
   "execution_count": null,
   "id": "8b5cf333",
   "metadata": {},
   "outputs": [],
   "source": []
  },
  {
   "cell_type": "code",
   "execution_count": null,
   "id": "b9b028a4",
   "metadata": {},
   "outputs": [],
   "source": []
  },
  {
   "cell_type": "markdown",
   "id": "0afaba47",
   "metadata": {},
   "source": [
    "### 3. No multicollinearity\n",
    "\n",
    "<li>No multicollinearity is one of the assumptions of linear regression, which means that the independent variables should not be highly correlated with each other.</li>\n",
    "<li>In other words, there should be no perfect or near-perfect linear relationship between any two or more independent variables.</li>\n",
    "\n",
    "**Example 1:**\n",
    "\n",
    "<li>To model the relationship between a student's exam scores and their study time, their attendance rate, and their participation in a review session.</li>\n",
    "<li>If study time and attendance rate are highly correlated with each other, this would violate the assumption of no multicollinearity.</li>\n",
    "<li>In this case, the model may not be able to distinguish between the effects of study time and attendance rate on the exam scores.</li> \n",
    "<li>And as a result, the estimated regression coefficients and their standard errors may be unstable or even impossible to calculate.</li>\n",
    "\n",
    "**Example2:**\n",
    "\n",
    "<li>Another example would be if you were studying the relationship between a car's fuel efficiency and its engine size, weight, and horsepower.</li>\n",
    "<li>If engine size and horsepower are highly correlated with each other, this would violate the assumption of no multicollinearity.</li>\n",
    "<li>In this case, the model may not be able to separate the effects of engine size and horsepower on fuel efficiency.</li>\n",
    "<li>And as a result, the estimated regression coefficients and their standard errors may be unreliable or even misleading.</li>\n",
    "\n",
    "**Conlusion**\n",
    "\n",
    "<li>Violation of the no multicollinearity assumption can lead to unstable and inaccurate estimates of the regression coefficients.</li>\n",
    "<li>And as a result, it can affect the interpretation and prediction of the model.</li>\n",
    "<li>Therefore, it is important to check for multicollinearity when using linear regression.</li>\n",
    "\n",
    "<li>If the VIF values are greater than 5 or 10, this indicates problematic levels of multicollinearity.</li>\n",
    "<li>And you may need to consider removing one of the correlated features, transforming the data, or using a different model that is robust to multicollinearity.</li>\n"
   ]
  },
  {
   "cell_type": "code",
   "execution_count": 89,
   "id": "24666774",
   "metadata": {},
   "outputs": [],
   "source": [
    "df['twice_radio'] = df['Radio'] * 2"
   ]
  },
  {
   "cell_type": "code",
   "execution_count": 90,
   "id": "a3bf3555",
   "metadata": {},
   "outputs": [
    {
     "data": {
      "text/plain": [
       "<AxesSubplot: >"
      ]
     },
     "execution_count": 90,
     "metadata": {},
     "output_type": "execute_result"
    },
    {
     "data": {
      "image/png": "[encoded data removed]",
      "text/plain": [
       "<Figure size 640x480 with 2 Axes>"
      ]
     },
     "metadata": {},
     "output_type": "display_data"
    }
   ],
   "source": [
    "sns.heatmap(df.corr(), annot = True)"
   ]
  },
  {
   "cell_type": "code",
   "execution_count": 91,
   "id": "ba5870c6",
   "metadata": {},
   "outputs": [],
   "source": [
    "from statsmodels.stats.outliers_influence import variance_inflation_factor"
   ]
  },
  {
   "cell_type": "code",
   "execution_count": 99,
   "id": "30946b5f",
   "metadata": {},
   "outputs": [],
   "source": [
    "df = pd.read_csv('csv_data/advertising.csv')\n",
    "data = df.drop('Sales', axis = 1)\n",
    "labels = df['Sales']\n",
    "\n",
    "x_train, x_test, y_train, y_test = train_test_split(data, labels, \n",
    "                                                    test_size = 0.25)\n",
    "\n",
    "lr = LinearRegression()\n",
    "\n",
    "lr.fit(x_train, y_train)\n",
    "\n",
    "predictions = lr.predict(x_test)\n",
    "residuals = predictions - y_test\n"
   ]
  },
  {
   "cell_type": "code",
   "execution_count": 100,
   "id": "14e48f53",
   "metadata": {},
   "outputs": [
    {
     "name": "stdout",
     "output_type": "stream",
     "text": [
      "   VIF Factor   Features\n",
      "0    2.913659         TV\n",
      "1    3.435858      Radio\n",
      "2    3.040937  Newspaper\n"
     ]
    }
   ],
   "source": [
    "# calculate the variance inflation factor (VIF) for each independent variable\n",
    "vif = pd.DataFrame()\n",
    "vif[\"VIF Factor\"] = [variance_inflation_factor(x_train.values, i) for i in range(x_train.shape[1])]\n",
    "vif[\"Features\"] = x_train.columns\n",
    "\n",
    "# print the VIFs\n",
    "print(vif)"
   ]
  },
  {
   "cell_type": "code",
   "execution_count": null,
   "id": "9d4c5b81",
   "metadata": {},
   "outputs": [],
   "source": []
  },
  {
   "cell_type": "markdown",
   "id": "c4392de1",
   "metadata": {},
   "source": [
    "### 4.Independence: \n",
    "<li>Independence is one of the assumptions of linear regression, which means that the observations should be independent of each other. </li>\n",
    "<li>The value of the dependent variable for one observation should not be related to the value of the dependent variable for any other observation.</li>\n",
    "\n",
    "**Example:1**\n",
    "\n",
    "<li>Let's say you want to use linear regression to model the relationship between a person's weight and their height.</li>\n",
    "<li>If you collect data from a group of identical twins, the weight and height of one twin would be highly correlated with the weight and height of their sibling.</li>\n",
    "<li>This violates the assumption of independence. In this case, you would need to collect data from non-related individuals to ensure independence.</li>\n",
    "\n",
    "**Example:2**\n",
    "\n",
    "<li>Another example would be if you were studying the impact of a new medication on blood pressure.</li>\n",
    "<li>If you measured the blood pressure of the same person before and after taking the medication, the observations would not be independent.</li>\n",
    "<li>Because the values of blood pressure before and after the medication are related to each other for that person.</li>\n",
    "<li>In this case, you would need to collect data from different people who have a similar health condition and administer the medication to some of them.</li>\n",
    "\n",
    "**Conclusion**\n",
    "\n",
    "<li>If the Durbin-Watson test statistic is close to 2 (e.g., between 1.5 and 2.5), this suggests that the residuals are independent.</li>\n",
    "<li>If the test statistic is significantly less than 2 or significantly greater than 2, this suggests the presence of positive or negative autocorrelation, respectively.</li> \n"
   ]
  },
  {
   "cell_type": "code",
   "execution_count": 102,
   "id": "c1f58d4b",
   "metadata": {},
   "outputs": [
    {
     "name": "stdout",
     "output_type": "stream",
     "text": [
      "Durbin-Watson statistic: 1.659787599710232\n"
     ]
    }
   ],
   "source": [
    "from statsmodels.stats.stattools import durbin_watson\n",
    "# use the Durbin-Watson test to test for autocorrelation\n",
    "dw_statistic = durbin_watson(residuals)\n",
    "print('Durbin-Watson statistic:', dw_statistic)"
   ]
  },
  {
   "cell_type": "markdown",
   "id": "d49171af",
   "metadata": {},
   "source": [
    "### 5. Homoscedasticity:\n",
    "<li>It is one of the assumptions of linear regression, which means that the variance of the errors is constant across all levels of the independent variable(s).</li> \n",
    "<li>In other words, the spread of the residuals should be similar across the range of the independent variable(s).</li>\n",
    "\n",
    "**Example1:**\n",
    "\n",
    "<li>For example, let's say you want to use linear regression to model the relationship between a student's study time and their exam scores.</li>\n",
    "<li>If the variance of the errors increases or decreases as the study time increases, this would violate the assumption of homoscedasticity.</li>\n",
    "<li>In this case, the model may overemphasize the effect of the study time on the exam scores for some values of study time.</li>\n",
    "\n",
    "\n",
    "**Example2:**\n",
    "\n",
    "<li>Another example would be if you were studying the relationship between a car's speed and its fuel efficiency.</li>\n",
    "<li>If the variance of the errors increases or decreases as the speed increases, this would violate the assumption of homoscedasticity.</li>\n",
    "<li>In this case, the model may overemphasize the effect of the speed on fuel efficiency for some speeds, while underemphasizing it for others.</li>\n",
    "\n",
    "**Conclusion**\n",
    "<li>Violation of the homoscedasticity assumption can lead to biased and inefficient estimates of the regression coefficients.</li>\n",
    "<li>And it can affect the validity of the statistical inferences and predictions based on the model.</li>\n",
    "<li>Therefore, it is important to check for homoscedasticity when using linear regression.</li>"
   ]
  },
  {
   "cell_type": "code",
   "execution_count": 107,
   "id": "b4ff8b21",
   "metadata": {},
   "outputs": [],
   "source": [
    "df = pd.read_csv('csv_data/advertising.csv')\n",
    "data = df.drop('Sales', axis = 1)\n",
    "labels = df['Sales']\n",
    "\n",
    "x_train, x_test, y_train, y_test = train_test_split(data, labels, \n",
    "                                                    test_size = 0.25)\n",
    "\n",
    "lr = LinearRegression()\n",
    "\n",
    "lr.fit(x_train, y_train)\n",
    "\n",
    "predictions = lr.predict(x_test)\n",
    "residuals = predictions - y_test\n"
   ]
  },
  {
   "cell_type": "code",
   "execution_count": 115,
   "id": "a0cd2a7a",
   "metadata": {},
   "outputs": [
    {
     "data": {
      "image/png": "[encoded data removed]",
      "text/plain": [
       "<Figure size 800x600 with 1 Axes>"
      ]
     },
     "metadata": {},
     "output_type": "display_data"
    }
   ],
   "source": [
    "plt.figure(figsize = (8, 6))\n",
    "# plt.scatter(x_test['TV'], y_test)\n",
    "plt.scatter(x_test['TV'], residuals, color = 'red')\n",
    "plt.scatter(x_test['Radio'], residuals, color = 'green')\n",
    "plt.scatter(x_test['Newspaper'], residuals, color = 'blue')\n",
    "\n",
    "plt.show()"
   ]
  },
  {
   "cell_type": "code",
   "execution_count": null,
   "id": "1425d942",
   "metadata": {},
   "outputs": [],
   "source": []
  },
  {
   "cell_type": "code",
   "execution_count": null,
   "id": "4e58b176",
   "metadata": {},
   "outputs": [],
   "source": []
  },
  {
   "cell_type": "code",
   "execution_count": null,
   "id": "8a865d45",
   "metadata": {},
   "outputs": [],
   "source": []
  },
  {
   "cell_type": "code",
   "execution_count": null,
   "id": "6cc31c55",
   "metadata": {},
   "outputs": [],
   "source": []
  },
  {
   "cell_type": "markdown",
   "id": "74169903",
   "metadata": {},
   "source": [
    "### Bias Variance TradeOffs In Machine Learning\n",
    "\n",
    "![](images/bias_variance_tradeoff.png)"
   ]
  },
  {
   "cell_type": "markdown",
   "id": "998824a8",
   "metadata": {},
   "source": [
    "### Regularization In Regression\n",
    "\n",
    "<li>During the Machine Learning model building, the Regularization Techniques is an unavoidable and important step to improve the model.</li>\n",
    "<li>This is also called the Shrinkage method in which we use to add the penalty term to control the complex model to avoid overfitting by reducing the variance.</li>\n",
    "<li>In regression, we can came across overfitted model where the best fit line works best for the training dataset but fails for testing datasets.</li>\n",
    "<li>To prevent from such overfitting problem, we have two different methods in regression. They are :</li>\n",
    "<ol>\n",
    "    <b><li>Lasso Regression</li></b>\n",
    "    <b><li>Ridge Regression</li></b>\n",
    "\n"
   ]
  },
  {
   "cell_type": "markdown",
   "id": "df263e87",
   "metadata": {},
   "source": [
    "### 1. Lasso Regression\n",
    "\n",
    "<li>Lasso Regression is also called as L1 regularization technique.</li>\n",
    "<li>We can use lasso regression for feature selection as well because the beta coefficients can be shrinked down to 0 incase of lasso regression.</li>\n",
    "<li>In lasso regression, we add the absolute values of the regression coefficients as a penalty term to reduce overfitting.</li>\n",
    "<li>The formula to calculate lasso regression is given by:</li>\n",
    "\n",
    "\n",
    "![](images/lasso_regression.png)"
   ]
  },
  {
   "cell_type": "markdown",
   "id": "b4b4f4f6",
   "metadata": {},
   "source": [
    "![](images/lasso.png)"
   ]
  },
  {
   "cell_type": "code",
   "execution_count": 116,
   "id": "ecc34634",
   "metadata": {},
   "outputs": [],
   "source": [
    "from sklearn.linear_model import Lasso"
   ]
  },
  {
   "cell_type": "code",
   "execution_count": 118,
   "id": "fb0128b8",
   "metadata": {},
   "outputs": [],
   "source": [
    "df = pd.read_csv('csv_data/advertising.csv')\n",
    "data = df.drop('Sales', axis = 1)\n",
    "labels = df['Sales']\n",
    "\n",
    "x_train, x_test, y_train, y_test = train_test_split(data, labels,\n",
    "                                                    test_size = 0.2,\n",
    "                                                   random_state = 42)\n",
    "\n"
   ]
  },
  {
   "cell_type": "code",
   "execution_count": 131,
   "id": "56195c6e",
   "metadata": {},
   "outputs": [],
   "source": [
    "lasso = Lasso(alpha = 6)"
   ]
  },
  {
   "cell_type": "code",
   "execution_count": 132,
   "id": "261be140",
   "metadata": {},
   "outputs": [
    {
     "data": {
      "text/html": [
       "<style>#sk-container-id-8 {color: black;background-color: white;}#sk-container-id-8 pre{padding: 0;}#sk-container-id-8 div.sk-toggleable {background-color: white;}#sk-container-id-8 label.sk-toggleable__label {cursor: pointer;display: block;width: 100%;margin-bottom: 0;padding: 0.3em;box-sizing: border-box;text-align: center;}#sk-container-id-8 label.sk-toggleable__label-arrow:before {content: \"▸\";float: left;margin-right: 0.25em;color: #696969;}#sk-container-id-8 label.sk-toggleable__label-arrow:hover:before {color: black;}#sk-container-id-8 div.sk-estimator:hover label.sk-toggleable__label-arrow:before {color: black;}#sk-container-id-8 div.sk-toggleable__content {max-height: 0;max-width: 0;overflow: hidden;text-align: left;background-color: #f0f8ff;}#sk-container-id-8 div.sk-toggleable__content pre {margin: 0.2em;color: black;border-radius: 0.25em;background-color: #f0f8ff;}#sk-container-id-8 input.sk-toggleable__control:checked~div.sk-toggleable__content {max-height: 200px;max-width: 100%;overflow: auto;}#sk-container-id-8 input.sk-toggleable__control:checked~label.sk-toggleable__label-arrow:before {content: \"▾\";}#sk-container-id-8 div.sk-estimator input.sk-toggleable__control:checked~label.sk-toggleable__label {background-color: #d4ebff;}#sk-container-id-8 div.sk-label input.sk-toggleable__control:checked~label.sk-toggleable__label {background-color: #d4ebff;}#sk-container-id-8 input.sk-hidden--visually {border: 0;clip: rect(1px 1px 1px 1px);clip: rect(1px, 1px, 1px, 1px);height: 1px;margin: -1px;overflow: hidden;padding: 0;position: absolute;width: 1px;}#sk-container-id-8 div.sk-estimator {font-family: monospace;background-color: #f0f8ff;border: 1px dotted black;border-radius: 0.25em;box-sizing: border-box;margin-bottom: 0.5em;}#sk-container-id-8 div.sk-estimator:hover {background-color: #d4ebff;}#sk-container-id-8 div.sk-parallel-item::after {content: \"\";width: 100%;border-bottom: 1px solid gray;flex-grow: 1;}#sk-container-id-8 div.sk-label:hover label.sk-toggleable__label {background-color: #d4ebff;}#sk-container-id-8 div.sk-serial::before {content: \"\";position: absolute;border-left: 1px solid gray;box-sizing: border-box;top: 0;bottom: 0;left: 50%;z-index: 0;}#sk-container-id-8 div.sk-serial {display: flex;flex-direction: column;align-items: center;background-color: white;padding-right: 0.2em;padding-left: 0.2em;position: relative;}#sk-container-id-8 div.sk-item {position: relative;z-index: 1;}#sk-container-id-8 div.sk-parallel {display: flex;align-items: stretch;justify-content: center;background-color: white;position: relative;}#sk-container-id-8 div.sk-item::before, #sk-container-id-8 div.sk-parallel-item::before {content: \"\";position: absolute;border-left: 1px solid gray;box-sizing: border-box;top: 0;bottom: 0;left: 50%;z-index: -1;}#sk-container-id-8 div.sk-parallel-item {display: flex;flex-direction: column;z-index: 1;position: relative;background-color: white;}#sk-container-id-8 div.sk-parallel-item:first-child::after {align-self: flex-end;width: 50%;}#sk-container-id-8 div.sk-parallel-item:last-child::after {align-self: flex-start;width: 50%;}#sk-container-id-8 div.sk-parallel-item:only-child::after {width: 0;}#sk-container-id-8 div.sk-dashed-wrapped {border: 1px dashed gray;margin: 0 0.4em 0.5em 0.4em;box-sizing: border-box;padding-bottom: 0.4em;background-color: white;}#sk-container-id-8 div.sk-label label {font-family: monospace;font-weight: bold;display: inline-block;line-height: 1.2em;}#sk-container-id-8 div.sk-label-container {text-align: center;}#sk-container-id-8 div.sk-container {/* jupyter's `normalize.less` sets `[hidden] { display: none; }` but bootstrap.min.css set `[hidden] { display: none !important; }` so we also need the `!important` here to be able to override the default hidden behavior on the sphinx rendered scikit-learn.org. See: https://github.com/scikit-learn/scikit-learn/issues/21755 */display: inline-block !important;position: relative;}#sk-container-id-8 div.sk-text-repr-fallback {display: none;}</style><div id=\"sk-container-id-8\" class=\"sk-top-container\"><div class=\"sk-text-repr-fallback\"><pre>Lasso(alpha=6)</pre><b>In a Jupyter environment, please rerun this cell to show the HTML representation or trust the notebook. <br />On GitHub, the HTML representation is unable to render, please try loading this page with nbviewer.org.</b></div><div class=\"sk-container\" hidden><div class=\"sk-item\"><div class=\"sk-estimator sk-toggleable\"><input class=\"sk-toggleable__control sk-hidden--visually\" id=\"sk-estimator-id-8\" type=\"checkbox\" checked><label for=\"sk-estimator-id-8\" class=\"sk-toggleable__label sk-toggleable__label-arrow\">Lasso</label><div class=\"sk-toggleable__content\"><pre>Lasso(alpha=6)</pre></div></div></div></div></div>"
      ],
      "text/plain": [
       "Lasso(alpha=6)"
      ]
     },
     "execution_count": 132,
     "metadata": {},
     "output_type": "execute_result"
    }
   ],
   "source": [
    "lasso.fit(x_train, y_train)"
   ]
  },
  {
   "cell_type": "code",
   "execution_count": 133,
   "id": "22d9574b",
   "metadata": {},
   "outputs": [
    {
     "data": {
      "text/plain": [
       "5.5056692060486405"
      ]
     },
     "execution_count": 133,
     "metadata": {},
     "output_type": "execute_result"
    }
   ],
   "source": [
    "lasso.intercept_"
   ]
  },
  {
   "cell_type": "code",
   "execution_count": 134,
   "id": "f769caaf",
   "metadata": {},
   "outputs": [
    {
     "data": {
      "text/plain": [
       "array([0.05391869, 0.07589335, 0.        ])"
      ]
     },
     "execution_count": 134,
     "metadata": {},
     "output_type": "execute_result"
    }
   ],
   "source": [
    "lasso.coef_"
   ]
  },
  {
   "cell_type": "code",
   "execution_count": null,
   "id": "67d22948",
   "metadata": {},
   "outputs": [],
   "source": []
  },
  {
   "cell_type": "markdown",
   "id": "b092161e",
   "metadata": {},
   "source": [
    "### 2. Ridge Regession\n",
    "\n",
    "<li>Ridge Regression is also called as L2 regularization technique.</li>\n",
    "<li>We can not use ridge regression for feature selection as well because the beta coefficients can only be shrinked down to lower values but not 0.</li>\n",
    "<li>In ridge regression, we add the squared values of the regression coefficients as a penalty term to reduce overfitting.</li>\n",
    "<li>The formula to calculate ridge regression is given by:</li>\n",
    "\n",
    "![](images/ridge_regression.png)"
   ]
  },
  {
   "cell_type": "code",
   "execution_count": null,
   "id": "ffd6b90d",
   "metadata": {},
   "outputs": [],
   "source": []
  },
  {
   "cell_type": "markdown",
   "id": "b323f198",
   "metadata": {},
   "source": [
    "![](images/ridge.png)"
   ]
  },
  {
   "cell_type": "code",
   "execution_count": 135,
   "id": "5c0b2f79",
   "metadata": {},
   "outputs": [],
   "source": [
    "from sklearn.linear_model import Ridge"
   ]
  },
  {
   "cell_type": "code",
   "execution_count": 136,
   "id": "4ab9bbba",
   "metadata": {},
   "outputs": [],
   "source": [
    "df = pd.read_csv('csv_data/advertising.csv')\n",
    "data = df.drop('Sales', axis = 1)\n",
    "labels = df['Sales']\n",
    "\n",
    "x_train, x_test, y_train, y_test = train_test_split(data, labels,\n",
    "                                                    test_size = 0.2,\n",
    "                                                   random_state = 42)\n",
    "\n"
   ]
  },
  {
   "cell_type": "code",
   "execution_count": 148,
   "id": "60c7b443",
   "metadata": {},
   "outputs": [],
   "source": [
    "ridge = Ridge(alpha = 9)"
   ]
  },
  {
   "cell_type": "code",
   "execution_count": 149,
   "id": "2b54ba96",
   "metadata": {},
   "outputs": [
    {
     "data": {
      "text/html": [
       "<style>#sk-container-id-11 {color: black;background-color: white;}#sk-container-id-11 pre{padding: 0;}#sk-container-id-11 div.sk-toggleable {background-color: white;}#sk-container-id-11 label.sk-toggleable__label {cursor: pointer;display: block;width: 100%;margin-bottom: 0;padding: 0.3em;box-sizing: border-box;text-align: center;}#sk-container-id-11 label.sk-toggleable__label-arrow:before {content: \"▸\";float: left;margin-right: 0.25em;color: #696969;}#sk-container-id-11 label.sk-toggleable__label-arrow:hover:before {color: black;}#sk-container-id-11 div.sk-estimator:hover label.sk-toggleable__label-arrow:before {color: black;}#sk-container-id-11 div.sk-toggleable__content {max-height: 0;max-width: 0;overflow: hidden;text-align: left;background-color: #f0f8ff;}#sk-container-id-11 div.sk-toggleable__content pre {margin: 0.2em;color: black;border-radius: 0.25em;background-color: #f0f8ff;}#sk-container-id-11 input.sk-toggleable__control:checked~div.sk-toggleable__content {max-height: 200px;max-width: 100%;overflow: auto;}#sk-container-id-11 input.sk-toggleable__control:checked~label.sk-toggleable__label-arrow:before {content: \"▾\";}#sk-container-id-11 div.sk-estimator input.sk-toggleable__control:checked~label.sk-toggleable__label {background-color: #d4ebff;}#sk-container-id-11 div.sk-label input.sk-toggleable__control:checked~label.sk-toggleable__label {background-color: #d4ebff;}#sk-container-id-11 input.sk-hidden--visually {border: 0;clip: rect(1px 1px 1px 1px);clip: rect(1px, 1px, 1px, 1px);height: 1px;margin: -1px;overflow: hidden;padding: 0;position: absolute;width: 1px;}#sk-container-id-11 div.sk-estimator {font-family: monospace;background-color: #f0f8ff;border: 1px dotted black;border-radius: 0.25em;box-sizing: border-box;margin-bottom: 0.5em;}#sk-container-id-11 div.sk-estimator:hover {background-color: #d4ebff;}#sk-container-id-11 div.sk-parallel-item::after {content: \"\";width: 100%;border-bottom: 1px solid gray;flex-grow: 1;}#sk-container-id-11 div.sk-label:hover label.sk-toggleable__label {background-color: #d4ebff;}#sk-container-id-11 div.sk-serial::before {content: \"\";position: absolute;border-left: 1px solid gray;box-sizing: border-box;top: 0;bottom: 0;left: 50%;z-index: 0;}#sk-container-id-11 div.sk-serial {display: flex;flex-direction: column;align-items: center;background-color: white;padding-right: 0.2em;padding-left: 0.2em;position: relative;}#sk-container-id-11 div.sk-item {position: relative;z-index: 1;}#sk-container-id-11 div.sk-parallel {display: flex;align-items: stretch;justify-content: center;background-color: white;position: relative;}#sk-container-id-11 div.sk-item::before, #sk-container-id-11 div.sk-parallel-item::before {content: \"\";position: absolute;border-left: 1px solid gray;box-sizing: border-box;top: 0;bottom: 0;left: 50%;z-index: -1;}#sk-container-id-11 div.sk-parallel-item {display: flex;flex-direction: column;z-index: 1;position: relative;background-color: white;}#sk-container-id-11 div.sk-parallel-item:first-child::after {align-self: flex-end;width: 50%;}#sk-container-id-11 div.sk-parallel-item:last-child::after {align-self: flex-start;width: 50%;}#sk-container-id-11 div.sk-parallel-item:only-child::after {width: 0;}#sk-container-id-11 div.sk-dashed-wrapped {border: 1px dashed gray;margin: 0 0.4em 0.5em 0.4em;box-sizing: border-box;padding-bottom: 0.4em;background-color: white;}#sk-container-id-11 div.sk-label label {font-family: monospace;font-weight: bold;display: inline-block;line-height: 1.2em;}#sk-container-id-11 div.sk-label-container {text-align: center;}#sk-container-id-11 div.sk-container {/* jupyter's `normalize.less` sets `[hidden] { display: none; }` but bootstrap.min.css set `[hidden] { display: none !important; }` so we also need the `!important` here to be able to override the default hidden behavior on the sphinx rendered scikit-learn.org. See: https://github.com/scikit-learn/scikit-learn/issues/21755 */display: inline-block !important;position: relative;}#sk-container-id-11 div.sk-text-repr-fallback {display: none;}</style><div id=\"sk-container-id-11\" class=\"sk-top-container\"><div class=\"sk-text-repr-fallback\"><pre>Ridge(alpha=9)</pre><b>In a Jupyter environment, please rerun this cell to show the HTML representation or trust the notebook. <br />On GitHub, the HTML representation is unable to render, please try loading this page with nbviewer.org.</b></div><div class=\"sk-container\" hidden><div class=\"sk-item\"><div class=\"sk-estimator sk-toggleable\"><input class=\"sk-toggleable__control sk-hidden--visually\" id=\"sk-estimator-id-11\" type=\"checkbox\" checked><label for=\"sk-estimator-id-11\" class=\"sk-toggleable__label sk-toggleable__label-arrow\">Ridge</label><div class=\"sk-toggleable__content\"><pre>Ridge(alpha=9)</pre></div></div></div></div></div>"
      ],
      "text/plain": [
       "Ridge(alpha=9)"
      ]
     },
     "execution_count": 149,
     "metadata": {},
     "output_type": "execute_result"
    }
   ],
   "source": [
    "ridge.fit(x_train, y_train)"
   ]
  },
  {
   "cell_type": "code",
   "execution_count": 150,
   "id": "8556bff6",
   "metadata": {},
   "outputs": [
    {
     "data": {
      "text/plain": [
       "array([0.05450909, 0.10091511, 0.00434461])"
      ]
     },
     "execution_count": 150,
     "metadata": {},
     "output_type": "execute_result"
    }
   ],
   "source": [
    "ridge.coef_"
   ]
  },
  {
   "cell_type": "code",
   "execution_count": null,
   "id": "05bf960d",
   "metadata": {},
   "outputs": [],
   "source": []
  }
 ],
 "metadata": {
  "kernelspec": {
   "display_name": "Python 3 (ipykernel)",
   "language": "python",
   "name": "python3"
  },
  "language_info": {
   "codemirror_mode": {
    "name": "ipython",
    "version": 3
   },
   "file_extension": ".py",
   "mimetype": "text/x-python",
   "name": "python",
   "nbconvert_exporter": "python",
   "pygments_lexer": "ipython3",
   "version": "3.8.0"
  }
 },
 "nbformat": 4,
 "nbformat_minor": 5
}
