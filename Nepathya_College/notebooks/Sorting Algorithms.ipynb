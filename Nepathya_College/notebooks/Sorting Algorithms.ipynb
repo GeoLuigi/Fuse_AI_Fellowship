{
 "cells": [
  {
   "cell_type": "markdown",
   "id": "c9a16da0",
   "metadata": {},
   "source": [
    "#### What is sorting?\n",
    "\n",
    "<li>Sorting refers to ordering data in an increasing or decreasing fashion according to some linear relationship among the data items.</li>\n",
    "<li>Sorting can significantly reduce the complexity of a problem and is often used for database algorithms and search operations.</li>\n",
    "<li>We can use the builtin method sorted() in Python to sort the elements in an order.</li>"
   ]
  },
  {
   "cell_type": "code",
   "execution_count": 1,
   "id": "13c7bf65",
   "metadata": {},
   "outputs": [],
   "source": [
    "list1 = [47,23,13,64,77,44,75,24,76,34]"
   ]
  },
  {
   "cell_type": "code",
   "execution_count": 3,
   "id": "95ada6c9",
   "metadata": {},
   "outputs": [
    {
     "name": "stdout",
     "output_type": "stream",
     "text": [
      "[13, 23, 24, 34, 44, 47, 64, 75, 76, 77]\n"
     ]
    }
   ],
   "source": [
    "list2 = sorted(list1)\n",
    "print(list2)"
   ]
  },
  {
   "cell_type": "code",
   "execution_count": 4,
   "id": "702e6dde",
   "metadata": {},
   "outputs": [
    {
     "name": "stdout",
     "output_type": "stream",
     "text": [
      "[77, 76, 75, 64, 47, 44, 34, 24, 23, 13]\n"
     ]
    }
   ],
   "source": [
    "list3 = sorted(list1, reverse = True)\n",
    "print(list3)"
   ]
  },
  {
   "cell_type": "markdown",
   "id": "4e443815",
   "metadata": {},
   "source": [
    "#### Different Sorting Methods In DSA\n",
    "\n",
    "<ol>\n",
    "    <li>Selection Sort Algorithm</li>\n",
    "    <li>Bubble Sort Algorithm</li>\n",
    "    <li>Insertion Sort Algorithm</li>\n",
    "    <li>Shell Sort Algorithm</li>\n",
    "    <li>Merge Sort Algorithm</li>\n",
    "    <li>Quick Sort Algorithm</li>\n"
   ]
  },
  {
   "cell_type": "markdown",
   "id": "559b2488",
   "metadata": {},
   "source": [
    "#### Selection Sort Algorithm\n",
    "\n",
    "<li>Initialize minimum value(min_idx) to location 0.</li>\n",
    "<li>Traverse the whole array to find the minimum element in the array.</li>\n",
    "<li>After traversing the whole array if any element is smaller than min_idx, then swap both the values.</li>\n",
    "<li>Then, increment min_idx to point to the next element.</li>\n",
    "<li>Repeat until the array is sorted.</li>\n"
   ]
  },
  {
   "cell_type": "code",
   "execution_count": 13,
   "id": "632c46eb",
   "metadata": {},
   "outputs": [],
   "source": [
    "def selection_sort(mylist):\n",
    "    for i in range(len(mylist)-1):\n",
    "        min_item = min(mylist[i:])\n",
    "        min_item_index = mylist.index(min_item)\n",
    "        mylist[i],mylist[min_item_index] = mylist[min_item_index], mylist[i]\n",
    "    return mylist"
   ]
  },
  {
   "cell_type": "code",
   "execution_count": 14,
   "id": "6cc3d8ef",
   "metadata": {},
   "outputs": [
    {
     "name": "stdout",
     "output_type": "stream",
     "text": [
      "[15, 22, 23, 32, 36, 53, 74, 92]\n"
     ]
    }
   ],
   "source": [
    "mylist1 = [92,53,32,22,15,36,23,74]\n",
    "sorted_mylist1 = selection_sort(mylist1)\n",
    "print(sorted_mylist1)"
   ]
  },
  {
   "cell_type": "markdown",
   "id": "cceb83d2",
   "metadata": {},
   "source": [
    "#### Bubble Sort Algorithm\n",
    "\n",
    "<li>Bubble Sort is the simplest sorting algorithm that works by repeatedly swapping the adjacent elements if they are in the wrong order.</li>\n",
    "<li>Bubble sort starts with very first two elements, comparing them to check which one is greater. If second one is greater than first one then swap their value.</li>\n",
    "<li>After swapping then compare the second and third element and again check which one is greater. If third one is smaller than the second one no need to swap the value.Keep the value as it is.</li>\n",
    "<li>Repeat this process until you compare second last and last element.</li>"
   ]
  },
  {
   "cell_type": "code",
   "execution_count": 21,
   "id": "701d77be",
   "metadata": {},
   "outputs": [],
   "source": [
    "mylist2 = [92,53,32,22,15,36,23,74]"
   ]
  },
  {
   "cell_type": "code",
   "execution_count": 22,
   "id": "47521bb2",
   "metadata": {},
   "outputs": [
    {
     "name": "stdout",
     "output_type": "stream",
     "text": [
      "[53, 32, 22, 15, 36, 23, 74, 92]\n",
      "[32, 22, 15, 36, 23, 53, 74, 92]\n",
      "[22, 15, 32, 23, 36, 53, 74, 92]\n",
      "[15, 22, 23, 32, 36, 53, 74, 92]\n",
      "[15, 22, 23, 32, 36, 53, 74, 92]\n",
      "[15, 22, 23, 32, 36, 53, 74, 92]\n",
      "[15, 22, 23, 32, 36, 53, 74, 92]\n"
     ]
    }
   ],
   "source": [
    "for j in range(len(mylist2) - 1):\n",
    "    for i in range(len(mylist2) - 1):\n",
    "        if mylist2[i] > mylist2[i+1]:\n",
    "            mylist2[i], mylist2[i+1] = mylist2[i+1], mylist2[i]\n",
    "    print(mylist2)"
   ]
  },
  {
   "cell_type": "markdown",
   "id": "eb464690",
   "metadata": {},
   "source": [
    "#### Insertion Sort Algorithm"
   ]
  },
  {
   "cell_type": "code",
   "execution_count": null,
   "id": "61910097",
   "metadata": {},
   "outputs": [],
   "source": []
  }
 ],
 "metadata": {
  "kernelspec": {
   "display_name": "Python 3 (ipykernel)",
   "language": "python",
   "name": "python3"
  },
  "language_info": {
   "codemirror_mode": {
    "name": "ipython",
    "version": 3
   },
   "file_extension": ".py",
   "mimetype": "text/x-python",
   "name": "python",
   "nbconvert_exporter": "python",
   "pygments_lexer": "ipython3",
   "version": "3.8.0"
  }
 },
 "nbformat": 4,
 "nbformat_minor": 5
}
