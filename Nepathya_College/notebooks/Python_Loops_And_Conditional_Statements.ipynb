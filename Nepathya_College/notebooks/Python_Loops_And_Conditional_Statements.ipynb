{
 "cells": [
  {
   "cell_type": "markdown",
   "id": "8a829c71",
   "metadata": {},
   "source": [
    "****Python has two different types of loop commands:****\n",
    "<ol>\n",
    "    <li>for loops</li>\n",
    "    <li>while loops</li>\n",
    "</ol>"
   ]
  },
  {
   "cell_type": "markdown",
   "id": "41c9745a",
   "metadata": {},
   "source": [
    "#### For Loops\n",
    "<li>In Python, the for loop is used to run a block of code for a certain number of times.</li>\n",
    "<li>A for loop is used for iterating over a sequence (that is either a list, a tuple, a dictionary, a set, or a string).</li>\n",
    "<li>We call this technique a <b>loop</b> because we are <b>looping</b> over each element in the list and performing an action on each element.</li> \n",
    "<li>Because we always start with <b>for</b>, we call this technique a <b>for loop.</b></li>"
   ]
  },
  {
   "cell_type": "markdown",
   "id": "b40c8af1",
   "metadata": {},
   "source": [
    "![](images/for_loop_script.png)"
   ]
  },
  {
   "cell_type": "markdown",
   "id": "c7c02bd9",
   "metadata": {},
   "source": [
    "#### Why For Loops \n",
    "<li>We can also retrieve each element in lists, and perform operation but this method will not scale well to a large dataset</li>\n",
    "<li>Let's say at first we have to repeat this process for five times. We can rely on this method since repeating the code for five times is not that difficult.</li>\n",
    "<li>But if we have to repeat the same process for 1000+ times then relying on this method is a waste of time and the programmer has to write the same syntax with very few differences 1000+ times.</li>\n",
    "<li>So, in such scenario, <b>for loops</b> can save programmer's time as well as energy. Also it is the smartest way of dealing with problems.</li>"
   ]
  },
  {
   "cell_type": "code",
   "execution_count": 1,
   "id": "a3533545",
   "metadata": {},
   "outputs": [],
   "source": [
    "student_1 = ['Ram', 'male',23, 'B.C.A', 'Seventh Semester', 78.2]\n",
    "student_2 = ['Shyam','male',21,'B.C.A', 'Fifth Semester',67.5]\n",
    "student_3 = ['Abhishek','male',22, 'B.Sc.Cs.It', 'Seventh Semester',82.4]\n",
    "student_4 = ['Mahima','female',20, 'B.Sc.Cs.It', 'Fifth Semester',87.3]\n",
    "student_5 = ['Sanjana','female',22, 'B.Sc.Cs.It', 'Seventh Semester',69.8]\n",
    "student_6 = ['Prabhat', 'male',23, 'B.Sc.Cs.It', 'Seventh Semester', 80.2]\n",
    "student_7 = ['Ashmita','female',21,'B.Sc.Cs.It', 'Fifth Semester',81.5]\n",
    "student_8 = ['Shanti','female',22, 'B.Sc.Cs.It', 'Fifth Semester',72.4]\n",
    "student_9 = ['Himal','male',20, 'B.C,A', 'Fifth Semester',78.3]\n",
    "student_10 = ['Rabina','female',22, 'B.I.M', 'Seventh Semester',75.8]\n",
    "student_11 = ['Kamal', 'male',23, 'B.I.M', 'Fifth Semester', 80.2]\n",
    "student_12= ['Bhawana','female',21,'B.I.M', 'Third Semester',81.5]\n",
    "student_13 = ['Sunil','male',22, 'B.I.M', 'Fourth Semester',72.4]\n",
    "student_14= ['Nirisha','female',20, 'B.I.M', 'Fourth Semester',78.3]\n",
    "student_15 = ['Sushmita','female',22, 'B.I.M', 'Third Semester',75.8]\n",
    "\n",
    "student_datasets = [student_1, student_2, student_3, student_4, student_5,\n",
    "                    student_6, student_7, student_8, student_9, student_10,\n",
    "                   student_11, student_12, student_13, student_14,student_15]\n",
    "\n"
   ]
  },
  {
   "cell_type": "markdown",
   "id": "c9f2f499",
   "metadata": {},
   "source": [
    "#### Question \n",
    "\n",
    "**From the <b>student_datasets</b>, calculate the average percentage scored by these students.**"
   ]
  },
  {
   "cell_type": "code",
   "execution_count": 2,
   "id": "615af84b",
   "metadata": {},
   "outputs": [
    {
     "name": "stdout",
     "output_type": "stream",
     "text": [
      "77.44\n"
     ]
    }
   ],
   "source": [
    "total = 0\n",
    "length = 0\n",
    "for student in student_datasets:\n",
    "    score = student[-1]\n",
    "    total += score\n",
    "    length+=1\n",
    "avg_score = total/length\n",
    "print(avg_score)"
   ]
  },
  {
   "cell_type": "markdown",
   "id": "b3797cb3",
   "metadata": {},
   "source": [
    "**From the <b>student_datasets</b>, calculate the average percentage scored by these students.**"
   ]
  },
  {
   "cell_type": "code",
   "execution_count": 3,
   "id": "ed1afdfa",
   "metadata": {},
   "outputs": [
    {
     "name": "stdout",
     "output_type": "stream",
     "text": [
      "21.6\n"
     ]
    }
   ],
   "source": [
    "total = 0\n",
    "length = 0\n",
    "for student in student_datasets:\n",
    "    age = student[2]\n",
    "    total += age\n",
    "    length+=1\n",
    "avg_age = total/length\n",
    "print(avg_age)"
   ]
  },
  {
   "cell_type": "markdown",
   "id": "82bd1e6a",
   "metadata": {},
   "source": [
    "#### Break Statements In For Loop\n",
    "<li>With the break statement we can stop the for loop even if the condition is true.</li>"
   ]
  },
  {
   "cell_type": "markdown",
   "id": "7078b81f",
   "metadata": {},
   "source": [
    "**From the <b>student_datasets</b>, calculate the average percentage scored by last five students.**"
   ]
  },
  {
   "cell_type": "code",
   "execution_count": 4,
   "id": "d5c8e750",
   "metadata": {},
   "outputs": [],
   "source": [
    "total = 0\n",
    "length = len(student_datasets)\n",
    "for student in student_datasets:\n",
    "    score = student[-1]\n",
    "    total += score\n",
    "    length -= 1\n",
    "    if length == 10:\n",
    "        break"
   ]
  },
  {
   "cell_type": "code",
   "execution_count": 5,
   "id": "c69a2642",
   "metadata": {},
   "outputs": [
    {
     "name": "stdout",
     "output_type": "stream",
     "text": [
      "385.2\n"
     ]
    }
   ],
   "source": [
    "print(total)"
   ]
  },
  {
   "cell_type": "code",
   "execution_count": 6,
   "id": "4d87f455",
   "metadata": {},
   "outputs": [
    {
     "name": "stdout",
     "output_type": "stream",
     "text": [
      "10\n"
     ]
    }
   ],
   "source": [
    "print(length)"
   ]
  },
  {
   "cell_type": "markdown",
   "id": "52dd62d7",
   "metadata": {},
   "source": [
    "#### For Loops WIth List\n",
    "\n",
    "<li>We can iterate over the items in a list using <b>for loops.</b></li>"
   ]
  },
  {
   "cell_type": "code",
   "execution_count": 7,
   "id": "097d0a28",
   "metadata": {},
   "outputs": [],
   "source": [
    "a = [1,2,3,4,5]"
   ]
  },
  {
   "cell_type": "code",
   "execution_count": 8,
   "id": "0587e21a",
   "metadata": {},
   "outputs": [
    {
     "name": "stdout",
     "output_type": "stream",
     "text": [
      "1\n",
      "2\n",
      "3\n",
      "4\n",
      "5\n"
     ]
    }
   ],
   "source": [
    "for items in a:\n",
    "    print(items)"
   ]
  },
  {
   "cell_type": "code",
   "execution_count": 9,
   "id": "8fd9a4b2",
   "metadata": {},
   "outputs": [
    {
     "name": "stdout",
     "output_type": "stream",
     "text": [
      "2\n",
      "3\n",
      "4\n",
      "5\n",
      "6\n"
     ]
    }
   ],
   "source": [
    "for items in a:\n",
    "    print(items+ 1)"
   ]
  },
  {
   "cell_type": "markdown",
   "id": "9d6ac219",
   "metadata": {},
   "source": [
    "#### Take the given list and create a new list which represent the square value of the items in a list"
   ]
  },
  {
   "cell_type": "code",
   "execution_count": 10,
   "id": "857950ac",
   "metadata": {},
   "outputs": [],
   "source": [
    "num = [1,2,3,5,7,9]"
   ]
  },
  {
   "cell_type": "code",
   "execution_count": 11,
   "id": "96aff803",
   "metadata": {},
   "outputs": [
    {
     "name": "stdout",
     "output_type": "stream",
     "text": [
      "[1, 4, 9, 25, 49, 81]\n"
     ]
    }
   ],
   "source": [
    "square = []\n",
    "for i in num:\n",
    "    square.append(i**2)\n",
    "print(square)\n",
    "    "
   ]
  },
  {
   "cell_type": "markdown",
   "id": "d34a5f44",
   "metadata": {},
   "source": [
    "#### Range"
   ]
  },
  {
   "cell_type": "code",
   "execution_count": 12,
   "id": "a8778fd7",
   "metadata": {},
   "outputs": [
    {
     "name": "stdout",
     "output_type": "stream",
     "text": [
      "2\n"
     ]
    }
   ],
   "source": [
    "for i in range(0,5,2):\n",
    "    if i ==2:\n",
    "        print(i)\n",
    "    "
   ]
  },
  {
   "cell_type": "markdown",
   "id": "1009f8d9",
   "metadata": {},
   "source": [
    "#### Use range to populate the square of even numbers upto 20 in a new list."
   ]
  },
  {
   "cell_type": "code",
   "execution_count": 13,
   "id": "c7834211",
   "metadata": {},
   "outputs": [
    {
     "name": "stdout",
     "output_type": "stream",
     "text": [
      "[0, 4, 16, 36, 64, 100, 144, 196, 256, 324]\n"
     ]
    }
   ],
   "source": [
    "list_a=[]\n",
    "for i in range(0,20):\n",
    "    if i%2==0:\n",
    "        list_a.append(i**2)\n",
    "print(list_a)\n",
    "     \n",
    " "
   ]
  },
  {
   "cell_type": "code",
   "execution_count": 14,
   "id": "cd6d0f15",
   "metadata": {},
   "outputs": [
    {
     "name": "stdout",
     "output_type": "stream",
     "text": [
      "[0, 4, 16, 36, 64, 100, 144, 196, 256, 324]\n"
     ]
    }
   ],
   "source": [
    "list_a=[]\n",
    "for i in range(0,20,2):\n",
    "    list_a.append(i**2)\n",
    "print(list_a)\n",
    "     \n",
    " "
   ]
  },
  {
   "cell_type": "markdown",
   "id": "026a279f",
   "metadata": {},
   "source": [
    "#### Python List Comprehension Techniques"
   ]
  },
  {
   "cell_type": "code",
   "execution_count": 15,
   "id": "e06d801b",
   "metadata": {},
   "outputs": [],
   "source": [
    "a = [1,2,3,4,5]\n",
    "a = [item**2 for item in a]"
   ]
  },
  {
   "cell_type": "code",
   "execution_count": 16,
   "id": "220b3b47",
   "metadata": {},
   "outputs": [],
   "source": [
    "b = [12,14,13,15,21,16,18,20]\n",
    "c = [value+1 for value in b if value%2==1]\n",
    "d = [value for value in b if value%2==0]"
   ]
  },
  {
   "cell_type": "code",
   "execution_count": 17,
   "id": "ceca61d4",
   "metadata": {},
   "outputs": [
    {
     "name": "stdout",
     "output_type": "stream",
     "text": [
      "[14, 16, 22]\n",
      "[12, 14, 16, 18, 20]\n"
     ]
    }
   ],
   "source": [
    "print(c)\n",
    "print(d)"
   ]
  },
  {
   "cell_type": "markdown",
   "id": "497aed05",
   "metadata": {},
   "source": [
    "#### For Loops With Dictionary\n",
    "\n",
    "<li>We can iterate over dictionary items using for loop in dict.items()</li>\n",
    "<li>The dictionary keys can be iterated using dict.keys()</li>\n",
    "<li>Similarly, the dictionary values can also be iterated using dict.values().</li>"
   ]
  },
  {
   "cell_type": "code",
   "execution_count": 18,
   "id": "0474769e",
   "metadata": {},
   "outputs": [],
   "source": [
    "dict1 = {\"name\": \"prabhat\", \"age\": 23, \"location\": \"manigram\", \"level\": \"bachelor\",\n",
    "        \"faculty\": \"B.Sc.Cs.It\", \"weight\": 70, \"height\": \"5ft 5inch\"}"
   ]
  },
  {
   "cell_type": "code",
   "execution_count": 19,
   "id": "66129af8",
   "metadata": {},
   "outputs": [
    {
     "name": "stdout",
     "output_type": "stream",
     "text": [
      "prabhat\n",
      "23\n",
      "manigram\n",
      "bachelor\n",
      "B.Sc.Cs.It\n",
      "70\n",
      "5ft 5inch\n"
     ]
    }
   ],
   "source": [
    "for key, val in dict1.items():\n",
    "    print(val)"
   ]
  },
  {
   "cell_type": "code",
   "execution_count": 20,
   "id": "3dc0997a",
   "metadata": {},
   "outputs": [
    {
     "data": {
      "text/plain": [
       "['name', 'age', 'location', 'level', 'faculty', 'weight', 'height']"
      ]
     },
     "execution_count": 20,
     "metadata": {},
     "output_type": "execute_result"
    }
   ],
   "source": [
    "list(dict1.keys())"
   ]
  },
  {
   "cell_type": "code",
   "execution_count": 21,
   "id": "f65ed023",
   "metadata": {},
   "outputs": [
    {
     "data": {
      "text/plain": [
       "['prabhat', 23, 'manigram', 'bachelor', 'B.Sc.Cs.It', 70, '5ft 5inch']"
      ]
     },
     "execution_count": 21,
     "metadata": {},
     "output_type": "execute_result"
    }
   ],
   "source": [
    "list(dict1.values())"
   ]
  },
  {
   "cell_type": "code",
   "execution_count": 23,
   "id": "6a7638c1",
   "metadata": {},
   "outputs": [
    {
     "data": {
      "text/plain": [
       "dict_keys"
      ]
     },
     "execution_count": 23,
     "metadata": {},
     "output_type": "execute_result"
    }
   ],
   "source": [
    "type(dict1.keys())"
   ]
  },
  {
   "cell_type": "markdown",
   "id": "71610240",
   "metadata": {},
   "source": [
    "#### For Loops WIth Set"
   ]
  },
  {
   "cell_type": "code",
   "execution_count": 24,
   "id": "d44ad2fd",
   "metadata": {},
   "outputs": [],
   "source": [
    "a = {1,2,3,4,5}"
   ]
  },
  {
   "cell_type": "code",
   "execution_count": 25,
   "id": "75759d97",
   "metadata": {},
   "outputs": [
    {
     "name": "stdout",
     "output_type": "stream",
     "text": [
      "1\n",
      "2\n",
      "3\n",
      "4\n",
      "5\n"
     ]
    }
   ],
   "source": [
    "for item in a:\n",
    "    print(item)"
   ]
  },
  {
   "cell_type": "code",
   "execution_count": 26,
   "id": "c91f6488",
   "metadata": {},
   "outputs": [],
   "source": [
    "for i in range(4,6):\n",
    "    a.add(i)"
   ]
  },
  {
   "cell_type": "code",
   "execution_count": 27,
   "id": "3eec3c02",
   "metadata": {},
   "outputs": [
    {
     "data": {
      "text/plain": [
       "{1, 2, 3, 4, 5}"
      ]
     },
     "execution_count": 27,
     "metadata": {},
     "output_type": "execute_result"
    }
   ],
   "source": [
    "a"
   ]
  },
  {
   "cell_type": "markdown",
   "id": "2c774c9c",
   "metadata": {},
   "source": [
    "####  For Loops With A Tuple"
   ]
  },
  {
   "cell_type": "code",
   "execution_count": 28,
   "id": "54d511a7",
   "metadata": {},
   "outputs": [],
   "source": [
    "tuple1 = (1, 2, 3, 4, 5)"
   ]
  },
  {
   "cell_type": "code",
   "execution_count": 29,
   "id": "42c362ce",
   "metadata": {},
   "outputs": [
    {
     "name": "stdout",
     "output_type": "stream",
     "text": [
      "1\n",
      "2\n",
      "3\n",
      "4\n",
      "5\n"
     ]
    }
   ],
   "source": [
    "for item in tuple1:\n",
    "    print(item)"
   ]
  },
  {
   "cell_type": "code",
   "execution_count": 30,
   "id": "83d86126",
   "metadata": {},
   "outputs": [
    {
     "name": "stdout",
     "output_type": "stream",
     "text": [
      "(1, 2, 3, 4, 6)\n"
     ]
    }
   ],
   "source": [
    "list_to_tuple1 = list(tuple1)\n",
    "list_to_tuple1[-1] = 6\n",
    "final_tuple = tuple(list_to_tuple1)\n",
    "print(final_tuple)"
   ]
  },
  {
   "cell_type": "code",
   "execution_count": 31,
   "id": "5139fe0c",
   "metadata": {},
   "outputs": [],
   "source": [
    "tuple1 = (4, 5, 6,7,8)"
   ]
  },
  {
   "cell_type": "code",
   "execution_count": 34,
   "id": "62c5db9e",
   "metadata": {},
   "outputs": [],
   "source": [
    "for i in range(1, 4):\n",
    "    tuple1 = tuple1 + (i,)"
   ]
  },
  {
   "cell_type": "code",
   "execution_count": 35,
   "id": "da0007b7",
   "metadata": {},
   "outputs": [
    {
     "data": {
      "text/plain": [
       "(4, 5, 6, 7, 8, 1, 2, 3)"
      ]
     },
     "execution_count": 35,
     "metadata": {},
     "output_type": "execute_result"
    }
   ],
   "source": [
    "tuple1"
   ]
  },
  {
   "cell_type": "markdown",
   "id": "2638c85d",
   "metadata": {},
   "source": [
    "#### While Loop\n",
    "<li>With the while loop we can execute a set of statements as long as a condition is true.</li>\n",
    "<li>The while loop statement stops running once the condition is false.</li>\n",
    "<li>With the <b>break</b> statement we can stop the loop even if the while condition is true.</li>"
   ]
  },
  {
   "cell_type": "markdown",
   "id": "f784bd01",
   "metadata": {},
   "source": [
    "#### While loop Syntax\n",
    "\n",
    "<code>\n",
    "while (condition):\n",
    "    //statement\n",
    "</code>"
   ]
  },
  {
   "cell_type": "code",
   "execution_count": 1,
   "id": "c0364de8",
   "metadata": {},
   "outputs": [
    {
     "name": "stdout",
     "output_type": "stream",
     "text": [
      "1\n",
      "2\n",
      "3\n",
      "4\n",
      "5\n"
     ]
    }
   ],
   "source": [
    "a = 0\n",
    "while a < 5:\n",
    "    a += 1\n",
    "    print(a)"
   ]
  },
  {
   "cell_type": "code",
   "execution_count": 2,
   "id": "46937016",
   "metadata": {},
   "outputs": [
    {
     "name": "stdout",
     "output_type": "stream",
     "text": [
      "9\n",
      "8\n",
      "7\n",
      "6\n",
      "5\n"
     ]
    }
   ],
   "source": [
    "a = 10\n",
    "while a > 5:\n",
    "    a -= 1\n",
    "    print(a)"
   ]
  },
  {
   "cell_type": "markdown",
   "id": "9ee94640",
   "metadata": {},
   "source": [
    "#### Python Do-while Loop\n",
    "<li>Python doesn't have do-while loop. But we can create a program like this.</li>\n",
    "<li>The do while loop is used to check condition after executing the statement. It is like while loop but it is executed at least once.</li>\n",
    "<li>The <b>do while loop</b> can be created by using while, if and break statements in python.</li>\n",
    "\n"
   ]
  },
  {
   "cell_type": "markdown",
   "id": "a3a8fd45",
   "metadata": {},
   "source": [
    "#### Do-while loop Syntax\n",
    "\n",
    "<code>\n",
    "do {  \n",
    "     //statement  \n",
    "} while (condition);  \n",
    "</code>"
   ]
  },
  {
   "cell_type": "code",
   "execution_count": 3,
   "id": "242ee63d",
   "metadata": {},
   "outputs": [
    {
     "name": "stdout",
     "output_type": "stream",
     "text": [
      "1\n",
      "2\n",
      "3\n",
      "4\n",
      "5\n",
      "6\n"
     ]
    }
   ],
   "source": [
    "i = 0\n",
    "while True:\n",
    "    i += 1\n",
    "    print(i)\n",
    "    if i> 5:\n",
    "        break"
   ]
  },
  {
   "cell_type": "code",
   "execution_count": null,
   "id": "099d673d",
   "metadata": {},
   "outputs": [],
   "source": []
  },
  {
   "cell_type": "markdown",
   "id": "13f84dbe",
   "metadata": {},
   "source": [
    "#### Python Conditions and If statements\n",
    "\n",
    "<li>Python supports the usual logical conditions from mathematics:</li>\n",
    "<ol>\n",
    "    <li>Equals: a == b</li>\n",
    "    <li>Not Equals: a != b</li>\n",
    "    <li>Less than: a < b</li>\n",
    "    <li>Less than or equal to: a <= b</li>\n",
    "    <li>Greater than: a > b</li>\n",
    "    <li>Greater than or equal to: a >= b</li>\n",
    "    <li>These conditions can be used in several ways, most commonly in \"if statements\" and loops.</li>\n",
    "</ol>\n",
    "\n",
    "<li>An \"if statement\" is written by using the if keyword.</li>"
   ]
  },
  {
   "cell_type": "code",
   "execution_count": 15,
   "id": "7e732b4c",
   "metadata": {},
   "outputs": [],
   "source": [
    "a = 8\n",
    "b = 8\n",
    "if a != b:\n",
    "    print(\"a is not equal to b\")"
   ]
  },
  {
   "cell_type": "code",
   "execution_count": 16,
   "id": "02000bf0",
   "metadata": {},
   "outputs": [
    {
     "data": {
      "text/plain": [
       "False"
      ]
     },
     "execution_count": 16,
     "metadata": {},
     "output_type": "execute_result"
    }
   ],
   "source": [
    "a!= b"
   ]
  },
  {
   "cell_type": "markdown",
   "id": "76828b4b",
   "metadata": {},
   "source": [
    "#### Booleans\n",
    "\n",
    "<li>When we use the == operator to determine if two values are equal, the output will always be True or False.</li>\n",
    "<li>Booleans are binary output variables if condition satisfies, it will give <b>True</b> and if condition is not satisfied it gives <b>False.</b></li>"
   ]
  },
  {
   "cell_type": "code",
   "execution_count": null,
   "id": "cfa14edd",
   "metadata": {},
   "outputs": [],
   "source": []
  },
  {
   "cell_type": "code",
   "execution_count": null,
   "id": "fa505b80",
   "metadata": {},
   "outputs": [],
   "source": []
  },
  {
   "cell_type": "code",
   "execution_count": null,
   "id": "077c1813",
   "metadata": {},
   "outputs": [],
   "source": []
  },
  {
   "cell_type": "markdown",
   "id": "546a1c2d",
   "metadata": {},
   "source": [
    "#### Use Of if Statements\n",
    "\n",
    "<li>We use if statement incase we only need to valid whether the statement is true and have to perform operations only when it's true.</li>\n",
    "\n",
    "**Syntax of if statements**\n",
    "\n",
    "<code>if boolean_expression:\n",
    "    statement(s)\n",
    "</code>"
   ]
  },
  {
   "cell_type": "code",
   "execution_count": 17,
   "id": "c0bc63b7",
   "metadata": {},
   "outputs": [],
   "source": [
    "a = 6\n",
    "b = 3\n",
    "if a > b:\n",
    "    a += 1"
   ]
  },
  {
   "cell_type": "code",
   "execution_count": 18,
   "id": "f6b3fd2b",
   "metadata": {},
   "outputs": [
    {
     "name": "stdout",
     "output_type": "stream",
     "text": [
      "7\n"
     ]
    }
   ],
   "source": [
    "print(a)"
   ]
  },
  {
   "cell_type": "code",
   "execution_count": 20,
   "id": "375c5dfd",
   "metadata": {},
   "outputs": [],
   "source": [
    "student_1 = ['Ram', 'male',23, 'B.C.A', 'Seventh Semester', 78.2]\n",
    "student_2 = ['Shyam','male',21,'B.C.A', 'Fifth Semester',67.5]\n",
    "student_3 = ['Abhishek','male',22, 'B.Sc.Cs.It', 'Seventh Semester',82.4]\n",
    "student_4 = ['Mahima','female',20, 'B.Sc.Cs.It', 'Fifth Semester',87.3]\n",
    "student_5 = ['Sanjana','female',22, 'B.Sc.Cs.It', 'Seventh Semester',69.8]\n",
    "student_6 = ['Prabhat', 'male',23, 'B.Sc.Cs.It', 'Seventh Semester', 80.2]\n",
    "student_7 = ['Ashmita','female',21,'B.Sc.Cs.It', 'Fifth Semester',81.5]\n",
    "student_8 = ['Shanti','female',22, 'B.Sc.Cs.It', 'Fifth Semester',72.4]\n",
    "student_9 = ['Himal','male',20, 'B.C,A', 'Fifth Semester',78.3]\n",
    "student_10 = ['Rabina','female',22, 'B.I.M', 'Seventh Semester',75.8]\n",
    "student_11 = ['Kamal', 'male',23, 'B.I.M', 'Fifth Semester', 80.2]\n",
    "student_12= ['Bhawana','female',21,'B.I.M', 'Third Semester',81.5]\n",
    "student_13 = ['Sunil','male',22, 'B.I.M', 'Fourth Semester',72.4]\n",
    "student_14= ['Nirisha','female',20, 'B.I.M', 'Fourth Semester',78.3]\n",
    "student_15 = ['Sushmita','female',22, 'B.I.M', 'Third Semester',75.8]\n",
    "\n",
    "student_datasets = [student_1, student_2, student_3, student_4, student_5,\n",
    "                    student_6, student_7, student_8, student_9, student_10,\n",
    "                   student_11, student_12, student_13, student_14,student_15]\n",
    "\n"
   ]
  },
  {
   "cell_type": "code",
   "execution_count": 25,
   "id": "0c641ada",
   "metadata": {},
   "outputs": [
    {
     "name": "stdout",
     "output_type": "stream",
     "text": [
      "7\n"
     ]
    }
   ],
   "source": [
    "male_count = 0\n",
    "for student in student_datasets:\n",
    "    if student[1] == 'male':\n",
    "        male_count += 1\n",
    "print(male_count)"
   ]
  },
  {
   "cell_type": "code",
   "execution_count": 26,
   "id": "fb267996",
   "metadata": {},
   "outputs": [
    {
     "name": "stdout",
     "output_type": "stream",
     "text": [
      "8\n"
     ]
    }
   ],
   "source": [
    "female_count = 0\n",
    "for student in student_datasets:\n",
    "    if student[1] == 'female':\n",
    "        female_count += 1\n",
    "print(female_count)"
   ]
  },
  {
   "cell_type": "markdown",
   "id": "777edbf1",
   "metadata": {},
   "source": [
    "#### Find the number of students whose age is greater than or equals to 22."
   ]
  },
  {
   "cell_type": "code",
   "execution_count": 27,
   "id": "455ed3a2",
   "metadata": {},
   "outputs": [
    {
     "name": "stdout",
     "output_type": "stream",
     "text": [
      "9\n"
     ]
    }
   ],
   "source": [
    "age_22_count = 0\n",
    "for student in student_datasets:\n",
    "    if student[2] >= 22:\n",
    "        age_22_count+= 1\n",
    "print(age_22_count)"
   ]
  },
  {
   "cell_type": "markdown",
   "id": "a6009d84",
   "metadata": {},
   "source": [
    "#### Find the number of students whose score is less than 75."
   ]
  },
  {
   "cell_type": "code",
   "execution_count": 28,
   "id": "dae14016",
   "metadata": {},
   "outputs": [
    {
     "name": "stdout",
     "output_type": "stream",
     "text": [
      "4\n"
     ]
    }
   ],
   "source": [
    "less_than_75 = 0\n",
    "for student in student_datasets:\n",
    "    if student[-1] < 75:\n",
    "        less_than_75 += 1\n",
    "print(less_than_75)"
   ]
  },
  {
   "cell_type": "markdown",
   "id": "4d9ee90e",
   "metadata": {},
   "source": [
    "#### Use of Shorthand if statements\n",
    "\n",
    "<li>If you have only one statement to execute, you can put it on the same line as the if statement.</li>"
   ]
  },
  {
   "cell_type": "code",
   "execution_count": 33,
   "id": "a2bce901",
   "metadata": {},
   "outputs": [],
   "source": [
    "a = 5\n",
    "b = 6"
   ]
  },
  {
   "cell_type": "code",
   "execution_count": 34,
   "id": "d1188854",
   "metadata": {},
   "outputs": [],
   "source": [
    "x = 10 if a > b else 11"
   ]
  },
  {
   "cell_type": "code",
   "execution_count": 35,
   "id": "d418664c",
   "metadata": {},
   "outputs": [
    {
     "data": {
      "text/plain": [
       "11"
      ]
     },
     "execution_count": 35,
     "metadata": {},
     "output_type": "execute_result"
    }
   ],
   "source": [
    "x"
   ]
  },
  {
   "cell_type": "markdown",
   "id": "cd8fe4a7",
   "metadata": {},
   "source": [
    "#### Question\n",
    "**Correct the following code in such a way that it will only print the statement which is true.**\n",
    "\n",
    "\n",
    "<code>\n",
    "if True:\n",
    "    print(\"2 + 2 == 5\")\n",
    "    print(\"lemons are sour\")\n",
    "if True:\n",
    "    print(\"the sky is blue\")\n",
    "    print(\"5 >= 3\")  \n",
    "if True:\n",
    "    print(\"spheres have corners\")\n",
    "    print(\"7 / 5 == 2\")\n",
    "   \n",
    "</code>"
   ]
  },
  {
   "cell_type": "code",
   "execution_count": 36,
   "id": "7a1fef58",
   "metadata": {},
   "outputs": [
    {
     "name": "stdout",
     "output_type": "stream",
     "text": [
      "2 + 2 == 5\n",
      "lemons are sour\n",
      "the sky is blue\n",
      "5 >= 3\n",
      "spheres have corners\n",
      "7 / 5 == 2\n"
     ]
    }
   ],
   "source": [
    "if True:\n",
    "    print(\"2 + 2 == 5\")\n",
    "    print(\"lemons are sour\")\n",
    "\n",
    "if True:\n",
    "    print(\"the sky is blue\")\n",
    "    print(\"5 >= 3\")\n",
    "    \n",
    "if True:\n",
    "    print(\"spheres have corners\")\n",
    "    print(\"7 / 5 == 2\")"
   ]
  },
  {
   "cell_type": "code",
   "execution_count": null,
   "id": "f0938dbf",
   "metadata": {},
   "outputs": [],
   "source": []
  },
  {
   "cell_type": "code",
   "execution_count": 37,
   "id": "d2657d55",
   "metadata": {},
   "outputs": [
    {
     "name": "stdout",
     "output_type": "stream",
     "text": [
      "the sky is blue\n",
      "5 >= 3\n"
     ]
    }
   ],
   "source": [
    "if 2+2 == 5:\n",
    "    print(\"2 + 2 == 5\")\n",
    "    print(\"lemons are sour\")\n",
    "\n",
    "if 5 >= 3:\n",
    "    print(\"the sky is blue\")\n",
    "    print(\"5 >= 3\")\n",
    "    \n",
    "if 7/5 ==2:\n",
    "    print(\"spheres have corners\")\n",
    "    print(\"7 / 5 == 2\")\n",
    "    \n",
    "    "
   ]
  },
  {
   "cell_type": "code",
   "execution_count": null,
   "id": "7f067213",
   "metadata": {},
   "outputs": [],
   "source": []
  },
  {
   "cell_type": "markdown",
   "id": "7dd390e8",
   "metadata": {},
   "source": [
    "#### Use of if-else statements\n",
    "<li>We need to check the validity of the statements and we care about both possibile conditions then we use if-else statement.</li>\n",
    "<li>if-else statement only support binary statements or binary conditions.</li>"
   ]
  },
  {
   "cell_type": "markdown",
   "id": "1059b8c6",
   "metadata": {},
   "source": [
    "#### Syntax of if-else statements\n",
    "<code>\n",
    "if expression:\n",
    "   statement(s)\n",
    "else:\n",
    "   statement(s)\n",
    "</code>\n"
   ]
  },
  {
   "cell_type": "code",
   "execution_count": 38,
   "id": "fd63a1bb",
   "metadata": {},
   "outputs": [
    {
     "name": "stdout",
     "output_type": "stream",
     "text": [
      "Number1 is not greater than Number2\n"
     ]
    }
   ],
   "source": [
    "num1 = 15\n",
    "num2 = 20\n",
    "if num1 > num2:\n",
    "    print(\"Number1 is greater than Number2\")\n",
    "else:\n",
    "    print(\"Number1 is not greater than Number2\")"
   ]
  },
  {
   "cell_type": "code",
   "execution_count": null,
   "id": "f6fc358d",
   "metadata": {},
   "outputs": [],
   "source": []
  },
  {
   "cell_type": "code",
   "execution_count": null,
   "id": "d7f5fcc1",
   "metadata": {},
   "outputs": [],
   "source": []
  },
  {
   "cell_type": "code",
   "execution_count": null,
   "id": "6361dd90",
   "metadata": {},
   "outputs": [],
   "source": [
    "student_1 = ['Ram', 'male',23, 'B.C.A', 'Seventh Semester', 78.2]\n",
    "student_2 = ['Shyam','male',21,'B.C.A', 'Fifth Semester',67.5]\n",
    "student_3 = ['Abhishek','male',22, 'B.Sc.Cs.It', 'Seventh Semester',82.4]\n",
    "student_4 = ['Mahima','female',20, 'B.Sc.Cs.It', 'Fifth Semester',87.3]\n",
    "student_5 = ['Sanjana','female',22, 'B.Sc.Cs.It', 'Seventh Semester',69.8]\n",
    "student_6 = ['Prabhat', 'male',23, 'B.Sc.Cs.It', 'Seventh Semester', 80.2]\n",
    "student_7 = ['Ashmita','female',21,'B.Sc.Cs.It', 'Fifth Semester',81.5]\n",
    "student_8 = ['Shanti','female',22, 'B.Sc.Cs.It', 'Fifth Semester',72.4]\n",
    "student_9 = ['Himal','male',20, 'B.C,A', 'Fifth Semester',78.3]\n",
    "student_10 = ['Rabina','female',22, 'B.I.M', 'Seventh Semester',75.8]\n",
    "student_11 = ['Kamal', 'male',23, 'B.I.M', 'Fifth Semester', 80.2]\n",
    "student_12= ['Bhawana','female',21,'B.I.M', 'Third Semester',81.5]\n",
    "student_13 = ['Sunil','male',22, 'B.I.M', 'Fourth Semester',72.4]\n",
    "student_14= ['Nirisha','female',20, 'B.I.M', 'Fourth Semester',78.3]\n",
    "student_15 = ['Sushmita','female',22, 'B.I.M', 'Third Semester',75.8]\n",
    "\n",
    "student_datasets = [student_1, student_2, student_3, student_4, student_5,\n",
    "                    student_6, student_7, student_8, student_9, student_10,\n",
    "                   student_11, student_12, student_13, student_14,student_15]\n",
    "\n"
   ]
  },
  {
   "cell_type": "markdown",
   "id": "5d959757",
   "metadata": {},
   "source": [
    "#### Use if-else statement and find the count of male as well as female students"
   ]
  },
  {
   "cell_type": "code",
   "execution_count": 41,
   "id": "2d4299df",
   "metadata": {},
   "outputs": [
    {
     "name": "stdout",
     "output_type": "stream",
     "text": [
      "7\n",
      "8\n"
     ]
    }
   ],
   "source": [
    "male_count=0\n",
    "female_count=0\n",
    "for student in student_datasets:\n",
    "    if student[1]=='male':\n",
    "        male_count+=1\n",
    "    else:\n",
    "        female_count+=1\n",
    "print(male_count)\n",
    "print(female_count)"
   ]
  },
  {
   "cell_type": "markdown",
   "id": "0c3fb915",
   "metadata": {},
   "source": [
    "#### Use if-else statement and find the count of students who are less than 22 and greater than or equal to 22."
   ]
  },
  {
   "cell_type": "code",
   "execution_count": 42,
   "id": "fea03be4",
   "metadata": {},
   "outputs": [
    {
     "name": "stdout",
     "output_type": "stream",
     "text": [
      "6\n",
      "9\n"
     ]
    }
   ],
   "source": [
    "less_count=0\n",
    "greater_count=0\n",
    "for student in student_datasets:\n",
    "    if student[2]<22:\n",
    "        less_count+=1\n",
    "    else:\n",
    "        greater_count+=1\n",
    "print(less_count)\n",
    "print(greater_count)\n"
   ]
  },
  {
   "cell_type": "markdown",
   "id": "068e3ee3",
   "metadata": {},
   "source": [
    "#### Short-hand if-else statements\n",
    "<li>We can use if-else condition as one line statement in short-hand if-else statements.</li>\n",
    "<li>If you have only one statement to execute, one for if, and one for else, you can put it all on the same line.</li>\n"
   ]
  },
  {
   "cell_type": "code",
   "execution_count": 45,
   "id": "86013d23",
   "metadata": {},
   "outputs": [
    {
     "name": "stdout",
     "output_type": "stream",
     "text": [
      "Lemons are not sour\n"
     ]
    }
   ],
   "source": [
    "# print(\"2 + 2 == 5\")\n",
    "print(\"lemons are sour\") if 2+2 == 5 else print(\"Lemons are not sour\")"
   ]
  },
  {
   "cell_type": "code",
   "execution_count": null,
   "id": "419b557d",
   "metadata": {},
   "outputs": [],
   "source": []
  },
  {
   "cell_type": "markdown",
   "id": "c1200e73",
   "metadata": {},
   "source": [
    "#### Use of if-elif-else Statements\n",
    "\n",
    "<li>If we have greater than two possible conditions for any given statement, then under such scenario, we use if-elif-else statements.</li>\n",
    "<li>A perfect example for using such conditional statements is <b>\"Checking whether a number is greater than, less than or equal to another given number\"</b>.</li>"
   ]
  },
  {
   "cell_type": "markdown",
   "id": "880f0800",
   "metadata": {},
   "source": [
    "#### Syntax Of If-elif-else statements\n",
    "\n",
    "<code>\n",
    "if expression1:\n",
    "   statement(s)\n",
    "elif expression2:\n",
    "   statement(s)\n",
    "elif expression3:\n",
    "   statement(s)\n",
    "else:\n",
    "   statement(s) \n",
    "</code>"
   ]
  },
  {
   "cell_type": "code",
   "execution_count": 52,
   "id": "53408cd0",
   "metadata": {},
   "outputs": [],
   "source": [
    "a = 2\n",
    "b = 2"
   ]
  },
  {
   "cell_type": "code",
   "execution_count": 53,
   "id": "b2e3d975",
   "metadata": {},
   "outputs": [
    {
     "name": "stdout",
     "output_type": "stream",
     "text": [
      "a is equal to b\n"
     ]
    }
   ],
   "source": [
    "if a > b:\n",
    "    print(\"a is greater than b\")\n",
    "elif a < b:\n",
    "    print(\"a is less than b\")\n",
    "else:\n",
    "    print(\"a is equal to b\")"
   ]
  },
  {
   "cell_type": "code",
   "execution_count": null,
   "id": "448af774",
   "metadata": {},
   "outputs": [],
   "source": []
  },
  {
   "cell_type": "code",
   "execution_count": 3,
   "id": "3c50a349",
   "metadata": {},
   "outputs": [],
   "source": [
    "student_1 = ['Ram', 'male',23, 'B.C.A', 'Seventh Semester', 78.2]\n",
    "student_2 = ['Shyam','male',21,'B.C.A', 'Fifth Semester',67.5]\n",
    "student_3 = ['Abhishek','male',22, 'B.Sc.Cs.It', 'Seventh Semester',82.4]\n",
    "student_4 = ['Mahima','female',20, 'B.Sc.Cs.It', 'Fifth Semester',87.3]\n",
    "student_5 = ['Sanjana','female',22, 'B.Sc.Cs.It', 'Seventh Semester',69.8]\n",
    "student_6 = ['Prabhat', 'male',23, 'B.Sc.Cs.It', 'Seventh Semester', 80.2]\n",
    "student_7 = ['Ashmita','female',21,'B.Sc.Cs.It', 'Fifth Semester',81.5]\n",
    "student_8 = ['Shanti','female',22, 'B.Sc.Cs.It', 'Fifth Semester',72.4]\n",
    "student_9 = ['Himal','male',20, 'B.C,A', 'Fifth Semester',78.3]\n",
    "student_10 = ['Rabina','female',22, 'B.I.M', 'Seventh Semester',75.8]\n",
    "student_11 = ['Kamal', 'male',23, 'B.I.M', 'Fifth Semester', 80.2]\n",
    "student_12= ['Bhawana','female',21,'B.I.M', 'Third Semester',81.5]\n",
    "student_13 = ['Sunil','male',22, 'B.I.M', 'Fourth Semester',72.4]\n",
    "student_14= ['Nirisha','female',20, 'B.I.M', 'Fourth Semester',78.3]\n",
    "student_15 = ['Sushmita','female',22, 'B.I.M', 'Third Semester',75.8]\n",
    "\n",
    "\n",
    "student_datasets = [student_1, student_2, student_3, student_4, student_5,\n",
    "                    student_6, student_7, student_8, student_9, student_10,\n",
    "                   student_11, student_12, student_13, student_14,student_15,\n",
    "                   student_16, student_17, student_18, student_19, student_20,\n",
    "                    student_21, student_22, student_23, student_24, student_25,\n",
    "                   student_26, student_27, student_28, student_29, student_30]\n",
    "\n"
   ]
  },
  {
   "cell_type": "code",
   "execution_count": 54,
   "id": "140bce1f",
   "metadata": {},
   "outputs": [
    {
     "name": "stdout",
     "output_type": "stream",
     "text": [
      "6\n",
      "2\n",
      "7\n"
     ]
    }
   ],
   "source": [
    "bim_count = 0\n",
    "csit_count = 0\n",
    "bca_count = 0\n",
    "\n",
    "for student in student_datasets:\n",
    "    if student[3] == \"B.I.M\":\n",
    "        bim_count += 1\n",
    "    elif student[3] == \"B.C.A\":\n",
    "        bca_count += 1\n",
    "    else:\n",
    "        csit_count += 1\n",
    "print(bim_count)\n",
    "print(bca_count)\n",
    "print(csit_count)\n",
    "\n"
   ]
  },
  {
   "cell_type": "markdown",
   "id": "831d9ca8",
   "metadata": {},
   "source": [
    "#### Find the number of counts for each semester student."
   ]
  },
  {
   "cell_type": "code",
   "execution_count": 56,
   "id": "14d3da67",
   "metadata": {},
   "outputs": [
    {
     "name": "stdout",
     "output_type": "stream",
     "text": [
      "The total student of third semester 2\n",
      "The total student of fourth semester 2\n",
      "The total student of fifth semester 6\n",
      "The total student of seventh semester 5\n"
     ]
    }
   ],
   "source": [
    "count_third=0\n",
    "count_fourth=0\n",
    "count_fifth=0\n",
    "count_seventh=0\n",
    "for student in student_datasets:\n",
    "    if student[-2]==\"Fifth Semester\":\n",
    "        count_fifth+=1\n",
    "    elif student[-2]==\"Fourth Semester\":\n",
    "        count_fourth+=1\n",
    "    elif student[-2]==\"Third Semester\":\n",
    "        count_third+=1\n",
    "    else:\n",
    "        count_seventh+=1\n",
    "print('The total student of third semester',str(count_third))\n",
    "print('The total student of fourth semester',str(count_fourth))\n",
    "print('The total student of fifth semester',str(count_fifth))\n",
    "print('The total student of seventh semester',str(count_seventh))"
   ]
  },
  {
   "cell_type": "code",
   "execution_count": null,
   "id": "846bc510",
   "metadata": {},
   "outputs": [],
   "source": []
  },
  {
   "cell_type": "markdown",
   "id": "46b50737",
   "metadata": {},
   "source": [
    "#### Dictionaries & Frequency Tables\n",
    "\n",
    "<li>In this lesson on dictionaries and frequency tables, we'll learn how to check for dictionary membership, update dictionary values, and count values using dictionaries.</li>\n",
    "\n",
    "**Checking membership in a dictionary**\n",
    "\n"
   ]
  },
  {
   "cell_type": "code",
   "execution_count": 57,
   "id": "f869fe59",
   "metadata": {},
   "outputs": [],
   "source": [
    "student = {\"name\": \"manisha\", \"age\": 23, \"gender\": \"female\", \"semester\": \"Seventh\"}"
   ]
  },
  {
   "cell_type": "code",
   "execution_count": 58,
   "id": "ad4f145b",
   "metadata": {},
   "outputs": [
    {
     "data": {
      "text/plain": [
       "dict_keys(['name', 'age', 'gender', 'semester'])"
      ]
     },
     "execution_count": 58,
     "metadata": {},
     "output_type": "execute_result"
    }
   ],
   "source": [
    "student.keys()"
   ]
  },
  {
   "cell_type": "code",
   "execution_count": 59,
   "id": "7ec59b8f",
   "metadata": {},
   "outputs": [
    {
     "data": {
      "text/plain": [
       "dict_values(['manisha', 23, 'female', 'Seventh'])"
      ]
     },
     "execution_count": 59,
     "metadata": {},
     "output_type": "execute_result"
    }
   ],
   "source": [
    "student.values()"
   ]
  },
  {
   "cell_type": "code",
   "execution_count": 60,
   "id": "8b557a65",
   "metadata": {},
   "outputs": [],
   "source": [
    "b =  \"age\" in student"
   ]
  },
  {
   "cell_type": "code",
   "execution_count": 64,
   "id": "1fb7a90f",
   "metadata": {},
   "outputs": [
    {
     "data": {
      "text/plain": [
       "True"
      ]
     },
     "execution_count": 64,
     "metadata": {},
     "output_type": "execute_result"
    }
   ],
   "source": [
    "b"
   ]
  },
  {
   "cell_type": "code",
   "execution_count": 62,
   "id": "fd7369e0",
   "metadata": {},
   "outputs": [],
   "source": [
    "c = 23 in student"
   ]
  },
  {
   "cell_type": "code",
   "execution_count": 63,
   "id": "062e4177",
   "metadata": {},
   "outputs": [
    {
     "data": {
      "text/plain": [
       "False"
      ]
     },
     "execution_count": 63,
     "metadata": {},
     "output_type": "execute_result"
    }
   ],
   "source": [
    "c"
   ]
  },
  {
   "cell_type": "markdown",
   "id": "d5ae5492",
   "metadata": {},
   "source": [
    "#### Question:\n",
    "\n",
    "**Using the in operator, check whether the following values exist as dictionary keys in the fruits_dict dictionary:**\n",
    "\n",
    "<b>fruits_dict = {\"apple\": 300, \"banana\":120, \"orange\":100, \"dragon fruit\": 400}</b>\n",
    "\n",
    "<li>The string 'banana'- Assign the output of the expression to a variable named is_in_dictionary_1.</li>\n",
    "<li>The integer 400- Assign the output of the expression to a variable named is_in_dictionary_2.</li>\n",
    "<li>Combine the output of an expression containing in with an if statement. If the string 'apple' exists as dictionary key in fruits_dict, then complete the following:</li>\n",
    "<li>Assign the string \"It exists\" to a variable named result.</li>\n",
    "<li>Print the result variable.</li>"
   ]
  },
  {
   "cell_type": "code",
   "execution_count": 65,
   "id": "614b0f20",
   "metadata": {},
   "outputs": [],
   "source": [
    "fruits_dict = {\"apple\": 300, \"banana\":120, \"orange\":100, \"dragon fruit\": 400}"
   ]
  },
  {
   "cell_type": "code",
   "execution_count": 66,
   "id": "f15ff43a",
   "metadata": {},
   "outputs": [
    {
     "name": "stdout",
     "output_type": "stream",
     "text": [
      "It exists\n"
     ]
    }
   ],
   "source": [
    "is_in_dictionary_1 = \"banana\" in fruits_dict\n",
    "is_in_dictionary_2 = 400 in fruits_dict\n",
    "if \"apple\" in fruits_dict:\n",
    "    result = \"It exists\"\n",
    "    print(result)"
   ]
  },
  {
   "cell_type": "code",
   "execution_count": 67,
   "id": "4b31db7f",
   "metadata": {},
   "outputs": [
    {
     "data": {
      "text/plain": [
       "True"
      ]
     },
     "execution_count": 67,
     "metadata": {},
     "output_type": "execute_result"
    }
   ],
   "source": [
    "is_in_dictionary_1"
   ]
  },
  {
   "cell_type": "code",
   "execution_count": 68,
   "id": "552e7122",
   "metadata": {},
   "outputs": [
    {
     "data": {
      "text/plain": [
       "False"
      ]
     },
     "execution_count": 68,
     "metadata": {},
     "output_type": "execute_result"
    }
   ],
   "source": [
    "is_in_dictionary_2"
   ]
  },
  {
   "cell_type": "markdown",
   "id": "ec566367",
   "metadata": {},
   "source": [
    "#### Updating Dictionary Values"
   ]
  },
  {
   "cell_type": "code",
   "execution_count": 69,
   "id": "63a644b5",
   "metadata": {},
   "outputs": [],
   "source": [
    "fruits_dict[\"apple\"] = 320"
   ]
  },
  {
   "cell_type": "code",
   "execution_count": 70,
   "id": "4137a3e6",
   "metadata": {},
   "outputs": [
    {
     "data": {
      "text/plain": [
       "{'apple': 320, 'banana': 120, 'orange': 100, 'dragon fruit': 400}"
      ]
     },
     "execution_count": 70,
     "metadata": {},
     "output_type": "execute_result"
    }
   ],
   "source": [
    "fruits_dict"
   ]
  },
  {
   "cell_type": "code",
   "execution_count": 71,
   "id": "5dd23de7",
   "metadata": {},
   "outputs": [],
   "source": [
    "fruits_dict.update({\"orange\": 90})"
   ]
  },
  {
   "cell_type": "code",
   "execution_count": 72,
   "id": "bf5ab13d",
   "metadata": {},
   "outputs": [
    {
     "data": {
      "text/plain": [
       "{'apple': 320, 'banana': 120, 'orange': 90, 'dragon fruit': 400}"
      ]
     },
     "execution_count": 72,
     "metadata": {},
     "output_type": "execute_result"
    }
   ],
   "source": [
    "fruits_dict"
   ]
  },
  {
   "cell_type": "markdown",
   "id": "7a110ae1",
   "metadata": {},
   "source": [
    "#### Question\n",
    "**The content_ratings dictionary is corrupt and needs to be fixed. The corrupt version of content_ratings is provided in the code editor.**\n",
    "<code>\n",
    "content_ratings = {'4+': 622, '12+': '1155', '9+': 987, '17+': 4433}\n",
    "</code>\n",
    "<ol>\n",
    "<li>Swap the values stored in the 4+ and 17+ keys.</li>\n",
    "<li>Assign the value stored in 4+ to a temporary variable called temp.</li>\n",
    "<li>Assign the value stored in 17+ to 4+.</li>\n",
    "<li>Assign the value stored in the temporary variable to 17+.</li>\n",
    "<li>Convert the value stored in 12+ into an integer.</li>\n",
    "<li>Print the content_ratings dictionary.</li>\n",
    "</ol>"
   ]
  },
  {
   "cell_type": "code",
   "execution_count": 74,
   "id": "14834928",
   "metadata": {},
   "outputs": [],
   "source": [
    "content_ratings = {\"4+\": 622, \"12+\": '1155', \"9+\": 987, \"17+\" : 4433}"
   ]
  },
  {
   "cell_type": "code",
   "execution_count": 75,
   "id": "e0d32045",
   "metadata": {},
   "outputs": [],
   "source": [
    "temp = content_ratings['4+']\n",
    "content_ratings['4+'] = content_ratings['17+']\n",
    "content_ratings['17+'] = temp\n",
    "content_ratings['12+'] = int(content_ratings['12+'])\n"
   ]
  },
  {
   "cell_type": "code",
   "execution_count": 76,
   "id": "426e48ed",
   "metadata": {},
   "outputs": [
    {
     "name": "stdout",
     "output_type": "stream",
     "text": [
      "{'4+': 4433, '12+': 1155, '9+': 987, '17+': 622}\n"
     ]
    }
   ],
   "source": [
    "print(content_ratings)"
   ]
  },
  {
   "cell_type": "markdown",
   "id": "10ce335a",
   "metadata": {},
   "source": [
    "#### Counting In A Dictionary\n",
    "<li>We can count the number of repetitions of a particular value in list by using a dictionary.</li>"
   ]
  },
  {
   "cell_type": "code",
   "execution_count": 77,
   "id": "71d26dc1",
   "metadata": {},
   "outputs": [],
   "source": [
    "list1 = [1,2,3,3,2,1,2,1,3,2,1,2,3]"
   ]
  },
  {
   "cell_type": "code",
   "execution_count": 86,
   "id": "8f668378",
   "metadata": {},
   "outputs": [],
   "source": [
    "dict1 = {1: 0, 2: 0, 3: 0}"
   ]
  },
  {
   "cell_type": "code",
   "execution_count": 87,
   "id": "e32cd1ba",
   "metadata": {},
   "outputs": [],
   "source": [
    "# for item in list1:\n",
    "#     if item == 1:\n",
    "#         dict1[\"1\"] += 1\n",
    "#     elif item == 2:\n",
    "#         dict1[\"2\"] += 1\n",
    "#     else:\n",
    "#         dict1[\"3\"] += 1"
   ]
  },
  {
   "cell_type": "code",
   "execution_count": 88,
   "id": "f196e506",
   "metadata": {},
   "outputs": [],
   "source": [
    "for item in list1:\n",
    "    if item in dict1:\n",
    "        dict1[item] += 1\n",
    "    "
   ]
  },
  {
   "cell_type": "code",
   "execution_count": 89,
   "id": "85ea96a8",
   "metadata": {},
   "outputs": [
    {
     "data": {
      "text/plain": [
       "{1: 4, 2: 5, 3: 4}"
      ]
     },
     "execution_count": 89,
     "metadata": {},
     "output_type": "execute_result"
    }
   ],
   "source": [
    "dict1"
   ]
  },
  {
   "cell_type": "markdown",
   "id": "4b37ab78",
   "metadata": {},
   "source": [
    "#### Question\n",
    "\n",
    "**From the given list, count the number of times each rating is repeated.(Frequency Table)**"
   ]
  },
  {
   "cell_type": "code",
   "execution_count": 93,
   "id": "20bfb5aa",
   "metadata": {},
   "outputs": [],
   "source": [
    "ratings = ['4+', '9+', '12+', '4+', '17+', '4+', '9+', '4+', '12+', '17+', '9+',\n",
    "           '4+', '12+', '9+', '12+', '4+', '17+', '4+', '12+', '12+', '17+',\n",
    "           '9+', '9+', '4+', '4+', '9+', '12+', '17+', '12+', '17+']"
   ]
  },
  {
   "cell_type": "code",
   "execution_count": 94,
   "id": "66de238f",
   "metadata": {},
   "outputs": [],
   "source": [
    "ratings_dict = {\"4+\": 0, \"9+\":0, \"12+\":0, \"17+\":0}"
   ]
  },
  {
   "cell_type": "code",
   "execution_count": 96,
   "id": "969fc853",
   "metadata": {},
   "outputs": [],
   "source": [
    "for rating in ratings:\n",
    "    if rating in ratings_dict:\n",
    "        ratings_dict[rating]+= 1"
   ]
  },
  {
   "cell_type": "code",
   "execution_count": 97,
   "id": "1174ab86",
   "metadata": {},
   "outputs": [
    {
     "data": {
      "text/plain": [
       "{'4+': 9, '9+': 7, '12+': 8, '17+': 6}"
      ]
     },
     "execution_count": 97,
     "metadata": {},
     "output_type": "execute_result"
    }
   ],
   "source": [
    "ratings_dict"
   ]
  },
  {
   "cell_type": "markdown",
   "id": "fcd14cdc",
   "metadata": {},
   "source": [
    "<li>We also call the number of times a unique value occurs a frequency. For this reason, we call tables like the one below frequency tables.</li>\n",
    "\n",
    "![](images/frequency_table.png)\n",
    "\n",
    "<li>4+ occurs 9 times, so it has a frequency of 9. 12+ has a frequency of 8. 9+ has a frequency of 7. 17+ has the lowest frequency: 6.</li>\n"
   ]
  },
  {
   "cell_type": "markdown",
   "id": "703b0ecb",
   "metadata": {},
   "source": [
    "#### Question:\n",
    "\n",
    "**From the given list, find out the frequency table for the following:**\n",
    "\n",
    "<ol>\n",
    "    <li>Frequency count table for gender.</li>\n",
    "    <li>Frequency count table for age.</li>\n",
    "    <li>Frequency count table for faculty.</li>\n",
    "    <li>Frequency count table for semester level.</li>\n",
    "</ol>"
   ]
  },
  {
   "cell_type": "code",
   "execution_count": 1,
   "id": "5fd4a91e",
   "metadata": {},
   "outputs": [],
   "source": [
    "student_1 = ['Ram', 'male',23, 'B.C.A', 'Seventh Semester', 78.2]\n",
    "student_2 = ['Shyam','male',21,'B.C.A', 'Fifth Semester',67.5]\n",
    "student_3 = ['Abhishek','male',22, 'B.Sc.Cs.It', 'Seventh Semester',82.4]\n",
    "student_4 = ['Mahima','female',20, 'B.Sc.Cs.It', 'Fifth Semester',87.3]\n",
    "student_5 = ['Sanjana','female',22, 'B.Sc.Cs.It', 'Seventh Semester',69.8]\n",
    "student_6 = ['Prabhat', 'male',23, 'B.Sc.Cs.It', 'Seventh Semester', 80.2]\n",
    "student_7 = ['Ashmita','female',21,'B.Sc.Cs.It', 'Fifth Semester',81.5]\n",
    "student_8 = ['Shanti','female',22, 'B.Sc.Cs.It', 'Fifth Semester',72.4]\n",
    "student_9 = ['Himal','male',20, 'B.C,A', 'Fifth Semester',78.3]\n",
    "student_10 = ['Rabina','female',22, 'B.I.M', 'Seventh Semester',75.8]\n",
    "student_11 = ['Kamal', 'male',23, 'B.I.M', 'Fifth Semester', 80.2]\n",
    "student_12= ['Bhawana','female',21,'B.I.M', 'Third Semester',81.5]\n",
    "student_13 = ['Sunil','male',22, 'B.I.M', 'Fourth Semester',72.4]\n",
    "student_14= ['Nirisha','female',20, 'B.I.M', 'Fourth Semester',78.3]\n",
    "student_15 = ['Sushmita','female',22, 'B.I.M', 'Third Semester',75.8]\n",
    "student_16 = ['Alisha', 'female',20, 'B.A.L.L.B', 'Second Semester', 70.2]\n",
    "student_17 = ['Dipen','male',23,'B.C.A', 'Fifth Semester',67.5]\n",
    "student_18 = ['Purnima','female',23, 'B.A.L.L.B', 'Seventh Semester',81.4]\n",
    "student_19 = ['Aastha','female',24, 'B.Sc.Cs.It', 'Fifth Semester',83.3]\n",
    "student_20 = ['Pramila','female',24, 'B.Sc.Cs.It', 'Seventh Semester',79.8]\n",
    "student_21 = ['Pawan', 'male',24, 'B.Sc.Cs.It', 'Third Semester', 70.2]\n",
    "student_22 = ['Prakriti','female',22,'B.A.L.L.B', 'Fifth Semester',69.5]\n",
    "student_23 = ['Nabina','female',23, 'B.Sc.Cs.It', 'Second Semester',77.4]\n",
    "student_24 = ['Siddhant','male',23, 'B.C,A', 'Fifth Semester',78.3]\n",
    "student_25 = ['Goma','female',25, 'B.A.L.L.B', 'Seventh Semester',72.8]\n",
    "student_26 = ['Rijan', 'male',23, 'B.I.M', 'Fifth Semester', 81.2]\n",
    "student_27 = ['Rihans','male',21,'B.C.A', 'Third Semester',86.5]\n",
    "student_28 = ['Kabya','female',22, 'B.I.M', 'Second Semester',78.4]\n",
    "student_29 = ['Abhi','male',20, 'B.I.M', 'Fourth Semester',71.3]\n",
    "student_30 = ['Seema','female',25, 'B.I.M', 'Fifth Semester',69.8]\n",
    "\n",
    "student_datasets = [student_1, student_2, student_3, student_4, student_5,\n",
    "                    student_6, student_7, student_8, student_9, student_10,\n",
    "                   student_11, student_12, student_13, student_14,student_15,\n",
    "                   student_16, student_17, student_18, student_19, student_20,\n",
    "                    student_21, student_22, student_23, student_24, student_25,\n",
    "                   student_26, student_27, student_28, student_29, student_30]\n",
    "\n"
   ]
  },
  {
   "cell_type": "code",
   "execution_count": 3,
   "id": "872f459a",
   "metadata": {},
   "outputs": [
    {
     "name": "stdout",
     "output_type": "stream",
     "text": [
      "23\n",
      "21\n",
      "22\n",
      "20\n",
      "22\n",
      "23\n",
      "21\n",
      "22\n",
      "20\n",
      "22\n",
      "23\n",
      "21\n",
      "22\n",
      "20\n",
      "22\n",
      "20\n",
      "23\n",
      "23\n",
      "24\n",
      "24\n",
      "24\n",
      "22\n",
      "23\n",
      "23\n",
      "25\n",
      "23\n",
      "21\n",
      "22\n",
      "20\n",
      "25\n"
     ]
    }
   ],
   "source": [
    "student_dict = {}\n",
    "for student in student_datasets:\n",
    "    age = student[2]\n",
    "    if age not in student_dict:\n",
    "        student_dict[age] = 1\n",
    "    else:\n",
    "        student_dict[age] += 1\n"
   ]
  },
  {
   "cell_type": "code",
   "execution_count": 102,
   "id": "7e58a542",
   "metadata": {},
   "outputs": [
    {
     "name": "stdout",
     "output_type": "stream",
     "text": [
      "{23: 8, 21: 4, 22: 8, 20: 5, 24: 3, 25: 2}\n"
     ]
    }
   ],
   "source": [
    "print(student_dict)"
   ]
  },
  {
   "cell_type": "code",
   "execution_count": null,
   "id": "6ce7ef39",
   "metadata": {},
   "outputs": [],
   "source": []
  }
 ],
 "metadata": {
  "kernelspec": {
   "display_name": "Python 3 (ipykernel)",
   "language": "python",
   "name": "python3"
  },
  "language_info": {
   "codemirror_mode": {
    "name": "ipython",
    "version": 3
   },
   "file_extension": ".py",
   "mimetype": "text/x-python",
   "name": "python",
   "nbconvert_exporter": "python",
   "pygments_lexer": "ipython3",
   "version": "3.8.0"
  }
 },
 "nbformat": 4,
 "nbformat_minor": 5
}
