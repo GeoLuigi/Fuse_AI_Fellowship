{
 "cells": [
  {
   "cell_type": "markdown",
   "id": "bb7fca7e",
   "metadata": {},
   "source": [
    "#### Functions\n",
    "\n",
    "<li>A function is a block of code which only runs when it is called.</li>\n",
    "<li>You can also pass data, known as parameters, into a function.</li>\n",
    "<li>Generally, a function displays the following pattern:</li>\n",
    "<ol>\n",
    "    <li>It takes in an input.</li>\n",
    "    <li>It processes that input.</li>\n",
    "    <li>It returns output.</li>\n",
    "</ol>\n"
   ]
  },
  {
   "cell_type": "markdown",
   "id": "4f62cfc4",
   "metadata": {},
   "source": [
    "#### Types Of Functions:\n",
    "<ol>\n",
    "    <li>Builtin Functions:</li>\n",
    "    <ul>\n",
    "        <li>The Python built-in functions are defined as the functions whose functionality is pre-defined in Python.</li>\n",
    "         <li>The python interpreter has several functions that are always present for use. These functions are known as <b>Built-in Functions</b>.</li>\n",
    "        <li>There are several built-in functions in Python which are listed below:</li>\n",
    "        <ol>\n",
    "            <li>len()</li>\n",
    "            <li>int()</li>\n",
    "            <li>type()</li>\n",
    "            <li>float()</li>\n",
    "            <li>sum()</li>\n",
    "            <li>min()</li>\n",
    "            <li>max()</li>\n",
    "            <li>abs()</li>\n",
    "            <li>list()</li>\n",
    "            <li>set()</li>\n",
    "            <li>tuple()</li>\n",
    "            <li>float()</li>\n",
    "            <li>str()</li>\n",
    "            <li>sorted()</li>\n",
    "            <li>round()</li>\n",
    "            <li>reverse()</li>\n",
    "        </ol>\n",
    "    </ul>\n",
    "<li>User Defined Functions:\n",
    "    <ul>\n",
    "        <li>User Defined Functions is a function in Python that allows users to write custom logic that the user defines.</li>\n",
    "        <li>In Python, def keyword is used to declare user defined functions.</li>\n",
    "    </ul>\n",
    "</li>\n",
    "</ol>\n",
    "\n",
    " \n"
   ]
  },
  {
   "cell_type": "code",
   "execution_count": 1,
   "id": "70296f86",
   "metadata": {},
   "outputs": [
    {
     "name": "stdout",
     "output_type": "stream",
     "text": [
      "<class 'dict'>\n"
     ]
    }
   ],
   "source": [
    "a = {\"name\": \"bijay\", \"semester\": \"Seven\"}\n",
    "print(type(a))"
   ]
  },
  {
   "cell_type": "code",
   "execution_count": 3,
   "id": "11a0111b",
   "metadata": {},
   "outputs": [
    {
     "name": "stdout",
     "output_type": "stream",
     "text": [
      "5\n"
     ]
    }
   ],
   "source": [
    "b = [1,2,3,4,5]\n",
    "print(max(b))"
   ]
  },
  {
   "cell_type": "code",
   "execution_count": 5,
   "id": "e179e88d",
   "metadata": {},
   "outputs": [
    {
     "data": {
      "text/plain": [
       "[1, 2, 3, 5, 6, 9]"
      ]
     },
     "execution_count": 5,
     "metadata": {},
     "output_type": "execute_result"
    }
   ],
   "source": [
    "c = [5,3,6,2,9,1]\n",
    "sorted(c)"
   ]
  },
  {
   "cell_type": "code",
   "execution_count": 4,
   "id": "4cce361e",
   "metadata": {},
   "outputs": [
    {
     "data": {
      "text/plain": [
       "5"
      ]
     },
     "execution_count": 4,
     "metadata": {},
     "output_type": "execute_result"
    }
   ],
   "source": [
    "abs(-5)"
   ]
  },
  {
   "cell_type": "markdown",
   "id": "f2f9ad8e",
   "metadata": {},
   "source": [
    "#### Built-In Functions(Questions)\n",
    "\n",
    "**Compute the sum of a_list (already defined in the code editor) without using sum().**\n",
    "\n",
    "<li>Initialize a variable named sum_manual with a value of 0.</li>\n",
    "<li>Loop through a_list, and for each iteration add the current number to sum_manual.</li>\n",
    "<li>Print sum_manual and sum(a_list) to see if the values are the same.</li>\n",
    "<li>Calculate the length of the list and store in a variable len_list and display its length.</li>"
   ]
  },
  {
   "cell_type": "code",
   "execution_count": 7,
   "id": "5466580b",
   "metadata": {},
   "outputs": [],
   "source": [
    "a_list = [4444, 8897, 6340, 9896, 4835, 4324, 10, 6445,\n",
    "          661, 1246, 1000, 7429, 1376, 8121, 647, 1280,\n",
    "          3993, 4881, 9500, 6701, 1199, 6251, 4432, 37]"
   ]
  },
  {
   "cell_type": "code",
   "execution_count": 8,
   "id": "b0756df9",
   "metadata": {},
   "outputs": [],
   "source": [
    "sum_manual = 0\n",
    "for item in a_list:\n",
    "    sum_manual += item\n"
   ]
  },
  {
   "cell_type": "code",
   "execution_count": 9,
   "id": "a3680762",
   "metadata": {},
   "outputs": [
    {
     "name": "stdout",
     "output_type": "stream",
     "text": [
      "103945\n",
      "103945\n"
     ]
    }
   ],
   "source": [
    "print(sum_manual)\n",
    "print(sum(a_list))"
   ]
  },
  {
   "cell_type": "markdown",
   "id": "09f5ee96",
   "metadata": {},
   "source": [
    "#### User Defined Function\n",
    "\n",
    "![](images/func_structure.png)"
   ]
  },
  {
   "cell_type": "markdown",
   "id": "41b1a857",
   "metadata": {},
   "source": [
    "<li>We commonly call input variables like a_number parameters. So, <b>a_number</b> is a <b>parameter</b> of the square() function.</li>\n",
    "<li>When the parameter <b>a_number</b> takes a value (like 6 in <b>square(a_number=6)</b>), we call that value an <b>argument.</b></li>"
   ]
  },
  {
   "cell_type": "markdown",
   "id": "c666dbb8",
   "metadata": {},
   "source": [
    "#### UserDefined (Function With No Return Type)\n",
    "\n",
    "<li>A function can return any value based on computations performed inside a function or it doesnot return any value.If a function doesnot return any value then such kind of function is known as function with no return type.</li>\n",
    "\n",
    "\n",
    "<code>\n",
    "    def func_name():\n",
    "        statement//\n",
    "</code>"
   ]
  },
  {
   "cell_type": "code",
   "execution_count": 10,
   "id": "702c838b",
   "metadata": {},
   "outputs": [],
   "source": [
    "def display_name():\n",
    "    print(\"My name is Prabhat Ale\")"
   ]
  },
  {
   "cell_type": "code",
   "execution_count": 11,
   "id": "9d689e45",
   "metadata": {},
   "outputs": [
    {
     "name": "stdout",
     "output_type": "stream",
     "text": [
      "My name is Prabhat Ale\n"
     ]
    }
   ],
   "source": [
    "display_name()"
   ]
  },
  {
   "cell_type": "markdown",
   "id": "3ea053b9",
   "metadata": {},
   "source": [
    "#### Parameterized Function\n",
    "\n",
    "<li>The function may take arguments(s) also called parameters as input within the opening and closing parentheses, just after the function name followed by a colon.</li>\n",
    "\n",
    "<code>\n",
    "    def func_name(arg1, arg2):\n",
    "        statement//\n",
    "        .\n",
    "        .\n",
    "        return val\n",
    "</code>    \n"
   ]
  },
  {
   "cell_type": "code",
   "execution_count": 12,
   "id": "3c67a358",
   "metadata": {},
   "outputs": [],
   "source": [
    "def square_num(num):\n",
    "    result = num * num\n",
    "    return result"
   ]
  },
  {
   "cell_type": "code",
   "execution_count": 13,
   "id": "47f30ef2",
   "metadata": {},
   "outputs": [
    {
     "name": "stdout",
     "output_type": "stream",
     "text": [
      "25\n"
     ]
    }
   ],
   "source": [
    "square_result = square_num(5)\n",
    "print(square_result)"
   ]
  },
  {
   "cell_type": "markdown",
   "id": "809db602",
   "metadata": {},
   "source": [
    "#### Function With Default Argument\n",
    "\n",
    "<li>A default argument is a parameter that assumes a default value if a value is not provided in the function call for that argument.</li>"
   ]
  },
  {
   "cell_type": "code",
   "execution_count": 14,
   "id": "f06f6691",
   "metadata": {},
   "outputs": [],
   "source": [
    "def square_num(num = 7):\n",
    "    result = num* num\n",
    "    return result"
   ]
  },
  {
   "cell_type": "code",
   "execution_count": 15,
   "id": "605317bb",
   "metadata": {},
   "outputs": [
    {
     "name": "stdout",
     "output_type": "stream",
     "text": [
      "49\n"
     ]
    }
   ],
   "source": [
    "square_result2 = square_num()\n",
    "print(square_result2)"
   ]
  },
  {
   "cell_type": "code",
   "execution_count": 16,
   "id": "a034036d",
   "metadata": {},
   "outputs": [],
   "source": [
    "def multiplication(num1, num2 = 5):\n",
    "    product = num1 * num2\n",
    "    return product"
   ]
  },
  {
   "cell_type": "code",
   "execution_count": 17,
   "id": "baeb2f11",
   "metadata": {},
   "outputs": [
    {
     "name": "stdout",
     "output_type": "stream",
     "text": [
      "20\n"
     ]
    }
   ],
   "source": [
    "product = multiplication(4)\n",
    "print(product)"
   ]
  },
  {
   "cell_type": "markdown",
   "id": "ee69086b",
   "metadata": {},
   "source": [
    "#### Question\n",
    "\n",
    "<li>Recreate the cube() function above and compute the cube for numbers 5 and  6.</li>\n",
    "<li>Assign the cube of 5 to a variable named cube_5.</li>\n",
    "<li>Assign the cube of 6 to a variable named cube_6.</li>"
   ]
  },
  {
   "cell_type": "code",
   "execution_count": 20,
   "id": "54c0b122",
   "metadata": {},
   "outputs": [],
   "source": [
    "def cube(num):\n",
    "    cube_value = num ** 3\n",
    "    return cube_value\n",
    "    "
   ]
  },
  {
   "cell_type": "code",
   "execution_count": 21,
   "id": "8835bf31",
   "metadata": {},
   "outputs": [
    {
     "name": "stdout",
     "output_type": "stream",
     "text": [
      "125\n",
      "216\n"
     ]
    }
   ],
   "source": [
    "cube_5 = cube(5)\n",
    "cube_6 = cube(6)\n",
    "print(cube_5)\n",
    "print(cube_6)"
   ]
  },
  {
   "cell_type": "markdown",
   "id": "a2c20244",
   "metadata": {},
   "source": [
    "#### Question\n",
    "\n",
    "**Create a function named mul_5() that does the following:**\n",
    "<ol>\n",
    "    <li>Takes a number as the input (name the input variable as you wish)</li>\n",
    "    <li>Multiply the integer 5 to that number.</li>\n",
    "    <li>Returns the result of the multiplication.</li>\n",
    "<ol>\n",
    "\n",
    "<li>Use the mul_5() function to do the following:</li>\n",
    "<ol>\n",
    "    <li>Multiply by 5 to the number 20 — assign the result to a variable named mul_20</li>\n",
    "    <li>Multiply by 5 to the number 16 — assign the result to a variable named mul_16</li>\n",
    "</ol>\n",
    "    "
   ]
  },
  {
   "cell_type": "code",
   "execution_count": 23,
   "id": "76068063",
   "metadata": {},
   "outputs": [],
   "source": [
    "def num_input(number):\n",
    "    return number*5\n"
   ]
  },
  {
   "cell_type": "code",
   "execution_count": 24,
   "id": "e9fdac4a",
   "metadata": {},
   "outputs": [],
   "source": [
    "mul_20=num_input(20)\n",
    "mul_16=num_input(16)\n",
    "\n"
   ]
  },
  {
   "cell_type": "code",
   "execution_count": 25,
   "id": "4212246e",
   "metadata": {},
   "outputs": [
    {
     "name": "stdout",
     "output_type": "stream",
     "text": [
      "100\n",
      "80\n"
     ]
    }
   ],
   "source": [
    "print(mul_20)\n",
    "print(mul_16)"
   ]
  },
  {
   "cell_type": "markdown",
   "id": "887044b0",
   "metadata": {},
   "source": [
    "#### Keyword arguments\n",
    "<li>The idea is to allow programmer to specify argument name with values so that caller does not need to remember order of parameters.</li>"
   ]
  },
  {
   "cell_type": "code",
   "execution_count": 26,
   "id": "d6843d4e",
   "metadata": {},
   "outputs": [],
   "source": [
    "def subtraction(num1, num2):\n",
    "    return num1 - num2"
   ]
  },
  {
   "cell_type": "code",
   "execution_count": 27,
   "id": "54e4d275",
   "metadata": {},
   "outputs": [
    {
     "name": "stdout",
     "output_type": "stream",
     "text": [
      "10\n"
     ]
    }
   ],
   "source": [
    "subtraction1 = subtraction(num1 = 15, num2 = 5)\n",
    "print(subtraction1)"
   ]
  },
  {
   "cell_type": "code",
   "execution_count": 28,
   "id": "47de3510",
   "metadata": {},
   "outputs": [],
   "source": [
    "def displayname(l_name, f_name):\n",
    "    print(\"My name is {} {}\".format(f_name, l_name))"
   ]
  },
  {
   "cell_type": "code",
   "execution_count": 30,
   "id": "453f77c3",
   "metadata": {},
   "outputs": [
    {
     "name": "stdout",
     "output_type": "stream",
     "text": [
      "My name is prabhat ale\n"
     ]
    }
   ],
   "source": [
    "displayname(f_name = 'prabhat',l_name = 'ale')"
   ]
  },
  {
   "cell_type": "markdown",
   "id": "947d0ec4",
   "metadata": {},
   "source": [
    "#### Variable length arguments\n",
    "\n",
    "<li>We can have both normal and keyword variable number of arguments. </li>\n",
    " \n",
    "<li>The special syntax *args in function definitions in Python is used to pass a variable number of arguments to a function.</li>\n",
    "<li>It is used to pass a non-keyworded, variable-length argument list.</li>\n",
    " \n",
    "<li>The special syntax **kwargs in function definitions in python is used to pass a keyworded, variable-length argument list.</li>\n",
    "<li>We use the name kwargs with the double star. The reason is because the double star allows us to pass through keyword arguments (any number of them).</li>"
   ]
  },
  {
   "cell_type": "code",
   "execution_count": 35,
   "id": "d05b09a8",
   "metadata": {},
   "outputs": [],
   "source": [
    "def non_key_argument(*args):\n",
    "    for item in args:\n",
    "        print(item)"
   ]
  },
  {
   "cell_type": "code",
   "execution_count": 36,
   "id": "3bf63b85",
   "metadata": {},
   "outputs": [
    {
     "name": "stdout",
     "output_type": "stream",
     "text": [
      "1\n",
      "2\n",
      "3\n",
      "4\n",
      "5\n",
      "6\n"
     ]
    }
   ],
   "source": [
    "non_key_argument(1,2,3,4,5,6)"
   ]
  },
  {
   "cell_type": "code",
   "execution_count": 45,
   "id": "d95c276f",
   "metadata": {},
   "outputs": [],
   "source": [
    "def keyword_argument(**kwargs):\n",
    "    for key, val in kwargs.items():\n",
    "        print(\"The key is {} and the value is {}\".format(key, val))"
   ]
  },
  {
   "cell_type": "code",
   "execution_count": 47,
   "id": "576de974",
   "metadata": {},
   "outputs": [
    {
     "name": "stdout",
     "output_type": "stream",
     "text": [
      "The key is f_name and the value is Sher\n",
      "The key is m_name and the value is Bahadur\n",
      "The key is l_name and the value is Thapa\n"
     ]
    }
   ],
   "source": [
    "keyword_argument(f_name = \"Sher\", m_name = \"Bahadur\",l_name = \"Thapa\")"
   ]
  },
  {
   "cell_type": "markdown",
   "id": "b39fc0b7",
   "metadata": {},
   "source": [
    "#### Call By Reference Or Call By Value\n",
    "\n",
    "<li>In Python, every variable name is a reference. When we pass a variable to a function, a new reference to the object is created.</li>\n",
    "<li>To confirm this Python’s built-in id() function is used.</li>\n"
   ]
  },
  {
   "cell_type": "code",
   "execution_count": null,
   "id": "a4e33de1",
   "metadata": {},
   "outputs": [],
   "source": []
  },
  {
   "cell_type": "code",
   "execution_count": 48,
   "id": "f6bb5fe0",
   "metadata": {},
   "outputs": [],
   "source": [
    "a = 2"
   ]
  },
  {
   "cell_type": "code",
   "execution_count": 51,
   "id": "67640ef6",
   "metadata": {},
   "outputs": [],
   "source": [
    "def increment(a):\n",
    "    print(id(a))\n",
    "    a+= 1\n",
    "    print(id(a))"
   ]
  },
  {
   "cell_type": "code",
   "execution_count": 53,
   "id": "e4cf7b93",
   "metadata": {},
   "outputs": [
    {
     "name": "stdout",
     "output_type": "stream",
     "text": [
      "140718537496336\n",
      "140718537496368\n"
     ]
    }
   ],
   "source": [
    "increment(a)"
   ]
  },
  {
   "cell_type": "code",
   "execution_count": 54,
   "id": "88e2e83f",
   "metadata": {},
   "outputs": [
    {
     "data": {
      "text/plain": [
       "2"
      ]
     },
     "execution_count": 54,
     "metadata": {},
     "output_type": "execute_result"
    }
   ],
   "source": [
    "a"
   ]
  },
  {
   "cell_type": "code",
   "execution_count": 66,
   "id": "6cce2d7f",
   "metadata": {},
   "outputs": [],
   "source": [
    "list1 = [1,2,3,4]"
   ]
  },
  {
   "cell_type": "code",
   "execution_count": 67,
   "id": "ad6a7d6e",
   "metadata": {},
   "outputs": [],
   "source": [
    "def empty_list(list1):\n",
    "    print(id(list1))\n",
    "    list1 = []\n",
    "    print(id(list1))"
   ]
  },
  {
   "cell_type": "code",
   "execution_count": 68,
   "id": "79ad037a",
   "metadata": {},
   "outputs": [
    {
     "name": "stdout",
     "output_type": "stream",
     "text": [
      "2208067324096\n",
      "2208067268544\n"
     ]
    }
   ],
   "source": [
    "empty_list(list1)"
   ]
  },
  {
   "cell_type": "code",
   "execution_count": 69,
   "id": "f28f9e89",
   "metadata": {},
   "outputs": [
    {
     "data": {
      "text/plain": [
       "[1, 2, 3, 4]"
      ]
     },
     "execution_count": 69,
     "metadata": {},
     "output_type": "execute_result"
    }
   ],
   "source": [
    "list1"
   ]
  },
  {
   "cell_type": "code",
   "execution_count": 70,
   "id": "6554d880",
   "metadata": {},
   "outputs": [],
   "source": [
    "def append_list(list1):\n",
    "    print(id(list1))\n",
    "    list1.append(5)\n",
    "    print(id(list1))"
   ]
  },
  {
   "cell_type": "code",
   "execution_count": 71,
   "id": "bf36b6e6",
   "metadata": {},
   "outputs": [
    {
     "name": "stdout",
     "output_type": "stream",
     "text": [
      "2208067324096\n",
      "2208067324096\n"
     ]
    }
   ],
   "source": [
    "append_list(list1)"
   ]
  },
  {
   "cell_type": "code",
   "execution_count": 64,
   "id": "d99f52c3",
   "metadata": {},
   "outputs": [
    {
     "data": {
      "text/plain": [
       "[1, 2, 3, 4, 5]"
      ]
     },
     "execution_count": 64,
     "metadata": {},
     "output_type": "execute_result"
    }
   ],
   "source": [
    "list1"
   ]
  },
  {
   "cell_type": "markdown",
   "id": "0301d4de",
   "metadata": {},
   "source": [
    "#### Question:\n",
    "\n",
    "**We provided a function called date() in the code editor. This function currently takes inputs month and day and returns them together in a string. We want the date() function to return the year as well as the month and day.**\n",
    "\n",
    "<li>Modify the date() function to add a year parameter:</li>\n",
    "<ol>\n",
    "    <li>Edit the string so that it displays the date in the format month day, year.</li>\n",
    "    <li>Convert both the year and day variables to strings using the str() function.</li>\n",
    "<li>Call and print the date() function and pass the appropriate arguments to produce the following outputs:</li>\n",
    "    <ol>\n",
    "    <li>July 15, 2006</li>\n",
    "    <li>February 4, 2004</li>\n",
    "    <li>June 9, 1949</li>\n",
    "    </ol>\n",
    "</ol>"
   ]
  },
  {
   "cell_type": "code",
   "execution_count": 72,
   "id": "79d8e6ca",
   "metadata": {},
   "outputs": [],
   "source": [
    "def date(month, day):\n",
    "    return month + \" \" + str(day)"
   ]
  },
  {
   "cell_type": "code",
   "execution_count": 73,
   "id": "02ad655b",
   "metadata": {},
   "outputs": [
    {
     "data": {
      "text/plain": [
       "'December 13'"
      ]
     },
     "execution_count": 73,
     "metadata": {},
     "output_type": "execute_result"
    }
   ],
   "source": [
    "date(month = \"December\", day = 13)"
   ]
  },
  {
   "cell_type": "code",
   "execution_count": 77,
   "id": "77dc5df1",
   "metadata": {},
   "outputs": [],
   "source": [
    "def date_with_year(year, month, day):\n",
    "    return month + \" \" + str(day) + \",\" + str(year)"
   ]
  },
  {
   "cell_type": "code",
   "execution_count": 78,
   "id": "5d8a2b80",
   "metadata": {},
   "outputs": [],
   "source": [
    "first_date = date_with_year(2006, \"July\", 15)\n",
    "second_date = date_with_year(2004, \"February\", 4)\n",
    "third_date = date_with_year(1949, \"June\", 9)"
   ]
  },
  {
   "cell_type": "code",
   "execution_count": 79,
   "id": "1cdb6d5e",
   "metadata": {},
   "outputs": [
    {
     "name": "stdout",
     "output_type": "stream",
     "text": [
      "July 15,2006\n",
      "February 4,2004\n",
      "June 9,1949\n"
     ]
    }
   ],
   "source": [
    "print(first_date)\n",
    "print(second_date)\n",
    "print(third_date)\n"
   ]
  },
  {
   "cell_type": "code",
   "execution_count": null,
   "id": "4f3fec57",
   "metadata": {},
   "outputs": [],
   "source": []
  },
  {
   "cell_type": "code",
   "execution_count": 2,
   "id": "a62383cc",
   "metadata": {},
   "outputs": [],
   "source": [
    "header = ['Name', 'Gender', 'Age', 'Faculty', 'Semester', 'Percentage Score']\n",
    "student_1 = ['Ram', 'male',23, 'B.C.A', 'Seventh Semester', 78.2]\n",
    "student_2 = ['Shyam','male',21,'B.C.A', 'Fifth Semester',67.5]\n",
    "student_3 = ['Abhishek','male',22, 'B.Sc.Cs.It', 'Seventh Semester',82.4]\n",
    "student_4 = ['Mahima','female',20, 'B.Sc.Cs.It', 'Fifth Semester',87.3]\n",
    "student_5 = ['Sanjana','female',22, 'B.Sc.Cs.It', 'Seventh Semester',69.8]\n",
    "student_6 = ['Prabhat', 'male',23, 'B.Sc.Cs.It', 'Seventh Semester', 80.2]\n",
    "student_7 = ['Ashmita','female',21,'B.Sc.Cs.It', 'Fifth Semester',81.5]\n",
    "student_8 = ['Shanti','female',22, 'B.Sc.Cs.It', 'Fifth Semester',72.4]\n",
    "student_9 = ['Himal','male',20, 'B.C.A', 'Fifth Semester',78.3]\n",
    "student_10 = ['Rabina','female',22, 'B.I.M', 'Seventh Semester',75.8]\n",
    "student_11 = ['Kamal', 'male',23, 'B.I.M', 'Fifth Semester', 80.2]\n",
    "student_12= ['Bhawana','female',21,'B.I.M', 'Third Semester',81.5]\n",
    "student_13 = ['Sunil','male',22, 'B.I.M', 'Fourth Semester',72.4]\n",
    "student_14= ['Nirisha','female',20, 'B.I.M', 'Fourth Semester',78.3]\n",
    "student_15 = ['Sushmita','female',22, 'B.I.M', 'Third Semester',75.8]\n",
    "student_16 = ['Alisha', 'female',20, 'B.A.L.L.B', 'Second Semester', 70.2]\n",
    "student_17 = ['Dipen','male',23,'B.C.A', 'Fifth Semester',67.5]\n",
    "student_18 = ['Purnima','female',23, 'B.A.L.L.B', 'Seventh Semester',81.4]\n",
    "student_19 = ['Aastha','female',24, 'B.Sc.Cs.It', 'Fifth Semester',83.3]\n",
    "student_20 = ['Pramila','female',24, 'B.Sc.Cs.It', 'Seventh Semester',79.8]\n",
    "student_21 = ['Pawan', 'male',24, 'B.Sc.Cs.It', 'Third Semester', 70.2]\n",
    "student_22 = ['Prakriti','female',22,'B.A.L.L.B', 'Fifth Semester',69.5]\n",
    "student_23 = ['Nabina','female',23, 'B.Sc.Cs.It', 'Second Semester',77.4]\n",
    "student_24 = ['Siddhant','male',23, 'B.C.A', 'Fifth Semester',78.3]\n",
    "student_25 = ['Goma','female',25, 'B.A.L.L.B', 'Seventh Semester',72.8]\n",
    "student_26 = ['Rijan', 'male',23, 'B.I.M', 'Fifth Semester', 81.2]\n",
    "student_27 = ['Rihans','male',21,'B.C.A', 'Third Semester',86.5]\n",
    "student_28 = ['Kabya','female',22, 'B.I.M', 'Second Semester',78.4]\n",
    "student_29 = ['Abhi','male',20, 'B.I.M', 'Fourth Semester',71.3]\n",
    "student_30 = ['Seema','female',25, 'B.I.M', 'Fifth Semester',69.8]\n",
    "\n",
    "student_datasets = [header, student_1, student_2, student_3, student_4, student_5,\n",
    "                    student_6, student_7, student_8, student_9, student_10,\n",
    "                   student_11, student_12, student_13, student_14,student_15,\n",
    "                   student_16, student_17, student_18, student_19, student_20,\n",
    "                    student_21, student_22, student_23, student_24, student_25,\n",
    "                   student_26, student_27, student_28, student_29, student_30]\n",
    "\n"
   ]
  },
  {
   "cell_type": "markdown",
   "id": "0bf867f7",
   "metadata": {},
   "source": [
    "#### Question: Write a function named extract() that can extract any column you want from the student_datasets.\n",
    "<ol>\n",
    "<li>The function should take in the index number of a column as input (name the parameter whatever you want)</li>\n",
    "<li>Inside the function's definition, complete the following:</li>\n",
    "<ol>\n",
    "    <li>Create an empty list</li>\n",
    "    <li>Loop through the student_datasets dataset (excluding the header).</li>\n",
    "    <li>Extract only the value you want by using the parameter (which will be an index number)</li>\n",
    "    <li>Append that value to the empty list</li>\n",
    "    <li>Return the list containing the values of the column</li>\n",
    "</ol>\n",
    "<li>Use the extract() function to extract the values in the Faculty column and store them in a variable named faculties.</li>\n",
    "<li>Use the extract() function to extract the values in the Semester column and store them in a variable named semesters.</li>\n",
    "</ol>"
   ]
  },
  {
   "cell_type": "code",
   "execution_count": 3,
   "id": "9d240d4a",
   "metadata": {},
   "outputs": [
    {
     "data": {
      "text/plain": [
       "['Ram', 'male', 23, 'B.C.A', 'Seventh Semester', 78.2]"
      ]
     },
     "execution_count": 3,
     "metadata": {},
     "output_type": "execute_result"
    }
   ],
   "source": [
    "student_datasets[1]"
   ]
  },
  {
   "cell_type": "code",
   "execution_count": 91,
   "id": "d039a434",
   "metadata": {},
   "outputs": [],
   "source": [
    "def extract(index_num):\n",
    "    \n",
    "    empty_list = []\n",
    "    for item in student_datasets[1:]:\n",
    "        empty_list.append(item[index_num])\n",
    "    return empty_list    "
   ]
  },
  {
   "cell_type": "code",
   "execution_count": 92,
   "id": "fc2bda7d",
   "metadata": {},
   "outputs": [
    {
     "name": "stdout",
     "output_type": "stream",
     "text": [
      "['B.C.A', 'B.C.A', 'B.Sc.Cs.It', 'B.Sc.Cs.It', 'B.Sc.Cs.It', 'B.Sc.Cs.It', 'B.Sc.Cs.It', 'B.Sc.Cs.It', 'B.C.A', 'B.I.M', 'B.I.M', 'B.I.M', 'B.I.M', 'B.I.M', 'B.I.M', 'B.A.L.L.B', 'B.C.A', 'B.A.L.L.B', 'B.Sc.Cs.It', 'B.Sc.Cs.It', 'B.Sc.Cs.It', 'B.A.L.L.B', 'B.Sc.Cs.It', 'B.C.A', 'B.A.L.L.B', 'B.I.M', 'B.C.A', 'B.I.M', 'B.I.M', 'B.I.M']\n"
     ]
    }
   ],
   "source": [
    "faculty_data = extract(3)\n",
    "print(faculty_data)"
   ]
  },
  {
   "cell_type": "code",
   "execution_count": 93,
   "id": "e3825d0f",
   "metadata": {},
   "outputs": [
    {
     "name": "stdout",
     "output_type": "stream",
     "text": [
      "['Seventh Semester', 'Fifth Semester', 'Seventh Semester', 'Fifth Semester', 'Seventh Semester', 'Seventh Semester', 'Fifth Semester', 'Fifth Semester', 'Fifth Semester', 'Seventh Semester', 'Fifth Semester', 'Third Semester', 'Fourth Semester', 'Fourth Semester', 'Third Semester', 'Second Semester', 'Fifth Semester', 'Seventh Semester', 'Fifth Semester', 'Seventh Semester', 'Third Semester', 'Fifth Semester', 'Second Semester', 'Fifth Semester', 'Seventh Semester', 'Fifth Semester', 'Third Semester', 'Second Semester', 'Fourth Semester', 'Fifth Semester']\n"
     ]
    }
   ],
   "source": [
    "semester_data = extract(4)\n",
    "print(semester_data)"
   ]
  },
  {
   "cell_type": "markdown",
   "id": "09f44d0c",
   "metadata": {},
   "source": [
    "#### Question: Write a function named freq_table() that generates a frequency table for any list.\n",
    "\n",
    "<li>The function should take in a list as input.</li>\n",
    "<li>Inside the function's body, write code that generates a frequency table for that list and stores the table in a dictionary.</li>\n",
    "<li>Finally, return the frequency table as a dictionary.</li>\n",
    "<li>Use the freq_table() function on the faculties list (already defined from the previous exercise) to generate the frequency table for the faculites column and store the frequency table to a variable named faculties_ft.</li>\n",
    "<li>Feel free to experiment with the extract() and freq_table() functions to easily create frequency tables for any column you want.</li>"
   ]
  },
  {
   "cell_type": "code",
   "execution_count": 94,
   "id": "af7c43a4",
   "metadata": {},
   "outputs": [],
   "source": [
    "def freq_table(input_list):\n",
    "    freq_dict = {}\n",
    "    for item in input_list:\n",
    "        if item not in freq_dict:\n",
    "            freq_dict[item] = 1\n",
    "        else:\n",
    "            freq_dict[item] += 1\n",
    "    return freq_dict"
   ]
  },
  {
   "cell_type": "code",
   "execution_count": 95,
   "id": "172ad3fa",
   "metadata": {},
   "outputs": [
    {
     "name": "stdout",
     "output_type": "stream",
     "text": [
      "{'B.C.A': 6, 'B.Sc.Cs.It': 10, 'B.I.M': 10, 'B.A.L.L.B': 4}\n"
     ]
    }
   ],
   "source": [
    "faculties_ft = freq_table(input_list = faculty_data)\n",
    "print(faculties_ft)"
   ]
  },
  {
   "cell_type": "code",
   "execution_count": 96,
   "id": "4421555b",
   "metadata": {},
   "outputs": [
    {
     "name": "stdout",
     "output_type": "stream",
     "text": [
      "{'Seventh Semester': 8, 'Fifth Semester': 12, 'Third Semester': 4, 'Fourth Semester': 3, 'Second Semester': 3}\n"
     ]
    }
   ],
   "source": [
    "semester_ft = freq_table(input_list = semester_data)\n",
    "print(semester_ft)"
   ]
  },
  {
   "cell_type": "markdown",
   "id": "5eb18b70",
   "metadata": {},
   "source": [
    "#### Write a function named freq_table() that generates a frequency table for any column in our student_datasets.\n",
    "\n",
    "<ol>\n",
    "<li>The function should take the index number of a column in as an input (name the parameter however you want).</li>\n",
    "<li>Inside the function's body, complete the following:</li>\n",
    "<ol>   \n",
    "    <li>Loop through the student_datasets (don't include the header row) and extract the value you want by using the parameter;     which will be an index number.</li>\n",
    "    <li>Build the frequency table as a dictionary.</li>\n",
    "    <li>The function should return the frequency table as a dictionary.</li>\n",
    "</ol>\n",
    "<li>Use the freq_table() function to generate a frequency table for the Age column . Store the table in a variable named age_ft.</li>\n",
    "</ol>"
   ]
  },
  {
   "cell_type": "code",
   "execution_count": 4,
   "id": "4e6f1aa7",
   "metadata": {},
   "outputs": [
    {
     "data": {
      "text/plain": [
       "['Ram', 'male', 23, 'B.C.A', 'Seventh Semester', 78.2]"
      ]
     },
     "execution_count": 4,
     "metadata": {},
     "output_type": "execute_result"
    }
   ],
   "source": [
    "student_datasets[1]"
   ]
  },
  {
   "cell_type": "code",
   "execution_count": 102,
   "id": "bade793c",
   "metadata": {},
   "outputs": [],
   "source": [
    "def freq_table(index_num):\n",
    "    freq_dict = {}\n",
    "    for item in student_datasets[1:]:\n",
    "        if item[index_num] not in freq_dict:\n",
    "            freq_dict[item[index_num]] = 1\n",
    "        else:\n",
    "            freq_dict[item[index_num]] += 1\n",
    "    return freq_dict\n",
    "    \n",
    "    "
   ]
  },
  {
   "cell_type": "code",
   "execution_count": 103,
   "id": "fa4782e5",
   "metadata": {},
   "outputs": [
    {
     "name": "stdout",
     "output_type": "stream",
     "text": [
      "{23: 8, 21: 4, 22: 8, 20: 5, 24: 3, 25: 2}\n"
     ]
    }
   ],
   "source": [
    "age_ft = freq_table(index_num = 2)\n",
    "print(age_ft)"
   ]
  },
  {
   "cell_type": "code",
   "execution_count": 104,
   "id": "6c4e22da",
   "metadata": {},
   "outputs": [
    {
     "name": "stdout",
     "output_type": "stream",
     "text": [
      "{'B.C.A': 6, 'B.Sc.Cs.It': 10, 'B.I.M': 10, 'B.A.L.L.B': 4}\n"
     ]
    }
   ],
   "source": [
    "faculty_ft = freq_table(index_num = 3)\n",
    "print(faculty_ft)"
   ]
  },
  {
   "cell_type": "markdown",
   "id": "60a3f1a6",
   "metadata": {},
   "source": [
    "#### Reusability & Multiple Parameters\n",
    "\n",
    "<li>Iterating over student_datasets inside the function's definition limits us to using freq_table() only for the student_datasets.</li>\n",
    "<li>If we had another dataset or wanted to save the function to use later for another project, freq_table() would be useless because it iterates only over the student_datasets variable.</li>\n",
    "<li>One of the aspects of functions that make them great is reusability.</li>\n",
    "<li.We generally use functions to automate repetitive tasks, so a function isn't worthwhile if we can't reuse it for the various instances of a certain kind of task.</li>\n",
    "<li>Our freq_table() function is currently reusable only with respect to the columns we may want to generate the frequency tables for.</li>\n",
    "<li>We need to increase its reusability by making it reusable with respect to both columns and datasets.</li>\n",
    "\n",
    "**How can we do that?**"
   ]
  },
  {
   "cell_type": "code",
   "execution_count": 117,
   "id": "3c484150",
   "metadata": {},
   "outputs": [],
   "source": [
    "header = ['Movie Name','Genre', 'Lead Actor', 'Released Year', 'No of ratings', 'Avg Rating']\n",
    "movie1 = ['Titanic','Romantic', 'Leonardo Decaprio', '1997', 1169835, 7.9]\n",
    "movie2 = ['Met Joe Black','Romantic', 'Brad Pit', '1998', 243882, 7.3]\n",
    "movie3 = ['Edge of Tomorrow','Sci-Fiction', 'Tom Cruise', '2014', 678775, 7.9]\n",
    "movie4 = ['Chennai Express', 'Action', 'Sharukh Khan', '2013', 55643, 6.0]\n",
    "movie5 = ['The Tourist', 'Mystery', 'Johnny Deep', '2010', 244817, 6.0]\n",
    "movie6 = ['Romie + Juliet','Romantic', 'Leonardo Decaprio', '1996', 230832, 6.7]\n",
    "movie7 = ['Fight Club','Action', 'Brad Pit', '1999', 2115606 , 8.8]\n",
    "movie3 = ['Mission Impossible - Fallout','Action', 'Tom Cruise', '2018', 333634, 7.7]\n",
    "movie8 = ['Don2', 'Action', 'Sharukh Khan', '2011', 53731, 7.0]\n",
    "movie9 = ['Pirates of the Caribbean: Dead Men Tell No Tales', 'Action', 'Johnny Deep', '2017', 313199, 6.5]\n",
    "movie10 = ['Enemy', 'Mystery', 'Jake Gyllenhaal', '2013', 195742, 6.9]\n",
    "movie11 = ['Chocolat','Romantic', 'Johnny Deep', '2000', 193148, 7.3]\n",
    "movie12 = ['Source Code','Sci-Fiction', 'Jake Gyllenhaal', '2011', 522197, 7.5]\n",
    "movie13 = ['Ra-One','Sci-Fiction', 'Sharukh Khan', '2011', 43296, 4.7]\n",
    "movie14 = ['Inception', 'Action', 'Leonardo Decaprio', '2010', 2342560, 8.8]\n",
    "movie15 = ['Jack Reacher', 'Mystery', 'Tom Cruise', '2012', 343395 , 7.0]\n",
    "movie_datasets = [header, movie1, movie2, movie3, movie4, movie5,\n",
    "                    movie6, movie7, movie8, movie9, movie10,\n",
    "                   movie11, movie12, movie13, movie14,movie15]\n",
    "\n"
   ]
  },
  {
   "cell_type": "code",
   "execution_count": 118,
   "id": "de62de05",
   "metadata": {},
   "outputs": [],
   "source": [
    "def freq_table(datasets,index_num):\n",
    "    freq_dict = {}\n",
    "    for item in datasets[1:]:\n",
    "        if item[index_num] not in freq_dict:\n",
    "            freq_dict[item[index_num]] = 1\n",
    "        else:\n",
    "            freq_dict[item[index_num]] += 1\n",
    "    return freq_dict\n",
    "    \n",
    "    "
   ]
  },
  {
   "cell_type": "code",
   "execution_count": 119,
   "id": "441a8bc8",
   "metadata": {},
   "outputs": [
    {
     "name": "stdout",
     "output_type": "stream",
     "text": [
      "{'Romantic': 4, 'Action': 6, 'Mystery': 3, 'Sci-Fiction': 2}\n"
     ]
    }
   ],
   "source": [
    "movie_genre_count = freq_table(datasets = movie_datasets, index_num = 1)\n",
    "print(movie_genre_count)"
   ]
  },
  {
   "cell_type": "code",
   "execution_count": 120,
   "id": "9eb31209",
   "metadata": {},
   "outputs": [
    {
     "name": "stdout",
     "output_type": "stream",
     "text": [
      "{'male': 13, 'female': 17}\n"
     ]
    }
   ],
   "source": [
    "student_gender_count = freq_table(datasets = student_datasets, index_num = 1)\n",
    "print(student_gender_count)"
   ]
  },
  {
   "cell_type": "markdown",
   "id": "f3763d93",
   "metadata": {},
   "source": [
    "#### Question On Keyword and Positional Arguments\n",
    "<ol>\n",
    "<li>Use positional arguments when you generate the table for the Genre column. Assign the table to a variable named genre_ft.</li>\n",
    "<li>Use keyword arguments for the 'Lead Actor' column following the order (index, data_set). Assign the table to a variable named actor_ft.</li>\n",
    "</ol>"
   ]
  },
  {
   "cell_type": "code",
   "execution_count": 121,
   "id": "6b3ea5c4",
   "metadata": {},
   "outputs": [
    {
     "name": "stdout",
     "output_type": "stream",
     "text": [
      "{'Romantic': 4, 'Action': 6, 'Mystery': 3, 'Sci-Fiction': 2}\n"
     ]
    }
   ],
   "source": [
    "genre_ft = freq_table(movie_datasets, 1)\n",
    "print(genre_ft)"
   ]
  },
  {
   "cell_type": "code",
   "execution_count": 122,
   "id": "3dce6ea4",
   "metadata": {},
   "outputs": [
    {
     "name": "stdout",
     "output_type": "stream",
     "text": [
      "{'Leonardo Decaprio': 3, 'Brad Pit': 2, 'Tom Cruise': 2, 'Sharukh Khan': 3, 'Johnny Deep': 3, 'Jake Gyllenhaal': 2}\n"
     ]
    }
   ],
   "source": [
    "lead_actor_ft = freq_table(datasets = movie_datasets, index_num =  2)\n",
    "print(lead_actor_ft)"
   ]
  },
  {
   "cell_type": "markdown",
   "id": "13a42a9d",
   "metadata": {},
   "source": [
    "#### Combining Functions\n",
    "\n",
    "<li>When we write a function, it's common to use other functions inside the body of the function we're creating.</li>\n",
    "<li>Let's say we want to write a function named mean(), that takes in a list of numbers and returns the mean of that list.</li>\n",
    "<li>To get the mean of a list, we need to compute its sum and then divide the result by the length of that list.</li>\n",
    "<li>Let's start by writing two functions, one for computing the sum of a list and the other for computing the length.</li>"
   ]
  },
  {
   "cell_type": "code",
   "execution_count": 123,
   "id": "c028cb07",
   "metadata": {},
   "outputs": [],
   "source": [
    "def leng_list(input_list):\n",
    "    counter = 0\n",
    "    for item in input_list:\n",
    "        counter += 1\n",
    "    return counter"
   ]
  },
  {
   "cell_type": "code",
   "execution_count": 124,
   "id": "a1657348",
   "metadata": {},
   "outputs": [],
   "source": [
    "def sum_list(input_list):\n",
    "    addition = 0\n",
    "    for item in input_list:\n",
    "        addition += item\n",
    "    return addition"
   ]
  },
  {
   "cell_type": "code",
   "execution_count": 125,
   "id": "bd28fc7a",
   "metadata": {},
   "outputs": [],
   "source": [
    "def mean_list(input_list):\n",
    "    list_sum = sum_list(input_list)\n",
    "    list_length = leng_list(input_list)\n",
    "    list_avg = list_sum/list_length\n",
    "    return list_avg"
   ]
  },
  {
   "cell_type": "code",
   "execution_count": 126,
   "id": "f276a935",
   "metadata": {},
   "outputs": [],
   "source": [
    "list1 = [23,43,2,43,75,23,766,24,34]"
   ]
  },
  {
   "cell_type": "code",
   "execution_count": 127,
   "id": "bb00c4f8",
   "metadata": {},
   "outputs": [
    {
     "name": "stdout",
     "output_type": "stream",
     "text": [
      "114.77777777777777\n"
     ]
    }
   ],
   "source": [
    "avg_list1 = mean_list(list1)\n",
    "print(avg_list1)"
   ]
  },
  {
   "cell_type": "markdown",
   "id": "e16cc1fb",
   "metadata": {},
   "source": []
  },
  {
   "cell_type": "code",
   "execution_count": 13,
   "id": "264e8bc3",
   "metadata": {},
   "outputs": [],
   "source": [
    "header = ['Subject', 'FM', 'PM', 'OM']\n",
    "score1 = ['English', '75', '32', '63']\n",
    "score2 = ['Nepali', '100', '40', '74']\n",
    "score3 = ['Social', '100', '40', '76']\n",
    "score4 = ['Science', '75', '32', '68']\n",
    "score5 = ['C.Math', '100', '40', '93']\n",
    "score6 = ['Opt.Math', '100', '40', '91']\n",
    "score7 = ['E.H.P', '75', '32', '61']\n",
    "score8 = ['Account', '75', '32', '58']\n",
    "score9 = ['Economic', '75', '32', '57']\n",
    "score10 = ['Computer', '75', '32', '71']\n",
    "\n",
    "score_dataset = [header, score1, score2, score3, score4, score5, \n",
    "                score6, score7, score8, score9, score10]"
   ]
  },
  {
   "cell_type": "markdown",
   "id": "1abbdf40",
   "metadata": {},
   "source": [
    "#### From the given dataset write a function that calculates the percentage of given student.\n",
    "\n",
    "<li>Use one function to calculate the full marks of the student.</li>\n",
    "<li>Another function to calculate the obtained marks of the student.</li>\n",
    "<li>And create a third function that would calculate the percentage of the given student.</li>\n",
    "<li>Don't forget to use function inside a function we just read above.</li>"
   ]
  },
  {
   "cell_type": "code",
   "execution_count": 29,
   "id": "322164b5",
   "metadata": {},
   "outputs": [],
   "source": [
    "def total_om(index1):\n",
    "    total_om = 0\n",
    "    for item in score_dataset[1:]:\n",
    "        total_om += int(item[index1])\n",
    "    return total_om"
   ]
  },
  {
   "cell_type": "code",
   "execution_count": 30,
   "id": "e61e8fd6",
   "metadata": {},
   "outputs": [],
   "source": [
    "def total_fm(index2):\n",
    "    total_fm = 0\n",
    "    for item in score_dataset[1:]:\n",
    "        total_fm += int(item[index2])\n",
    "    return total_fm"
   ]
  },
  {
   "cell_type": "code",
   "execution_count": 31,
   "id": "404c8d64",
   "metadata": {},
   "outputs": [],
   "source": [
    "def percentage(index1, index2):\n",
    "    om = total_om(index1)\n",
    "    fm = total_fm(index2)\n",
    "    result = om/fm\n",
    "    return (result*100)"
   ]
  },
  {
   "cell_type": "code",
   "execution_count": 32,
   "id": "762a234a",
   "metadata": {},
   "outputs": [
    {
     "name": "stdout",
     "output_type": "stream",
     "text": [
      "83.76470588235294\n"
     ]
    }
   ],
   "source": [
    "percent = percentage(index1=-1, index2=1)\n",
    "print(percent)"
   ]
  },
  {
   "cell_type": "code",
   "execution_count": 34,
   "id": "6cef3ec3",
   "metadata": {},
   "outputs": [],
   "source": [
    "def total(index):\n",
    "    marks = 0\n",
    "    for score in score_dataset[1:]:\n",
    "        marks += int(score[index])\n",
    "    return marks"
   ]
  },
  {
   "cell_type": "code",
   "execution_count": 35,
   "id": "270ba344",
   "metadata": {},
   "outputs": [],
   "source": [
    "def percentage(om_index, fm_index):\n",
    "    \n",
    "    om = total(om_index)\n",
    "    fm = total(fm_index)\n",
    "    result = om/fm\n",
    "    return (result*100)"
   ]
  },
  {
   "cell_type": "code",
   "execution_count": 37,
   "id": "1aecf6ff",
   "metadata": {},
   "outputs": [
    {
     "name": "stdout",
     "output_type": "stream",
     "text": [
      "83.76470588235294\n"
     ]
    }
   ],
   "source": [
    "score_percentage = percentage(om_index =-1 , fm_index = 1)\n",
    "print(score_percentage)"
   ]
  },
  {
   "cell_type": "markdown",
   "id": "b77f4ebe",
   "metadata": {},
   "source": [
    "#### Pallindrome check\n",
    "\n",
    "<li>A palindrome is a word, phrase, or sequence that is the same spelled forward as it is backwards.</li>\n",
    "<li>Examples are:</li>\n",
    "<ol>\n",
    "<li>radar</li>\n",
    "<li>was it a car or a cat i saw</li>\n",
    "</ol>"
   ]
  },
  {
   "cell_type": "code",
   "execution_count": 40,
   "id": "9cd6e00d",
   "metadata": {},
   "outputs": [
    {
     "name": "stdout",
     "output_type": "stream",
     "text": [
      "wasitacaroracatisawt\n"
     ]
    }
   ],
   "source": [
    "string = \"was it a car or a cat i saw\"\n",
    "final_string = string.replace(\" \", \"\")\n",
    "print(final_string)"
   ]
  },
  {
   "cell_type": "code",
   "execution_count": 41,
   "id": "ccee3aba",
   "metadata": {},
   "outputs": [
    {
     "name": "stdout",
     "output_type": "stream",
     "text": [
      "twasitacaroracatisaw\n"
     ]
    }
   ],
   "source": [
    "reversed_string = ''.join(reversed(final_string))\n",
    "print(reversed_string)"
   ]
  },
  {
   "cell_type": "code",
   "execution_count": 42,
   "id": "6d25c924",
   "metadata": {},
   "outputs": [],
   "source": [
    "def check_pallindrome(string):\n",
    "    final_string = string.replace(\" \", \"\")\n",
    "    reversed_string = \"\".join(reversed(final_string))\n",
    "    if final_string == reversed_string:\n",
    "        print(\"The given string is a pallindrome.\")\n",
    "    else:\n",
    "        print(\"The given string is not a pallindrome\")"
   ]
  },
  {
   "cell_type": "code",
   "execution_count": 43,
   "id": "23048143",
   "metadata": {},
   "outputs": [
    {
     "name": "stdout",
     "output_type": "stream",
     "text": [
      "The given string is a pallindrome.\n"
     ]
    }
   ],
   "source": [
    "check_pallindrome(string= \"radar\")"
   ]
  },
  {
   "cell_type": "code",
   "execution_count": 44,
   "id": "ea845690",
   "metadata": {},
   "outputs": [
    {
     "name": "stdout",
     "output_type": "stream",
     "text": [
      "The given string is a pallindrome.\n"
     ]
    }
   ],
   "source": [
    "check_pallindrome(string= \"was it a car or a cat i saw\")"
   ]
  },
  {
   "cell_type": "code",
   "execution_count": 45,
   "id": "aa3c8757",
   "metadata": {},
   "outputs": [
    {
     "name": "stdout",
     "output_type": "stream",
     "text": [
      "The given string is not a pallindrome\n"
     ]
    }
   ],
   "source": [
    "check_pallindrome(string= \"was it a car or a cat i sawt\")"
   ]
  },
  {
   "cell_type": "code",
   "execution_count": 46,
   "id": "04120ce1",
   "metadata": {},
   "outputs": [],
   "source": [
    "def check_pallindrome(string):\n",
    "    final_string = string.replace(\" \", \"\")\n",
    "    reversed_string = ''\n",
    "    for i in range(len(final_string), 0, -1):\n",
    "        reversed_string += final_string[i-1]\n",
    "    if final_string == reversed_string:\n",
    "        print(\"The given string is a pallindrome.\")\n",
    "    else:\n",
    "        print(\"The given string is not a pallindrome\")"
   ]
  },
  {
   "cell_type": "code",
   "execution_count": 47,
   "id": "bafc51a8",
   "metadata": {},
   "outputs": [
    {
     "name": "stdout",
     "output_type": "stream",
     "text": [
      "The given string is a pallindrome.\n"
     ]
    }
   ],
   "source": [
    "check_pallindrome(string= \"radar\")"
   ]
  },
  {
   "cell_type": "code",
   "execution_count": 48,
   "id": "79c8dae7",
   "metadata": {},
   "outputs": [
    {
     "name": "stdout",
     "output_type": "stream",
     "text": [
      "The given string is a pallindrome.\n"
     ]
    }
   ],
   "source": [
    "check_pallindrome(string= \"was it a car or a cat i saw\")"
   ]
  },
  {
   "cell_type": "code",
   "execution_count": 49,
   "id": "7babee4f",
   "metadata": {},
   "outputs": [
    {
     "name": "stdout",
     "output_type": "stream",
     "text": [
      "The given string is not a pallindrome\n"
     ]
    }
   ],
   "source": [
    "check_pallindrome(string= \"was it a car or a cat i sawt\")"
   ]
  },
  {
   "cell_type": "code",
   "execution_count": null,
   "id": "040c1fab",
   "metadata": {},
   "outputs": [],
   "source": []
  },
  {
   "cell_type": "markdown",
   "id": "5d1af6f1",
   "metadata": {},
   "source": [
    "#### Create a function to convert the following list into a dictionary like this:\n",
    "**Given list:**\n",
    "\n",
    "item = ['duns_id', 'DUNS', 'company_id', 'Company_Id', 'company_name', 'Company_Name', 'product_id', 'Product_Id',\n",
    "       'product_name', 'Product_Name', 'country', 'Country']\n",
    "\n",
    "**Dictionary like this:**\n",
    "\n",
    "item = {\"duns_id\" : 'DUNS','company_id' : 'Company_Id', 'company_name' : 'Company_Name', 'product_id' : 'Product_Id',\n",
    "       'product_name' : 'Product_Name',  'country' : 'Country'}"
   ]
  },
  {
   "cell_type": "code",
   "execution_count": 53,
   "id": "a4394f1d",
   "metadata": {},
   "outputs": [],
   "source": [
    "item1 = ['duns_id', 'DUNS', 'company_id', 'Company_Id', 'company_name', 'Company_Name', 'product_id', 'Product_Id',\n",
    "       'product_name', 'Product_Name', 'country', 'Country']"
   ]
  },
  {
   "cell_type": "code",
   "execution_count": 56,
   "id": "118327b0",
   "metadata": {},
   "outputs": [],
   "source": [
    "def dict_item(dataset):\n",
    "    dict1 = {}\n",
    "    for index in range(0, len(dataset), 2):\n",
    "        dict1[dataset[index]] = dataset[index + 1]\n",
    "    return dict1"
   ]
  },
  {
   "cell_type": "code",
   "execution_count": 57,
   "id": "feb4c271",
   "metadata": {},
   "outputs": [
    {
     "name": "stdout",
     "output_type": "stream",
     "text": [
      "{'duns_id': 'DUNS', 'company_id': 'Company_Id', 'company_name': 'Company_Name', 'product_id': 'Product_Id', 'product_name': 'Product_Name', 'country': 'Country'}\n"
     ]
    }
   ],
   "source": [
    "dict2 = dict_item(item1)\n",
    "print(dict2)"
   ]
  },
  {
   "cell_type": "code",
   "execution_count": 58,
   "id": "aba723fa",
   "metadata": {},
   "outputs": [
    {
     "name": "stdout",
     "output_type": "stream",
     "text": [
      "['duns_id', 'company_id', 'company_name', 'product_id', 'product_name', 'country']\n",
      "['DUNS', 'Company_Id', 'Company_Name', 'Product_Id', 'Product_Name', 'Country']\n"
     ]
    }
   ],
   "source": [
    "list1 = list(dict2.keys())\n",
    "list2 = list(dict2.values())\n",
    "print(list1)\n",
    "print(list2)"
   ]
  },
  {
   "cell_type": "code",
   "execution_count": 62,
   "id": "30cbeccf",
   "metadata": {},
   "outputs": [],
   "source": [
    "def list_to_dict(list1, list2):\n",
    "    dict1 = {}\n",
    "    for idx in range(len(list1)):\n",
    "        dict1[list1[idx]] = list2[idx]\n",
    "    return dict1"
   ]
  },
  {
   "cell_type": "code",
   "execution_count": 63,
   "id": "e2e926d7",
   "metadata": {},
   "outputs": [
    {
     "name": "stdout",
     "output_type": "stream",
     "text": [
      "{'duns_id': 'DUNS', 'company_id': 'Company_Id', 'company_name': 'Company_Name', 'product_id': 'Product_Id', 'product_name': 'Product_Name', 'country': 'Country'}\n"
     ]
    }
   ],
   "source": [
    "dict2 = list_to_dict(list1, list2)\n",
    "print(dict2)"
   ]
  },
  {
   "cell_type": "code",
   "execution_count": 68,
   "id": "1d75e267",
   "metadata": {},
   "outputs": [
    {
     "name": "stdout",
     "output_type": "stream",
     "text": [
      "{'duns_id': 'DUNS', 'company_id': 'Company_Id', 'company_name': 'Company_Name', 'product_id': 'Product_Id', 'product_name': 'Product_Name', 'country': 'Country'}\n"
     ]
    }
   ],
   "source": [
    "dict2 = {k:v for k,v in zip(list1,list2)}\n",
    "print(dict2)"
   ]
  },
  {
   "cell_type": "markdown",
   "id": "bde050f7",
   "metadata": {},
   "source": [
    "#### Modules\n",
    "<ol>\n",
    "<li>In Python, Modules are simply files with the “. py” extension containing Python code that can be imported inside another Python Program.</li>\n",
    "<li>In simple terms, we can say a module as a file containing a set of functions we want to include in our application.</li>\n",
    "<li>We can use the function defined in another python file to our existing python file by using import keyword.</li>"
   ]
  },
  {
   "cell_type": "code",
   "execution_count": null,
   "id": "c8b5a06d",
   "metadata": {},
   "outputs": [],
   "source": []
  },
  {
   "cell_type": "code",
   "execution_count": null,
   "id": "cab6943d",
   "metadata": {},
   "outputs": [],
   "source": []
  },
  {
   "cell_type": "code",
   "execution_count": null,
   "id": "bc2d5b51",
   "metadata": {},
   "outputs": [],
   "source": []
  },
  {
   "cell_type": "code",
   "execution_count": null,
   "id": "00fd0e37",
   "metadata": {},
   "outputs": [],
   "source": []
  },
  {
   "cell_type": "code",
   "execution_count": null,
   "id": "1b29fceb",
   "metadata": {},
   "outputs": [],
   "source": []
  },
  {
   "cell_type": "code",
   "execution_count": null,
   "id": "d00084fc",
   "metadata": {},
   "outputs": [],
   "source": []
  },
  {
   "cell_type": "code",
   "execution_count": null,
   "id": "ba92967b",
   "metadata": {},
   "outputs": [],
   "source": []
  },
  {
   "cell_type": "markdown",
   "id": "ea691eca",
   "metadata": {},
   "source": [
    "#### Question: There are 10 elements in a list. Write a function that calculates the sum of items with even index and odd index separately and check which one is bigger and calculate the margin by which one is bigger than other."
   ]
  },
  {
   "cell_type": "code",
   "execution_count": 3,
   "id": "d6765cea",
   "metadata": {},
   "outputs": [],
   "source": [
    "list1 = [12,23,57,21,87,43,89,34,11,64]"
   ]
  },
  {
   "cell_type": "code",
   "execution_count": 4,
   "id": "85ae5c9e",
   "metadata": {},
   "outputs": [],
   "source": [
    "def function1(list1):\n",
    "    even_index=0\n",
    "    odd_index=0\n",
    "    for items in range(0,len(list1),2):\n",
    "        even_index+=list1[items]\n",
    "        odd_index+=list1[items+1]\n",
    "    if even_index>odd_index:\n",
    "        print(\"Even index sum > odd index sum by {}\".format(even_index -odd_index))\n",
    "    else:\n",
    "        print(\"Odd index sum > Even index sum by {}\".format(odd_index - even_index))"
   ]
  },
  {
   "cell_type": "code",
   "execution_count": 5,
   "id": "ba790394",
   "metadata": {},
   "outputs": [
    {
     "name": "stdout",
     "output_type": "stream",
     "text": [
      "71\n"
     ]
    }
   ],
   "source": [
    "margin=function1(list1)\n",
    "print(margin)"
   ]
  },
  {
   "cell_type": "markdown",
   "id": "2c3d8ed0",
   "metadata": {},
   "source": [
    "#### Question: Write a function that calculates the sum of items in a list. The items can be an integer or float or a list. It donot accept any other datatypes."
   ]
  },
  {
   "cell_type": "code",
   "execution_count": null,
   "id": "c25f38eb",
   "metadata": {},
   "outputs": [],
   "source": []
  },
  {
   "cell_type": "code",
   "execution_count": 1,
   "id": "34a8d8f3",
   "metadata": {},
   "outputs": [],
   "source": [
    "a = '5'"
   ]
  },
  {
   "cell_type": "code",
   "execution_count": 2,
   "id": "28ae7cc7",
   "metadata": {},
   "outputs": [
    {
     "data": {
      "text/plain": [
       "str"
      ]
     },
     "execution_count": 2,
     "metadata": {},
     "output_type": "execute_result"
    }
   ],
   "source": [
    "type(a)"
   ]
  },
  {
   "cell_type": "code",
   "execution_count": null,
   "id": "c446f438",
   "metadata": {},
   "outputs": [],
   "source": []
  }
 ],
 "metadata": {
  "kernelspec": {
   "display_name": "Python 3 (ipykernel)",
   "language": "python",
   "name": "python3"
  },
  "language_info": {
   "codemirror_mode": {
    "name": "ipython",
    "version": 3
   },
   "file_extension": ".py",
   "mimetype": "text/x-python",
   "name": "python",
   "nbconvert_exporter": "python",
   "pygments_lexer": "ipython3",
   "version": "3.8.0"
  }
 },
 "nbformat": 4,
 "nbformat_minor": 5
}
