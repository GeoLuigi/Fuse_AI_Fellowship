{
 "cells": [
  {
   "cell_type": "markdown",
   "id": "eb03cde1-c222-4def-87d4-2799f7903c81",
   "metadata": {},
   "source": [
    "## Printing my first python program"
   ]
  },
  {
   "cell_type": "code",
   "execution_count": 1,
   "id": "379754ca-d40f-47f0-9524-bafbe3bd2000",
   "metadata": {},
   "outputs": [
    {
     "name": "stdout",
     "output_type": "stream",
     "text": [
      "Hello world\n"
     ]
    }
   ],
   "source": [
    "print(\"Hello world\")"
   ]
  },
  {
   "cell_type": "markdown",
   "id": "17e0c2da-52df-47d7-bec3-fb8feb243315",
   "metadata": {},
   "source": [
    "### Defining integer variable"
   ]
  },
  {
   "cell_type": "code",
   "execution_count": 2,
   "id": "514d0511-7be3-42b6-834b-6baf33b97c35",
   "metadata": {},
   "outputs": [],
   "source": [
    "a = 5"
   ]
  },
  {
   "cell_type": "markdown",
   "id": "dc0b81c2-9c62-4358-95a9-49a7a2a71ecb",
   "metadata": {},
   "source": [
    "## Checking the datatype of a variable"
   ]
  },
  {
   "cell_type": "code",
   "execution_count": 3,
   "id": "cb868c62-84da-44e3-bb94-cb0bd3226944",
   "metadata": {
    "scrolled": true
   },
   "outputs": [
    {
     "data": {
      "text/plain": [
       "int"
      ]
     },
     "execution_count": 3,
     "metadata": {},
     "output_type": "execute_result"
    }
   ],
   "source": [
    "type(a)"
   ]
  },
  {
   "cell_type": "markdown",
   "id": "d9e61c98-e579-4a29-bd75-f327ad31efed",
   "metadata": {},
   "source": [
    "## Defining float variable"
   ]
  },
  {
   "cell_type": "code",
   "execution_count": 4,
   "id": "1f814ccf-8f21-4a15-a37d-8d77722aae78",
   "metadata": {},
   "outputs": [
    {
     "data": {
      "text/plain": [
       "float"
      ]
     },
     "execution_count": 4,
     "metadata": {},
     "output_type": "execute_result"
    }
   ],
   "source": [
    "b = 4.5\n",
    "type(b)"
   ]
  },
  {
   "cell_type": "markdown",
   "id": "6be01d23-8321-4032-b093-2d1c1314c793",
   "metadata": {},
   "source": [
    "### Defining sum of two variables"
   ]
  },
  {
   "cell_type": "code",
   "execution_count": 6,
   "id": "f8c59efc-ab63-434e-8344-4e411aee05e5",
   "metadata": {},
   "outputs": [
    {
     "data": {
      "text/plain": [
       "9.5"
      ]
     },
     "execution_count": 6,
     "metadata": {},
     "output_type": "execute_result"
    }
   ],
   "source": [
    "a + b"
   ]
  },
  {
   "cell_type": "markdown",
   "id": "8e3b8c27-4222-4f48-8918-b09245ab3432",
   "metadata": {},
   "source": [
    "## Defining product of two variables"
   ]
  },
  {
   "cell_type": "code",
   "execution_count": 7,
   "id": "033b73c9-7a39-43d8-864c-e2e9857d8e32",
   "metadata": {},
   "outputs": [
    {
     "data": {
      "text/plain": [
       "22.5"
      ]
     },
     "execution_count": 7,
     "metadata": {},
     "output_type": "execute_result"
    }
   ],
   "source": [
    "a * b"
   ]
  },
  {
   "cell_type": "markdown",
   "id": "87d12bea-212a-4de5-81e5-aa1b4ab2d5f2",
   "metadata": {},
   "source": [
    "### Defining difference of two variables"
   ]
  },
  {
   "cell_type": "code",
   "execution_count": 8,
   "id": "3516dfbb-c878-415b-9a92-e9bfe0f8e0ac",
   "metadata": {},
   "outputs": [
    {
     "data": {
      "text/plain": [
       "0.5"
      ]
     },
     "execution_count": 8,
     "metadata": {},
     "output_type": "execute_result"
    }
   ],
   "source": [
    "a - b"
   ]
  },
  {
   "cell_type": "markdown",
   "id": "a3a41f35-b5ad-4fed-ba1a-31a606896933",
   "metadata": {},
   "source": [
    "### Defining division of two variables"
   ]
  },
  {
   "cell_type": "code",
   "execution_count": 9,
   "id": "0405b881-da39-4536-a18e-e56d48c35b79",
   "metadata": {},
   "outputs": [
    {
     "data": {
      "text/plain": [
       "1.1111111111111112"
      ]
     },
     "execution_count": 9,
     "metadata": {},
     "output_type": "execute_result"
    }
   ],
   "source": [
    "a / b"
   ]
  },
  {
   "cell_type": "code",
   "execution_count": 10,
   "id": "cd69188d-1694-4ec3-b895-634f09c36b2e",
   "metadata": {},
   "outputs": [
    {
     "data": {
      "text/plain": [
       "1.0"
      ]
     },
     "execution_count": 10,
     "metadata": {},
     "output_type": "execute_result"
    }
   ],
   "source": [
    "a//b"
   ]
  },
  {
   "cell_type": "markdown",
   "id": "ccb30376-f7d2-453f-ab42-9853f4aa010d",
   "metadata": {},
   "source": [
    "### String Datatypes\n",
    "\n",
    "#### Various ways of String Representation"
   ]
  },
  {
   "cell_type": "code",
   "execution_count": 11,
   "id": "8d0fb4b7-cc10-40c9-9ea6-8ea29ee3adfb",
   "metadata": {},
   "outputs": [
    {
     "data": {
      "text/plain": [
       "str"
      ]
     },
     "execution_count": 11,
     "metadata": {},
     "output_type": "execute_result"
    }
   ],
   "source": [
    "c = 'My name is Prabhat Ale'\n",
    "type(c)"
   ]
  },
  {
   "cell_type": "code",
   "execution_count": 13,
   "id": "ae723291-4cb1-4ae3-b4e5-326593ed9a08",
   "metadata": {},
   "outputs": [
    {
     "data": {
      "text/plain": [
       "str"
      ]
     },
     "execution_count": 13,
     "metadata": {},
     "output_type": "execute_result"
    }
   ],
   "source": [
    "d = \"I live in Manigram\"\n",
    "type(d)"
   ]
  },
  {
   "cell_type": "code",
   "execution_count": 14,
   "id": "097376ed-81db-4fe1-98e0-f1a688d11a9b",
   "metadata": {},
   "outputs": [
    {
     "name": "stdout",
     "output_type": "stream",
     "text": [
      "I live in Manigram\n"
     ]
    }
   ],
   "source": [
    "print(d)"
   ]
  },
  {
   "cell_type": "code",
   "execution_count": 16,
   "id": "8621acb6-d1cb-4169-92a2-965b595a589a",
   "metadata": {},
   "outputs": [
    {
     "name": "stdout",
     "output_type": "stream",
     "text": [
      "Martin says 'I am getting bored'\n"
     ]
    }
   ],
   "source": [
    "e = \"Martin says 'I am getting bored'\"\n",
    "print(e)"
   ]
  },
  {
   "cell_type": "code",
   "execution_count": 18,
   "id": "868ce864-23cc-45ba-b901-adeab1f4ae2c",
   "metadata": {},
   "outputs": [
    {
     "name": "stdout",
     "output_type": "stream",
     "text": [
      "Doctor says \"Eat an apple daily\"\n"
     ]
    }
   ],
   "source": [
    "f = 'Doctor says \"Eat an apple daily\"'\n",
    "print(f)"
   ]
  },
  {
   "cell_type": "markdown",
   "id": "a4e97849-f257-45fa-9ff3-e0d216e85e03",
   "metadata": {},
   "source": [
    "### Definig paragraphs as a string"
   ]
  },
  {
   "cell_type": "code",
   "execution_count": 23,
   "id": "9c20de85-8593-4c0f-b6a3-e19f11da743e",
   "metadata": {
    "scrolled": true
   },
   "outputs": [
    {
     "name": "stdout",
     "output_type": "stream",
     "text": [
      " I get up early at 5 am in the morning.\n",
      "Then I go to a walk.\n",
      "Then I brushes my teeth.\n",
      "Then I put on my dress\n",
      "Then I come to school.\n"
     ]
    }
   ],
   "source": [
    "paragraph = \"\"\" I get up early at 5 am in the morning.\n",
    "Then I go to a walk.\n",
    "Then I brushes my teeth.\n",
    "Then I put on my dress\n",
    "Then I come to school.\"\"\"\n",
    "print(paragraph)"
   ]
  },
  {
   "cell_type": "markdown",
   "id": "d0acc7d9-f011-46df-943d-bc2790c7c883",
   "metadata": {},
   "source": [
    "### String Concatenation"
   ]
  },
  {
   "cell_type": "code",
   "execution_count": 20,
   "id": "607c4a17-9f8e-4984-a222-cc9a717d35d4",
   "metadata": {},
   "outputs": [],
   "source": [
    "myname = \"Prabhat Ale\""
   ]
  },
  {
   "cell_type": "code",
   "execution_count": 21,
   "id": "520ebdbe-ca0c-4a15-8b90-71694a824056",
   "metadata": {},
   "outputs": [
    {
     "name": "stdout",
     "output_type": "stream",
     "text": [
      "My name is Prabhat Ale\n"
     ]
    }
   ],
   "source": [
    "print(\"My name is {}\".format(myname))"
   ]
  },
  {
   "cell_type": "code",
   "execution_count": 26,
   "id": "e937192d-a5f5-4be7-9963-3ef51670a549",
   "metadata": {},
   "outputs": [
    {
     "data": {
      "text/plain": [
       "'I eat anapple'"
      ]
     },
     "execution_count": 26,
     "metadata": {},
     "output_type": "execute_result"
    }
   ],
   "source": [
    "g = \"I eat an\"\n",
    "h = \"apple\"\n",
    "g  +  h"
   ]
  },
  {
   "cell_type": "code",
   "execution_count": 27,
   "id": "bde8b667-6249-44b2-83f2-60254af5a90f",
   "metadata": {},
   "outputs": [
    {
     "data": {
      "text/plain": [
       "'I eat an apple'"
      ]
     },
     "execution_count": 27,
     "metadata": {},
     "output_type": "execute_result"
    }
   ],
   "source": [
    "g  + \" \" + h"
   ]
  },
  {
   "cell_type": "markdown",
   "id": "f026abe5-c72e-48a3-ae92-258a5543eca2",
   "metadata": {},
   "source": [
    "### Uppercasing a string"
   ]
  },
  {
   "cell_type": "code",
   "execution_count": 28,
   "id": "e76ee63a-9df8-43ec-8b48-6607eea7b5db",
   "metadata": {},
   "outputs": [
    {
     "data": {
      "text/plain": [
       "'APPLE'"
      ]
     },
     "execution_count": 28,
     "metadata": {},
     "output_type": "execute_result"
    }
   ],
   "source": [
    "i = \"Apple\"\n",
    "i.upper()"
   ]
  },
  {
   "cell_type": "markdown",
   "id": "64f3db82-131a-420a-b6a3-239ddc9732b4",
   "metadata": {},
   "source": [
    "### Lowercasing a string?"
   ]
  },
  {
   "cell_type": "code",
   "execution_count": 29,
   "id": "dff7d13b-2815-4680-8c7b-a7f7d5d875ca",
   "metadata": {
    "scrolled": true
   },
   "outputs": [
    {
     "data": {
      "text/plain": [
       "'apple'"
      ]
     },
     "execution_count": 29,
     "metadata": {},
     "output_type": "execute_result"
    }
   ],
   "source": [
    "i.lower()"
   ]
  },
  {
   "cell_type": "markdown",
   "id": "b3551801-ac4d-4fe4-b8a9-80431ac26984",
   "metadata": {},
   "source": [
    "### Finding the length of a string"
   ]
  },
  {
   "cell_type": "code",
   "execution_count": 30,
   "id": "eb609ceb-6bdd-4100-864a-3015b3d37528",
   "metadata": {},
   "outputs": [
    {
     "name": "stdout",
     "output_type": "stream",
     "text": [
      "5\n"
     ]
    }
   ],
   "source": [
    "print(len(i))"
   ]
  },
  {
   "cell_type": "code",
   "execution_count": 31,
   "id": "df379b62-08a7-465b-b1ae-3ab16116ccaf",
   "metadata": {},
   "outputs": [
    {
     "data": {
      "text/plain": [
       "'A'"
      ]
     },
     "execution_count": 31,
     "metadata": {},
     "output_type": "execute_result"
    }
   ],
   "source": [
    "i[0]"
   ]
  },
  {
   "cell_type": "code",
   "execution_count": 33,
   "id": "b0f2f12a-4abd-4415-92c2-15e15706509d",
   "metadata": {},
   "outputs": [
    {
     "data": {
      "text/plain": [
       "'e'"
      ]
     },
     "execution_count": 33,
     "metadata": {},
     "output_type": "execute_result"
    }
   ],
   "source": [
    "i[-1]"
   ]
  },
  {
   "cell_type": "code",
   "execution_count": 34,
   "id": "12e822c7-5fe3-4d10-9938-d01b32289617",
   "metadata": {},
   "outputs": [
    {
     "name": "stdout",
     "output_type": "stream",
     "text": [
      "          I am here to close the gaps                    \n"
     ]
    }
   ],
   "source": [
    "j = \"          I am here to close the gaps                    \"\n",
    "print(j)"
   ]
  },
  {
   "cell_type": "code",
   "execution_count": 36,
   "id": "45e54d26-3970-4e11-8204-95e59cac0efe",
   "metadata": {},
   "outputs": [
    {
     "name": "stdout",
     "output_type": "stream",
     "text": [
      "57\n"
     ]
    }
   ],
   "source": [
    "print(len(j))"
   ]
  },
  {
   "cell_type": "code",
   "execution_count": 35,
   "id": "e50179d8-6cc3-4a22-a33e-f2efa9920f63",
   "metadata": {},
   "outputs": [
    {
     "data": {
      "text/plain": [
       "'I am here to close the gaps'"
      ]
     },
     "execution_count": 35,
     "metadata": {},
     "output_type": "execute_result"
    }
   ],
   "source": [
    "j.strip()"
   ]
  },
  {
   "cell_type": "code",
   "execution_count": 37,
   "id": "d00a4c3d-1bbc-40c9-a860-d77e35ac9e4b",
   "metadata": {},
   "outputs": [
    {
     "name": "stdout",
     "output_type": "stream",
     "text": [
      "I want  to drink  a  coffee\n"
     ]
    }
   ],
   "source": [
    "k = \"I want  to drink  a  coffee\"\n",
    "print(k)"
   ]
  },
  {
   "cell_type": "code",
   "execution_count": 38,
   "id": "4bff4291-575d-4304-b7c4-f28d1086505d",
   "metadata": {},
   "outputs": [
    {
     "name": "stdout",
     "output_type": "stream",
     "text": [
      "I want to drink a coffee\n"
     ]
    }
   ],
   "source": [
    "l = k.replace(\"  \", \" \")\n",
    "print(l)"
   ]
  },
  {
   "cell_type": "code",
   "execution_count": 39,
   "id": "97e816ff-9959-4990-a529-268842f48863",
   "metadata": {},
   "outputs": [
    {
     "name": "stdout",
     "output_type": "stream",
     "text": [
      "I want  to drink  a  tea\n"
     ]
    }
   ],
   "source": [
    "m = k.replace(\"coffee\", \"tea\")\n",
    "print(m)"
   ]
  },
  {
   "cell_type": "markdown",
   "id": "709ac5ea-7994-453a-982c-b0d3fd7a6701",
   "metadata": {},
   "source": [
    "### Split methods in Strings"
   ]
  },
  {
   "cell_type": "code",
   "execution_count": 41,
   "id": "b7fc5dae-d421-4fbe-bb6a-92e7fa19fa5a",
   "metadata": {},
   "outputs": [
    {
     "name": "stdout",
     "output_type": "stream",
     "text": [
      "['I', 'want', 'to', 'drink', 'a', 'coffee']\n"
     ]
    }
   ],
   "source": [
    "n = l.split(\" \")\n",
    "print(n)"
   ]
  },
  {
   "cell_type": "code",
   "execution_count": 42,
   "id": "4afe1f21-4ef8-44cd-853d-21ba4cfb4a26",
   "metadata": {},
   "outputs": [
    {
     "name": "stdout",
     "output_type": "stream",
     "text": [
      "6\n"
     ]
    }
   ],
   "source": [
    "print(len(n))"
   ]
  },
  {
   "cell_type": "code",
   "execution_count": 43,
   "id": "190dfb47-8e19-4663-8eab-320c86d2b643",
   "metadata": {},
   "outputs": [
    {
     "data": {
      "text/plain": [
       "list"
      ]
     },
     "execution_count": 43,
     "metadata": {},
     "output_type": "execute_result"
    }
   ],
   "source": [
    "type(n)"
   ]
  },
  {
   "cell_type": "code",
   "execution_count": 44,
   "id": "67e25ec9-7c4c-42d0-90d7-11f9356e4892",
   "metadata": {},
   "outputs": [],
   "source": [
    "o = \"Nepal_Rs\""
   ]
  },
  {
   "cell_type": "code",
   "execution_count": 46,
   "id": "8a13d016-8de9-4b02-815b-772315776fb8",
   "metadata": {},
   "outputs": [
    {
     "data": {
      "text/plain": [
       "'Nepal'"
      ]
     },
     "execution_count": 46,
     "metadata": {},
     "output_type": "execute_result"
    }
   ],
   "source": [
    "o.split(\"_\")[0]"
   ]
  },
  {
   "cell_type": "code",
   "execution_count": 47,
   "id": "65e7ff60-0019-47c9-8762-888ff80288c8",
   "metadata": {},
   "outputs": [],
   "source": [
    "p = \"I_wanted_to_go/by/a_train\""
   ]
  },
  {
   "cell_type": "code",
   "execution_count": 52,
   "id": "6d750be4-effb-4de4-9770-f11a786e850b",
   "metadata": {},
   "outputs": [
    {
     "data": {
      "text/plain": [
       "'train'"
      ]
     },
     "execution_count": 52,
     "metadata": {},
     "output_type": "execute_result"
    }
   ],
   "source": [
    "p.split('/')[-1].split('_')[1]"
   ]
  },
  {
   "cell_type": "code",
   "execution_count": 55,
   "id": "3355b390-9706-4e86-9409-3fa323d7fe0a",
   "metadata": {},
   "outputs": [
    {
     "data": {
      "text/plain": [
       "'train'"
      ]
     },
     "execution_count": 55,
     "metadata": {},
     "output_type": "execute_result"
    }
   ],
   "source": [
    "p.split('_')[-1]"
   ]
  },
  {
   "cell_type": "markdown",
   "id": "84ca0409-da4b-4c22-8f2f-f784d4669d9d",
   "metadata": {},
   "source": [
    "### List DataTypes"
   ]
  },
  {
   "cell_type": "code",
   "execution_count": 57,
   "id": "2c696bdb-9044-403a-9e71-274a0e5e3637",
   "metadata": {},
   "outputs": [
    {
     "name": "stdout",
     "output_type": "stream",
     "text": [
      "[1, 2, 3, 4, 5, 6]\n"
     ]
    },
    {
     "data": {
      "text/plain": [
       "list"
      ]
     },
     "execution_count": 57,
     "metadata": {},
     "output_type": "execute_result"
    }
   ],
   "source": [
    "q = [1,2, 3, 4, 5,6]\n",
    "print(q)\n",
    "type(q)"
   ]
  },
  {
   "cell_type": "code",
   "execution_count": 58,
   "id": "3ff5a82a-fe20-4d37-b470-77a87f705ee9",
   "metadata": {},
   "outputs": [
    {
     "name": "stdout",
     "output_type": "stream",
     "text": [
      "[4.5, 6.7, 9.8, 2.3]\n"
     ]
    },
    {
     "data": {
      "text/plain": [
       "list"
      ]
     },
     "execution_count": 58,
     "metadata": {},
     "output_type": "execute_result"
    }
   ],
   "source": [
    "r = [4.5,6.7, 9.8, 2.3]\n",
    "print(r)\n",
    "type(r)"
   ]
  },
  {
   "cell_type": "code",
   "execution_count": 59,
   "id": "84383b3e-523b-4a65-9adb-4ef6b3c98b5f",
   "metadata": {},
   "outputs": [
    {
     "name": "stdout",
     "output_type": "stream",
     "text": [
      "['apple', 'mango', 'litchi']\n"
     ]
    },
    {
     "data": {
      "text/plain": [
       "list"
      ]
     },
     "execution_count": 59,
     "metadata": {},
     "output_type": "execute_result"
    }
   ],
   "source": [
    "s = [\"apple\", \"mango\", \"litchi\"]\n",
    "print(s)\n",
    "type(s)"
   ]
  },
  {
   "cell_type": "code",
   "execution_count": 60,
   "id": "5f975bc8-5dc6-47d0-b233-5eb4ad98d573",
   "metadata": {},
   "outputs": [
    {
     "name": "stdout",
     "output_type": "stream",
     "text": [
      "[1, 4.5, 'pie', 'healthy', 9.5, 2]\n"
     ]
    },
    {
     "data": {
      "text/plain": [
       "list"
      ]
     },
     "execution_count": 60,
     "metadata": {},
     "output_type": "execute_result"
    }
   ],
   "source": [
    "t = [1, 4.5, \"pie\", \"healthy\", 9.5, 2]\n",
    "print(t)\n",
    "type(t)"
   ]
  },
  {
   "cell_type": "markdown",
   "id": "0925fbfc-3dc0-4620-bc08-d8a14eb77654",
   "metadata": {},
   "source": [
    "### List Indexing"
   ]
  },
  {
   "cell_type": "code",
   "execution_count": 61,
   "id": "dbe6a426-3628-4311-a569-874752312156",
   "metadata": {},
   "outputs": [
    {
     "data": {
      "text/plain": [
       "'healthy'"
      ]
     },
     "execution_count": 61,
     "metadata": {},
     "output_type": "execute_result"
    }
   ],
   "source": [
    "t[3]"
   ]
  },
  {
   "cell_type": "code",
   "execution_count": 62,
   "id": "c84c1b35-1b7b-4aa2-8c5d-0f82cfef92ec",
   "metadata": {},
   "outputs": [
    {
     "data": {
      "text/plain": [
       "'litchi'"
      ]
     },
     "execution_count": 62,
     "metadata": {},
     "output_type": "execute_result"
    }
   ],
   "source": [
    "s[-1]"
   ]
  },
  {
   "cell_type": "code",
   "execution_count": 1,
   "id": "05149601",
   "metadata": {},
   "outputs": [],
   "source": [
    "u = [1, 4, 6 ,9, \"sushmita\"]"
   ]
  },
  {
   "cell_type": "code",
   "execution_count": 3,
   "id": "1057cade",
   "metadata": {},
   "outputs": [
    {
     "data": {
      "text/plain": [
       "'sushmita'"
      ]
     },
     "execution_count": 3,
     "metadata": {},
     "output_type": "execute_result"
    }
   ],
   "source": [
    "u[-1]"
   ]
  },
  {
   "cell_type": "code",
   "execution_count": 4,
   "id": "153e446a",
   "metadata": {},
   "outputs": [
    {
     "data": {
      "text/plain": [
       "'sushmita'"
      ]
     },
     "execution_count": 4,
     "metadata": {},
     "output_type": "execute_result"
    }
   ],
   "source": [
    "u[4]"
   ]
  },
  {
   "cell_type": "markdown",
   "id": "b801607f",
   "metadata": {},
   "source": [
    "### Updating the items in a list"
   ]
  },
  {
   "cell_type": "code",
   "execution_count": 7,
   "id": "379a9c3d",
   "metadata": {},
   "outputs": [],
   "source": [
    "u[3] = \"sushma\""
   ]
  },
  {
   "cell_type": "code",
   "execution_count": 8,
   "id": "0c939916",
   "metadata": {},
   "outputs": [
    {
     "data": {
      "text/plain": [
       "[1, 4, 6, 'sushma', 'sushmita']"
      ]
     },
     "execution_count": 8,
     "metadata": {},
     "output_type": "execute_result"
    }
   ],
   "source": [
    "u"
   ]
  },
  {
   "cell_type": "code",
   "execution_count": 9,
   "id": "c2b172f1",
   "metadata": {},
   "outputs": [],
   "source": [
    "u[0] = \"Prabhat\""
   ]
  },
  {
   "cell_type": "code",
   "execution_count": 10,
   "id": "0bba0388",
   "metadata": {},
   "outputs": [
    {
     "data": {
      "text/plain": [
       "['Prabhat', 4, 6, 'sushma', 'sushmita']"
      ]
     },
     "execution_count": 10,
     "metadata": {},
     "output_type": "execute_result"
    }
   ],
   "source": [
    "u"
   ]
  },
  {
   "cell_type": "code",
   "execution_count": 13,
   "id": "e8cdbc93",
   "metadata": {},
   "outputs": [
    {
     "data": {
      "text/plain": [
       "['sushma']"
      ]
     },
     "execution_count": 13,
     "metadata": {},
     "output_type": "execute_result"
    }
   ],
   "source": [
    "u[3:4]"
   ]
  },
  {
   "cell_type": "code",
   "execution_count": 18,
   "id": "735b05a5",
   "metadata": {},
   "outputs": [
    {
     "data": {
      "text/plain": [
       "['sushma', 'sushmita']"
      ]
     },
     "execution_count": 18,
     "metadata": {},
     "output_type": "execute_result"
    }
   ],
   "source": [
    "[u[3], u[4]]"
   ]
  },
  {
   "cell_type": "code",
   "execution_count": 19,
   "id": "9db43a76",
   "metadata": {},
   "outputs": [],
   "source": [
    "v = ['car', 'van', 'truck', 'motorbike', 'samir', 2, 'sushmita']"
   ]
  },
  {
   "cell_type": "code",
   "execution_count": 21,
   "id": "e84a04f3",
   "metadata": {},
   "outputs": [
    {
     "data": {
      "text/plain": [
       "['car', 'van', 'truck', 'motorbike']"
      ]
     },
     "execution_count": 21,
     "metadata": {},
     "output_type": "execute_result"
    }
   ],
   "source": [
    "v[:4]"
   ]
  },
  {
   "cell_type": "code",
   "execution_count": 22,
   "id": "528ecf20",
   "metadata": {},
   "outputs": [
    {
     "data": {
      "text/plain": [
       "['samir', 'sushmita']"
      ]
     },
     "execution_count": 22,
     "metadata": {},
     "output_type": "execute_result"
    }
   ],
   "source": [
    "[v[4], v[-1]]"
   ]
  },
  {
   "cell_type": "markdown",
   "id": "0689f47a",
   "metadata": {},
   "source": [
    "#### List Concatenation Methods\n",
    "<ol>\n",
    "<li>We can use the '+' operator to concatenate multiple lists and create a new list.</li>\n",
    "<li>We can use '*' operator if we want to repeat the elements of a list for <b>n</b> number of times.</li>\n",
    "<li>insert(): It inserts the element before the given index.</li>\n",
    "    \n",
    "**<li>While inserting into a list, you must specify index position as a first parameter and then value as another parameter.</li>**\n",
    "    \n",
    "<li>append(): It append the elements to the end of the list.</li>\n",
    "<li>extend(): It extends the list by appending elements from the iterable.</li>\n",
    "</ol>"
   ]
  },
  {
   "cell_type": "code",
   "execution_count": 23,
   "id": "b8b0fad8",
   "metadata": {},
   "outputs": [
    {
     "name": "stdout",
     "output_type": "stream",
     "text": [
      "<class 'list'>\n",
      "<class 'list'>\n"
     ]
    }
   ],
   "source": [
    "w = [1, 2, 3]\n",
    "x = [4, 5, 6]\n",
    "print(type(w))\n",
    "print(type(x))"
   ]
  },
  {
   "cell_type": "code",
   "execution_count": 25,
   "id": "e40431b4",
   "metadata": {},
   "outputs": [
    {
     "data": {
      "text/plain": [
       "[4, 5, 6, 1, 2, 3]"
      ]
     },
     "execution_count": 25,
     "metadata": {},
     "output_type": "execute_result"
    }
   ],
   "source": [
    "x + w"
   ]
  },
  {
   "cell_type": "code",
   "execution_count": 26,
   "id": "7e00372e",
   "metadata": {},
   "outputs": [
    {
     "data": {
      "text/plain": [
       "['apple', 'ball', 'apple', 'ball']"
      ]
     },
     "execution_count": 26,
     "metadata": {},
     "output_type": "execute_result"
    }
   ],
   "source": [
    "y = [\"apple\", \"ball\"]\n",
    "y*2"
   ]
  },
  {
   "cell_type": "code",
   "execution_count": 27,
   "id": "8c7e152f",
   "metadata": {},
   "outputs": [],
   "source": [
    "y.insert(2, \"cat\")"
   ]
  },
  {
   "cell_type": "code",
   "execution_count": 28,
   "id": "dab22221",
   "metadata": {},
   "outputs": [
    {
     "data": {
      "text/plain": [
       "['apple', 'ball', 'cat']"
      ]
     },
     "execution_count": 28,
     "metadata": {},
     "output_type": "execute_result"
    }
   ],
   "source": [
    "y"
   ]
  },
  {
   "cell_type": "code",
   "execution_count": 29,
   "id": "3fe5380c",
   "metadata": {},
   "outputs": [],
   "source": [
    "y.insert(1, \"arrow\")"
   ]
  },
  {
   "cell_type": "code",
   "execution_count": 30,
   "id": "cdcf522c",
   "metadata": {},
   "outputs": [
    {
     "data": {
      "text/plain": [
       "['apple', 'arrow', 'ball', 'cat']"
      ]
     },
     "execution_count": 30,
     "metadata": {},
     "output_type": "execute_result"
    }
   ],
   "source": [
    "y"
   ]
  },
  {
   "cell_type": "code",
   "execution_count": 31,
   "id": "1e741f56",
   "metadata": {},
   "outputs": [],
   "source": [
    "y.append('cow')"
   ]
  },
  {
   "cell_type": "code",
   "execution_count": 32,
   "id": "ad463b6b",
   "metadata": {},
   "outputs": [
    {
     "data": {
      "text/plain": [
       "['apple', 'arrow', 'ball', 'cat', 'cow']"
      ]
     },
     "execution_count": 32,
     "metadata": {},
     "output_type": "execute_result"
    }
   ],
   "source": [
    "y"
   ]
  },
  {
   "cell_type": "code",
   "execution_count": 33,
   "id": "ca919adb",
   "metadata": {},
   "outputs": [
    {
     "data": {
      "text/plain": [
       "[4, 5, 6]"
      ]
     },
     "execution_count": 33,
     "metadata": {},
     "output_type": "execute_result"
    }
   ],
   "source": [
    "x"
   ]
  },
  {
   "cell_type": "code",
   "execution_count": 34,
   "id": "7e3a2225",
   "metadata": {},
   "outputs": [],
   "source": [
    "y.extend(x)"
   ]
  },
  {
   "cell_type": "code",
   "execution_count": 35,
   "id": "d4e27763",
   "metadata": {},
   "outputs": [
    {
     "data": {
      "text/plain": [
       "['apple', 'arrow', 'ball', 'cat', 'cow', 4, 5, 6]"
      ]
     },
     "execution_count": 35,
     "metadata": {},
     "output_type": "execute_result"
    }
   ],
   "source": [
    "y"
   ]
  },
  {
   "cell_type": "markdown",
   "id": "ee940c55",
   "metadata": {},
   "source": [
    "#### How To Delete Elements From A List\n",
    "<ol>\n",
    "    <li>remove(): It removes the elements based on the values of an element.</li>\n",
    "    <li>pop(): It removes the elements based on the index value of an element.</li>\n",
    "    <li>del[]: It also removes the elements based on the index value of an element.</li>\n",
    "    <li>clear(): delete all elements from a list and make them empty</li>\n",
    "</ol>"
   ]
  },
  {
   "cell_type": "code",
   "execution_count": 36,
   "id": "65b9a468",
   "metadata": {},
   "outputs": [],
   "source": [
    "y.remove(\"cow\")"
   ]
  },
  {
   "cell_type": "code",
   "execution_count": 37,
   "id": "f16f0b26",
   "metadata": {},
   "outputs": [
    {
     "data": {
      "text/plain": [
       "['apple', 'arrow', 'ball', 'cat', 4, 5, 6]"
      ]
     },
     "execution_count": 37,
     "metadata": {},
     "output_type": "execute_result"
    }
   ],
   "source": [
    "y"
   ]
  },
  {
   "cell_type": "code",
   "execution_count": 38,
   "id": "4857307c",
   "metadata": {},
   "outputs": [
    {
     "data": {
      "text/plain": [
       "'arrow'"
      ]
     },
     "execution_count": 38,
     "metadata": {},
     "output_type": "execute_result"
    }
   ],
   "source": [
    "y.pop(1)"
   ]
  },
  {
   "cell_type": "code",
   "execution_count": 39,
   "id": "65e7f4f3",
   "metadata": {},
   "outputs": [
    {
     "data": {
      "text/plain": [
       "['apple', 'ball', 'cat', 4, 5, 6]"
      ]
     },
     "execution_count": 39,
     "metadata": {},
     "output_type": "execute_result"
    }
   ],
   "source": [
    "y"
   ]
  },
  {
   "cell_type": "code",
   "execution_count": 40,
   "id": "9ab56f98",
   "metadata": {},
   "outputs": [],
   "source": [
    "del y[3]"
   ]
  },
  {
   "cell_type": "code",
   "execution_count": 41,
   "id": "0fc8775a",
   "metadata": {},
   "outputs": [
    {
     "data": {
      "text/plain": [
       "['apple', 'ball', 'cat', 5, 6]"
      ]
     },
     "execution_count": 41,
     "metadata": {},
     "output_type": "execute_result"
    }
   ],
   "source": [
    "y"
   ]
  },
  {
   "cell_type": "code",
   "execution_count": 42,
   "id": "4cf9b712",
   "metadata": {},
   "outputs": [],
   "source": [
    "y.clear()"
   ]
  },
  {
   "cell_type": "code",
   "execution_count": 43,
   "id": "63725ee9",
   "metadata": {},
   "outputs": [
    {
     "data": {
      "text/plain": [
       "[]"
      ]
     },
     "execution_count": 43,
     "metadata": {},
     "output_type": "execute_result"
    }
   ],
   "source": [
    "y"
   ]
  },
  {
   "cell_type": "markdown",
   "id": "66ecdf0f",
   "metadata": {},
   "source": [
    "#### Tuples\n",
    "\n",
    "<li>Tuples are used to store multiple items in a single variable.</li>\n",
    "\n",
    "<li>Tuples are written with round brackets.</li>\n",
    "\n",
    "\n",
    "<li>Tuple items are indexed, the first item has index [0], the second item has index [1] etc.</li>\n",
    "\n",
    "<li>Tuples are ordered, unchangeable, and allow duplicate values.</li>\n",
    "\n",
    "<li>When we say that tuples are ordered, it means that the items have a defined order, and that order will not change.</li>\n",
    "\n",
    "<li>Tuples are unchangeable, meaning that we cannot change, add or remove items after the tuple has been created.</li>\n",
    "\n",
    "<li>Since tuples are indexed, they can have items with the same value.</li>\n",
    "\n"
   ]
  },
  {
   "cell_type": "code",
   "execution_count": 44,
   "id": "a478072e",
   "metadata": {},
   "outputs": [],
   "source": [
    "tuple1 = (1, 6, 9)"
   ]
  },
  {
   "cell_type": "code",
   "execution_count": 46,
   "id": "92381444",
   "metadata": {},
   "outputs": [
    {
     "name": "stdout",
     "output_type": "stream",
     "text": [
      "(1, 6, 9)\n",
      "<class 'tuple'>\n"
     ]
    }
   ],
   "source": [
    "print(tuple1)\n",
    "print(type(tuple1))"
   ]
  },
  {
   "cell_type": "code",
   "execution_count": 47,
   "id": "94d1b978",
   "metadata": {},
   "outputs": [
    {
     "data": {
      "text/plain": [
       "1"
      ]
     },
     "execution_count": 47,
     "metadata": {},
     "output_type": "execute_result"
    }
   ],
   "source": [
    "tuple1[0]"
   ]
  },
  {
   "cell_type": "code",
   "execution_count": 48,
   "id": "e2e938ba",
   "metadata": {},
   "outputs": [
    {
     "data": {
      "text/plain": [
       "9"
      ]
     },
     "execution_count": 48,
     "metadata": {},
     "output_type": "execute_result"
    }
   ],
   "source": [
    "tuple1[-1]"
   ]
  },
  {
   "cell_type": "code",
   "execution_count": 49,
   "id": "56c392cf",
   "metadata": {},
   "outputs": [
    {
     "data": {
      "text/plain": [
       "6"
      ]
     },
     "execution_count": 49,
     "metadata": {},
     "output_type": "execute_result"
    }
   ],
   "source": [
    "tuple1[1]"
   ]
  },
  {
   "cell_type": "code",
   "execution_count": 50,
   "id": "9aaf9b70",
   "metadata": {},
   "outputs": [
    {
     "data": {
      "text/plain": [
       "(1, 6)"
      ]
     },
     "execution_count": 50,
     "metadata": {},
     "output_type": "execute_result"
    }
   ],
   "source": [
    "tuple1[0:2]"
   ]
  },
  {
   "cell_type": "code",
   "execution_count": 53,
   "id": "6e48cf74",
   "metadata": {},
   "outputs": [
    {
     "ename": "TypeError",
     "evalue": "'tuple' object does not support item assignment",
     "output_type": "error",
     "traceback": [
      "\u001b[1;31m---------------------------------------------------------------------------\u001b[0m",
      "\u001b[1;31mTypeError\u001b[0m                                 Traceback (most recent call last)",
      "Cell \u001b[1;32mIn[53], line 1\u001b[0m\n\u001b[1;32m----> 1\u001b[0m \u001b[43mtuple1\u001b[49m\u001b[43m[\u001b[49m\u001b[38;5;241;43m0\u001b[39;49m\u001b[43m]\u001b[49m \u001b[38;5;241m=\u001b[39m\u001b[38;5;241m2\u001b[39m\n",
      "\u001b[1;31mTypeError\u001b[0m: 'tuple' object does not support item assignment"
     ]
    }
   ],
   "source": [
    "tuple1[0] =2"
   ]
  },
  {
   "cell_type": "code",
   "execution_count": 55,
   "id": "0d8f9619",
   "metadata": {},
   "outputs": [
    {
     "name": "stdout",
     "output_type": "stream",
     "text": [
      "[1, 6, 9]\n",
      "<class 'list'>\n"
     ]
    }
   ],
   "source": [
    "list1 = list(tuple1)\n",
    "print(list1)\n",
    "print(type(list1))"
   ]
  },
  {
   "cell_type": "code",
   "execution_count": 56,
   "id": "41ebb755",
   "metadata": {},
   "outputs": [
    {
     "data": {
      "text/plain": [
       "[2, 6, 9]"
      ]
     },
     "execution_count": 56,
     "metadata": {},
     "output_type": "execute_result"
    }
   ],
   "source": [
    "list1[0] = 2\n",
    "list1"
   ]
  },
  {
   "cell_type": "code",
   "execution_count": 57,
   "id": "6c34b98c",
   "metadata": {},
   "outputs": [
    {
     "name": "stdout",
     "output_type": "stream",
     "text": [
      "(2, 6, 9)\n",
      "<class 'tuple'>\n"
     ]
    }
   ],
   "source": [
    "tuple1 = tuple(list1)\n",
    "print(tuple1)\n",
    "print(type(tuple1))"
   ]
  },
  {
   "cell_type": "markdown",
   "id": "aa409670",
   "metadata": {},
   "source": [
    "### How to add new elements to a tuple\n",
    "<li>Tuples are immutable data structures in Python, so we can not add or delete the items from the tuples created in Python like lists there is no append() or extend() function.</li> \n",
    "<li>We can add new elements to a tuple by using a '+' operator.</li>\n",
    "<li>For adding multiple elements in a tuple, we can convert a tuple to a list for adding more than one items.</li>\n"
   ]
  },
  {
   "cell_type": "code",
   "execution_count": 59,
   "id": "ac4e8616",
   "metadata": {},
   "outputs": [
    {
     "data": {
      "text/plain": [
       "(1, 2, 3, 4)"
      ]
     },
     "execution_count": 59,
     "metadata": {},
     "output_type": "execute_result"
    }
   ],
   "source": [
    "(1, 2, 3) + (4,)"
   ]
  },
  {
   "cell_type": "code",
   "execution_count": 60,
   "id": "81c37959",
   "metadata": {},
   "outputs": [],
   "source": [
    "tuple1 = (1, 2, 3)\n",
    "tuple2 = (4, 5, 6)"
   ]
  },
  {
   "cell_type": "code",
   "execution_count": 61,
   "id": "b96bf9a9",
   "metadata": {},
   "outputs": [
    {
     "data": {
      "text/plain": [
       "(1, 2, 3, 4, 5, 6)"
      ]
     },
     "execution_count": 61,
     "metadata": {},
     "output_type": "execute_result"
    }
   ],
   "source": [
    "tuple1 + tuple2"
   ]
  },
  {
   "cell_type": "markdown",
   "id": "b3392fdd",
   "metadata": {},
   "source": [
    "#### How To Delete Element From A Tuple"
   ]
  },
  {
   "cell_type": "code",
   "execution_count": 62,
   "id": "40626c85",
   "metadata": {},
   "outputs": [
    {
     "data": {
      "text/plain": [
       "(1, 2, 3)"
      ]
     },
     "execution_count": 62,
     "metadata": {},
     "output_type": "execute_result"
    }
   ],
   "source": [
    "tuple1"
   ]
  },
  {
   "cell_type": "code",
   "execution_count": 63,
   "id": "affb43d5",
   "metadata": {},
   "outputs": [],
   "source": [
    "del tuple1"
   ]
  },
  {
   "cell_type": "code",
   "execution_count": 64,
   "id": "e305ef68",
   "metadata": {},
   "outputs": [
    {
     "ename": "NameError",
     "evalue": "name 'tuple1' is not defined",
     "output_type": "error",
     "traceback": [
      "\u001b[1;31m---------------------------------------------------------------------------\u001b[0m",
      "\u001b[1;31mNameError\u001b[0m                                 Traceback (most recent call last)",
      "Cell \u001b[1;32mIn[64], line 1\u001b[0m\n\u001b[1;32m----> 1\u001b[0m \u001b[43mtuple1\u001b[49m\n",
      "\u001b[1;31mNameError\u001b[0m: name 'tuple1' is not defined"
     ]
    }
   ],
   "source": [
    "tuple1"
   ]
  },
  {
   "cell_type": "markdown",
   "id": "96418dc0",
   "metadata": {},
   "source": [
    "#### Set & ItsOperations\n",
    "\n",
    "<ol>\n",
    "<li><b>Insertion</b> : We can add new elements in a set by using <b>add()</b> method.Insertion in set is done through <b>set.add()</b> function.</li>\n",
    "    <li><b>Union</b> : Two sets can be merged using <b>union()</b> function or <b>|</b> operator. This operation combines the elements of two sets and removes the duplicate elements since duplication is not allowed in a set.</li>\n",
    "<li><b>Intersection</b>: This operation can be done through intersection() or & operator. Common Elements are selected.</li>\n",
    "<li><b>Set Difference</b>: To find difference in between sets, this can be done through difference() or – operator.</li>\n",
    "<li><b>Clear:</b>: Set <b>clear()</b> method empties the whole set inplace.</b>\n",
    "</ol>\n"
   ]
  },
  {
   "cell_type": "code",
   "execution_count": 65,
   "id": "ea11afe0",
   "metadata": {},
   "outputs": [
    {
     "name": "stdout",
     "output_type": "stream",
     "text": [
      "<class 'set'>\n",
      "{1, 2, 3, 4, 5}\n"
     ]
    }
   ],
   "source": [
    "set1 = {1, 2, 3, 4, 5}\n",
    "print(type(set1))\n",
    "print(set1)"
   ]
  },
  {
   "cell_type": "code",
   "execution_count": 67,
   "id": "0ef2a98a",
   "metadata": {},
   "outputs": [],
   "source": [
    "set1.add(7)"
   ]
  },
  {
   "cell_type": "code",
   "execution_count": 68,
   "id": "f621dafa",
   "metadata": {},
   "outputs": [
    {
     "data": {
      "text/plain": [
       "{1, 2, 3, 4, 5, 7}"
      ]
     },
     "execution_count": 68,
     "metadata": {},
     "output_type": "execute_result"
    }
   ],
   "source": [
    "set1"
   ]
  },
  {
   "cell_type": "code",
   "execution_count": 69,
   "id": "506f30ac",
   "metadata": {},
   "outputs": [],
   "source": [
    "set2 = {2, 4, 6, 8, 10}"
   ]
  },
  {
   "cell_type": "code",
   "execution_count": 70,
   "id": "d7c2d003",
   "metadata": {},
   "outputs": [
    {
     "data": {
      "text/plain": [
       "{1, 2, 3, 4, 5, 6, 7, 8, 10}"
      ]
     },
     "execution_count": 70,
     "metadata": {},
     "output_type": "execute_result"
    }
   ],
   "source": [
    "set1 | set2"
   ]
  },
  {
   "cell_type": "code",
   "execution_count": 71,
   "id": "1f3b8a53",
   "metadata": {},
   "outputs": [
    {
     "data": {
      "text/plain": [
       "{2, 4}"
      ]
     },
     "execution_count": 71,
     "metadata": {},
     "output_type": "execute_result"
    }
   ],
   "source": [
    "set1 & set2"
   ]
  },
  {
   "cell_type": "code",
   "execution_count": 72,
   "id": "06f7dc8e",
   "metadata": {},
   "outputs": [
    {
     "data": {
      "text/plain": [
       "{1, 3, 5, 7}"
      ]
     },
     "execution_count": 72,
     "metadata": {},
     "output_type": "execute_result"
    }
   ],
   "source": [
    "set1 - set2"
   ]
  },
  {
   "cell_type": "code",
   "execution_count": 73,
   "id": "4de75d34",
   "metadata": {},
   "outputs": [
    {
     "data": {
      "text/plain": [
       "{6, 8, 10}"
      ]
     },
     "execution_count": 73,
     "metadata": {},
     "output_type": "execute_result"
    }
   ],
   "source": [
    "set2 - set1"
   ]
  },
  {
   "cell_type": "code",
   "execution_count": 75,
   "id": "50c1744d",
   "metadata": {},
   "outputs": [],
   "source": [
    "set1.clear()"
   ]
  },
  {
   "cell_type": "code",
   "execution_count": 76,
   "id": "ec76282b",
   "metadata": {},
   "outputs": [
    {
     "data": {
      "text/plain": [
       "set()"
      ]
     },
     "execution_count": 76,
     "metadata": {},
     "output_type": "execute_result"
    }
   ],
   "source": [
    "set1"
   ]
  },
  {
   "cell_type": "markdown",
   "id": "9b0fca41",
   "metadata": {},
   "source": [
    "#### Dictionary\n",
    "\n",
    "<li>A dictionary is a collection which is ordered, changeable and do not allow duplicates.</li>\n",
    "<li>A dictionary is a collection of keys values, used to store data values.</li>\n",
    "<li>In Python, a dictionary can be created by placing a sequence of elements within curly {} braces, separated by ‘comma’.</li>\n",
    "<li>Dictionary holds pairs of values, one being the Key and the other is value associated with a particular key.</li> \n",
    "<li>Values in a dictionary can be of any data type and can be duplicated, whereas keys can’t be repeated and must be immutable.</li>\n",
    "<li>Dictionary keys are case sensitive, the same name but different cases of Key will be treated differently.</li> "
   ]
  },
  {
   "cell_type": "code",
   "execution_count": 1,
   "id": "9c40a7d5",
   "metadata": {},
   "outputs": [],
   "source": [
    "dict1 = {\"name\": \"Prabhat\", \"address\": \"manigram\", \"age\": 32,\n",
    "        \"weight\": 69.6}"
   ]
  },
  {
   "cell_type": "code",
   "execution_count": 3,
   "id": "d7885267",
   "metadata": {},
   "outputs": [
    {
     "name": "stdout",
     "output_type": "stream",
     "text": [
      "{'name': 'Prabhat', 'address': 'manigram', 'age': 32, 'weight': 69.6}\n",
      "<class 'dict'>\n"
     ]
    }
   ],
   "source": [
    "print(dict1)\n",
    "print(type(dict1))"
   ]
  },
  {
   "cell_type": "code",
   "execution_count": 4,
   "id": "7dba2cf1",
   "metadata": {},
   "outputs": [],
   "source": [
    "dict1 = {\"name\": \"Prabhat\", \"address\": \"manigram\", \"age\": 32,\n",
    "        \"weight\": 69.6, \"name\": \"Saurav\"}"
   ]
  },
  {
   "cell_type": "code",
   "execution_count": 5,
   "id": "54500307",
   "metadata": {},
   "outputs": [
    {
     "name": "stdout",
     "output_type": "stream",
     "text": [
      "{'name': 'Saurav', 'address': 'manigram', 'age': 32, 'weight': 69.6}\n",
      "<class 'dict'>\n"
     ]
    }
   ],
   "source": [
    "print(dict1)\n",
    "print(type(dict1))"
   ]
  },
  {
   "cell_type": "code",
   "execution_count": 6,
   "id": "d5d5b73e",
   "metadata": {},
   "outputs": [],
   "source": [
    "dict2 = {\"name\": [\"Prabhat\", \"Saurav\"], \"address\": [\"Manigram\", \"Bardaghat\"],\n",
    "        \"age\": [32, 23], \"weight\": [69.2, 56,8]}"
   ]
  },
  {
   "cell_type": "code",
   "execution_count": 7,
   "id": "8095c9ba",
   "metadata": {},
   "outputs": [
    {
     "data": {
      "text/plain": [
       "{'name': ['Prabhat', 'Saurav'],\n",
       " 'address': ['Manigram', 'Bardaghat'],\n",
       " 'age': [32, 23],\n",
       " 'weight': [69.2, 56, 8]}"
      ]
     },
     "execution_count": 7,
     "metadata": {},
     "output_type": "execute_result"
    }
   ],
   "source": [
    "dict2"
   ]
  },
  {
   "cell_type": "code",
   "execution_count": 10,
   "id": "6c3c5143",
   "metadata": {},
   "outputs": [],
   "source": [
    "dict3 = {\"name\": {\"fname\": \"Prabhat\", \"lname\": \"Ale\"},\n",
    "        \"address\": {\"city\": \"Butwal\", \"municipality\": \"Tilottama\"},\n",
    "        \"age\": {\"dob\": \"2049/12/15\", \"years\": 30}}"
   ]
  },
  {
   "cell_type": "code",
   "execution_count": 11,
   "id": "5b17fdd0",
   "metadata": {},
   "outputs": [
    {
     "data": {
      "text/plain": [
       "{'name': {'fname': 'Prabhat', 'lname': 'Ale'},\n",
       " 'address': {'city': 'Butwal', 'municipality': 'Tilottama'},\n",
       " 'age': {'dob': '2049/12/15', 'years': 30}}"
      ]
     },
     "execution_count": 11,
     "metadata": {},
     "output_type": "execute_result"
    }
   ],
   "source": [
    "dict3"
   ]
  },
  {
   "cell_type": "code",
   "execution_count": 12,
   "id": "aacabc18",
   "metadata": {},
   "outputs": [
    {
     "data": {
      "text/plain": [
       "{'string': 'prabhat', 1: 'integer', 3.5: 'float'}"
      ]
     },
     "execution_count": 12,
     "metadata": {},
     "output_type": "execute_result"
    }
   ],
   "source": [
    "dict4 = {\"string\": \"prabhat\", 1:\"integer\", 3.5: \"float\"}\n",
    "dict4"
   ]
  },
  {
   "cell_type": "code",
   "execution_count": 14,
   "id": "df1381cd",
   "metadata": {
    "scrolled": true
   },
   "outputs": [
    {
     "ename": "TypeError",
     "evalue": "unhashable type: 'dict'",
     "output_type": "error",
     "traceback": [
      "\u001b[1;31m---------------------------------------------------------------------------\u001b[0m",
      "\u001b[1;31mTypeError\u001b[0m                                 Traceback (most recent call last)",
      "Cell \u001b[1;32mIn[14], line 1\u001b[0m\n\u001b[1;32m----> 1\u001b[0m dict5 \u001b[38;5;241m=\u001b[39m {\u001b[38;5;124m\"\u001b[39m\u001b[38;5;124mstring\u001b[39m\u001b[38;5;124m\"\u001b[39m: \u001b[38;5;124m\"\u001b[39m\u001b[38;5;124mprabhat\u001b[39m\u001b[38;5;124m\"\u001b[39m, \u001b[38;5;241m1\u001b[39m:\u001b[38;5;124m\"\u001b[39m\u001b[38;5;124minteger\u001b[39m\u001b[38;5;124m\"\u001b[39m, \u001b[38;5;241m3.5\u001b[39m: \u001b[38;5;124m\"\u001b[39m\u001b[38;5;124mfloat\u001b[39m\u001b[38;5;124m\"\u001b[39m,\n\u001b[0;32m      2\u001b[0m         {\u001b[38;5;124m\"\u001b[39m\u001b[38;5;124maddress\u001b[39m\u001b[38;5;124m\"\u001b[39m: \u001b[38;5;124m\"\u001b[39m\u001b[38;5;124mmanigram\u001b[39m\u001b[38;5;124m\"\u001b[39m}: \u001b[38;5;124m\"\u001b[39m\u001b[38;5;124mdictionary\u001b[39m\u001b[38;5;124m\"\u001b[39m}\n",
      "\u001b[1;31mTypeError\u001b[0m: unhashable type: 'dict'"
     ]
    }
   ],
   "source": [
    "dict5 = {\"string\": \"prabhat\", 1:\"integer\", 3.5: \"float\",\n",
    "        {\"address\": \"manigram\"}: \"dictionary\"}\n"
   ]
  },
  {
   "cell_type": "code",
   "execution_count": 17,
   "id": "75c713e1",
   "metadata": {},
   "outputs": [
    {
     "data": {
      "text/plain": [
       "{'name': 'Saurav', 'address': 'manigram', 'age': 32, 'weight': 69.6}"
      ]
     },
     "execution_count": 17,
     "metadata": {},
     "output_type": "execute_result"
    }
   ],
   "source": [
    "dict1"
   ]
  },
  {
   "cell_type": "code",
   "execution_count": 18,
   "id": "fd0ece0f",
   "metadata": {},
   "outputs": [
    {
     "data": {
      "text/plain": [
       "'Saurav'"
      ]
     },
     "execution_count": 18,
     "metadata": {},
     "output_type": "execute_result"
    }
   ],
   "source": [
    "dict1['name']"
   ]
  },
  {
   "cell_type": "code",
   "execution_count": 19,
   "id": "acc8484e",
   "metadata": {
    "scrolled": true
   },
   "outputs": [
    {
     "data": {
      "text/plain": [
       "69.6"
      ]
     },
     "execution_count": 19,
     "metadata": {},
     "output_type": "execute_result"
    }
   ],
   "source": [
    "dict1['weight']"
   ]
  },
  {
   "cell_type": "code",
   "execution_count": 23,
   "id": "75a5e14a",
   "metadata": {},
   "outputs": [
    {
     "data": {
      "text/plain": [
       "{'name': {'fname': 'Prabhat', 'lname': 'Ale'},\n",
       " 'address': {'city': 'Butwal', 'municipality': 'Tilottama'},\n",
       " 'age': {'dob': '2049/12/15', 'years': 30}}"
      ]
     },
     "execution_count": 23,
     "metadata": {},
     "output_type": "execute_result"
    }
   ],
   "source": [
    "dict3"
   ]
  },
  {
   "cell_type": "code",
   "execution_count": 26,
   "id": "06f20023",
   "metadata": {},
   "outputs": [
    {
     "data": {
      "text/plain": [
       "3"
      ]
     },
     "execution_count": 26,
     "metadata": {},
     "output_type": "execute_result"
    }
   ],
   "source": [
    "len(dict3)"
   ]
  },
  {
   "cell_type": "code",
   "execution_count": 25,
   "id": "1d3e136f",
   "metadata": {},
   "outputs": [
    {
     "data": {
      "text/plain": [
       "'2049/12/15'"
      ]
     },
     "execution_count": 25,
     "metadata": {},
     "output_type": "execute_result"
    }
   ],
   "source": [
    "dict3['age']['dob']"
   ]
  },
  {
   "cell_type": "code",
   "execution_count": null,
   "id": "d54c593a",
   "metadata": {},
   "outputs": [],
   "source": []
  },
  {
   "cell_type": "markdown",
   "id": "19aea0e7",
   "metadata": {},
   "source": [
    "#### Dictionary Methods\n",
    "<ol>\n",
    "    <li>clear() – Remove all the elements from the dictionary</li>\n",
    "    <li>copy() – Returns a copy of the dictionary</li>\n",
    "    <li>get() – Returns the value of specified key</li>\n",
    "    <li>items() – Returns a list containing a tuple for each key value pair</li>\n",
    "    <li>keys() – Returns a list containing dictionary’s keys</li>\n",
    "    <li>pop() – Remove the element with specified key</li>\n",
    "    <li>popitem() – Removes the last inserted key-value pair.</li>\n",
    "    <li>update() – Updates dictionary with specified key-value pairs</li>\n",
    "    <li>values() – Returns a list of all the values of dictionary.</li>\n",
    "</ol>"
   ]
  },
  {
   "cell_type": "code",
   "execution_count": 28,
   "id": "092d61ae",
   "metadata": {},
   "outputs": [],
   "source": [
    "dict2 = dict1.copy()"
   ]
  },
  {
   "cell_type": "code",
   "execution_count": 29,
   "id": "56e1d85f",
   "metadata": {},
   "outputs": [
    {
     "data": {
      "text/plain": [
       "{'name': 'Saurav', 'address': 'manigram', 'age': 32, 'weight': 69.6}"
      ]
     },
     "execution_count": 29,
     "metadata": {},
     "output_type": "execute_result"
    }
   ],
   "source": [
    "dict2"
   ]
  },
  {
   "cell_type": "code",
   "execution_count": 30,
   "id": "e7584708",
   "metadata": {},
   "outputs": [],
   "source": [
    "dict1.clear()"
   ]
  },
  {
   "cell_type": "code",
   "execution_count": 31,
   "id": "d65af005",
   "metadata": {},
   "outputs": [
    {
     "data": {
      "text/plain": [
       "{}"
      ]
     },
     "execution_count": 31,
     "metadata": {},
     "output_type": "execute_result"
    }
   ],
   "source": [
    "dict1"
   ]
  },
  {
   "cell_type": "code",
   "execution_count": 33,
   "id": "dd5b8179",
   "metadata": {},
   "outputs": [
    {
     "data": {
      "text/plain": [
       "'manigram'"
      ]
     },
     "execution_count": 33,
     "metadata": {},
     "output_type": "execute_result"
    }
   ],
   "source": [
    "dict2['address']"
   ]
  },
  {
   "cell_type": "code",
   "execution_count": 34,
   "id": "d431a686",
   "metadata": {},
   "outputs": [
    {
     "data": {
      "text/plain": [
       "'manigram'"
      ]
     },
     "execution_count": 34,
     "metadata": {},
     "output_type": "execute_result"
    }
   ],
   "source": [
    "dict2.get('address')"
   ]
  },
  {
   "cell_type": "code",
   "execution_count": 35,
   "id": "9fb31798",
   "metadata": {},
   "outputs": [
    {
     "data": {
      "text/plain": [
       "dict_items([('name', 'Saurav'), ('address', 'manigram'), ('age', 32), ('weight', 69.6)])"
      ]
     },
     "execution_count": 35,
     "metadata": {},
     "output_type": "execute_result"
    }
   ],
   "source": [
    "dict2.items()"
   ]
  },
  {
   "cell_type": "code",
   "execution_count": 36,
   "id": "85cafb89",
   "metadata": {},
   "outputs": [
    {
     "data": {
      "text/plain": [
       "dict_keys(['name', 'address', 'age', 'weight'])"
      ]
     },
     "execution_count": 36,
     "metadata": {},
     "output_type": "execute_result"
    }
   ],
   "source": [
    "dict2.keys()"
   ]
  },
  {
   "cell_type": "code",
   "execution_count": 37,
   "id": "c44630fb",
   "metadata": {},
   "outputs": [
    {
     "data": {
      "text/plain": [
       "dict_values(['Saurav', 'manigram', 32, 69.6])"
      ]
     },
     "execution_count": 37,
     "metadata": {},
     "output_type": "execute_result"
    }
   ],
   "source": [
    "dict2.values()"
   ]
  },
  {
   "cell_type": "code",
   "execution_count": 38,
   "id": "b187ab99",
   "metadata": {},
   "outputs": [
    {
     "data": {
      "text/plain": [
       "{'name': 'Saurav', 'address': 'manigram', 'age': 32, 'weight': 69.6}"
      ]
     },
     "execution_count": 38,
     "metadata": {},
     "output_type": "execute_result"
    }
   ],
   "source": [
    "dict2"
   ]
  },
  {
   "cell_type": "code",
   "execution_count": 39,
   "id": "6286b0b7",
   "metadata": {},
   "outputs": [
    {
     "data": {
      "text/plain": [
       "32"
      ]
     },
     "execution_count": 39,
     "metadata": {},
     "output_type": "execute_result"
    }
   ],
   "source": [
    "dict2.pop('age')"
   ]
  },
  {
   "cell_type": "code",
   "execution_count": 40,
   "id": "3d78ec19",
   "metadata": {},
   "outputs": [
    {
     "data": {
      "text/plain": [
       "{'name': 'Saurav', 'address': 'manigram', 'weight': 69.6}"
      ]
     },
     "execution_count": 40,
     "metadata": {},
     "output_type": "execute_result"
    }
   ],
   "source": [
    "dict2"
   ]
  },
  {
   "cell_type": "code",
   "execution_count": 41,
   "id": "e061bcf2",
   "metadata": {},
   "outputs": [
    {
     "data": {
      "text/plain": [
       "('weight', 69.6)"
      ]
     },
     "execution_count": 41,
     "metadata": {},
     "output_type": "execute_result"
    }
   ],
   "source": [
    "dict2.popitem()"
   ]
  },
  {
   "cell_type": "code",
   "execution_count": 42,
   "id": "860173de",
   "metadata": {},
   "outputs": [
    {
     "data": {
      "text/plain": [
       "{'name': 'Saurav', 'address': 'manigram'}"
      ]
     },
     "execution_count": 42,
     "metadata": {},
     "output_type": "execute_result"
    }
   ],
   "source": [
    "dict2"
   ]
  },
  {
   "cell_type": "code",
   "execution_count": 44,
   "id": "00ad5a29",
   "metadata": {},
   "outputs": [],
   "source": [
    "dict2['name'] = \"Prabhat\""
   ]
  },
  {
   "cell_type": "code",
   "execution_count": 45,
   "id": "bbc7026a",
   "metadata": {},
   "outputs": [
    {
     "data": {
      "text/plain": [
       "{'name': 'Prabhat', 'address': 'manigram'}"
      ]
     },
     "execution_count": 45,
     "metadata": {},
     "output_type": "execute_result"
    }
   ],
   "source": [
    "dict2"
   ]
  },
  {
   "cell_type": "code",
   "execution_count": 46,
   "id": "d5abc9b8",
   "metadata": {},
   "outputs": [],
   "source": [
    "dict2.update({'address': \"Divertole\"})"
   ]
  },
  {
   "cell_type": "code",
   "execution_count": 47,
   "id": "e79e476a",
   "metadata": {},
   "outputs": [
    {
     "data": {
      "text/plain": [
       "{'name': 'Prabhat', 'address': 'Divertole'}"
      ]
     },
     "execution_count": 47,
     "metadata": {},
     "output_type": "execute_result"
    }
   ],
   "source": [
    "dict2"
   ]
  },
  {
   "cell_type": "markdown",
   "id": "fcd37b45",
   "metadata": {},
   "source": [
    "### Frequency Tables"
   ]
  },
  {
   "cell_type": "code",
   "execution_count": 53,
   "id": "760eddd0",
   "metadata": {},
   "outputs": [],
   "source": [
    "genders = [\"male\", \"female\", \"male\",\"male\", \"male\", \"female\",\"female\"]\n",
    "gender_dict = {\"male\": 0, \"female\": 0}"
   ]
  },
  {
   "cell_type": "code",
   "execution_count": 54,
   "id": "f7e2cc37",
   "metadata": {},
   "outputs": [],
   "source": [
    "for gender in genders:\n",
    "    if gender == \"male\":\n",
    "        gender_dict[\"male\"] += 1\n",
    "    else:\n",
    "        gender_dict[\"female\"] += 1"
   ]
  },
  {
   "cell_type": "code",
   "execution_count": 55,
   "id": "2583c2ea",
   "metadata": {},
   "outputs": [
    {
     "data": {
      "text/plain": [
       "{'male': 4, 'female': 3}"
      ]
     },
     "execution_count": 55,
     "metadata": {},
     "output_type": "execute_result"
    }
   ],
   "source": [
    "gender_dict"
   ]
  },
  {
   "cell_type": "code",
   "execution_count": 48,
   "id": "1888e45d",
   "metadata": {},
   "outputs": [
    {
     "name": "stdout",
     "output_type": "stream",
     "text": [
      "9\n"
     ]
    }
   ],
   "source": [
    "a = 6\n",
    "a = a + 3\n",
    "print(a)"
   ]
  },
  {
   "cell_type": "code",
   "execution_count": 49,
   "id": "fae0153a",
   "metadata": {},
   "outputs": [],
   "source": [
    "b = 6"
   ]
  },
  {
   "cell_type": "code",
   "execution_count": 50,
   "id": "8cfcd2f8",
   "metadata": {},
   "outputs": [],
   "source": [
    "b+=3"
   ]
  },
  {
   "cell_type": "code",
   "execution_count": 51,
   "id": "93cd3384",
   "metadata": {},
   "outputs": [
    {
     "data": {
      "text/plain": [
       "9"
      ]
     },
     "execution_count": 51,
     "metadata": {},
     "output_type": "execute_result"
    }
   ],
   "source": [
    "b"
   ]
  },
  {
   "cell_type": "code",
   "execution_count": 65,
   "id": "60f1ba14",
   "metadata": {},
   "outputs": [],
   "source": [
    "fruits = [\"apple\", \"apple\", \"mango\", \"banana\", \"mango\", \"banana\", \"mango\",\n",
    "         \"apple\"]\n",
    "fruits_dict = {\"apple\": 0, \"banana\": 0, \"mango\": 0}"
   ]
  },
  {
   "cell_type": "code",
   "execution_count": 66,
   "id": "57759f64",
   "metadata": {},
   "outputs": [],
   "source": [
    "for fruit in fruits:\n",
    "    if fruit == \"apple\":\n",
    "        fruits_dict[\"apple\"] += 1\n",
    "    elif fruit == \"banana\":\n",
    "        fruits_dict[\"banana\"] += 1\n",
    "    else:\n",
    "        fruits_dict[\"mango\"] += 1\n",
    "        "
   ]
  },
  {
   "cell_type": "code",
   "execution_count": 67,
   "id": "a41cc9b6",
   "metadata": {},
   "outputs": [
    {
     "data": {
      "text/plain": [
       "{'apple': 3, 'banana': 2, 'mango': 3}"
      ]
     },
     "execution_count": 67,
     "metadata": {},
     "output_type": "execute_result"
    }
   ],
   "source": [
    "fruits_dict"
   ]
  },
  {
   "cell_type": "code",
   "execution_count": 2,
   "id": "b59e4fc7",
   "metadata": {},
   "outputs": [],
   "source": [
    "list1 = [1,2,1,2,4,5,3,4,5,6,4,2,4,6,2,4,6,2,1,1,5,7,8,9,9,8,7,6]"
   ]
  },
  {
   "cell_type": "code",
   "execution_count": 4,
   "id": "3263c711",
   "metadata": {},
   "outputs": [],
   "source": [
    "dict2 = {\"1\": 4, \"2\": 3, \"4\": 5}"
   ]
  },
  {
   "cell_type": "code",
   "execution_count": 6,
   "id": "d4f46740",
   "metadata": {},
   "outputs": [
    {
     "data": {
      "text/plain": [
       "False"
      ]
     },
     "execution_count": 6,
     "metadata": {},
     "output_type": "execute_result"
    }
   ],
   "source": [
    "\"7\" in dict2"
   ]
  },
  {
   "cell_type": "code",
   "execution_count": 7,
   "id": "5fe7ec86",
   "metadata": {},
   "outputs": [],
   "source": [
    "dict1 = {}\n",
    "for item in list1:\n",
    "    if item not in dict1:\n",
    "        dict1[item] = 1\n",
    "    else:\n",
    "        dict1[item] +=1\n",
    "        \n"
   ]
  },
  {
   "cell_type": "code",
   "execution_count": 8,
   "id": "68e978b4",
   "metadata": {},
   "outputs": [
    {
     "data": {
      "text/plain": [
       "{1: 4, 2: 5, 4: 5, 5: 3, 3: 1, 6: 4, 7: 2, 8: 2, 9: 2}"
      ]
     },
     "execution_count": 8,
     "metadata": {},
     "output_type": "execute_result"
    }
   ],
   "source": [
    "dict1"
   ]
  },
  {
   "cell_type": "code",
   "execution_count": 9,
   "id": "4957fc52",
   "metadata": {},
   "outputs": [],
   "source": [
    "fruits_price = {\"apple\": 500, \"dragon_fruit\": 700, \"mango\": 250, \"banana\":100,\n",
    "               \"pineapple\": 180}"
   ]
  },
  {
   "cell_type": "code",
   "execution_count": 16,
   "id": "07664360",
   "metadata": {},
   "outputs": [],
   "source": [
    "for key, value in fruits_price.items():\n",
    "    if value < 200:\n",
    "        fruits_price[key] = 200\n"
   ]
  },
  {
   "cell_type": "code",
   "execution_count": 17,
   "id": "436695c0",
   "metadata": {},
   "outputs": [
    {
     "data": {
      "text/plain": [
       "{'apple': 500,\n",
       " 'dragon_fruit': 700,\n",
       " 'mango': 250,\n",
       " 'banana': 200,\n",
       " 'pineapple': 200}"
      ]
     },
     "execution_count": 17,
     "metadata": {},
     "output_type": "execute_result"
    }
   ],
   "source": [
    "fruits_price"
   ]
  },
  {
   "cell_type": "code",
   "execution_count": 20,
   "id": "246e7bbd",
   "metadata": {},
   "outputs": [],
   "source": [
    "gender = [\"male\", \"male\",\"female\", \"female\",\"male\",\"male\",\"female\"]"
   ]
  },
  {
   "cell_type": "code",
   "execution_count": 18,
   "id": "a2fbd6f3",
   "metadata": {},
   "outputs": [],
   "source": [
    "male_count = 0\n",
    "female_count=0"
   ]
  },
  {
   "cell_type": "code",
   "execution_count": 21,
   "id": "173ace66",
   "metadata": {},
   "outputs": [],
   "source": [
    "for g in gender:\n",
    "    if g == \"male\":\n",
    "        male_count += 1\n",
    "    else:\n",
    "        female_count += 1"
   ]
  },
  {
   "cell_type": "code",
   "execution_count": 22,
   "id": "374f11ba",
   "metadata": {},
   "outputs": [
    {
     "name": "stdout",
     "output_type": "stream",
     "text": [
      "4\n",
      "3\n"
     ]
    }
   ],
   "source": [
    "print(male_count)\n",
    "print(female_count)"
   ]
  },
  {
   "cell_type": "code",
   "execution_count": 23,
   "id": "96d00ba7",
   "metadata": {},
   "outputs": [],
   "source": [
    "list1 = [1,2,1,2,4,5,3,4,5,6,4,2,4,6,2,4,6,2,1,1,5,7,8,9,9,8,7,6]"
   ]
  },
  {
   "cell_type": "code",
   "execution_count": 28,
   "id": "da022c8e",
   "metadata": {},
   "outputs": [],
   "source": [
    "dict1 = {'1-3':0, '4-6': 0, '7-9': 0}\n",
    "for item in list1:\n",
    "    if item >=1 and item <=3:\n",
    "        dict1['1-3'] += 1\n",
    "    elif item > 3 and item <=6:\n",
    "        dict1['4-6'] += 1\n",
    "    else:\n",
    "        dict1['7-9'] += 1"
   ]
  },
  {
   "cell_type": "code",
   "execution_count": 29,
   "id": "b03d8287",
   "metadata": {},
   "outputs": [
    {
     "data": {
      "text/plain": [
       "{'1-3': 10, '4-6': 12, '7-9': 6}"
      ]
     },
     "execution_count": 29,
     "metadata": {},
     "output_type": "execute_result"
    }
   ],
   "source": [
    "dict1"
   ]
  },
  {
   "cell_type": "code",
   "execution_count": null,
   "id": "f4171ea5",
   "metadata": {},
   "outputs": [],
   "source": [
    "country_list = [\"nepal_asia\", \"japan_asia\",\"germany_europe\", \n",
    "                \"australia_australia\", \"france_europe\", \n",
    "                \"argentina_south_america\", \"canada_north_america\",\n",
    "               \"portugal_europe\", \"india_asia\", \"brazil_south_america\"]"
   ]
  },
  {
   "cell_type": "markdown",
   "id": "a283e8b4",
   "metadata": {},
   "source": [
    "### While Loop"
   ]
  },
  {
   "cell_type": "code",
   "execution_count": 30,
   "id": "874897c9",
   "metadata": {},
   "outputs": [
    {
     "name": "stdout",
     "output_type": "stream",
     "text": [
      "0\n",
      "1\n",
      "2\n",
      "3\n",
      "4\n",
      "5\n",
      "6\n",
      "7\n",
      "8\n",
      "9\n"
     ]
    }
   ],
   "source": [
    "i = 0\n",
    "while i < 10:\n",
    "    print(i)\n",
    "    i += 1"
   ]
  },
  {
   "cell_type": "code",
   "execution_count": 32,
   "id": "25b0833b",
   "metadata": {},
   "outputs": [
    {
     "name": "stdout",
     "output_type": "stream",
     "text": [
      "25\n",
      "24\n",
      "23\n",
      "22\n",
      "21\n",
      "20\n",
      "19\n",
      "18\n",
      "17\n",
      "16\n"
     ]
    }
   ],
   "source": [
    "j = 25\n",
    "while j > 15:\n",
    "    print(j)\n",
    "    j -= 1\n"
   ]
  },
  {
   "cell_type": "code",
   "execution_count": 34,
   "id": "ab703031",
   "metadata": {},
   "outputs": [
    {
     "name": "stdout",
     "output_type": "stream",
     "text": [
      "0\n",
      "1\n",
      "2\n",
      "3\n",
      "4\n",
      "5\n"
     ]
    }
   ],
   "source": [
    "i = 0\n",
    "while True:\n",
    "    print(i)\n",
    "    i += 1\n",
    "    if i > 5:\n",
    "        break"
   ]
  },
  {
   "cell_type": "code",
   "execution_count": null,
   "id": "7512c62b",
   "metadata": {},
   "outputs": [],
   "source": []
  },
  {
   "cell_type": "code",
   "execution_count": null,
   "id": "8fdadabd",
   "metadata": {},
   "outputs": [],
   "source": []
  },
  {
   "cell_type": "code",
   "execution_count": null,
   "id": "c86d53e7",
   "metadata": {},
   "outputs": [],
   "source": []
  }
 ],
 "metadata": {
  "kernelspec": {
   "display_name": "Python 3 (ipykernel)",
   "language": "python",
   "name": "python3"
  },
  "language_info": {
   "codemirror_mode": {
    "name": "ipython",
    "version": 3
   },
   "file_extension": ".py",
   "mimetype": "text/x-python",
   "name": "python",
   "nbconvert_exporter": "python",
   "pygments_lexer": "ipython3",
   "version": "3.8.0"
  }
 },
 "nbformat": 4,
 "nbformat_minor": 5
}
