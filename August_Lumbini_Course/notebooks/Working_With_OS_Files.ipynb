{
 "cells": [
  {
   "cell_type": "markdown",
   "id": "ef49a80c",
   "metadata": {},
   "source": [
    "#### Working with OS\n",
    "\n",
    "<li>Python OS module is a collection of functions that allows a developer to interact with the Operating System using Python Language.</li>\n",
    "<li>This module works with every Operating System and has a list of functions and operations that can be executed.</li>\n",
    "<li>We can interact with the operating system by importing a os module(package).</li>\n",
    "\n",
    "\n"
   ]
  },
  {
   "cell_type": "code",
   "execution_count": 1,
   "id": "a74be193",
   "metadata": {},
   "outputs": [],
   "source": []
  },
  {
   "cell_type": "markdown",
   "id": "f294f909",
   "metadata": {},
   "source": [
    "#### Important OS Commands\n",
    "\n",
    "<ol>\n",
    "    <li><b>os.getcwd()</b>:</li>\n",
    "        <ol>\n",
    "            <li>This function returns the name of the current working directory.</li>\n",
    "            <li>Upon execution, this function will return a proper path of the current directory.</li>\n",
    "        </ol>\n",
    "    <li><b>os.listdir()</b>:</li>\n",
    "        <ol>\n",
    "            <li>This function is a simple command to check every file and directory present in the current directory.</li>\n",
    "            <li>The command will return a list of all the directories and files that are present under our currently logged in a             directory.</li>\n",
    "            <li>We can pass a simple path under which we intend to check the list.</li>\n",
    "        </ol>\n",
    "    <li><b>os.rename()</b>:</li> \n",
    "    <ol>\n",
    "        <li>This function is a simple tool to rename a directory name through the python shell.</li>\n",
    "        <li>We have to pass two string values as an argument, the first has to be a source name, and the second will be the new          name with which we intend to rename the directory.</li>\n",
    "    </ol>\n",
    "    <li><b>os.mkdir()</b>:</li>\n",
    "    <ol>\n",
    "        <li>This function creates a new directory when we execute the command.</li>\n",
    "        <li>We can provide the absolute path or a relative path as a string argument, which is supposed to be the name of the           new directory.</li>\n",
    "    </ol>\n",
    "    <li><b>os.rmdir()</b>:</li>\n",
    "    <ol>\n",
    "        <li>The rmdir() function is used to delete or remove a directory.</li>\n",
    "        <li>We have to pass a string value as an argument, which is to be the name of a directory to be deleted.</li>\n",
    "        <li>Upon successful execution, the function will return nothing, but it will return the error if it fails.</li>\n",
    "        <li>It will only delete the directory if and only if the directory is empty.</li>\n",
    "        <li>If the directory is not empty then it will return the error mentioning the folder is not empty.</li>\n",
    "    </ol>\n",
    "    <li><b>os.remove()</b>:</li>\n",
    "    <ol>\n",
    "        <li>This method in Python is used to remove or delete a file path.</li>\n",
    "        <li>This method can not remove or delete a directory. </li>\n",
    "        <li>If the specified path is a directory then OSError will be raised by the method. os.rmdir() can be used to remove             directory.</li>\n",
    "    </ol>\n",
    "    <li><b>os.path.exists()</b>:</li>\n",
    "    <ol>\n",
    "        <li>This method in Python is used to check whether the specified path exists or not.</li>\n",
    "        <li>This method returns a booolean value whether the path exists or not.</li>\n",
    "    </ol>\n",
    "    <li><b>os.path.relpath(path, start = os.curdir)</b>:</li>\n",
    "    <ol>\n",
    "        <li>This method in Python is used to get a relative filepath to the given path either from the current working directory         or from the given directory.</li>\n",
    "    </ol>\n",
    "    <li><b>os.path.abspath(path)</b>:</li>\n",
    "    <ol>\n",
    "        <li>This takes the relative path to a file and returns the absolute path in the string format.</li>\n",
    "    </ol>\n",
    "    <li><b>os.path.join()</b>:</li>\n",
    "    <ol>\n",
    "        <li>This method in Python join one or more path components intelligently.</li>\n",
    "        <li>This method concatenates various path components with exactly one directory separator (‘/’).</li>\n",
    "    </ol>\n",
    "</ol>"
   ]
  },
  {
   "cell_type": "markdown",
   "id": "872d5857",
   "metadata": {},
   "source": [
    "### os.getcwd()"
   ]
  },
  {
   "cell_type": "code",
   "execution_count": null,
   "id": "84ed983b",
   "metadata": {},
   "outputs": [],
   "source": []
  },
  {
   "cell_type": "code",
   "execution_count": null,
   "id": "91471213",
   "metadata": {},
   "outputs": [],
   "source": []
  },
  {
   "cell_type": "code",
   "execution_count": null,
   "id": "c31f7f0d",
   "metadata": {},
   "outputs": [],
   "source": []
  },
  {
   "cell_type": "markdown",
   "id": "b96c5577",
   "metadata": {},
   "source": [
    "#### os.listdir()"
   ]
  },
  {
   "cell_type": "code",
   "execution_count": null,
   "id": "95068da8",
   "metadata": {},
   "outputs": [],
   "source": []
  },
  {
   "cell_type": "code",
   "execution_count": null,
   "id": "53567df3",
   "metadata": {},
   "outputs": [],
   "source": []
  },
  {
   "cell_type": "code",
   "execution_count": null,
   "id": "3c41fd2b",
   "metadata": {},
   "outputs": [],
   "source": []
  },
  {
   "cell_type": "markdown",
   "id": "d60c3c09",
   "metadata": {},
   "source": [
    "### os.rename"
   ]
  },
  {
   "cell_type": "markdown",
   "id": "c4c859a3",
   "metadata": {},
   "source": [
    "#### Renaming a file"
   ]
  },
  {
   "cell_type": "code",
   "execution_count": null,
   "id": "c76b8a48",
   "metadata": {},
   "outputs": [],
   "source": []
  },
  {
   "cell_type": "code",
   "execution_count": null,
   "id": "9bdf1e90",
   "metadata": {},
   "outputs": [],
   "source": []
  },
  {
   "cell_type": "markdown",
   "id": "8c9fbc51",
   "metadata": {},
   "source": [
    "#### Renaming a directory"
   ]
  },
  {
   "cell_type": "code",
   "execution_count": null,
   "id": "95175e3a",
   "metadata": {},
   "outputs": [],
   "source": []
  },
  {
   "cell_type": "code",
   "execution_count": null,
   "id": "f630505a",
   "metadata": {},
   "outputs": [],
   "source": []
  },
  {
   "cell_type": "markdown",
   "id": "d225230e",
   "metadata": {},
   "source": [
    "### Making a new directory"
   ]
  },
  {
   "cell_type": "code",
   "execution_count": null,
   "id": "3d03709a",
   "metadata": {},
   "outputs": [],
   "source": []
  },
  {
   "cell_type": "code",
   "execution_count": null,
   "id": "013d1f33",
   "metadata": {},
   "outputs": [],
   "source": []
  },
  {
   "cell_type": "markdown",
   "id": "dca89e78",
   "metadata": {},
   "source": [
    "#### Deleting a directory"
   ]
  },
  {
   "cell_type": "code",
   "execution_count": null,
   "id": "0515e2b5",
   "metadata": {},
   "outputs": [],
   "source": []
  },
  {
   "cell_type": "code",
   "execution_count": null,
   "id": "a6309693",
   "metadata": {},
   "outputs": [],
   "source": []
  },
  {
   "cell_type": "code",
   "execution_count": null,
   "id": "db517018",
   "metadata": {},
   "outputs": [],
   "source": []
  },
  {
   "cell_type": "markdown",
   "id": "3f2f43de",
   "metadata": {},
   "source": [
    "#### os.remove()"
   ]
  },
  {
   "cell_type": "code",
   "execution_count": null,
   "id": "444543af",
   "metadata": {},
   "outputs": [],
   "source": []
  },
  {
   "cell_type": "code",
   "execution_count": null,
   "id": "b0b268ab",
   "metadata": {},
   "outputs": [],
   "source": []
  },
  {
   "cell_type": "code",
   "execution_count": null,
   "id": "d1d9ae89",
   "metadata": {},
   "outputs": [],
   "source": []
  },
  {
   "cell_type": "code",
   "execution_count": null,
   "id": "00d8e4af",
   "metadata": {},
   "outputs": [],
   "source": []
  },
  {
   "cell_type": "code",
   "execution_count": null,
   "id": "f573d8bb",
   "metadata": {},
   "outputs": [],
   "source": []
  },
  {
   "cell_type": "markdown",
   "id": "cd26e417",
   "metadata": {},
   "source": [
    "#### os.path.exists()"
   ]
  },
  {
   "cell_type": "code",
   "execution_count": null,
   "id": "3b91744e",
   "metadata": {},
   "outputs": [],
   "source": []
  },
  {
   "cell_type": "code",
   "execution_count": null,
   "id": "f9dde935",
   "metadata": {},
   "outputs": [],
   "source": []
  },
  {
   "cell_type": "code",
   "execution_count": null,
   "id": "2d889433",
   "metadata": {},
   "outputs": [],
   "source": []
  },
  {
   "cell_type": "code",
   "execution_count": null,
   "id": "8f436705",
   "metadata": {},
   "outputs": [],
   "source": []
  },
  {
   "cell_type": "code",
   "execution_count": null,
   "id": "8f4b69f3",
   "metadata": {},
   "outputs": [],
   "source": []
  },
  {
   "cell_type": "markdown",
   "id": "275a379c",
   "metadata": {},
   "source": [
    "#### os.path.relpath(path, start)"
   ]
  },
  {
   "cell_type": "code",
   "execution_count": null,
   "id": "f6794d48",
   "metadata": {},
   "outputs": [],
   "source": []
  },
  {
   "cell_type": "code",
   "execution_count": null,
   "id": "7dfbbfc3",
   "metadata": {},
   "outputs": [],
   "source": []
  },
  {
   "cell_type": "code",
   "execution_count": null,
   "id": "06654e3d",
   "metadata": {},
   "outputs": [],
   "source": []
  },
  {
   "cell_type": "code",
   "execution_count": null,
   "id": "e7e861c2",
   "metadata": {},
   "outputs": [],
   "source": []
  },
  {
   "cell_type": "code",
   "execution_count": null,
   "id": "c47f939b",
   "metadata": {},
   "outputs": [],
   "source": []
  },
  {
   "cell_type": "code",
   "execution_count": null,
   "id": "e90b295f",
   "metadata": {},
   "outputs": [],
   "source": []
  },
  {
   "cell_type": "markdown",
   "id": "888d04c3",
   "metadata": {},
   "source": [
    "#### absolute path"
   ]
  },
  {
   "cell_type": "code",
   "execution_count": null,
   "id": "061d391b",
   "metadata": {},
   "outputs": [],
   "source": []
  },
  {
   "cell_type": "code",
   "execution_count": null,
   "id": "e350dff9",
   "metadata": {},
   "outputs": [],
   "source": []
  },
  {
   "cell_type": "markdown",
   "id": "14d82bc5",
   "metadata": {},
   "source": [
    "#### os.path.join()"
   ]
  },
  {
   "cell_type": "code",
   "execution_count": null,
   "id": "ceaa3b4a",
   "metadata": {},
   "outputs": [],
   "source": []
  },
  {
   "cell_type": "code",
   "execution_count": null,
   "id": "f71b2726",
   "metadata": {},
   "outputs": [],
   "source": []
  },
  {
   "cell_type": "markdown",
   "id": "4127f6a6",
   "metadata": {},
   "source": [
    "#### Copying Files Using Shutil\n",
    "\n",
    "<li>shutil.copy() method in Python is used to copy the content of source file to destination file or directory.</li>\n",
    "<li>shutil.copytree() method recursively copies an entire directory tree rooted at source (src) to the destination directory.</li>\n",
    "<li>The destination directory, named by (dst) must not already exist. It will be created during copying.</li>"
   ]
  },
  {
   "cell_type": "code",
   "execution_count": null,
   "id": "588800fa",
   "metadata": {},
   "outputs": [],
   "source": []
  },
  {
   "cell_type": "code",
   "execution_count": null,
   "id": "812a9dfd",
   "metadata": {},
   "outputs": [],
   "source": []
  },
  {
   "cell_type": "code",
   "execution_count": null,
   "id": "ec6daf27",
   "metadata": {},
   "outputs": [],
   "source": []
  },
  {
   "cell_type": "code",
   "execution_count": null,
   "id": "9b082e36",
   "metadata": {},
   "outputs": [],
   "source": []
  },
  {
   "cell_type": "code",
   "execution_count": null,
   "id": "b0c40690",
   "metadata": {},
   "outputs": [],
   "source": []
  },
  {
   "cell_type": "code",
   "execution_count": null,
   "id": "7b19df60",
   "metadata": {},
   "outputs": [],
   "source": []
  },
  {
   "cell_type": "code",
   "execution_count": null,
   "id": "50319dc2",
   "metadata": {},
   "outputs": [],
   "source": []
  },
  {
   "cell_type": "code",
   "execution_count": null,
   "id": "dc55d09b",
   "metadata": {},
   "outputs": [],
   "source": []
  },
  {
   "cell_type": "code",
   "execution_count": null,
   "id": "8b862eee",
   "metadata": {},
   "outputs": [],
   "source": []
  },
  {
   "cell_type": "code",
   "execution_count": null,
   "id": "4e7d69ea",
   "metadata": {},
   "outputs": [],
   "source": []
  },
  {
   "cell_type": "code",
   "execution_count": null,
   "id": "682099f4",
   "metadata": {},
   "outputs": [],
   "source": []
  },
  {
   "cell_type": "code",
   "execution_count": null,
   "id": "636fb64e",
   "metadata": {},
   "outputs": [],
   "source": []
  },
  {
   "cell_type": "markdown",
   "id": "edc81bd5",
   "metadata": {},
   "source": [
    "#### File Handling In Python\n",
    "\n",
    "<li>Python too supports file handling and allows users to handle files i.e., to read and write files, along with many other file handling options, to operate on files.</li>\n",
    "\n",
    "<li>Before performing any operation on the file like reading or writing, first, we have to open that file.</li>\n",
    "<li>For this, we can use builtin function open() but at the time of opening, we have to specify the mode, which represents the purpose of the opening file.</li>"
   ]
  },
  {
   "cell_type": "markdown",
   "id": "155eb3ab",
   "metadata": {},
   "source": [
    "#### Syntax For Opening A File\n",
    "\n",
    "<code>\n",
    "    f = open(filename, mode)\n",
    "</code>"
   ]
  },
  {
   "cell_type": "markdown",
   "id": "c0247d33",
   "metadata": {},
   "source": [
    "#### File Handling Modes In Python\n",
    "\n",
    "**Python support the following mode while handling files.**\n",
    "<ol>\n",
    "<li>r: open an existing file for a read operation.</li>\n",
    "<li>w: open an existing file for a write operation. If the file already contains some data then it will be overridden but if the file is not present then it creates the file as well.</li>\n",
    "<li>a:  open an existing file for append operation. It won’t override existing data.</li>\n",
    "<li>r+:  To read and write data into the file. The previous data in the file will be overridden.</li>\n",
    "<li>w+: To write and read data. It will override existing data.</li>\n",
    "<li>a+: To append and read data from the file. It won’t override existing data.</li>\n",
    "</ol>"
   ]
  },
  {
   "cell_type": "markdown",
   "id": "26af5261",
   "metadata": {},
   "source": [
    "#### Reading a file ('r' mode)"
   ]
  },
  {
   "cell_type": "code",
   "execution_count": null,
   "id": "34f8c511",
   "metadata": {},
   "outputs": [],
   "source": []
  },
  {
   "cell_type": "code",
   "execution_count": null,
   "id": "83905e86",
   "metadata": {},
   "outputs": [],
   "source": []
  },
  {
   "cell_type": "markdown",
   "id": "6b17c370",
   "metadata": {},
   "source": [
    "#### Writing a file ('w' mode)"
   ]
  },
  {
   "cell_type": "code",
   "execution_count": null,
   "id": "cb61c393",
   "metadata": {},
   "outputs": [],
   "source": []
  },
  {
   "cell_type": "code",
   "execution_count": null,
   "id": "572f92f9",
   "metadata": {},
   "outputs": [],
   "source": []
  },
  {
   "cell_type": "markdown",
   "id": "cdc7d276",
   "metadata": {},
   "source": [
    "#### Append Mode"
   ]
  },
  {
   "cell_type": "code",
   "execution_count": null,
   "id": "551e9d7c",
   "metadata": {},
   "outputs": [],
   "source": []
  },
  {
   "cell_type": "markdown",
   "id": "48751523",
   "metadata": {},
   "source": [
    "#### Mode ('r+')"
   ]
  },
  {
   "cell_type": "code",
   "execution_count": null,
   "id": "ed4ced66",
   "metadata": {},
   "outputs": [],
   "source": []
  },
  {
   "cell_type": "code",
   "execution_count": null,
   "id": "3db5364c",
   "metadata": {},
   "outputs": [],
   "source": []
  },
  {
   "cell_type": "markdown",
   "id": "63329cd0",
   "metadata": {},
   "source": [
    "#### Mode('w+')"
   ]
  },
  {
   "cell_type": "code",
   "execution_count": null,
   "id": "f6cc3e12",
   "metadata": {},
   "outputs": [],
   "source": []
  },
  {
   "cell_type": "code",
   "execution_count": null,
   "id": "0c33b540",
   "metadata": {},
   "outputs": [],
   "source": []
  },
  {
   "cell_type": "markdown",
   "id": "248eba13",
   "metadata": {},
   "source": [
    "#### Mode(a+)"
   ]
  },
  {
   "cell_type": "code",
   "execution_count": null,
   "id": "25029281",
   "metadata": {},
   "outputs": [],
   "source": []
  },
  {
   "cell_type": "code",
   "execution_count": null,
   "id": "8e2cc1b5",
   "metadata": {},
   "outputs": [],
   "source": []
  },
  {
   "cell_type": "code",
   "execution_count": null,
   "id": "35357861",
   "metadata": {},
   "outputs": [],
   "source": []
  },
  {
   "cell_type": "code",
   "execution_count": null,
   "id": "3195f966",
   "metadata": {},
   "outputs": [],
   "source": []
  },
  {
   "cell_type": "markdown",
   "id": "b312a9b4",
   "metadata": {},
   "source": [
    "#### Opening A CSV File\n",
    "\n",
    "<li>Now let's learn how to read in a large dataset as a list of lists.</li>\n",
    "<li>We have already worked with some of the custom made datasets. But real world datasets is large and they often need to read from files.</li>\n",
    "<li>CSV (Comma Separated Values) are one of the file formats where datasets can be stored. They have '.csv' file extension.</li>\n",
    "<li>We can read any files using open() function.</li>"
   ]
  },
  {
   "cell_type": "markdown",
   "id": "37313716",
   "metadata": {},
   "source": [
    "#### & Reading A CSV File"
   ]
  },
  {
   "cell_type": "markdown",
   "id": "92b0d814",
   "metadata": {},
   "source": [
    "<li>Once we've opened the file, we read it in using a function called reader().</li>\n",
    "<li>We import the reader() function from the csv module using the code <b>from csv import reader</b> (a module is a collection of functions and variables).</li>"
   ]
  },
  {
   "cell_type": "markdown",
   "id": "03916a75",
   "metadata": {},
   "source": [
    "#### Converting the dataset into a list of list"
   ]
  },
  {
   "cell_type": "code",
   "execution_count": null,
   "id": "d68816ce",
   "metadata": {},
   "outputs": [],
   "source": []
  },
  {
   "cell_type": "code",
   "execution_count": null,
   "id": "c1e648b1",
   "metadata": {},
   "outputs": [],
   "source": []
  },
  {
   "cell_type": "markdown",
   "id": "9c7d829f",
   "metadata": {},
   "source": [
    "<li>Now that we've read the file, we can transform it into a list of lists using the list() function.</li>"
   ]
  },
  {
   "cell_type": "code",
   "execution_count": null,
   "id": "e3bf6b2e",
   "metadata": {},
   "outputs": [],
   "source": []
  }
 ],
 "metadata": {
  "kernelspec": {
   "display_name": "Python 3 (ipykernel)",
   "language": "python",
   "name": "python3"
  },
  "language_info": {
   "codemirror_mode": {
    "name": "ipython",
    "version": 3
   },
   "file_extension": ".py",
   "mimetype": "text/x-python",
   "name": "python",
   "nbconvert_exporter": "python",
   "pygments_lexer": "ipython3",
   "version": "3.8.0"
  }
 },
 "nbformat": 4,
 "nbformat_minor": 5
}
