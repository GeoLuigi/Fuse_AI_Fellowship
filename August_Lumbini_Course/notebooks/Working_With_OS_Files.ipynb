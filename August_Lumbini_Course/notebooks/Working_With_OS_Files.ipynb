{
 "cells": [
  {
   "cell_type": "markdown",
   "id": "ef49a80c",
   "metadata": {},
   "source": [
    "#### Working with OS\n",
    "\n",
    "<li>Python OS module is a collection of functions that allows a developer to interact with the Operating System using Python Language.</li>\n",
    "<li>This module works with every Operating System and has a list of functions and operations that can be executed.</li>\n",
    "<li>We can interact with the operating system by importing a os module(package).</li>\n",
    "\n",
    "\n"
   ]
  },
  {
   "cell_type": "code",
   "execution_count": 1,
   "id": "a374cf7a",
   "metadata": {},
   "outputs": [],
   "source": [
    "import os"
   ]
  },
  {
   "cell_type": "markdown",
   "id": "f294f909",
   "metadata": {},
   "source": [
    "#### Important OS Commands\n",
    "\n",
    "<ol>\n",
    "    <li><b>os.getcwd()</b>:</li>\n",
    "        <ol>\n",
    "            <li>This function returns the name of the current working directory.</li>\n",
    "            <li>Upon execution, this function will return a proper path of the current directory.</li>\n",
    "        </ol>\n",
    "    <li><b>os.listdir()</b>:</li>\n",
    "        <ol>\n",
    "            <li>This function is a simple command to check every file and directory present in the current directory.</li>\n",
    "            <li>The command will return a list of all the directories and files that are present under our currently logged in a             directory.</li>\n",
    "            <li>We can pass a simple path under which we intend to check the list.</li>\n",
    "        </ol>\n",
    "    <li><b>os.rename()</b>:</li> \n",
    "    <ol>\n",
    "        <li>This function is a simple tool to rename a directory name through the python shell.</li>\n",
    "        <li>We have to pass two string values as an argument, the first has to be a source name, and the second will be the new          name with which we intend to rename the directory.</li>\n",
    "    </ol>\n",
    "    <li><b>os.mkdir()</b>:</li>\n",
    "    <ol>\n",
    "        <li>This function creates a new directory when we execute the command.</li>\n",
    "        <li>We can provide the absolute path or a relative path as a string argument, which is supposed to be the name of the           new directory.</li>\n",
    "    </ol>\n",
    "    <li><b>os.rmdir()</b>:</li>\n",
    "    <ol>\n",
    "        <li>The rmdir() function is used to delete or remove a directory.</li>\n",
    "        <li>We have to pass a string value as an argument, which is to be the name of a directory to be deleted.</li>\n",
    "        <li>Upon successful execution, the function will return nothing, but it will return the error if it fails.</li>\n",
    "        <li>It will only delete the directory if and only if the directory is empty.</li>\n",
    "        <li>If the directory is not empty then it will return the error mentioning the folder is not empty.</li>\n",
    "    </ol>\n",
    "    <li><b>os.remove()</b>:</li>\n",
    "    <ol>\n",
    "        <li>This method in Python is used to remove or delete a file path.</li>\n",
    "        <li>This method can not remove or delete a directory. </li>\n",
    "        <li>If the specified path is a directory then OSError will be raised by the method. os.rmdir() can be used to remove             directory.</li>\n",
    "    </ol>\n",
    "    <li><b>os.path.exists()</b>:</li>\n",
    "    <ol>\n",
    "        <li>This method in Python is used to check whether the specified path exists or not.</li>\n",
    "        <li>This method returns a booolean value whether the path exists or not.</li>\n",
    "    </ol>\n",
    "    <li><b>os.path.relpath(path, start = os.curdir)</b>:</li>\n",
    "    <ol>\n",
    "        <li>This method in Python is used to get a relative filepath to the given path either from the current working directory         or from the given directory.</li>\n",
    "    </ol>\n",
    "    <li><b>os.path.abspath(path)</b>:</li>\n",
    "    <ol>\n",
    "        <li>This takes the relative path to a file and returns the absolute path in the string format.</li>\n",
    "    </ol>\n",
    "    <li><b>os.path.join()</b>:</li>\n",
    "    <ol>\n",
    "        <li>This method in Python join one or more path components intelligently.</li>\n",
    "        <li>This method concatenates various path components with exactly one directory separator (‘/’).</li>\n",
    "    </ol>\n",
    "</ol>"
   ]
  },
  {
   "cell_type": "code",
   "execution_count": 2,
   "id": "279b46c2",
   "metadata": {},
   "outputs": [
    {
     "data": {
      "text/plain": [
       "'C:\\\\Users\\\\srval\\\\OneDrive\\\\Desktop\\\\DataScience_Course\\\\python_basics\\\\August_Lumbini_Course\\\\notebooks'"
      ]
     },
     "execution_count": 2,
     "metadata": {},
     "output_type": "execute_result"
    }
   ],
   "source": [
    "os.getcwd()"
   ]
  },
  {
   "cell_type": "code",
   "execution_count": 10,
   "id": "fb09c32e",
   "metadata": {},
   "outputs": [
    {
     "data": {
      "text/plain": [
       "['backup',\n",
       " 'DataScience_Course',\n",
       " 'desktop.ini',\n",
       " 'Imagenet',\n",
       " 'installation_packages',\n",
       " 'Lumbini_College',\n",
       " 'Nepathya_college',\n",
       " 'Visual Studio Code.lnk',\n",
       " 'Wondershare Filmora 11.lnk',\n",
       " 'Workspot Client.lnk',\n",
       " 'workspot.lnk']"
      ]
     },
     "execution_count": 10,
     "metadata": {},
     "output_type": "execute_result"
    }
   ],
   "source": [
    "os.listdir(\"C:\\\\Users\\\\srval\\\\OneDrive\\\\Desktop\")"
   ]
  },
  {
   "cell_type": "code",
   "execution_count": 8,
   "id": "909ad978",
   "metadata": {},
   "outputs": [
    {
     "data": {
      "text/plain": [
       "['.ipynb_checkpoints',\n",
       " 'dummy.txt',\n",
       " 'Functions.ipynb',\n",
       " 'python.ipynb',\n",
       " 'Working_With_OS_Files.ipynb']"
      ]
     },
     "execution_count": 8,
     "metadata": {},
     "output_type": "execute_result"
    }
   ],
   "source": [
    "os.listdir()"
   ]
  },
  {
   "cell_type": "code",
   "execution_count": 7,
   "id": "6d82c5e8",
   "metadata": {},
   "outputs": [],
   "source": [
    "os.rename('hello.txt', 'dummy.txt')"
   ]
  },
  {
   "cell_type": "code",
   "execution_count": 9,
   "id": "cf2212b0",
   "metadata": {},
   "outputs": [],
   "source": [
    "os.rename(\"C:\\\\Users\\\\srval\\\\OneDrive\\\\Desktop\\\\Lumbini\",\n",
    "          \"C:\\\\Users\\\\srval\\\\OneDrive\\\\Desktop\\\\Lumbini_College\")"
   ]
  },
  {
   "cell_type": "markdown",
   "id": "f07d3a06",
   "metadata": {},
   "source": [
    "### Let's make a new directory"
   ]
  },
  {
   "cell_type": "code",
   "execution_count": 15,
   "id": "7f3bafad",
   "metadata": {},
   "outputs": [
    {
     "data": {
      "text/plain": [
       "['.ipynb_checkpoints',\n",
       " 'dummy.txt',\n",
       " 'Functions.ipynb',\n",
       " 'python.ipynb',\n",
       " 'Working_With_OS_Files.ipynb']"
      ]
     },
     "execution_count": 15,
     "metadata": {},
     "output_type": "execute_result"
    }
   ],
   "source": [
    "os.listdir()"
   ]
  },
  {
   "cell_type": "code",
   "execution_count": 12,
   "id": "7977c519",
   "metadata": {},
   "outputs": [],
   "source": [
    "os.mkdir('august18')"
   ]
  },
  {
   "cell_type": "markdown",
   "id": "ce8a10a3",
   "metadata": {},
   "source": [
    "## Remove a directory"
   ]
  },
  {
   "cell_type": "code",
   "execution_count": 14,
   "id": "91dd5c68",
   "metadata": {},
   "outputs": [],
   "source": [
    "os.rmdir('august18')"
   ]
  },
  {
   "cell_type": "code",
   "execution_count": 18,
   "id": "3597aa60",
   "metadata": {},
   "outputs": [],
   "source": [
    "os.remove('dummy.txt')"
   ]
  },
  {
   "cell_type": "code",
   "execution_count": 19,
   "id": "cf9a4827",
   "metadata": {},
   "outputs": [
    {
     "data": {
      "text/plain": [
       "['.ipynb_checkpoints',\n",
       " 'Functions.ipynb',\n",
       " 'python.ipynb',\n",
       " 'Working_With_OS_Files.ipynb']"
      ]
     },
     "execution_count": 19,
     "metadata": {},
     "output_type": "execute_result"
    }
   ],
   "source": [
    "os.listdir()"
   ]
  },
  {
   "cell_type": "markdown",
   "id": "a23463e1",
   "metadata": {},
   "source": [
    "## Note:\n",
    "<li>'rmdir' will only be able to delete a directory if it is empty.</li>\n",
    "<li>Incase if it is not empty, you first have to delete all the files inside this directory and then you will be able to delete it.</li>"
   ]
  },
  {
   "cell_type": "code",
   "execution_count": 27,
   "id": "044d1b69",
   "metadata": {},
   "outputs": [
    {
     "data": {
      "text/plain": [
       "['.ipynb_checkpoints',\n",
       " 'Functions.ipynb',\n",
       " 'python.ipynb',\n",
       " 'Working_With_OS_Files.ipynb']"
      ]
     },
     "execution_count": 27,
     "metadata": {},
     "output_type": "execute_result"
    }
   ],
   "source": [
    "os.listdir()"
   ]
  },
  {
   "cell_type": "code",
   "execution_count": 26,
   "id": "0459ed00",
   "metadata": {},
   "outputs": [],
   "source": [
    "if not os.path.exists('results'):\n",
    "    os.mkdir('results')\n",
    "else: \n",
    "    os.rmdir('results')"
   ]
  },
  {
   "cell_type": "markdown",
   "id": "69d41aaf",
   "metadata": {},
   "source": [
    "## Absolute Path Vs Relative Path"
   ]
  },
  {
   "cell_type": "code",
   "execution_count": 29,
   "id": "4356385b",
   "metadata": {},
   "outputs": [
    {
     "data": {
      "text/plain": [
       "'C:\\\\Users\\\\srval\\\\OneDrive\\\\Desktop\\\\DataScience_Course\\\\python_basics\\\\August_Lumbini_Course\\\\notebooks\\\\python.ipynb'"
      ]
     },
     "execution_count": 29,
     "metadata": {},
     "output_type": "execute_result"
    }
   ],
   "source": [
    "os.path.abspath('python.ipynb')"
   ]
  },
  {
   "cell_type": "code",
   "execution_count": 30,
   "id": "f7eefdee",
   "metadata": {},
   "outputs": [
    {
     "data": {
      "text/plain": [
       "'OneDrive\\\\Desktop\\\\Lumbini_College'"
      ]
     },
     "execution_count": 30,
     "metadata": {},
     "output_type": "execute_result"
    }
   ],
   "source": [
    "os.path.relpath(\"C:\\\\Users\\\\srval\\\\OneDrive\\\\Desktop\\\\Lumbini_College\", \n",
    "               \"C:\\\\Users\\\\srval/\")"
   ]
  },
  {
   "cell_type": "code",
   "execution_count": 28,
   "id": "88381817",
   "metadata": {},
   "outputs": [
    {
     "data": {
      "text/plain": [
       "['.ipynb_checkpoints',\n",
       " 'Functions.ipynb',\n",
       " 'python.ipynb',\n",
       " 'Working_With_OS_Files.ipynb']"
      ]
     },
     "execution_count": 28,
     "metadata": {},
     "output_type": "execute_result"
    }
   ],
   "source": [
    "os.listdir()"
   ]
  },
  {
   "cell_type": "code",
   "execution_count": 33,
   "id": "d44a61e9",
   "metadata": {},
   "outputs": [
    {
     "data": {
      "text/plain": [
       "'User\\\\Folder\\\\images\\\\hello.jpg'"
      ]
     },
     "execution_count": 33,
     "metadata": {},
     "output_type": "execute_result"
    }
   ],
   "source": [
    "dummy_path = \"User\\\\Folder\"\n",
    "os.path.join(dummy_path, 'images', 'hello.jpg')"
   ]
  },
  {
   "cell_type": "markdown",
   "id": "4127f6a6",
   "metadata": {},
   "source": [
    "#### Copying Files Using Shutil\n",
    "\n",
    "<li>shutil.copy() method in Python is used to copy the content of source file to destination file or directory.</li>\n",
    "<li>shutil.copytree() method recursively copies an entire directory tree rooted at source (src) to the destination directory.</li>\n",
    "<li>The destination directory, named by (dst) must not already exist. It will be created during copying.</li>"
   ]
  },
  {
   "cell_type": "code",
   "execution_count": 34,
   "id": "4e5bd302",
   "metadata": {},
   "outputs": [],
   "source": [
    "os.mkdir('dummy')"
   ]
  },
  {
   "cell_type": "code",
   "execution_count": 35,
   "id": "fe91de97",
   "metadata": {},
   "outputs": [
    {
     "data": {
      "text/plain": [
       "['.ipynb_checkpoints',\n",
       " 'dummy',\n",
       " 'Functions.ipynb',\n",
       " 'python.ipynb',\n",
       " 'Working_With_OS_Files.ipynb']"
      ]
     },
     "execution_count": 35,
     "metadata": {},
     "output_type": "execute_result"
    }
   ],
   "source": [
    "os.listdir()"
   ]
  },
  {
   "cell_type": "code",
   "execution_count": 37,
   "id": "e4b89738",
   "metadata": {},
   "outputs": [],
   "source": [
    "import shutil"
   ]
  },
  {
   "cell_type": "code",
   "execution_count": 38,
   "id": "c856836b",
   "metadata": {},
   "outputs": [
    {
     "data": {
      "text/plain": [
       "'dummy/python.ipynb'"
      ]
     },
     "execution_count": 38,
     "metadata": {},
     "output_type": "execute_result"
    }
   ],
   "source": [
    "shutil.copy('python.ipynb', 'dummy/python.ipynb')"
   ]
  },
  {
   "cell_type": "code",
   "execution_count": 39,
   "id": "cc07cdc2",
   "metadata": {},
   "outputs": [],
   "source": [
    "os.mkdir('another_dummy')"
   ]
  },
  {
   "cell_type": "code",
   "execution_count": 41,
   "id": "7142637b",
   "metadata": {},
   "outputs": [],
   "source": [
    "os.rmdir('another_dummy')"
   ]
  },
  {
   "cell_type": "code",
   "execution_count": 45,
   "id": "c5a8d498",
   "metadata": {},
   "outputs": [
    {
     "data": {
      "text/plain": [
       "['python.ipynb']"
      ]
     },
     "execution_count": 45,
     "metadata": {},
     "output_type": "execute_result"
    }
   ],
   "source": [
    "os.listdir('another_dummy')"
   ]
  },
  {
   "cell_type": "code",
   "execution_count": 43,
   "id": "370842c6",
   "metadata": {},
   "outputs": [
    {
     "data": {
      "text/plain": [
       "'another_dummy'"
      ]
     },
     "execution_count": 43,
     "metadata": {},
     "output_type": "execute_result"
    }
   ],
   "source": [
    "shutil.copytree('dummy', 'another_dummy')"
   ]
  },
  {
   "cell_type": "code",
   "execution_count": null,
   "id": "d727ec5c",
   "metadata": {},
   "outputs": [],
   "source": []
  },
  {
   "cell_type": "code",
   "execution_count": null,
   "id": "e4fa514b",
   "metadata": {},
   "outputs": [],
   "source": []
  },
  {
   "cell_type": "code",
   "execution_count": null,
   "id": "8b862eee",
   "metadata": {},
   "outputs": [],
   "source": []
  },
  {
   "cell_type": "markdown",
   "id": "edc81bd5",
   "metadata": {},
   "source": [
    "#### File Handling In Python\n",
    "\n",
    "<li>Python too supports file handling and allows users to handle files i.e., to read and write files, along with many other file handling options, to operate on files.</li>\n",
    "\n",
    "<li>Before performing any operation on the file like reading or writing, first, we have to open that file.</li>\n",
    "<li>For this, we can use builtin function open() but at the time of opening, we have to specify the mode, which represents the purpose of the opening file.</li>"
   ]
  },
  {
   "cell_type": "markdown",
   "id": "155eb3ab",
   "metadata": {},
   "source": [
    "#### Syntax For Opening A File\n",
    "\n",
    "<code>\n",
    "    f = open(filename, mode)\n",
    "</code>"
   ]
  },
  {
   "cell_type": "markdown",
   "id": "c0247d33",
   "metadata": {},
   "source": [
    "#### File Handling Modes In Python\n",
    "\n",
    "**Python support the following mode while handling files.**\n",
    "<ol>\n",
    "<li>r: open an existing file for a read operation.</li>\n",
    "<li>w: open an existing file for a write operation. If the file already contains some data then it will be overridden but if the file is not present then it creates the file as well.</li>\n",
    "<li>a:  open an existing file for append operation. It won’t override existing data.</li>\n",
    "<li>r+:  To read and write data into the file. The previous data in the file will be overridden.</li>\n",
    "<li>w+: To write and read data. It will override existing data.</li>\n",
    "<li>a+: To append and read data from the file. It won’t override existing data.</li>\n",
    "</ol>"
   ]
  },
  {
   "cell_type": "code",
   "execution_count": 46,
   "id": "c50e1f5f",
   "metadata": {},
   "outputs": [
    {
     "data": {
      "text/plain": [
       "['.ipynb_checkpoints',\n",
       " 'another_dummy',\n",
       " 'dummy',\n",
       " 'Functions.ipynb',\n",
       " 'hello.txt',\n",
       " 'python.ipynb',\n",
       " 'Working_With_OS_Files.ipynb']"
      ]
     },
     "execution_count": 46,
     "metadata": {},
     "output_type": "execute_result"
    }
   ],
   "source": [
    "os.listdir()"
   ]
  },
  {
   "cell_type": "markdown",
   "id": "fb2a0233",
   "metadata": {},
   "source": [
    "## Read a file"
   ]
  },
  {
   "cell_type": "code",
   "execution_count": 48,
   "id": "78c9017d",
   "metadata": {},
   "outputs": [
    {
     "name": "stdout",
     "output_type": "stream",
     "text": [
      "[\"Hello, It's me Prabhat Ale, Your Lecturer for Data Science.\\n\", 'Today In this class, we are going to learn about File Handling.\\n']\n"
     ]
    }
   ],
   "source": [
    "f = open('hello.txt', 'r')\n",
    "data = f.readlines()\n",
    "f.close()\n",
    "print(data)"
   ]
  },
  {
   "cell_type": "markdown",
   "id": "a7afdab4",
   "metadata": {},
   "source": [
    "## Write a file"
   ]
  },
  {
   "cell_type": "code",
   "execution_count": 50,
   "id": "c0e4af66",
   "metadata": {},
   "outputs": [],
   "source": [
    "f = open('lumbini.txt', 'w')\n",
    "f.write(\"Hello, Welcome to Lumbini College\")\n",
    "f.write('\\n')\n",
    "f.write(\"We offer various courses in our college.\")\n",
    "f.close()"
   ]
  },
  {
   "cell_type": "markdown",
   "id": "bfbbefa3",
   "metadata": {},
   "source": [
    "### Appending a file"
   ]
  },
  {
   "cell_type": "code",
   "execution_count": 51,
   "id": "a484a907",
   "metadata": {},
   "outputs": [],
   "source": [
    "f = open('lumbini.txt', 'a')\n",
    "f.write('\\n')\n",
    "f.write(\"Some of the courses that are taught here in LUmbini COllege are B.Sc.Cs.IT, B.IM and B.B.A\")\n",
    "f.close()"
   ]
  },
  {
   "cell_type": "markdown",
   "id": "225a8713",
   "metadata": {},
   "source": [
    "## r+ mode"
   ]
  },
  {
   "cell_type": "code",
   "execution_count": 2,
   "id": "ec675aba",
   "metadata": {},
   "outputs": [],
   "source": [
    "import os"
   ]
  },
  {
   "cell_type": "code",
   "execution_count": 3,
   "id": "0419d3ed",
   "metadata": {},
   "outputs": [
    {
     "data": {
      "text/plain": [
       "['.ipynb_checkpoints',\n",
       " 'another_dummy',\n",
       " 'dummy',\n",
       " 'Functions.ipynb',\n",
       " 'hello.txt',\n",
       " 'lumbini.txt',\n",
       " 'pandas_basics.ipynb',\n",
       " 'python.ipynb',\n",
       " 'Working_With_OS_Files.ipynb']"
      ]
     },
     "execution_count": 3,
     "metadata": {},
     "output_type": "execute_result"
    }
   ],
   "source": [
    "os.listdir()"
   ]
  },
  {
   "cell_type": "code",
   "execution_count": 4,
   "id": "a97cf9c7",
   "metadata": {},
   "outputs": [
    {
     "name": "stdout",
     "output_type": "stream",
     "text": [
      "Hello, It's me Prabhat Ale, Your Lecturer for Data Science.\n",
      "Today In this class, we are going to learn about File Handling.\n",
      "\n"
     ]
    }
   ],
   "source": [
    "f = open('hello.txt', 'r+')\n",
    "data = f.read()\n",
    "print(data)"
   ]
  },
  {
   "cell_type": "code",
   "execution_count": 5,
   "id": "3813814f",
   "metadata": {},
   "outputs": [],
   "source": [
    "f = open('hello.txt', 'r+')\n",
    "f.write(\"Hello, Today It's raining\")\n",
    "f.close()"
   ]
  },
  {
   "cell_type": "code",
   "execution_count": 6,
   "id": "dd208b6a",
   "metadata": {},
   "outputs": [
    {
     "name": "stdout",
     "output_type": "stream",
     "text": [
      "Hello, Today It's raininge, Your Lecturer for Data Science.\n",
      "Today In this class, we are going to learn about File Handling.\n",
      "\n"
     ]
    }
   ],
   "source": [
    "f = open('hello.txt', 'r+')\n",
    "data = f.read()\n",
    "print(data)"
   ]
  },
  {
   "cell_type": "markdown",
   "id": "c23b7efa",
   "metadata": {},
   "source": [
    "### w+ mode"
   ]
  },
  {
   "cell_type": "code",
   "execution_count": 8,
   "id": "3db5364c",
   "metadata": {},
   "outputs": [],
   "source": [
    "f = open(\"hello.txt\", 'w+')\n",
    "f.write(\"Hey, everyone. It's raining today.\")\n",
    "f.close()"
   ]
  },
  {
   "cell_type": "code",
   "execution_count": 10,
   "id": "dc893c7e",
   "metadata": {},
   "outputs": [
    {
     "name": "stdout",
     "output_type": "stream",
     "text": [
      "\n"
     ]
    }
   ],
   "source": [
    "f = open('hello.txt', 'w+')\n",
    "data = f.read()\n",
    "print(data)"
   ]
  },
  {
   "cell_type": "markdown",
   "id": "a6c403d0",
   "metadata": {},
   "source": [
    "## a+ mode"
   ]
  },
  {
   "cell_type": "code",
   "execution_count": 13,
   "id": "f1fb8e25",
   "metadata": {},
   "outputs": [],
   "source": [
    "f = open('lumbini.txt', 'a+')\n",
    "f.write(\"We are located in Divertole, Butwal.\")\n",
    "f.close()"
   ]
  },
  {
   "cell_type": "code",
   "execution_count": 15,
   "id": "e4794116",
   "metadata": {},
   "outputs": [
    {
     "name": "stdout",
     "output_type": "stream",
     "text": [
      "\n"
     ]
    }
   ],
   "source": [
    "f = open('lumbini.txt', 'a+')\n",
    "data = f.read()\n",
    "print(data)\n",
    "f.close()\n"
   ]
  },
  {
   "cell_type": "markdown",
   "id": "f8aecca5",
   "metadata": {},
   "source": [
    "#### Question: Write a function that reads 'file.txt' and another function that calculates the number of true count and false count from the given data."
   ]
  },
  {
   "cell_type": "code",
   "execution_count": null,
   "id": "2f111724",
   "metadata": {},
   "outputs": [],
   "source": []
  },
  {
   "cell_type": "code",
   "execution_count": null,
   "id": "53184297",
   "metadata": {},
   "outputs": [],
   "source": []
  },
  {
   "cell_type": "markdown",
   "id": "4cb1c242",
   "metadata": {},
   "source": [
    "#### Question: Write a function that reads 'file.txt' that will create a dictionary of dictionary to calculate renamed field and non renamed fileds."
   ]
  },
  {
   "cell_type": "code",
   "execution_count": null,
   "id": "60a0d119",
   "metadata": {},
   "outputs": [],
   "source": []
  },
  {
   "cell_type": "code",
   "execution_count": null,
   "id": "1e514251",
   "metadata": {},
   "outputs": [],
   "source": []
  },
  {
   "cell_type": "code",
   "execution_count": null,
   "id": "94d7c923",
   "metadata": {},
   "outputs": [],
   "source": []
  },
  {
   "cell_type": "code",
   "execution_count": null,
   "id": "7ce9f08c",
   "metadata": {},
   "outputs": [],
   "source": []
  },
  {
   "cell_type": "code",
   "execution_count": null,
   "id": "0240b87f",
   "metadata": {},
   "outputs": [],
   "source": []
  },
  {
   "cell_type": "markdown",
   "id": "b312a9b4",
   "metadata": {},
   "source": [
    "#### Opening A CSV File\n",
    "\n",
    "<li>Now let's learn how to read in a large dataset as a list of lists.</li>\n",
    "<li>We have already worked with some of the custom made datasets. But real world datasets is large and they often need to read from files.</li>\n",
    "<li>CSV (Comma Separated Values) are one of the file formats where datasets can be stored. They have '.csv' file extension.</li>\n",
    "<li>We can read any files using open() function.</li>"
   ]
  },
  {
   "cell_type": "code",
   "execution_count": 16,
   "id": "c16735e2",
   "metadata": {},
   "outputs": [
    {
     "data": {
      "text/plain": [
       "['.ipynb_checkpoints',\n",
       " 'another_dummy',\n",
       " 'dummy',\n",
       " 'Functions.ipynb',\n",
       " 'hello.txt',\n",
       " 'lumbini.txt',\n",
       " 'pandas_basics.ipynb',\n",
       " 'python.ipynb',\n",
       " 'Working_With_OS_Files.ipynb']"
      ]
     },
     "execution_count": 16,
     "metadata": {},
     "output_type": "execute_result"
    }
   ],
   "source": [
    "os.listdir()"
   ]
  },
  {
   "cell_type": "code",
   "execution_count": 22,
   "id": "695c7b2e",
   "metadata": {},
   "outputs": [],
   "source": [
    "root_path = os.path.dirname(os.getcwd())\n"
   ]
  },
  {
   "cell_type": "code",
   "execution_count": 24,
   "id": "a83c97ad",
   "metadata": {},
   "outputs": [
    {
     "data": {
      "text/plain": [
       "'C:\\\\Users\\\\srval\\\\OneDrive\\\\Desktop\\\\DataScience_Course\\\\python_basics\\\\August_Lumbini_Course\\\\csv_data\\\\weather_data_nan.csv'"
      ]
     },
     "execution_count": 24,
     "metadata": {},
     "output_type": "execute_result"
    }
   ],
   "source": [
    "os.path.join(root_path, 'csv_data', 'weather_data_nan.csv')"
   ]
  },
  {
   "cell_type": "markdown",
   "id": "37313716",
   "metadata": {},
   "source": [
    "#### & Reading A CSV File"
   ]
  },
  {
   "cell_type": "markdown",
   "id": "92b0d814",
   "metadata": {},
   "source": [
    "<li>Once we've opened the file, we read it in using a function called reader().</li>\n",
    "<li>We import the reader() function from the csv module using the code <b>from csv import reader</b> (a module is a collection of functions and variables).</li>"
   ]
  },
  {
   "cell_type": "code",
   "execution_count": 37,
   "id": "ad229bf1",
   "metadata": {},
   "outputs": [],
   "source": [
    "from csv import reader"
   ]
  },
  {
   "cell_type": "code",
   "execution_count": 38,
   "id": "cf436bf9",
   "metadata": {},
   "outputs": [],
   "source": [
    "f = open(os.path.join(root_path, 'csv_data', 'weather_data_nan.csv'), 'r')\n",
    "data = reader(f)\n"
   ]
  },
  {
   "cell_type": "markdown",
   "id": "03916a75",
   "metadata": {},
   "source": [
    "#### Converting the dataset into a list of list"
   ]
  },
  {
   "cell_type": "markdown",
   "id": "9c7d829f",
   "metadata": {},
   "source": [
    "<li>Now that we've read the file, we can transform it into a list of lists using the list() function.</li>"
   ]
  },
  {
   "cell_type": "code",
   "execution_count": 39,
   "id": "6838d340",
   "metadata": {},
   "outputs": [],
   "source": [
    "final_data = list(data)\n",
    "f.close()"
   ]
  },
  {
   "cell_type": "code",
   "execution_count": 40,
   "id": "ae3e8953",
   "metadata": {},
   "outputs": [
    {
     "data": {
      "text/plain": [
       "[['day', 'temperature', 'windspeed', 'event'],\n",
       " ['1/1/2017', '32.0', '6.0', ' Rain '],\n",
       " ['1/4/2017', '', '9.0', ' Sunny'],\n",
       " ['1/5/2017', '-1.0', '', ' Snow'],\n",
       " ['1/6/2017', '', '7.0', ''],\n",
       " ['1/7/2017', '32.0', '', 'Rain'],\n",
       " ['1/8/2017', '', '', 'Sunny'],\n",
       " ['1/9/2017', '', '', ''],\n",
       " ['1/10/2017', '34.0', '8.0', 'Cloudy'],\n",
       " ['1/11/2017', '-4.0', '', 'Snow'],\n",
       " ['1/12/2017', '26.0', '12.0', 'Sunny'],\n",
       " ['1/13/2017', '12.0', '12.0', 'Rainy'],\n",
       " ['1/11/2017', '-1.0', '12.0', 'Snow'],\n",
       " ['1/14/2017', '40.0', '', ' Sunny']]"
      ]
     },
     "execution_count": 40,
     "metadata": {},
     "output_type": "execute_result"
    }
   ],
   "source": [
    "final_data"
   ]
  },
  {
   "cell_type": "code",
   "execution_count": null,
   "id": "a0f21cf8",
   "metadata": {},
   "outputs": [],
   "source": []
  },
  {
   "cell_type": "code",
   "execution_count": null,
   "id": "f41a41db",
   "metadata": {},
   "outputs": [],
   "source": []
  },
  {
   "cell_type": "code",
   "execution_count": 2,
   "id": "a176d92c",
   "metadata": {},
   "outputs": [],
   "source": []
  },
  {
   "cell_type": "code",
   "execution_count": null,
   "id": "97c89ecf",
   "metadata": {},
   "outputs": [],
   "source": []
  }
 ],
 "metadata": {
  "kernelspec": {
   "display_name": "Python 3 (ipykernel)",
   "language": "python",
   "name": "python3"
  },
  "language_info": {
   "codemirror_mode": {
    "name": "ipython",
    "version": 3
   },
   "file_extension": ".py",
   "mimetype": "text/x-python",
   "name": "python",
   "nbconvert_exporter": "python",
   "pygments_lexer": "ipython3",
   "version": "3.8.0"
  }
 },
 "nbformat": 4,
 "nbformat_minor": 5
}
