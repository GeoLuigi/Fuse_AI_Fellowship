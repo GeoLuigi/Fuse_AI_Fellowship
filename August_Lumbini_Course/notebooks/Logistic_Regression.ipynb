{
 "cells": [
  {
   "cell_type": "markdown",
   "id": "ca2214bd",
   "metadata": {},
   "source": [
    "### Why linear Regression Cannot Be used For Classification\n",
    "\n",
    "<li>The output of a linear regression model is continuous and unbounded.</li>\n",
    "<li>This means that it can take any value along the real number line, which is not appropriate for categorical labels that have a finite set of discrete values.</li>\n",
    "\n",
    "<li>Linear regression assumes that the relationship between the input variables and the output variable is linear.</li>\n",
    "<li>However, in classification tasks, the relationship between the input variables and the class labels is often nonlinear, making it an unsuitable choice.</li>\n",
    "\n",
    "<li>In contrast, classification algorithms such as logistic regression, decision trees, and SVMs are designed specifically for categorical classification tasks.</li>\n",
    "\n",
    "![](images/linear_vs_logistic.png)\n",
    "\n",
    "<li>The Value of Y can exceed 1 and go below 0 if we use linear regression.</li>\n",
    "<li>But, we want an output as a probability of occurrence of the expected output(either 1 or 0). With this probability, we should be able to classify the output.</li>\n",
    "<li>The regression line we get from Linear Regression is highly sensitive to outliers.</li>\n",
    "<li>If the number of outliers relative to non-outlier data points is more than a few, then the model will be skewed away from the true underlying relationship.</li>\n",
    "<li>Thus it will not do a good job in classifying two classes.</li>"
   ]
  },
  {
   "cell_type": "markdown",
   "id": "40bfaa67",
   "metadata": {},
   "source": [
    "### What Is Logistic Regression?\n",
    "\n",
    "<li>Logistic regression is a statistical method used to predict the probability of an event occurring based on input variables.</li>\n",
    "<li>It is a form of regression analysis, which means it estimates the relationship between the input variables and the output variable.</li>\n",
    "<li>The output of logistic regression is a probability value between 0 and 1, which represents the likelihood of the event occurring given the input variables.</li>\n",
    "<li>This probability can be converted into a binary classification by setting a threshold value.</li>\n",
    "<li>For example, if the threshold is set to 0.5, we can classify observations with a predicted probability greater than or equal to 0.5 as \"positive\".</li>\n",
    "<li>And those with a predicted probability less than 0.5 as \"negative.\"</li>\n",
    "\n",
    "<li>Logistic regression is widely used in various fields such as marketing, healthcare, and finance, to make predictions and decisions based on probabilities.</li>\n",
    "<li>It is a powerful tool for analyzing data and making informed decisions based on the underlying patterns and relationships in the data.</li>\n",
    "\n",
    "![](images/logistic_regression.png)"
   ]
  },
  {
   "cell_type": "markdown",
   "id": "d615a470",
   "metadata": {},
   "source": [
    "### What is sigmoid function?\n",
    "\n",
    "<li>It is a mathematical function having a characteristic that can take any real value and map it to between 0 to 1 shaped like the letter “S”.</li>\n",
    "<li>The sigmoid function also called a logistic function.</li>\n",
    "<li>In logistic regression, sigmoid function is used to map the continuous probabilities in the range of 0 to 1 so that it can be used for binary classification.</li>\n",
    "\n",
    "![](images/sigmoid_function.png)"
   ]
  },
  {
   "cell_type": "markdown",
   "id": "2703a354",
   "metadata": {},
   "source": [
    "![](images/logistic_eqn.png)"
   ]
  },
  {
   "cell_type": "markdown",
   "id": "76fd8f7c",
   "metadata": {},
   "source": [
    "### Why logistic regression is called regression although it is used for classification tasks?\n",
    "\n",
    "<li>Logistic regression gives a continuous value of the probability that y=1 given input X.</li>\n",
    "<li>Since this probability is continuous (can take any value between 1 and 0), it means that the logistic regression is indeed a “regression”.</li>\n",
    "<li>It only happens that, in practice, it is used for classification problems by converting these probabilities into categories (1 or 0) using a threshold value.</li>"
   ]
  },
  {
   "cell_type": "markdown",
   "id": "90851eed",
   "metadata": {},
   "source": [
    "### Loss Function For Logistic Regression\n",
    "\n",
    "<li>The loss function used in logistic regression is the logistic loss function, also known as the cross-entropy loss function.</li>\n",
    "<li>It is a measure of the difference between the predicted probabilities and the true labels of the binary dependent variable.</li>\n",
    "\n",
    "**The logistic loss function is defined as:**\n",
    "\n",
    "<code>\n",
    "L(y, y') = -[y * log(y') + (1 - y) * log(1 - y')]\n",
    "</code>\n",
    "\n",
    "where:\n",
    "\n",
    "<li>y is the true binary label (0 or 1) of the observation</li>\n",
    "<li>y' is the predicted probability of the observation being in class 1 (i.e., the dependent variable taking the value 1)</li>\n",
    "<li>The logistic loss function penalizes the model more for larger prediction errors (i.e., when the predicted probability is far from the true label).</li>\n",
    "<li>When the predicted probability is close to the true label, the loss function is small, indicating a good fit.</li>\n",
    "\n",
    "<li>The goal of logistic regression is to minimize the total logistic loss function over all the training examples.</li>\n",
    "<li>This can be achieved through an optimization algorithm such as gradient descent.</li>\n",
    "<li>The optimization algorithm adjusts the parameters of the logistic regression model to minimize the loss function and improve the accuracy.</li>"
   ]
  },
  {
   "cell_type": "code",
   "execution_count": null,
   "id": "449b12bb",
   "metadata": {},
   "outputs": [],
   "source": []
  },
  {
   "cell_type": "code",
   "execution_count": null,
   "id": "6348a3d6",
   "metadata": {},
   "outputs": [],
   "source": []
  },
  {
   "cell_type": "code",
   "execution_count": null,
   "id": "dbba0eeb",
   "metadata": {},
   "outputs": [],
   "source": []
  },
  {
   "cell_type": "code",
   "execution_count": null,
   "id": "c6d05c8a",
   "metadata": {},
   "outputs": [],
   "source": []
  },
  {
   "cell_type": "code",
   "execution_count": null,
   "id": "7ac81ef2",
   "metadata": {},
   "outputs": [],
   "source": []
  },
  {
   "cell_type": "code",
   "execution_count": null,
   "id": "4853400c",
   "metadata": {},
   "outputs": [],
   "source": []
  },
  {
   "cell_type": "code",
   "execution_count": null,
   "id": "c6d31e0f",
   "metadata": {},
   "outputs": [],
   "source": []
  },
  {
   "cell_type": "code",
   "execution_count": null,
   "id": "7f140cfc",
   "metadata": {},
   "outputs": [],
   "source": []
  },
  {
   "cell_type": "code",
   "execution_count": null,
   "id": "6beaa823",
   "metadata": {},
   "outputs": [],
   "source": []
  },
  {
   "cell_type": "code",
   "execution_count": null,
   "id": "5ad1e3d0",
   "metadata": {},
   "outputs": [],
   "source": []
  },
  {
   "cell_type": "code",
   "execution_count": null,
   "id": "23fe0ab0",
   "metadata": {},
   "outputs": [],
   "source": []
  },
  {
   "cell_type": "markdown",
   "id": "105d58a3",
   "metadata": {},
   "source": [
    "### Visualize Target Class"
   ]
  },
  {
   "cell_type": "code",
   "execution_count": null,
   "id": "3b8aad20",
   "metadata": {},
   "outputs": [],
   "source": []
  },
  {
   "cell_type": "code",
   "execution_count": null,
   "id": "8ca6ec75",
   "metadata": {},
   "outputs": [],
   "source": []
  },
  {
   "cell_type": "code",
   "execution_count": null,
   "id": "f3201174",
   "metadata": {},
   "outputs": [],
   "source": []
  },
  {
   "cell_type": "code",
   "execution_count": null,
   "id": "28856303",
   "metadata": {},
   "outputs": [],
   "source": []
  },
  {
   "cell_type": "code",
   "execution_count": null,
   "id": "023cfdbb",
   "metadata": {},
   "outputs": [],
   "source": []
  },
  {
   "cell_type": "code",
   "execution_count": null,
   "id": "417e81bf",
   "metadata": {},
   "outputs": [],
   "source": []
  },
  {
   "cell_type": "code",
   "execution_count": null,
   "id": "36d9daed",
   "metadata": {},
   "outputs": [],
   "source": []
  },
  {
   "cell_type": "code",
   "execution_count": null,
   "id": "ea125028",
   "metadata": {},
   "outputs": [],
   "source": []
  },
  {
   "cell_type": "code",
   "execution_count": null,
   "id": "2c9bb387",
   "metadata": {},
   "outputs": [],
   "source": []
  },
  {
   "cell_type": "code",
   "execution_count": null,
   "id": "388d504f",
   "metadata": {},
   "outputs": [],
   "source": []
  },
  {
   "cell_type": "code",
   "execution_count": null,
   "id": "d826764c",
   "metadata": {},
   "outputs": [],
   "source": []
  },
  {
   "cell_type": "code",
   "execution_count": null,
   "id": "63a418b4",
   "metadata": {},
   "outputs": [],
   "source": []
  },
  {
   "cell_type": "code",
   "execution_count": null,
   "id": "b7e4f739",
   "metadata": {},
   "outputs": [],
   "source": []
  },
  {
   "cell_type": "code",
   "execution_count": null,
   "id": "ecad0c0b",
   "metadata": {},
   "outputs": [],
   "source": []
  },
  {
   "cell_type": "code",
   "execution_count": null,
   "id": "48c7df46",
   "metadata": {},
   "outputs": [],
   "source": []
  },
  {
   "cell_type": "code",
   "execution_count": null,
   "id": "caf1ccaf",
   "metadata": {},
   "outputs": [],
   "source": []
  },
  {
   "cell_type": "code",
   "execution_count": null,
   "id": "85b70bbf",
   "metadata": {},
   "outputs": [],
   "source": []
  },
  {
   "cell_type": "code",
   "execution_count": null,
   "id": "db8391f3",
   "metadata": {},
   "outputs": [],
   "source": []
  },
  {
   "cell_type": "markdown",
   "id": "cc3f91ec",
   "metadata": {},
   "source": [
    "### Performance Metrics In Classification\n",
    "\n",
    "<li>Confusion Matrix</li>\n",
    "<li>Accuracy</li>\n",
    "<li>Precision</li>\n",
    "<li>Recall</li>\n",
    "<li>F1 Score</li>"
   ]
  },
  {
   "cell_type": "markdown",
   "id": "ee53f7b5",
   "metadata": {},
   "source": [
    "#### 1. Confusion Matrix\n",
    "\n",
    "<li>A confusion matrix is a table that is used to define the performance of a classification algorithm.</li>\n",
    "<li>It plots a table of all the predicted and actual values of a classifier.</li>\n",
    "\n",
    "![](images/confusion_matrix.png)\n",
    "\n",
    "\n",
    "<li>True Positives: Classifier predict positive and are actually positive.</li>\n",
    "<li>True Negatives: Classifier predict negative and are actually negative.</li>\n",
    "<li>False Positive:Classifier predict positive but are actually negative</li>\n",
    "<li>False Negative: Classifier predict negative but are actually positive.</li>"
   ]
  },
  {
   "cell_type": "markdown",
   "id": "edfdda9a",
   "metadata": {},
   "source": [
    "### 2. Accuracy \n",
    "<li>Accuracy is the degree of closeness between a measurement and its true value.</li>\n",
    "<li>Accuracy is defined as the number of correct predictions made by the model out of all possible predictions done by the model.</li>\n",
    "\n",
    "\n",
    "![](images/accuracy.png)"
   ]
  },
  {
   "cell_type": "markdown",
   "id": "4da63b30",
   "metadata": {},
   "source": [
    "#### 3. Precision\n",
    "\n",
    "<li>How often the examples predicted as positive by our classifier are actually positive?</li>\n",
    "<li>It is also called as Specificity or True Negative Rate.</li>\n",
    "    \n",
    "![](images/precision.png)"
   ]
  },
  {
   "cell_type": "markdown",
   "id": "a82f082b",
   "metadata": {},
   "source": [
    "#### 4. Recall\n",
    "<li>How often the examples that are actually positive are predicted as positive by our classifier.</li>\n",
    "<li>It is also called as Sensitivity or True Positive Rate.</li>\n",
    "\n",
    "![](images/recall.png)"
   ]
  },
  {
   "cell_type": "markdown",
   "id": "2cb985b8",
   "metadata": {},
   "source": [
    "#### 5. F1 Score\n",
    "\n",
    "<li>F1 Score is the harmonic mean between Precision & Recall.</li>\n",
    "\n",
    "![](images/f1_score.png)"
   ]
  },
  {
   "cell_type": "code",
   "execution_count": null,
   "id": "23b71464",
   "metadata": {},
   "outputs": [],
   "source": []
  },
  {
   "cell_type": "code",
   "execution_count": null,
   "id": "8709ddd0",
   "metadata": {},
   "outputs": [],
   "source": []
  },
  {
   "cell_type": "code",
   "execution_count": null,
   "id": "29444383",
   "metadata": {},
   "outputs": [],
   "source": []
  },
  {
   "cell_type": "code",
   "execution_count": null,
   "id": "dfad1822",
   "metadata": {},
   "outputs": [],
   "source": []
  },
  {
   "cell_type": "code",
   "execution_count": null,
   "id": "bd85f027",
   "metadata": {},
   "outputs": [],
   "source": []
  },
  {
   "cell_type": "code",
   "execution_count": null,
   "id": "15ef4d7a",
   "metadata": {},
   "outputs": [],
   "source": []
  }
 ],
 "metadata": {
  "kernelspec": {
   "display_name": "Python 3 (ipykernel)",
   "language": "python",
   "name": "python3"
  },
  "language_info": {
   "codemirror_mode": {
    "name": "ipython",
    "version": 3
   },
   "file_extension": ".py",
   "mimetype": "text/x-python",
   "name": "python",
   "nbconvert_exporter": "python",
   "pygments_lexer": "ipython3",
   "version": "3.8.0"
  }
 },
 "nbformat": 4,
 "nbformat_minor": 5
}
