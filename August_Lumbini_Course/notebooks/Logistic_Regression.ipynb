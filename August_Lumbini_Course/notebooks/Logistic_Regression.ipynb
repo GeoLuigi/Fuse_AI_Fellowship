{
 "cells": [
  {
   "cell_type": "markdown",
   "id": "ca2214bd",
   "metadata": {},
   "source": [
    "### Why linear Regression Cannot Be used For Classification\n",
    "\n",
    "<li>The output of a linear regression model is continuous and unbounded.</li>\n",
    "<li>This means that it can take any value along the real number line, which is not appropriate for categorical labels that have a finite set of discrete values.</li>\n",
    "\n",
    "<li>Linear regression assumes that the relationship between the input variables and the output variable is linear.</li>\n",
    "<li>However, in classification tasks, the relationship between the input variables and the class labels is often nonlinear, making it an unsuitable choice.</li>\n",
    "\n",
    "<li>In contrast, classification algorithms such as logistic regression, decision trees, and SVMs are designed specifically for categorical classification tasks.</li>\n",
    "\n",
    "![](images/linear_vs_logistic.png)\n",
    "\n",
    "<li>The Value of Y can exceed 1 and go below 0 if we use linear regression.</li>\n",
    "<li>But, we want an output as a probability of occurrence of the expected output(either 1 or 0). With this probability, we should be able to classify the output.</li>\n",
    "<li>The regression line we get from Linear Regression is highly sensitive to outliers.</li>\n",
    "<li>If the number of outliers relative to non-outlier data points is more than a few, then the model will be skewed away from the true underlying relationship.</li>\n",
    "<li>Thus it will not do a good job in classifying two classes.</li>"
   ]
  },
  {
   "cell_type": "markdown",
   "id": "40bfaa67",
   "metadata": {},
   "source": [
    "### What Is Logistic Regression?\n",
    "\n",
    "<li>Logistic regression is a statistical method used to predict the probability of an event occurring based on input variables.</li>\n",
    "<li>It is a form of regression analysis, which means it estimates the relationship between the input variables and the output variable.</li>\n",
    "<li>The output of logistic regression is a probability value between 0 and 1, which represents the likelihood of the event occurring given the input variables.</li>\n",
    "<li>This probability can be converted into a binary classification by setting a threshold value.</li>\n",
    "<li>For example, if the threshold is set to 0.5, we can classify observations with a predicted probability greater than or equal to 0.5 as \"positive\".</li>\n",
    "<li>And those with a predicted probability less than 0.5 as \"negative.\"</li>\n",
    "\n",
    "<li>Logistic regression is widely used in various fields such as marketing, healthcare, and finance, to make predictions and decisions based on probabilities.</li>\n",
    "<li>It is a powerful tool for analyzing data and making informed decisions based on the underlying patterns and relationships in the data.</li>\n",
    "\n",
    "![](images/logistic_regression.png)"
   ]
  },
  {
   "cell_type": "markdown",
   "id": "d615a470",
   "metadata": {},
   "source": [
    "### What is sigmoid function?\n",
    "\n",
    "<li>It is a mathematical function having a characteristic that can take any real value and map it to between 0 to 1 shaped like the letter “S”.</li>\n",
    "<li>The sigmoid function also called a logistic function.</li>\n",
    "<li>In logistic regression, sigmoid function is used to map the continuous probabilities in the range of 0 to 1 so that it can be used for binary classification.</li>\n",
    "\n",
    "![](images/sigmoid_function.png)"
   ]
  },
  {
   "cell_type": "markdown",
   "id": "2703a354",
   "metadata": {},
   "source": [
    "![](images/logistic_eqn.png)"
   ]
  },
  {
   "cell_type": "markdown",
   "id": "76fd8f7c",
   "metadata": {},
   "source": [
    "### Why logistic regression is called regression although it is used for classification tasks?\n",
    "\n",
    "<li>Logistic regression gives a continuous value of the probability that y=1 given input X.</li>\n",
    "<li>Since this probability is continuous (can take any value between 1 and 0), it means that the logistic regression is indeed a “regression”.</li>\n",
    "<li>It only happens that, in practice, it is used for classification problems by converting these probabilities into categories (1 or 0) using a threshold value.</li>"
   ]
  },
  {
   "cell_type": "markdown",
   "id": "90851eed",
   "metadata": {},
   "source": [
    "### Loss Function For Logistic Regression\n",
    "\n",
    "<li>The loss function used in logistic regression is the logistic loss function, also known as the cross-entropy loss function.</li>\n",
    "<li>It is a measure of the difference between the predicted probabilities and the true labels of the binary dependent variable.</li>\n",
    "\n",
    "**The logistic loss function is defined as:**\n",
    "\n",
    "<code>\n",
    "L(y, y') = -[y * log(y') + (1 - y) * log(1 - y')]\n",
    "</code>\n",
    "\n",
    "where:\n",
    "\n",
    "<li>y is the true binary label (0 or 1) of the observation</li>\n",
    "<li>y' is the predicted probability of the observation being in class 1 (i.e., the dependent variable taking the value 1)</li>\n",
    "<li>The logistic loss function penalizes the model more for larger prediction errors (i.e., when the predicted probability is far from the true label).</li>\n",
    "<li>When the predicted probability is close to the true label, the loss function is small, indicating a good fit.</li>\n",
    "\n",
    "<li>The goal of logistic regression is to minimize the total logistic loss function over all the training examples.</li>\n",
    "<li>This can be achieved through an optimization algorithm such as gradient descent.</li>\n",
    "<li>The optimization algorithm adjusts the parameters of the logistic regression model to minimize the loss function and improve the accuracy.</li>"
   ]
  },
  {
   "cell_type": "code",
   "execution_count": 1,
   "id": "68d4792a",
   "metadata": {},
   "outputs": [],
   "source": [
    "import os\n",
    "import numpy as np\n",
    "import pandas as pd\n",
    "import seaborn as sns\n",
    "import matplotlib.pyplot as plt"
   ]
  },
  {
   "cell_type": "code",
   "execution_count": 2,
   "id": "449b12bb",
   "metadata": {},
   "outputs": [
    {
     "name": "stdout",
     "output_type": "stream",
     "text": [
      "C:\\Users\\srval\\OneDrive\\Desktop\\Python_For_Data_Science\\August_Lumbini_Course\\csv_data\\Iris.csv\n"
     ]
    }
   ],
   "source": [
    "path_to_iris_data = os.path.join(os.path.dirname(os.getcwd()),\n",
    "                                 'csv_data', 'Iris.csv')\n",
    "print(path_to_iris_data)"
   ]
  },
  {
   "cell_type": "code",
   "execution_count": 4,
   "id": "6348a3d6",
   "metadata": {},
   "outputs": [
    {
     "name": "stdout",
     "output_type": "stream",
     "text": [
      "(150, 6)\n"
     ]
    },
    {
     "data": {
      "text/html": [
       "<div>\n",
       "<style scoped>\n",
       "    .dataframe tbody tr th:only-of-type {\n",
       "        vertical-align: middle;\n",
       "    }\n",
       "\n",
       "    .dataframe tbody tr th {\n",
       "        vertical-align: top;\n",
       "    }\n",
       "\n",
       "    .dataframe thead th {\n",
       "        text-align: right;\n",
       "    }\n",
       "</style>\n",
       "<table border=\"1\" class=\"dataframe\">\n",
       "  <thead>\n",
       "    <tr style=\"text-align: right;\">\n",
       "      <th></th>\n",
       "      <th>Id</th>\n",
       "      <th>SepalLengthCm</th>\n",
       "      <th>SepalWidthCm</th>\n",
       "      <th>PetalLengthCm</th>\n",
       "      <th>PetalWidthCm</th>\n",
       "      <th>Species</th>\n",
       "    </tr>\n",
       "  </thead>\n",
       "  <tbody>\n",
       "    <tr>\n",
       "      <th>0</th>\n",
       "      <td>1</td>\n",
       "      <td>5.1</td>\n",
       "      <td>3.5</td>\n",
       "      <td>1.4</td>\n",
       "      <td>0.2</td>\n",
       "      <td>Iris-setosa</td>\n",
       "    </tr>\n",
       "    <tr>\n",
       "      <th>1</th>\n",
       "      <td>2</td>\n",
       "      <td>4.9</td>\n",
       "      <td>3.0</td>\n",
       "      <td>1.4</td>\n",
       "      <td>0.2</td>\n",
       "      <td>Iris-setosa</td>\n",
       "    </tr>\n",
       "    <tr>\n",
       "      <th>2</th>\n",
       "      <td>3</td>\n",
       "      <td>4.7</td>\n",
       "      <td>3.2</td>\n",
       "      <td>1.3</td>\n",
       "      <td>0.2</td>\n",
       "      <td>Iris-setosa</td>\n",
       "    </tr>\n",
       "    <tr>\n",
       "      <th>3</th>\n",
       "      <td>4</td>\n",
       "      <td>4.6</td>\n",
       "      <td>3.1</td>\n",
       "      <td>1.5</td>\n",
       "      <td>0.2</td>\n",
       "      <td>Iris-setosa</td>\n",
       "    </tr>\n",
       "    <tr>\n",
       "      <th>4</th>\n",
       "      <td>5</td>\n",
       "      <td>5.0</td>\n",
       "      <td>3.6</td>\n",
       "      <td>1.4</td>\n",
       "      <td>0.2</td>\n",
       "      <td>Iris-setosa</td>\n",
       "    </tr>\n",
       "  </tbody>\n",
       "</table>\n",
       "</div>"
      ],
      "text/plain": [
       "   Id  SepalLengthCm  SepalWidthCm  PetalLengthCm  PetalWidthCm      Species\n",
       "0   1            5.1           3.5            1.4           0.2  Iris-setosa\n",
       "1   2            4.9           3.0            1.4           0.2  Iris-setosa\n",
       "2   3            4.7           3.2            1.3           0.2  Iris-setosa\n",
       "3   4            4.6           3.1            1.5           0.2  Iris-setosa\n",
       "4   5            5.0           3.6            1.4           0.2  Iris-setosa"
      ]
     },
     "execution_count": 4,
     "metadata": {},
     "output_type": "execute_result"
    }
   ],
   "source": [
    "iris_df = pd.read_csv(path_to_iris_data)\n",
    "print(iris_df.shape)\n",
    "iris_df.head()"
   ]
  },
  {
   "cell_type": "code",
   "execution_count": 6,
   "id": "7016a508",
   "metadata": {},
   "outputs": [
    {
     "data": {
      "text/plain": [
       "1      1\n",
       "95     1\n",
       "97     1\n",
       "98     1\n",
       "99     1\n",
       "      ..\n",
       "51     1\n",
       "52     1\n",
       "53     1\n",
       "54     1\n",
       "150    1\n",
       "Name: Id, Length: 150, dtype: int64"
      ]
     },
     "execution_count": 6,
     "metadata": {},
     "output_type": "execute_result"
    }
   ],
   "source": [
    "iris_df['Id'].value_counts()"
   ]
  },
  {
   "cell_type": "code",
   "execution_count": 7,
   "id": "dbba0eeb",
   "metadata": {},
   "outputs": [
    {
     "name": "stdout",
     "output_type": "stream",
     "text": [
      "(150, 5)\n"
     ]
    }
   ],
   "source": [
    "iris_df.drop(\"Id\", axis=1, inplace=True)\n",
    "print(iris_df.shape)"
   ]
  },
  {
   "cell_type": "markdown",
   "id": "5ab42cef",
   "metadata": {},
   "source": [
    "## Supervised learning "
   ]
  },
  {
   "cell_type": "code",
   "execution_count": 8,
   "id": "7ac81ef2",
   "metadata": {},
   "outputs": [],
   "source": [
    "data = iris_df.drop('Species', axis=1)\n",
    "labels = iris_df[\"Species\"]\n"
   ]
  },
  {
   "cell_type": "markdown",
   "id": "a78090c9",
   "metadata": {},
   "source": [
    "## Train Test Split"
   ]
  },
  {
   "cell_type": "code",
   "execution_count": 9,
   "id": "c6d31e0f",
   "metadata": {},
   "outputs": [],
   "source": [
    "from sklearn.model_selection import train_test_split\n",
    "from sklearn.metrics import classification_report, confusion_matrix"
   ]
  },
  {
   "cell_type": "code",
   "execution_count": 14,
   "id": "c27b3a1a",
   "metadata": {},
   "outputs": [],
   "source": [
    "import warnings\n",
    "\n",
    "warnings.filterwarnings('ignore')"
   ]
  },
  {
   "cell_type": "code",
   "execution_count": 10,
   "id": "7f140cfc",
   "metadata": {},
   "outputs": [
    {
     "name": "stdout",
     "output_type": "stream",
     "text": [
      "(120, 4)\n",
      "(30, 4)\n",
      "(120,)\n",
      "(30,)\n"
     ]
    }
   ],
   "source": [
    "x_train, x_test, y_train, y_test = train_test_split(data, labels, \n",
    "                                                    test_size=0.2,\n",
    "                                                   random_state=42,\n",
    "                                                   stratify=labels)\n",
    "\n",
    "print(x_train.shape)\n",
    "print(x_test.shape)\n",
    "\n",
    "print(y_train.shape)\n",
    "print(y_test.shape)"
   ]
  },
  {
   "cell_type": "code",
   "execution_count": 11,
   "id": "6beaa823",
   "metadata": {},
   "outputs": [],
   "source": [
    "from sklearn.linear_model import LogisticRegression"
   ]
  },
  {
   "cell_type": "code",
   "execution_count": 12,
   "id": "5ad1e3d0",
   "metadata": {},
   "outputs": [],
   "source": [
    "log_reg = LogisticRegression()"
   ]
  },
  {
   "cell_type": "markdown",
   "id": "aa22cdb6",
   "metadata": {},
   "source": [
    "## Lets fit logistic regression object in training data"
   ]
  },
  {
   "cell_type": "code",
   "execution_count": 15,
   "id": "3b8aad20",
   "metadata": {
    "scrolled": true
   },
   "outputs": [
    {
     "data": {
      "text/html": [
       "<style>#sk-container-id-2 {color: black;background-color: white;}#sk-container-id-2 pre{padding: 0;}#sk-container-id-2 div.sk-toggleable {background-color: white;}#sk-container-id-2 label.sk-toggleable__label {cursor: pointer;display: block;width: 100%;margin-bottom: 0;padding: 0.3em;box-sizing: border-box;text-align: center;}#sk-container-id-2 label.sk-toggleable__label-arrow:before {content: \"▸\";float: left;margin-right: 0.25em;color: #696969;}#sk-container-id-2 label.sk-toggleable__label-arrow:hover:before {color: black;}#sk-container-id-2 div.sk-estimator:hover label.sk-toggleable__label-arrow:before {color: black;}#sk-container-id-2 div.sk-toggleable__content {max-height: 0;max-width: 0;overflow: hidden;text-align: left;background-color: #f0f8ff;}#sk-container-id-2 div.sk-toggleable__content pre {margin: 0.2em;color: black;border-radius: 0.25em;background-color: #f0f8ff;}#sk-container-id-2 input.sk-toggleable__control:checked~div.sk-toggleable__content {max-height: 200px;max-width: 100%;overflow: auto;}#sk-container-id-2 input.sk-toggleable__control:checked~label.sk-toggleable__label-arrow:before {content: \"▾\";}#sk-container-id-2 div.sk-estimator input.sk-toggleable__control:checked~label.sk-toggleable__label {background-color: #d4ebff;}#sk-container-id-2 div.sk-label input.sk-toggleable__control:checked~label.sk-toggleable__label {background-color: #d4ebff;}#sk-container-id-2 input.sk-hidden--visually {border: 0;clip: rect(1px 1px 1px 1px);clip: rect(1px, 1px, 1px, 1px);height: 1px;margin: -1px;overflow: hidden;padding: 0;position: absolute;width: 1px;}#sk-container-id-2 div.sk-estimator {font-family: monospace;background-color: #f0f8ff;border: 1px dotted black;border-radius: 0.25em;box-sizing: border-box;margin-bottom: 0.5em;}#sk-container-id-2 div.sk-estimator:hover {background-color: #d4ebff;}#sk-container-id-2 div.sk-parallel-item::after {content: \"\";width: 100%;border-bottom: 1px solid gray;flex-grow: 1;}#sk-container-id-2 div.sk-label:hover label.sk-toggleable__label {background-color: #d4ebff;}#sk-container-id-2 div.sk-serial::before {content: \"\";position: absolute;border-left: 1px solid gray;box-sizing: border-box;top: 0;bottom: 0;left: 50%;z-index: 0;}#sk-container-id-2 div.sk-serial {display: flex;flex-direction: column;align-items: center;background-color: white;padding-right: 0.2em;padding-left: 0.2em;position: relative;}#sk-container-id-2 div.sk-item {position: relative;z-index: 1;}#sk-container-id-2 div.sk-parallel {display: flex;align-items: stretch;justify-content: center;background-color: white;position: relative;}#sk-container-id-2 div.sk-item::before, #sk-container-id-2 div.sk-parallel-item::before {content: \"\";position: absolute;border-left: 1px solid gray;box-sizing: border-box;top: 0;bottom: 0;left: 50%;z-index: -1;}#sk-container-id-2 div.sk-parallel-item {display: flex;flex-direction: column;z-index: 1;position: relative;background-color: white;}#sk-container-id-2 div.sk-parallel-item:first-child::after {align-self: flex-end;width: 50%;}#sk-container-id-2 div.sk-parallel-item:last-child::after {align-self: flex-start;width: 50%;}#sk-container-id-2 div.sk-parallel-item:only-child::after {width: 0;}#sk-container-id-2 div.sk-dashed-wrapped {border: 1px dashed gray;margin: 0 0.4em 0.5em 0.4em;box-sizing: border-box;padding-bottom: 0.4em;background-color: white;}#sk-container-id-2 div.sk-label label {font-family: monospace;font-weight: bold;display: inline-block;line-height: 1.2em;}#sk-container-id-2 div.sk-label-container {text-align: center;}#sk-container-id-2 div.sk-container {/* jupyter's `normalize.less` sets `[hidden] { display: none; }` but bootstrap.min.css set `[hidden] { display: none !important; }` so we also need the `!important` here to be able to override the default hidden behavior on the sphinx rendered scikit-learn.org. See: https://github.com/scikit-learn/scikit-learn/issues/21755 */display: inline-block !important;position: relative;}#sk-container-id-2 div.sk-text-repr-fallback {display: none;}</style><div id=\"sk-container-id-2\" class=\"sk-top-container\"><div class=\"sk-text-repr-fallback\"><pre>LogisticRegression()</pre><b>In a Jupyter environment, please rerun this cell to show the HTML representation or trust the notebook. <br />On GitHub, the HTML representation is unable to render, please try loading this page with nbviewer.org.</b></div><div class=\"sk-container\" hidden><div class=\"sk-item\"><div class=\"sk-estimator sk-toggleable\"><input class=\"sk-toggleable__control sk-hidden--visually\" id=\"sk-estimator-id-2\" type=\"checkbox\" checked><label for=\"sk-estimator-id-2\" class=\"sk-toggleable__label sk-toggleable__label-arrow\">LogisticRegression</label><div class=\"sk-toggleable__content\"><pre>LogisticRegression()</pre></div></div></div></div></div>"
      ],
      "text/plain": [
       "LogisticRegression()"
      ]
     },
     "execution_count": 15,
     "metadata": {},
     "output_type": "execute_result"
    }
   ],
   "source": [
    "log_reg.fit(x_train, y_train)"
   ]
  },
  {
   "cell_type": "code",
   "execution_count": 16,
   "id": "8ca6ec75",
   "metadata": {},
   "outputs": [
    {
     "data": {
      "text/plain": [
       "array([[-5.27109436e-01,  8.17430700e-01, -2.34726292e+00,\n",
       "        -1.00824891e+00],\n",
       "       [ 5.28851735e-01, -3.01825662e-01, -1.71064512e-01,\n",
       "        -8.46947334e-01],\n",
       "       [-1.74229846e-03, -5.15605038e-01,  2.51832743e+00,\n",
       "         1.85519624e+00]])"
      ]
     },
     "execution_count": 16,
     "metadata": {},
     "output_type": "execute_result"
    }
   ],
   "source": [
    "log_reg.coef_"
   ]
  },
  {
   "cell_type": "code",
   "execution_count": 17,
   "id": "f3201174",
   "metadata": {},
   "outputs": [
    {
     "name": "stdout",
     "output_type": "stream",
     "text": [
      "['Iris-setosa' 'Iris-virginica' 'Iris-versicolor' 'Iris-versicolor'\n",
      " 'Iris-setosa' 'Iris-versicolor' 'Iris-setosa' 'Iris-setosa'\n",
      " 'Iris-virginica' 'Iris-versicolor' 'Iris-virginica' 'Iris-virginica'\n",
      " 'Iris-virginica' 'Iris-versicolor' 'Iris-setosa' 'Iris-setosa'\n",
      " 'Iris-setosa' 'Iris-versicolor' 'Iris-versicolor' 'Iris-virginica'\n",
      " 'Iris-setosa' 'Iris-virginica' 'Iris-versicolor' 'Iris-virginica'\n",
      " 'Iris-virginica' 'Iris-virginica' 'Iris-versicolor' 'Iris-setosa'\n",
      " 'Iris-virginica' 'Iris-setosa']\n"
     ]
    }
   ],
   "source": [
    "predictions = log_reg.predict(x_test)\n",
    "print(predictions)"
   ]
  },
  {
   "cell_type": "code",
   "execution_count": 18,
   "id": "28856303",
   "metadata": {},
   "outputs": [
    {
     "data": {
      "text/html": [
       "<div>\n",
       "<style scoped>\n",
       "    .dataframe tbody tr th:only-of-type {\n",
       "        vertical-align: middle;\n",
       "    }\n",
       "\n",
       "    .dataframe tbody tr th {\n",
       "        vertical-align: top;\n",
       "    }\n",
       "\n",
       "    .dataframe thead th {\n",
       "        text-align: right;\n",
       "    }\n",
       "</style>\n",
       "<table border=\"1\" class=\"dataframe\">\n",
       "  <thead>\n",
       "    <tr style=\"text-align: right;\">\n",
       "      <th></th>\n",
       "      <th>actuals</th>\n",
       "      <th>predicted</th>\n",
       "    </tr>\n",
       "  </thead>\n",
       "  <tbody>\n",
       "    <tr>\n",
       "      <th>38</th>\n",
       "      <td>Iris-setosa</td>\n",
       "      <td>Iris-setosa</td>\n",
       "    </tr>\n",
       "    <tr>\n",
       "      <th>127</th>\n",
       "      <td>Iris-virginica</td>\n",
       "      <td>Iris-virginica</td>\n",
       "    </tr>\n",
       "    <tr>\n",
       "      <th>57</th>\n",
       "      <td>Iris-versicolor</td>\n",
       "      <td>Iris-versicolor</td>\n",
       "    </tr>\n",
       "    <tr>\n",
       "      <th>93</th>\n",
       "      <td>Iris-versicolor</td>\n",
       "      <td>Iris-versicolor</td>\n",
       "    </tr>\n",
       "    <tr>\n",
       "      <th>42</th>\n",
       "      <td>Iris-setosa</td>\n",
       "      <td>Iris-setosa</td>\n",
       "    </tr>\n",
       "    <tr>\n",
       "      <th>56</th>\n",
       "      <td>Iris-versicolor</td>\n",
       "      <td>Iris-versicolor</td>\n",
       "    </tr>\n",
       "    <tr>\n",
       "      <th>22</th>\n",
       "      <td>Iris-setosa</td>\n",
       "      <td>Iris-setosa</td>\n",
       "    </tr>\n",
       "    <tr>\n",
       "      <th>20</th>\n",
       "      <td>Iris-setosa</td>\n",
       "      <td>Iris-setosa</td>\n",
       "    </tr>\n",
       "    <tr>\n",
       "      <th>147</th>\n",
       "      <td>Iris-virginica</td>\n",
       "      <td>Iris-virginica</td>\n",
       "    </tr>\n",
       "    <tr>\n",
       "      <th>84</th>\n",
       "      <td>Iris-versicolor</td>\n",
       "      <td>Iris-versicolor</td>\n",
       "    </tr>\n",
       "    <tr>\n",
       "      <th>107</th>\n",
       "      <td>Iris-virginica</td>\n",
       "      <td>Iris-virginica</td>\n",
       "    </tr>\n",
       "    <tr>\n",
       "      <th>141</th>\n",
       "      <td>Iris-virginica</td>\n",
       "      <td>Iris-virginica</td>\n",
       "    </tr>\n",
       "    <tr>\n",
       "      <th>104</th>\n",
       "      <td>Iris-virginica</td>\n",
       "      <td>Iris-virginica</td>\n",
       "    </tr>\n",
       "    <tr>\n",
       "      <th>51</th>\n",
       "      <td>Iris-versicolor</td>\n",
       "      <td>Iris-versicolor</td>\n",
       "    </tr>\n",
       "    <tr>\n",
       "      <th>7</th>\n",
       "      <td>Iris-setosa</td>\n",
       "      <td>Iris-setosa</td>\n",
       "    </tr>\n",
       "    <tr>\n",
       "      <th>49</th>\n",
       "      <td>Iris-setosa</td>\n",
       "      <td>Iris-setosa</td>\n",
       "    </tr>\n",
       "    <tr>\n",
       "      <th>14</th>\n",
       "      <td>Iris-setosa</td>\n",
       "      <td>Iris-setosa</td>\n",
       "    </tr>\n",
       "    <tr>\n",
       "      <th>69</th>\n",
       "      <td>Iris-versicolor</td>\n",
       "      <td>Iris-versicolor</td>\n",
       "    </tr>\n",
       "    <tr>\n",
       "      <th>63</th>\n",
       "      <td>Iris-versicolor</td>\n",
       "      <td>Iris-versicolor</td>\n",
       "    </tr>\n",
       "    <tr>\n",
       "      <th>138</th>\n",
       "      <td>Iris-virginica</td>\n",
       "      <td>Iris-virginica</td>\n",
       "    </tr>\n",
       "    <tr>\n",
       "      <th>10</th>\n",
       "      <td>Iris-setosa</td>\n",
       "      <td>Iris-setosa</td>\n",
       "    </tr>\n",
       "    <tr>\n",
       "      <th>140</th>\n",
       "      <td>Iris-virginica</td>\n",
       "      <td>Iris-virginica</td>\n",
       "    </tr>\n",
       "    <tr>\n",
       "      <th>58</th>\n",
       "      <td>Iris-versicolor</td>\n",
       "      <td>Iris-versicolor</td>\n",
       "    </tr>\n",
       "    <tr>\n",
       "      <th>134</th>\n",
       "      <td>Iris-virginica</td>\n",
       "      <td>Iris-virginica</td>\n",
       "    </tr>\n",
       "    <tr>\n",
       "      <th>132</th>\n",
       "      <td>Iris-virginica</td>\n",
       "      <td>Iris-virginica</td>\n",
       "    </tr>\n",
       "    <tr>\n",
       "      <th>77</th>\n",
       "      <td>Iris-versicolor</td>\n",
       "      <td>Iris-virginica</td>\n",
       "    </tr>\n",
       "    <tr>\n",
       "      <th>75</th>\n",
       "      <td>Iris-versicolor</td>\n",
       "      <td>Iris-versicolor</td>\n",
       "    </tr>\n",
       "    <tr>\n",
       "      <th>18</th>\n",
       "      <td>Iris-setosa</td>\n",
       "      <td>Iris-setosa</td>\n",
       "    </tr>\n",
       "    <tr>\n",
       "      <th>116</th>\n",
       "      <td>Iris-virginica</td>\n",
       "      <td>Iris-virginica</td>\n",
       "    </tr>\n",
       "    <tr>\n",
       "      <th>28</th>\n",
       "      <td>Iris-setosa</td>\n",
       "      <td>Iris-setosa</td>\n",
       "    </tr>\n",
       "  </tbody>\n",
       "</table>\n",
       "</div>"
      ],
      "text/plain": [
       "             actuals        predicted\n",
       "38       Iris-setosa      Iris-setosa\n",
       "127   Iris-virginica   Iris-virginica\n",
       "57   Iris-versicolor  Iris-versicolor\n",
       "93   Iris-versicolor  Iris-versicolor\n",
       "42       Iris-setosa      Iris-setosa\n",
       "56   Iris-versicolor  Iris-versicolor\n",
       "22       Iris-setosa      Iris-setosa\n",
       "20       Iris-setosa      Iris-setosa\n",
       "147   Iris-virginica   Iris-virginica\n",
       "84   Iris-versicolor  Iris-versicolor\n",
       "107   Iris-virginica   Iris-virginica\n",
       "141   Iris-virginica   Iris-virginica\n",
       "104   Iris-virginica   Iris-virginica\n",
       "51   Iris-versicolor  Iris-versicolor\n",
       "7        Iris-setosa      Iris-setosa\n",
       "49       Iris-setosa      Iris-setosa\n",
       "14       Iris-setosa      Iris-setosa\n",
       "69   Iris-versicolor  Iris-versicolor\n",
       "63   Iris-versicolor  Iris-versicolor\n",
       "138   Iris-virginica   Iris-virginica\n",
       "10       Iris-setosa      Iris-setosa\n",
       "140   Iris-virginica   Iris-virginica\n",
       "58   Iris-versicolor  Iris-versicolor\n",
       "134   Iris-virginica   Iris-virginica\n",
       "132   Iris-virginica   Iris-virginica\n",
       "77   Iris-versicolor   Iris-virginica\n",
       "75   Iris-versicolor  Iris-versicolor\n",
       "18       Iris-setosa      Iris-setosa\n",
       "116   Iris-virginica   Iris-virginica\n",
       "28       Iris-setosa      Iris-setosa"
      ]
     },
     "execution_count": 18,
     "metadata": {},
     "output_type": "execute_result"
    }
   ],
   "source": [
    "act_vs_pred_df = pd.DataFrame({\"actuals\": y_test,\n",
    "                              \"predicted\": predictions})\n",
    "act_vs_pred_df"
   ]
  },
  {
   "cell_type": "code",
   "execution_count": null,
   "id": "023cfdbb",
   "metadata": {},
   "outputs": [],
   "source": []
  },
  {
   "cell_type": "code",
   "execution_count": null,
   "id": "417e81bf",
   "metadata": {},
   "outputs": [],
   "source": []
  },
  {
   "cell_type": "code",
   "execution_count": null,
   "id": "36d9daed",
   "metadata": {},
   "outputs": [],
   "source": []
  },
  {
   "cell_type": "code",
   "execution_count": null,
   "id": "ea125028",
   "metadata": {},
   "outputs": [],
   "source": []
  },
  {
   "cell_type": "code",
   "execution_count": null,
   "id": "2c9bb387",
   "metadata": {},
   "outputs": [],
   "source": []
  },
  {
   "cell_type": "code",
   "execution_count": null,
   "id": "388d504f",
   "metadata": {},
   "outputs": [],
   "source": []
  },
  {
   "cell_type": "code",
   "execution_count": null,
   "id": "d826764c",
   "metadata": {},
   "outputs": [],
   "source": []
  },
  {
   "cell_type": "code",
   "execution_count": null,
   "id": "63a418b4",
   "metadata": {},
   "outputs": [],
   "source": []
  },
  {
   "cell_type": "code",
   "execution_count": null,
   "id": "b7e4f739",
   "metadata": {},
   "outputs": [],
   "source": []
  },
  {
   "cell_type": "markdown",
   "id": "cc3f91ec",
   "metadata": {},
   "source": [
    "### Performance Metrics In Classification\n",
    "\n",
    "<li>Confusion Matrix</li>\n",
    "<li>Accuracy</li>\n",
    "<li>Precision</li>\n",
    "<li>Recall</li>\n",
    "<li>F1 Score</li>"
   ]
  },
  {
   "cell_type": "markdown",
   "id": "ee53f7b5",
   "metadata": {},
   "source": [
    "#### 1. Confusion Matrix\n",
    "\n",
    "<li>A confusion matrix is a table that is used to define the performance of a classification algorithm.</li>\n",
    "<li>It plots a table of all the predicted and actual values of a classifier.</li>\n",
    "\n",
    "![](images/confusion_matrix.png)\n",
    "\n",
    "\n",
    "<li>True Positives: Classifier predict positive and are actually positive.</li>\n",
    "<li>True Negatives: Classifier predict negative and are actually negative.</li>\n",
    "<li>False Positive:Classifier predict positive but are actually negative</li>\n",
    "<li>False Negative: Classifier predict negative but are actually positive.</li>"
   ]
  },
  {
   "cell_type": "markdown",
   "id": "edfdda9a",
   "metadata": {},
   "source": [
    "### 2. Accuracy \n",
    "<li>Accuracy is the degree of closeness between a measurement and its true value.</li>\n",
    "<li>Accuracy is defined as the number of correct predictions made by the model out of all possible predictions done by the model.</li>\n",
    "\n",
    "\n",
    "![](images/accuracy.png)"
   ]
  },
  {
   "cell_type": "markdown",
   "id": "4da63b30",
   "metadata": {},
   "source": [
    "#### 3. Precision\n",
    "\n",
    "<li>How often the examples predicted as positive by our classifier are actually positive?</li>\n",
    "<li>It is also called as Specificity or True Negative Rate.</li>\n",
    "    \n",
    "![](images/precision.png)"
   ]
  },
  {
   "cell_type": "markdown",
   "id": "a82f082b",
   "metadata": {},
   "source": [
    "#### 4. Recall\n",
    "<li>How often the examples that are actually positive are predicted as positive by our classifier.</li>\n",
    "<li>It is also called as Sensitivity or True Positive Rate.</li>\n",
    "\n",
    "![](images/recall.png)"
   ]
  },
  {
   "cell_type": "markdown",
   "id": "2cb985b8",
   "metadata": {},
   "source": [
    "#### 5. F1 Score\n",
    "\n",
    "<li>F1 Score is the harmonic mean between Precision & Recall.</li>\n",
    "\n",
    "![](images/f1_score.png)"
   ]
  },
  {
   "cell_type": "code",
   "execution_count": 19,
   "id": "23b71464",
   "metadata": {},
   "outputs": [
    {
     "name": "stdout",
     "output_type": "stream",
     "text": [
      "[[10  0  0]\n",
      " [ 0  9  1]\n",
      " [ 0  0 10]]\n"
     ]
    }
   ],
   "source": [
    "print(confusion_matrix(y_test, predictions))"
   ]
  },
  {
   "cell_type": "code",
   "execution_count": 20,
   "id": "8709ddd0",
   "metadata": {},
   "outputs": [
    {
     "name": "stdout",
     "output_type": "stream",
     "text": [
      "                 precision    recall  f1-score   support\n",
      "\n",
      "    Iris-setosa       1.00      1.00      1.00        10\n",
      "Iris-versicolor       1.00      0.90      0.95        10\n",
      " Iris-virginica       0.91      1.00      0.95        10\n",
      "\n",
      "       accuracy                           0.97        30\n",
      "      macro avg       0.97      0.97      0.97        30\n",
      "   weighted avg       0.97      0.97      0.97        30\n",
      "\n"
     ]
    }
   ],
   "source": [
    "print(classification_report(y_test, predictions))"
   ]
  },
  {
   "cell_type": "code",
   "execution_count": null,
   "id": "29444383",
   "metadata": {},
   "outputs": [],
   "source": []
  },
  {
   "cell_type": "code",
   "execution_count": null,
   "id": "dfad1822",
   "metadata": {},
   "outputs": [],
   "source": []
  },
  {
   "cell_type": "code",
   "execution_count": null,
   "id": "bd85f027",
   "metadata": {},
   "outputs": [],
   "source": []
  },
  {
   "cell_type": "code",
   "execution_count": null,
   "id": "15ef4d7a",
   "metadata": {},
   "outputs": [],
   "source": []
  }
 ],
 "metadata": {
  "kernelspec": {
   "display_name": "Python 3 (ipykernel)",
   "language": "python",
   "name": "python3"
  },
  "language_info": {
   "codemirror_mode": {
    "name": "ipython",
    "version": 3
   },
   "file_extension": ".py",
   "mimetype": "text/x-python",
   "name": "python",
   "nbconvert_exporter": "python",
   "pygments_lexer": "ipython3",
   "version": "3.8.0"
  }
 },
 "nbformat": 4,
 "nbformat_minor": 5
}
