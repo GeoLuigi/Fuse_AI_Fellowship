{
 "cells": [
  {
   "cell_type": "markdown",
   "id": "7f41bbc5",
   "metadata": {},
   "source": [
    "### Function with no return type"
   ]
  },
  {
   "cell_type": "code",
   "execution_count": 4,
   "id": "9e8e9440",
   "metadata": {},
   "outputs": [],
   "source": [
    "def display_name():\n",
    "    print(\"My name is Prabhat Ale\")\n",
    "          "
   ]
  },
  {
   "cell_type": "code",
   "execution_count": 5,
   "id": "392e95af",
   "metadata": {},
   "outputs": [
    {
     "name": "stdout",
     "output_type": "stream",
     "text": [
      "My name is Prabhat Ale\n"
     ]
    }
   ],
   "source": [
    "display_name()"
   ]
  },
  {
   "cell_type": "markdown",
   "id": "e0a23b45",
   "metadata": {},
   "source": [
    "### Function with no return type and arguments"
   ]
  },
  {
   "cell_type": "code",
   "execution_count": 6,
   "id": "beb52bcb",
   "metadata": {},
   "outputs": [],
   "source": [
    "def display_name(name_str):\n",
    "    print(\"My name is {}\".format(name_str))"
   ]
  },
  {
   "cell_type": "code",
   "execution_count": 8,
   "id": "f9b8c03d",
   "metadata": {},
   "outputs": [
    {
     "name": "stdout",
     "output_type": "stream",
     "text": [
      "My name is Alin Thapa\n"
     ]
    }
   ],
   "source": [
    "display_name(\"Alin Thapa\")"
   ]
  },
  {
   "cell_type": "markdown",
   "id": "a9d9df7a",
   "metadata": {},
   "source": [
    "## Function with return type"
   ]
  },
  {
   "cell_type": "code",
   "execution_count": 1,
   "id": "25ebe369",
   "metadata": {},
   "outputs": [],
   "source": [
    "def addition():\n",
    "    a = 5\n",
    "    b = 6\n",
    "    s = a + b\n",
    "    return s"
   ]
  },
  {
   "cell_type": "markdown",
   "id": "c29386f7",
   "metadata": {},
   "source": [
    "## Call a function"
   ]
  },
  {
   "cell_type": "code",
   "execution_count": 2,
   "id": "af581342",
   "metadata": {},
   "outputs": [
    {
     "name": "stdout",
     "output_type": "stream",
     "text": [
      "11\n"
     ]
    }
   ],
   "source": [
    "s = addition()\n",
    "print(s)"
   ]
  },
  {
   "cell_type": "markdown",
   "id": "73be7f63",
   "metadata": {},
   "source": [
    "### Function with return type and arguments"
   ]
  },
  {
   "cell_type": "code",
   "execution_count": 9,
   "id": "611d9258",
   "metadata": {},
   "outputs": [],
   "source": [
    "def addition(a, b):\n",
    "    s = a+b\n",
    "    return s"
   ]
  },
  {
   "cell_type": "code",
   "execution_count": 10,
   "id": "80f9be1e",
   "metadata": {},
   "outputs": [
    {
     "name": "stdout",
     "output_type": "stream",
     "text": [
      "15\n"
     ]
    }
   ],
   "source": [
    "s = addition(6,9)\n",
    "print(s)"
   ]
  },
  {
   "cell_type": "markdown",
   "id": "73dbd0cf",
   "metadata": {},
   "source": [
    "### Positional and Non Positional Arguments"
   ]
  },
  {
   "cell_type": "code",
   "execution_count": 11,
   "id": "d1b55869",
   "metadata": {},
   "outputs": [],
   "source": [
    "def display_name(lname, fname):\n",
    "    return \"My name is {} {}\".format(fname, lname)"
   ]
  },
  {
   "cell_type": "markdown",
   "id": "e103a950",
   "metadata": {},
   "source": [
    "### The below is your positional argument (Non Keyword argument)"
   ]
  },
  {
   "cell_type": "code",
   "execution_count": 13,
   "id": "76586a2f",
   "metadata": {},
   "outputs": [
    {
     "name": "stdout",
     "output_type": "stream",
     "text": [
      "My name is Prabhat Ale\n"
     ]
    }
   ],
   "source": [
    "myname = display_name(\"Ale\", \"Prabhat\")\n",
    "print(myname)"
   ]
  },
  {
   "cell_type": "markdown",
   "id": "6575b44f",
   "metadata": {},
   "source": [
    "### The below is your non-positional argument(keyword argument)"
   ]
  },
  {
   "cell_type": "code",
   "execution_count": 14,
   "id": "abb0373e",
   "metadata": {},
   "outputs": [
    {
     "name": "stdout",
     "output_type": "stream",
     "text": [
      "My name is Prabhat Ale\n"
     ]
    }
   ],
   "source": [
    "myname = display_name(fname=\"Prabhat\", lname = \"Ale\")\n",
    "print(myname)"
   ]
  },
  {
   "cell_type": "markdown",
   "id": "5fb273a8",
   "metadata": {},
   "source": [
    "### Default Arguments"
   ]
  },
  {
   "cell_type": "code",
   "execution_count": 15,
   "id": "22671a00",
   "metadata": {},
   "outputs": [],
   "source": [
    "def subtraction(a, b = 5):\n",
    "    diff = a - b\n",
    "    return diff"
   ]
  },
  {
   "cell_type": "code",
   "execution_count": 18,
   "id": "2e3f6b58",
   "metadata": {},
   "outputs": [
    {
     "name": "stdout",
     "output_type": "stream",
     "text": [
      "4\n"
     ]
    }
   ],
   "source": [
    "diff = subtraction(7, 3)\n",
    "print(diff)"
   ]
  },
  {
   "cell_type": "code",
   "execution_count": 19,
   "id": "621698d7",
   "metadata": {},
   "outputs": [],
   "source": [
    "def square_num(num):\n",
    "    return num * num"
   ]
  },
  {
   "cell_type": "code",
   "execution_count": 20,
   "id": "e5e560b2",
   "metadata": {},
   "outputs": [
    {
     "name": "stdout",
     "output_type": "stream",
     "text": [
      "81\n"
     ]
    }
   ],
   "source": [
    "square = square_num(num=9)\n",
    "print(square)"
   ]
  },
  {
   "cell_type": "code",
   "execution_count": 21,
   "id": "f6750329",
   "metadata": {},
   "outputs": [],
   "source": [
    "def cube_num(num):\n",
    "    return num ** 3"
   ]
  },
  {
   "cell_type": "code",
   "execution_count": 22,
   "id": "82afce10",
   "metadata": {},
   "outputs": [
    {
     "name": "stdout",
     "output_type": "stream",
     "text": [
      "27\n"
     ]
    }
   ],
   "source": [
    "cube = cube_num(num=3)\n",
    "print(cube)"
   ]
  },
  {
   "cell_type": "code",
   "execution_count": 23,
   "id": "b7630cae",
   "metadata": {},
   "outputs": [],
   "source": [
    "data = [\"apple\",\"mango\",\"banana\",\"banana\",\"orange\",\"mango\",\n",
    "       \"apple\",\"mango\",\"banana\",\"apple\",\"banana\",\"orange\",\"mango\",\n",
    "       \"apple\"]"
   ]
  },
  {
   "cell_type": "code",
   "execution_count": 28,
   "id": "b1d7552b",
   "metadata": {},
   "outputs": [],
   "source": [
    "genders = [\"male\", \"female\",\"female\",\"male\",\"male\",\"female\",\"male\",\n",
    "          \"female\",\"female\",\"male\", \"female\"]"
   ]
  },
  {
   "cell_type": "code",
   "execution_count": 30,
   "id": "ba5d79aa",
   "metadata": {},
   "outputs": [],
   "source": [
    "def freq_count(data):\n",
    "    count_dict = {}\n",
    "    for item in data:\n",
    "        if item not in count_dict:\n",
    "            count_dict[item] = 1\n",
    "        else:\n",
    "            count_dict[item] += 1\n",
    "    return count_dict\n",
    "            "
   ]
  },
  {
   "cell_type": "code",
   "execution_count": 32,
   "id": "fae7eddb",
   "metadata": {},
   "outputs": [
    {
     "name": "stdout",
     "output_type": "stream",
     "text": [
      "{'apple': 4, 'mango': 4, 'banana': 4, 'orange': 2}\n"
     ]
    }
   ],
   "source": [
    "count_dict = freq_count(data=data)\n",
    "print(count_dict)"
   ]
  },
  {
   "cell_type": "code",
   "execution_count": 33,
   "id": "acb63c18",
   "metadata": {},
   "outputs": [
    {
     "name": "stdout",
     "output_type": "stream",
     "text": [
      "{'male': 5, 'female': 6}\n"
     ]
    }
   ],
   "source": [
    "gender_dict = freq_count(data=genders)\n",
    "print(gender_dict)"
   ]
  },
  {
   "cell_type": "markdown",
   "id": "b5ba52cf",
   "metadata": {},
   "source": [
    "### Create a function to check and return the largest number among three numbers"
   ]
  },
  {
   "cell_type": "markdown",
   "id": "88e52b0d",
   "metadata": {},
   "source": [
    "### Create a function to check whether the given number is even or odd"
   ]
  },
  {
   "cell_type": "code",
   "execution_count": null,
   "id": "8c2b2ca1",
   "metadata": {},
   "outputs": [],
   "source": []
  },
  {
   "cell_type": "code",
   "execution_count": null,
   "id": "31f11ff2",
   "metadata": {},
   "outputs": [],
   "source": []
  }
 ],
 "metadata": {
  "kernelspec": {
   "display_name": "Python 3 (ipykernel)",
   "language": "python",
   "name": "python3"
  },
  "language_info": {
   "codemirror_mode": {
    "name": "ipython",
    "version": 3
   },
   "file_extension": ".py",
   "mimetype": "text/x-python",
   "name": "python",
   "nbconvert_exporter": "python",
   "pygments_lexer": "ipython3",
   "version": "3.8.0"
  }
 },
 "nbformat": 4,
 "nbformat_minor": 5
}
