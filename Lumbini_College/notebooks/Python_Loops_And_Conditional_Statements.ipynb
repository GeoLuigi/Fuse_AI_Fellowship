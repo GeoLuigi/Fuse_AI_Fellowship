{
 "cells": [
  {
   "cell_type": "markdown",
   "id": "8a829c71",
   "metadata": {},
   "source": [
    "****Python has two different types of loop commands:****\n",
    "<ol>\n",
    "    <li>for loops</li>\n",
    "    <li>while loops</li>\n",
    "</ol>"
   ]
  },
  {
   "cell_type": "markdown",
   "id": "41c9745a",
   "metadata": {},
   "source": [
    "#### For Loops\n",
    "<li>In Python, the for loop is used to run a block of code for a certain number of times.</li>\n",
    "<li>A for loop is used for iterating over a sequence (that is either a list, a tuple, a dictionary, a set, or a string).</li>\n",
    "<li>We call this technique a <b>loop</b> because we are <b>looping</b> over each element in the list and performing an action on each element.</li> \n",
    "<li>Because we always start with <b>for</b>, we call this technique a <b>for loop.</b></li>"
   ]
  },
  {
   "cell_type": "markdown",
   "id": "b40c8af1",
   "metadata": {},
   "source": [
    "![](images/for_loop_script.png)"
   ]
  },
  {
   "cell_type": "markdown",
   "id": "c7c02bd9",
   "metadata": {},
   "source": [
    "#### Why For Loops \n",
    "<li>We can also retrieve each element in lists, and perform operation but this method will not scale well to a large dataset</li>\n",
    "<li>Let's say at first we have to repeat this process for five times. We can rely on this method since repeating the code for five times is not that difficult.</li>\n",
    "<li>But if we have to repeat the same process for 1000+ times then relying on this method is a waste of time and the programmer has to write the same syntax with very few differences 1000+ times.</li>\n",
    "<li>So, in such scenario, <b>for loops</b> can save programmer's time as well as energy. Also it is the smartest way of dealing with problems.</li>"
   ]
  },
  {
   "cell_type": "code",
   "execution_count": null,
   "id": "1a1c3efd",
   "metadata": {},
   "outputs": [],
   "source": [
    "string_var = \"Lumbini City College\""
   ]
  },
  {
   "cell_type": "code",
   "execution_count": null,
   "id": "103cc60a",
   "metadata": {},
   "outputs": [],
   "source": [
    "for item in string_var:\n",
    "    print(item)"
   ]
  },
  {
   "cell_type": "code",
   "execution_count": null,
   "id": "34081de9",
   "metadata": {},
   "outputs": [],
   "source": []
  },
  {
   "cell_type": "markdown",
   "id": "6aa50597",
   "metadata": {},
   "source": [
    "#### For Loops WIth List\n",
    "\n",
    "<li>We can iterate over the items in a list using <b>for loops.</b></li>"
   ]
  },
  {
   "cell_type": "code",
   "execution_count": null,
   "id": "f4e5d8da",
   "metadata": {},
   "outputs": [],
   "source": [
    "list1 = [5,6,7,8,9,11,12,13,14,15]\n",
    "print(len(list1))"
   ]
  },
  {
   "cell_type": "code",
   "execution_count": null,
   "id": "5891f90b",
   "metadata": {},
   "outputs": [],
   "source": [
    "for item in list1:\n",
    "    print(item)"
   ]
  },
  {
   "cell_type": "markdown",
   "id": "6af802a9",
   "metadata": {},
   "source": [
    "#### Take the given list and create a new list which represent the square value of the items in a list\n",
    "\n",
    "num = [1,2,3,5,7,9]"
   ]
  },
  {
   "cell_type": "code",
   "execution_count": null,
   "id": "4e961415",
   "metadata": {},
   "outputs": [],
   "source": [
    "num = [1,2,3,5,7,9]"
   ]
  },
  {
   "cell_type": "code",
   "execution_count": null,
   "id": "ab9ef0df",
   "metadata": {},
   "outputs": [],
   "source": [
    "square_list = []\n",
    "for item in num:\n",
    "    square_item = item* item\n",
    "    square_list.append(square_item)"
   ]
  },
  {
   "cell_type": "code",
   "execution_count": null,
   "id": "cfc6665e",
   "metadata": {},
   "outputs": [],
   "source": [
    "print(square_list)"
   ]
  },
  {
   "cell_type": "markdown",
   "id": "ac0af50e",
   "metadata": {},
   "source": [
    "#### Python List Comprehension Techniques"
   ]
  },
  {
   "cell_type": "code",
   "execution_count": null,
   "id": "1852db83",
   "metadata": {},
   "outputs": [],
   "source": [
    "square_item = [item*item for item in num]\n",
    "print(square_item)"
   ]
  },
  {
   "cell_type": "markdown",
   "id": "eb8339bf",
   "metadata": {},
   "source": [
    "## Find the cube of the above list using forloops & list comprehension techniques"
   ]
  },
  {
   "cell_type": "code",
   "execution_count": null,
   "id": "47df5357",
   "metadata": {},
   "outputs": [],
   "source": [
    "cube_list = []\n",
    "for item in num:\n",
    "    print(item)\n",
    "    cube_item = item**3\n",
    "    cube_list.append(cube_item)\n",
    "print(cube_list)"
   ]
  },
  {
   "cell_type": "code",
   "execution_count": null,
   "id": "ca7ddc41",
   "metadata": {},
   "outputs": [],
   "source": [
    "cube_list = [item**3 for item in num]\n",
    "print(cube_list)"
   ]
  },
  {
   "cell_type": "markdown",
   "id": "22d830fa",
   "metadata": {},
   "source": [
    "#### Sotre the list of the even numbers in a new list from the given list.\n",
    "numbers =[1,2,3,4,5,6,7,8,9,10]"
   ]
  },
  {
   "cell_type": "code",
   "execution_count": null,
   "id": "8c813329",
   "metadata": {},
   "outputs": [],
   "source": [
    "numbers = [1,2,3,4,5,6,7,8,9,10]\n",
    "even_numbers = []\n",
    "for item in numbers:\n",
    "    if item %2== 0:\n",
    "        even_numbers.append(item)\n",
    "        "
   ]
  },
  {
   "cell_type": "code",
   "execution_count": null,
   "id": "8311767d",
   "metadata": {},
   "outputs": [],
   "source": [
    "print(even_numbers)"
   ]
  },
  {
   "cell_type": "code",
   "execution_count": null,
   "id": "f774c3ae",
   "metadata": {},
   "outputs": [],
   "source": [
    "odd_numbers = [item for item in numbers if item%2==1]\n",
    "print(odd_numbers)"
   ]
  },
  {
   "cell_type": "markdown",
   "id": "77b9d344",
   "metadata": {},
   "source": [
    "#### For Loops In lists of lists\n",
    "<li>We can aslo use for loops for iterating over the items inside a list of list.</li>"
   ]
  },
  {
   "cell_type": "code",
   "execution_count": null,
   "id": "f95c6fc2",
   "metadata": {},
   "outputs": [],
   "source": [
    "list_of_list = [['Prabhat', 'B.Sc.Cs.It', '7th Semester'],\n",
    "               ['Hari', 'B.CA.', '5th Semester'],\n",
    "               ['Shyam', 'B.It', '8th Semeseter']]"
   ]
  },
  {
   "cell_type": "code",
   "execution_count": null,
   "id": "4238be61",
   "metadata": {},
   "outputs": [],
   "source": [
    "for item in list_of_list:\n",
    "    print(item)\n",
    "    for subitem in item:\n",
    "        print(subitem)\n",
    "#     print(item)"
   ]
  },
  {
   "cell_type": "code",
   "execution_count": null,
   "id": "001771bc",
   "metadata": {},
   "outputs": [],
   "source": [
    "for item in list_of_list:\n",
    "    print(item[1])\n"
   ]
  },
  {
   "cell_type": "code",
   "execution_count": null,
   "id": "a3533545",
   "metadata": {},
   "outputs": [],
   "source": [
    "student_1 = ['Ram', 'male',23, 'B.C.A', 'Seventh Semester', 78.2]\n",
    "student_2 = ['Shyam','male',21,'B.C.A', 'Fifth Semester',67.5]\n",
    "student_3 = ['Abhishek','male',22, 'B.Sc.Cs.It', 'Seventh Semester',82.4]\n",
    "student_4 = ['Mahima','female',20, 'B.Sc.Cs.It', 'Fifth Semester',87.3]\n",
    "student_5 = ['Sanjana','female',22, 'B.Sc.Cs.It', 'Seventh Semester',69.8]\n",
    "student_6 = ['Prabhat', 'male',23, 'B.Sc.Cs.It', 'Seventh Semester', 80.2]\n",
    "student_7 = ['Ashmita','female',21,'B.Sc.Cs.It', 'Fifth Semester',81.5]\n",
    "student_8 = ['Shanti','female',22, 'B.Sc.Cs.It', 'Fifth Semester',72.4]\n",
    "student_9 = ['Himal','male',20, 'B.C.A', 'Fifth Semester',78.3]\n",
    "student_10 = ['Rabina','female',22, 'B.I.M', 'Seventh Semester',75.8]\n",
    "student_11 = ['Kamal', 'male',23, 'B.I.M', 'Fifth Semester', 80.2]\n",
    "student_12= ['Bhawana','female',21,'B.I.M', 'Third Semester',81.5]\n",
    "student_13 = ['Sunil','male',22, 'B.I.M', 'Fourth Semester',72.4]\n",
    "student_14= ['Nirisha','female',20, 'B.I.M', 'Fourth Semester',78.3]\n",
    "student_15 = ['Sushmita','female',22, 'B.I.M', 'Third Semester',75.8]\n",
    "\n",
    "student_datasets = [student_1, student_2, student_3, student_4, student_5,\n",
    "                    student_6, student_7, student_8, student_9, student_10,\n",
    "                   student_11, student_12, student_13, student_14,student_15]\n",
    "\n"
   ]
  },
  {
   "cell_type": "markdown",
   "id": "c9f2f499",
   "metadata": {},
   "source": [
    "#### Question \n",
    "\n",
    "**From the <b>student_datasets</b>, calculate the average percentage scored by these students.**"
   ]
  },
  {
   "cell_type": "code",
   "execution_count": null,
   "id": "9933f378",
   "metadata": {},
   "outputs": [],
   "source": [
    "total_score = 0\n",
    "counter = 0\n",
    "for student in student_datasets:\n",
    "    counter += 1\n",
    "    percentage = student[-1]\n",
    "    total_score += percentage\n",
    "print(total_score)\n",
    "print(counter)"
   ]
  },
  {
   "cell_type": "code",
   "execution_count": null,
   "id": "a67f3523",
   "metadata": {},
   "outputs": [],
   "source": [
    "average_score = total_score/ counter\n",
    "print(average_score)"
   ]
  },
  {
   "cell_type": "markdown",
   "id": "b3797cb3",
   "metadata": {},
   "source": [
    "\n",
    "**From the <b>student_datasets</b>, calculate the average age of these students.**"
   ]
  },
  {
   "cell_type": "code",
   "execution_count": null,
   "id": "60ec5833",
   "metadata": {},
   "outputs": [],
   "source": [
    "total_age = 0\n",
    "counter = 0\n",
    "for student in student_datasets:\n",
    "    counter+= 1\n",
    "    age = student[2]\n",
    "    total_age += age\n",
    "print(counter)\n",
    "print(total_age)"
   ]
  },
  {
   "cell_type": "code",
   "execution_count": null,
   "id": "8df2065e",
   "metadata": {},
   "outputs": [],
   "source": [
    "average_age = total_age/counter\n",
    "print(average_age)"
   ]
  },
  {
   "cell_type": "markdown",
   "id": "82bd1e6a",
   "metadata": {},
   "source": [
    "#### Break Statements In For Loop\n",
    "<li>With the break statement we can stop the for loop even if the condition is true.</li>"
   ]
  },
  {
   "cell_type": "markdown",
   "id": "7078b81f",
   "metadata": {},
   "source": [
    "**From the <b>student_datasets</b>, calculate the total score obtained by five five students.**"
   ]
  },
  {
   "cell_type": "code",
   "execution_count": null,
   "id": "734ad11b",
   "metadata": {},
   "outputs": [],
   "source": [
    "total_score = 0\n",
    "counter = 0\n",
    "for student in student_datasets:\n",
    "    if counter >= 5:\n",
    "        break\n",
    "    counter += 1\n",
    "    percentage = student[-1]\n",
    "    total_score += percentage\n",
    "print(total_score)\n",
    "print(counter)"
   ]
  },
  {
   "cell_type": "code",
   "execution_count": null,
   "id": "7d7e1320",
   "metadata": {},
   "outputs": [],
   "source": [
    "avg_score_for_five_students = total_score/counter\n",
    "print(avg_score_for_five_students)"
   ]
  },
  {
   "cell_type": "code",
   "execution_count": null,
   "id": "94974f7a",
   "metadata": {},
   "outputs": [],
   "source": []
  },
  {
   "cell_type": "code",
   "execution_count": null,
   "id": "6c503b84",
   "metadata": {},
   "outputs": [],
   "source": [
    "total_age = 0\n",
    "counter = 0\n",
    "for student in student_datasets:\n",
    "    if counter >= 5:\n",
    "        break\n",
    "    counter += 1\n",
    "    age = student[2]\n",
    "    total_age += age\n",
    "print(total_age)\n",
    "print(counter)\n",
    "average_age = total_age/counter\n",
    "print(average_age)"
   ]
  },
  {
   "cell_type": "code",
   "execution_count": null,
   "id": "4d579eb0",
   "metadata": {},
   "outputs": [],
   "source": [
    "total_age = 0\n",
    "counter = 0\n",
    "for student in student_datasets[10:]:\n",
    "    counter += 1\n",
    "    print(student)\n",
    "    age = student[2]\n",
    "    total_age += age\n",
    "print(total_age)\n",
    "print(counter)\n",
    "average_age = total_age/counter\n",
    "print(average_age)"
   ]
  },
  {
   "cell_type": "markdown",
   "id": "d34a5f44",
   "metadata": {},
   "source": [
    "#### Range\n",
    "<li>The Python range() function returns a sequence of numbers, in a given range.</li>\n",
    "<li>The most common use of it is to iterate sequence on a sequence of numbers using Python loops.</li>\n",
    "<li>It accepts three parameters. They are :</li>\n",
    "<ol>\n",
    "    <li><b>start:</b>Optional. An integer number specifying at which position to start. Default is 0</li>\n",
    "    <li><b>stop:</b>Required. An integer number specifying at which position to stop (not included).</li>\n",
    "    <li><b>step:</b>Optional. An integer number specifying the incrementation. Defaul</li>\n",
    "</ol>"
   ]
  },
  {
   "cell_type": "code",
   "execution_count": null,
   "id": "95feec0b",
   "metadata": {},
   "outputs": [],
   "source": [
    "for item in range(10):\n",
    "    print(item)"
   ]
  },
  {
   "cell_type": "code",
   "execution_count": null,
   "id": "58128f88",
   "metadata": {},
   "outputs": [],
   "source": [
    "for item in range(23, 29):\n",
    "    print(item)"
   ]
  },
  {
   "cell_type": "code",
   "execution_count": null,
   "id": "06c043bf",
   "metadata": {},
   "outputs": [],
   "source": [
    "for item in range(23, 45, 2):\n",
    "    print(item)"
   ]
  },
  {
   "cell_type": "markdown",
   "id": "1009f8d9",
   "metadata": {},
   "source": [
    "#### Use range to populate the square of even numbers upto 20 in a new list."
   ]
  },
  {
   "cell_type": "code",
   "execution_count": null,
   "id": "48a612e3",
   "metadata": {},
   "outputs": [],
   "source": [
    "even_sq_list = []\n",
    "for item in range(20):\n",
    "    if item%2 == 0:\n",
    "        square_item = item * item\n",
    "        even_sq_list.append(square_item)"
   ]
  },
  {
   "cell_type": "code",
   "execution_count": null,
   "id": "310055b9",
   "metadata": {},
   "outputs": [],
   "source": [
    "print(even_sq_list)"
   ]
  },
  {
   "cell_type": "code",
   "execution_count": null,
   "id": "37a868d9",
   "metadata": {},
   "outputs": [],
   "source": [
    "even_sq_list = []\n",
    "for item in range(0,20,2):\n",
    "    even_sq_list.append(item*item)\n",
    "print(even_sq_list)"
   ]
  },
  {
   "cell_type": "markdown",
   "id": "8953f0e9",
   "metadata": {},
   "source": [
    "#### Use range to populate the square of odd numbers upto 20 in a new list."
   ]
  },
  {
   "cell_type": "code",
   "execution_count": null,
   "id": "86c5f9d0",
   "metadata": {},
   "outputs": [],
   "source": [
    "odd_sq_list = []\n",
    "for item in range(1,20,2):\n",
    "    odd_sq_list.append(item*item)\n",
    "print(odd_sq_list)"
   ]
  },
  {
   "cell_type": "markdown",
   "id": "497aed05",
   "metadata": {},
   "source": [
    "#### For Loops With Dictionary\n",
    "\n",
    "<li>We can iterate over dictionary items using for loop in dict.items()</li>\n",
    "<li>The dictionary keys can be iterated using dict.keys()</li>\n",
    "<li>Similarly, the dictionary values can also be iterated using dict.values().</li>"
   ]
  },
  {
   "cell_type": "code",
   "execution_count": null,
   "id": "052e366f",
   "metadata": {},
   "outputs": [],
   "source": [
    "example_dictionary = {\"name\":  'Prabhat', 'age': 24, 'Level': 'Bachelor', \n",
    "                     'address': 'Butwal', 'gender': 'male'}"
   ]
  },
  {
   "cell_type": "code",
   "execution_count": null,
   "id": "7d44670b",
   "metadata": {},
   "outputs": [],
   "source": [
    "len(example_dictionary)"
   ]
  },
  {
   "cell_type": "code",
   "execution_count": null,
   "id": "ca945464",
   "metadata": {},
   "outputs": [],
   "source": [
    "for key in example_dictionary.keys():\n",
    "    print(key)"
   ]
  },
  {
   "cell_type": "code",
   "execution_count": null,
   "id": "a9a8dde9",
   "metadata": {},
   "outputs": [],
   "source": [
    "for val in example_dictionary.values():\n",
    "    print(val)\n"
   ]
  },
  {
   "cell_type": "code",
   "execution_count": null,
   "id": "1263af71",
   "metadata": {},
   "outputs": [],
   "source": [
    "for key, val in example_dictionary.items():\n",
    "    print(\"Key is {}\".format(key))\n",
    "    print(\"Value is {}\".format(val))"
   ]
  },
  {
   "cell_type": "code",
   "execution_count": null,
   "id": "5923a549",
   "metadata": {},
   "outputs": [],
   "source": []
  },
  {
   "cell_type": "markdown",
   "id": "71610240",
   "metadata": {},
   "source": [
    "#### For Loops WIth Set\n",
    "<li>We can also use for loops to iterate over the elements inside a set.</li>\n",
    "<li>We can add group of new elements in a set by using set.add() method inside a for loop.</li>"
   ]
  },
  {
   "cell_type": "code",
   "execution_count": null,
   "id": "2e2519cf",
   "metadata": {},
   "outputs": [],
   "source": [
    "set1 = {1,3,5,7,9,4,6,2,5,5,3,1,3}\n",
    "print(set1)"
   ]
  },
  {
   "cell_type": "code",
   "execution_count": null,
   "id": "0f028f68",
   "metadata": {},
   "outputs": [],
   "source": [
    "for item in set1:\n",
    "    print(item)"
   ]
  },
  {
   "cell_type": "code",
   "execution_count": null,
   "id": "93cc3b74",
   "metadata": {},
   "outputs": [],
   "source": [
    "set2 = {0,8}\n",
    "for item in set1:\n",
    "    set2.add(item)"
   ]
  },
  {
   "cell_type": "code",
   "execution_count": null,
   "id": "2c32c689",
   "metadata": {},
   "outputs": [],
   "source": [
    "print(set2)"
   ]
  },
  {
   "cell_type": "markdown",
   "id": "2c774c9c",
   "metadata": {},
   "source": [
    "####  For Loops With A Tuple\n",
    "<li>We can also iterate over the elements inside a tuple using for loops.</li>\n",
    "<li>We can also concatenate group of elements inside a tuple using for loops.</li>"
   ]
  },
  {
   "cell_type": "code",
   "execution_count": null,
   "id": "743b619f",
   "metadata": {},
   "outputs": [],
   "source": [
    "tuple1 = (1,5,7,9,11,13,17,19)"
   ]
  },
  {
   "cell_type": "code",
   "execution_count": null,
   "id": "949a058b",
   "metadata": {},
   "outputs": [],
   "source": [
    "for item in tuple1:\n",
    "    print(item)"
   ]
  },
  {
   "cell_type": "code",
   "execution_count": null,
   "id": "8e912119",
   "metadata": {},
   "outputs": [],
   "source": [
    "tuple2 = ()"
   ]
  },
  {
   "cell_type": "code",
   "execution_count": null,
   "id": "2976c7b2",
   "metadata": {},
   "outputs": [],
   "source": [
    "for item in tuple1:\n",
    "    tuple2 = tuple2 + (item,)\n"
   ]
  },
  {
   "cell_type": "code",
   "execution_count": null,
   "id": "400c6f20",
   "metadata": {},
   "outputs": [],
   "source": [
    "print(tuple2)"
   ]
  },
  {
   "cell_type": "code",
   "execution_count": null,
   "id": "1ac70535",
   "metadata": {},
   "outputs": [],
   "source": []
  },
  {
   "cell_type": "markdown",
   "id": "2638c85d",
   "metadata": {},
   "source": [
    "#### While Loop\n",
    "<li>With the while loop we can execute a set of statements as long as a condition is true.</li>\n",
    "<li>The while loop statement stops running once the condition is false.</li>\n",
    "<li>With the <b>break</b> statement we can stop the loop even if the while condition is true.</li>"
   ]
  },
  {
   "cell_type": "markdown",
   "id": "f784bd01",
   "metadata": {},
   "source": [
    "#### While loop Syntax\n",
    "\n",
    "<code>\n",
    "while (condition):\n",
    "    //statement\n",
    "</code>"
   ]
  },
  {
   "cell_type": "code",
   "execution_count": 4,
   "id": "03d894ee",
   "metadata": {},
   "outputs": [
    {
     "name": "stdout",
     "output_type": "stream",
     "text": [
      "0\n",
      "1\n",
      "2\n",
      "3\n",
      "4\n"
     ]
    }
   ],
   "source": [
    "a = 0\n",
    "while a < 5:\n",
    "    print(a)\n",
    "    a += 1"
   ]
  },
  {
   "cell_type": "code",
   "execution_count": 5,
   "id": "eccbf8bd",
   "metadata": {},
   "outputs": [
    {
     "name": "stdout",
     "output_type": "stream",
     "text": [
      "10\n",
      "9\n",
      "8\n",
      "7\n",
      "6\n"
     ]
    }
   ],
   "source": [
    "a = 10\n",
    "while a >5:\n",
    "    print(a)\n",
    "    a -= 1"
   ]
  },
  {
   "cell_type": "code",
   "execution_count": null,
   "id": "cc94689c",
   "metadata": {},
   "outputs": [],
   "source": []
  },
  {
   "cell_type": "markdown",
   "id": "9ee94640",
   "metadata": {},
   "source": [
    "#### Python Do-while Loop\n",
    "<li>Python doesn't have do-while loop. But we can create a program like this.</li>\n",
    "<li>The do while loop is used to check condition after executing the statement. It is like while loop but it is executed at least once.</li>\n",
    "<li>The <b>do while loop</b> can be created by using while, if and break statements in python.</li>\n",
    "\n"
   ]
  },
  {
   "cell_type": "markdown",
   "id": "a3a8fd45",
   "metadata": {},
   "source": [
    "#### Do-while loop Syntax\n",
    "\n",
    "<code>\n",
    "do {  \n",
    "     //statement  \n",
    "} while (condition);  \n",
    "</code>"
   ]
  },
  {
   "cell_type": "code",
   "execution_count": 11,
   "id": "8bdf7c9a",
   "metadata": {},
   "outputs": [
    {
     "name": "stdout",
     "output_type": "stream",
     "text": [
      "0\n",
      "1\n",
      "2\n",
      "3\n",
      "4\n",
      "5\n"
     ]
    }
   ],
   "source": [
    "a = 0\n",
    "while True:\n",
    "    print(a)\n",
    "    a += 1\n",
    "    if a > 5:\n",
    "        break\n",
    "    \n",
    "    "
   ]
  },
  {
   "cell_type": "code",
   "execution_count": 2,
   "id": "f0e944f1",
   "metadata": {},
   "outputs": [
    {
     "name": "stdout",
     "output_type": "stream",
     "text": [
      "hello\n"
     ]
    }
   ],
   "source": [
    "print(\"hello\")"
   ]
  },
  {
   "cell_type": "code",
   "execution_count": null,
   "id": "e724a46e",
   "metadata": {},
   "outputs": [],
   "source": []
  },
  {
   "cell_type": "markdown",
   "id": "6778963b",
   "metadata": {},
   "source": [
    "#### Booleans\n",
    "\n",
    "<li>When we use the == operator to determine if two values are equal, the output will always be True or False.</li>\n",
    "<li>Booleans are binary output variables if condition satisfies, it will give <b>True</b> and if condition is not satisfied it gives <b>False.</b></li>"
   ]
  },
  {
   "cell_type": "code",
   "execution_count": 14,
   "id": "c76606f6",
   "metadata": {},
   "outputs": [],
   "source": [
    "boolean = 5 == 6"
   ]
  },
  {
   "cell_type": "code",
   "execution_count": 16,
   "id": "992f96ff",
   "metadata": {},
   "outputs": [
    {
     "name": "stdout",
     "output_type": "stream",
     "text": [
      "<class 'bool'>\n"
     ]
    }
   ],
   "source": [
    "print(type(boolean))"
   ]
  },
  {
   "cell_type": "code",
   "execution_count": 17,
   "id": "67e48ea9",
   "metadata": {},
   "outputs": [
    {
     "data": {
      "text/plain": [
       "True"
      ]
     },
     "execution_count": 17,
     "metadata": {},
     "output_type": "execute_result"
    }
   ],
   "source": [
    "6 > 3"
   ]
  },
  {
   "cell_type": "code",
   "execution_count": null,
   "id": "42c0cbf7",
   "metadata": {},
   "outputs": [],
   "source": []
  },
  {
   "cell_type": "code",
   "execution_count": null,
   "id": "099d673d",
   "metadata": {},
   "outputs": [],
   "source": []
  },
  {
   "cell_type": "markdown",
   "id": "13f84dbe",
   "metadata": {},
   "source": [
    "#### Python Conditions and If statements\n",
    "\n",
    "<li>Python supports the usual logical conditions from mathematics:</li>\n",
    "<ol>\n",
    "    <li>Equals: a == b</li>\n",
    "    <li>Not Equals: a != b</li>\n",
    "    <li>Less than: a < b</li>\n",
    "    <li>Less than or equal to: a <= b</li>\n",
    "    <li>Greater than: a > b</li>\n",
    "    <li>Greater than or equal to: a >= b</li>\n",
    "    <li>These conditions can be used in several ways, most commonly in \"if statements\" and loops.</li>\n",
    "</ol>\n",
    "\n",
    "<li>An \"if statement\" is written by using the if keyword.</li>"
   ]
  },
  {
   "cell_type": "code",
   "execution_count": 18,
   "id": "fbea7e27",
   "metadata": {},
   "outputs": [
    {
     "data": {
      "text/plain": [
       "False"
      ]
     },
     "execution_count": 18,
     "metadata": {},
     "output_type": "execute_result"
    }
   ],
   "source": [
    "5 == 6"
   ]
  },
  {
   "cell_type": "code",
   "execution_count": 19,
   "id": "1e98f3e5",
   "metadata": {},
   "outputs": [
    {
     "data": {
      "text/plain": [
       "True"
      ]
     },
     "execution_count": 19,
     "metadata": {},
     "output_type": "execute_result"
    }
   ],
   "source": [
    "5!= 6"
   ]
  },
  {
   "cell_type": "code",
   "execution_count": 20,
   "id": "cfa14edd",
   "metadata": {},
   "outputs": [
    {
     "data": {
      "text/plain": [
       "True"
      ]
     },
     "execution_count": 20,
     "metadata": {},
     "output_type": "execute_result"
    }
   ],
   "source": [
    "5 < 6"
   ]
  },
  {
   "cell_type": "code",
   "execution_count": 21,
   "id": "fa505b80",
   "metadata": {},
   "outputs": [
    {
     "data": {
      "text/plain": [
       "True"
      ]
     },
     "execution_count": 21,
     "metadata": {},
     "output_type": "execute_result"
    }
   ],
   "source": [
    "5<=6"
   ]
  },
  {
   "cell_type": "code",
   "execution_count": 22,
   "id": "077c1813",
   "metadata": {},
   "outputs": [
    {
     "data": {
      "text/plain": [
       "False"
      ]
     },
     "execution_count": 22,
     "metadata": {},
     "output_type": "execute_result"
    }
   ],
   "source": [
    "5>6"
   ]
  },
  {
   "cell_type": "code",
   "execution_count": 24,
   "id": "c613dd13",
   "metadata": {},
   "outputs": [
    {
     "data": {
      "text/plain": [
       "False"
      ]
     },
     "execution_count": 24,
     "metadata": {},
     "output_type": "execute_result"
    }
   ],
   "source": [
    "5 >= 6"
   ]
  },
  {
   "cell_type": "markdown",
   "id": "546a1c2d",
   "metadata": {},
   "source": [
    "#### Use Of if Statements\n",
    "\n",
    "<li>We use if statement incase we only need to valid whether the statement is true and have to perform operations only when it's true.</li>\n",
    "\n",
    "**Syntax of if statements**\n",
    "\n",
    "<code>if boolean_expression:\n",
    "    statement(s)\n",
    "</code>"
   ]
  },
  {
   "cell_type": "code",
   "execution_count": 32,
   "id": "09d08735",
   "metadata": {},
   "outputs": [],
   "source": [
    "a = 6\n",
    "b = 6"
   ]
  },
  {
   "cell_type": "code",
   "execution_count": 30,
   "id": "92544001",
   "metadata": {},
   "outputs": [
    {
     "name": "stdout",
     "output_type": "stream",
     "text": [
      "a is greater\n"
     ]
    }
   ],
   "source": [
    "if a > b:\n",
    "    print(\"a is greater\")"
   ]
  },
  {
   "cell_type": "code",
   "execution_count": 33,
   "id": "7bb2a04b",
   "metadata": {},
   "outputs": [
    {
     "name": "stdout",
     "output_type": "stream",
     "text": [
      "a and b are equal\n"
     ]
    }
   ],
   "source": [
    "if a == b:\n",
    "    print(\"a and b are equal\")"
   ]
  },
  {
   "cell_type": "code",
   "execution_count": 36,
   "id": "613f8a74",
   "metadata": {},
   "outputs": [
    {
     "name": "stdout",
     "output_type": "stream",
     "text": [
      "a is even\n"
     ]
    }
   ],
   "source": [
    "a = 10\n",
    "if a%2==0:\n",
    "    print(\"a is even\")"
   ]
  },
  {
   "cell_type": "code",
   "execution_count": null,
   "id": "801a2a71",
   "metadata": {},
   "outputs": [],
   "source": []
  },
  {
   "cell_type": "code",
   "execution_count": 1,
   "id": "375c5dfd",
   "metadata": {},
   "outputs": [],
   "source": [
    "student_1 = ['Ram', 'male',23, 'B.C.A', 'Seventh Semester', 78.2]\n",
    "student_2 = ['Shyam','male',21,'B.C.A', 'Fifth Semester',67.5]\n",
    "student_3 = ['Abhishek','male',22, 'B.Sc.Cs.It', 'Seventh Semester',82.4]\n",
    "student_4 = ['Mahima','female',20, 'B.Sc.Cs.It', 'Fifth Semester',87.3]\n",
    "student_5 = ['Sanjana','female',22, 'B.Sc.Cs.It', 'Seventh Semester',69.8]\n",
    "student_6 = ['Prabhat', 'male',23, 'B.Sc.Cs.It', 'Seventh Semester', 80.2]\n",
    "student_7 = ['Ashmita','female',21,'B.Sc.Cs.It', 'Fifth Semester',81.5]\n",
    "student_8 = ['Shanti','female',22, 'B.Sc.Cs.It', 'Fifth Semester',72.4]\n",
    "student_9 = ['Himal','male',20, 'B.C,A', 'Fifth Semester',78.3]\n",
    "student_10 = ['Rabina','female',22, 'B.I.M', 'Seventh Semester',75.8]\n",
    "student_11 = ['Kamal', 'male',23, 'B.I.M', 'Fifth Semester', 80.2]\n",
    "student_12= ['Bhawana','female',21,'B.I.M', 'Third Semester',81.5]\n",
    "student_13 = ['Sunil','male',22, 'B.I.M', 'Fourth Semester',72.4]\n",
    "student_14= ['Nirisha','female',20, 'B.I.M', 'Fourth Semester',78.3]\n",
    "student_15 = ['Sushmita','female',22, 'B.I.M', 'Third Semester',75.8]\n",
    "\n",
    "student_datasets = [student_1, student_2, student_3, student_4, student_5,\n",
    "                    student_6, student_7, student_8, student_9, student_10,\n",
    "                   student_11, student_12, student_13, student_14,student_15]\n",
    "\n"
   ]
  },
  {
   "cell_type": "markdown",
   "id": "c09242ea",
   "metadata": {},
   "source": [
    "#### Count the number of male and female students from the given dataset"
   ]
  },
  {
   "cell_type": "code",
   "execution_count": 40,
   "id": "f852015e",
   "metadata": {},
   "outputs": [],
   "source": [
    "male_count = 0\n",
    "for student in student_datasets:\n",
    "    gender = student[1]\n",
    "    if gender == 'male':\n",
    "        male_count += 1\n"
   ]
  },
  {
   "cell_type": "code",
   "execution_count": 41,
   "id": "becd59ac",
   "metadata": {},
   "outputs": [
    {
     "name": "stdout",
     "output_type": "stream",
     "text": [
      "7\n"
     ]
    }
   ],
   "source": [
    "print(male_count)"
   ]
  },
  {
   "cell_type": "code",
   "execution_count": 42,
   "id": "3b372a71",
   "metadata": {},
   "outputs": [],
   "source": [
    "female_count = 0\n",
    "for student in student_datasets:\n",
    "    gender = student[1]\n",
    "    if gender == 'female':\n",
    "        female_count += 1"
   ]
  },
  {
   "cell_type": "code",
   "execution_count": 43,
   "id": "5f8d9fd2",
   "metadata": {},
   "outputs": [
    {
     "name": "stdout",
     "output_type": "stream",
     "text": [
      "8\n"
     ]
    }
   ],
   "source": [
    "print(female_count)"
   ]
  },
  {
   "cell_type": "markdown",
   "id": "16abcc2f",
   "metadata": {},
   "source": [
    "#### Question\n",
    "<li>Count the number of B.Sc.Cs.It Students who are reading in fifth semester.</li>\n",
    "<li>Also store those group of students in a separate list of list.</li>"
   ]
  },
  {
   "cell_type": "code",
   "execution_count": 17,
   "id": "a88b64ac",
   "metadata": {},
   "outputs": [],
   "source": [
    "counter = 0\n",
    "fifth_sem_bscscit_std = []\n",
    "for std in student_datasets:\n",
    "    faculty = std[3]\n",
    "    semester = std[4]\n",
    "    if faculty == \"B.Sc.Cs.It\" and semester == \"Fifth Semester\":\n",
    "        counter += 1\n",
    "        fifth_sem_bscscit_std.append(std)\n"
   ]
  },
  {
   "cell_type": "code",
   "execution_count": 18,
   "id": "b0dbd33a",
   "metadata": {},
   "outputs": [
    {
     "name": "stdout",
     "output_type": "stream",
     "text": [
      "3\n",
      "[['Mahima', 'female', 20, 'B.Sc.Cs.It', 'Fifth Semester', 87.3], ['Ashmita', 'female', 21, 'B.Sc.Cs.It', 'Fifth Semester', 81.5], ['Shanti', 'female', 22, 'B.Sc.Cs.It', 'Fifth Semester', 72.4]]\n"
     ]
    }
   ],
   "source": [
    "print(counter)\n",
    "print(fifth_sem_bscscit_std)"
   ]
  },
  {
   "cell_type": "markdown",
   "id": "777edbf1",
   "metadata": {},
   "source": [
    "#### Find the number of students whose age is greater than or equals to 22."
   ]
  },
  {
   "cell_type": "code",
   "execution_count": 21,
   "id": "4f0b9237",
   "metadata": {},
   "outputs": [],
   "source": [
    "over22 = 0\n",
    "for std in student_datasets:\n",
    "    age = std[2]\n",
    "    if age >= 22:\n",
    "        over22 += 1\n"
   ]
  },
  {
   "cell_type": "code",
   "execution_count": 22,
   "id": "5bfd32ce",
   "metadata": {},
   "outputs": [
    {
     "name": "stdout",
     "output_type": "stream",
     "text": [
      "9\n"
     ]
    }
   ],
   "source": [
    "print(over22)"
   ]
  },
  {
   "cell_type": "markdown",
   "id": "a6009d84",
   "metadata": {},
   "source": [
    "#### Find the number of students whose score is less than 75."
   ]
  },
  {
   "cell_type": "code",
   "execution_count": 24,
   "id": "0b67cc39",
   "metadata": {
    "scrolled": true
   },
   "outputs": [],
   "source": [
    "lessthan75 = 0\n",
    "for std in student_datasets:\n",
    "    score = std[-1]\n",
    "    if score < 75:\n",
    "        lessthan75 += 1\n"
   ]
  },
  {
   "cell_type": "code",
   "execution_count": 25,
   "id": "e5eebbbf",
   "metadata": {},
   "outputs": [
    {
     "name": "stdout",
     "output_type": "stream",
     "text": [
      "4\n"
     ]
    }
   ],
   "source": [
    "print(lessthan75)"
   ]
  },
  {
   "cell_type": "markdown",
   "id": "cd8fe4a7",
   "metadata": {},
   "source": [
    "#### Question\n",
    "**Correct the following code in such a way that it will only print the statement which is true.**\n",
    "\n",
    "\n",
    "<code>\n",
    "if True:\n",
    "    print(\"2 + 2 == 5\")\n",
    "    print(\"lemons are sour\")\n",
    "if True:\n",
    "    print(\"the sky is blue\")\n",
    "    print(\"5 >= 3\")  \n",
    "if True:\n",
    "    print(\"spheres have corners\")\n",
    "    print(\"7 / 5 == 2\")\n",
    "   \n",
    "</code>"
   ]
  },
  {
   "cell_type": "code",
   "execution_count": 28,
   "id": "7a1fef58",
   "metadata": {},
   "outputs": [
    {
     "name": "stdout",
     "output_type": "stream",
     "text": [
      "2 + 2 == 5\n",
      "lemons are sour\n",
      "the sky is blue\n",
      "5 >= 3\n",
      "spheres have corners\n",
      "7 / 5 == 2\n"
     ]
    }
   ],
   "source": [
    "if True:\n",
    "    print(\"2 + 2 == 5\")\n",
    "    print(\"lemons are sour\")\n",
    "\n",
    "if True:\n",
    "    print(\"the sky is blue\")\n",
    "    print(\"5 >= 3\")\n",
    "    \n",
    "if True:\n",
    "    print(\"spheres have corners\")\n",
    "    print(\"7 / 5 == 2\")"
   ]
  },
  {
   "cell_type": "code",
   "execution_count": 29,
   "id": "f0938dbf",
   "metadata": {},
   "outputs": [
    {
     "name": "stdout",
     "output_type": "stream",
     "text": [
      "the sky is blue\n",
      "5 >= 3\n"
     ]
    }
   ],
   "source": [
    "if (2+2 == 5):\n",
    "    print(\"2 + 2 == 5\")\n",
    "    print(\"lemons are sour\")\n",
    "\n",
    "if (5 >= 3):\n",
    "    print(\"the sky is blue\")\n",
    "    print(\"5 >= 3\")\n",
    "    \n",
    "if (7/5 == 2):\n",
    "    print(\"spheres have corners\")\n",
    "    print(\"7 / 5 == 2\")"
   ]
  },
  {
   "cell_type": "markdown",
   "id": "7dd390e8",
   "metadata": {},
   "source": [
    "#### Use of if-else statements\n",
    "<li>We need to check the validity of the statements and we care about both possibile conditions then we use if-else statement.</li>\n",
    "<li>if-else statement only support binary statements or binary conditions.</li>"
   ]
  },
  {
   "cell_type": "markdown",
   "id": "1059b8c6",
   "metadata": {},
   "source": [
    "#### Syntax of if-else statements\n",
    "<code>\n",
    "if expression:\n",
    "   statement(s)\n",
    "else:\n",
    "   statement(s)\n",
    "</code>\n"
   ]
  },
  {
   "cell_type": "code",
   "execution_count": 34,
   "id": "0fb62d9c",
   "metadata": {},
   "outputs": [
    {
     "name": "stdout",
     "output_type": "stream",
     "text": [
      "n1 is greater than n2\n"
     ]
    }
   ],
   "source": [
    "n1 = 45 \n",
    "n2 = 32\n",
    "\n",
    "if n1 > n2:\n",
    "    print(\"n1 is greater than n2\")\n",
    "else:\n",
    "    print(\"n1 is smaller than n2\")"
   ]
  },
  {
   "cell_type": "code",
   "execution_count": 35,
   "id": "6361dd90",
   "metadata": {},
   "outputs": [],
   "source": [
    "student_1 = ['Ram', 'male',23, 'B.C.A', 'Seventh Semester', 78.2]\n",
    "student_2 = ['Shyam','male',21,'B.C.A', 'Fifth Semester',67.5]\n",
    "student_3 = ['Abhishek','male',22, 'B.Sc.Cs.It', 'Seventh Semester',82.4]\n",
    "student_4 = ['Mahima','female',20, 'B.Sc.Cs.It', 'Fifth Semester',87.3]\n",
    "student_5 = ['Sanjana','female',22, 'B.Sc.Cs.It', 'Seventh Semester',69.8]\n",
    "student_6 = ['Prabhat', 'male',23, 'B.Sc.Cs.It', 'Seventh Semester', 80.2]\n",
    "student_7 = ['Ashmita','female',21,'B.Sc.Cs.It', 'Fifth Semester',81.5]\n",
    "student_8 = ['Shanti','female',22, 'B.Sc.Cs.It', 'Fifth Semester',72.4]\n",
    "student_9 = ['Himal','male',20, 'B.C.A', 'Fifth Semester',78.3]\n",
    "student_10 = ['Rabina','female',22, 'B.I.M', 'Seventh Semester',75.8]\n",
    "student_11 = ['Kamal', 'male',23, 'B.I.M', 'Fifth Semester', 80.2]\n",
    "student_12= ['Bhawana','female',21,'B.I.M', 'Third Semester',81.5]\n",
    "student_13 = ['Sunil','male',22, 'B.I.M', 'Fourth Semester',72.4]\n",
    "student_14= ['Nirisha','female',20, 'B.I.M', 'Fourth Semester',78.3]\n",
    "student_15 = ['Sushmita','female',22, 'B.I.M', 'Third Semester',75.8]\n",
    "\n",
    "student_datasets = [student_1, student_2, student_3, student_4, student_5,\n",
    "                    student_6, student_7, student_8, student_9, student_10,\n",
    "                   student_11, student_12, student_13, student_14,student_15]\n",
    "\n"
   ]
  },
  {
   "cell_type": "markdown",
   "id": "5d959757",
   "metadata": {},
   "source": [
    "#### Use if-else statement and find the count of male as well as female students"
   ]
  },
  {
   "cell_type": "code",
   "execution_count": 38,
   "id": "6ca74628",
   "metadata": {},
   "outputs": [],
   "source": [
    "male_count = 0\n",
    "female_count = 0\n",
    "\n",
    "for std in student_datasets:\n",
    "    gender = std[1]\n",
    "    if gender == \"male\":\n",
    "        male_count += 1\n",
    "    else:\n",
    "        female_count += 1"
   ]
  },
  {
   "cell_type": "code",
   "execution_count": 39,
   "id": "fbe567f0",
   "metadata": {},
   "outputs": [
    {
     "name": "stdout",
     "output_type": "stream",
     "text": [
      "7\n",
      "8\n"
     ]
    }
   ],
   "source": [
    "print(male_count)\n",
    "print(female_count)"
   ]
  },
  {
   "cell_type": "markdown",
   "id": "0c3fb915",
   "metadata": {},
   "source": [
    "#### Use if-else statement and find the count of students who are less than 22 and greater than or equal to 22."
   ]
  },
  {
   "cell_type": "code",
   "execution_count": 41,
   "id": "2ed00c83",
   "metadata": {},
   "outputs": [],
   "source": [
    "lessthan22 = 0\n",
    "groreqto22 = 0\n",
    "for std in student_datasets:\n",
    "    if std[2] < 22:\n",
    "        lessthan22 += 1\n",
    "    else:\n",
    "        groreqto22 += 1\n"
   ]
  },
  {
   "cell_type": "code",
   "execution_count": 42,
   "id": "39ee1010",
   "metadata": {},
   "outputs": [
    {
     "name": "stdout",
     "output_type": "stream",
     "text": [
      "6\n",
      "9\n"
     ]
    }
   ],
   "source": [
    "print(lessthan22)\n",
    "print(groreqto22)"
   ]
  },
  {
   "cell_type": "markdown",
   "id": "068e3ee3",
   "metadata": {},
   "source": [
    "#### Short-hand if-else statements\n",
    "<li>We can use if-else condition as one line statement in short-hand if-else statements.</li>\n",
    "<li>If you have only one statement to execute, one for if, and one for else, you can put it all on the same line.</li>\n"
   ]
  },
  {
   "cell_type": "code",
   "execution_count": 43,
   "id": "ff6da4d1",
   "metadata": {},
   "outputs": [
    {
     "name": "stdout",
     "output_type": "stream",
     "text": [
      "B is greater\n"
     ]
    }
   ],
   "source": [
    "a = 23\n",
    "b = 32\n",
    "print(\"A is greater\") if a >b else print(\"B is greater\")"
   ]
  },
  {
   "cell_type": "markdown",
   "id": "c1200e73",
   "metadata": {},
   "source": [
    "#### Use of if-elif-else Statements\n",
    "\n",
    "<li>If we have greater than two possible conditions for any given statement, then under such scenario, we use if-elif-else statements.</li>\n",
    "<li>A perfect example for using such conditional statements is <b>\"Checking whether a number is greater than, less than or equal to another given number\"</b>.</li>"
   ]
  },
  {
   "cell_type": "markdown",
   "id": "880f0800",
   "metadata": {},
   "source": [
    "#### Syntax Of If-elif-else statements\n",
    "\n",
    "<code>\n",
    "if expression1:\n",
    "   statement(s)\n",
    "elif expression2:\n",
    "   statement(s)\n",
    "elif expression3:\n",
    "   statement(s)\n",
    "else:\n",
    "   statement(s) \n",
    "</code>"
   ]
  },
  {
   "cell_type": "code",
   "execution_count": 49,
   "id": "996c6eea",
   "metadata": {},
   "outputs": [],
   "source": [
    "a = 45\n",
    "b = 45\n"
   ]
  },
  {
   "cell_type": "code",
   "execution_count": 50,
   "id": "b05b094f",
   "metadata": {},
   "outputs": [
    {
     "name": "stdout",
     "output_type": "stream",
     "text": [
      "a is equal to b\n"
     ]
    }
   ],
   "source": [
    "if a > b:\n",
    "    print(\"a is greater\")\n",
    "elif b > a:\n",
    "    print(\"b is greater\")\n",
    "else:\n",
    "    print(\"a is equal to b\")\n",
    "    "
   ]
  },
  {
   "cell_type": "code",
   "execution_count": null,
   "id": "78992653",
   "metadata": {},
   "outputs": [],
   "source": []
  },
  {
   "cell_type": "code",
   "execution_count": null,
   "id": "448af774",
   "metadata": {},
   "outputs": [],
   "source": []
  },
  {
   "cell_type": "code",
   "execution_count": 52,
   "id": "3c50a349",
   "metadata": {},
   "outputs": [],
   "source": [
    "student_1 = ['Ram', 'male',23, 'B.C.A', 'Seventh Semester', 78.2]\n",
    "student_2 = ['Sashi','male',21,'B.C.A', 'Fifth Semester',67.5]\n",
    "student_3 = ['Abhishek','male',22, 'B.Sc.Cs.It', 'Seventh Semester',82.4]\n",
    "student_4 = ['Sarishma','female',20, 'B.Sc.Cs.It', 'Fifth Semester',87.3]\n",
    "student_5 = ['Sanjana','female',22, 'B.Sc.Cs.It', 'Seventh Semester',69.8]\n",
    "student_6 = ['Prabhat', 'male',23, 'B.Sc.Cs.It', 'Seventh Semester', 80.2]\n",
    "student_7 = ['Ashmita','female',21,'B.Sc.Cs.It', 'Fifth Semester',81.5]\n",
    "student_8 = ['Shanti','female',22, 'B.Sc.Cs.It', 'Fifth Semester',72.4]\n",
    "student_9 = ['Himal','male',20, 'B.C.A', 'Fifth Semester',78.3]\n",
    "student_10 = ['Rabina','female',22, 'B.I.M', 'Seventh Semester',75.8]\n",
    "student_11 = ['Kamal', 'male',23, 'B.I.M', 'Fifth Semester', 80.2]\n",
    "student_12= ['Bhawana','female',21,'B.I.M', 'Third Semester',81.5]\n",
    "student_13 = ['Sunil','male',22, 'B.I.M', 'Fourth Semester',72.4]\n",
    "student_14= ['Nirisha','female',20, 'B.I.M', 'Fourth Semester',78.3]\n",
    "student_15 = ['Sushmita','female',22, 'B.I.M', 'Third Semester',75.8]\n",
    "\n",
    "\n",
    "student_datasets = [student_1, student_2, student_3, student_4, student_5,\n",
    "                    student_6, student_7, student_8, student_9, student_10,\n",
    "                   student_11, student_12, student_13, student_14,student_15]\n",
    "\n"
   ]
  },
  {
   "cell_type": "markdown",
   "id": "831d9ca8",
   "metadata": {},
   "source": [
    "#### Find the number of counts for each semester student."
   ]
  },
  {
   "cell_type": "code",
   "execution_count": 56,
   "id": "24a3bfd6",
   "metadata": {},
   "outputs": [],
   "source": [
    "third_sem_count = 0\n",
    "fifth_sem_count = 0\n",
    "seventh_sem_count = 0\n",
    "fourth_sem_count = 0\n",
    "\n",
    "for std in student_datasets:\n",
    "    if std[-2] == \"Seventh Semester\":\n",
    "        seventh_sem_count += 1\n",
    "    elif std[-2] == \"Fifth Semester\":\n",
    "        fifth_sem_count += 1\n",
    "    elif std[-2] == \"Third Semester\":\n",
    "        third_sem_count += 1\n",
    "    else:\n",
    "        fourth_sem_count += 1\n",
    "    "
   ]
  },
  {
   "cell_type": "code",
   "execution_count": 57,
   "id": "3f1442ad",
   "metadata": {},
   "outputs": [
    {
     "name": "stdout",
     "output_type": "stream",
     "text": [
      "2\n",
      "6\n",
      "5\n",
      "2\n"
     ]
    }
   ],
   "source": [
    "print(third_sem_count)\n",
    "print(fifth_sem_count)\n",
    "print(seventh_sem_count)\n",
    "print(fourth_sem_count)\n"
   ]
  },
  {
   "cell_type": "markdown",
   "id": "46b50737",
   "metadata": {},
   "source": [
    "#### Dictionaries & Frequency Tables\n",
    "\n",
    "<li>In this lesson on dictionaries and frequency tables, we'll learn how to check for dictionary membership, update dictionary values, and count values using dictionaries.</li>\n",
    "\n",
    "**Checking membership in a dictionary**\n",
    "\n"
   ]
  },
  {
   "cell_type": "code",
   "execution_count": 58,
   "id": "f869fe59",
   "metadata": {},
   "outputs": [],
   "source": [
    "student = {\"name\": \"manisha\", \"age\": 23, \"gender\": \"female\", \"semester\": \"Seventh\"}"
   ]
  },
  {
   "cell_type": "code",
   "execution_count": 62,
   "id": "eecd56bb",
   "metadata": {},
   "outputs": [
    {
     "data": {
      "text/plain": [
       "True"
      ]
     },
     "execution_count": 62,
     "metadata": {},
     "output_type": "execute_result"
    }
   ],
   "source": [
    "\"gender\" in student"
   ]
  },
  {
   "cell_type": "code",
   "execution_count": 60,
   "id": "6e2b4e4a",
   "metadata": {},
   "outputs": [
    {
     "data": {
      "text/plain": [
       "dict_keys(['name', 'age', 'gender', 'semester'])"
      ]
     },
     "execution_count": 60,
     "metadata": {},
     "output_type": "execute_result"
    }
   ],
   "source": [
    "student.keys()"
   ]
  },
  {
   "cell_type": "markdown",
   "id": "d5ae5492",
   "metadata": {},
   "source": [
    "#### Question:\n",
    "\n",
    "**Using the in operator, check whether the following values exist as dictionary keys in the fruits_dict dictionary:**\n",
    "\n",
    "<b>fruits_dict = {\"apple\": 300, \"banana\":120, \"orange\":100, \"dragon fruit\": 400}</b>\n",
    "\n",
    "<li>The string 'banana'- Assign the output of the expression to a variable named is_in_dictionary_1.</li>\n",
    "<li>The integer 400- Assign the output of the expression to a variable named is_in_dictionary_2.</li>\n",
    "<li>Combine the output of an expression containing in with an if statement. If the string 'apple' exists as dictionary key in fruits_dict, then complete the following:</li>\n",
    "<li>Assign the string \"It exists\" to a variable named result.</li>\n",
    "<li>Print the result variable.</li>"
   ]
  },
  {
   "cell_type": "code",
   "execution_count": 65,
   "id": "daaf5d90",
   "metadata": {},
   "outputs": [],
   "source": [
    "fruits_dict = {\"apple\": 300, \"banana\": 120, \"orange\": 100, \"dragon fruit\": 400}"
   ]
  },
  {
   "cell_type": "code",
   "execution_count": 66,
   "id": "552158bc",
   "metadata": {},
   "outputs": [],
   "source": [
    "is_in_dictionary_1 = \"banana\" in fruits_dict"
   ]
  },
  {
   "cell_type": "code",
   "execution_count": 68,
   "id": "1c60310c",
   "metadata": {},
   "outputs": [
    {
     "name": "stdout",
     "output_type": "stream",
     "text": [
      "True\n"
     ]
    }
   ],
   "source": [
    "print(is_in_dictionary_1)"
   ]
  },
  {
   "cell_type": "code",
   "execution_count": 67,
   "id": "ee26c82a",
   "metadata": {},
   "outputs": [],
   "source": [
    "is_in_dictionary_2 = 400 in fruits_dict"
   ]
  },
  {
   "cell_type": "code",
   "execution_count": 69,
   "id": "e4f2e9f2",
   "metadata": {},
   "outputs": [
    {
     "name": "stdout",
     "output_type": "stream",
     "text": [
      "False\n"
     ]
    }
   ],
   "source": [
    "print(is_in_dictionary_2)"
   ]
  },
  {
   "cell_type": "code",
   "execution_count": 77,
   "id": "90059e08",
   "metadata": {},
   "outputs": [],
   "source": [
    "if \"apple\" in fruits_dict:\n",
    "    result = \"It exists\""
   ]
  },
  {
   "cell_type": "code",
   "execution_count": 78,
   "id": "f92132d1",
   "metadata": {},
   "outputs": [
    {
     "name": "stdout",
     "output_type": "stream",
     "text": [
      "It exists\n"
     ]
    }
   ],
   "source": [
    "print(result)"
   ]
  },
  {
   "cell_type": "markdown",
   "id": "ec566367",
   "metadata": {},
   "source": [
    "#### Updating Dictionary Values\n",
    "<li>We can update the items of an dictionary by using their keys.</li>\n",
    "<li>We also have dict.update() method to update a particular key:value pair in a dictionary.</li>"
   ]
  },
  {
   "cell_type": "code",
   "execution_count": 79,
   "id": "9d4395d5",
   "metadata": {},
   "outputs": [],
   "source": [
    "dictionary = {\"name\": \"Prabhat Ale\", \"age\": 23, \"address\": \"Butwal\", \"gender\": \"male\"}"
   ]
  },
  {
   "cell_type": "code",
   "execution_count": 81,
   "id": "c28b17d9",
   "metadata": {},
   "outputs": [
    {
     "name": "stdout",
     "output_type": "stream",
     "text": [
      "{'name': 'Prabhat Ale', 'age': 23, 'address': 'Butwal', 'gender': 'male'}\n"
     ]
    }
   ],
   "source": [
    "print(dictionary)"
   ]
  },
  {
   "cell_type": "code",
   "execution_count": 80,
   "id": "aae37fb7",
   "metadata": {},
   "outputs": [
    {
     "name": "stdout",
     "output_type": "stream",
     "text": [
      "dict_keys(['name', 'age', 'address', 'gender'])\n"
     ]
    }
   ],
   "source": [
    "print(dictionary.keys())"
   ]
  },
  {
   "cell_type": "code",
   "execution_count": 82,
   "id": "7264fa93",
   "metadata": {},
   "outputs": [],
   "source": [
    "dictionary['age'] = 24"
   ]
  },
  {
   "cell_type": "code",
   "execution_count": 83,
   "id": "f857fdbc",
   "metadata": {},
   "outputs": [
    {
     "name": "stdout",
     "output_type": "stream",
     "text": [
      "{'name': 'Prabhat Ale', 'age': 24, 'address': 'Butwal', 'gender': 'male'}\n"
     ]
    }
   ],
   "source": [
    "print(dictionary)"
   ]
  },
  {
   "cell_type": "code",
   "execution_count": 84,
   "id": "bee535a6",
   "metadata": {},
   "outputs": [],
   "source": [
    "dictionary['address'] = \"Dhanewa\""
   ]
  },
  {
   "cell_type": "code",
   "execution_count": 85,
   "id": "f46a89c3",
   "metadata": {},
   "outputs": [
    {
     "name": "stdout",
     "output_type": "stream",
     "text": [
      "{'name': 'Prabhat Ale', 'age': 24, 'address': 'Dhanewa', 'gender': 'male'}\n"
     ]
    }
   ],
   "source": [
    "print(dictionary)"
   ]
  },
  {
   "cell_type": "code",
   "execution_count": 86,
   "id": "b4264172",
   "metadata": {},
   "outputs": [],
   "source": [
    "dictionary.update({'address': 'Manigram'})"
   ]
  },
  {
   "cell_type": "code",
   "execution_count": 87,
   "id": "c0b38439",
   "metadata": {},
   "outputs": [
    {
     "name": "stdout",
     "output_type": "stream",
     "text": [
      "{'name': 'Prabhat Ale', 'age': 24, 'address': 'Manigram', 'gender': 'male'}\n"
     ]
    }
   ],
   "source": [
    "print(dictionary)"
   ]
  },
  {
   "cell_type": "markdown",
   "id": "7a110ae1",
   "metadata": {},
   "source": [
    "#### Question\n",
    "**The content_ratings dictionary is corrupt and needs to be fixed. The corrupt version of content_ratings is provided in the code editor.**\n",
    "<code>\n",
    "content_ratings = {'4+': 622, '12+': '1155', '9+': 987, '17+': 4433}\n",
    "</code>\n",
    "<ol>\n",
    "<li>Swap the values stored in the 4+ and 17+ keys.</li>\n",
    "<li>Assign the value stored in 4+ to a temporary variable called temp.</li>\n",
    "<li>Assign the value stored in 17+ to 4+.</li>\n",
    "<li>Assign the value stored in the temporary variable to 17+.</li>\n",
    "<li>Convert the value stored in 12+ into an integer.</li>\n",
    "<li>Print the content_ratings dictionary.</li>\n",
    "</ol>"
   ]
  },
  {
   "cell_type": "code",
   "execution_count": 88,
   "id": "14834928",
   "metadata": {},
   "outputs": [],
   "source": [
    "content_ratings = {\"4+\": 622, \"12+\": '1155', \"9+\": 987, \"17+\" : 4433}"
   ]
  },
  {
   "cell_type": "code",
   "execution_count": 89,
   "id": "85a2cb2f",
   "metadata": {},
   "outputs": [],
   "source": [
    "temp = content_ratings['4+']"
   ]
  },
  {
   "cell_type": "code",
   "execution_count": 90,
   "id": "7502ef71",
   "metadata": {},
   "outputs": [],
   "source": [
    "content_ratings['4+'] = content_ratings['17+']"
   ]
  },
  {
   "cell_type": "code",
   "execution_count": 92,
   "id": "b8a2583e",
   "metadata": {},
   "outputs": [],
   "source": [
    "content_ratings['17+'] = temp"
   ]
  },
  {
   "cell_type": "code",
   "execution_count": 93,
   "id": "adc23fbf",
   "metadata": {},
   "outputs": [
    {
     "name": "stdout",
     "output_type": "stream",
     "text": [
      "{'4+': 4433, '12+': '1155', '9+': 987, '17+': 622}\n"
     ]
    }
   ],
   "source": [
    "print(content_ratings)"
   ]
  },
  {
   "cell_type": "code",
   "execution_count": 96,
   "id": "7f57f43e",
   "metadata": {},
   "outputs": [
    {
     "name": "stdout",
     "output_type": "stream",
     "text": [
      "1155\n",
      "<class 'int'>\n"
     ]
    }
   ],
   "source": [
    "content_ratings_12plus = int(content_ratings['12+'])\n",
    "print(content_ratings_12plus)\n",
    "print(type(content_ratings_12plus))"
   ]
  },
  {
   "cell_type": "code",
   "execution_count": null,
   "id": "43dd4f0c",
   "metadata": {},
   "outputs": [],
   "source": []
  },
  {
   "cell_type": "markdown",
   "id": "10ce335a",
   "metadata": {},
   "source": [
    "#### Counting In A Dictionary\n",
    "<li>We can count the number of repetitions of a particular value in list by using a dictionary.</li>"
   ]
  },
  {
   "cell_type": "code",
   "execution_count": 14,
   "id": "71d26dc1",
   "metadata": {},
   "outputs": [],
   "source": [
    "list1 = [1,2,3,3,2,1,2,1,3,2,1,2,3]"
   ]
  },
  {
   "cell_type": "code",
   "execution_count": 15,
   "id": "ac4fd49f",
   "metadata": {},
   "outputs": [],
   "source": [
    "dict1 = {1: 0, 2: 0, 3: 0}"
   ]
  },
  {
   "cell_type": "code",
   "execution_count": 16,
   "id": "fd519e7b",
   "metadata": {},
   "outputs": [],
   "source": [
    "for item in list1:\n",
    "    if item in dict1:\n",
    "        dict1[item] += 1"
   ]
  },
  {
   "cell_type": "code",
   "execution_count": 17,
   "id": "ce31e3ec",
   "metadata": {},
   "outputs": [
    {
     "name": "stdout",
     "output_type": "stream",
     "text": [
      "{1: 4, 2: 5, 3: 4}\n"
     ]
    }
   ],
   "source": [
    "print(dict1)"
   ]
  },
  {
   "cell_type": "markdown",
   "id": "4b37ab78",
   "metadata": {},
   "source": [
    "#### Question\n",
    "\n",
    "**From the given list, count the number of times each rating is repeated.(Frequency Table)**"
   ]
  },
  {
   "cell_type": "code",
   "execution_count": 18,
   "id": "20bfb5aa",
   "metadata": {},
   "outputs": [],
   "source": [
    "ratings = ['4+', '9+', '12+', '4+', '17+', '4+', '9+', '4+', '12+', '17+', '9+',\n",
    "           '4+', '12+', '9+', '12+', '4+', '17+', '4+', '12+', '12+', '17+',\n",
    "           '9+', '9+', '4+', '4+', '9+', '12+', '17+', '12+', '17+']"
   ]
  },
  {
   "cell_type": "code",
   "execution_count": 19,
   "id": "87439d5b",
   "metadata": {},
   "outputs": [
    {
     "name": "stdout",
     "output_type": "stream",
     "text": [
      "{'17+', '9+', '4+', '12+'}\n"
     ]
    }
   ],
   "source": [
    "ratings_set = set(ratings)\n",
    "print(ratings_set)"
   ]
  },
  {
   "cell_type": "code",
   "execution_count": 20,
   "id": "8b568492",
   "metadata": {},
   "outputs": [],
   "source": [
    "ratings_dict = {\"17+\": 0, \"9+\": 0, \"4+\": 0, \"12+\": 0}"
   ]
  },
  {
   "cell_type": "code",
   "execution_count": 23,
   "id": "feaa5bb3",
   "metadata": {},
   "outputs": [],
   "source": [
    "for rat in ratings:\n",
    "    if rat in ratings_dict:\n",
    "        ratings_dict[rat] += 1"
   ]
  },
  {
   "cell_type": "code",
   "execution_count": 24,
   "id": "90b1b9cb",
   "metadata": {},
   "outputs": [
    {
     "name": "stdout",
     "output_type": "stream",
     "text": [
      "{'17+': 6, '9+': 7, '4+': 9, '12+': 8}\n"
     ]
    }
   ],
   "source": [
    "print(ratings_dict)"
   ]
  },
  {
   "cell_type": "markdown",
   "id": "fcd14cdc",
   "metadata": {},
   "source": [
    "<li>We also call the number of times a unique value occurs a frequency. For this reason, we call tables like the one below frequency tables.</li>\n",
    "\n",
    "![](images/frequency_table.png)\n",
    "\n",
    "<li>4+ occurs 9 times, so it has a frequency of 9. 12+ has a frequency of 8. 9+ has a frequency of 7. 17+ has the lowest frequency: 6.</li>\n"
   ]
  },
  {
   "cell_type": "markdown",
   "id": "703b0ecb",
   "metadata": {},
   "source": [
    "#### Question:\n",
    "\n",
    "**From the given list, find out the frequency table for the following:**\n",
    "\n",
    "<ol>\n",
    "    <li>Frequency count table for gender.</li>\n",
    "    <li>Frequency count table for age.</li>\n",
    "    <li>Frequency count table for faculty.</li>\n",
    "    <li>Frequency count table for semester level.</li>\n",
    "</ol>"
   ]
  },
  {
   "cell_type": "code",
   "execution_count": 46,
   "id": "5fd4a91e",
   "metadata": {},
   "outputs": [],
   "source": [
    "student_1 = ['Ram', 'male',23, 'B.C.A', 'Seventh Semester', 78.2]\n",
    "student_2 = ['Shyam','male',21,'B.C.A', 'Fifth Semester',67.5]\n",
    "student_3 = ['Abhishek','male',22, 'B.Sc.Cs.It', 'Seventh Semester',82.4]\n",
    "student_4 = ['Mahima','female',20, 'B.Sc.Cs.It', 'Fifth Semester',87.3]\n",
    "student_5 = ['Sanjana','female',22, 'B.Sc.Cs.It', 'Seventh Semester',69.8]\n",
    "student_6 = ['Prabhat', 'male',23, 'B.Sc.Cs.It', 'Seventh Semester', 80.2]\n",
    "student_7 = ['Ashmita','female',21,'B.Sc.Cs.It', 'Fifth Semester',81.5]\n",
    "student_8 = ['Shanti','female',22, 'B.Sc.Cs.It', 'Fifth Semester',72.4]\n",
    "student_9 = ['Himal','male',20, 'B.C.A', 'Fifth Semester',78.3]\n",
    "student_10 = ['Rabina','female',22, 'B.I.M', 'Seventh Semester',75.8]\n",
    "student_11 = ['Kamal', 'male',23, 'B.I.M', 'Fifth Semester', 80.2]\n",
    "student_12= ['Bhawana','female',21,'B.I.M', 'Third Semester',81.5]\n",
    "student_13 = ['Sunil','male',22, 'B.I.M', 'Fourth Semester',72.4]\n",
    "student_14= ['Nirisha','female',20, 'B.I.M', 'Fourth Semester',78.3]\n",
    "student_15 = ['Sushmita','female',22, 'B.I.M', 'Third Semester',75.8]\n",
    "student_16 = ['Alisha', 'female',20, 'B.A.L.L.B', 'Second Semester', 70.2]\n",
    "student_17 = ['Dipen','male',23,'B.C.A', 'Fifth Semester',67.5]\n",
    "student_18 = ['Purnima','female',23, 'B.A.L.L.B', 'Seventh Semester',81.4]\n",
    "student_19 = ['Aastha','female',24, 'B.Sc.Cs.It', 'Fifth Semester',83.3]\n",
    "student_20 = ['Pramila','female',24, 'B.Sc.Cs.It', 'Seventh Semester',79.8]\n",
    "student_21 = ['Pawan', 'male',24, 'B.Sc.Cs.It', 'Third Semester', 70.2]\n",
    "student_22 = ['Prakriti','female',22,'B.A.L.L.B', 'Fifth Semester',69.5]\n",
    "student_23 = ['Nabina','female',23, 'B.Sc.Cs.It', 'Second Semester',77.4]\n",
    "student_24 = ['Siddhant','male',23, 'B.C.A', 'Fifth Semester',78.3]\n",
    "student_25 = ['Goma','female',25, 'B.A.L.L.B', 'Seventh Semester',72.8]\n",
    "student_26 = ['Rijan', 'male',23, 'B.I.M', 'Fifth Semester', 81.2]\n",
    "student_27 = ['Rihans','male',21,'B.C.A', 'Third Semester',86.5]\n",
    "student_28 = ['Kabya','female',22, 'B.I.M', 'Second Semester',78.4]\n",
    "student_29 = ['Abhi','male',20, 'B.I.M', 'Fourth Semester',71.3]\n",
    "student_30 = ['Seema','female',25, 'B.I.M', 'Fifth Semester',69.8]\n",
    "\n",
    "student_datasets = [student_1, student_2, student_3, student_4, student_5,\n",
    "                    student_6, student_7, student_8, student_9, student_10,\n",
    "                   student_11, student_12, student_13, student_14,student_15,\n",
    "                   student_16, student_17, student_18, student_19, student_20,\n",
    "                    student_21, student_22, student_23, student_24, student_25,\n",
    "                   student_26, student_27, student_28, student_29, student_30]\n",
    "\n"
   ]
  },
  {
   "cell_type": "code",
   "execution_count": 47,
   "id": "19978451",
   "metadata": {},
   "outputs": [],
   "source": [
    "gender_dict = {'male': 0, 'female': 0}"
   ]
  },
  {
   "cell_type": "code",
   "execution_count": 48,
   "id": "042e6562",
   "metadata": {},
   "outputs": [],
   "source": [
    "for std in student_datasets:\n",
    "    if std[1] in gender_dict:\n",
    "        gender_dict[std[1]] += 1\n"
   ]
  },
  {
   "cell_type": "code",
   "execution_count": 49,
   "id": "907b19cd",
   "metadata": {},
   "outputs": [],
   "source": [
    "gender_dict2 = {}\n",
    "for std in student_datasets:\n",
    "    if std[1] not in gender_dict2:\n",
    "        gender_dict2[std[1]] = 1\n",
    "    else:\n",
    "        gender_dict2[std[1]] += 1\n",
    "        "
   ]
  },
  {
   "cell_type": "code",
   "execution_count": 50,
   "id": "fde074ec",
   "metadata": {},
   "outputs": [
    {
     "name": "stdout",
     "output_type": "stream",
     "text": [
      "{'male': 13, 'female': 17}\n"
     ]
    }
   ],
   "source": [
    "print(gender_dict)"
   ]
  },
  {
   "cell_type": "code",
   "execution_count": 51,
   "id": "63700d21",
   "metadata": {},
   "outputs": [
    {
     "name": "stdout",
     "output_type": "stream",
     "text": [
      "{'male': 13, 'female': 17}\n"
     ]
    }
   ],
   "source": [
    "print(gender_dict2)"
   ]
  },
  {
   "cell_type": "code",
   "execution_count": 52,
   "id": "d9a573f5",
   "metadata": {},
   "outputs": [],
   "source": [
    "age_dict = {}\n",
    "for std in student_datasets:\n",
    "    if std[2] not in age_dict:\n",
    "        age_dict[std[2]] = 1\n",
    "    else:\n",
    "        age_dict[std[2]] += 1\n",
    "        "
   ]
  },
  {
   "cell_type": "code",
   "execution_count": 53,
   "id": "6ce7ef39",
   "metadata": {},
   "outputs": [],
   "source": [
    "faculty_dict = {}\n",
    "for std in student_datasets:\n",
    "    if std[3] not in faculty_dict:\n",
    "        faculty_dict[std[3]] = 1\n",
    "    else:\n",
    "        faculty_dict[std[3]] += 1\n"
   ]
  },
  {
   "cell_type": "code",
   "execution_count": 54,
   "id": "9d21f192",
   "metadata": {},
   "outputs": [
    {
     "name": "stdout",
     "output_type": "stream",
     "text": [
      "{'B.C.A': 6, 'B.Sc.Cs.It': 10, 'B.I.M': 10, 'B.A.L.L.B': 4}\n"
     ]
    }
   ],
   "source": [
    "print(faculty_dict)"
   ]
  },
  {
   "cell_type": "code",
   "execution_count": 57,
   "id": "a3c59388",
   "metadata": {},
   "outputs": [],
   "source": [
    "semester_dict = {}\n",
    "for std in student_datasets:\n",
    "    if std[4] not in semester_dict:\n",
    "        semester_dict[std[4]] = 1\n",
    "    else:\n",
    "        semester_dict[std[4]] += 1"
   ]
  },
  {
   "cell_type": "code",
   "execution_count": 58,
   "id": "41e75f00",
   "metadata": {},
   "outputs": [
    {
     "name": "stdout",
     "output_type": "stream",
     "text": [
      "{'Seventh Semester': 8, 'Fifth Semester': 12, 'Third Semester': 4, 'Fourth Semester': 3, 'Second Semester': 3}\n"
     ]
    }
   ],
   "source": [
    "print(semester_dict)"
   ]
  },
  {
   "cell_type": "code",
   "execution_count": null,
   "id": "5e5c9b0b",
   "metadata": {},
   "outputs": [],
   "source": []
  }
 ],
 "metadata": {
  "kernelspec": {
   "display_name": "Python 3 (ipykernel)",
   "language": "python",
   "name": "python3"
  },
  "language_info": {
   "codemirror_mode": {
    "name": "ipython",
    "version": 3
   },
   "file_extension": ".py",
   "mimetype": "text/x-python",
   "name": "python",
   "nbconvert_exporter": "python",
   "pygments_lexer": "ipython3",
   "version": "3.9.0"
  }
 },
 "nbformat": 4,
 "nbformat_minor": 5
}
