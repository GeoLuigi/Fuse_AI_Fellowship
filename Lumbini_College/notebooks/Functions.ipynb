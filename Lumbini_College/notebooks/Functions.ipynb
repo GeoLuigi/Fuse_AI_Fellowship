{
 "cells": [
  {
   "cell_type": "markdown",
   "id": "bb7fca7e",
   "metadata": {},
   "source": [
    "#### Functions\n",
    "\n",
    "<li>A function is a block of code which only runs when it is called.</li>\n",
    "<li>You can also pass data, known as parameters, into a function.</li>\n",
    "<li>Generally, a function displays the following pattern:</li>\n",
    "<ol>\n",
    "    <li>It takes in an input.</li>\n",
    "    <li>It processes that input.</li>\n",
    "    <li>It returns output.</li>\n",
    "</ol>\n"
   ]
  },
  {
   "cell_type": "markdown",
   "id": "4f62cfc4",
   "metadata": {},
   "source": [
    "#### Types Of Functions:\n",
    "<ol>\n",
    "    <li>Builtin Functions:</li>\n",
    "    <ul>\n",
    "        <li>The Python built-in functions are defined as the functions whose functionality is pre-defined in Python.</li>\n",
    "         <li>The python interpreter has several functions that are always present for use. These functions are known as <b>Built-in Functions</b>.</li>\n",
    "        <li>There are several built-in functions in Python which are listed below:</li>\n",
    "        <ol>\n",
    "            <li>len()</li>\n",
    "            <li>int()</li>\n",
    "            <li>type()</li>\n",
    "            <li>float()</li>\n",
    "            <li>sum()</li>\n",
    "            <li>min()</li>\n",
    "            <li>max()</li>\n",
    "            <li>abs()</li>\n",
    "            <li>list()</li>\n",
    "            <li>set()</li>\n",
    "            <li>tuple()</li>\n",
    "            <li>float()</li>\n",
    "            <li>str()</li>\n",
    "            <li>sorted()</li>\n",
    "            <li>round()</li>\n",
    "            <li>reverse()</li>\n",
    "        </ol>\n",
    "    </ul>\n",
    "<li>User Defined Functions:\n",
    "    <ul>\n",
    "        <li>User Defined Functions is a function in Python that allows users to write custom logic that the user defines.</li>\n",
    "        <li>In Python, def keyword is used to declare user defined functions.</li>\n",
    "    </ul>\n",
    "</li>\n",
    "</ol>\n",
    "\n",
    " \n"
   ]
  },
  {
   "cell_type": "code",
   "execution_count": 1,
   "id": "d407e334",
   "metadata": {},
   "outputs": [],
   "source": [
    "list1 = [1,2,5,7,4,9,8]"
   ]
  },
  {
   "cell_type": "code",
   "execution_count": 2,
   "id": "7a965a69",
   "metadata": {},
   "outputs": [
    {
     "data": {
      "text/plain": [
       "1"
      ]
     },
     "execution_count": 2,
     "metadata": {},
     "output_type": "execute_result"
    }
   ],
   "source": [
    "min(list1)"
   ]
  },
  {
   "cell_type": "code",
   "execution_count": 3,
   "id": "7db599b2",
   "metadata": {},
   "outputs": [
    {
     "data": {
      "text/plain": [
       "9"
      ]
     },
     "execution_count": 3,
     "metadata": {},
     "output_type": "execute_result"
    }
   ],
   "source": [
    "max(list1)"
   ]
  },
  {
   "cell_type": "code",
   "execution_count": 4,
   "id": "c0e84d2a",
   "metadata": {},
   "outputs": [
    {
     "data": {
      "text/plain": [
       "5.1279"
      ]
     },
     "execution_count": 4,
     "metadata": {},
     "output_type": "execute_result"
    }
   ],
   "source": [
    "round(5.1278686,4)"
   ]
  },
  {
   "cell_type": "code",
   "execution_count": 5,
   "id": "6fab78fc",
   "metadata": {},
   "outputs": [
    {
     "data": {
      "text/plain": [
       "7"
      ]
     },
     "execution_count": 5,
     "metadata": {},
     "output_type": "execute_result"
    }
   ],
   "source": [
    "len(list1)"
   ]
  },
  {
   "cell_type": "code",
   "execution_count": 6,
   "id": "bbe19379",
   "metadata": {},
   "outputs": [
    {
     "data": {
      "text/plain": [
       "[1, 2, 4, 5, 7, 8, 9]"
      ]
     },
     "execution_count": 6,
     "metadata": {},
     "output_type": "execute_result"
    }
   ],
   "source": [
    "sorted(list1)"
   ]
  },
  {
   "cell_type": "code",
   "execution_count": 7,
   "id": "0f096348",
   "metadata": {},
   "outputs": [],
   "source": [
    "list1.reverse()"
   ]
  },
  {
   "cell_type": "code",
   "execution_count": 8,
   "id": "6a3e6e0b",
   "metadata": {},
   "outputs": [
    {
     "data": {
      "text/plain": [
       "[8, 9, 4, 7, 5, 2, 1]"
      ]
     },
     "execution_count": 8,
     "metadata": {},
     "output_type": "execute_result"
    }
   ],
   "source": [
    "list1"
   ]
  },
  {
   "cell_type": "code",
   "execution_count": 9,
   "id": "716dfb28",
   "metadata": {},
   "outputs": [
    {
     "data": {
      "text/plain": [
       "5"
      ]
     },
     "execution_count": 9,
     "metadata": {},
     "output_type": "execute_result"
    }
   ],
   "source": [
    "abs(-5)"
   ]
  },
  {
   "cell_type": "code",
   "execution_count": 10,
   "id": "7ebaf578",
   "metadata": {},
   "outputs": [
    {
     "data": {
      "text/plain": [
       "dict"
      ]
     },
     "execution_count": 10,
     "metadata": {},
     "output_type": "execute_result"
    }
   ],
   "source": [
    "dictdata = {\"name\": \"Prabhat\", \"age\": 24, \"address\": \"Butwal\"}\n",
    "type(dictdata)"
   ]
  },
  {
   "cell_type": "markdown",
   "id": "f2f9ad8e",
   "metadata": {},
   "source": [
    "#### Built-In Functions(Questions)\n",
    "\n",
    "**Compute the sum of a_list (already defined in the code editor) without using sum().**\n",
    "\n",
    "<li>Initialize a variable named sum_manual with a value of 0.</li>\n",
    "<li>Loop through a_list, and for each iteration add the current number to sum_manual.</li>\n",
    "<li>Print sum_manual and sum(a_list) to see if the values are the same.</li>\n",
    "<li>Calculate the length of the list and store in a variable len_list and display its length.</li>"
   ]
  },
  {
   "cell_type": "code",
   "execution_count": 11,
   "id": "5466580b",
   "metadata": {},
   "outputs": [],
   "source": [
    "a_list = [4444, 8897, 6340, 9896, 4835, 4324, 10, 6445,\n",
    "          661, 1246, 1000, 7429, 1376, 8121, 647, 1280,\n",
    "          3993, 4881, 9500, 6701, 1199, 6251, 4432, 37]"
   ]
  },
  {
   "cell_type": "code",
   "execution_count": 12,
   "id": "23c1b9fb",
   "metadata": {},
   "outputs": [
    {
     "data": {
      "text/plain": [
       "103945"
      ]
     },
     "execution_count": 12,
     "metadata": {},
     "output_type": "execute_result"
    }
   ],
   "source": [
    "sum(a_list)"
   ]
  },
  {
   "cell_type": "code",
   "execution_count": 13,
   "id": "cec05533",
   "metadata": {},
   "outputs": [
    {
     "name": "stdout",
     "output_type": "stream",
     "text": [
      "103945\n"
     ]
    }
   ],
   "source": [
    "sum_manual = 0\n",
    "len_manual = 0\n",
    "for item in a_list:\n",
    "    len_manual += 1\n",
    "    sum_manual += item\n",
    "print(sum_manual)"
   ]
  },
  {
   "cell_type": "code",
   "execution_count": 14,
   "id": "f67ee713",
   "metadata": {},
   "outputs": [
    {
     "name": "stdout",
     "output_type": "stream",
     "text": [
      "24\n"
     ]
    }
   ],
   "source": [
    "len_list = len(a_list)\n",
    "print(len_list)"
   ]
  },
  {
   "cell_type": "code",
   "execution_count": 15,
   "id": "34327f0a",
   "metadata": {},
   "outputs": [
    {
     "name": "stdout",
     "output_type": "stream",
     "text": [
      "24\n"
     ]
    }
   ],
   "source": [
    "print(len_manual)"
   ]
  },
  {
   "cell_type": "code",
   "execution_count": 16,
   "id": "fcf46633",
   "metadata": {},
   "outputs": [
    {
     "data": {
      "text/plain": [
       "5"
      ]
     },
     "execution_count": 16,
     "metadata": {},
     "output_type": "execute_result"
    }
   ],
   "source": [
    "string_val = \"apple\"\n",
    "len(string_val)"
   ]
  },
  {
   "cell_type": "markdown",
   "id": "09f5ee96",
   "metadata": {},
   "source": [
    "#### User Defined Function\n",
    "\n",
    "![](images/func_structure.png)"
   ]
  },
  {
   "cell_type": "markdown",
   "id": "41b1a857",
   "metadata": {},
   "source": [
    "<li>We commonly call input variables like a_number parameters. So, <b>a_number</b> is a <b>parameter</b> of the square() function.</li>\n",
    "<li>When the parameter <b>a_number</b> takes a value (like 6 in <b>square(a_number=6)</b>), we call that value an <b>argument.</b></li>"
   ]
  },
  {
   "cell_type": "markdown",
   "id": "c666dbb8",
   "metadata": {},
   "source": [
    "#### UserDefined (Function With No Return Type)\n",
    "\n",
    "<li>A function can return any value based on computations performed inside a function or it doesnot return any value.\n",
    "<li>If a function doesnot return any value then such kind of function is known as function with no return type.</li>\n",
    "\n",
    "\n",
    "<code>\n",
    "    def func_name():\n",
    "        statement//\n",
    "</code>"
   ]
  },
  {
   "cell_type": "code",
   "execution_count": 17,
   "id": "1ce6d8eb",
   "metadata": {},
   "outputs": [],
   "source": [
    "def display_name():\n",
    "    print(\"My name is Prabhat Ale\")"
   ]
  },
  {
   "cell_type": "code",
   "execution_count": 18,
   "id": "0de59ac7",
   "metadata": {},
   "outputs": [
    {
     "name": "stdout",
     "output_type": "stream",
     "text": [
      "My name is Prabhat Ale\n"
     ]
    }
   ],
   "source": [
    "display_name()"
   ]
  },
  {
   "cell_type": "markdown",
   "id": "3ea053b9",
   "metadata": {},
   "source": [
    "#### Parameterized Function\n",
    "\n",
    "<li>The function may take arguments(s) also called parameters as input within the opening and closing parentheses, just after the function name followed by a colon.</li>\n",
    "\n",
    "<code>\n",
    "    def func_name(arg1, arg2):\n",
    "        statement//\n",
    "        .\n",
    "        .\n",
    "        return val\n",
    "</code>    \n"
   ]
  },
  {
   "cell_type": "code",
   "execution_count": 19,
   "id": "48dee9da",
   "metadata": {},
   "outputs": [],
   "source": [
    "def display_name(fname, lname):\n",
    "    print(\"My name is {} {}\".format(fname, lname))"
   ]
  },
  {
   "cell_type": "code",
   "execution_count": 20,
   "id": "1703ef02",
   "metadata": {},
   "outputs": [
    {
     "name": "stdout",
     "output_type": "stream",
     "text": [
      "My name is Prabhat Ale\n"
     ]
    }
   ],
   "source": [
    "display_name(\"Prabhat\", \"Ale\")"
   ]
  },
  {
   "cell_type": "code",
   "execution_count": 21,
   "id": "d977ac20",
   "metadata": {},
   "outputs": [
    {
     "name": "stdout",
     "output_type": "stream",
     "text": [
      "My name is Sumit Shrestha\n"
     ]
    }
   ],
   "source": [
    "display_name(\"Sumit\", \"Shrestha\")"
   ]
  },
  {
   "cell_type": "code",
   "execution_count": 22,
   "id": "8318cff1",
   "metadata": {},
   "outputs": [],
   "source": [
    "def square_num(num):\n",
    "    sq = num * num\n",
    "    return sq"
   ]
  },
  {
   "cell_type": "code",
   "execution_count": 23,
   "id": "668426e2",
   "metadata": {},
   "outputs": [
    {
     "name": "stdout",
     "output_type": "stream",
     "text": [
      "25\n"
     ]
    }
   ],
   "source": [
    "sq_5 = square_num(5)\n",
    "print(sq_5)"
   ]
  },
  {
   "cell_type": "code",
   "execution_count": 24,
   "id": "149d2f67",
   "metadata": {},
   "outputs": [],
   "source": [
    "def display_name(fname, lname):\n",
    "    return \"My name is {} {}\".format(fname, lname)"
   ]
  },
  {
   "cell_type": "code",
   "execution_count": 25,
   "id": "96a29045",
   "metadata": {},
   "outputs": [
    {
     "data": {
      "text/plain": [
       "'My name is Sandesh Shrestha'"
      ]
     },
     "execution_count": 25,
     "metadata": {},
     "output_type": "execute_result"
    }
   ],
   "source": [
    "display_name(\"Sandesh\", \"Shrestha\")"
   ]
  },
  {
   "cell_type": "markdown",
   "id": "809db602",
   "metadata": {},
   "source": [
    "#### Function With Default Argument\n",
    "\n",
    "<li>A default argument is a parameter that assumes a default value if a value is not provided in the function call for that argument.</li>"
   ]
  },
  {
   "cell_type": "code",
   "execution_count": 26,
   "id": "e5863d29",
   "metadata": {},
   "outputs": [],
   "source": [
    "def square_num(num = 6):\n",
    "    sq = num* num\n",
    "    return sq"
   ]
  },
  {
   "cell_type": "code",
   "execution_count": 27,
   "id": "6c9b485e",
   "metadata": {},
   "outputs": [
    {
     "data": {
      "text/plain": [
       "36"
      ]
     },
     "execution_count": 27,
     "metadata": {},
     "output_type": "execute_result"
    }
   ],
   "source": [
    "square_num()"
   ]
  },
  {
   "cell_type": "code",
   "execution_count": 28,
   "id": "ffd25de1",
   "metadata": {},
   "outputs": [
    {
     "data": {
      "text/plain": [
       "64"
      ]
     },
     "execution_count": 28,
     "metadata": {},
     "output_type": "execute_result"
    }
   ],
   "source": [
    "square_num(8)"
   ]
  },
  {
   "cell_type": "markdown",
   "id": "ee69086b",
   "metadata": {},
   "source": [
    "#### Question\n",
    "\n",
    "<li>Recreate the cube() function above and compute the cube for numbers 5 and  6.</li>\n",
    "<li>Assign the cube of 5 to a variable named cube_5.</li>\n",
    "<li>Assign the cube of 6 to a variable named cube_6.</li>"
   ]
  },
  {
   "cell_type": "code",
   "execution_count": 29,
   "id": "c01f00cb",
   "metadata": {},
   "outputs": [],
   "source": [
    "def cube_num(num):\n",
    "    cube = num**3\n",
    "    return cube"
   ]
  },
  {
   "cell_type": "code",
   "execution_count": 30,
   "id": "a9ba4a60",
   "metadata": {},
   "outputs": [],
   "source": [
    "cube_5 = cube_num(5)\n",
    "cube_6 = cube_num(6)"
   ]
  },
  {
   "cell_type": "code",
   "execution_count": 31,
   "id": "b242c8ca",
   "metadata": {},
   "outputs": [
    {
     "name": "stdout",
     "output_type": "stream",
     "text": [
      "125\n",
      "216\n"
     ]
    }
   ],
   "source": [
    "print(cube_5)\n",
    "print(cube_6)"
   ]
  },
  {
   "cell_type": "markdown",
   "id": "a2c20244",
   "metadata": {},
   "source": [
    "#### Question\n",
    "\n",
    "**Create a function named mul_5() that does the following:**\n",
    "<ol>\n",
    "    <li>Takes a number as the input (name the input variable as you wish)</li>\n",
    "    <li>Multiply the integer 5 to that number.</li>\n",
    "    <li>Returns the result of the multiplication.</li>\n",
    "<ol>\n",
    "\n",
    "<li>Use the mul_5() function to do the following:</li>\n",
    "<ol>\n",
    "    <li>Multiply by 5 to the number 20 — assign the result to a variable named mul_20</li>\n",
    "    <li>Multiply by 5 to the number 16 — assign the result to a variable named mul_16</li>\n",
    "</ol>\n",
    "    "
   ]
  },
  {
   "cell_type": "code",
   "execution_count": 32,
   "id": "83be7482",
   "metadata": {},
   "outputs": [],
   "source": [
    "def mul_5(num):\n",
    "    new_num = 5 * num\n",
    "    return new_num"
   ]
  },
  {
   "cell_type": "code",
   "execution_count": 33,
   "id": "6bce74ec",
   "metadata": {},
   "outputs": [],
   "source": [
    "mul_20 = mul_5(20)\n",
    "mul_16 = mul_5(16)"
   ]
  },
  {
   "cell_type": "code",
   "execution_count": 34,
   "id": "ce52042d",
   "metadata": {},
   "outputs": [
    {
     "name": "stdout",
     "output_type": "stream",
     "text": [
      "100\n",
      "80\n"
     ]
    }
   ],
   "source": [
    "print(mul_20)\n",
    "print(mul_16)"
   ]
  },
  {
   "cell_type": "markdown",
   "id": "887044b0",
   "metadata": {},
   "source": [
    "#### Keyword arguments\n",
    "<li>The idea is to allow programmer to specify argument name with values so that caller does not need to remember order of parameters.</li>"
   ]
  },
  {
   "cell_type": "code",
   "execution_count": 35,
   "id": "2f02332d",
   "metadata": {},
   "outputs": [],
   "source": [
    "def display_name(lname, fname, mname):\n",
    "    return \"My name is {} {} {}\".format(fname, mname, lname)"
   ]
  },
  {
   "cell_type": "code",
   "execution_count": 36,
   "id": "98d98da1",
   "metadata": {},
   "outputs": [
    {
     "data": {
      "text/plain": [
       "'My name is Shyam Sundar Ale'"
      ]
     },
     "execution_count": 36,
     "metadata": {},
     "output_type": "execute_result"
    }
   ],
   "source": [
    "display_name(fname = \"Shyam\", mname = \"Sundar\", lname = \"Ale\")"
   ]
  },
  {
   "cell_type": "code",
   "execution_count": 37,
   "id": "5582ecea",
   "metadata": {},
   "outputs": [],
   "source": [
    "def square_num(num):\n",
    "    sq = num*num\n",
    "    return sq"
   ]
  },
  {
   "cell_type": "code",
   "execution_count": 38,
   "id": "8bdc2682",
   "metadata": {},
   "outputs": [
    {
     "name": "stdout",
     "output_type": "stream",
     "text": [
      "81\n"
     ]
    }
   ],
   "source": [
    "sq = square_num(num = 9)\n",
    "print(sq)"
   ]
  },
  {
   "cell_type": "markdown",
   "id": "947d0ec4",
   "metadata": {},
   "source": [
    "#### Variable length arguments\n",
    "\n",
    "<li>We can have both normal and keyword variable number of arguments. </li>\n",
    " \n",
    "<li>The special syntax *args in function definitions in Python is used to pass a variable number of arguments to a function.</li>\n",
    "<li>It is used to pass a non-keyworded, variable-length argument list.</li>\n",
    " \n",
    "<li>The special syntax **kwargs in function definitions in python is used to pass a keyworded, variable-length argument list.</li>\n",
    "<li>We use the name kwargs with the double star. The reason is because the double star allows us to pass through keyword arguments (any number of them).</li>"
   ]
  },
  {
   "cell_type": "code",
   "execution_count": 39,
   "id": "0132673c",
   "metadata": {},
   "outputs": [],
   "source": [
    "def variable_length_arguments(*args):\n",
    "    for item in args:\n",
    "        print(item)"
   ]
  },
  {
   "cell_type": "code",
   "execution_count": 40,
   "id": "75835326",
   "metadata": {},
   "outputs": [],
   "source": [
    "def variable_length_arguments(*args):\n",
    "    sum_args = 0\n",
    "    for item in args:\n",
    "        sum_args += item\n",
    "    return sum_args"
   ]
  },
  {
   "cell_type": "code",
   "execution_count": 41,
   "id": "7667d037",
   "metadata": {},
   "outputs": [
    {
     "name": "stdout",
     "output_type": "stream",
     "text": [
      "36\n"
     ]
    }
   ],
   "source": [
    "sum_args = variable_length_arguments(7,9,8,7,3,2)\n",
    "print(sum_args)"
   ]
  },
  {
   "cell_type": "code",
   "execution_count": 42,
   "id": "ea7924cc",
   "metadata": {},
   "outputs": [],
   "source": [
    "def variable_length_keyword_arguments(**kwargs):\n",
    "    for key, val in kwargs.items():\n",
    "        print(\"The key is {} and the value is {}\".format(key, val))"
   ]
  },
  {
   "cell_type": "code",
   "execution_count": 43,
   "id": "1a2fe91a",
   "metadata": {},
   "outputs": [
    {
     "name": "stdout",
     "output_type": "stream",
     "text": [
      "The key is fname and the value is Shyam\n",
      "The key is mname1 and the value is Sundar\n",
      "The key is mname and the value is Singh\n",
      "The key is lname and the value is Ale\n"
     ]
    }
   ],
   "source": [
    "variable_length_keyword_arguments(fname = \"Shyam\", mname1 = \"Sundar\", mname = \"Singh\",\n",
    "                                 lname = \"Ale\")"
   ]
  },
  {
   "cell_type": "markdown",
   "id": "0301d4de",
   "metadata": {},
   "source": [
    "#### Question:\n",
    "\n",
    "**We provided a function called date() in the code editor. This function currently takes inputs month and day and returns them together in a string. We want the date() function to return the year as well as the month and day.**\n",
    "\n",
    "<li>Modify the date() function to add a year parameter:</li>\n",
    "<ol>\n",
    "    <li>Edit the string so that it displays the date in the format month day, year.</li>\n",
    "    <li>Convert both the year and day variables to strings using the str() function.</li>\n",
    "<li>Call and print the date() function and pass the appropriate arguments to produce the following outputs:</li>\n",
    "    <ol>\n",
    "    <li>July 15, 2006</li>\n",
    "    <li>February 4, 2004</li>\n",
    "    <li>June 9, 1949</li>\n",
    "    </ol>\n",
    "</ol>"
   ]
  },
  {
   "cell_type": "code",
   "execution_count": 44,
   "id": "1104f95a",
   "metadata": {},
   "outputs": [],
   "source": [
    "def date(month, day):\n",
    "    return month + \" \" + str(day)"
   ]
  },
  {
   "cell_type": "code",
   "execution_count": 45,
   "id": "be34de68",
   "metadata": {},
   "outputs": [
    {
     "data": {
      "text/plain": [
       "'January 13'"
      ]
     },
     "execution_count": 45,
     "metadata": {},
     "output_type": "execute_result"
    }
   ],
   "source": [
    "date(\"January\", 13)"
   ]
  },
  {
   "cell_type": "code",
   "execution_count": 46,
   "id": "bb78389d",
   "metadata": {},
   "outputs": [],
   "source": [
    "def date(year, month, day):\n",
    "    return month + \" \" + str(day) + \",\" + str(year)"
   ]
  },
  {
   "cell_type": "code",
   "execution_count": 47,
   "id": "a6cc8fcd",
   "metadata": {},
   "outputs": [
    {
     "data": {
      "text/plain": [
       "'July 15,2006'"
      ]
     },
     "execution_count": 47,
     "metadata": {},
     "output_type": "execute_result"
    }
   ],
   "source": [
    "date(year = 2006, month = \"July\", day = 15)"
   ]
  },
  {
   "cell_type": "code",
   "execution_count": 48,
   "id": "1d763812",
   "metadata": {},
   "outputs": [
    {
     "data": {
      "text/plain": [
       "'February 4,2004'"
      ]
     },
     "execution_count": 48,
     "metadata": {},
     "output_type": "execute_result"
    }
   ],
   "source": [
    "date(2004, \"February\", 4)"
   ]
  },
  {
   "cell_type": "code",
   "execution_count": 49,
   "id": "042f832e",
   "metadata": {},
   "outputs": [
    {
     "data": {
      "text/plain": [
       "'June 9,1949'"
      ]
     },
     "execution_count": 49,
     "metadata": {},
     "output_type": "execute_result"
    }
   ],
   "source": [
    "date(year = 1949, month = \"June\", day = 9)"
   ]
  },
  {
   "cell_type": "code",
   "execution_count": 50,
   "id": "4f3fec57",
   "metadata": {},
   "outputs": [
    {
     "ename": "SyntaxError",
     "evalue": "invalid syntax (3746014080.py, line 2)",
     "output_type": "error",
     "traceback": [
      "\u001b[1;36m  Cell \u001b[1;32mIn[50], line 2\u001b[1;36m\u001b[0m\n\u001b[1;33m    ['Ram', 'Shyam', 'Abhishek',.....'Seema']\u001b[0m\n\u001b[1;37m                                    ^\u001b[0m\n\u001b[1;31mSyntaxError\u001b[0m\u001b[1;31m:\u001b[0m invalid syntax\n"
     ]
    }
   ],
   "source": [
    "extract(1)\n",
    "['Ram', 'Shyam', 'Abhishek',.....'Seema']\n",
    "['male','male','male', 'female',....]\n",
    "[23,21,22,20,23,21,.......,25]"
   ]
  },
  {
   "cell_type": "code",
   "execution_count": 51,
   "id": "a62383cc",
   "metadata": {},
   "outputs": [],
   "source": [
    "header = ['Name', 'Gender', 'Age', 'Faculty', 'Semester', 'Percentage Score']\n",
    "student_1 = ['Ram', 'male',23, 'B.C.A', 'Seventh Semester', 78.2]\n",
    "student_2 = ['Shyam','male',21,'B.C.A', 'Fifth Semester',67.5]\n",
    "student_3 = ['Abhishek','male',22, 'B.Sc.Cs.It', 'Seventh Semester',82.4]\n",
    "student_4 = ['Mahima','female',20, 'B.Sc.Cs.It', 'Fifth Semester',87.3]\n",
    "student_5 = ['Sanjana','female',22, 'B.Sc.Cs.It', 'Seventh Semester',69.8]\n",
    "student_6 = ['Prabhat', 'male',23, 'B.Sc.Cs.It', 'Seventh Semester', 80.2]\n",
    "student_7 = ['Ashmita','female',21,'B.Sc.Cs.It', 'Fifth Semester',81.5]\n",
    "student_8 = ['Shanti','female',22, 'B.Sc.Cs.It', 'Fifth Semester',72.4]\n",
    "student_9 = ['Himal','male',20, 'B.C.A', 'Fifth Semester',78.3]\n",
    "student_10 = ['Rabina','female',22, 'B.I.M', 'Seventh Semester',75.8]\n",
    "student_11 = ['Kamal', 'male',23, 'B.I.M', 'Fifth Semester', 80.2]\n",
    "student_12= ['Bhawana','female',21,'B.I.M', 'Third Semester',81.5]\n",
    "student_13 = ['Sunil','male',22, 'B.I.M', 'Fourth Semester',72.4]\n",
    "student_14= ['Nirisha','female',20, 'B.I.M', 'Fourth Semester',78.3]\n",
    "student_15 = ['Sushmita','female',22, 'B.I.M', 'Third Semester',75.8]\n",
    "student_16 = ['Alisha', 'female',20, 'B.A.L.L.B', 'Second Semester', 70.2]\n",
    "student_17 = ['Dipen','male',23,'B.C.A', 'Fifth Semester',67.5]\n",
    "student_18 = ['Purnima','female',23, 'B.A.L.L.B', 'Seventh Semester',81.4]\n",
    "student_19 = ['Aastha','female',24, 'B.Sc.Cs.It', 'Fifth Semester',83.3]\n",
    "student_20 = ['Pramila','female',24, 'B.Sc.Cs.It', 'Seventh Semester',79.8]\n",
    "student_21 = ['Pawan', 'male',24, 'B.Sc.Cs.It', 'Third Semester', 70.2]\n",
    "student_22 = ['Prakriti','female',22,'B.A.L.L.B', 'Fifth Semester',69.5]\n",
    "student_23 = ['Nabina','female',23, 'B.Sc.Cs.It', 'Second Semester',77.4]\n",
    "student_24 = ['Siddhant','male',23, 'B.C.A', 'Fifth Semester',78.3]\n",
    "student_25 = ['Goma','female',25, 'B.A.L.L.B', 'Seventh Semester',72.8]\n",
    "student_26 = ['Rijan', 'male',23, 'B.I.M', 'Fifth Semester', 81.2]\n",
    "student_27 = ['Rihans','male',21,'B.C.A', 'Third Semester',86.5]\n",
    "student_28 = ['Kabya','female',22, 'B.I.M', 'Second Semester',78.4]\n",
    "student_29 = ['Abhi','male',20, 'B.I.M', 'Fourth Semester',71.3]\n",
    "student_30 = ['Seema','female',25, 'B.I.M', 'Fifth Semester',69.8]\n",
    "\n",
    "student_datasets = [header, student_1, student_2, student_3, student_4, student_5,\n",
    "                    student_6, student_7, student_8, student_9, student_10,\n",
    "                   student_11, student_12, student_13, student_14,student_15,\n",
    "                   student_16, student_17, student_18, student_19, student_20,\n",
    "                    student_21, student_22, student_23, student_24, student_25,\n",
    "                   student_26, student_27, student_28, student_29, student_30]\n",
    "\n"
   ]
  },
  {
   "cell_type": "markdown",
   "id": "0bf867f7",
   "metadata": {},
   "source": [
    "#### Question: Write a function named extract() that can extract any column you want from the student_datasets.\n",
    "<ol>\n",
    "<li>The function should take in the index number of a column as input (name the parameter whatever you want)</li>\n",
    "<li>Inside the function's definition, complete the following:</li>\n",
    "<ol>\n",
    "    <li>Create an empty list</li>\n",
    "    <li>Loop through the student_datasets dataset (excluding the header).</li>\n",
    "    <li>Extract only the value you want by using the parameter (which will be an index number)</li>\n",
    "    <li>Append that value to the empty list</li>\n",
    "    <li>Return the list containing the values of the column</li>\n",
    "</ol>\n",
    "<li>Use the extract() function to extract the values in the Faculty column and store them in a variable named faculties.</li>\n",
    "<li>Use the extract() function to extract the values in the Semester column and store them in a variable named semesters.</li>\n",
    "</ol>"
   ]
  },
  {
   "cell_type": "code",
   "execution_count": 52,
   "id": "f209f957",
   "metadata": {},
   "outputs": [],
   "source": [
    "def extract(index_num):\n",
    "    column_values = []\n",
    "    for std in student_datasets[1:]:\n",
    "        value = std[index_num]\n",
    "        column_values.append(value)\n",
    "    return column_values"
   ]
  },
  {
   "cell_type": "code",
   "execution_count": 53,
   "id": "71fd0858",
   "metadata": {},
   "outputs": [
    {
     "name": "stdout",
     "output_type": "stream",
     "text": [
      "['B.C.A', 'B.C.A', 'B.Sc.Cs.It', 'B.Sc.Cs.It', 'B.Sc.Cs.It', 'B.Sc.Cs.It', 'B.Sc.Cs.It', 'B.Sc.Cs.It', 'B.C.A', 'B.I.M', 'B.I.M', 'B.I.M', 'B.I.M', 'B.I.M', 'B.I.M', 'B.A.L.L.B', 'B.C.A', 'B.A.L.L.B', 'B.Sc.Cs.It', 'B.Sc.Cs.It', 'B.Sc.Cs.It', 'B.A.L.L.B', 'B.Sc.Cs.It', 'B.C.A', 'B.A.L.L.B', 'B.I.M', 'B.C.A', 'B.I.M', 'B.I.M', 'B.I.M']\n"
     ]
    }
   ],
   "source": [
    "faculties = extract(index_num = 3)\n",
    "print(faculties)"
   ]
  },
  {
   "cell_type": "code",
   "execution_count": 54,
   "id": "f682cc1c",
   "metadata": {},
   "outputs": [],
   "source": [
    "semesters = extract(index_num = 4)"
   ]
  },
  {
   "cell_type": "code",
   "execution_count": 55,
   "id": "dd477fae",
   "metadata": {},
   "outputs": [
    {
     "name": "stdout",
     "output_type": "stream",
     "text": [
      "['Seventh Semester', 'Fifth Semester', 'Seventh Semester', 'Fifth Semester', 'Seventh Semester', 'Seventh Semester', 'Fifth Semester', 'Fifth Semester', 'Fifth Semester', 'Seventh Semester', 'Fifth Semester', 'Third Semester', 'Fourth Semester', 'Fourth Semester', 'Third Semester', 'Second Semester', 'Fifth Semester', 'Seventh Semester', 'Fifth Semester', 'Seventh Semester', 'Third Semester', 'Fifth Semester', 'Second Semester', 'Fifth Semester', 'Seventh Semester', 'Fifth Semester', 'Third Semester', 'Second Semester', 'Fourth Semester', 'Fifth Semester']\n"
     ]
    }
   ],
   "source": [
    "print(semesters)"
   ]
  },
  {
   "cell_type": "markdown",
   "id": "09f44d0c",
   "metadata": {},
   "source": [
    "#### Question: Write a function named freq_table() that generates a frequency table for any list.\n",
    "\n",
    "<li>The function should take in a list as input.</li>\n",
    "<li>Inside the function's body, write code that generates a frequency table for that list and stores the table in a dictionary.</li>\n",
    "<li>Finally, return the frequency table as a dictionary.</li>\n",
    "<li>Use the freq_table() function on the faculties list (already defined from the previous exercise) to generate the frequency table for the faculites column and store the frequency table to a variable named faculties_ft.</li>\n",
    "<li>Feel free to experiment with the extract() and freq_table() functions to easily create frequency tables for any column you want.</li>"
   ]
  },
  {
   "cell_type": "code",
   "execution_count": 56,
   "id": "cf490457",
   "metadata": {},
   "outputs": [],
   "source": [
    "def freq_table(item_list):\n",
    "    freq_dict = {}\n",
    "    for item in item_list:\n",
    "        if item not in freq_dict:\n",
    "            freq_dict[item] = 1\n",
    "        else:\n",
    "            freq_dict[item] += 1\n",
    "    return freq_dict"
   ]
  },
  {
   "cell_type": "code",
   "execution_count": 57,
   "id": "2b931ac2",
   "metadata": {},
   "outputs": [
    {
     "name": "stdout",
     "output_type": "stream",
     "text": [
      "{'B.C.A': 6, 'B.Sc.Cs.It': 10, 'B.I.M': 10, 'B.A.L.L.B': 4}\n"
     ]
    }
   ],
   "source": [
    "faculties_ft = freq_table(item_list = faculties)     \n",
    "print(faculties_ft)"
   ]
  },
  {
   "cell_type": "code",
   "execution_count": 58,
   "id": "91e208cc",
   "metadata": {},
   "outputs": [
    {
     "name": "stdout",
     "output_type": "stream",
     "text": [
      "{'Seventh Semester': 8, 'Fifth Semester': 12, 'Third Semester': 4, 'Fourth Semester': 3, 'Second Semester': 3}\n"
     ]
    }
   ],
   "source": [
    "semesters_ft = freq_table(item_list = semesters)\n",
    "print(semesters_ft)"
   ]
  },
  {
   "cell_type": "markdown",
   "id": "5eb18b70",
   "metadata": {},
   "source": [
    "#### Write a function named freq_table() that generates a frequency table for any column in our student_datasets.\n",
    "\n",
    "<ol>\n",
    "<li>The function should take the index number of a column in as an input (name the parameter however you want).</li>\n",
    "<li>Inside the function's body, complete the following:</li>\n",
    "<ol>   \n",
    "    <li>Loop through the student_datasets (don't include the header row) and extract the value you want by using the parameter;     which will be an index number.</li>\n",
    "    <li>Build the frequency table as a dictionary.</li>\n",
    "    <li>The function should return the frequency table as a dictionary.</li>\n",
    "</ol>\n",
    "<li>Use the freq_table() function to generate a frequency table for the Age column . Store the table in a variable named age_ft.</li>\n",
    "</ol>"
   ]
  },
  {
   "cell_type": "code",
   "execution_count": 59,
   "id": "6ae42f1c",
   "metadata": {},
   "outputs": [],
   "source": [
    "def freq_table(index):\n",
    "    freq_dict = {}\n",
    "    for std in student_datasets[1:]:\n",
    "        if std[index] not in freq_dict:\n",
    "            freq_dict[std[index]] = 1\n",
    "        else:\n",
    "            freq_dict[std[index]] += 1\n",
    "    return freq_dict"
   ]
  },
  {
   "cell_type": "code",
   "execution_count": 60,
   "id": "f99031e8",
   "metadata": {},
   "outputs": [
    {
     "name": "stdout",
     "output_type": "stream",
     "text": [
      "{23: 8, 21: 4, 22: 8, 20: 5, 24: 3, 25: 2}\n"
     ]
    }
   ],
   "source": [
    "age_ft = freq_table(index = 2)\n",
    "print(age_ft)"
   ]
  },
  {
   "cell_type": "code",
   "execution_count": 61,
   "id": "03598803",
   "metadata": {},
   "outputs": [
    {
     "name": "stdout",
     "output_type": "stream",
     "text": [
      "{'B.C.A': 6, 'B.Sc.Cs.It': 10, 'B.I.M': 10, 'B.A.L.L.B': 4}\n"
     ]
    }
   ],
   "source": [
    "faculty_ft = freq_table(index = 3)\n",
    "print(faculty_ft)"
   ]
  },
  {
   "cell_type": "code",
   "execution_count": 62,
   "id": "319a3e83",
   "metadata": {},
   "outputs": [
    {
     "name": "stdout",
     "output_type": "stream",
     "text": [
      "{'male': 13, 'female': 17}\n"
     ]
    }
   ],
   "source": [
    "gender_ft = freq_table(index = 1)\n",
    "print(gender_ft)"
   ]
  },
  {
   "cell_type": "code",
   "execution_count": 63,
   "id": "03309869",
   "metadata": {},
   "outputs": [
    {
     "name": "stdout",
     "output_type": "stream",
     "text": [
      "{'Seventh Semester': 8, 'Fifth Semester': 12, 'Third Semester': 4, 'Fourth Semester': 3, 'Second Semester': 3}\n"
     ]
    }
   ],
   "source": [
    "semester_ft = freq_table(index = 4)\n",
    "print(semester_ft)"
   ]
  },
  {
   "cell_type": "markdown",
   "id": "60a3f1a6",
   "metadata": {},
   "source": [
    "#### Reusability & Multiple Parameters\n",
    "\n",
    "<li>Iterating over student_datasets inside the function's definition limits us to using freq_table() only for the student_datasets.</li>\n",
    "<li>If we had another dataset or wanted to save the function to use later for another project, freq_table() would be useless because it iterates only over the student_datasets variable.</li>\n",
    "<li>One of the aspects of functions that make them great is reusability.</li>\n",
    "<li.We generally use functions to automate repetitive tasks, so a function isn't worthwhile if we can't reuse it for the various instances of a certain kind of task.</li>\n",
    "<li>Our freq_table() function is currently reusable only with respect to the columns we may want to generate the frequency tables for.</li>\n",
    "<li>We need to increase its reusability by making it reusable with respect to both columns and datasets.</li>\n",
    "\n",
    "**How can we do that?**"
   ]
  },
  {
   "cell_type": "code",
   "execution_count": 64,
   "id": "3c484150",
   "metadata": {},
   "outputs": [],
   "source": [
    "header = ['Movie Name','Genre', 'Lead Actor', 'Released Year', 'No of ratings', 'Avg Rating']\n",
    "movie1 = ['Titanic','Romantic', 'Leonardo Decaprio', '1997', 1169835, 7.9]\n",
    "movie2 = ['Met Joe Black','Romantic', 'Brad Pit', '1998', 243882, 7.3]\n",
    "movie3 = ['Edge of Tomorrow','Sci-Fiction', 'Tom Cruise', '2014', 678775, 7.9]\n",
    "movie4 = ['Chennai Express', 'Action', 'Sharukh Khan', '2013', 55643, 6.0]\n",
    "movie5 = ['The Tourist', 'Mystery', 'Johnny Deep', '2010', 244817, 6.0]\n",
    "movie6 = ['Romie + Juliet','Romantic', 'Leonardo Decaprio', '1996', 230832, 6.7]\n",
    "movie7 = ['Fight Club','Action', 'Brad Pit', '1999', 2115606 , 8.8]\n",
    "movie3 = ['Mission Impossible - Fallout','Action', 'Tom Cruise', '2018', 333634, 7.7]\n",
    "movie8 = ['Don2', 'Action', 'Sharukh Khan', '2011', 53731, 7.0]\n",
    "movie9 = ['Pirates of the Caribbean: Dead Men Tell No Tales', 'Action', 'Johnny Deep', '2017', 313199, 6.5]\n",
    "movie10 = ['Enemy', 'Mystery', 'Jake Gyllenhaal', '2013', 195742, 6.9]\n",
    "movie11 = ['Chocolat','Romantic', 'Johnny Deep', '2000', 193148, 7.3]\n",
    "movie12 = ['Source Code','Sci-Fiction', 'Jake Gyllenhaal', '2011', 522197, 7.5]\n",
    "movie13 = ['Ra-One','Sci-Fiction', 'Sharukh Khan', '2011', 43296, 4.7]\n",
    "movie14 = ['Inception', 'Action', 'Leonardo Decaprio', '2010', 2342560, 8.8]\n",
    "movie15 = ['Jack Reacher', 'Mystery', 'Tom Cruise', '2012', 343395 , 7.0]\n",
    "movie_datasets = [header, movie1, movie2, movie3, movie4, movie5,\n",
    "                    movie6, movie7, movie8, movie9, movie10,\n",
    "                   movie11, movie12, movie13, movie14,movie15]\n",
    "\n"
   ]
  },
  {
   "cell_type": "code",
   "execution_count": 65,
   "id": "35f0232e",
   "metadata": {},
   "outputs": [],
   "source": [
    "def freq_table(index, dataset):\n",
    "    freq_dict = {}\n",
    "    for std in dataset[1:]:\n",
    "        if std[index] not in freq_dict:\n",
    "            freq_dict[std[index]] = 1\n",
    "        else:\n",
    "            freq_dict[std[index]] += 1\n",
    "    return freq_dict"
   ]
  },
  {
   "cell_type": "code",
   "execution_count": 66,
   "id": "a0b099ce",
   "metadata": {},
   "outputs": [
    {
     "name": "stdout",
     "output_type": "stream",
     "text": [
      "{'Romantic': 4, 'Action': 6, 'Mystery': 3, 'Sci-Fiction': 2}\n"
     ]
    }
   ],
   "source": [
    "genre_table = freq_table(index = 1, dataset = movie_datasets)\n",
    "print(genre_table)"
   ]
  },
  {
   "cell_type": "code",
   "execution_count": 67,
   "id": "9f2f05d9",
   "metadata": {},
   "outputs": [
    {
     "name": "stdout",
     "output_type": "stream",
     "text": [
      "{'male': 13, 'female': 17}\n"
     ]
    }
   ],
   "source": [
    "gender_table = freq_table(index = 1, dataset = student_datasets)\n",
    "print(gender_table)"
   ]
  },
  {
   "cell_type": "code",
   "execution_count": 68,
   "id": "b775e889",
   "metadata": {},
   "outputs": [
    {
     "name": "stdout",
     "output_type": "stream",
     "text": [
      "{'Leonardo Decaprio': 3, 'Brad Pit': 2, 'Tom Cruise': 2, 'Sharukh Khan': 3, 'Johnny Deep': 3, 'Jake Gyllenhaal': 2}\n"
     ]
    }
   ],
   "source": [
    "leadactors_table = freq_table(index = 2, dataset = movie_datasets)\n",
    "print(leadactors_table)"
   ]
  },
  {
   "cell_type": "markdown",
   "id": "f3763d93",
   "metadata": {},
   "source": [
    "#### Question On Keyword and Positional Arguments\n",
    "<ol>\n",
    "<li>Use positional arguments when you generate the table for the Genre column. Assign the table to a variable named genre_ft.</li>\n",
    "<li>Use keyword arguments for the 'Lead Actor' column following the order (index, data_set). Assign the table to a variable named actor_ft.</li>\n",
    "</ol>"
   ]
  },
  {
   "cell_type": "code",
   "execution_count": 69,
   "id": "fd3f5203",
   "metadata": {},
   "outputs": [
    {
     "name": "stdout",
     "output_type": "stream",
     "text": [
      "{'Romantic': 4, 'Action': 6, 'Mystery': 3, 'Sci-Fiction': 2}\n"
     ]
    }
   ],
   "source": [
    "genre_ft = freq_table(1, movie_datasets)\n",
    "print(genre_ft)"
   ]
  },
  {
   "cell_type": "code",
   "execution_count": 70,
   "id": "37c942b8",
   "metadata": {},
   "outputs": [],
   "source": [
    "actor_ft = freq_table(index = 2, dataset = movie_datasets)"
   ]
  },
  {
   "cell_type": "code",
   "execution_count": 71,
   "id": "1f9ee686",
   "metadata": {},
   "outputs": [
    {
     "name": "stdout",
     "output_type": "stream",
     "text": [
      "{'Leonardo Decaprio': 3, 'Brad Pit': 2, 'Tom Cruise': 2, 'Sharukh Khan': 3, 'Johnny Deep': 3, 'Jake Gyllenhaal': 2}\n"
     ]
    }
   ],
   "source": [
    "print(actor_ft)"
   ]
  },
  {
   "cell_type": "markdown",
   "id": "13a42a9d",
   "metadata": {},
   "source": [
    "#### Combining Functions\n",
    "\n",
    "<li>When we write a function, it's common to use other functions inside the body of the function we're creating.</li>\n",
    "<li>Let's say we want to write a function named mean(), that takes in a list of numbers and returns the mean of that list.</li>\n",
    "<li>To get the mean of a list, we need to compute its sum and then divide the result by the length of that list.</li>\n",
    "<li>Let's start by writing two functions, one for computing the sum of a list and the other for computing the length.</li>"
   ]
  },
  {
   "cell_type": "code",
   "execution_count": 72,
   "id": "e7fe2f2b",
   "metadata": {},
   "outputs": [],
   "source": [
    "def sum_list(input_list):\n",
    "    sum_counter = 0\n",
    "    for item in input_list:\n",
    "        sum_counter += item\n",
    "    return sum_counter"
   ]
  },
  {
   "cell_type": "code",
   "execution_count": 73,
   "id": "6ac5b603",
   "metadata": {},
   "outputs": [],
   "source": [
    "def len_list(input_list):\n",
    "    len_counter = 0\n",
    "    for item in input_list:\n",
    "        len_counter += 1\n",
    "    return len_counter"
   ]
  },
  {
   "cell_type": "code",
   "execution_count": 74,
   "id": "5c822a2f",
   "metadata": {},
   "outputs": [],
   "source": [
    "def mean_list(input_list):\n",
    "    sum_counter = sum_list(input_list)\n",
    "    len_counter = len_list(input_list)\n",
    "    avg_list = sum_counter/len_counter\n",
    "    return avg_list"
   ]
  },
  {
   "cell_type": "code",
   "execution_count": 75,
   "id": "10dfdd69",
   "metadata": {},
   "outputs": [],
   "source": [
    "input_list = [1,5,3,6,31,65,30,63,54,2,4,87,23]\n",
    "avg_list = mean_list(input_list)"
   ]
  },
  {
   "cell_type": "code",
   "execution_count": 76,
   "id": "2e10e8fc",
   "metadata": {},
   "outputs": [
    {
     "name": "stdout",
     "output_type": "stream",
     "text": [
      "28.76923076923077\n"
     ]
    }
   ],
   "source": [
    "print(avg_list)"
   ]
  },
  {
   "cell_type": "code",
   "execution_count": 77,
   "id": "264e8bc3",
   "metadata": {},
   "outputs": [],
   "source": [
    "header = ['Subject', 'FM', 'PM', 'OM']\n",
    "score1 = ['English', '75', '32', '63']\n",
    "score2 = ['Nepali', '100', '40', '74']\n",
    "score3 = ['Social', '100', '40', '76']\n",
    "score4 = ['Science', '75', '32', '68']\n",
    "score5 = ['C.Math', '100', '40', '93']\n",
    "score6 = ['Opt.Math', '100', '40', '91']\n",
    "score7 = ['E.H.P', '75', '32', '61']\n",
    "score8 = ['Account', '75', '32', '58']\n",
    "score9 = ['Economic', '75', '32', '57']\n",
    "score10 = ['Computer', '75', '32', '71']\n",
    "\n",
    "score_dataset = [header, score1, score2, score3, score4, score5, \n",
    "                score6, score7, score8, score9, score10]"
   ]
  },
  {
   "cell_type": "markdown",
   "id": "1abbdf40",
   "metadata": {},
   "source": [
    "#### From the given dataset write a function that calculates the percentage of given student.\n",
    "\n",
    "<li>Use one function to calculate the full marks of the student.</li>\n",
    "<li>Another function to calculate the obtained marks of the student.</li>\n",
    "<li>And create a third function that would calculate the percentage of the given student.</li>\n",
    "<li>Don't forget to use function inside a function we just read above.</li>"
   ]
  },
  {
   "cell_type": "code",
   "execution_count": 78,
   "id": "54f3528b",
   "metadata": {},
   "outputs": [
    {
     "name": "stdout",
     "output_type": "stream",
     "text": [
      "75\n",
      "100\n",
      "100\n",
      "75\n",
      "100\n",
      "100\n",
      "75\n",
      "75\n",
      "75\n",
      "75\n"
     ]
    }
   ],
   "source": [
    "for score in score_dataset[1:]:\n",
    "    print(score[1])"
   ]
  },
  {
   "cell_type": "code",
   "execution_count": 79,
   "id": "0b778c67",
   "metadata": {},
   "outputs": [],
   "source": [
    "def get_fullmarks(dataset):\n",
    "    full_marks = 0\n",
    "    for score in dataset[1:]:\n",
    "        full_marks += int(score[1])\n",
    "    return full_marks"
   ]
  },
  {
   "cell_type": "code",
   "execution_count": 80,
   "id": "ad8b051d",
   "metadata": {},
   "outputs": [],
   "source": [
    "def get_obtainedmarks(dataset):\n",
    "    ob_marks = 0\n",
    "    for score in dataset[1:]:\n",
    "        ob_marks += int(score[3])\n",
    "    return ob_marks"
   ]
  },
  {
   "cell_type": "code",
   "execution_count": 81,
   "id": "41247ddb",
   "metadata": {},
   "outputs": [],
   "source": [
    "def calc_percentage(dataset):\n",
    "    full_marks = get_fullmarks(dataset)\n",
    "    ob_marks = get_obtainedmarks(dataset)\n",
    "    percent = (ob_marks/full_marks)*100\n",
    "    return percent"
   ]
  },
  {
   "cell_type": "code",
   "execution_count": 82,
   "id": "5d8f1796",
   "metadata": {},
   "outputs": [
    {
     "name": "stdout",
     "output_type": "stream",
     "text": [
      "83.76470588235294\n"
     ]
    }
   ],
   "source": [
    "student_percentage = calc_percentage(score_dataset)\n",
    "print(student_percentage)"
   ]
  },
  {
   "cell_type": "code",
   "execution_count": 88,
   "id": "2f858c89",
   "metadata": {},
   "outputs": [],
   "source": [
    "def get_marks(dataset, index):\n",
    "    score = 0\n",
    "    for item in dataset[1:]:\n",
    "        score += int(item[index])\n",
    "    return score"
   ]
  },
  {
   "cell_type": "code",
   "execution_count": 89,
   "id": "ab632ac3",
   "metadata": {},
   "outputs": [],
   "source": [
    "def calc_percentage(dataset, fm_index = None, om_index = None):\n",
    "    full_marks = get_marks(dataset = score_dataset, index = fm_index)\n",
    "    ob_marks = get_marks(dataset = score_dataset, index = om_index)\n",
    "    percent = (ob_marks/full_marks)*100\n",
    "    return percent"
   ]
  },
  {
   "cell_type": "code",
   "execution_count": 90,
   "id": "7db43f01",
   "metadata": {},
   "outputs": [
    {
     "name": "stdout",
     "output_type": "stream",
     "text": [
      "83.76470588235294\n"
     ]
    }
   ],
   "source": [
    "percentage = calc_percentage(score_dataset, fm_index = 1, om_index = 3)\n",
    "print(percentage)"
   ]
  },
  {
   "cell_type": "markdown",
   "id": "b77f4ebe",
   "metadata": {},
   "source": [
    "#### Pallindrome check\n",
    "\n",
    "<li>A palindrome is a word, phrase, or sequence that is the same spelled forward as it is backwards.</li>\n",
    "<li>Examples are:</li>\n",
    "<ol>\n",
    "<li>radar</li>\n",
    "<li>was it a car or a cat i saw</li>\n",
    "</ol>"
   ]
  },
  {
   "cell_type": "code",
   "execution_count": 91,
   "id": "0ec3998a",
   "metadata": {},
   "outputs": [
    {
     "name": "stdout",
     "output_type": "stream",
     "text": [
      "wasitacaroracatisawt\n"
     ]
    }
   ],
   "source": [
    "b = 'was it a car or a cat i sawt'\n",
    "b = b.replace(\" \", \"\")\n",
    "print(b)\n"
   ]
  },
  {
   "cell_type": "code",
   "execution_count": 92,
   "id": "0a523807",
   "metadata": {},
   "outputs": [],
   "source": [
    "def check_pallindrome(original_string):\n",
    "    original_string = original_string.replace(\" \", \"\")\n",
    "    reverse_string = ''.join(reversed(b))\n",
    "    if original_string == reverse_string:\n",
    "        print(\"Pallindrome\")\n",
    "    else:\n",
    "        print(\"NOt a pallindrome\")"
   ]
  },
  {
   "cell_type": "code",
   "execution_count": 93,
   "id": "a377766f",
   "metadata": {},
   "outputs": [
    {
     "name": "stdout",
     "output_type": "stream",
     "text": [
      "NOt a pallindrome\n"
     ]
    }
   ],
   "source": [
    "check_pallindrome(b)"
   ]
  },
  {
   "cell_type": "code",
   "execution_count": 94,
   "id": "184f6e14",
   "metadata": {},
   "outputs": [],
   "source": [
    "def check_pallindrome(original_string):\n",
    "    reverse_string = \"\"\n",
    "    original_string = original_string.replace(\" \", \"\")\n",
    "    for i in range(len(original_string)-1 , -1, -1):\n",
    "        reverse_string += original_string[i]\n",
    "    if reverse_string == original_string:\n",
    "        print(\"Pallindrome\")\n",
    "    else:\n",
    "        print(\"Not a pallindrome\")"
   ]
  },
  {
   "cell_type": "code",
   "execution_count": 99,
   "id": "a9a80517",
   "metadata": {},
   "outputs": [],
   "source": [
    "a = 'radar'\n",
    "b = 'was it a car or a cat i saw'"
   ]
  },
  {
   "cell_type": "code",
   "execution_count": 100,
   "id": "f7028c57",
   "metadata": {},
   "outputs": [
    {
     "name": "stdout",
     "output_type": "stream",
     "text": [
      "Pallindrome\n"
     ]
    }
   ],
   "source": [
    "check_pallindrome(a)"
   ]
  },
  {
   "cell_type": "code",
   "execution_count": 101,
   "id": "ce295ec0",
   "metadata": {},
   "outputs": [
    {
     "name": "stdout",
     "output_type": "stream",
     "text": [
      "Pallindrome\n"
     ]
    }
   ],
   "source": [
    "check_pallindrome(b)"
   ]
  },
  {
   "cell_type": "code",
   "execution_count": null,
   "id": "c4a8bf38",
   "metadata": {},
   "outputs": [],
   "source": []
  }
 ],
 "metadata": {
  "kernelspec": {
   "display_name": "Python 3 (ipykernel)",
   "language": "python",
   "name": "python3"
  },
  "language_info": {
   "codemirror_mode": {
    "name": "ipython",
    "version": 3
   },
   "file_extension": ".py",
   "mimetype": "text/x-python",
   "name": "python",
   "nbconvert_exporter": "python",
   "pygments_lexer": "ipython3",
   "version": "3.9.0"
  }
 },
 "nbformat": 4,
 "nbformat_minor": 5
}
