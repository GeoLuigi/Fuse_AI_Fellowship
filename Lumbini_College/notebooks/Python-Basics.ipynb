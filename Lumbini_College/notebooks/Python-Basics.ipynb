{
 "cells": [
  {
   "cell_type": "markdown",
   "id": "994ac43c",
   "metadata": {},
   "source": [
    "### Writing my first python program"
   ]
  },
  {
   "cell_type": "code",
   "execution_count": 1,
   "id": "4adfbdd8",
   "metadata": {},
   "outputs": [
    {
     "name": "stdout",
     "output_type": "stream",
     "text": [
      "Hello World\n"
     ]
    }
   ],
   "source": [
    "print(\"Hello World\")"
   ]
  },
  {
   "cell_type": "code",
   "execution_count": 2,
   "id": "e0282bb8",
   "metadata": {},
   "outputs": [
    {
     "name": "stdout",
     "output_type": "stream",
     "text": [
      "5\n"
     ]
    }
   ],
   "source": [
    "print(5)"
   ]
  },
  {
   "cell_type": "code",
   "execution_count": 3,
   "id": "6d9ff786",
   "metadata": {},
   "outputs": [
    {
     "name": "stdout",
     "output_type": "stream",
     "text": [
      "8.9\n"
     ]
    }
   ],
   "source": [
    "print(8.9)"
   ]
  },
  {
   "cell_type": "markdown",
   "id": "6962c5ab",
   "metadata": {},
   "source": [
    "### Arithmetic Operations In Python"
   ]
  },
  {
   "cell_type": "markdown",
   "id": "ddb4772d",
   "metadata": {},
   "source": [
    "##### Ram has 5 rupees with him. He asked for 10 rupees with his mother for his lunch. How much rupees does he will have in total if his mother gives him what he ask for?\n"
   ]
  },
  {
   "cell_type": "code",
   "execution_count": 4,
   "id": "1df1f219",
   "metadata": {},
   "outputs": [
    {
     "name": "stdout",
     "output_type": "stream",
     "text": [
      "15\n"
     ]
    }
   ],
   "source": [
    "print(5 + 10)"
   ]
  },
  {
   "cell_type": "code",
   "execution_count": 11,
   "id": "baa02316",
   "metadata": {},
   "outputs": [
    {
     "name": "stdout",
     "output_type": "stream",
     "text": [
      "16.04\n"
     ]
    }
   ],
   "source": [
    "print(12.6 + 3.44)"
   ]
  },
  {
   "cell_type": "markdown",
   "id": "0e089acd",
   "metadata": {},
   "source": [
    "### Write a program to print the difference of any two numbers"
   ]
  },
  {
   "cell_type": "code",
   "execution_count": 5,
   "id": "e5fddc7c",
   "metadata": {},
   "outputs": [
    {
     "name": "stdout",
     "output_type": "stream",
     "text": [
      "10\n"
     ]
    }
   ],
   "source": [
    "print(15 - 5)"
   ]
  },
  {
   "cell_type": "code",
   "execution_count": 12,
   "id": "4a8f2369",
   "metadata": {},
   "outputs": [
    {
     "name": "stdout",
     "output_type": "stream",
     "text": [
      "58.800000000000004\n"
     ]
    }
   ],
   "source": [
    "print(67.7 - 8.9)"
   ]
  },
  {
   "cell_type": "markdown",
   "id": "04a340ba",
   "metadata": {},
   "source": [
    "#####  If the cost of an apple is Rs 34, what will be the cost on buying 1 kg apples if 1 kg apples contain 6 apples?"
   ]
  },
  {
   "cell_type": "code",
   "execution_count": 6,
   "id": "8d113916",
   "metadata": {},
   "outputs": [
    {
     "name": "stdout",
     "output_type": "stream",
     "text": [
      "204\n"
     ]
    }
   ],
   "source": [
    "print(34*6)"
   ]
  },
  {
   "cell_type": "markdown",
   "id": "f08a00de",
   "metadata": {},
   "source": [
    "### Write a program to print the square and cube of any number"
   ]
  },
  {
   "cell_type": "code",
   "execution_count": 7,
   "id": "7c164bc2",
   "metadata": {},
   "outputs": [
    {
     "name": "stdout",
     "output_type": "stream",
     "text": [
      "25\n"
     ]
    }
   ],
   "source": [
    "print(5**2)"
   ]
  },
  {
   "cell_type": "code",
   "execution_count": 8,
   "id": "87a974a2",
   "metadata": {},
   "outputs": [
    {
     "name": "stdout",
     "output_type": "stream",
     "text": [
      "216\n"
     ]
    }
   ],
   "source": [
    "print(6**3)"
   ]
  },
  {
   "cell_type": "code",
   "execution_count": 10,
   "id": "99e0ee4e",
   "metadata": {},
   "outputs": [
    {
     "name": "stdout",
     "output_type": "stream",
     "text": [
      "6561\n"
     ]
    }
   ],
   "source": [
    "print(3**8)"
   ]
  },
  {
   "cell_type": "markdown",
   "id": "f1177af7",
   "metadata": {},
   "source": [
    "### How to use code comments in Python?"
   ]
  },
  {
   "cell_type": "code",
   "execution_count": 15,
   "id": "0c75848d",
   "metadata": {},
   "outputs": [
    {
     "name": "stdout",
     "output_type": "stream",
     "text": [
      "8.0\n"
     ]
    }
   ],
   "source": [
    "# Floor Division Operation\n",
    "print(56/7)"
   ]
  },
  {
   "cell_type": "code",
   "execution_count": 16,
   "id": "3ea9d2af",
   "metadata": {},
   "outputs": [
    {
     "name": "stdout",
     "output_type": "stream",
     "text": [
      "8\n"
     ]
    }
   ],
   "source": [
    "# Integer Division Operation\n",
    "print(56//7)"
   ]
  },
  {
   "cell_type": "markdown",
   "id": "06bbb37c",
   "metadata": {},
   "source": [
    "### Simplification Rule Applied in Python"
   ]
  },
  {
   "cell_type": "code",
   "execution_count": 19,
   "id": "146f8acc",
   "metadata": {},
   "outputs": [
    {
     "data": {
      "text/plain": [
       "29.0"
      ]
     },
     "execution_count": 19,
     "metadata": {},
     "output_type": "execute_result"
    }
   ],
   "source": [
    "7+8*9/3-1+(2-3)           "
   ]
  },
  {
   "cell_type": "code",
   "execution_count": null,
   "id": "a46a1894",
   "metadata": {},
   "outputs": [],
   "source": []
  },
  {
   "cell_type": "markdown",
   "id": "8211f6b3",
   "metadata": {},
   "source": [
    "##### Write a program with three lines of code that performs the following arithmetical operations and displays the results (use the print() function to display the results):\n",
    "<li>16×10</li>\n",
    "<li>48÷5</li>\n",
    "<li>5^3</li>\n",
    " (don't type 5^3 because ^ is not the symbol for exponentiation)"
   ]
  },
  {
   "cell_type": "code",
   "execution_count": 20,
   "id": "955c92cf",
   "metadata": {},
   "outputs": [
    {
     "name": "stdout",
     "output_type": "stream",
     "text": [
      "160\n"
     ]
    }
   ],
   "source": [
    "print(16*10)"
   ]
  },
  {
   "cell_type": "code",
   "execution_count": 21,
   "id": "25a20b15",
   "metadata": {},
   "outputs": [
    {
     "name": "stdout",
     "output_type": "stream",
     "text": [
      "9.6\n"
     ]
    }
   ],
   "source": [
    "print(48/5)"
   ]
  },
  {
   "cell_type": "code",
   "execution_count": 22,
   "id": "b01ccf17",
   "metadata": {},
   "outputs": [
    {
     "name": "stdout",
     "output_type": "stream",
     "text": [
      "125\n"
     ]
    }
   ],
   "source": [
    "print(5**3)"
   ]
  },
  {
   "cell_type": "markdown",
   "id": "b49d5a9d",
   "metadata": {},
   "source": [
    "<h3> What is a variable? </h3>"
   ]
  },
  {
   "cell_type": "markdown",
   "id": "9a78da20",
   "metadata": {},
   "source": [
    "**<li>We can store values in the computer memory. We call each storage location in the computer'smemory a variable</li>**\n",
    "\n",
    "**<li>A variable is a symbolic name for (or reference to) information. The variable's name represents what information the variable contains.</li>**\n",
    "\n",
    "**<li>Variables are used to store information to be referenced and manipulated in a computer program.</li>**\n"
   ]
  },
  {
   "cell_type": "code",
   "execution_count": 24,
   "id": "f4d8b0ca",
   "metadata": {},
   "outputs": [
    {
     "name": "stdout",
     "output_type": "stream",
     "text": [
      "result\n"
     ]
    }
   ],
   "source": [
    "a = \"result\"\n",
    "print(a)"
   ]
  },
  {
   "cell_type": "code",
   "execution_count": null,
   "id": "3ebafa88",
   "metadata": {},
   "outputs": [],
   "source": [
    "result = 3.98"
   ]
  },
  {
   "cell_type": "markdown",
   "id": "b0282a4a",
   "metadata": {},
   "source": [
    "![](images/variables.png)"
   ]
  },
  {
   "cell_type": "code",
   "execution_count": 25,
   "id": "e2ce6179",
   "metadata": {},
   "outputs": [],
   "source": [
    "name = \"Prabhat\"\n",
    "age = 24\n",
    "degree = \"Bachelor\"\n",
    "course = \"B.Sc.Cs.IT\"\n",
    "percent = 79.1"
   ]
  },
  {
   "cell_type": "markdown",
   "id": "7640eb75",
   "metadata": {},
   "source": [
    "**<li>Here, name is the variable given to store my name.</li>**\n",
    "**<li>age is the name of variable given to store my age.</li>**\n",
    "**<li>degree is the name of a variable given to store information about my education background.</li>**\n",
    "**<li>course is the name of a variable given to store the information about what course I was enrolled in my bachelors.</li>**\n",
    "**<li>percent is the name of a variable given to store how much percentage did I achieve in my bachelor studies.</li>**"
   ]
  },
  {
   "cell_type": "markdown",
   "id": "5f840447",
   "metadata": {},
   "source": [
    "### Think of a scenario where variables can be referenced and manipulated in a computer program."
   ]
  },
  {
   "cell_type": "code",
   "execution_count": 26,
   "id": "7e6c4727",
   "metadata": {},
   "outputs": [],
   "source": [
    "a = 5\n",
    "b = 9\n",
    "sum_ab = a + b\n",
    "diff_ab = a - b\n",
    "avg_sum_diff_ab = (sum_ab + diff_ab)/2"
   ]
  },
  {
   "cell_type": "code",
   "execution_count": 27,
   "id": "3b0c48d8",
   "metadata": {},
   "outputs": [
    {
     "name": "stdout",
     "output_type": "stream",
     "text": [
      "14\n",
      "-4\n",
      "5.0\n"
     ]
    }
   ],
   "source": [
    "print(sum_ab)\n",
    "print(diff_ab)\n",
    "print(avg_sum_diff_ab)"
   ]
  },
  {
   "cell_type": "markdown",
   "id": "e3ce6c4f",
   "metadata": {},
   "source": [
    "### Rules for Python variables:\n",
    "\n",
    "**<li>A variable name must start with a letter or the underscore character.</li>**\n",
    "**<li>A variable name cannot start with a number.</li>**\n",
    "**<li>A variable name can only contain alpha-numeric characters and underscores (A-z, 0-9, and _ )</li>**\n",
    "**<li>Variable names are case-sensitive (age, Age and AGE are three different variables)</li>**\n"
   ]
  },
  {
   "cell_type": "markdown",
   "id": "6fff69ed",
   "metadata": {},
   "source": [
    "### Question\n",
    "\n",
    "<li>Store the value 6.99 in a variable named minecraft_cost.</li>\n",
    "\n",
    "<li>Store the result of '1.99*1' to a variable named fruit_ninja_cost.</li>\n",
    "\n",
    "**<li>Using the print() function, display the following:</li>**\n",
    "\n",
    "<ul>\n",
    "    \n",
    "<li>The value stored in the minecraft_cost variable.</li>\n",
    "    \n",
    "<li>The result of adding 1.99 to the variable fruit_ninja_cost.</li>\n",
    "    \n",
    "<li>The result of adding fruit_ninja_cost to minecraft_cost.</li>\n",
    "    \n",
    "</ul>"
   ]
  },
  {
   "cell_type": "code",
   "execution_count": 28,
   "id": "fa1b8735",
   "metadata": {},
   "outputs": [],
   "source": [
    "minecraft_cost = 6.99\n",
    "fruit_ninja_cost = 1.99*1"
   ]
  },
  {
   "cell_type": "code",
   "execution_count": 29,
   "id": "b0698428",
   "metadata": {},
   "outputs": [
    {
     "name": "stdout",
     "output_type": "stream",
     "text": [
      "6.99\n",
      "3.98\n",
      "8.98\n"
     ]
    }
   ],
   "source": [
    "print(minecraft_cost)\n",
    "print(1.99 + fruit_ninja_cost)\n",
    "print(fruit_ninja_cost + minecraft_cost)"
   ]
  },
  {
   "cell_type": "markdown",
   "id": "de20da17",
   "metadata": {},
   "source": [
    "### Valid variable names"
   ]
  },
  {
   "cell_type": "code",
   "execution_count": 30,
   "id": "c77f6549",
   "metadata": {},
   "outputs": [],
   "source": [
    "_apple_cost = 300\n",
    "MyName = \"Saurav\"\n",
    "age = 35\n",
    "name2 = \"riya\""
   ]
  },
  {
   "cell_type": "markdown",
   "id": "1058d1ab",
   "metadata": {},
   "source": [
    "### Invalid variable names"
   ]
  },
  {
   "cell_type": "code",
   "execution_count": null,
   "id": "8fb6f523",
   "metadata": {},
   "outputs": [],
   "source": [
    "2pm = 50\n",
    "my-name = \"prabhat\"\n",
    "pricein$ = 130\n",
    "my age = 67"
   ]
  },
  {
   "cell_type": "code",
   "execution_count": null,
   "id": "8714fceb",
   "metadata": {},
   "outputs": [],
   "source": []
  },
  {
   "cell_type": "markdown",
   "id": "adc1871c",
   "metadata": {},
   "source": [
    "### Correct the given code"
   ]
  },
  {
   "cell_type": "code",
   "execution_count": 31,
   "id": "ed19699b",
   "metadata": {},
   "outputs": [
    {
     "ename": "SyntaxError",
     "evalue": "invalid syntax (2609713014.py, line 2)",
     "output_type": "error",
     "traceback": [
      "\u001b[1;36m  Cell \u001b[1;32mIn[31], line 2\u001b[1;36m\u001b[0m\n\u001b[1;33m    cs score = 100\u001b[0m\n\u001b[1;37m       ^\u001b[0m\n\u001b[1;31mSyntaxError\u001b[0m\u001b[1;31m:\u001b[0m invalid syntax\n"
     ]
    }
   ],
   "source": [
    "maths-score = 90\n",
    "cs score = 100"
   ]
  },
  {
   "cell_type": "code",
   "execution_count": 32,
   "id": "36f0390f",
   "metadata": {},
   "outputs": [],
   "source": [
    "maths_score = 90\n",
    "cs_score = 100"
   ]
  },
  {
   "cell_type": "markdown",
   "id": "bd9d08a2",
   "metadata": {},
   "source": [
    "### Updating Variables"
   ]
  },
  {
   "cell_type": "markdown",
   "id": "606cf67c",
   "metadata": {},
   "source": [
    "**<li>The price of apple was 300 yesterday.Store the price value in 'apple_price' variable.</li>**"
   ]
  },
  {
   "cell_type": "code",
   "execution_count": 1,
   "id": "0668e205",
   "metadata": {},
   "outputs": [],
   "source": [
    "apple_price = 300"
   ]
  },
  {
   "cell_type": "code",
   "execution_count": 2,
   "id": "891b2aa5",
   "metadata": {},
   "outputs": [
    {
     "name": "stdout",
     "output_type": "stream",
     "text": [
      "300\n"
     ]
    }
   ],
   "source": [
    "print(apple_price)"
   ]
  },
  {
   "cell_type": "markdown",
   "id": "82eededa",
   "metadata": {},
   "source": [
    "**<li>If the price of an apple increased by 20 rupees today, update the price of apple in a variable.</li>**"
   ]
  },
  {
   "cell_type": "code",
   "execution_count": 3,
   "id": "4a117986",
   "metadata": {},
   "outputs": [],
   "source": [
    "apple_price = apple_price + 20"
   ]
  },
  {
   "cell_type": "code",
   "execution_count": 4,
   "id": "1f52667f",
   "metadata": {},
   "outputs": [
    {
     "name": "stdout",
     "output_type": "stream",
     "text": [
      "320\n"
     ]
    }
   ],
   "source": [
    "print(apple_price)"
   ]
  },
  {
   "cell_type": "markdown",
   "id": "ce9e0b47",
   "metadata": {},
   "source": [
    "### Syntax Shortcuts"
   ]
  },
  {
   "cell_type": "code",
   "execution_count": 10,
   "id": "7a3bc558",
   "metadata": {},
   "outputs": [],
   "source": [
    "a = 5"
   ]
  },
  {
   "cell_type": "code",
   "execution_count": 11,
   "id": "29438934",
   "metadata": {},
   "outputs": [],
   "source": [
    "a += 5"
   ]
  },
  {
   "cell_type": "code",
   "execution_count": 12,
   "id": "f1039454",
   "metadata": {},
   "outputs": [
    {
     "name": "stdout",
     "output_type": "stream",
     "text": [
      "10\n"
     ]
    }
   ],
   "source": [
    "print(a)"
   ]
  },
  {
   "cell_type": "code",
   "execution_count": 13,
   "id": "2b9117d8",
   "metadata": {},
   "outputs": [
    {
     "name": "stdout",
     "output_type": "stream",
     "text": [
      "7\n"
     ]
    }
   ],
   "source": [
    "a-= 3\n",
    "print(a)"
   ]
  },
  {
   "cell_type": "code",
   "execution_count": 14,
   "id": "ca59fcef",
   "metadata": {},
   "outputs": [
    {
     "name": "stdout",
     "output_type": "stream",
     "text": [
      "28\n"
     ]
    }
   ],
   "source": [
    "a*= 4\n",
    "print(a)"
   ]
  },
  {
   "cell_type": "code",
   "execution_count": 15,
   "id": "e6b8fa3b",
   "metadata": {},
   "outputs": [
    {
     "name": "stdout",
     "output_type": "stream",
     "text": [
      "7.0\n"
     ]
    }
   ],
   "source": [
    "a/=4\n",
    "print(a)"
   ]
  },
  {
   "cell_type": "code",
   "execution_count": null,
   "id": "b395c75a",
   "metadata": {},
   "outputs": [],
   "source": []
  },
  {
   "cell_type": "markdown",
   "id": "b343582d",
   "metadata": {},
   "source": [
    "### Data Types"
   ]
  },
  {
   "cell_type": "markdown",
   "id": "09f8e54c",
   "metadata": {},
   "source": [
    "<li>The data type is an attribute that tells what kind of data that value can have.</li>\n",
    "<li>We can also define data type as an attribute of a piece of data that tells a device how the end-user might interact with the data</li>\n",
    "<li>Some of the common datatypes that we use in python are <b>Strings</b>, <b>Integers</b>, <b>Floats</b>, <b>Lists</b>, <b>Dictionaries</b> and <b>Tuples.</b></li>"
   ]
  },
  {
   "cell_type": "markdown",
   "id": "8bbbcf2c",
   "metadata": {},
   "source": [
    "#### Integers & Floats"
   ]
  },
  {
   "cell_type": "code",
   "execution_count": 16,
   "id": "5f270dd6",
   "metadata": {},
   "outputs": [
    {
     "name": "stdout",
     "output_type": "stream",
     "text": [
      "5\n",
      "<class 'int'>\n"
     ]
    }
   ],
   "source": [
    "a = 5\n",
    "print(a)\n",
    "print(type(a))"
   ]
  },
  {
   "cell_type": "code",
   "execution_count": 17,
   "id": "57775f78",
   "metadata": {},
   "outputs": [
    {
     "name": "stdout",
     "output_type": "stream",
     "text": [
      "5.7\n",
      "<class 'float'>\n"
     ]
    }
   ],
   "source": [
    "f = 5.7\n",
    "print(f)\n",
    "print(type(f))"
   ]
  },
  {
   "cell_type": "code",
   "execution_count": 18,
   "id": "60a1ccc3",
   "metadata": {},
   "outputs": [
    {
     "name": "stdout",
     "output_type": "stream",
     "text": [
      "[1, 2, 3, 4, 5]\n",
      "<class 'list'>\n"
     ]
    }
   ],
   "source": [
    "list1 = [1,2,3,4,5]\n",
    "print(list1)\n",
    "print(type(list1))"
   ]
  },
  {
   "cell_type": "code",
   "execution_count": 19,
   "id": "32f29fac",
   "metadata": {},
   "outputs": [
    {
     "name": "stdout",
     "output_type": "stream",
     "text": [
      "{'Name': 'Prabhat', 'Address': 'Manigram', 'Education': 'B.Sc.Cs.It'}\n",
      "<class 'dict'>\n"
     ]
    }
   ],
   "source": [
    "dict1 = {\"Name\": \"Prabhat\", \"Address\": \"Manigram\", \"Education\": \"B.Sc.Cs.It\"}\n",
    "print(dict1)\n",
    "print(type(dict1))"
   ]
  },
  {
   "cell_type": "code",
   "execution_count": 20,
   "id": "5c03506f",
   "metadata": {},
   "outputs": [
    {
     "name": "stdout",
     "output_type": "stream",
     "text": [
      "(1, 2, 3, 4)\n",
      "<class 'tuple'>\n"
     ]
    }
   ],
   "source": [
    "tuple1 = (1,2,3,4)\n",
    "print(tuple1)\n",
    "print(type(tuple1))"
   ]
  },
  {
   "cell_type": "code",
   "execution_count": 21,
   "id": "5525adcd",
   "metadata": {},
   "outputs": [
    {
     "name": "stdout",
     "output_type": "stream",
     "text": [
      "{1, 2, 3, 4}\n",
      "<class 'set'>\n"
     ]
    }
   ],
   "source": [
    "set1 = {1,2,3,2,4,2,3}\n",
    "print(set1)\n",
    "print(type(set1))"
   ]
  },
  {
   "cell_type": "markdown",
   "id": "adef1fc7",
   "metadata": {},
   "source": [
    "#### Verify the datatype of a variable using type() method"
   ]
  },
  {
   "cell_type": "code",
   "execution_count": 22,
   "id": "81e7e3de",
   "metadata": {},
   "outputs": [
    {
     "data": {
      "text/plain": [
       "int"
      ]
     },
     "execution_count": 22,
     "metadata": {},
     "output_type": "execute_result"
    }
   ],
   "source": [
    "a = 5\n",
    "type(a)"
   ]
  },
  {
   "cell_type": "code",
   "execution_count": null,
   "id": "88ec2a7e",
   "metadata": {},
   "outputs": [],
   "source": []
  },
  {
   "cell_type": "markdown",
   "id": "30cb4cd0",
   "metadata": {},
   "source": [
    "#### Question"
   ]
  },
  {
   "cell_type": "markdown",
   "id": "110459f7",
   "metadata": {},
   "source": [
    "<li>Initiate the variable <b>quantity</b> by assigning the integer value of 0.\n",
    "Update the value of <b>quantity</b> by adding the float 1.5 to its current value.\n",
    "You can use the += operator.</li>\n",
    "\n",
    "<li>Assign the float 6.99 to a variable named <b>cost.</b>\n",
    "Update the value of <b>cost</b> by multiplying its current value by the integer 3.\n",
    "You can use the *= operator.</li>\n",
    "\n",
    "<li>Display <b>quantity</b> and <b>cost</b> using print()</li>"
   ]
  },
  {
   "cell_type": "code",
   "execution_count": 26,
   "id": "08c3acb6",
   "metadata": {},
   "outputs": [
    {
     "name": "stdout",
     "output_type": "stream",
     "text": [
      "<class 'int'>\n"
     ]
    }
   ],
   "source": [
    "quantity = 0\n",
    "print(type(quantity))"
   ]
  },
  {
   "cell_type": "code",
   "execution_count": 27,
   "id": "a2511fb4",
   "metadata": {},
   "outputs": [],
   "source": [
    "quantity += 1.5"
   ]
  },
  {
   "cell_type": "code",
   "execution_count": 28,
   "id": "a48d5d3b",
   "metadata": {},
   "outputs": [
    {
     "name": "stdout",
     "output_type": "stream",
     "text": [
      "<class 'float'>\n"
     ]
    }
   ],
   "source": [
    "cost = 6.99\n",
    "print(type(cost))"
   ]
  },
  {
   "cell_type": "code",
   "execution_count": 29,
   "id": "04c20bb9",
   "metadata": {},
   "outputs": [
    {
     "name": "stdout",
     "output_type": "stream",
     "text": [
      "<class 'float'>\n"
     ]
    }
   ],
   "source": [
    "cost *= 3\n",
    "print(type(cost))"
   ]
  },
  {
   "cell_type": "code",
   "execution_count": 30,
   "id": "0eeef789",
   "metadata": {},
   "outputs": [
    {
     "name": "stdout",
     "output_type": "stream",
     "text": [
      "1.5\n",
      "20.97\n"
     ]
    }
   ],
   "source": [
    "print(quantity)\n",
    "print(cost)"
   ]
  },
  {
   "cell_type": "code",
   "execution_count": null,
   "id": "76cb5290",
   "metadata": {},
   "outputs": [],
   "source": []
  },
  {
   "cell_type": "markdown",
   "id": "7d24134b",
   "metadata": {},
   "source": [
    "#### Conversion Between Types (typecasting)\n",
    "\n",
    "<li>We can convert integers into floats and vice versa.</li>\n",
    "<li>We have to use two inbuilt functions like int() and float() to do the conversion.</li>\n",
    "<li>We use int() to convert float datatype into integer.</li>\n",
    "<li>Similarly, we use float() to convert int datatype into float.</li>"
   ]
  },
  {
   "cell_type": "code",
   "execution_count": 34,
   "id": "f17787bf",
   "metadata": {},
   "outputs": [
    {
     "name": "stdout",
     "output_type": "stream",
     "text": [
      "<class 'float'>\n",
      "6\n",
      "<class 'int'>\n"
     ]
    }
   ],
   "source": [
    "float1 = 6.99\n",
    "print(type(float1))\n",
    "integer1 = int(float1)\n",
    "print(integer1)\n",
    "print(type(integer1))"
   ]
  },
  {
   "cell_type": "code",
   "execution_count": 35,
   "id": "4130813b",
   "metadata": {},
   "outputs": [
    {
     "name": "stdout",
     "output_type": "stream",
     "text": [
      "<class 'int'>\n",
      "8.0\n",
      "<class 'float'>\n"
     ]
    }
   ],
   "source": [
    "integer2 = 8\n",
    "print(type(integer2))\n",
    "float2 = float(integer2)\n",
    "print(float2)\n",
    "print(type(float2))"
   ]
  },
  {
   "cell_type": "code",
   "execution_count": null,
   "id": "5fdd65f8",
   "metadata": {},
   "outputs": [],
   "source": []
  },
  {
   "cell_type": "markdown",
   "id": "e19c2e1f",
   "metadata": {},
   "source": [
    "<li>We can also convert float datatype into int by another method.</li>\n",
    "\n",
    "**<li>Guess the method.</li>**"
   ]
  },
  {
   "cell_type": "code",
   "execution_count": 36,
   "id": "689247f1",
   "metadata": {},
   "outputs": [
    {
     "name": "stdout",
     "output_type": "stream",
     "text": [
      "3\n"
     ]
    }
   ],
   "source": [
    "float3 = 3.1428\n",
    "print(round(float3))"
   ]
  },
  {
   "cell_type": "code",
   "execution_count": 37,
   "id": "d7bff90e",
   "metadata": {},
   "outputs": [
    {
     "name": "stdout",
     "output_type": "stream",
     "text": [
      "3.14\n"
     ]
    }
   ],
   "source": [
    "round1 = round(float3, 2)\n",
    "print(round1)"
   ]
  },
  {
   "cell_type": "code",
   "execution_count": null,
   "id": "67d0aaef",
   "metadata": {},
   "outputs": [],
   "source": []
  },
  {
   "cell_type": "markdown",
   "id": "bce8b7c6",
   "metadata": {},
   "source": [
    "#### Strings"
   ]
  },
  {
   "cell_type": "markdown",
   "id": "3b7148ea",
   "metadata": {},
   "source": [
    "<li>So far, we've only worked with int and float values. But in data science, numbers aren't the only type of data we work with.</li>\n",
    "\n",
    "<li>We have to work with textual data and do some text analytics in data science. This is possible because of <b>string</b> datatype.</li>\n",
    "\n",
    "<li>We can even assign numeric and float values to a string datatype.</li>\n",
    "\n",
    "<li>String is a collection of alphabets, words or other characters.</li>"
   ]
  },
  {
   "cell_type": "markdown",
   "id": "19b2a36b",
   "metadata": {},
   "source": [
    "#### Different Syntax To Represent String"
   ]
  },
  {
   "cell_type": "code",
   "execution_count": 38,
   "id": "b116740f",
   "metadata": {},
   "outputs": [
    {
     "name": "stdout",
     "output_type": "stream",
     "text": [
      "apple\n",
      "<class 'str'>\n"
     ]
    }
   ],
   "source": [
    "fruit_name = 'apple'\n",
    "print(fruit_name)\n",
    "print(type(fruit_name))"
   ]
  },
  {
   "cell_type": "code",
   "execution_count": 39,
   "id": "2348a75d",
   "metadata": {},
   "outputs": [
    {
     "name": "stdout",
     "output_type": "stream",
     "text": [
      "apple\n",
      "<class 'str'>\n"
     ]
    }
   ],
   "source": [
    "fruit_name = \"apple\"\n",
    "print(fruit_name)\n",
    "print(type(fruit_name))"
   ]
  },
  {
   "cell_type": "code",
   "execution_count": 40,
   "id": "c4689b8e",
   "metadata": {},
   "outputs": [
    {
     "name": "stdout",
     "output_type": "stream",
     "text": [
      "apple\n",
      "<class 'str'>\n"
     ]
    }
   ],
   "source": [
    "fruit_name = \"\"\"apple\"\"\"\n",
    "print(fruit_name)\n",
    "print(type(fruit_name))"
   ]
  },
  {
   "cell_type": "code",
   "execution_count": null,
   "id": "1ccc9a02",
   "metadata": {},
   "outputs": [],
   "source": []
  },
  {
   "cell_type": "code",
   "execution_count": null,
   "id": "9d28098a",
   "metadata": {},
   "outputs": [],
   "source": []
  },
  {
   "cell_type": "code",
   "execution_count": null,
   "id": "2b0a6841",
   "metadata": {},
   "outputs": [],
   "source": []
  },
  {
   "cell_type": "code",
   "execution_count": null,
   "id": "aea7bc8d",
   "metadata": {},
   "outputs": [],
   "source": []
  },
  {
   "cell_type": "markdown",
   "id": "16b93e7d",
   "metadata": {},
   "source": [
    "#### Escaping Special Characters\n",
    "\n",
    "<li>Sometimes we'll need to create strings containing quotation marks, as in this example: Facebook's old motto was 'move fast and break things'.</li>\n",
    "<!-- <li>We can not use double quotation mark inside a single quotation mark, similarly triple quotation mark inside a doble quotation mark is not valid.</li> -->\n",
    "\n",
    "\n"
   ]
  },
  {
   "cell_type": "code",
   "execution_count": 42,
   "id": "2a3613ad",
   "metadata": {},
   "outputs": [],
   "source": [
    "facebook_motto = \"Facebook's old motto was 'move fast and break thing'\""
   ]
  },
  {
   "cell_type": "code",
   "execution_count": 43,
   "id": "7669bb5f",
   "metadata": {},
   "outputs": [
    {
     "name": "stdout",
     "output_type": "stream",
     "text": [
      "Facebook's old motto was 'move fast and break thing'\n",
      "<class 'str'>\n"
     ]
    }
   ],
   "source": [
    "print(facebook_motto)\n",
    "print(type(facebook_motto))"
   ]
  },
  {
   "cell_type": "markdown",
   "id": "3340f80a",
   "metadata": {},
   "source": [
    "#### Famous Sayings\n",
    "“The purpose of life is a life of purpose.” ― Robert Byrn"
   ]
  },
  {
   "cell_type": "code",
   "execution_count": 44,
   "id": "3dc5f2bd",
   "metadata": {},
   "outputs": [],
   "source": [
    "famous_sayings = 'Robert Bryn says: \"The purpose of life is a life of purpose\"'"
   ]
  },
  {
   "cell_type": "code",
   "execution_count": 45,
   "id": "7bafe0ce",
   "metadata": {},
   "outputs": [
    {
     "name": "stdout",
     "output_type": "stream",
     "text": [
      "Robert Bryn says: \"The purpose of life is a life of purpose\"\n",
      "<class 'str'>\n"
     ]
    }
   ],
   "source": [
    "print(famous_sayings)\n",
    "print(type(famous_sayings))"
   ]
  },
  {
   "cell_type": "markdown",
   "id": "f6683971",
   "metadata": {},
   "source": [
    "#### Question\n",
    "<li>Assign the string <b>Facebook's new motto is \"move fast with stable infra.\"</b> to a variable named motto.</li>\n",
    "<li>Display the variable motto using print()</li>"
   ]
  },
  {
   "cell_type": "code",
   "execution_count": 46,
   "id": "1cb3a978",
   "metadata": {},
   "outputs": [
    {
     "name": "stdout",
     "output_type": "stream",
     "text": [
      "Facebook's new motto is \"move fast with stable infra.\"\n",
      "<class 'str'>\n"
     ]
    }
   ],
   "source": [
    "motto = '''Facebook's new motto is \"move fast with stable infra.\"'''\n",
    "print(motto)\n",
    "print(type(motto))"
   ]
  },
  {
   "cell_type": "markdown",
   "id": "ff5ed2ba",
   "metadata": {},
   "source": [
    "#### String Concatenation\n",
    "\n",
    "<li>We can concatenate two different string values to form a single string. This process is known as string concatenation.</li>\n",
    "\n",
    "<li>If we want to use or display the string multiple times, we can use arithmetic operation in strings to do string concatenation.</li>"
   ]
  },
  {
   "cell_type": "code",
   "execution_count": 47,
   "id": "c18d9b21",
   "metadata": {},
   "outputs": [],
   "source": [
    "a = \"app\"\n",
    "b = \"le\""
   ]
  },
  {
   "cell_type": "code",
   "execution_count": 48,
   "id": "0f460b14",
   "metadata": {},
   "outputs": [
    {
     "name": "stdout",
     "output_type": "stream",
     "text": [
      "apple\n"
     ]
    }
   ],
   "source": [
    "fruit = a + b\n",
    "print(fruit)"
   ]
  },
  {
   "cell_type": "code",
   "execution_count": 49,
   "id": "d9ff6f1c",
   "metadata": {},
   "outputs": [
    {
     "name": "stdout",
     "output_type": "stream",
     "text": [
      "appappappappapp\n"
     ]
    }
   ],
   "source": [
    "fivetimesa = a * 5\n",
    "print(fivetimesa)"
   ]
  },
  {
   "cell_type": "code",
   "execution_count": 53,
   "id": "cc8579f9",
   "metadata": {},
   "outputs": [],
   "source": [
    "a  = \"My name is\"\n",
    "f_name = \"Prabhat\"\n",
    "l_name = \"Ale\""
   ]
  },
  {
   "cell_type": "code",
   "execution_count": 54,
   "id": "13a6de51",
   "metadata": {},
   "outputs": [],
   "source": [
    "full_name = a + \" \" + f_name + \" \" + l_name"
   ]
  },
  {
   "cell_type": "code",
   "execution_count": 55,
   "id": "c0faa6fa",
   "metadata": {},
   "outputs": [
    {
     "name": "stdout",
     "output_type": "stream",
     "text": [
      "My name is Prabhat Ale\n"
     ]
    }
   ],
   "source": [
    "print(full_name)"
   ]
  },
  {
   "cell_type": "code",
   "execution_count": null,
   "id": "e5c9af15",
   "metadata": {},
   "outputs": [],
   "source": []
  },
  {
   "cell_type": "code",
   "execution_count": null,
   "id": "ffbf6651",
   "metadata": {},
   "outputs": [],
   "source": []
  },
  {
   "cell_type": "code",
   "execution_count": null,
   "id": "b3782876",
   "metadata": {},
   "outputs": [],
   "source": []
  },
  {
   "cell_type": "code",
   "execution_count": null,
   "id": "e092f0da",
   "metadata": {},
   "outputs": [],
   "source": []
  },
  {
   "cell_type": "markdown",
   "id": "f72586a1",
   "metadata": {},
   "source": [
    "#### Question\n",
    "<li>Assign the string <b>Tiktok's rating is</b> to a variable named tiktok.</li>\n",
    "<li>Assign the string 4.5 to a variable named tiktok_rating_str.</li>\n",
    "<li>Concatenate the strings stored in tiktok and tiktok_rating_str to form the string <b>Tiktok's rating is 4.5</b>.\n",
    "<li>Assign the concatenated string to a variable named tiktok.</li>\n",
    "<li>You'll need to add a space character between Tiktok's rating is and 4.5 to avoid ending up with the string Tiktok's rating is4.5.</li>\n",
    "<li>Display the tiktok variable using print()</li>"
   ]
  },
  {
   "cell_type": "code",
   "execution_count": 56,
   "id": "59fcf863",
   "metadata": {},
   "outputs": [
    {
     "name": "stdout",
     "output_type": "stream",
     "text": [
      "Tiktok's rating is 4.5\n",
      "<class 'str'>\n"
     ]
    }
   ],
   "source": [
    "tiktok = \"Tiktok's rating is\"\n",
    "tiktok_rating_str = '4.5'\n",
    "tiktok = tiktok + ' ' + tiktok_rating_str\n",
    "print(tiktok)\n",
    "print(type(tiktok))"
   ]
  },
  {
   "cell_type": "markdown",
   "id": "58e61096",
   "metadata": {},
   "source": [
    "#### Concatenating string using .format() method"
   ]
  },
  {
   "cell_type": "code",
   "execution_count": 58,
   "id": "827abeb5",
   "metadata": {},
   "outputs": [
    {
     "name": "stdout",
     "output_type": "stream",
     "text": [
      "My age is 24\n"
     ]
    }
   ],
   "source": [
    "print(\"My age is {}\".format(24))"
   ]
  },
  {
   "cell_type": "code",
   "execution_count": 59,
   "id": "5831459d",
   "metadata": {},
   "outputs": [
    {
     "name": "stdout",
     "output_type": "stream",
     "text": [
      "The sum is 9\n",
      "The difference is 1\n"
     ]
    }
   ],
   "source": [
    "a = 5\n",
    "b = 4\n",
    "s = a + b \n",
    "d = a - b\n",
    "print(\"The sum is {}\".format(s))\n",
    "print(\"The difference is {}\".format(d))"
   ]
  },
  {
   "cell_type": "markdown",
   "id": "335736f0",
   "metadata": {},
   "source": [
    "#### String Conversion\n",
    "\n",
    "<li>Like we can convert float to int and vice-versa, we can also convert the string into float and int if that string is a numerical value.</li>"
   ]
  },
  {
   "cell_type": "code",
   "execution_count": 61,
   "id": "2006d29b",
   "metadata": {},
   "outputs": [
    {
     "name": "stdout",
     "output_type": "stream",
     "text": [
      "<class 'str'>\n",
      "<class 'int'>\n"
     ]
    }
   ],
   "source": [
    "age_str = \"24\"\n",
    "print(type(age_str))\n",
    "age_int = int(age_str)\n",
    "print(type(age_int))"
   ]
  },
  {
   "cell_type": "code",
   "execution_count": 62,
   "id": "aa387eab",
   "metadata": {},
   "outputs": [
    {
     "name": "stdout",
     "output_type": "stream",
     "text": [
      "<class 'str'>\n",
      "<class 'float'>\n"
     ]
    }
   ],
   "source": [
    "marks_str = \"73.7\"\n",
    "print(type(marks_str))\n",
    "marks_float = float(marks_str)\n",
    "print(type(marks_float))"
   ]
  },
  {
   "cell_type": "markdown",
   "id": "eab6af91",
   "metadata": {},
   "source": [
    "#### Multiline string with triple quotation marks"
   ]
  },
  {
   "cell_type": "code",
   "execution_count": 63,
   "id": "f1d1af23",
   "metadata": {},
   "outputs": [
    {
     "name": "stdout",
     "output_type": "stream",
     "text": [
      "This is a multiline string.\n",
      "This is the second line in a multiline string.\n",
      "This is the last line in a multiline string.\n",
      "\n"
     ]
    }
   ],
   "source": [
    "multiline_string = \"\"\"This is a multiline string.\n",
    "This is the second line in a multiline string.\n",
    "This is the last line in a multiline string.\n",
    "\"\"\"\n",
    "print(multiline_string)"
   ]
  },
  {
   "cell_type": "code",
   "execution_count": 65,
   "id": "7c76fd16",
   "metadata": {},
   "outputs": [
    {
     "name": "stdout",
     "output_type": "stream",
     "text": [
      "<class 'str'>\n"
     ]
    }
   ],
   "source": [
    "print(type(multiline_string))"
   ]
  },
  {
   "cell_type": "markdown",
   "id": "f212c71f",
   "metadata": {},
   "source": [
    "#### Indexing In String"
   ]
  },
  {
   "cell_type": "code",
   "execution_count": 66,
   "id": "7eba750b",
   "metadata": {},
   "outputs": [
    {
     "data": {
      "text/plain": [
       "7"
      ]
     },
     "execution_count": 66,
     "metadata": {},
     "output_type": "execute_result"
    }
   ],
   "source": [
    "name = \"Prabhat\"\n",
    "len(name)"
   ]
  },
  {
   "cell_type": "code",
   "execution_count": 67,
   "id": "58ca2b5b",
   "metadata": {},
   "outputs": [
    {
     "data": {
      "text/plain": [
       "'P'"
      ]
     },
     "execution_count": 67,
     "metadata": {},
     "output_type": "execute_result"
    }
   ],
   "source": [
    "name[0]"
   ]
  },
  {
   "cell_type": "code",
   "execution_count": 69,
   "id": "481e918e",
   "metadata": {},
   "outputs": [
    {
     "data": {
      "text/plain": [
       "'t'"
      ]
     },
     "execution_count": 69,
     "metadata": {},
     "output_type": "execute_result"
    }
   ],
   "source": [
    "name[6]"
   ]
  },
  {
   "cell_type": "code",
   "execution_count": 70,
   "id": "aafb0a34",
   "metadata": {},
   "outputs": [
    {
     "data": {
      "text/plain": [
       "'t'"
      ]
     },
     "execution_count": 70,
     "metadata": {},
     "output_type": "execute_result"
    }
   ],
   "source": [
    "name[-1]"
   ]
  },
  {
   "cell_type": "markdown",
   "id": "667796a5",
   "metadata": {},
   "source": [
    "## Slicing"
   ]
  },
  {
   "cell_type": "code",
   "execution_count": 71,
   "id": "bd6dce63",
   "metadata": {},
   "outputs": [
    {
     "data": {
      "text/plain": [
       "'Pra'"
      ]
     },
     "execution_count": 71,
     "metadata": {},
     "output_type": "execute_result"
    }
   ],
   "source": [
    "name[0:3]"
   ]
  },
  {
   "cell_type": "code",
   "execution_count": 1,
   "id": "7d4ec87a",
   "metadata": {},
   "outputs": [
    {
     "name": "stdout",
     "output_type": "stream",
     "text": [
      "gram\n"
     ]
    }
   ],
   "source": [
    "address = \"Manigram\"\n",
    "address_last4 = address[-4:]\n",
    "print(address_last4)"
   ]
  },
  {
   "cell_type": "code",
   "execution_count": 3,
   "id": "2a348517",
   "metadata": {},
   "outputs": [
    {
     "name": "stdout",
     "output_type": "stream",
     "text": [
      "Mani\n"
     ]
    }
   ],
   "source": [
    "adress_first4 = address[:4]\n",
    "print(adress_first4)"
   ]
  },
  {
   "cell_type": "code",
   "execution_count": 7,
   "id": "4202c6ee",
   "metadata": {},
   "outputs": [
    {
     "data": {
      "text/plain": [
       "'Mia'"
      ]
     },
     "execution_count": 7,
     "metadata": {},
     "output_type": "execute_result"
    }
   ],
   "source": [
    "address[0:-1:3]"
   ]
  },
  {
   "cell_type": "markdown",
   "id": "7c7d1746",
   "metadata": {},
   "source": [
    "#### Splittting In Strings(Text Splitting)"
   ]
  },
  {
   "cell_type": "code",
   "execution_count": 16,
   "id": "05898850",
   "metadata": {},
   "outputs": [],
   "source": [
    "country = \"Brazil.Br\""
   ]
  },
  {
   "cell_type": "code",
   "execution_count": 17,
   "id": "c1d11016",
   "metadata": {},
   "outputs": [
    {
     "data": {
      "text/plain": [
       "'Brazil'"
      ]
     },
     "execution_count": 17,
     "metadata": {},
     "output_type": "execute_result"
    }
   ],
   "source": [
    "country[0:6]"
   ]
  },
  {
   "cell_type": "code",
   "execution_count": 19,
   "id": "b18ab356",
   "metadata": {},
   "outputs": [
    {
     "data": {
      "text/plain": [
       "['Brazil', 'Br']"
      ]
     },
     "execution_count": 19,
     "metadata": {},
     "output_type": "execute_result"
    }
   ],
   "source": [
    "country.split('.')"
   ]
  },
  {
   "cell_type": "code",
   "execution_count": 20,
   "id": "e7327199",
   "metadata": {},
   "outputs": [
    {
     "data": {
      "text/plain": [
       "'Br'"
      ]
     },
     "execution_count": 20,
     "metadata": {},
     "output_type": "execute_result"
    }
   ],
   "source": [
    "country.split('.')[-1]"
   ]
  },
  {
   "cell_type": "code",
   "execution_count": 21,
   "id": "eb598e58",
   "metadata": {},
   "outputs": [
    {
     "data": {
      "text/plain": [
       "'Brazil'"
      ]
     },
     "execution_count": 21,
     "metadata": {},
     "output_type": "execute_result"
    }
   ],
   "source": [
    "country.split('.')[0]"
   ]
  },
  {
   "cell_type": "code",
   "execution_count": null,
   "id": "db874b1d",
   "metadata": {},
   "outputs": [],
   "source": []
  },
  {
   "cell_type": "code",
   "execution_count": null,
   "id": "0dc24f6e",
   "metadata": {},
   "outputs": [],
   "source": []
  },
  {
   "cell_type": "code",
   "execution_count": null,
   "id": "e82f6529",
   "metadata": {},
   "outputs": [],
   "source": []
  },
  {
   "cell_type": "code",
   "execution_count": 23,
   "id": "f52ce337",
   "metadata": {},
   "outputs": [],
   "source": [
    "founder = \"Ali-baba_founder.jackma\""
   ]
  },
  {
   "cell_type": "code",
   "execution_count": 24,
   "id": "a8945b2d",
   "metadata": {},
   "outputs": [
    {
     "data": {
      "text/plain": [
       "'jackma'"
      ]
     },
     "execution_count": 24,
     "metadata": {},
     "output_type": "execute_result"
    }
   ],
   "source": [
    "founder[-6:]"
   ]
  },
  {
   "cell_type": "code",
   "execution_count": 26,
   "id": "d667dd85",
   "metadata": {},
   "outputs": [
    {
     "data": {
      "text/plain": [
       "'jackma'"
      ]
     },
     "execution_count": 26,
     "metadata": {},
     "output_type": "execute_result"
    }
   ],
   "source": [
    "founder.split('.')[1]"
   ]
  },
  {
   "cell_type": "code",
   "execution_count": 30,
   "id": "1a970dfd",
   "metadata": {},
   "outputs": [
    {
     "data": {
      "text/plain": [
       "'baba'"
      ]
     },
     "execution_count": 30,
     "metadata": {},
     "output_type": "execute_result"
    }
   ],
   "source": [
    "founder.split('-')[1].split('_')[0]"
   ]
  },
  {
   "cell_type": "code",
   "execution_count": 34,
   "id": "6929ad14",
   "metadata": {},
   "outputs": [
    {
     "data": {
      "text/plain": [
       "'founder'"
      ]
     },
     "execution_count": 34,
     "metadata": {},
     "output_type": "execute_result"
    }
   ],
   "source": [
    "founder.split('_')[1].split('.')[0]"
   ]
  },
  {
   "cell_type": "code",
   "execution_count": 35,
   "id": "d69b4aaf",
   "metadata": {},
   "outputs": [],
   "source": [
    "s = \"Tesla_is_a_good_company\""
   ]
  },
  {
   "cell_type": "code",
   "execution_count": 37,
   "id": "b31e862c",
   "metadata": {},
   "outputs": [
    {
     "data": {
      "text/plain": [
       "'good'"
      ]
     },
     "execution_count": 37,
     "metadata": {},
     "output_type": "execute_result"
    }
   ],
   "source": [
    "s.split('_')[-2]"
   ]
  },
  {
   "cell_type": "code",
   "execution_count": 39,
   "id": "342f7f76",
   "metadata": {},
   "outputs": [
    {
     "data": {
      "text/plain": [
       "'Tesla'"
      ]
     },
     "execution_count": 39,
     "metadata": {},
     "output_type": "execute_result"
    }
   ],
   "source": [
    "s.split('_')[0]"
   ]
  },
  {
   "cell_type": "code",
   "execution_count": 41,
   "id": "f946eb96",
   "metadata": {},
   "outputs": [],
   "source": [
    "s = \"Tesla_is_a_good_company.in_USA\""
   ]
  },
  {
   "cell_type": "code",
   "execution_count": 43,
   "id": "254da9f0",
   "metadata": {},
   "outputs": [
    {
     "data": {
      "text/plain": [
       "'USA'"
      ]
     },
     "execution_count": 43,
     "metadata": {},
     "output_type": "execute_result"
    }
   ],
   "source": [
    "s.split('_')[-1]"
   ]
  },
  {
   "cell_type": "code",
   "execution_count": 47,
   "id": "30058230",
   "metadata": {},
   "outputs": [
    {
     "data": {
      "text/plain": [
       "'in'"
      ]
     },
     "execution_count": 47,
     "metadata": {},
     "output_type": "execute_result"
    }
   ],
   "source": [
    "s.split('.')[-1].split('_')[0]"
   ]
  },
  {
   "cell_type": "code",
   "execution_count": 48,
   "id": "1604e745",
   "metadata": {},
   "outputs": [],
   "source": [
    "h = \"I_am.working_in.Fusemachines_Nepal.office\""
   ]
  },
  {
   "cell_type": "code",
   "execution_count": 52,
   "id": "4d05785f",
   "metadata": {},
   "outputs": [
    {
     "data": {
      "text/plain": [
       "'Fusemachines'"
      ]
     },
     "execution_count": 52,
     "metadata": {},
     "output_type": "execute_result"
    }
   ],
   "source": [
    "h.split('.')[-2].split('_')[0]"
   ]
  },
  {
   "cell_type": "code",
   "execution_count": 56,
   "id": "6fb06059",
   "metadata": {},
   "outputs": [
    {
     "data": {
      "text/plain": [
       "'working'"
      ]
     },
     "execution_count": 56,
     "metadata": {},
     "output_type": "execute_result"
    }
   ],
   "source": [
    "h.split('.')[1].split('_')[0]"
   ]
  },
  {
   "cell_type": "markdown",
   "id": "9cb0f9f7",
   "metadata": {},
   "source": [
    "#### Lists In Python"
   ]
  },
  {
   "cell_type": "markdown",
   "id": "7f54d7ea",
   "metadata": {},
   "source": [
    "<li>A collection of data points makes up a dataset.</li>\n",
    "<li>Creating a variable for each data point in our dataset would be a cumbersome process. Fortunately, we can store data more efficiently using lists.</li>"
   ]
  },
  {
   "cell_type": "markdown",
   "id": "b663e3f0",
   "metadata": {},
   "source": [
    "![](images/table.png)"
   ]
  },
  {
   "cell_type": "code",
   "execution_count": 57,
   "id": "bbedf561",
   "metadata": {},
   "outputs": [],
   "source": [
    "header = ['track_name', 'price', 'currency', 'rating_count_tot', 'user_rating']"
   ]
  },
  {
   "cell_type": "code",
   "execution_count": 58,
   "id": "5c4b394d",
   "metadata": {},
   "outputs": [
    {
     "name": "stdout",
     "output_type": "stream",
     "text": [
      "['track_name', 'price', 'currency', 'rating_count_tot', 'user_rating']\n",
      "<class 'list'>\n"
     ]
    }
   ],
   "source": [
    "print(header)\n",
    "print(type(header))"
   ]
  },
  {
   "cell_type": "code",
   "execution_count": 59,
   "id": "b7df94eb",
   "metadata": {},
   "outputs": [],
   "source": [
    "row1 = ['Facebook', 0.0, 'USD', 2974676, 3.5]"
   ]
  },
  {
   "cell_type": "code",
   "execution_count": 60,
   "id": "80351fd8",
   "metadata": {},
   "outputs": [
    {
     "name": "stdout",
     "output_type": "stream",
     "text": [
      "['Facebook', 0.0, 'USD', 2974676, 3.5]\n",
      "<class 'list'>\n"
     ]
    }
   ],
   "source": [
    "print(row1)\n",
    "print(type(row1))"
   ]
  },
  {
   "cell_type": "markdown",
   "id": "d07067f5",
   "metadata": {},
   "source": [
    "### Length of List\n",
    "\n",
    "<li>We can find the length of a list by using builtin function <b>len()</li>"
   ]
  },
  {
   "cell_type": "code",
   "execution_count": 61,
   "id": "fb499494",
   "metadata": {},
   "outputs": [
    {
     "name": "stdout",
     "output_type": "stream",
     "text": [
      "5\n"
     ]
    }
   ],
   "source": [
    "length_row1 = len(row1)\n",
    "print(length_row1)"
   ]
  },
  {
   "cell_type": "code",
   "execution_count": 62,
   "id": "84c1ded0",
   "metadata": {},
   "outputs": [
    {
     "name": "stdout",
     "output_type": "stream",
     "text": [
      "5\n"
     ]
    }
   ],
   "source": [
    "print(len(header))"
   ]
  },
  {
   "cell_type": "markdown",
   "id": "4171b0b4",
   "metadata": {},
   "source": [
    "#### Indexing In List\n",
    "\n",
    "<li>Each element (data point) in a list has a specific number associated with it — this is an index number.</li>\n",
    "\n",
    "<li>The indexing always starts at 0, so the first element will have the index number 0, the second element will have the index number 1, and so on.</li>\n"
   ]
  },
  {
   "cell_type": "code",
   "execution_count": 63,
   "id": "3f786c42",
   "metadata": {},
   "outputs": [],
   "source": [
    "header = ['track_name', 'price', 'currency', 'rating_count_tot', 'user_rating']"
   ]
  },
  {
   "cell_type": "code",
   "execution_count": 72,
   "id": "01b711dc",
   "metadata": {},
   "outputs": [],
   "source": [
    "list1 = ['Srijana', 'KC', 22, 'B.Sc.Cs.It', 'Divertole', 75.4]"
   ]
  },
  {
   "cell_type": "code",
   "execution_count": 73,
   "id": "08200a6a",
   "metadata": {},
   "outputs": [
    {
     "data": {
      "text/plain": [
       "6"
      ]
     },
     "execution_count": 73,
     "metadata": {},
     "output_type": "execute_result"
    }
   ],
   "source": [
    "len(list1)"
   ]
  },
  {
   "cell_type": "code",
   "execution_count": 75,
   "id": "24bcbad5",
   "metadata": {},
   "outputs": [
    {
     "data": {
      "text/plain": [
       "3"
      ]
     },
     "execution_count": 75,
     "metadata": {},
     "output_type": "execute_result"
    }
   ],
   "source": [
    "list1.index('B.Sc.Cs.It')"
   ]
  },
  {
   "cell_type": "code",
   "execution_count": 74,
   "id": "d840fe17",
   "metadata": {},
   "outputs": [
    {
     "data": {
      "text/plain": [
       "22"
      ]
     },
     "execution_count": 74,
     "metadata": {},
     "output_type": "execute_result"
    }
   ],
   "source": [
    "list1[2]"
   ]
  },
  {
   "cell_type": "code",
   "execution_count": 64,
   "id": "792558bd",
   "metadata": {},
   "outputs": [
    {
     "data": {
      "text/plain": [
       "'price'"
      ]
     },
     "execution_count": 64,
     "metadata": {},
     "output_type": "execute_result"
    }
   ],
   "source": [
    "header[1]"
   ]
  },
  {
   "cell_type": "code",
   "execution_count": 65,
   "id": "5b219161",
   "metadata": {},
   "outputs": [
    {
     "data": {
      "text/plain": [
       "'user_rating'"
      ]
     },
     "execution_count": 65,
     "metadata": {},
     "output_type": "execute_result"
    }
   ],
   "source": [
    "header[4]"
   ]
  },
  {
   "cell_type": "markdown",
   "id": "7348e42c",
   "metadata": {},
   "source": [
    "#### Question\n",
    "row_1 = ['Prabhat', 24, 'Nepali', 'B.Sc.Cs.It', 79.1]\n",
    "\n",
    "row_2 = ['Sunil', 23, 'Nepali', 'B.It', 83.2]\n",
    "\n",
    "row_3 = ['Bhawana', 22, 'Canadian', 'B.E.Computer', 78.4]\n",
    "\n",
    "row_4 = ['Shiva', 23, 'Australian', 'B.It', 72.5]\n",
    "\n",
    "<br>\n",
    "\n",
    "<li>Determine the index number of degree element 'B.It' in row_2, and store the answer as a string in a variable named degree_index.</li>\n",
    "<li>Determine the index number of the age element 23 in row_4, and store the answer as an integer in a variable named age_index</li>"
   ]
  },
  {
   "cell_type": "code",
   "execution_count": 66,
   "id": "3deebc47",
   "metadata": {},
   "outputs": [],
   "source": [
    "header = ['Name', 'Age', 'Nationality', 'Degree', 'Marks']\n",
    "\n",
    "row_1 = ['Prabhat', 24, 'Nepali', 'B.Sc.Cs.It', 79.1]\n",
    "\n",
    "row_2 = ['Sunil', 23, 'Nepali', 'B.It', 83.2]\n",
    "\n",
    "row_3 = ['Bhawana', 22, 'Canadian', 'B.E.Computer', 78.4]\n",
    "\n",
    "row_4 = ['Shiva', 23, 'Australian', 'B.It', 72.5]"
   ]
  },
  {
   "cell_type": "code",
   "execution_count": 68,
   "id": "f4b44dad",
   "metadata": {},
   "outputs": [
    {
     "name": "stdout",
     "output_type": "stream",
     "text": [
      "B.It\n"
     ]
    }
   ],
   "source": [
    "bit_row2 = row_2[3]\n",
    "print(bit_row2)"
   ]
  },
  {
   "cell_type": "code",
   "execution_count": 69,
   "id": "78caf8b1",
   "metadata": {},
   "outputs": [
    {
     "name": "stdout",
     "output_type": "stream",
     "text": [
      "23\n"
     ]
    }
   ],
   "source": [
    "age_row4 = row_4[1]\n",
    "print(age_row4)"
   ]
  },
  {
   "cell_type": "code",
   "execution_count": null,
   "id": "b05abdd7",
   "metadata": {},
   "outputs": [],
   "source": [
    "row 1 ma Nepali ko index nikalna xa"
   ]
  },
  {
   "cell_type": "code",
   "execution_count": 70,
   "id": "91416108",
   "metadata": {},
   "outputs": [
    {
     "data": {
      "text/plain": [
       "2"
      ]
     },
     "execution_count": 70,
     "metadata": {},
     "output_type": "execute_result"
    }
   ],
   "source": [
    "row_1.index('Nepali')"
   ]
  },
  {
   "cell_type": "code",
   "execution_count": 71,
   "id": "5bdba943",
   "metadata": {},
   "outputs": [
    {
     "data": {
      "text/plain": [
       "4"
      ]
     },
     "execution_count": 71,
     "metadata": {},
     "output_type": "execute_result"
    }
   ],
   "source": [
    "row_4.index(72.5)"
   ]
  },
  {
   "cell_type": "code",
   "execution_count": null,
   "id": "f94fe133",
   "metadata": {},
   "outputs": [],
   "source": []
  },
  {
   "cell_type": "markdown",
   "id": "fe2cd048",
   "metadata": {},
   "source": [
    "#### Retriving values in a list(Question)\n",
    "\n",
    "<li>Assign the second element from the list row_1 to a variable named age_1. Don't forget that the indexing starts at 0.</li>\n",
    "<li>Assign the second element from the list row_2 to a variable named age_2.</li>\n",
    "<li>Assign the second element from the list row_3 to a variable named age_3.</li>\n",
    "<li>Assign the second element from the list row_4 to a variable named age_4.</li>\n",
    "<li>Add the four numbers retrieved together and save the sum to a variable named total.</li>\n",
    "<li>Divide the sum (now saved in the variable total) by 4 to get the average number of age for the first four rows. Assign the result to a variable named average.</li>\n"
   ]
  },
  {
   "cell_type": "code",
   "execution_count": null,
   "id": "f22ccdc0",
   "metadata": {},
   "outputs": [],
   "source": [
    "header = ['Name', 'Age', 'Nationality', 'Degree', 'Marks']\n",
    "row_1 = ['Prabhat', 24, 'Nepali', 'B.Sc.Cs.It', 79.1]\n",
    "row_2 = ['Sunil', 23, 'Nepali', 'B.It', 83.2]\n",
    "row_3 = ['Bhawana', 22, 'Canadian', 'B.E.Computer', 78.4]\n",
    "row_4 = ['Shiva', 23, 'Australian', 'B.It', 72.5]"
   ]
  },
  {
   "cell_type": "code",
   "execution_count": 76,
   "id": "d6267e47",
   "metadata": {},
   "outputs": [
    {
     "name": "stdout",
     "output_type": "stream",
     "text": [
      "23.0\n"
     ]
    }
   ],
   "source": [
    "age_1 = row_1[1]\n",
    "age_2 = row_2[1]\n",
    "age_3 = row_3[1]\n",
    "age_4 = row_4[1]\n",
    "total=age_1+age_2+age_3+age_4\n",
    "average=total/4\n",
    "print(average)"
   ]
  },
  {
   "cell_type": "code",
   "execution_count": 77,
   "id": "c6c53da0",
   "metadata": {},
   "outputs": [
    {
     "name": "stdout",
     "output_type": "stream",
     "text": [
      "Nationality:Nepali,Nepali,Canadian,Australian\n"
     ]
    }
   ],
   "source": [
    "concatenated_nationality = header[2] + \":\" + row_1[2] + \",\" + row_2[2] + \\\n",
    "\",\" + row_3[2] + \",\"+ row_4[2] \n",
    "print(concatenated_nationality)"
   ]
  },
  {
   "cell_type": "markdown",
   "id": "709758eb",
   "metadata": {},
   "source": [
    "#### Negative Indexing In List"
   ]
  },
  {
   "cell_type": "code",
   "execution_count": 78,
   "id": "3520a37f",
   "metadata": {},
   "outputs": [
    {
     "data": {
      "text/plain": [
       "72.5"
      ]
     },
     "execution_count": 78,
     "metadata": {},
     "output_type": "execute_result"
    }
   ],
   "source": [
    "row_4[-1]"
   ]
  },
  {
   "cell_type": "code",
   "execution_count": 79,
   "id": "bf4a00b7",
   "metadata": {},
   "outputs": [
    {
     "data": {
      "text/plain": [
       "'B.It'"
      ]
     },
     "execution_count": 79,
     "metadata": {},
     "output_type": "execute_result"
    }
   ],
   "source": [
    "row_4[-2]"
   ]
  },
  {
   "cell_type": "code",
   "execution_count": 80,
   "id": "8d4eb718",
   "metadata": {},
   "outputs": [
    {
     "data": {
      "text/plain": [
       "'Australian'"
      ]
     },
     "execution_count": 80,
     "metadata": {},
     "output_type": "execute_result"
    }
   ],
   "source": [
    "row_4[-3]"
   ]
  },
  {
   "cell_type": "code",
   "execution_count": 81,
   "id": "d6d45d94",
   "metadata": {},
   "outputs": [
    {
     "data": {
      "text/plain": [
       "23"
      ]
     },
     "execution_count": 81,
     "metadata": {},
     "output_type": "execute_result"
    }
   ],
   "source": [
    "row_4[-4]"
   ]
  },
  {
   "cell_type": "code",
   "execution_count": 82,
   "id": "4fcb0906",
   "metadata": {},
   "outputs": [
    {
     "data": {
      "text/plain": [
       "'Shiva'"
      ]
     },
     "execution_count": 82,
     "metadata": {},
     "output_type": "execute_result"
    }
   ],
   "source": [
    "row_4[-5]"
   ]
  },
  {
   "cell_type": "markdown",
   "id": "70a422d3",
   "metadata": {},
   "source": [
    "#### Question\n",
    "**Use the above list we used in retriving values(Question)**\n",
    "<li>Assign the last element from the list row_1 to a variable named score_1. Don't forget to use negative indexing here.</li>\n",
    "<li>Assign the last element from the list row_2 to a variable named score_2.</li>\n",
    "<li>Assign the last element from the list row_3 to a variable named score_3.</li>\n",
    "<li>Assign the last element from the list row_4 to a variable named score_4.</li>\n",
    "<li>Add the four numbers retrieved together and save the sum to a variable named total_score.</li>\n",
    "<li>Divide the sum (now saved in the variable total) by 4 to get the average score for the first four rows. Assign the result to a variable named average_score.</li>"
   ]
  },
  {
   "cell_type": "code",
   "execution_count": null,
   "id": "1bc95d0f",
   "metadata": {},
   "outputs": [],
   "source": [
    "row_1 = ['Prabhat', 24, 'Nepali', 'B.Sc.Cs.It', 79.1]\n",
    "\n",
    "row_2 = ['Sunil', 23, 'Nepali', 'B.It', 83.2]\n",
    "\n",
    "row_3 = ['Bhawana', 22, 'Canadian', 'B.E.Computer', 78.4]\n",
    "\n",
    "row_4 = ['Shiva', 23, 'Australian', 'B.It', 72.5]"
   ]
  },
  {
   "cell_type": "code",
   "execution_count": 83,
   "id": "d881e515",
   "metadata": {},
   "outputs": [
    {
     "name": "stdout",
     "output_type": "stream",
     "text": [
      "78.30000000000001\n"
     ]
    }
   ],
   "source": [
    "marks_1=row_1[-1]\n",
    "marks_2=row_2[-1]\n",
    "marks_3=row_3[-1]\n",
    "marks_4=row_4[-1]\n",
    "avg=(marks_1+marks_2+marks_3+marks_4)/4\n",
    "print(avg)"
   ]
  },
  {
   "cell_type": "code",
   "execution_count": null,
   "id": "06407a48",
   "metadata": {},
   "outputs": [],
   "source": []
  },
  {
   "cell_type": "code",
   "execution_count": null,
   "id": "e725f9d1",
   "metadata": {},
   "outputs": [],
   "source": []
  },
  {
   "cell_type": "markdown",
   "id": "896ddd34",
   "metadata": {},
   "source": [
    "#### Retriving Multiple List Elements\n",
    "\n",
    "<li>Often we need to retrieve more than one element from a list. This is where retriving multiple elements from list is useful.</li>"
   ]
  },
  {
   "cell_type": "code",
   "execution_count": 1,
   "id": "c863614b",
   "metadata": {},
   "outputs": [],
   "source": [
    "student = [\"Himal Gaire\", 23, \"Butwal\", \"Bachelor\", \"B.C.A\", \"Seventh Semester\"]"
   ]
  },
  {
   "cell_type": "code",
   "execution_count": 2,
   "id": "1d2af2f0",
   "metadata": {},
   "outputs": [
    {
     "name": "stdout",
     "output_type": "stream",
     "text": [
      "['Himal Gaire', 'Bachelor', 'B.C.A', 'Seventh Semester']\n"
     ]
    }
   ],
   "source": [
    "std_edu = [student[0], student[3], student[4], student[5]]\n",
    "print(std_edu)"
   ]
  },
  {
   "cell_type": "code",
   "execution_count": 3,
   "id": "5e8d9992",
   "metadata": {},
   "outputs": [
    {
     "data": {
      "text/plain": [
       "['Bachelor', 'B.C.A', 'Seventh Semester']"
      ]
     },
     "execution_count": 3,
     "metadata": {},
     "output_type": "execute_result"
    }
   ],
   "source": [
    "student[-3:]"
   ]
  },
  {
   "cell_type": "code",
   "execution_count": null,
   "id": "5fea1360",
   "metadata": {},
   "outputs": [],
   "source": []
  },
  {
   "cell_type": "markdown",
   "id": "8a7eb52a",
   "metadata": {},
   "source": [
    "![](images/movies_rating.png)\n"
   ]
  },
  {
   "cell_type": "markdown",
   "id": "341eba34",
   "metadata": {},
   "source": [
    "#### Question \n",
    "**For Titanic, Meet Joe Black, and The Tourist, use indexing to retrieve multiple list elements. Each list should contain the name of the movie, the reviews count (review_count_tot), and the movie rating (movie_rating). Don't forget that indexing starts at 0.**\n",
    "<ol>\n",
    "<li>For Titanic, assign the list to a variable named titanic_rating_data.</li>\n",
    "<li>For Meet Joe Black, assign the list to a variable named mjb_rating_data.</li>\n",
    "<li>For The Tourist movie, assign the list to a variable named tourist_rating_data.</li>\n",
    "<li>Calculate the average user rating for Titanic, Meet Joe Black, and The Tourist using the data you stored in titanic_rating_data, mjb_rating_data, and tourist_rating_data.</li>\n",
    "<li>Add the three movie ratings together and save the sum to a variable named total_ratings. Use indexing to specify the list element for movie rating.</li>\n",
    "<li>Divide the total by 3 to get the average rating. Assign the result to a variable named average_rating.</li>\n",
    "</ol>\n"
   ]
  },
  {
   "cell_type": "code",
   "execution_count": 5,
   "id": "21dd315c",
   "metadata": {},
   "outputs": [],
   "source": [
    "titanic_movie = ['Titanic', 'Leonardo Decaprio', '1997', 1169835, 7.9]\n",
    "jb_movie = ['Met Joe Black', 'Brad Pit', '1998', 243882, 7.3]\n",
    "eot_movie = ['Edge of Tomorrow', 'Tom Cruise', '2014', 678775, 7.9]\n",
    "ce_movie = ['Chennai Express', 'Sharukh Khan', '2013', 55643, 6.0]\n",
    "tourist_movie = ['The Tourist', 'Johnny Deep', '2010', 244817, 6.0]\n"
   ]
  },
  {
   "cell_type": "code",
   "execution_count": 7,
   "id": "d777fb35",
   "metadata": {},
   "outputs": [
    {
     "name": "stdout",
     "output_type": "stream",
     "text": [
      "['Titanic', 1169835, 7.9]\n",
      "['Met Joe Black', 243882, 7.3]\n",
      "['The Tourist', 244817, 6.0]\n"
     ]
    }
   ],
   "source": [
    "titanic_rating_data = [titanic_movie[0], titanic_movie[-2], titanic_movie[-1]]\n",
    "print(titanic_rating_data)\n",
    "mjb_rating_data = [jb_movie[0], jb_movie[-2], jb_movie[-1]]\n",
    "print(mjb_rating_data)\n",
    "tourist_rating_data = [tourist_movie[0], tourist_movie[-2], tourist_movie[-1]]\n",
    "print(tourist_rating_data)"
   ]
  },
  {
   "cell_type": "code",
   "execution_count": 8,
   "id": "603f9549",
   "metadata": {},
   "outputs": [
    {
     "name": "stdout",
     "output_type": "stream",
     "text": [
      "21.2\n"
     ]
    }
   ],
   "source": [
    "total_ratings = titanic_rating_data[-1] + mjb_rating_data[-1] + tourist_rating_data[-1]\n",
    "print(total_ratings)"
   ]
  },
  {
   "cell_type": "code",
   "execution_count": 9,
   "id": "063247da",
   "metadata": {},
   "outputs": [
    {
     "name": "stdout",
     "output_type": "stream",
     "text": [
      "7.066666666666666\n"
     ]
    }
   ],
   "source": [
    "average_ratings = total_ratings/3\n",
    "print(average_ratings)"
   ]
  },
  {
   "cell_type": "markdown",
   "id": "f7c94a55",
   "metadata": {},
   "source": [
    "#### List Slicing\n",
    "\n",
    "<li>We can also retrieve the first n list elements of a list by using syntax shortcuts instead of selecting element by element.</li>\n",
    "\n",
    "<li>When we selected the first three elements, we sliced a part of the list. For this reason, we call the process of selecting a part of a list <b>list slicing.</b></li>"
   ]
  },
  {
   "cell_type": "code",
   "execution_count": 15,
   "id": "465f9cb9",
   "metadata": {},
   "outputs": [
    {
     "name": "stdout",
     "output_type": "stream",
     "text": [
      "['1997', 1169835, 7.9]\n"
     ]
    }
   ],
   "source": [
    "titanic_movie_last3 = titanic_movie[-3:]\n",
    "print(titanic_movie_last3)"
   ]
  },
  {
   "cell_type": "code",
   "execution_count": 17,
   "id": "ea6d6baf",
   "metadata": {},
   "outputs": [
    {
     "data": {
      "text/plain": [
       "['Chennai Express', 6.0]"
      ]
     },
     "execution_count": 17,
     "metadata": {},
     "output_type": "execute_result"
    }
   ],
   "source": [
    "ce_movie[0:5:4]"
   ]
  },
  {
   "cell_type": "code",
   "execution_count": null,
   "id": "1dae160e",
   "metadata": {},
   "outputs": [],
   "source": [
    "[start: end: step]"
   ]
  },
  {
   "cell_type": "code",
   "execution_count": 10,
   "id": "4f183759",
   "metadata": {},
   "outputs": [],
   "source": [
    "list1 = [1,2,3,4,5,6,7,8,9,10]"
   ]
  },
  {
   "cell_type": "code",
   "execution_count": 14,
   "id": "fbe765fe",
   "metadata": {},
   "outputs": [
    {
     "data": {
      "text/plain": [
       "[2, 4, 6, 8, 10]"
      ]
     },
     "execution_count": 14,
     "metadata": {},
     "output_type": "execute_result"
    }
   ],
   "source": [
    "list1[1:11:2]"
   ]
  },
  {
   "cell_type": "markdown",
   "id": "d715c2a3",
   "metadata": {},
   "source": [
    "**To retrieve any list slice we want, we do the following:**\n",
    "\n",
    "<li>We identify the first and the last element of the slice.\n",
    "<li>We identify the index numbers of the first and the last element of the slice.\n",
    "<li>We retrieve the list slice we want by using the syntax a_list[m:n], where the following are true:</li>\n",
    "\n",
    "<ol>\n",
    "    \n",
    "<li>m represents the index number of the first element of the slice.</li>\n",
    "<li>n represents the index number of the last element of the slice plus one (if the last element has the index number 2, then n will be 3, if the last element has the index number 4, then n will be 5, and so on).</li>\n",
    "\n",
    "</ol>"
   ]
  },
  {
   "cell_type": "code",
   "execution_count": null,
   "id": "69338fd8",
   "metadata": {},
   "outputs": [],
   "source": []
  },
  {
   "cell_type": "code",
   "execution_count": null,
   "id": "aa42d606",
   "metadata": {},
   "outputs": [],
   "source": []
  },
  {
   "cell_type": "markdown",
   "id": "d7f10a92",
   "metadata": {},
   "source": [
    "<!-- #### Question\n",
    "\n",
    "<li>Select the last three elements from row_1 using a list slicing syntax shortcut. Assign the output to a variable named last_3_fb.</li>\n",
    "\n",
    "<li>From row_5, select the list slice ['USD', 522012] using a list slicing syntax shortcut. Assign the output to a variable named minecraft_3_4.</li>\n",
    "\n",
    "<li>Print last_3_fb and minecraft_3_4 to see the results.</li> -->"
   ]
  },
  {
   "cell_type": "code",
   "execution_count": 18,
   "id": "f892e962",
   "metadata": {},
   "outputs": [],
   "source": [
    "titanic_movie = ['Titanic', 'Leonardo Decaprio', '1997', 1169835, 7.9]\n",
    "jb_movie = ['Met Joe Black', 'Brad Pit', '1998', 243882, 7.3]\n",
    "eot_movie = ['Edge of Tomorrow', 'Tom Cruise', '2014', 678775, 7.9]\n",
    "ce_movie = ['Chennai Express', 'Sharukh Khan', '2013', 55643, 6.0]\n",
    "tourist_movie = ['The Tourist', 'Johnny Deep', '2010', 244817, 6.0]\n"
   ]
  },
  {
   "cell_type": "code",
   "execution_count": 19,
   "id": "db0156c7",
   "metadata": {},
   "outputs": [
    {
     "data": {
      "text/plain": [
       "['Titanic', 'Leonardo Decaprio', '1997']"
      ]
     },
     "execution_count": 19,
     "metadata": {},
     "output_type": "execute_result"
    }
   ],
   "source": [
    "titanic_movie[:3]"
   ]
  },
  {
   "cell_type": "code",
   "execution_count": 20,
   "id": "aedbb492",
   "metadata": {},
   "outputs": [
    {
     "data": {
      "text/plain": [
       "['Brad Pit', '1998', 243882]"
      ]
     },
     "execution_count": 20,
     "metadata": {},
     "output_type": "execute_result"
    }
   ],
   "source": [
    "jb_movie[1:4]"
   ]
  },
  {
   "cell_type": "code",
   "execution_count": 21,
   "id": "e648c864",
   "metadata": {},
   "outputs": [
    {
     "data": {
      "text/plain": [
       "['2014', 678775, 7.9]"
      ]
     },
     "execution_count": 21,
     "metadata": {},
     "output_type": "execute_result"
    }
   ],
   "source": [
    "eot_movie[-3:]"
   ]
  },
  {
   "cell_type": "markdown",
   "id": "b1671e03",
   "metadata": {},
   "source": [
    "#### Lists Of Lists\n",
    "\n",
    "<li>A list that contains other lists is called a list of lists.</li>\n",
    "<li>If we want to store the student profile in a dataset, we can store the values in a list of list.</li>"
   ]
  },
  {
   "cell_type": "code",
   "execution_count": 22,
   "id": "d67dda40",
   "metadata": {},
   "outputs": [],
   "source": [
    "student_1 = ['Ram', 'male',23, 'B.C.A', 'Seventh Semester']\n",
    "student_2 = ['Shyam','male',21,'B.C.A', 'Fifth Semester']\n",
    "student_3 = ['Abhishek','male',22, 'B.Sc.Cs.It', 'Seventh Semester']\n",
    "student_4 = ['Mahima','female',20, 'B.Sc.Cs.It', 'Fifth Semester']\n",
    "student_5 = ['Sanjana','female',22, 'B.Sc.Cs.It', 'Seventh Semester']"
   ]
  },
  {
   "cell_type": "code",
   "execution_count": 23,
   "id": "0c0c9452",
   "metadata": {},
   "outputs": [
    {
     "name": "stdout",
     "output_type": "stream",
     "text": [
      "[['Ram', 'male', 23, 'B.C.A', 'Seventh Semester'], ['Shyam', 'male', 21, 'B.C.A', 'Fifth Semester'], ['Abhishek', 'male', 22, 'B.Sc.Cs.It', 'Seventh Semester'], ['Mahima', 'female', 20, 'B.Sc.Cs.It', 'Fifth Semester'], ['Sanjana', 'female', 22, 'B.Sc.Cs.It', 'Seventh Semester']]\n"
     ]
    }
   ],
   "source": [
    "student_datasets = [student_1, student_2, student_3, student_4, student_5]\n",
    "print(student_datasets)"
   ]
  },
  {
   "cell_type": "code",
   "execution_count": null,
   "id": "e97cc5f2",
   "metadata": {},
   "outputs": [],
   "source": []
  },
  {
   "cell_type": "markdown",
   "id": "592d0c72",
   "metadata": {},
   "source": [
    "#### Question\n",
    "\n",
    "<ol>\n",
    "    \n",
    "<li>Create a new list of lists that stores the lists (rows) for the students that are currently studying in the fifth semester of their bachelor studies.</li>\n",
    "\n",
    "<li>Create another new list of lists that stores the list(rows) for all female students.</li>\n",
    "    \n",
    "</ol>"
   ]
  },
  {
   "cell_type": "code",
   "execution_count": 24,
   "id": "6cdc5bf9",
   "metadata": {},
   "outputs": [
    {
     "name": "stdout",
     "output_type": "stream",
     "text": [
      "[['Shyam', 'male', 21, 'B.C.A', 'Fifth Semester'], ['Mahima', 'female', 20, 'B.Sc.Cs.It', 'Fifth Semester']]\n"
     ]
    }
   ],
   "source": [
    "fifth_sem_std  = [student_2, student_4]\n",
    "print(fifth_sem_std)"
   ]
  },
  {
   "cell_type": "code",
   "execution_count": 25,
   "id": "881c1f06",
   "metadata": {},
   "outputs": [
    {
     "name": "stdout",
     "output_type": "stream",
     "text": [
      "[['Mahima', 'female', 20, 'B.Sc.Cs.It', 'Fifth Semester'], ['Sanjana', 'female', 22, 'B.Sc.Cs.It', 'Seventh Semester']]\n"
     ]
    }
   ],
   "source": [
    "female_std = [student_4, student_5]\n",
    "print(female_std)"
   ]
  },
  {
   "cell_type": "code",
   "execution_count": 35,
   "id": "c915b212",
   "metadata": {},
   "outputs": [
    {
     "data": {
      "text/plain": [
       "20"
      ]
     },
     "execution_count": 35,
     "metadata": {},
     "output_type": "execute_result"
    }
   ],
   "source": [
    "female_std[0][2]"
   ]
  },
  {
   "cell_type": "code",
   "execution_count": 36,
   "id": "732f8730",
   "metadata": {},
   "outputs": [
    {
     "data": {
      "text/plain": [
       "'Seventh Semester'"
      ]
     },
     "execution_count": 36,
     "metadata": {},
     "output_type": "execute_result"
    }
   ],
   "source": [
    "female_std[1][-1]"
   ]
  },
  {
   "cell_type": "markdown",
   "id": "d4e79065",
   "metadata": {},
   "source": [
    "### Retriving Elements From List Of Lists\n",
    "\n",
    "<li>Lists of lists are still a list, which means we can retrieve individual list elements and perform list slicing using the syntax we learned.</li>"
   ]
  },
  {
   "cell_type": "code",
   "execution_count": 26,
   "id": "2b9ee775",
   "metadata": {},
   "outputs": [],
   "source": [
    "fruits_dataset = [[\"Banana\", \"1 dozen\", 85], [\"Pineapple\", \"1 Kg\", 140],\n",
    "                  [\"Apple\", \"1 Kg\", 220], ['Orange', \"1 Kg\", 120]]"
   ]
  },
  {
   "cell_type": "code",
   "execution_count": 31,
   "id": "0ef84e62",
   "metadata": {},
   "outputs": [
    {
     "data": {
      "text/plain": [
       "85"
      ]
     },
     "execution_count": 31,
     "metadata": {},
     "output_type": "execute_result"
    }
   ],
   "source": [
    "fruits_dataset[0][-1]"
   ]
  },
  {
   "cell_type": "code",
   "execution_count": 32,
   "id": "ecfbb985",
   "metadata": {},
   "outputs": [
    {
     "data": {
      "text/plain": [
       "'Pineapple'"
      ]
     },
     "execution_count": 32,
     "metadata": {},
     "output_type": "execute_result"
    }
   ],
   "source": [
    "fruits_dataset[1][0]"
   ]
  },
  {
   "cell_type": "code",
   "execution_count": 33,
   "id": "a6e07c10",
   "metadata": {},
   "outputs": [
    {
     "data": {
      "text/plain": [
       "'1 Kg'"
      ]
     },
     "execution_count": 33,
     "metadata": {},
     "output_type": "execute_result"
    }
   ],
   "source": [
    "fruits_dataset[2][1]"
   ]
  },
  {
   "cell_type": "code",
   "execution_count": 34,
   "id": "e6203cfb",
   "metadata": {},
   "outputs": [
    {
     "data": {
      "text/plain": [
       "120"
      ]
     },
     "execution_count": 34,
     "metadata": {},
     "output_type": "execute_result"
    }
   ],
   "source": [
    "fruits_dataset[-1][-1]"
   ]
  },
  {
   "cell_type": "code",
   "execution_count": null,
   "id": "8212807c",
   "metadata": {},
   "outputs": [],
   "source": []
  },
  {
   "cell_type": "markdown",
   "id": "23646790",
   "metadata": {},
   "source": [
    "#### Question\n",
    "\n",
    "student_1 = ['Ram', 'male',23, 'B.C.A', 'Seventh Semester']\n",
    "\n",
    "student_2 = ['Shyam','male',21,'B.C.A', 'Fifth Semester']\n",
    "\n",
    "student_3 = ['Abhishek','male',22, 'B.Sc.Cs.It', 'Seventh Semester']\n",
    "\n",
    "student_4 = ['Mahima','female',20, 'B.Sc.Cs.It', 'Fifth Semester']\n",
    "\n",
    "student_5 = ['Sanjana','female',22. 'B.Sc.Cs.It', 'Seventh Semester']\n",
    "\n",
    "<br>\n",
    "\n",
    "<li>Group the above five lists of students together in a list of lists. Assign the resulting list of lists to a variable named students_dataset.</li>\n",
    "<li>Calculate the average <b>age</b> of the students by retrieving the right data points from the app_data_set list of lists.</li>\n",
    "\n",
    "<li><b>'Age'</b> is the third element of each row. You'll need to add up the <b>age</b> and then divide by the number of rows.\n",
    "Assign the result to a variable named avg_age.</li>"
   ]
  },
  {
   "cell_type": "code",
   "execution_count": 37,
   "id": "4cfb296f",
   "metadata": {},
   "outputs": [],
   "source": [
    "student_1 = ['Ram', 'male',23, 'B.C.A', 'Seventh Semester']\n",
    "student_2 = ['Shyam','male',21,'B.C.A', 'Fifth Semester']\n",
    "student_3 = ['Abhishek','male',22, 'B.Sc.Cs.It', 'Seventh Semester']\n",
    "student_4 = ['Mahima','female',20, 'B.Sc.Cs.It', 'Fifth Semester']\n",
    "student_5 = ['Sanjana','female',22, 'B.Sc.Cs.It', 'Seventh Semester']"
   ]
  },
  {
   "cell_type": "code",
   "execution_count": 38,
   "id": "431e710a",
   "metadata": {},
   "outputs": [
    {
     "name": "stdout",
     "output_type": "stream",
     "text": [
      "[['Ram', 'male', 23, 'B.C.A', 'Seventh Semester'], ['Shyam', 'male', 21, 'B.C.A', 'Fifth Semester'], ['Abhishek', 'male', 22, 'B.Sc.Cs.It', 'Seventh Semester'], ['Mahima', 'female', 20, 'B.Sc.Cs.It', 'Fifth Semester'], ['Sanjana', 'female', 22, 'B.Sc.Cs.It', 'Seventh Semester']]\n"
     ]
    }
   ],
   "source": [
    "student_datasets = [student_1, student_2, student_3, student_4, student_5]\n",
    "print(student_datasets)"
   ]
  },
  {
   "cell_type": "code",
   "execution_count": 42,
   "id": "533ac41c",
   "metadata": {},
   "outputs": [],
   "source": [
    "total_age = student_datasets[0][2] + student_datasets[1][2] + \\\n",
    "student_datasets[2][2] + student_datasets[3][2] + student_datasets[4][2]"
   ]
  },
  {
   "cell_type": "code",
   "execution_count": 45,
   "id": "ffb2b907",
   "metadata": {},
   "outputs": [
    {
     "name": "stdout",
     "output_type": "stream",
     "text": [
      "21.6\n"
     ]
    }
   ],
   "source": [
    "average_age = total_age/len(student_datasets)\n",
    "print(average_age)"
   ]
  },
  {
   "cell_type": "markdown",
   "id": "ac922bc0",
   "metadata": {},
   "source": [
    "#### List Concatenation Methods\n",
    "<ol>\n",
    "<li>We can use the '+' operator to concatenate multiple lists and create a new list.</li>\n",
    "<li>We can use '*' operator if we want to repeat the elements of a list for <b>n</b> number of times.</li>\n",
    "<li>insert(): It inserts the element before the given index.</li>\n",
    "<li>append(): It append the elements to the end of the list.</li>\n",
    "<li>extend(): It extends the list by appending elements from the iterable.</li>\n",
    "</ol>"
   ]
  },
  {
   "cell_type": "code",
   "execution_count": 46,
   "id": "b397ce78",
   "metadata": {},
   "outputs": [],
   "source": [
    "list1 = [1,2,3,4]\n",
    "list2 = [5,6,7,8]"
   ]
  },
  {
   "cell_type": "code",
   "execution_count": 47,
   "id": "e0634f2b",
   "metadata": {},
   "outputs": [
    {
     "name": "stdout",
     "output_type": "stream",
     "text": [
      "[1, 2, 3, 4, 5, 6, 7, 8]\n"
     ]
    }
   ],
   "source": [
    "list3 = list1 + list2\n",
    "print(list3)"
   ]
  },
  {
   "cell_type": "code",
   "execution_count": 48,
   "id": "6b9a4602",
   "metadata": {},
   "outputs": [
    {
     "name": "stdout",
     "output_type": "stream",
     "text": [
      "[1, 2, 3, 4, 1, 2, 3, 4, 1, 2, 3, 4]\n"
     ]
    }
   ],
   "source": [
    "list4 = list1 * 3\n",
    "print(list4)"
   ]
  },
  {
   "cell_type": "code",
   "execution_count": 49,
   "id": "6c309e6c",
   "metadata": {},
   "outputs": [],
   "source": [
    "list5 = [1,2,3,5,6,7]"
   ]
  },
  {
   "cell_type": "code",
   "execution_count": 50,
   "id": "7621e0dd",
   "metadata": {},
   "outputs": [],
   "source": [
    "list5.insert(3, 4)"
   ]
  },
  {
   "cell_type": "code",
   "execution_count": 51,
   "id": "c3870fe3",
   "metadata": {},
   "outputs": [
    {
     "data": {
      "text/plain": [
       "[1, 2, 3, 4, 5, 6, 7]"
      ]
     },
     "execution_count": 51,
     "metadata": {},
     "output_type": "execute_result"
    }
   ],
   "source": [
    "list5"
   ]
  },
  {
   "cell_type": "code",
   "execution_count": 53,
   "id": "f1e2c74b",
   "metadata": {},
   "outputs": [],
   "source": [
    "list5.insert(2, [3,3])"
   ]
  },
  {
   "cell_type": "code",
   "execution_count": 54,
   "id": "f618ded8",
   "metadata": {},
   "outputs": [
    {
     "data": {
      "text/plain": [
       "[1, 2, [3, 3], 3, 4, 5, 6, 7]"
      ]
     },
     "execution_count": 54,
     "metadata": {},
     "output_type": "execute_result"
    }
   ],
   "source": [
    "list5"
   ]
  },
  {
   "cell_type": "markdown",
   "id": "c02c24d4",
   "metadata": {},
   "source": [
    "**<li>While inserting into a list, you must specify index position as a first parameter and then value as another parameter.</li>**"
   ]
  },
  {
   "cell_type": "code",
   "execution_count": 55,
   "id": "2b3dd6b8",
   "metadata": {},
   "outputs": [],
   "source": [
    "list6 = [9,8,7,6]"
   ]
  },
  {
   "cell_type": "code",
   "execution_count": 56,
   "id": "5fb1f7f4",
   "metadata": {},
   "outputs": [],
   "source": [
    "list6.append(5)"
   ]
  },
  {
   "cell_type": "code",
   "execution_count": 57,
   "id": "c3b731aa",
   "metadata": {},
   "outputs": [
    {
     "data": {
      "text/plain": [
       "[9, 8, 7, 6, 5]"
      ]
     },
     "execution_count": 57,
     "metadata": {},
     "output_type": "execute_result"
    }
   ],
   "source": [
    "list6"
   ]
  },
  {
   "cell_type": "code",
   "execution_count": 58,
   "id": "bf02864d",
   "metadata": {},
   "outputs": [],
   "source": [
    "list7 = [3,4,5]\n",
    "list8 = [6,7,8]"
   ]
  },
  {
   "cell_type": "code",
   "execution_count": 59,
   "id": "ea010d0b",
   "metadata": {},
   "outputs": [],
   "source": [
    "list7.extend(list8)"
   ]
  },
  {
   "cell_type": "code",
   "execution_count": 60,
   "id": "8a957026",
   "metadata": {},
   "outputs": [
    {
     "data": {
      "text/plain": [
       "[3, 4, 5, 6, 7, 8]"
      ]
     },
     "execution_count": 60,
     "metadata": {},
     "output_type": "execute_result"
    }
   ],
   "source": [
    "list7"
   ]
  },
  {
   "cell_type": "code",
   "execution_count": null,
   "id": "47323677",
   "metadata": {},
   "outputs": [],
   "source": []
  },
  {
   "cell_type": "code",
   "execution_count": null,
   "id": "aff1ab00",
   "metadata": {},
   "outputs": [],
   "source": []
  },
  {
   "cell_type": "code",
   "execution_count": null,
   "id": "4f938e12",
   "metadata": {},
   "outputs": [],
   "source": []
  },
  {
   "cell_type": "markdown",
   "id": "e57303b4",
   "metadata": {},
   "source": [
    "#### How To Delete Elements From A List\n",
    "<ol>\n",
    "    <li>remove(): It removes the elements based on the values of an element.</li>\n",
    "    <li>pop(): It removes the elements based on the index value of an element.</li>\n",
    "    <li>del[]: It also removes the elements based on the index value of an element.</li>\n",
    "    <li>clear(): delete all elements from a list and make them empty</li>\n",
    "</ol>"
   ]
  },
  {
   "cell_type": "code",
   "execution_count": 1,
   "id": "b58f649f",
   "metadata": {},
   "outputs": [],
   "source": [
    "list1 = [1,2,3,4,5,6]"
   ]
  },
  {
   "cell_type": "code",
   "execution_count": 2,
   "id": "0ee4a8d2",
   "metadata": {},
   "outputs": [],
   "source": [
    "list1.remove(4)"
   ]
  },
  {
   "cell_type": "code",
   "execution_count": 3,
   "id": "cd81e76f",
   "metadata": {},
   "outputs": [
    {
     "data": {
      "text/plain": [
       "[1, 2, 3, 5, 6]"
      ]
     },
     "execution_count": 3,
     "metadata": {},
     "output_type": "execute_result"
    }
   ],
   "source": [
    "list1"
   ]
  },
  {
   "cell_type": "code",
   "execution_count": 4,
   "id": "8164b18f",
   "metadata": {},
   "outputs": [
    {
     "data": {
      "text/plain": [
       "3"
      ]
     },
     "execution_count": 4,
     "metadata": {},
     "output_type": "execute_result"
    }
   ],
   "source": [
    "list1.index(5)"
   ]
  },
  {
   "cell_type": "code",
   "execution_count": 5,
   "id": "da3c4c8b",
   "metadata": {},
   "outputs": [
    {
     "data": {
      "text/plain": [
       "5"
      ]
     },
     "execution_count": 5,
     "metadata": {},
     "output_type": "execute_result"
    }
   ],
   "source": [
    "list1.pop(3)"
   ]
  },
  {
   "cell_type": "code",
   "execution_count": 6,
   "id": "fbc30863",
   "metadata": {},
   "outputs": [
    {
     "data": {
      "text/plain": [
       "[1, 2, 3, 6]"
      ]
     },
     "execution_count": 6,
     "metadata": {},
     "output_type": "execute_result"
    }
   ],
   "source": [
    "list1"
   ]
  },
  {
   "cell_type": "code",
   "execution_count": 7,
   "id": "71ae98be",
   "metadata": {},
   "outputs": [
    {
     "data": {
      "text/plain": [
       "1"
      ]
     },
     "execution_count": 7,
     "metadata": {},
     "output_type": "execute_result"
    }
   ],
   "source": [
    "list1.index(2)"
   ]
  },
  {
   "cell_type": "code",
   "execution_count": 8,
   "id": "c28c6c54",
   "metadata": {},
   "outputs": [],
   "source": [
    "del list1[1]"
   ]
  },
  {
   "cell_type": "code",
   "execution_count": 9,
   "id": "9baedcc4",
   "metadata": {},
   "outputs": [
    {
     "data": {
      "text/plain": [
       "[1, 3, 6]"
      ]
     },
     "execution_count": 9,
     "metadata": {},
     "output_type": "execute_result"
    }
   ],
   "source": [
    "list1"
   ]
  },
  {
   "cell_type": "code",
   "execution_count": 10,
   "id": "f703f019",
   "metadata": {},
   "outputs": [
    {
     "data": {
      "text/plain": [
       "3"
      ]
     },
     "execution_count": 10,
     "metadata": {},
     "output_type": "execute_result"
    }
   ],
   "source": [
    "len(list1)"
   ]
  },
  {
   "cell_type": "code",
   "execution_count": 11,
   "id": "964270f4",
   "metadata": {},
   "outputs": [],
   "source": [
    "list1.clear()"
   ]
  },
  {
   "cell_type": "code",
   "execution_count": 12,
   "id": "119fd8b4",
   "metadata": {},
   "outputs": [
    {
     "data": {
      "text/plain": [
       "[]"
      ]
     },
     "execution_count": 12,
     "metadata": {},
     "output_type": "execute_result"
    }
   ],
   "source": [
    "list1"
   ]
  },
  {
   "cell_type": "code",
   "execution_count": 13,
   "id": "ca9724c4",
   "metadata": {},
   "outputs": [
    {
     "data": {
      "text/plain": [
       "0"
      ]
     },
     "execution_count": 13,
     "metadata": {},
     "output_type": "execute_result"
    }
   ],
   "source": [
    "len(list1)"
   ]
  },
  {
   "cell_type": "code",
   "execution_count": 14,
   "id": "b00172fb",
   "metadata": {},
   "outputs": [],
   "source": [
    "list2 = [1,2,3,4,6,3,7]"
   ]
  },
  {
   "cell_type": "code",
   "execution_count": 15,
   "id": "d45202c0",
   "metadata": {},
   "outputs": [],
   "source": [
    "list2.remove(3)"
   ]
  },
  {
   "cell_type": "code",
   "execution_count": 16,
   "id": "bfe44668",
   "metadata": {},
   "outputs": [
    {
     "data": {
      "text/plain": [
       "[1, 2, 4, 6, 3, 7]"
      ]
     },
     "execution_count": 16,
     "metadata": {},
     "output_type": "execute_result"
    }
   ],
   "source": [
    "list2"
   ]
  },
  {
   "cell_type": "markdown",
   "id": "87d2f4e9",
   "metadata": {},
   "source": [
    "#### Tuples\n",
    "\n",
    "<li>Tuples are used to store multiple items in a single variable.</li>\n",
    "\n",
    "<li>Tuples are written with round brackets.</li>\n",
    "\n",
    "\n",
    "<li>Tuple items are indexed, the first item has index [0], the second item has index [1] etc.</li>\n",
    "\n",
    "<li>Tuples are ordered, unchangeable, and allow duplicate values.</li>\n",
    "\n",
    "<li>When we say that tuples are ordered, it means that the items have a defined order, and that order will not change.</li>\n",
    "\n",
    "<li>Tuples are unchangeable, meaning that we cannot change, the value of items after the tuple has been created.</li>\n",
    "\n",
    "<li>Since tuples are indexed, they can have items with the same value.</li>\n",
    "\n",
    "<li>You can't add elements to a tuple because of their immutable property. There's no append() or extend() method for tuples.</li>\n",
    "\n",
    "<li>You can't remove elements from a tuple, also because of their immutability. Tuples have no remove() or pop() method.</li>\n"
   ]
  },
  {
   "cell_type": "code",
   "execution_count": 17,
   "id": "e59cc411",
   "metadata": {},
   "outputs": [],
   "source": [
    "tuple1 = (1,4,6,2,8,3)"
   ]
  },
  {
   "cell_type": "code",
   "execution_count": 18,
   "id": "41b9a2bb",
   "metadata": {},
   "outputs": [
    {
     "data": {
      "text/plain": [
       "1"
      ]
     },
     "execution_count": 18,
     "metadata": {},
     "output_type": "execute_result"
    }
   ],
   "source": [
    "tuple1[0]"
   ]
  },
  {
   "cell_type": "code",
   "execution_count": 19,
   "id": "228c57b1",
   "metadata": {},
   "outputs": [
    {
     "data": {
      "text/plain": [
       "4"
      ]
     },
     "execution_count": 19,
     "metadata": {},
     "output_type": "execute_result"
    }
   ],
   "source": [
    "tuple1[1]"
   ]
  },
  {
   "cell_type": "code",
   "execution_count": 20,
   "id": "a00f722f",
   "metadata": {},
   "outputs": [
    {
     "data": {
      "text/plain": [
       "6"
      ]
     },
     "execution_count": 20,
     "metadata": {},
     "output_type": "execute_result"
    }
   ],
   "source": [
    "tuple1[2]"
   ]
  },
  {
   "cell_type": "code",
   "execution_count": 22,
   "id": "0018da09",
   "metadata": {},
   "outputs": [
    {
     "data": {
      "text/plain": [
       "2"
      ]
     },
     "execution_count": 22,
     "metadata": {},
     "output_type": "execute_result"
    }
   ],
   "source": [
    "tuple1[3]"
   ]
  },
  {
   "cell_type": "code",
   "execution_count": 24,
   "id": "64d002b4",
   "metadata": {},
   "outputs": [
    {
     "data": {
      "text/plain": [
       "8"
      ]
     },
     "execution_count": 24,
     "metadata": {},
     "output_type": "execute_result"
    }
   ],
   "source": [
    "tuple1[4]"
   ]
  },
  {
   "cell_type": "code",
   "execution_count": null,
   "id": "b9279d3a",
   "metadata": {},
   "outputs": [],
   "source": []
  },
  {
   "cell_type": "markdown",
   "id": "00130e30",
   "metadata": {},
   "source": [
    "#### Slicing In Tuples\n",
    "<li>Like in list, we can also perform slicing operation in tuples to extract sequence of elements or values from a tuple.</li>"
   ]
  },
  {
   "cell_type": "code",
   "execution_count": 25,
   "id": "0df51763",
   "metadata": {},
   "outputs": [
    {
     "data": {
      "text/plain": [
       "(1, 4, 6, 2, 8, 3)"
      ]
     },
     "execution_count": 25,
     "metadata": {},
     "output_type": "execute_result"
    }
   ],
   "source": [
    "tuple1"
   ]
  },
  {
   "cell_type": "code",
   "execution_count": 26,
   "id": "1338e8f3",
   "metadata": {},
   "outputs": [
    {
     "data": {
      "text/plain": [
       "(1, 4, 6)"
      ]
     },
     "execution_count": 26,
     "metadata": {},
     "output_type": "execute_result"
    }
   ],
   "source": [
    "tuple1[:3]"
   ]
  },
  {
   "cell_type": "code",
   "execution_count": 27,
   "id": "d58af769",
   "metadata": {},
   "outputs": [
    {
     "data": {
      "text/plain": [
       "(2, 8, 3)"
      ]
     },
     "execution_count": 27,
     "metadata": {},
     "output_type": "execute_result"
    }
   ],
   "source": [
    "tuple1[-3:]"
   ]
  },
  {
   "cell_type": "code",
   "execution_count": 29,
   "id": "b9d139d9",
   "metadata": {},
   "outputs": [],
   "source": [
    "tuple2 = (1,2,3,4,5,6,7,8,9,10)"
   ]
  },
  {
   "cell_type": "code",
   "execution_count": 30,
   "id": "5e15e636",
   "metadata": {},
   "outputs": [
    {
     "data": {
      "text/plain": [
       "(3, 6, 9)"
      ]
     },
     "execution_count": 30,
     "metadata": {},
     "output_type": "execute_result"
    }
   ],
   "source": [
    "tuple2[2::3]"
   ]
  },
  {
   "cell_type": "code",
   "execution_count": 31,
   "id": "7892e7d3",
   "metadata": {},
   "outputs": [],
   "source": [
    "list2 = [1,2,3,4,5,6,7,8,9,10]"
   ]
  },
  {
   "cell_type": "code",
   "execution_count": 32,
   "id": "76b7a61d",
   "metadata": {},
   "outputs": [],
   "source": [
    "list2[3] = 40"
   ]
  },
  {
   "cell_type": "code",
   "execution_count": 33,
   "id": "cbd6a18d",
   "metadata": {},
   "outputs": [
    {
     "data": {
      "text/plain": [
       "[1, 2, 3, 40, 5, 6, 7, 8, 9, 10]"
      ]
     },
     "execution_count": 33,
     "metadata": {},
     "output_type": "execute_result"
    }
   ],
   "source": [
    "list2"
   ]
  },
  {
   "cell_type": "code",
   "execution_count": 35,
   "id": "bb258be7",
   "metadata": {},
   "outputs": [
    {
     "name": "stdout",
     "output_type": "stream",
     "text": [
      "[1, 2, 3, 4, 5, 6, 7, 8, 9, 10]\n",
      "<class 'list'>\n"
     ]
    }
   ],
   "source": [
    "listfromtuple2 = list(tuple2)\n",
    "print(listfromtuple2)\n",
    "print(type(listfromtuple2))"
   ]
  },
  {
   "cell_type": "code",
   "execution_count": 36,
   "id": "54d9ece4",
   "metadata": {},
   "outputs": [],
   "source": [
    "listfromtuple2[3] = 40"
   ]
  },
  {
   "cell_type": "code",
   "execution_count": 37,
   "id": "ba55ab90",
   "metadata": {},
   "outputs": [
    {
     "data": {
      "text/plain": [
       "[1, 2, 3, 40, 5, 6, 7, 8, 9, 10]"
      ]
     },
     "execution_count": 37,
     "metadata": {},
     "output_type": "execute_result"
    }
   ],
   "source": [
    "listfromtuple2"
   ]
  },
  {
   "cell_type": "code",
   "execution_count": 38,
   "id": "eb885535",
   "metadata": {},
   "outputs": [
    {
     "name": "stdout",
     "output_type": "stream",
     "text": [
      "(1, 2, 3, 40, 5, 6, 7, 8, 9, 10)\n",
      "<class 'tuple'>\n"
     ]
    }
   ],
   "source": [
    "tuple2 = tuple(listfromtuple2)\n",
    "print(tuple2)\n",
    "print(type(tuple2))"
   ]
  },
  {
   "cell_type": "code",
   "execution_count": null,
   "id": "503179d9",
   "metadata": {},
   "outputs": [],
   "source": []
  },
  {
   "cell_type": "code",
   "execution_count": null,
   "id": "68968c12",
   "metadata": {},
   "outputs": [],
   "source": []
  },
  {
   "cell_type": "markdown",
   "id": "8b7abf5d",
   "metadata": {},
   "source": [
    "#### How To Add New Elements To A Tuple (Concatenation In Tuple)"
   ]
  },
  {
   "cell_type": "markdown",
   "id": "4647bedf",
   "metadata": {},
   "source": [
    "<li>Tuples are immutable data structures in Python, so we can not add or delete the items from the tuples created in Python like lists there is no append() or extend() function.</li> \n",
    "<li>We can add new elements to a tuple by using a '+' operator.</li>\n",
    "<li>For adding multiple elements in a tuple, we can convert a tuple to a list for adding more than one items.</li>\n",
    "<li>We can also use * operator to add same elements multiple times in a tuple like in list.</li>"
   ]
  },
  {
   "cell_type": "code",
   "execution_count": 39,
   "id": "43011c48",
   "metadata": {},
   "outputs": [],
   "source": [
    "tuple1 = (1,2,3)\n",
    "tuple2 = (4, 5, 6)"
   ]
  },
  {
   "cell_type": "code",
   "execution_count": 40,
   "id": "d75dc7ab",
   "metadata": {},
   "outputs": [
    {
     "name": "stdout",
     "output_type": "stream",
     "text": [
      "(1, 2, 3, 4, 5, 6)\n"
     ]
    }
   ],
   "source": [
    "tuple3 = tuple1 + tuple2\n",
    "print(tuple3)"
   ]
  },
  {
   "cell_type": "code",
   "execution_count": 41,
   "id": "6e9ab60b",
   "metadata": {},
   "outputs": [
    {
     "name": "stdout",
     "output_type": "stream",
     "text": [
      "(1, 2, 3, 1, 2, 3, 1, 2, 3)\n"
     ]
    }
   ],
   "source": [
    "tuple4 = tuple1 * 3\n",
    "print(tuple4)"
   ]
  },
  {
   "cell_type": "markdown",
   "id": "2b782e84",
   "metadata": {},
   "source": [
    "#### count() and len()\n",
    "<li>We can calculate the frequency of an item that repeats more than one time in a tuple. For doing this, we can use count() function.</li>\n",
    "<li>Similarly, we can also calculate the no of items in a tuple by using len() function.</li>"
   ]
  },
  {
   "cell_type": "code",
   "execution_count": 42,
   "id": "9371de30",
   "metadata": {},
   "outputs": [],
   "source": [
    "tuple5 = (1,2,2,3,2,4,5)"
   ]
  },
  {
   "cell_type": "code",
   "execution_count": 43,
   "id": "8e112bb8",
   "metadata": {},
   "outputs": [
    {
     "data": {
      "text/plain": [
       "7"
      ]
     },
     "execution_count": 43,
     "metadata": {},
     "output_type": "execute_result"
    }
   ],
   "source": [
    "len(tuple5)"
   ]
  },
  {
   "cell_type": "code",
   "execution_count": 45,
   "id": "9f7cf5ec",
   "metadata": {},
   "outputs": [
    {
     "data": {
      "text/plain": [
       "3"
      ]
     },
     "execution_count": 45,
     "metadata": {},
     "output_type": "execute_result"
    }
   ],
   "source": [
    "tuple5.count(2)"
   ]
  },
  {
   "cell_type": "markdown",
   "id": "4b5e7732",
   "metadata": {},
   "source": [
    "#### Min, Max, Sum, Sorted (Functions)"
   ]
  },
  {
   "cell_type": "code",
   "execution_count": 46,
   "id": "293b6914",
   "metadata": {},
   "outputs": [],
   "source": [
    "tuple5 = (9,3,5,1,7,2,8)"
   ]
  },
  {
   "cell_type": "code",
   "execution_count": 47,
   "id": "fa5285b5",
   "metadata": {},
   "outputs": [
    {
     "data": {
      "text/plain": [
       "1"
      ]
     },
     "execution_count": 47,
     "metadata": {},
     "output_type": "execute_result"
    }
   ],
   "source": [
    "min(tuple5)"
   ]
  },
  {
   "cell_type": "code",
   "execution_count": 48,
   "id": "922df580",
   "metadata": {},
   "outputs": [
    {
     "data": {
      "text/plain": [
       "9"
      ]
     },
     "execution_count": 48,
     "metadata": {},
     "output_type": "execute_result"
    }
   ],
   "source": [
    "max(tuple5)"
   ]
  },
  {
   "cell_type": "code",
   "execution_count": 49,
   "id": "a42b4d5f",
   "metadata": {},
   "outputs": [
    {
     "data": {
      "text/plain": [
       "35"
      ]
     },
     "execution_count": 49,
     "metadata": {},
     "output_type": "execute_result"
    }
   ],
   "source": [
    "sum(tuple5)"
   ]
  },
  {
   "cell_type": "code",
   "execution_count": 51,
   "id": "fdb987b9",
   "metadata": {},
   "outputs": [
    {
     "name": "stdout",
     "output_type": "stream",
     "text": [
      "<class 'list'>\n"
     ]
    }
   ],
   "source": [
    "print(type(sorted(tuple5)))"
   ]
  },
  {
   "cell_type": "code",
   "execution_count": 52,
   "id": "c641d6ea",
   "metadata": {},
   "outputs": [
    {
     "data": {
      "text/plain": [
       "[1, 2, 3, 5, 7, 8, 9]"
      ]
     },
     "execution_count": 52,
     "metadata": {},
     "output_type": "execute_result"
    }
   ],
   "source": [
    "sorted(tuple5)"
   ]
  },
  {
   "cell_type": "markdown",
   "id": "a073df44",
   "metadata": {},
   "source": [
    "#### How To Delete Element From A Tuple"
   ]
  },
  {
   "cell_type": "code",
   "execution_count": 53,
   "id": "c50c6957",
   "metadata": {},
   "outputs": [
    {
     "data": {
      "text/plain": [
       "(9, 3, 5, 1, 7, 2, 8)"
      ]
     },
     "execution_count": 53,
     "metadata": {},
     "output_type": "execute_result"
    }
   ],
   "source": [
    "tuple5"
   ]
  },
  {
   "cell_type": "code",
   "execution_count": 54,
   "id": "e6137bc7",
   "metadata": {},
   "outputs": [],
   "source": [
    "del tuple5"
   ]
  },
  {
   "cell_type": "code",
   "execution_count": 55,
   "id": "810b509e",
   "metadata": {},
   "outputs": [
    {
     "ename": "NameError",
     "evalue": "name 'tuple5' is not defined",
     "output_type": "error",
     "traceback": [
      "\u001b[1;31m---------------------------------------------------------------------------\u001b[0m",
      "\u001b[1;31mNameError\u001b[0m                                 Traceback (most recent call last)",
      "Cell \u001b[1;32mIn[55], line 1\u001b[0m\n\u001b[1;32m----> 1\u001b[0m \u001b[43mtuple5\u001b[49m\n",
      "\u001b[1;31mNameError\u001b[0m: name 'tuple5' is not defined"
     ]
    }
   ],
   "source": [
    "tuple5"
   ]
  },
  {
   "cell_type": "markdown",
   "id": "02113ce8",
   "metadata": {},
   "source": [
    "#### Set \n",
    "<li>A Set is an unordered collection data type that is iterable, mutable, and has no duplicate elements.</li>\n",
    "<li>In set, we cannot perform indexing. First we have to convert that set into a list and then perform the indexing.</li>\n",
    "<li>We can use set.add() method to add any new elements to the set.</li>\n",
    "<li>We can typecast a set into a list.</li>"
   ]
  },
  {
   "cell_type": "code",
   "execution_count": 56,
   "id": "3731c454",
   "metadata": {},
   "outputs": [
    {
     "name": "stdout",
     "output_type": "stream",
     "text": [
      "{1, 3, 4, 5, 8}\n",
      "<class 'set'>\n"
     ]
    }
   ],
   "source": [
    "set1 = {3,4,5,1,8}\n",
    "print(set1)\n",
    "print(type(set1))"
   ]
  },
  {
   "cell_type": "code",
   "execution_count": 58,
   "id": "13cdf544",
   "metadata": {},
   "outputs": [],
   "source": [
    "set1tolist = list(set1)"
   ]
  },
  {
   "cell_type": "code",
   "execution_count": 59,
   "id": "094717b6",
   "metadata": {},
   "outputs": [
    {
     "data": {
      "text/plain": [
       "[1, 3, 4, 5, 8]"
      ]
     },
     "execution_count": 59,
     "metadata": {},
     "output_type": "execute_result"
    }
   ],
   "source": [
    "set1tolist"
   ]
  },
  {
   "cell_type": "code",
   "execution_count": 60,
   "id": "ff0c321e",
   "metadata": {},
   "outputs": [
    {
     "data": {
      "text/plain": [
       "8"
      ]
     },
     "execution_count": 60,
     "metadata": {},
     "output_type": "execute_result"
    }
   ],
   "source": [
    "set1tolist[-1]"
   ]
  },
  {
   "cell_type": "code",
   "execution_count": 61,
   "id": "74a1eda3",
   "metadata": {},
   "outputs": [
    {
     "name": "stdout",
     "output_type": "stream",
     "text": [
      "{2, 4, 5, 8, 9}\n",
      "<class 'set'>\n"
     ]
    }
   ],
   "source": [
    "set2 = {4,5,5,8,2,2,9}\n",
    "print(set2)\n",
    "print(type(set2))"
   ]
  },
  {
   "cell_type": "code",
   "execution_count": 62,
   "id": "882ef1e2",
   "metadata": {},
   "outputs": [
    {
     "name": "stdout",
     "output_type": "stream",
     "text": [
      "{1, 2, 3, 4, 7, 8}\n",
      "<class 'set'>\n"
     ]
    }
   ],
   "source": [
    "set3 = {8,4,2,7,2,3,8,1,2}\n",
    "print(set3)\n",
    "print(type(set3))"
   ]
  },
  {
   "cell_type": "markdown",
   "id": "119cd9c1",
   "metadata": {},
   "source": [
    "#### Set Operations\n",
    "\n",
    "<ol>\n",
    "<li><b>Insertion</b> : We can add new elements in a set by using <b>add()</b> method.Insertion in set is done through <b>set.add()</b> function.</li>\n",
    "    <li><b>Union</b> : Two sets can be merged using <b>union()</b> function or <b>|</b> operator. This operation combines the elements of two sets and removes the duplicate elements since duplication is not allowed in a set.</li>\n",
    "<li><b>Intersection</b>: This operation can be done through intersection() or & operator. Common Elements are selected.</li>\n",
    "<li><b>Set Difference</b>: To find difference in between sets, this can be done through difference() or – operator.</li>\n",
    "<li><b>Clear:</b>: Set <b>clear()</b> method empties the whole set inplace.</b>\n",
    "</ol>\n"
   ]
  },
  {
   "cell_type": "code",
   "execution_count": 63,
   "id": "0b2dc096",
   "metadata": {},
   "outputs": [
    {
     "name": "stdout",
     "output_type": "stream",
     "text": [
      "{2, 3, 4, 6, 7, 8, 9}\n"
     ]
    }
   ],
   "source": [
    "set1 = {4,7,2,9,3,8}\n",
    "set1.add(6)\n",
    "print(set1)"
   ]
  },
  {
   "cell_type": "code",
   "execution_count": 74,
   "id": "f9a7edcf",
   "metadata": {},
   "outputs": [],
   "source": [
    "set1 = {4,7,2,9,3,8}\n",
    "set2 = {5,8,11,10,0,12}"
   ]
  },
  {
   "cell_type": "code",
   "execution_count": 75,
   "id": "5c4ed389",
   "metadata": {},
   "outputs": [
    {
     "data": {
      "text/plain": [
       "{0, 2, 3, 4, 5, 7, 8, 9, 10, 11, 12}"
      ]
     },
     "execution_count": 75,
     "metadata": {},
     "output_type": "execute_result"
    }
   ],
   "source": [
    "set1 | set2"
   ]
  },
  {
   "cell_type": "code",
   "execution_count": 66,
   "id": "c2c72c77",
   "metadata": {},
   "outputs": [
    {
     "data": {
      "text/plain": [
       "{0, 2, 3, 4, 5, 7, 8, 9, 10, 11, 12}"
      ]
     },
     "execution_count": 66,
     "metadata": {},
     "output_type": "execute_result"
    }
   ],
   "source": [
    "set1.union(set2)"
   ]
  },
  {
   "cell_type": "code",
   "execution_count": 67,
   "id": "4f399a5e",
   "metadata": {},
   "outputs": [
    {
     "data": {
      "text/plain": [
       "{8}"
      ]
     },
     "execution_count": 67,
     "metadata": {},
     "output_type": "execute_result"
    }
   ],
   "source": [
    "set1.intersection(set2)"
   ]
  },
  {
   "cell_type": "code",
   "execution_count": 76,
   "id": "4402c60b",
   "metadata": {},
   "outputs": [
    {
     "data": {
      "text/plain": [
       "{8}"
      ]
     },
     "execution_count": 76,
     "metadata": {},
     "output_type": "execute_result"
    }
   ],
   "source": [
    "set1 & set2"
   ]
  },
  {
   "cell_type": "code",
   "execution_count": 68,
   "id": "3fc69ccd",
   "metadata": {},
   "outputs": [
    {
     "data": {
      "text/plain": [
       "{2, 3, 4, 7, 9}"
      ]
     },
     "execution_count": 68,
     "metadata": {},
     "output_type": "execute_result"
    }
   ],
   "source": [
    "set1.difference(set2)"
   ]
  },
  {
   "cell_type": "code",
   "execution_count": 77,
   "id": "ee47651d",
   "metadata": {},
   "outputs": [
    {
     "data": {
      "text/plain": [
       "{2, 3, 4, 7, 9}"
      ]
     },
     "execution_count": 77,
     "metadata": {},
     "output_type": "execute_result"
    }
   ],
   "source": [
    "set1 - set2"
   ]
  },
  {
   "cell_type": "code",
   "execution_count": 69,
   "id": "ea4051d1",
   "metadata": {},
   "outputs": [
    {
     "data": {
      "text/plain": [
       "{0, 5, 10, 11, 12}"
      ]
     },
     "execution_count": 69,
     "metadata": {},
     "output_type": "execute_result"
    }
   ],
   "source": [
    "set2.difference(set1)"
   ]
  },
  {
   "cell_type": "code",
   "execution_count": 78,
   "id": "94f16ae2",
   "metadata": {},
   "outputs": [
    {
     "data": {
      "text/plain": [
       "{0, 5, 10, 11, 12}"
      ]
     },
     "execution_count": 78,
     "metadata": {},
     "output_type": "execute_result"
    }
   ],
   "source": [
    "set2 - set1"
   ]
  },
  {
   "cell_type": "code",
   "execution_count": 70,
   "id": "6c2f023d",
   "metadata": {},
   "outputs": [],
   "source": [
    "set1.clear()"
   ]
  },
  {
   "cell_type": "code",
   "execution_count": 71,
   "id": "3c72b5c8",
   "metadata": {},
   "outputs": [
    {
     "data": {
      "text/plain": [
       "set()"
      ]
     },
     "execution_count": 71,
     "metadata": {},
     "output_type": "execute_result"
    }
   ],
   "source": [
    "set1"
   ]
  },
  {
   "cell_type": "code",
   "execution_count": 72,
   "id": "5c5ff6ab",
   "metadata": {},
   "outputs": [],
   "source": [
    "set2.clear()"
   ]
  },
  {
   "cell_type": "code",
   "execution_count": 73,
   "id": "9e82e6da",
   "metadata": {},
   "outputs": [
    {
     "data": {
      "text/plain": [
       "set()"
      ]
     },
     "execution_count": 73,
     "metadata": {},
     "output_type": "execute_result"
    }
   ],
   "source": [
    "set2"
   ]
  },
  {
   "cell_type": "code",
   "execution_count": null,
   "id": "e1c8fb7e",
   "metadata": {},
   "outputs": [],
   "source": []
  },
  {
   "cell_type": "markdown",
   "id": "34f9124b",
   "metadata": {},
   "source": [
    "#### Dictionary\n",
    "\n",
    "<li>A dictionary is a collection which is ordered, changeable and do not allow duplicates.</li>\n",
    "<li>A dictionary is a collection of keys values, used to store data values.</li>\n",
    "<li>In Python, a dictionary can be created by placing a sequence of elements within curly {} braces, separated by ‘comma’.</li>\n",
    "<li>Dictionary holds pairs of values, one being the Key and the other is value associated with a particular key.</li> \n",
    "<li>Values in a dictionary can be of any data type and can be duplicated, whereas keys can’t be repeated and must be immutable.</li>\n",
    "<li>Dictionary keys are case sensitive, the same name but different cases of Key will be treated differently.</li> "
   ]
  },
  {
   "cell_type": "code",
   "execution_count": 8,
   "id": "84de8648",
   "metadata": {},
   "outputs": [],
   "source": [
    "dict1 = {\"fname\": \"Prabhat\", \"lname\": \"Ale\", \"Adress\": 'Butwal', \n",
    "         'Education': 'B.Sc.Cs.It', 'age': 24, 'height': 1.58}"
   ]
  },
  {
   "cell_type": "code",
   "execution_count": 9,
   "id": "fb3aaea5",
   "metadata": {},
   "outputs": [
    {
     "name": "stdout",
     "output_type": "stream",
     "text": [
      "{'fname': 'Prabhat', 'lname': 'Ale', 'Adress': 'Butwal', 'Education': 'B.Sc.Cs.It', 'age': 24, 'height': 1.58}\n",
      "<class 'dict'>\n"
     ]
    }
   ],
   "source": [
    "print(dict1)\n",
    "print(type(dict1))"
   ]
  },
  {
   "cell_type": "code",
   "execution_count": 10,
   "id": "9675c113",
   "metadata": {},
   "outputs": [
    {
     "data": {
      "text/plain": [
       "'Prabhat'"
      ]
     },
     "execution_count": 10,
     "metadata": {},
     "output_type": "execute_result"
    }
   ],
   "source": [
    "dict1['fname']"
   ]
  },
  {
   "cell_type": "code",
   "execution_count": 11,
   "id": "6030f45d",
   "metadata": {},
   "outputs": [
    {
     "data": {
      "text/plain": [
       "'Butwal'"
      ]
     },
     "execution_count": 11,
     "metadata": {},
     "output_type": "execute_result"
    }
   ],
   "source": [
    "dict1['Adress']"
   ]
  },
  {
   "cell_type": "code",
   "execution_count": 12,
   "id": "387e7959",
   "metadata": {},
   "outputs": [
    {
     "data": {
      "text/plain": [
       "'B.Sc.Cs.It'"
      ]
     },
     "execution_count": 12,
     "metadata": {},
     "output_type": "execute_result"
    }
   ],
   "source": [
    "dict1['Education']"
   ]
  },
  {
   "cell_type": "code",
   "execution_count": 13,
   "id": "92a90dc7",
   "metadata": {},
   "outputs": [
    {
     "data": {
      "text/plain": [
       "dict_keys(['fname', 'lname', 'Adress', 'Education', 'age', 'height'])"
      ]
     },
     "execution_count": 13,
     "metadata": {},
     "output_type": "execute_result"
    }
   ],
   "source": [
    "dict1.keys()"
   ]
  },
  {
   "cell_type": "code",
   "execution_count": 14,
   "id": "2e89be1f",
   "metadata": {},
   "outputs": [
    {
     "data": {
      "text/plain": [
       "dict_values(['Prabhat', 'Ale', 'Butwal', 'B.Sc.Cs.It', 24, 1.58])"
      ]
     },
     "execution_count": 14,
     "metadata": {},
     "output_type": "execute_result"
    }
   ],
   "source": [
    "dict1.values()"
   ]
  },
  {
   "cell_type": "markdown",
   "id": "a7109244",
   "metadata": {},
   "source": [
    "#### Question\n",
    "\n",
    "<li>Map content ratings to their corresponding numbers by recreating the dictionary above: <b>{'4+': 4433, '9+': 987, '12+': 1155, '17+': 622}.</b></li>\n",
    "<li>Assign the dictionary to a variable named content_ratings.</li>\n",
    "<li>Print content_ratings, and examine the output carefully.</li>"
   ]
  },
  {
   "cell_type": "code",
   "execution_count": 15,
   "id": "da52559a",
   "metadata": {},
   "outputs": [],
   "source": [
    "content_ratings = {\"4+\": 4433, \"9+\": 987, '12+': 1155, '17+': 622}"
   ]
  },
  {
   "cell_type": "code",
   "execution_count": 16,
   "id": "37a4eb0b",
   "metadata": {},
   "outputs": [
    {
     "name": "stdout",
     "output_type": "stream",
     "text": [
      "{'4+': 4433, '9+': 987, '12+': 1155, '17+': 622}\n"
     ]
    }
   ],
   "source": [
    "print(content_ratings)"
   ]
  },
  {
   "cell_type": "markdown",
   "id": "a18e42fa",
   "metadata": {},
   "source": [
    "#### Indexing & Accessing Elements In A Dictionary"
   ]
  },
  {
   "cell_type": "code",
   "execution_count": 20,
   "id": "a5f1c6d4",
   "metadata": {},
   "outputs": [
    {
     "data": {
      "text/plain": [
       "987"
      ]
     },
     "execution_count": 20,
     "metadata": {},
     "output_type": "execute_result"
    }
   ],
   "source": [
    "content_ratings['9+']"
   ]
  },
  {
   "cell_type": "code",
   "execution_count": 21,
   "id": "bf0c74ae",
   "metadata": {},
   "outputs": [
    {
     "data": {
      "text/plain": [
       "dict_keys(['4+', '9+', '12+', '17+'])"
      ]
     },
     "execution_count": 21,
     "metadata": {},
     "output_type": "execute_result"
    }
   ],
   "source": [
    "content_ratings.keys()"
   ]
  },
  {
   "cell_type": "code",
   "execution_count": 22,
   "id": "1734bfc5",
   "metadata": {},
   "outputs": [
    {
     "data": {
      "text/plain": [
       "dict_values([4433, 987, 1155, 622])"
      ]
     },
     "execution_count": 22,
     "metadata": {},
     "output_type": "execute_result"
    }
   ],
   "source": [
    "content_ratings.values()"
   ]
  },
  {
   "cell_type": "code",
   "execution_count": null,
   "id": "ff1808b3",
   "metadata": {},
   "outputs": [],
   "source": []
  },
  {
   "cell_type": "markdown",
   "id": "bccb9a33",
   "metadata": {},
   "source": [
    "#### Question\n",
    "<li>Retrieve values from the content_ratings dictionary.</li>\n",
    "<li>Assign the value at index '9+' to a variable named over_9.</li>\n",
    "<li>Assign the value at index '17+' to a variable named over_17.</li>\n",
    "<li>Print over_9 and over_17.</li>"
   ]
  },
  {
   "cell_type": "code",
   "execution_count": 23,
   "id": "5819a160",
   "metadata": {},
   "outputs": [],
   "source": [
    "content_ratings = {\"4+\": 4433, \"9+\": 987, '12+': 1155, '17+': 622}"
   ]
  },
  {
   "cell_type": "code",
   "execution_count": 24,
   "id": "5aae8f32",
   "metadata": {},
   "outputs": [],
   "source": [
    "over_9 = content_ratings['9+']\n",
    "over_17 = content_ratings['17+']"
   ]
  },
  {
   "cell_type": "code",
   "execution_count": 25,
   "id": "6940788a",
   "metadata": {},
   "outputs": [
    {
     "name": "stdout",
     "output_type": "stream",
     "text": [
      "987\n",
      "622\n"
     ]
    }
   ],
   "source": [
    "print(over_9)\n",
    "print(over_17)"
   ]
  },
  {
   "cell_type": "markdown",
   "id": "d1a4174d",
   "metadata": {},
   "source": [
    "#### Dictionaries Within A Dictionary\n",
    "\n",
    "<li> We can also create a dictionary within a dictionary.</li>"
   ]
  },
  {
   "cell_type": "code",
   "execution_count": 27,
   "id": "5d0d3eb0",
   "metadata": {},
   "outputs": [],
   "source": [
    "student_details = {'Dict1': {'name': 'Prabhat Ale', 'address': 'Butwal', 'age': 23},\n",
    "'Dict2':{'name': 'Sunil Ghimire', 'address': 'Kathmandu', 'age': 24}\n",
    "}"
   ]
  },
  {
   "cell_type": "code",
   "execution_count": 28,
   "id": "43bd69a2",
   "metadata": {},
   "outputs": [
    {
     "name": "stdout",
     "output_type": "stream",
     "text": [
      "{'Dict1': {'name': 'Prabhat Ale', 'address': 'Butwal', 'age': 23}, 'Dict2': {'name': 'Sunil Ghimire', 'address': 'Kathmandu', 'age': 24}}\n"
     ]
    }
   ],
   "source": [
    "print(student_details)"
   ]
  },
  {
   "cell_type": "markdown",
   "id": "8802c750",
   "metadata": {},
   "source": [
    "#### Accessing a dictionary and its elements in Dictionary loops"
   ]
  },
  {
   "cell_type": "code",
   "execution_count": 29,
   "id": "aba818ea",
   "metadata": {},
   "outputs": [
    {
     "name": "stdout",
     "output_type": "stream",
     "text": [
      "{'name': 'Prabhat Ale', 'address': 'Butwal', 'age': 23}\n"
     ]
    }
   ],
   "source": [
    "prabhat_details = student_details['Dict1']\n",
    "print(prabhat_details)"
   ]
  },
  {
   "cell_type": "code",
   "execution_count": 30,
   "id": "356fb768",
   "metadata": {},
   "outputs": [
    {
     "name": "stdout",
     "output_type": "stream",
     "text": [
      "{'name': 'Sunil Ghimire', 'address': 'Kathmandu', 'age': 24}\n"
     ]
    }
   ],
   "source": [
    "sunil_details = student_details['Dict2']\n",
    "print(sunil_details)"
   ]
  },
  {
   "cell_type": "code",
   "execution_count": 31,
   "id": "8895e406",
   "metadata": {},
   "outputs": [
    {
     "data": {
      "text/plain": [
       "'Kathmandu'"
      ]
     },
     "execution_count": 31,
     "metadata": {},
     "output_type": "execute_result"
    }
   ],
   "source": [
    "sunil_details['address']"
   ]
  },
  {
   "cell_type": "code",
   "execution_count": 32,
   "id": "4412103e",
   "metadata": {},
   "outputs": [
    {
     "data": {
      "text/plain": [
       "'Butwal'"
      ]
     },
     "execution_count": 32,
     "metadata": {},
     "output_type": "execute_result"
    }
   ],
   "source": [
    "prabhat_details['address']"
   ]
  },
  {
   "cell_type": "code",
   "execution_count": 33,
   "id": "b02b2c07",
   "metadata": {},
   "outputs": [
    {
     "data": {
      "text/plain": [
       "23"
      ]
     },
     "execution_count": 33,
     "metadata": {},
     "output_type": "execute_result"
    }
   ],
   "source": [
    "student_details['Dict1']['age']"
   ]
  },
  {
   "cell_type": "code",
   "execution_count": 34,
   "id": "0f8deadf",
   "metadata": {},
   "outputs": [
    {
     "data": {
      "text/plain": [
       "24"
      ]
     },
     "execution_count": 34,
     "metadata": {},
     "output_type": "execute_result"
    }
   ],
   "source": [
    "student_details['Dict2']['age']"
   ]
  },
  {
   "cell_type": "markdown",
   "id": "ab15c2cc",
   "metadata": {},
   "source": [
    "#### Alternative Methods For Creating A Dictionary\n",
    "\n",
    "\n",
    "**Alternatively, we can create a dictionary and populate it with values by following these steps:**\n",
    "<ol>\n",
    "    <li>Create an empty dictionary.</li>\n",
    "    <li>Add values one by one to that empty dictionary.</li>\n",
    "<li>Adding a value to a dictionary follows the pattern dictionary_name[index] = value. To add a value 24 with an index 'Prabhat' to a dictionary named age, we need to use the code age['Prabhat'] = 24.</li>"
   ]
  },
  {
   "cell_type": "code",
   "execution_count": null,
   "id": "a1a7fbbc",
   "metadata": {},
   "outputs": [],
   "source": [
    "{'name': 'Sunil Ghimire', 'address': 'Kathmandu', 'age': 24}\n"
   ]
  },
  {
   "cell_type": "code",
   "execution_count": 35,
   "id": "a35071d4",
   "metadata": {},
   "outputs": [],
   "source": [
    "dict2 = {}"
   ]
  },
  {
   "cell_type": "code",
   "execution_count": 36,
   "id": "6fb8f704",
   "metadata": {},
   "outputs": [],
   "source": [
    "dict2['name'] = 'Prabhat Ale'"
   ]
  },
  {
   "cell_type": "code",
   "execution_count": 37,
   "id": "ef695ee0",
   "metadata": {},
   "outputs": [
    {
     "data": {
      "text/plain": [
       "{'name': 'Prabhat Ale'}"
      ]
     },
     "execution_count": 37,
     "metadata": {},
     "output_type": "execute_result"
    }
   ],
   "source": [
    "dict2"
   ]
  },
  {
   "cell_type": "code",
   "execution_count": 38,
   "id": "0e91e3b5",
   "metadata": {},
   "outputs": [],
   "source": [
    "dict2['address'] = 'Butwal'"
   ]
  },
  {
   "cell_type": "code",
   "execution_count": 39,
   "id": "7ccf5dd5",
   "metadata": {},
   "outputs": [
    {
     "data": {
      "text/plain": [
       "{'name': 'Prabhat Ale', 'address': 'Butwal'}"
      ]
     },
     "execution_count": 39,
     "metadata": {},
     "output_type": "execute_result"
    }
   ],
   "source": [
    "dict2"
   ]
  },
  {
   "cell_type": "code",
   "execution_count": 40,
   "id": "f461b3dd",
   "metadata": {},
   "outputs": [],
   "source": [
    "dict2['age'] = 24"
   ]
  },
  {
   "cell_type": "code",
   "execution_count": 41,
   "id": "a95f633f",
   "metadata": {},
   "outputs": [
    {
     "data": {
      "text/plain": [
       "{'name': 'Prabhat Ale', 'address': 'Butwal', 'age': 24}"
      ]
     },
     "execution_count": 41,
     "metadata": {},
     "output_type": "execute_result"
    }
   ],
   "source": [
    "dict2"
   ]
  },
  {
   "cell_type": "markdown",
   "id": "862d49c5",
   "metadata": {},
   "source": [
    "#### Question\n",
    "**Similarly, like we did above; first instantiate an empty dictionary and then create a dictionary with name fvt_colors where you have to specify the favourite colors for five different persons(students).**"
   ]
  },
  {
   "cell_type": "code",
   "execution_count": 42,
   "id": "aac9a488",
   "metadata": {},
   "outputs": [],
   "source": [
    "fvt_colors = {}"
   ]
  },
  {
   "cell_type": "code",
   "execution_count": 44,
   "id": "7122fbc5",
   "metadata": {},
   "outputs": [],
   "source": [
    "fvt_colors['Sashi'] = 'Black'\n",
    "fvt_colors['Devasish'] = 'White'\n",
    "fvt_colors['Nabin'] = 'Blue'\n",
    "fvt_colors['Shinjo'] = 'Purple'\n",
    "fvt_colors['Bishal'] = 'Yellow'"
   ]
  },
  {
   "cell_type": "code",
   "execution_count": 45,
   "id": "3848e824",
   "metadata": {},
   "outputs": [
    {
     "name": "stdout",
     "output_type": "stream",
     "text": [
      "{'Sashi': 'Black', 'Devasish': 'White', 'Nabin': 'Blue', 'Shinjo': 'Purple', 'Bishal': 'Yellow'}\n"
     ]
    }
   ],
   "source": [
    "print(fvt_colors)"
   ]
  },
  {
   "cell_type": "code",
   "execution_count": 47,
   "id": "ca1b8a97",
   "metadata": {},
   "outputs": [
    {
     "data": {
      "text/plain": [
       "dict_values(['Black', 'White', 'Blue', 'Purple', 'Yellow'])"
      ]
     },
     "execution_count": 47,
     "metadata": {},
     "output_type": "execute_result"
    }
   ],
   "source": [
    "fvt_colors.values()"
   ]
  },
  {
   "cell_type": "code",
   "execution_count": 46,
   "id": "69d71824",
   "metadata": {},
   "outputs": [
    {
     "data": {
      "text/plain": [
       "dict_keys(['Sashi', 'Devasish', 'Nabin', 'Shinjo', 'Bishal'])"
      ]
     },
     "execution_count": 46,
     "metadata": {},
     "output_type": "execute_result"
    }
   ],
   "source": [
    "fvt_colors.keys()"
   ]
  },
  {
   "cell_type": "markdown",
   "id": "6dea82d1",
   "metadata": {},
   "source": [
    "#### Rules Of A Dictionary\n",
    "<li>Dictionary values can be of any data type: strings, integers, floats, Booleans, lists, and even dictionaries.</li>\n",
    "<li>Dictionary keys can be almost any data type, except lists and dictionaries. If we use lists or dictionaries as dictionary keys, we'll get an error.</li>\n",
    "\n"
   ]
  },
  {
   "cell_type": "code",
   "execution_count": 48,
   "id": "79b00baa",
   "metadata": {},
   "outputs": [],
   "source": [
    "dict_rules1 = {'string': 'hello', 'integer': 5, 'float': 4.5,\n",
    "             'boolean': True, 'list': [1,2,3],\n",
    "             'dict': {'1+':2, '2+': 5}}"
   ]
  },
  {
   "cell_type": "code",
   "execution_count": 49,
   "id": "a1dd9c40",
   "metadata": {},
   "outputs": [
    {
     "name": "stdout",
     "output_type": "stream",
     "text": [
      "{'string': 'hello', 'integer': 5, 'float': 4.5, 'boolean': True, 'list': [1, 2, 3], 'dict': {'1+': 2, '2+': 5}}\n"
     ]
    }
   ],
   "source": [
    "print(dict_rules1)"
   ]
  },
  {
   "cell_type": "code",
   "execution_count": 50,
   "id": "08fb87b7",
   "metadata": {},
   "outputs": [],
   "source": [
    "dict_rules2 = {'string': 'hello', 5: 4, 4.5: 5.6, True: False}"
   ]
  },
  {
   "cell_type": "code",
   "execution_count": 51,
   "id": "842e8178",
   "metadata": {},
   "outputs": [
    {
     "name": "stdout",
     "output_type": "stream",
     "text": [
      "{'string': 'hello', 5: 4, 4.5: 5.6, True: False}\n"
     ]
    }
   ],
   "source": [
    "print(dict_rules2)"
   ]
  },
  {
   "cell_type": "code",
   "execution_count": null,
   "id": "f8ebdfd0",
   "metadata": {},
   "outputs": [],
   "source": []
  },
  {
   "cell_type": "code",
   "execution_count": null,
   "id": "f1e03e5e",
   "metadata": {},
   "outputs": [],
   "source": []
  },
  {
   "cell_type": "markdown",
   "id": "535fb5c0",
   "metadata": {},
   "source": [
    "#### Question\n",
    "**Check the following code and say whether it will give us an error or not. If it outputs to error then correct the code.**"
   ]
  },
  {
   "cell_type": "code",
   "execution_count": 52,
   "id": "5b2f4ff3",
   "metadata": {},
   "outputs": [
    {
     "ename": "TypeError",
     "evalue": "unhashable type: 'list'",
     "output_type": "error",
     "traceback": [
      "\u001b[1;31m---------------------------------------------------------------------------\u001b[0m",
      "\u001b[1;31mTypeError\u001b[0m                                 Traceback (most recent call last)",
      "Cell \u001b[1;32mIn[52], line 1\u001b[0m\n\u001b[1;32m----> 1\u001b[0m dictionary \u001b[38;5;241m=\u001b[39m {\u001b[38;5;241m4\u001b[39m: \u001b[38;5;124m'\u001b[39m\u001b[38;5;124mfour\u001b[39m\u001b[38;5;124m'\u001b[39m,\n\u001b[0;32m      2\u001b[0m \u001b[38;5;241m1.5\u001b[39m: \u001b[38;5;124m'\u001b[39m\u001b[38;5;124mone point five\u001b[39m\u001b[38;5;124m'\u001b[39m,\n\u001b[0;32m      3\u001b[0m \u001b[38;5;124m'\u001b[39m\u001b[38;5;124mstring_key\u001b[39m\u001b[38;5;124m'\u001b[39m: \u001b[38;5;124m'\u001b[39m\u001b[38;5;124mstring_value\u001b[39m\u001b[38;5;124m'\u001b[39m,\n\u001b[0;32m      4\u001b[0m \u001b[38;5;28;01mTrue\u001b[39;00m: \u001b[38;5;124m'\u001b[39m\u001b[38;5;124mTrue\u001b[39m\u001b[38;5;124m'\u001b[39m,\n\u001b[0;32m      5\u001b[0m [\u001b[38;5;241m1\u001b[39m,\u001b[38;5;241m2\u001b[39m,\u001b[38;5;241m3\u001b[39m]: \u001b[38;5;124m'\u001b[39m\u001b[38;5;124ma list\u001b[39m\u001b[38;5;124m'\u001b[39m,\n\u001b[0;32m      6\u001b[0m {\u001b[38;5;241m10\u001b[39m: \u001b[38;5;124m'\u001b[39m\u001b[38;5;124mten\u001b[39m\u001b[38;5;124m'\u001b[39m}: \u001b[38;5;124m'\u001b[39m\u001b[38;5;124ma dictionary\u001b[39m\u001b[38;5;124m'\u001b[39m}\n",
      "\u001b[1;31mTypeError\u001b[0m: unhashable type: 'list'"
     ]
    }
   ],
   "source": [
    "dictionary = {4: 'four',\n",
    "1.5: 'one point five',\n",
    "'string_key': 'string_value',\n",
    "True: 'True',\n",
    "[1,2,3]: 'a list',\n",
    "{10: 'ten'}: 'a dictionary'}"
   ]
  },
  {
   "cell_type": "code",
   "execution_count": 57,
   "id": "91c4e17c",
   "metadata": {},
   "outputs": [],
   "source": [
    "dictionary2 = {4: 'four',\n",
    "1.5: 'one point five',\n",
    "'string_key': 'string_value',\n",
    "True: 'True',\n",
    "'a list': [1,2,3],\n",
    "'a dictionary': {10: 'ten'}}"
   ]
  },
  {
   "cell_type": "markdown",
   "id": "11ebe7cd",
   "metadata": {},
   "source": [
    "#### Calculating the length of a dictionary.\n",
    "\n",
    "<li>This can be done by using a len() built in method. This will give you the number of key:value pairs that exists in a dictionary.</li>"
   ]
  },
  {
   "cell_type": "code",
   "execution_count": 58,
   "id": "d54c8bf2",
   "metadata": {},
   "outputs": [
    {
     "name": "stdout",
     "output_type": "stream",
     "text": [
      "9\n",
      "6\n"
     ]
    }
   ],
   "source": [
    "a = 'ababababa'\n",
    "b = [2.3,4,5,7,2,4]\n",
    "print(len(a))\n",
    "print(len(b))"
   ]
  },
  {
   "cell_type": "code",
   "execution_count": 60,
   "id": "f959db56",
   "metadata": {},
   "outputs": [
    {
     "data": {
      "text/plain": [
       "6"
      ]
     },
     "execution_count": 60,
     "metadata": {},
     "output_type": "execute_result"
    }
   ],
   "source": [
    "len(dictionary2)"
   ]
  },
  {
   "cell_type": "markdown",
   "id": "c9342bc4",
   "metadata": {},
   "source": [
    "#### Check the following code and say what output will it give. \n",
    "<li>What will be the length of the given dictionary?</li>\n",
    "<li>What will be the value of a dictionary?</li>"
   ]
  },
  {
   "cell_type": "code",
   "execution_count": 61,
   "id": "1bf98e2f",
   "metadata": {},
   "outputs": [],
   "source": [
    "d_1 = {'a_key': 1,\n",
    "       'another_key': 2,\n",
    "       'a_key': 3,\n",
    "       'yet_another_key': 4,\n",
    "       'a_key': 5}\n"
   ]
  },
  {
   "cell_type": "code",
   "execution_count": 62,
   "id": "3e499f1c",
   "metadata": {},
   "outputs": [
    {
     "name": "stdout",
     "output_type": "stream",
     "text": [
      "{'a_key': 5, 'another_key': 2, 'yet_another_key': 4}\n"
     ]
    }
   ],
   "source": [
    "print(d_1)"
   ]
  },
  {
   "cell_type": "code",
   "execution_count": 63,
   "id": "e872fee6",
   "metadata": {},
   "outputs": [
    {
     "name": "stdout",
     "output_type": "stream",
     "text": [
      "3\n"
     ]
    }
   ],
   "source": [
    "print(len(d_1))"
   ]
  },
  {
   "cell_type": "markdown",
   "id": "b8d096a4",
   "metadata": {},
   "source": [
    "#### Dictionary Methods\n",
    "<ol>\n",
    "    <li>clear() – Remove all the elements from the dictionary</li>\n",
    "    <li>copy() – Returns a copy of the dictionary</li>\n",
    "    <li>get() – Returns the value of specified key</li>\n",
    "    <li>items() – Returns a list containing a tuple for each key value pair</li>\n",
    "    <li>keys() – Returns a list containing dictionary’s keys</li>\n",
    "    <li>pop() – Remove the element with specified key</li>\n",
    "    <li>popitem() – Removes the last inserted key-value pair.</li>\n",
    "    <li>update() – Updates dictionary with specified key-value pairs</li>\n",
    "    <li>values() – Returns a list of all the values of dictionary.</li>\n",
    "</ol>"
   ]
  },
  {
   "cell_type": "code",
   "execution_count": 64,
   "id": "52d99f59",
   "metadata": {},
   "outputs": [],
   "source": [
    "dict1 = {'name': 'prabhat',\n",
    "         'age': 23,\n",
    "         'location': 'manigram',\n",
    "         'level': 'bachelor',\n",
    "         'faculty': 'B.Sc.Cs.It',\n",
    "         'weight': 70,\n",
    "         'height': '5ft 5inch'}"
   ]
  },
  {
   "cell_type": "code",
   "execution_count": 65,
   "id": "3605c0d4",
   "metadata": {},
   "outputs": [
    {
     "name": "stdout",
     "output_type": "stream",
     "text": [
      "{'name': 'prabhat', 'age': 23, 'location': 'manigram', 'level': 'bachelor', 'faculty': 'B.Sc.Cs.It', 'weight': 70, 'height': '5ft 5inch'}\n"
     ]
    }
   ],
   "source": [
    "print(dict1)"
   ]
  },
  {
   "cell_type": "code",
   "execution_count": 66,
   "id": "27652311",
   "metadata": {},
   "outputs": [
    {
     "name": "stdout",
     "output_type": "stream",
     "text": [
      "{'name': 'prabhat', 'age': 23, 'location': 'manigram', 'level': 'bachelor', 'faculty': 'B.Sc.Cs.It', 'weight': 70, 'height': '5ft 5inch'}\n"
     ]
    }
   ],
   "source": [
    "dict2 = dict1.copy()\n",
    "print(dict2)"
   ]
  },
  {
   "cell_type": "code",
   "execution_count": 67,
   "id": "578d9de3",
   "metadata": {},
   "outputs": [],
   "source": [
    "dict2.clear()"
   ]
  },
  {
   "cell_type": "code",
   "execution_count": 68,
   "id": "77a794c1",
   "metadata": {},
   "outputs": [
    {
     "name": "stdout",
     "output_type": "stream",
     "text": [
      "{}\n"
     ]
    }
   ],
   "source": [
    "print(dict2)"
   ]
  },
  {
   "cell_type": "code",
   "execution_count": 69,
   "id": "cc302676",
   "metadata": {},
   "outputs": [
    {
     "data": {
      "text/plain": [
       "70"
      ]
     },
     "execution_count": 69,
     "metadata": {},
     "output_type": "execute_result"
    }
   ],
   "source": [
    "dict1.get('weight')"
   ]
  },
  {
   "cell_type": "code",
   "execution_count": 70,
   "id": "9920301d",
   "metadata": {},
   "outputs": [
    {
     "data": {
      "text/plain": [
       "70"
      ]
     },
     "execution_count": 70,
     "metadata": {},
     "output_type": "execute_result"
    }
   ],
   "source": [
    "dict1['weight']"
   ]
  },
  {
   "cell_type": "code",
   "execution_count": 71,
   "id": "575f8e5b",
   "metadata": {},
   "outputs": [
    {
     "data": {
      "text/plain": [
       "dict_items([('name', 'prabhat'), ('age', 23), ('location', 'manigram'), ('level', 'bachelor'), ('faculty', 'B.Sc.Cs.It'), ('weight', 70), ('height', '5ft 5inch')])"
      ]
     },
     "execution_count": 71,
     "metadata": {},
     "output_type": "execute_result"
    }
   ],
   "source": [
    "dict1.items()"
   ]
  },
  {
   "cell_type": "code",
   "execution_count": 72,
   "id": "15fe3daf",
   "metadata": {},
   "outputs": [
    {
     "data": {
      "text/plain": [
       "dict_keys(['name', 'age', 'location', 'level', 'faculty', 'weight', 'height'])"
      ]
     },
     "execution_count": 72,
     "metadata": {},
     "output_type": "execute_result"
    }
   ],
   "source": [
    "dict1.keys()"
   ]
  },
  {
   "cell_type": "code",
   "execution_count": 73,
   "id": "db6de1b0",
   "metadata": {},
   "outputs": [
    {
     "data": {
      "text/plain": [
       "dict_values(['prabhat', 23, 'manigram', 'bachelor', 'B.Sc.Cs.It', 70, '5ft 5inch'])"
      ]
     },
     "execution_count": 73,
     "metadata": {},
     "output_type": "execute_result"
    }
   ],
   "source": [
    "dict1.values()"
   ]
  },
  {
   "cell_type": "code",
   "execution_count": 74,
   "id": "dc6d9174",
   "metadata": {},
   "outputs": [
    {
     "data": {
      "text/plain": [
       "'5ft 5inch'"
      ]
     },
     "execution_count": 74,
     "metadata": {},
     "output_type": "execute_result"
    }
   ],
   "source": [
    "dict1.pop('height')"
   ]
  },
  {
   "cell_type": "code",
   "execution_count": 75,
   "id": "37d68312",
   "metadata": {},
   "outputs": [
    {
     "name": "stdout",
     "output_type": "stream",
     "text": [
      "{'name': 'prabhat', 'age': 23, 'location': 'manigram', 'level': 'bachelor', 'faculty': 'B.Sc.Cs.It', 'weight': 70}\n"
     ]
    }
   ],
   "source": [
    "print(dict1)"
   ]
  },
  {
   "cell_type": "code",
   "execution_count": 76,
   "id": "9b67e846",
   "metadata": {},
   "outputs": [
    {
     "data": {
      "text/plain": [
       "('weight', 70)"
      ]
     },
     "execution_count": 76,
     "metadata": {},
     "output_type": "execute_result"
    }
   ],
   "source": [
    "dict1.popitem()"
   ]
  },
  {
   "cell_type": "code",
   "execution_count": 77,
   "id": "0a0f623e",
   "metadata": {},
   "outputs": [
    {
     "name": "stdout",
     "output_type": "stream",
     "text": [
      "{'name': 'prabhat', 'age': 23, 'location': 'manigram', 'level': 'bachelor', 'faculty': 'B.Sc.Cs.It'}\n"
     ]
    }
   ],
   "source": [
    "print(dict1)"
   ]
  },
  {
   "cell_type": "code",
   "execution_count": 78,
   "id": "c94d1d69",
   "metadata": {},
   "outputs": [],
   "source": [
    "dict1['age'] = 24"
   ]
  },
  {
   "cell_type": "code",
   "execution_count": 79,
   "id": "953090fa",
   "metadata": {},
   "outputs": [
    {
     "name": "stdout",
     "output_type": "stream",
     "text": [
      "{'name': 'prabhat', 'age': 24, 'location': 'manigram', 'level': 'bachelor', 'faculty': 'B.Sc.Cs.It'}\n"
     ]
    }
   ],
   "source": [
    "print(dict1)"
   ]
  },
  {
   "cell_type": "code",
   "execution_count": 80,
   "id": "d6546185",
   "metadata": {},
   "outputs": [],
   "source": [
    "dict1.update({\"location\": \"Butwal\"})"
   ]
  },
  {
   "cell_type": "code",
   "execution_count": 81,
   "id": "ae0bbd24",
   "metadata": {},
   "outputs": [
    {
     "name": "stdout",
     "output_type": "stream",
     "text": [
      "{'name': 'prabhat', 'age': 24, 'location': 'Butwal', 'level': 'bachelor', 'faculty': 'B.Sc.Cs.It'}\n"
     ]
    }
   ],
   "source": [
    "print(dict1)"
   ]
  },
  {
   "cell_type": "code",
   "execution_count": null,
   "id": "851727a4",
   "metadata": {},
   "outputs": [],
   "source": []
  }
 ],
 "metadata": {
  "kernelspec": {
   "display_name": "Python 3 (ipykernel)",
   "language": "python",
   "name": "python3"
  },
  "language_info": {
   "codemirror_mode": {
    "name": "ipython",
    "version": 3
   },
   "file_extension": ".py",
   "mimetype": "text/x-python",
   "name": "python",
   "nbconvert_exporter": "python",
   "pygments_lexer": "ipython3",
   "version": "3.8.0"
  }
 },
 "nbformat": 4,
 "nbformat_minor": 5
}
