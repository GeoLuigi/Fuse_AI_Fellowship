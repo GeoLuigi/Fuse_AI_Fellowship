{
 "cells": [
  {
   "cell_type": "markdown",
   "id": "c4ea5ac4",
   "metadata": {},
   "source": [
    "# Linear Regression\n",
    "<li>Linear regression is a statistical practice of calculating a straight line that specifies a mathematical relationship between two variables.</li>\n",
    "<li>Linear regression analysis is used to predict the value of a variable based on the value of another variable.</li>\n",
    "<li>The variable you want to predict is called the dependent variable.</li>\n",
    "<li>The variable you are using to predict the other variable's value is called the independent variable.</li>\n",
    "\n",
    "<ol>\n",
    "    <li>Simple Linear Regression</li>\n",
    "    <li>Multiple Linear Regression</li>\n",
    "</ol>"
   ]
  },
  {
   "cell_type": "markdown",
   "id": "6c4a51cc",
   "metadata": {},
   "source": [
    "## 1. Simple Linear Regression\n",
    "<li>Simple linear regression is a regression model that estimates the relationship between one independent and one dependent variable using a straight line.</li>\n",
    "<li>Both variables should be quantitative.</li>\n",
    "\n",
    "<li>The following equation is the general form of the simple linear regression model.</li>\n",
    "<code>\n",
    "    ^\n",
    "    y =B0 + B1x1 \n",
    "</code>\n",
    "Where    \n",
    "^\n",
    "y represents the predicted value, \n",
    "x1 represents the feature column we choose to use in our model.\n",
    "<li>These values are independent of the dataset.</li>\n",
    "<li>On the other hand, B0 and B1 represent the parameter values that are specific to the dataset.</li>\n",
    "<li>The goal of simple linear regression is to find the optimal B0 and B1 values that best describe the relationship between the feature and the target column.</li>\n"
   ]
  },
  {
   "cell_type": "markdown",
   "id": "0363f6dd",
   "metadata": {},
   "source": [
    "<li>The following diagram shows different simple linear regression models depending on the data:</li>\n",
    "\n",
    "![](images/regression_figure.png)\n",
    "\n",
    "<li>The first step is to select the feature x1, we want to use in our model.</li>\n",
    "<li>Once we select this feature, we can use scikit-learn to determine the optimal parameter values B0 and B1 based on the training data.</li>\n"
   ]
  },
  {
   "cell_type": "code",
   "execution_count": 41,
   "id": "80a58dde",
   "metadata": {},
   "outputs": [],
   "source": [
    "import numpy as np\n",
    "import pandas as pd\n",
    "import seaborn as sns\n",
    "import matplotlib.pyplot as plt\n",
    "\n"
   ]
  },
  {
   "cell_type": "code",
   "execution_count": 42,
   "id": "eb5c3a91",
   "metadata": {},
   "outputs": [
    {
     "data": {
      "text/plain": [
       "(200, 4)"
      ]
     },
     "execution_count": 42,
     "metadata": {},
     "output_type": "execute_result"
    }
   ],
   "source": [
    "df = pd.read_csv('csv_data/advertising.csv')\n",
    "df.shape"
   ]
  },
  {
   "cell_type": "code",
   "execution_count": 43,
   "id": "b6a0c2ee",
   "metadata": {},
   "outputs": [
    {
     "data": {
      "text/html": [
       "<div>\n",
       "<style scoped>\n",
       "    .dataframe tbody tr th:only-of-type {\n",
       "        vertical-align: middle;\n",
       "    }\n",
       "\n",
       "    .dataframe tbody tr th {\n",
       "        vertical-align: top;\n",
       "    }\n",
       "\n",
       "    .dataframe thead th {\n",
       "        text-align: right;\n",
       "    }\n",
       "</style>\n",
       "<table border=\"1\" class=\"dataframe\">\n",
       "  <thead>\n",
       "    <tr style=\"text-align: right;\">\n",
       "      <th></th>\n",
       "      <th>TV</th>\n",
       "      <th>Radio</th>\n",
       "      <th>Newspaper</th>\n",
       "      <th>Sales</th>\n",
       "    </tr>\n",
       "  </thead>\n",
       "  <tbody>\n",
       "    <tr>\n",
       "      <th>0</th>\n",
       "      <td>230.1</td>\n",
       "      <td>37.8</td>\n",
       "      <td>69.2</td>\n",
       "      <td>22.1</td>\n",
       "    </tr>\n",
       "    <tr>\n",
       "      <th>1</th>\n",
       "      <td>44.5</td>\n",
       "      <td>39.3</td>\n",
       "      <td>45.1</td>\n",
       "      <td>10.4</td>\n",
       "    </tr>\n",
       "    <tr>\n",
       "      <th>2</th>\n",
       "      <td>17.2</td>\n",
       "      <td>45.9</td>\n",
       "      <td>69.3</td>\n",
       "      <td>12.0</td>\n",
       "    </tr>\n",
       "    <tr>\n",
       "      <th>3</th>\n",
       "      <td>151.5</td>\n",
       "      <td>41.3</td>\n",
       "      <td>58.5</td>\n",
       "      <td>16.5</td>\n",
       "    </tr>\n",
       "    <tr>\n",
       "      <th>4</th>\n",
       "      <td>180.8</td>\n",
       "      <td>10.8</td>\n",
       "      <td>58.4</td>\n",
       "      <td>17.9</td>\n",
       "    </tr>\n",
       "  </tbody>\n",
       "</table>\n",
       "</div>"
      ],
      "text/plain": [
       "      TV  Radio  Newspaper  Sales\n",
       "0  230.1   37.8       69.2   22.1\n",
       "1   44.5   39.3       45.1   10.4\n",
       "2   17.2   45.9       69.3   12.0\n",
       "3  151.5   41.3       58.5   16.5\n",
       "4  180.8   10.8       58.4   17.9"
      ]
     },
     "execution_count": 43,
     "metadata": {},
     "output_type": "execute_result"
    }
   ],
   "source": [
    "df.head()"
   ]
  },
  {
   "cell_type": "code",
   "execution_count": 44,
   "id": "4f679fdc",
   "metadata": {},
   "outputs": [
    {
     "data": {
      "text/plain": [
       "<AxesSubplot: xlabel='TV', ylabel='Density'>"
      ]
     },
     "execution_count": 44,
     "metadata": {},
     "output_type": "execute_result"
    },
    {
     "data": {
      "image/png": "[encoded data removed]",
      "text/plain": [
       "<Figure size 640x480 with 1 Axes>"
      ]
     },
     "metadata": {},
     "output_type": "display_data"
    }
   ],
   "source": [
    "sns.kdeplot(df['TV'])"
   ]
  },
  {
   "cell_type": "code",
   "execution_count": 45,
   "id": "a49357a5",
   "metadata": {},
   "outputs": [
    {
     "data": {
      "image/png": "[encoded data removed]",
      "text/plain": [
       "<Figure size 800x600 with 1 Axes>"
      ]
     },
     "metadata": {},
     "output_type": "display_data"
    }
   ],
   "source": [
    "plt.figure(figsize = (8, 6))\n",
    "plt.scatter(x = df['TV'], y = df['Sales'], color = 'red')\n",
    "plt.xlabel('TV Advertising')\n",
    "plt.ylabel('Sales')\n",
    "plt.title('Sales For TV Advertising')\n",
    "plt.show()"
   ]
  },
  {
   "cell_type": "code",
   "execution_count": 77,
   "id": "90095aeb",
   "metadata": {},
   "outputs": [],
   "source": [
    "X = df[['TV']]\n",
    "y = df['Sales']"
   ]
  },
  {
   "cell_type": "code",
   "execution_count": 78,
   "id": "deb484b5",
   "metadata": {},
   "outputs": [],
   "source": [
    "from sklearn.model_selection import train_test_split"
   ]
  },
  {
   "cell_type": "code",
   "execution_count": 79,
   "id": "915dc7f5",
   "metadata": {},
   "outputs": [],
   "source": [
    "X_train, X_test, y_train, y_test = train_test_split(X, y, test_size = 0.2, random_state = 42)"
   ]
  },
  {
   "cell_type": "code",
   "execution_count": 80,
   "id": "f8a642f6",
   "metadata": {},
   "outputs": [
    {
     "data": {
      "text/plain": [
       "(160, 1)"
      ]
     },
     "execution_count": 80,
     "metadata": {},
     "output_type": "execute_result"
    }
   ],
   "source": [
    "X_train.shape"
   ]
  },
  {
   "cell_type": "code",
   "execution_count": 81,
   "id": "a241581f",
   "metadata": {},
   "outputs": [
    {
     "data": {
      "text/plain": [
       "(160,)"
      ]
     },
     "execution_count": 81,
     "metadata": {},
     "output_type": "execute_result"
    }
   ],
   "source": [
    "y_train.shape"
   ]
  },
  {
   "cell_type": "code",
   "execution_count": 82,
   "id": "8266a485",
   "metadata": {},
   "outputs": [
    {
     "data": {
      "text/plain": [
       "(40, 1)"
      ]
     },
     "execution_count": 82,
     "metadata": {},
     "output_type": "execute_result"
    }
   ],
   "source": [
    "X_test.shape"
   ]
  },
  {
   "cell_type": "code",
   "execution_count": 83,
   "id": "533728a2",
   "metadata": {},
   "outputs": [
    {
     "data": {
      "text/plain": [
       "(40,)"
      ]
     },
     "execution_count": 83,
     "metadata": {},
     "output_type": "execute_result"
    }
   ],
   "source": [
    "y_test.shape"
   ]
  },
  {
   "cell_type": "code",
   "execution_count": 84,
   "id": "22bda66e",
   "metadata": {},
   "outputs": [],
   "source": [
    "from sklearn.linear_model import LinearRegression"
   ]
  },
  {
   "cell_type": "code",
   "execution_count": 85,
   "id": "be339890",
   "metadata": {},
   "outputs": [],
   "source": [
    "lr = LinearRegression()"
   ]
  },
  {
   "cell_type": "code",
   "execution_count": 86,
   "id": "eea8082b",
   "metadata": {},
   "outputs": [
    {
     "data": {
      "text/html": [
       "<style>#sk-container-id-5 {color: black;background-color: white;}#sk-container-id-5 pre{padding: 0;}#sk-container-id-5 div.sk-toggleable {background-color: white;}#sk-container-id-5 label.sk-toggleable__label {cursor: pointer;display: block;width: 100%;margin-bottom: 0;padding: 0.3em;box-sizing: border-box;text-align: center;}#sk-container-id-5 label.sk-toggleable__label-arrow:before {content: \"▸\";float: left;margin-right: 0.25em;color: #696969;}#sk-container-id-5 label.sk-toggleable__label-arrow:hover:before {color: black;}#sk-container-id-5 div.sk-estimator:hover label.sk-toggleable__label-arrow:before {color: black;}#sk-container-id-5 div.sk-toggleable__content {max-height: 0;max-width: 0;overflow: hidden;text-align: left;background-color: #f0f8ff;}#sk-container-id-5 div.sk-toggleable__content pre {margin: 0.2em;color: black;border-radius: 0.25em;background-color: #f0f8ff;}#sk-container-id-5 input.sk-toggleable__control:checked~div.sk-toggleable__content {max-height: 200px;max-width: 100%;overflow: auto;}#sk-container-id-5 input.sk-toggleable__control:checked~label.sk-toggleable__label-arrow:before {content: \"▾\";}#sk-container-id-5 div.sk-estimator input.sk-toggleable__control:checked~label.sk-toggleable__label {background-color: #d4ebff;}#sk-container-id-5 div.sk-label input.sk-toggleable__control:checked~label.sk-toggleable__label {background-color: #d4ebff;}#sk-container-id-5 input.sk-hidden--visually {border: 0;clip: rect(1px 1px 1px 1px);clip: rect(1px, 1px, 1px, 1px);height: 1px;margin: -1px;overflow: hidden;padding: 0;position: absolute;width: 1px;}#sk-container-id-5 div.sk-estimator {font-family: monospace;background-color: #f0f8ff;border: 1px dotted black;border-radius: 0.25em;box-sizing: border-box;margin-bottom: 0.5em;}#sk-container-id-5 div.sk-estimator:hover {background-color: #d4ebff;}#sk-container-id-5 div.sk-parallel-item::after {content: \"\";width: 100%;border-bottom: 1px solid gray;flex-grow: 1;}#sk-container-id-5 div.sk-label:hover label.sk-toggleable__label {background-color: #d4ebff;}#sk-container-id-5 div.sk-serial::before {content: \"\";position: absolute;border-left: 1px solid gray;box-sizing: border-box;top: 0;bottom: 0;left: 50%;z-index: 0;}#sk-container-id-5 div.sk-serial {display: flex;flex-direction: column;align-items: center;background-color: white;padding-right: 0.2em;padding-left: 0.2em;position: relative;}#sk-container-id-5 div.sk-item {position: relative;z-index: 1;}#sk-container-id-5 div.sk-parallel {display: flex;align-items: stretch;justify-content: center;background-color: white;position: relative;}#sk-container-id-5 div.sk-item::before, #sk-container-id-5 div.sk-parallel-item::before {content: \"\";position: absolute;border-left: 1px solid gray;box-sizing: border-box;top: 0;bottom: 0;left: 50%;z-index: -1;}#sk-container-id-5 div.sk-parallel-item {display: flex;flex-direction: column;z-index: 1;position: relative;background-color: white;}#sk-container-id-5 div.sk-parallel-item:first-child::after {align-self: flex-end;width: 50%;}#sk-container-id-5 div.sk-parallel-item:last-child::after {align-self: flex-start;width: 50%;}#sk-container-id-5 div.sk-parallel-item:only-child::after {width: 0;}#sk-container-id-5 div.sk-dashed-wrapped {border: 1px dashed gray;margin: 0 0.4em 0.5em 0.4em;box-sizing: border-box;padding-bottom: 0.4em;background-color: white;}#sk-container-id-5 div.sk-label label {font-family: monospace;font-weight: bold;display: inline-block;line-height: 1.2em;}#sk-container-id-5 div.sk-label-container {text-align: center;}#sk-container-id-5 div.sk-container {/* jupyter's `normalize.less` sets `[hidden] { display: none; }` but bootstrap.min.css set `[hidden] { display: none !important; }` so we also need the `!important` here to be able to override the default hidden behavior on the sphinx rendered scikit-learn.org. See: https://github.com/scikit-learn/scikit-learn/issues/21755 */display: inline-block !important;position: relative;}#sk-container-id-5 div.sk-text-repr-fallback {display: none;}</style><div id=\"sk-container-id-5\" class=\"sk-top-container\"><div class=\"sk-text-repr-fallback\"><pre>LinearRegression()</pre><b>In a Jupyter environment, please rerun this cell to show the HTML representation or trust the notebook. <br />On GitHub, the HTML representation is unable to render, please try loading this page with nbviewer.org.</b></div><div class=\"sk-container\" hidden><div class=\"sk-item\"><div class=\"sk-estimator sk-toggleable\"><input class=\"sk-toggleable__control sk-hidden--visually\" id=\"sk-estimator-id-5\" type=\"checkbox\" checked><label for=\"sk-estimator-id-5\" class=\"sk-toggleable__label sk-toggleable__label-arrow\">LinearRegression</label><div class=\"sk-toggleable__content\"><pre>LinearRegression()</pre></div></div></div></div></div>"
      ],
      "text/plain": [
       "LinearRegression()"
      ]
     },
     "execution_count": 86,
     "metadata": {},
     "output_type": "execute_result"
    }
   ],
   "source": [
    "lr.fit(X_train, y_train)"
   ]
  },
  {
   "cell_type": "code",
   "execution_count": 87,
   "id": "b4f9bc61",
   "metadata": {},
   "outputs": [
    {
     "data": {
      "text/plain": [
       "array([0.05548294])"
      ]
     },
     "execution_count": 87,
     "metadata": {},
     "output_type": "execute_result"
    }
   ],
   "source": [
    "lr.coef_"
   ]
  },
  {
   "cell_type": "code",
   "execution_count": 88,
   "id": "bd8dad57",
   "metadata": {},
   "outputs": [
    {
     "data": {
      "text/plain": [
       "7.007108428241848"
      ]
     },
     "execution_count": 88,
     "metadata": {},
     "output_type": "execute_result"
    }
   ],
   "source": [
    "lr.intercept_"
   ]
  },
  {
   "cell_type": "code",
   "execution_count": 89,
   "id": "c7fd5acc",
   "metadata": {},
   "outputs": [
    {
     "name": "stdout",
     "output_type": "stream",
     "text": [
      "[16.06747317 17.84847567 23.25806271  7.65625887 19.23000098 11.17387752\n",
      " 19.03581067  9.78125562 19.34651516 16.72217191  8.75482116 10.12524988\n",
      " 20.01785878  7.30671633 14.74697911 16.45030549  7.41213392 17.97053815\n",
      " 11.18497411 20.17875932 19.74044406 10.76885203  9.1154603  20.92777906\n",
      " 10.83543156  9.97544593 18.85271696 14.73588252 11.84522114  7.47316516\n",
      " 18.09260063 10.84652815 18.04266598  7.94477018 22.58117079 20.22314567\n",
      "  9.68693462 22.19279018 13.50970946  8.53288939]\n"
     ]
    }
   ],
   "source": [
    "y_pred = lr.predict(X_test)\n",
    "print(y_pred)"
   ]
  },
  {
   "cell_type": "code",
   "execution_count": 90,
   "id": "eb28a3f0",
   "metadata": {},
   "outputs": [
    {
     "data": {
      "text/html": [
       "<div>\n",
       "<style scoped>\n",
       "    .dataframe tbody tr th:only-of-type {\n",
       "        vertical-align: middle;\n",
       "    }\n",
       "\n",
       "    .dataframe tbody tr th {\n",
       "        vertical-align: top;\n",
       "    }\n",
       "\n",
       "    .dataframe thead th {\n",
       "        text-align: right;\n",
       "    }\n",
       "</style>\n",
       "<table border=\"1\" class=\"dataframe\">\n",
       "  <thead>\n",
       "    <tr style=\"text-align: right;\">\n",
       "      <th></th>\n",
       "      <th>Actual</th>\n",
       "      <th>Prediction</th>\n",
       "    </tr>\n",
       "  </thead>\n",
       "  <tbody>\n",
       "    <tr>\n",
       "      <th>0</th>\n",
       "      <td>16.9</td>\n",
       "      <td>16.067473</td>\n",
       "    </tr>\n",
       "    <tr>\n",
       "      <th>1</th>\n",
       "      <td>22.4</td>\n",
       "      <td>17.848476</td>\n",
       "    </tr>\n",
       "    <tr>\n",
       "      <th>2</th>\n",
       "      <td>21.4</td>\n",
       "      <td>23.258063</td>\n",
       "    </tr>\n",
       "    <tr>\n",
       "      <th>3</th>\n",
       "      <td>7.3</td>\n",
       "      <td>7.656259</td>\n",
       "    </tr>\n",
       "    <tr>\n",
       "      <th>4</th>\n",
       "      <td>24.7</td>\n",
       "      <td>19.230001</td>\n",
       "    </tr>\n",
       "  </tbody>\n",
       "</table>\n",
       "</div>"
      ],
      "text/plain": [
       "   Actual  Prediction\n",
       "0    16.9   16.067473\n",
       "1    22.4   17.848476\n",
       "2    21.4   23.258063\n",
       "3     7.3    7.656259\n",
       "4    24.7   19.230001"
      ]
     },
     "execution_count": 90,
     "metadata": {},
     "output_type": "execute_result"
    }
   ],
   "source": [
    "test_vs_pred_df = pd.DataFrame({'Actual': list(y_test), 'Prediction': y_pred})\n",
    "test_vs_pred_df.head()"
   ]
  },
  {
   "cell_type": "code",
   "execution_count": 91,
   "id": "c7db97bd",
   "metadata": {},
   "outputs": [
    {
     "data": {
      "image/png": "[encoded data removed]",
      "text/plain": [
       "<Figure size 1000x800 with 1 Axes>"
      ]
     },
     "metadata": {},
     "output_type": "display_data"
    }
   ],
   "source": [
    "plt.figure(figsize = (10, 8))\n",
    "plt.scatter(x = X_train, y = y_train, color = 'blue', label = 'training_data')\n",
    "plt.scatter(x = X_test, y = y_test, color = 'green', label = 'testing_data')\n",
    "plt.plot(X_test, y_pred, color = 'red')\n",
    "plt.title(\"y = {} + {}*X\".format(lr.intercept_, lr.coef_[0]))\n",
    "plt.xlabel('TV Advertising Cost')\n",
    "plt.ylabel(\"Increase In Sales Due to TV Advertisement\")\n",
    "plt.legend()\n",
    "plt.show()"
   ]
  },
  {
   "cell_type": "markdown",
   "id": "ba2da846",
   "metadata": {},
   "source": [
    "## Cost/Loss Function For Linear Regression\n",
    "\n",
    "<li>Cost function measures the performance of a machine learning model for a data set.</li>\n",
    "<li>Cost function quantifies the error between predicted and expected values and presents that error in the form of a single real number.</li>\n",
    "<li>Depending on the problem, cost function can be formed in many different ways.</li>\n",
    "<li>The purpose of cost function is to be either minimized or maximized.</li>\n",
    "<li>For algorithms relying on gradient descent to optimize model parameters, every function has to be differentiable.</li>\n",
    "\n",
    "![](images/cost_function.png)"
   ]
  },
  {
   "cell_type": "markdown",
   "id": "31f6080c",
   "metadata": {},
   "source": [
    "### Optimization (Using Gradient Descent)\n",
    "<li>Gradient descent is an iterative optimization algorithm to find the minimum of a function. Here that function is our Loss Function.</li>\n",
    "\n",
    "![](images/gradient_descent.jpg)\n",
    "\n",
    "\n",
    "#### Steps For Finding Gradient Descent\n",
    "\n",
    "![](images/gradient_descent_steps.png)"
   ]
  },
  {
   "cell_type": "code",
   "execution_count": null,
   "id": "a3944be8",
   "metadata": {},
   "outputs": [],
   "source": []
  },
  {
   "cell_type": "markdown",
   "id": "d4a420dd",
   "metadata": {},
   "source": [
    "## Multiple Linear Regression\n",
    "\n",
    "<li>A multiple linear regression model allows us to capture the relationship between multiple feature columns and the target column.</li>\n",
    "<li>Here's what the formula looks like:\n",
    "<code>\n",
    "^\n",
    "y = B0 + B1x1 + B2x2 + ... + Bnxn\n",
    "</code>\n",
    "      ^\n",
    "<li>Where y represents the predicted value</li>\n",
    "<li>B0, B1, B2,..., Bn represents n parameter values that are specific to the dataset.</li>\n",
    "<li>The goal here is to find out the optimal values of B0, B1, B2 such that these features best represents the relationship between the data.</li>\n",
    "\n",
    "![](images/multiple_linear_regression.png)\n",
    "\n",
    "<li>The parameters values can be estimated using the following eqns:</li>\n",
    "\n",
    "![](images/mle_eqn.png)"
   ]
  },
  {
   "cell_type": "code",
   "execution_count": null,
   "id": "4257fd25",
   "metadata": {},
   "outputs": [],
   "source": []
  },
  {
   "cell_type": "code",
   "execution_count": null,
   "id": "73047176",
   "metadata": {},
   "outputs": [],
   "source": []
  },
  {
   "cell_type": "code",
   "execution_count": null,
   "id": "ac14cb72",
   "metadata": {},
   "outputs": [],
   "source": []
  },
  {
   "cell_type": "code",
   "execution_count": null,
   "id": "0c627fba",
   "metadata": {},
   "outputs": [],
   "source": []
  },
  {
   "cell_type": "code",
   "execution_count": null,
   "id": "5bc43bce",
   "metadata": {},
   "outputs": [],
   "source": []
  },
  {
   "cell_type": "code",
   "execution_count": null,
   "id": "7000c092",
   "metadata": {},
   "outputs": [],
   "source": []
  },
  {
   "cell_type": "code",
   "execution_count": null,
   "id": "e885f749",
   "metadata": {},
   "outputs": [],
   "source": []
  },
  {
   "cell_type": "code",
   "execution_count": null,
   "id": "86f10fc2",
   "metadata": {},
   "outputs": [],
   "source": []
  },
  {
   "cell_type": "markdown",
   "id": "3b66e28b",
   "metadata": {},
   "source": [
    "### Performance Metrics In Linear Regression\n",
    "\n",
    "<li>Mean Absolute Error</li>\n",
    "<li>Mean Squared Error</li>\n",
    "<li>Root Mean Squared Error</li>\n",
    "<li>R2</li>\n",
    "<li>Adjuster R2</li>"
   ]
  },
  {
   "cell_type": "code",
   "execution_count": null,
   "id": "06c4bdf9",
   "metadata": {},
   "outputs": [],
   "source": []
  },
  {
   "cell_type": "code",
   "execution_count": null,
   "id": "c3faa4fa",
   "metadata": {},
   "outputs": [],
   "source": []
  },
  {
   "cell_type": "code",
   "execution_count": null,
   "id": "7d2cbf12",
   "metadata": {},
   "outputs": [],
   "source": []
  },
  {
   "cell_type": "code",
   "execution_count": null,
   "id": "f6a2de10",
   "metadata": {},
   "outputs": [],
   "source": []
  },
  {
   "cell_type": "markdown",
   "id": "760e85e4",
   "metadata": {},
   "source": [
    "## Assumptions For Linear Regression\n",
    "<ol>\n",
    "<li><b>Linearity:</b> The relationship between the dependent variable and the independent variable(s) is linear.</li>\n",
    "<li><b>Normality:</b>The errors follow a normal distribution.</li>\n",
    "<li><b>No Multicollinearity:</b>The independent variables are not highly correlated with each other.</li>\n",
    "<li><b>Independence:</b>The observations are independent of each other.</li>\n",
    "<li><b>Homoesedasticity:</b> The variance of the errors is constant across all levels of the independent variable(s).</li>\n",
    "</ol>"
   ]
  },
  {
   "cell_type": "markdown",
   "id": "698289d6",
   "metadata": {},
   "source": [
    "### 1. Linearity\n",
    "<li>Linearity means that there should be a linear relationship between the independent variable(s) and the dependent variable.</li>\n",
    "<li>Tthe change in the dependent variable should be proportional to the change in the independent variable(s), with a constant slope and intercept.</li>\n",
    "\n",
    "**Example 1:**\n",
    "\n",
    "<li>For example, let's say you want to use linear regression to model the relationship between a person's height and their weight.</li>\n",
    "<li>If the relationship between height and weight is not linear, this would violate the assumption of linearity.</li>\n",
    "<li>In this case, the model may not be able to accurately capture the complex and nonlinear effects of height on weight.</li>\n",
    "<li>It may yield biased and inefficient estimates of the regression coefficients.</li>\n",
    "\n",
    "**Example 2:**\n",
    "\n",
    "<li>If you were studying the relationship between a company's sales revenue and its advertising budget.</li>\n",
    "<li>If the relationship between sales revenue and advertising budget is not linear, this would violate the assumption of linearity.</li>\n",
    "<li>In this case, the model may not be able to capture the diminishing or increasing returns to scale of the advertising budget on sales revenue.</li>\n",
    "<li>And it may yield unreliable and inaccurate predictions of the sales revenue for different levels of advertising budget.</li>\n",
    "\n",
    "**Conclusion**\n",
    "<li>Violation of the linearity assumption can lead to biased and inefficient estimates of the regression coefficients, and can affect the validity of the model.</li> \n",
    "<li>Therefore, it is important to check for linearity when using linear regression.</li>\n",
    "<li>For example, by plotting the dependent variable against each independent variable and examining the scatter plot or trend line.</li>\n"
   ]
  },
  {
   "cell_type": "code",
   "execution_count": null,
   "id": "816b343a",
   "metadata": {},
   "outputs": [],
   "source": []
  },
  {
   "cell_type": "code",
   "execution_count": null,
   "id": "b333346c",
   "metadata": {},
   "outputs": [],
   "source": []
  },
  {
   "cell_type": "code",
   "execution_count": null,
   "id": "c6e7b3a6",
   "metadata": {},
   "outputs": [],
   "source": []
  },
  {
   "cell_type": "markdown",
   "id": "56fb101c",
   "metadata": {},
   "source": [
    "### 2. Normality:\n",
    "<li>Normality is one of the assumptions of linear regression, which means that the errors (residuals) should follow a normal distribution.</li>\n",
    "<li>In other words, the distribution of the residuals should be symmetrical and bell-shaped around zero.</li>\n",
    "\n",
    "**Example 1:**\n",
    "<li>For example, let's say you want to use linear regression to model the relationship between a person's age and their cholesterol level.</li>\n",
    "<li>If the distribution of the residuals is skewed or has outliers, this would violate the assumption of normality.</li>\n",
    "<li>In this case, the model may be overestimating or underestimating the effect of age on cholesterol level.</li>\n",
    "\n",
    "**Example 2:**\n",
    "<li>Another example would be if you were studying the relationship between a company's advertising budget and its sales revenue.</li>\n",
    "<li>If the distribution of the residuals is not normal, this would violate the assumption of normality.</li>\n",
    "<li>In this case, the model may not accurately capture the nonlinearities and interactions between the variables.</li>\n",
    "<li>And as a result, the estimated confidence intervals and p-values may be inaccurate.</li>\n",
    "\n",
    "**Conclusion**\n",
    "\n",
    "<li>Violation of the normality assumption can lead to biased and inefficient estimates of the regression coefficients.</li> <li>It can also affect the validity of the statistical inferences and predictions based on the model.</li>\n",
    "<li>Therefore, it is important to check for normality when using linear regression.</li>\n",
    "<li>For example, by examining the histogram, Q-Q plot, or normal probability plot of the residuals, we can check normality.</li>"
   ]
  },
  {
   "cell_type": "code",
   "execution_count": null,
   "id": "e7c83e2b",
   "metadata": {},
   "outputs": [],
   "source": []
  },
  {
   "cell_type": "markdown",
   "id": "0afaba47",
   "metadata": {},
   "source": [
    "### 3. No multicollinearity\n",
    "\n",
    "<li>No multicollinearity is one of the assumptions of linear regression, which means that the independent variables should not be highly correlated with each other.</li>\n",
    "<li>In other words, there should be no perfect or near-perfect linear relationship between any two or more independent variables.</li>\n",
    "\n",
    "**Example 1:**\n",
    "\n",
    "<li>To model the relationship between a student's exam scores and their study time, their attendance rate, and their participation in a review session.</li>\n",
    "<li>If study time and attendance rate are highly correlated with each other, this would violate the assumption of no multicollinearity.</li>\n",
    "<li>In this case, the model may not be able to distinguish between the effects of study time and attendance rate on the exam scores.</li> \n",
    "<li>And as a result, the estimated regression coefficients and their standard errors may be unstable or even impossible to calculate.</li>\n",
    "\n",
    "**Example2:**\n",
    "\n",
    "<li>Another example would be if you were studying the relationship between a car's fuel efficiency and its engine size, weight, and horsepower.</li>\n",
    "<li>If engine size and horsepower are highly correlated with each other, this would violate the assumption of no multicollinearity.</li>\n",
    "<li>In this case, the model may not be able to separate the effects of engine size and horsepower on fuel efficiency.</li>\n",
    "<li>And as a result, the estimated regression coefficients and their standard errors may be unreliable or even misleading.</li>\n",
    "\n",
    "**Conlusion**\n",
    "\n",
    "<li>Violation of the no multicollinearity assumption can lead to unstable and inaccurate estimates of the regression coefficients.</li>\n",
    "<li>And as a result, it can affect the interpretation and prediction of the model.</li>\n",
    "<li>Therefore, it is important to check for multicollinearity when using linear regression.</li>\n",
    "\n",
    "<li>If the VIF values are greater than 5 or 10, this indicates problematic levels of multicollinearity.</li>\n",
    "<li>And you may need to consider removing one of the correlated features, transforming the data, or using a different model that is robust to multicollinearity.</li>\n"
   ]
  },
  {
   "cell_type": "code",
   "execution_count": null,
   "id": "6edda2e3",
   "metadata": {},
   "outputs": [],
   "source": []
  },
  {
   "cell_type": "code",
   "execution_count": null,
   "id": "30946b5f",
   "metadata": {},
   "outputs": [],
   "source": []
  },
  {
   "cell_type": "code",
   "execution_count": null,
   "id": "14e48f53",
   "metadata": {},
   "outputs": [],
   "source": []
  },
  {
   "cell_type": "code",
   "execution_count": null,
   "id": "9d4c5b81",
   "metadata": {},
   "outputs": [],
   "source": []
  },
  {
   "cell_type": "markdown",
   "id": "c4392de1",
   "metadata": {},
   "source": [
    "### 4.Independence: \n",
    "<li>Independence is one of the assumptions of linear regression, which means that the observations should be independent of each other. </li>\n",
    "<li>The value of the dependent variable for one observation should not be related to the value of the dependent variable for any other observation.</li>\n",
    "\n",
    "**Example:1**\n",
    "\n",
    "<li>Let's say you want to use linear regression to model the relationship between a person's weight and their height.</li>\n",
    "<li>If you collect data from a group of identical twins, the weight and height of one twin would be highly correlated with the weight and height of their sibling.</li>\n",
    "<li>This violates the assumption of independence. In this case, you would need to collect data from non-related individuals to ensure independence.</li>\n",
    "\n",
    "**Example:2**\n",
    "\n",
    "<li>Another example would be if you were studying the impact of a new medication on blood pressure.</li>\n",
    "<li>If you measured the blood pressure of the same person before and after taking the medication, the observations would not be independent.</li>\n",
    "<li>Because the values of blood pressure before and after the medication are related to each other for that person.</li>\n",
    "<li>In this case, you would need to collect data from different people who have a similar health condition and administer the medication to some of them.</li>\n",
    "\n",
    "**Conclusion**\n",
    "\n",
    "<li>If the Durbin-Watson test statistic is close to 2 (e.g., between 1.5 and 2.5), this suggests that the residuals are independent.</li>\n",
    "<li>If the test statistic is significantly less than 2 or significantly greater than 2, this suggests the presence of positive or negative autocorrelation, respectively.</li> \n"
   ]
  },
  {
   "cell_type": "code",
   "execution_count": null,
   "id": "ddc6407f",
   "metadata": {},
   "outputs": [],
   "source": []
  },
  {
   "cell_type": "code",
   "execution_count": null,
   "id": "c1f58d4b",
   "metadata": {},
   "outputs": [],
   "source": []
  },
  {
   "cell_type": "code",
   "execution_count": null,
   "id": "6bacbf92",
   "metadata": {},
   "outputs": [],
   "source": []
  },
  {
   "cell_type": "code",
   "execution_count": null,
   "id": "4c3b6b6a",
   "metadata": {},
   "outputs": [],
   "source": []
  },
  {
   "cell_type": "code",
   "execution_count": null,
   "id": "b1653de3",
   "metadata": {},
   "outputs": [],
   "source": []
  },
  {
   "cell_type": "code",
   "execution_count": null,
   "id": "abd83c63",
   "metadata": {},
   "outputs": [],
   "source": []
  },
  {
   "cell_type": "code",
   "execution_count": null,
   "id": "e3954ce8",
   "metadata": {},
   "outputs": [],
   "source": []
  },
  {
   "cell_type": "code",
   "execution_count": null,
   "id": "aa66afa1",
   "metadata": {},
   "outputs": [],
   "source": []
  },
  {
   "cell_type": "code",
   "execution_count": null,
   "id": "abd2a206",
   "metadata": {},
   "outputs": [],
   "source": []
  },
  {
   "cell_type": "markdown",
   "id": "d49171af",
   "metadata": {},
   "source": [
    "### 5. Homoscedasticity:\n",
    "<li>It is one of the assumptions of linear regression, which means that the variance of the errors is constant across all levels of the independent variable(s).</li> \n",
    "<li>In other words, the spread of the residuals should be similar across the range of the independent variable(s).</li>\n",
    "\n",
    "**Example1:**\n",
    "\n",
    "<li>For example, let's say you want to use linear regression to model the relationship between a student's study time and their exam scores.</li>\n",
    "<li>If the variance of the errors increases or decreases as the study time increases, this would violate the assumption of homoscedasticity.</li>\n",
    "<li>In this case, the model may overemphasize the effect of the study time on the exam scores for some values of study time.</li>\n",
    "\n",
    "\n",
    "**Example2:**\n",
    "\n",
    "<li>Another example would be if you were studying the relationship between a car's speed and its fuel efficiency.</li>\n",
    "<li>If the variance of the errors increases or decreases as the speed increases, this would violate the assumption of homoscedasticity.</li>\n",
    "<li>In this case, the model may overemphasize the effect of the speed on fuel efficiency for some speeds, while underemphasizing it for others.</li>\n",
    "\n",
    "**Conclusion**\n",
    "<li>Violation of the homoscedasticity assumption can lead to biased and inefficient estimates of the regression coefficients.</li>\n",
    "<li>And it can affect the validity of the statistical inferences and predictions based on the model.</li>\n",
    "<li>Therefore, it is important to check for homoscedasticity when using linear regression.</li>"
   ]
  },
  {
   "cell_type": "code",
   "execution_count": null,
   "id": "b4ff8b21",
   "metadata": {},
   "outputs": [],
   "source": []
  },
  {
   "cell_type": "code",
   "execution_count": null,
   "id": "08c6e406",
   "metadata": {},
   "outputs": [],
   "source": []
  },
  {
   "cell_type": "code",
   "execution_count": null,
   "id": "1425d942",
   "metadata": {},
   "outputs": [],
   "source": []
  },
  {
   "cell_type": "markdown",
   "id": "03a72e7a",
   "metadata": {},
   "source": []
  },
  {
   "cell_type": "code",
   "execution_count": null,
   "id": "4e58b176",
   "metadata": {},
   "outputs": [],
   "source": []
  },
  {
   "cell_type": "code",
   "execution_count": null,
   "id": "8a865d45",
   "metadata": {},
   "outputs": [],
   "source": []
  },
  {
   "cell_type": "code",
   "execution_count": null,
   "id": "6cc31c55",
   "metadata": {},
   "outputs": [],
   "source": []
  },
  {
   "cell_type": "code",
   "execution_count": null,
   "id": "b4b72495",
   "metadata": {},
   "outputs": [],
   "source": []
  },
  {
   "cell_type": "markdown",
   "id": "fb229458",
   "metadata": {},
   "source": []
  },
  {
   "cell_type": "markdown",
   "id": "4c505c95",
   "metadata": {},
   "source": []
  },
  {
   "cell_type": "code",
   "execution_count": null,
   "id": "2d01aa55",
   "metadata": {},
   "outputs": [],
   "source": [
    "# import numpy as np\n",
    "# import pandas as pd\n",
    "# import seaborn as sns\n",
    "# import scipy.stats as stats\n",
    "# import matplotlib.pyplot as plt\n",
    "# from sklearn.model_selection import train_test_split\n",
    "# from statsmodels.stats.stattools import durbin_watson\n",
    "# from statsmodels.stats.outliers_influence import variance_inflation_factor\n",
    "# from sklearn.linear_model import LinearRegression"
   ]
  }
 ],
 "metadata": {
  "kernelspec": {
   "display_name": "Python 3 (ipykernel)",
   "language": "python",
   "name": "python3"
  },
  "language_info": {
   "codemirror_mode": {
    "name": "ipython",
    "version": 3
   },
   "file_extension": ".py",
   "mimetype": "text/x-python",
   "name": "python",
   "nbconvert_exporter": "python",
   "pygments_lexer": "ipython3",
   "version": "3.8.0"
  }
 },
 "nbformat": 4,
 "nbformat_minor": 5
}
